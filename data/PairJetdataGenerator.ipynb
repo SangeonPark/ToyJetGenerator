{
 "cells": [
  {
   "cell_type": "code",
   "execution_count": 1,
   "metadata": {},
   "outputs": [],
   "source": [
    "%load_ext autoreload\n",
    "%autoreload 2"
   ]
  },
  {
   "cell_type": "code",
   "execution_count": 2,
   "metadata": {},
   "outputs": [],
   "source": [
    "import sys\n",
    "sys.path.insert(0,'..')\n",
    "from datagenerator import jet_data_generator \n",
    "import time\n",
    "import pickle\n",
    "import numpy as np\n",
    "from sklearn.model_selection import train_test_split\n",
    "from tqdm import tqdm\n",
    "import torch\n",
    "import os\n",
    "import pandas as pd"
   ]
  },
  {
   "cell_type": "code",
   "execution_count": 3,
   "metadata": {},
   "outputs": [],
   "source": [
    "sys.path.insert(0,'../training')\n",
    "from manifoldembedder import JetDataset, JetPredictDataset\n",
    "from torch.utils.data import DataLoader, random_split\n"
   ]
  },
  {
   "cell_type": "code",
   "execution_count": 4,
   "metadata": {},
   "outputs": [],
   "source": [
    "%matplotlib inline\n",
    "import matplotlib.pyplot as plt\n",
    "plt.rcParams[\"figure.figsize\"] = (6,6)\n",
    "plt.rcParams.update({'font.size': 14})"
   ]
  },
  {
   "cell_type": "markdown",
   "metadata": {},
   "source": [
    "# Pair Jet Data Generation"
   ]
  },
  {
   "cell_type": "code",
   "execution_count": 11,
   "metadata": {},
   "outputs": [
    {
     "name": "stderr",
     "output_type": "stream",
     "text": [
      "/tmp/ipykernel_2378910/3060656171.py:1: RuntimeWarning: divide by zero encountered in true_divide\n",
      "  np.array([1])/0\n"
     ]
    },
    {
     "data": {
      "text/plain": [
       "array([inf])"
      ]
     },
     "execution_count": 11,
     "metadata": {},
     "output_type": "execute_result"
    }
   ],
   "source": [
    "np.array([1])/0"
   ]
  },
  {
   "cell_type": "code",
   "execution_count": 5,
   "metadata": {},
   "outputs": [],
   "source": [
    "np.random.seed()"
   ]
  },
  {
   "cell_type": "code",
   "execution_count": 6,
   "metadata": {},
   "outputs": [],
   "source": [
    "type_arr = ['2p', '3p']"
   ]
  },
  {
   "cell_type": "code",
   "execution_count": 7,
   "metadata": {},
   "outputs": [
    {
     "data": {
      "text/plain": [
       "'2p'"
      ]
     },
     "execution_count": 7,
     "metadata": {},
     "output_type": "execute_result"
    }
   ],
   "source": [
    "type_arr[np.random.randint(0,2)]"
   ]
  },
  {
   "cell_type": "code",
   "execution_count": 8,
   "metadata": {},
   "outputs": [],
   "source": [
    "perm = np.random.permutation(10)"
   ]
  },
  {
   "cell_type": "code",
   "execution_count": 9,
   "metadata": {},
   "outputs": [
    {
     "data": {
      "text/plain": [
       "array([2, 1, 9, 8, 6, 0, 5, 4, 3, 7])"
      ]
     },
     "execution_count": 9,
     "metadata": {},
     "output_type": "execute_result"
    }
   ],
   "source": [
    "perm"
   ]
  },
  {
   "cell_type": "code",
   "execution_count": 10,
   "metadata": {},
   "outputs": [
    {
     "data": {
      "text/plain": [
       "1645220248.6788552"
      ]
     },
     "execution_count": 10,
     "metadata": {},
     "output_type": "execute_result"
    }
   ],
   "source": [
    "time.time()"
   ]
  },
  {
   "cell_type": "code",
   "execution_count": 11,
   "metadata": {},
   "outputs": [
    {
     "name": "stdout",
     "output_type": "stream",
     "text": [
      "this\n"
     ]
    }
   ],
   "source": [
    "insert = ['qcd','']\n",
    "print(f'this{insert[1]}')"
   ]
  },
  {
   "cell_type": "code",
   "execution_count": 12,
   "metadata": {},
   "outputs": [
    {
     "data": {
      "text/plain": [
       "0"
      ]
     },
     "execution_count": 12,
     "metadata": {},
     "output_type": "execute_result"
    }
   ],
   "source": [
    "np.random.randint(0,5)"
   ]
  },
  {
   "cell_type": "code",
   "execution_count": 13,
   "metadata": {},
   "outputs": [
    {
     "data": {
      "text/plain": [
       "''"
      ]
     },
     "execution_count": 13,
     "metadata": {},
     "output_type": "execute_result"
    }
   ],
   "source": [
    "os.path.join('')"
   ]
  },
  {
   "cell_type": "code",
   "execution_count": 6,
   "metadata": {},
   "outputs": [
    {
     "name": "stdout",
     "output_type": "stream",
     "text": [
      "/nobackup/users/sangeon/datasets/jetGridpack/rawjets/QCD/QCD.h5\n",
      "(1947882, 54) (1000000, 54) (200000, 54) (747882, 54)\n",
      "/nobackup/users/sangeon/datasets/jetGridpack/rawjets/2p/twoprong_80.h5\n",
      "(1754310, 54) (1000000, 54) (200000, 54) (554310, 54)\n",
      "/nobackup/users/sangeon/datasets/jetGridpack/rawjets/2p/twoprong_400.h5\n",
      "(1345592, 54) (1000000, 54) (200000, 54) (145592, 54)\n",
      "/nobackup/users/sangeon/datasets/jetGridpack/rawjets/3p/threeprong_80.h5\n",
      "(2508209, 54) (1000000, 54) (200000, 54) (1308209, 54)\n",
      "/nobackup/users/sangeon/datasets/jetGridpack/rawjets/3p/threeprong_400.h5\n",
      "(1382312, 54) (1000000, 54) (200000, 54) (182312, 54)\n"
     ]
    }
   ],
   "source": [
    "##### savedir   = '/nobackup/users/sangeon/datasets/jetGridpack/jetpairs/'\n",
    "rawjetdir = '/nobackup/users/sangeon/datasets/jetGridpack/rawjets/'\n",
    "type_arr  = [['QCD','QCD',''],['2p','twoprong','_80'],['2p','twoprong','_400'],['3p','threeprong','_80'],['3p','threeprong','_400']]\n",
    "len_train = 1000000\n",
    "len_half  = 500000\n",
    "start = time.time()\n",
    "for jettype in type_arr:\n",
    "\n",
    "\n",
    "    print(os.path.join(rawjetdir,jettype[0],f'{jettype[1]}{jettype[2]}.h5'))\n",
    "    df = pd.read_hdf(os.path.join(rawjetdir,jettype[0],f'{jettype[1]}{jettype[2]}.h5'))\n",
    "    dt = df.values\n",
    "    dt_train = dt[:1000000]\n",
    "    dt_val = dt[1000000:1200000]\n",
    "    dt_predict = dt[1200000:]\n",
    "    print(dt.shape, dt_train.shape, dt_val.shape, dt_predict.shape)\n",
    "    column_names = df.columns\n",
    "    df_train   = pd.DataFrame(dt_train, columns=column_names)\n",
    "    df_val   = pd.DataFrame(dt_val, columns=column_names)\n",
    "    df_predict     = pd.DataFrame(dt_predict , columns=column_names)\n",
    "    df_train.to_hdf(os.path.join(rawjetdir,jettype[0],f'{jettype[1]}{jettype[2]}_train.h5'),\"data\", mode='w',format='table')\n",
    "    df_val.to_hdf(os.path.join(rawjetdir,jettype[0],f'{jettype[1]}{jettype[2]}_val.h5'),\"data\", mode='w',format='table')\n",
    "    df_predict.to_hdf(os.path.join(rawjetdir,jettype[0],f'{jettype[1]}{jettype[2]}_predict.h5'),\"data\", mode='w',format='table')"
   ]
  },
  {
   "cell_type": "code",
   "execution_count": 42,
   "metadata": {},
   "outputs": [],
   "source": [
    "index = 0"
   ]
  },
  {
   "cell_type": "code",
   "execution_count": 5,
   "metadata": {},
   "outputs": [],
   "source": [
    "df = pd.read_hdf(\"/nobackup/users/sangeon/datasets/jetGridpack/rawjets/QCD/QCD_val.h5\")"
   ]
  },
  {
   "cell_type": "code",
   "execution_count": 6,
   "metadata": {},
   "outputs": [],
   "source": [
    "dt = df.values"
   ]
  },
  {
   "cell_type": "code",
   "execution_count": null,
   "metadata": {},
   "outputs": [],
   "source": []
  },
  {
   "cell_type": "code",
   "execution_count": 7,
   "metadata": {},
   "outputs": [
    {
     "data": {
      "text/plain": [
       "{'divide': 'warn', 'over': 'warn', 'under': 'ignore', 'invalid': 'warn'}"
      ]
     },
     "execution_count": 7,
     "metadata": {},
     "output_type": "execute_result"
    }
   ],
   "source": [
    "#np.seterr(all='raise')\n"
   ]
  },
  {
   "cell_type": "code",
   "execution_count": 7,
   "metadata": {},
   "outputs": [],
   "source": [
    "index = -1\n",
    "def process_jet_data_all(dt, num_part):\n",
    "    global index\n",
    "    def fix_phi(phi):\n",
    "        phi %= (2*np.pi)\n",
    "        if phi > np.pi:\n",
    "            phi -= 2*np.pi\n",
    "        return phi\n",
    "\n",
    "    def rotate_eig(evt, num_part):\n",
    "        global index\n",
    "        index += 1\n",
    "        #if (index > 26000) & (index < 27000):\n",
    "            #print(eig_vals)\n",
    "            #print(index)\n",
    "        new = np.copy(evt)\n",
    "        print(evt[:3*num_part].reshape(-1,3)[:, 1:3])\n",
    "        print(evt[:3*num_part].reshape(-1,3)[:, 0])\n",
    "        cov_mat = np.cov(evt[:3*num_part].reshape(-1,3)[:, 1:3], aweights=evt[:3*num_part].reshape(-1,3)[:, 0] , rowvar=False)\n",
    "        #print(new.shape)\n",
    "        print(cov_mat)\n",
    "        \n",
    "        if np.isnan(np.sum(cov_mat)):\n",
    "            return new\n",
    "        eig_vals, eig_vecs = np.linalg.eig(cov_mat)\n",
    "        \n",
    "        idx = eig_vals.argsort()[::1]   \n",
    "        eig_vals = eig_vals[idx]\n",
    "        eig_vecs = eig_vecs[:,idx]\n",
    "        new[:3*num_part].reshape(-1,3)[:, 1:3] = np.matmul(evt[:3*num_part].reshape(-1,3)[:, 1:3], eig_vecs)\n",
    "        \n",
    "        return new\n",
    "\n",
    "    def flip(evt, num_part):\n",
    "        global index\n",
    "        new = np.copy(evt)\n",
    "        upper_quadrant = np.where(evt[:3*num_part].reshape(-1,3)[:,2]>0)\n",
    "        lower_quadrant = np.where(evt[:3*num_part].reshape(-1,3)[:,2]<=0)\n",
    "        upper_sum = np.sum(evt[:3*num_part].reshape(-1,3)[upper_quadrant,0])\n",
    "        lower_sum = np.sum(evt[:3*num_part].reshape(-1,3)[lower_quadrant,0])\n",
    "        if lower_sum > upper_sum:\n",
    "            new[:3*num_part].reshape(-1,3)[:,2] *= -1\n",
    "        #if index % 1000 == 0:\n",
    "            #print(index)\n",
    "        index += 1\n",
    "        return new\n",
    "\n",
    "    def flip_eta(evt, num_part):\n",
    "        global index\n",
    "        new = np.copy(evt)\n",
    "        right_quadrant = np.where(evt[:3*num_part].reshape(-1,3)[:,1]>0)\n",
    "        left_quadrant = np.where(evt[:3*num_part].reshape(-1,3)[:,1]<=0)\n",
    "        right_sum = np.sum(evt[:3*num_part].reshape(-1,3)[right_quadrant,0])\n",
    "        left_sum = np.sum(evt[:3*num_part].reshape(-1,3)[left_quadrant,0])\n",
    "        if left_sum > right_sum:\n",
    "            new[:3*num_part].reshape(-1,3)[:,1] *= -1\n",
    "        #if index % 1000 == 0:\n",
    "            #print(index)\n",
    "        index += 1\n",
    "        return new   \n",
    "    \n",
    "    temp = np.copy(dt)\n",
    "    pt = temp[:,3*num_part]\n",
    "    eta = temp[:,3*num_part+1]\n",
    "    phi = temp[:,3*num_part+2]\n",
    "    fix_phi_vec = np.vectorize(fix_phi)\n",
    "    #print(np.where(pt==0))\n",
    "    temp[:,:3*num_part].reshape(-1, num_part, 3)[:,:,0] /= pt.reshape(-1,1)\n",
    "    #print(temp)\n",
    "    #temp[:,:3*num_part].reshape(-1, num_part, 3)[:,:,0] /= np.sum(temp[:,:3*num_part].reshape(-1, 16, 3)[:,:,0] ,axis=1).reshape(-1,1)\n",
    "    temp[:,:3*num_part].reshape(-1, num_part, 3)[:,:,1] -= eta.reshape(-1,1)\n",
    "    temp[:,:3*num_part].reshape(-1, num_part, 3)[:,:,2] = fix_phi_vec(temp[:,:3*num_part].reshape(-1, num_part, 3)[:,:,2] - phi.reshape(-1,1) )\n",
    "    temp2 = np.apply_along_axis(rotate_eig, 1, temp, num_part)\n",
    "    index = 0\n",
    "    temp3 = np.apply_along_axis(flip, 1, temp2, num_part)\n",
    "    index = 0\n",
    "    temp4 = np.apply_along_axis(flip_eta, 1, temp3, num_part)\n",
    "    index = 0\n",
    "    #temp2 = np.copy(temp)\n",
    "    return torch.FloatTensor(temp4[:,:3*num_part].reshape(-1, num_part, 3)[:, :, [1, 2, 0]])\n"
   ]
  },
  {
   "cell_type": "code",
   "execution_count": 17,
   "metadata": {},
   "outputs": [
    {
     "data": {
      "text/plain": [
       "array([ 6.05920601e+01,  1.17866457e-01,  5.11139393e-01,  5.53367004e+01,\n",
       "        1.29850328e-01,  4.81456339e-01,  5.03039284e+01,  1.18905075e-01,\n",
       "        5.13576090e-01,  3.93967209e+01,  1.81268811e-01,  4.96509016e-01,\n",
       "        3.73323441e+01,  1.41325578e-01,  4.89765584e-01,  3.54937401e+01,\n",
       "        1.52147293e-01,  4.43344414e-01,  3.45091934e+01,  1.09749414e-01,\n",
       "        4.83459294e-01,  3.00410881e+01,  1.12225875e-01,  4.47629243e-01,\n",
       "        2.71556911e+01,  1.12802595e-01,  4.94287461e-01,  1.70677814e+01,\n",
       "        2.38600269e-01,  3.51110548e-01,  1.68199043e+01,  4.94805761e-02,\n",
       "       -2.80564606e-01,  1.60703850e+01,  1.88001320e-01,  4.79018569e-01,\n",
       "        1.57881041e+01,  2.09237441e-01, -2.75128931e-01,  1.53967028e+01,\n",
       "        6.20064773e-02,  6.09561980e-01,  1.49796200e+01,  7.53848776e-02,\n",
       "       -2.32146725e-01,  1.40912046e+01,  2.15860590e-01,  6.17534757e-01,\n",
       "        6.29240454e+02,  1.40780445e-01,  4.99391809e-01,  8.59949985e+01,\n",
       "        2.21214665e+02,  2.21214665e+02])"
      ]
     },
     "execution_count": 17,
     "metadata": {},
     "output_type": "execute_result"
    }
   ],
   "source": [
    "dt[0]"
   ]
  },
  {
   "cell_type": "code",
   "execution_count": 9,
   "metadata": {},
   "outputs": [
    {
     "data": {
      "text/plain": [
       "array([ 7.65304260e+02, -1.64234269e+00, -2.53961420e+00,  0.00000000e+00,\n",
       "        0.00000000e+00,  0.00000000e+00,  0.00000000e+00,  0.00000000e+00,\n",
       "        0.00000000e+00,  0.00000000e+00,  0.00000000e+00,  0.00000000e+00,\n",
       "        0.00000000e+00,  0.00000000e+00,  0.00000000e+00,  0.00000000e+00,\n",
       "        0.00000000e+00,  0.00000000e+00,  0.00000000e+00,  0.00000000e+00,\n",
       "        0.00000000e+00,  0.00000000e+00,  0.00000000e+00,  0.00000000e+00,\n",
       "        0.00000000e+00,  0.00000000e+00,  0.00000000e+00,  0.00000000e+00,\n",
       "        0.00000000e+00,  0.00000000e+00,  0.00000000e+00,  0.00000000e+00,\n",
       "        0.00000000e+00,  0.00000000e+00,  0.00000000e+00,  0.00000000e+00,\n",
       "        0.00000000e+00,  0.00000000e+00,  0.00000000e+00,  0.00000000e+00,\n",
       "        0.00000000e+00,  0.00000000e+00,  0.00000000e+00,  0.00000000e+00,\n",
       "        0.00000000e+00,  0.00000000e+00,  0.00000000e+00,  0.00000000e+00,\n",
       "        7.65304260e+02, -1.64234269e+00, -2.53961420e+00, -1.86881236e-05,\n",
       "       -1.86881236e-05, -1.86881236e-05])"
      ]
     },
     "execution_count": 9,
     "metadata": {},
     "output_type": "execute_result"
    }
   ],
   "source": [
    "dt[26643]"
   ]
  },
  {
   "cell_type": "code",
   "execution_count": 8,
   "metadata": {},
   "outputs": [
    {
     "name": "stdout",
     "output_type": "stream",
     "text": [
      "[[0.         0.        ]\n",
      " [1.64234269 2.5396142 ]\n",
      " [1.64234269 2.5396142 ]\n",
      " [1.64234269 2.5396142 ]\n",
      " [1.64234269 2.5396142 ]\n",
      " [1.64234269 2.5396142 ]\n",
      " [1.64234269 2.5396142 ]\n",
      " [1.64234269 2.5396142 ]\n",
      " [1.64234269 2.5396142 ]\n",
      " [1.64234269 2.5396142 ]\n",
      " [1.64234269 2.5396142 ]\n",
      " [1.64234269 2.5396142 ]\n",
      " [1.64234269 2.5396142 ]\n",
      " [1.64234269 2.5396142 ]\n",
      " [1.64234269 2.5396142 ]\n",
      " [1.64234269 2.5396142 ]]\n",
      "[1. 0. 0. 0. 0. 0. 0. 0. 0. 0. 0. 0. 0. 0. 0. 0.]\n",
      "[[nan nan]\n",
      " [nan nan]]\n"
     ]
    },
    {
     "name": "stderr",
     "output_type": "stream",
     "text": [
      "/tmp/ipykernel_2379677/1030864080.py:19: RuntimeWarning: Degrees of freedom <= 0 for slice\n",
      "  cov_mat = np.cov(evt[:3*num_part].reshape(-1,3)[:, 1:3], aweights=evt[:3*num_part].reshape(-1,3)[:, 0] , rowvar=False)\n",
      "/nobackup/users/sangeon/condas/anaconda3/envs/studies/lib/python3.8/site-packages/numpy/lib/function_base.py:2542: RuntimeWarning: divide by zero encountered in true_divide\n",
      "  c *= np.true_divide(1, fact)\n",
      "/nobackup/users/sangeon/condas/anaconda3/envs/studies/lib/python3.8/site-packages/numpy/lib/function_base.py:2542: RuntimeWarning: invalid value encountered in multiply\n",
      "  c *= np.true_divide(1, fact)\n"
     ]
    },
    {
     "data": {
      "text/plain": [
       "tensor([[[-0.0000, -0.0000,  1.0000],\n",
       "         [-1.6423, -2.5396,  0.0000],\n",
       "         [-1.6423, -2.5396,  0.0000],\n",
       "         [-1.6423, -2.5396,  0.0000],\n",
       "         [-1.6423, -2.5396,  0.0000],\n",
       "         [-1.6423, -2.5396,  0.0000],\n",
       "         [-1.6423, -2.5396,  0.0000],\n",
       "         [-1.6423, -2.5396,  0.0000],\n",
       "         [-1.6423, -2.5396,  0.0000],\n",
       "         [-1.6423, -2.5396,  0.0000],\n",
       "         [-1.6423, -2.5396,  0.0000],\n",
       "         [-1.6423, -2.5396,  0.0000],\n",
       "         [-1.6423, -2.5396,  0.0000],\n",
       "         [-1.6423, -2.5396,  0.0000],\n",
       "         [-1.6423, -2.5396,  0.0000],\n",
       "         [-1.6423, -2.5396,  0.0000]]])"
      ]
     },
     "execution_count": 8,
     "metadata": {},
     "output_type": "execute_result"
    }
   ],
   "source": [
    "process_jet_data_all(dt[26643:26644],16)"
   ]
  },
  {
   "cell_type": "code",
   "execution_count": null,
   "metadata": {},
   "outputs": [
    {
     "name": "stdout",
     "output_type": "stream",
     "text": [
      "/nobackup/users/sangeon/datasets/jetGridpack/rawjets/2p/twoprong_400.h5\n",
      "/nobackup/users/sangeon/datasets/jetGridpack/rawjets/3p/threeprong_400.h5\n"
     ]
    },
    {
     "name": "stderr",
     "output_type": "stream",
     "text": [
      "100%|██████████| 2/2 [01:31<00:00, 45.52s/it]\n"
     ]
    },
    {
     "name": "stdout",
     "output_type": "stream",
     "text": [
      "/nobackup/users/sangeon/datasets/jetGridpack/rawjets/2p/twoprong_400.h5\n",
      "/nobackup/users/sangeon/datasets/jetGridpack/rawjets/QCD/QCD.h5\n"
     ]
    },
    {
     "name": "stderr",
     "output_type": "stream",
     "text": [
      "100%|██████████| 2/2 [01:31<00:00, 45.64s/it]\n"
     ]
    },
    {
     "name": "stdout",
     "output_type": "stream",
     "text": [
      "/nobackup/users/sangeon/datasets/jetGridpack/rawjets/2p/twoprong_80.h5\n",
      "/nobackup/users/sangeon/datasets/jetGridpack/rawjets/2p/twoprong_80.h5\n"
     ]
    },
    {
     "name": "stderr",
     "output_type": "stream",
     "text": [
      "100%|██████████| 2/2 [01:31<00:00, 45.53s/it]\n"
     ]
    },
    {
     "name": "stdout",
     "output_type": "stream",
     "text": [
      "/nobackup/users/sangeon/datasets/jetGridpack/rawjets/QCD/QCD.h5\n",
      "/nobackup/users/sangeon/datasets/jetGridpack/rawjets/QCD/QCD.h5\n"
     ]
    },
    {
     "name": "stderr",
     "output_type": "stream",
     "text": [
      "100%|██████████| 2/2 [01:31<00:00, 45.53s/it]\n"
     ]
    },
    {
     "name": "stdout",
     "output_type": "stream",
     "text": [
      "/nobackup/users/sangeon/datasets/jetGridpack/rawjets/3p/threeprong_80.h5\n",
      "/nobackup/users/sangeon/datasets/jetGridpack/rawjets/3p/threeprong_400.h5\n"
     ]
    },
    {
     "name": "stderr",
     "output_type": "stream",
     "text": [
      "100%|██████████| 2/2 [01:30<00:00, 45.41s/it]\n"
     ]
    },
    {
     "name": "stdout",
     "output_type": "stream",
     "text": [
      "/nobackup/users/sangeon/datasets/jetGridpack/rawjets/2p/twoprong_80.h5\n",
      "/nobackup/users/sangeon/datasets/jetGridpack/rawjets/3p/threeprong_80.h5\n"
     ]
    },
    {
     "name": "stderr",
     "output_type": "stream",
     "text": [
      "100%|██████████| 2/2 [01:31<00:00, 45.63s/it]\n"
     ]
    },
    {
     "name": "stdout",
     "output_type": "stream",
     "text": [
      "/nobackup/users/sangeon/datasets/jetGridpack/rawjets/2p/twoprong_80.h5\n",
      "/nobackup/users/sangeon/datasets/jetGridpack/rawjets/3p/threeprong_400.h5\n"
     ]
    },
    {
     "name": "stderr",
     "output_type": "stream",
     "text": [
      "100%|██████████| 2/2 [01:31<00:00, 45.66s/it]\n"
     ]
    },
    {
     "name": "stdout",
     "output_type": "stream",
     "text": [
      "/nobackup/users/sangeon/datasets/jetGridpack/rawjets/3p/threeprong_80.h5\n",
      "/nobackup/users/sangeon/datasets/jetGridpack/rawjets/3p/threeprong_80.h5\n"
     ]
    },
    {
     "name": "stderr",
     "output_type": "stream",
     "text": [
      "100%|██████████| 2/2 [01:31<00:00, 45.61s/it]\n"
     ]
    },
    {
     "name": "stdout",
     "output_type": "stream",
     "text": [
      "/nobackup/users/sangeon/datasets/jetGridpack/rawjets/3p/threeprong_400.h5\n",
      "/nobackup/users/sangeon/datasets/jetGridpack/rawjets/3p/threeprong_80.h5\n"
     ]
    },
    {
     "name": "stderr",
     "output_type": "stream",
     "text": [
      "100%|██████████| 2/2 [01:31<00:00, 45.57s/it]\n"
     ]
    },
    {
     "name": "stdout",
     "output_type": "stream",
     "text": [
      "/nobackup/users/sangeon/datasets/jetGridpack/rawjets/3p/threeprong_400.h5\n",
      "/nobackup/users/sangeon/datasets/jetGridpack/rawjets/QCD/QCD.h5\n"
     ]
    },
    {
     "name": "stderr",
     "output_type": "stream",
     "text": [
      "100%|██████████| 2/2 [01:31<00:00, 45.59s/it]\n"
     ]
    },
    {
     "name": "stdout",
     "output_type": "stream",
     "text": [
      "/nobackup/users/sangeon/datasets/jetGridpack/rawjets/3p/threeprong_400.h5\n",
      "/nobackup/users/sangeon/datasets/jetGridpack/rawjets/2p/twoprong_400.h5\n"
     ]
    },
    {
     "name": "stderr",
     "output_type": "stream",
     "text": [
      "100%|██████████| 2/2 [01:31<00:00, 45.54s/it]\n"
     ]
    },
    {
     "name": "stdout",
     "output_type": "stream",
     "text": [
      "/nobackup/users/sangeon/datasets/jetGridpack/rawjets/QCD/QCD.h5\n",
      "/nobackup/users/sangeon/datasets/jetGridpack/rawjets/QCD/QCD.h5\n"
     ]
    },
    {
     "name": "stderr",
     "output_type": "stream",
     "text": [
      "100%|██████████| 2/2 [01:31<00:00, 45.52s/it]\n"
     ]
    },
    {
     "name": "stdout",
     "output_type": "stream",
     "text": [
      "/nobackup/users/sangeon/datasets/jetGridpack/rawjets/3p/threeprong_80.h5\n",
      "/nobackup/users/sangeon/datasets/jetGridpack/rawjets/3p/threeprong_80.h5\n"
     ]
    },
    {
     "name": "stderr",
     "output_type": "stream",
     "text": [
      "100%|██████████| 2/2 [01:30<00:00, 45.47s/it]\n"
     ]
    },
    {
     "name": "stdout",
     "output_type": "stream",
     "text": [
      "/nobackup/users/sangeon/datasets/jetGridpack/rawjets/QCD/QCD.h5\n",
      "/nobackup/users/sangeon/datasets/jetGridpack/rawjets/3p/threeprong_80.h5\n"
     ]
    },
    {
     "name": "stderr",
     "output_type": "stream",
     "text": [
      "100%|██████████| 2/2 [01:31<00:00, 45.66s/it]\n"
     ]
    },
    {
     "name": "stdout",
     "output_type": "stream",
     "text": [
      "/nobackup/users/sangeon/datasets/jetGridpack/rawjets/2p/twoprong_80.h5\n",
      "/nobackup/users/sangeon/datasets/jetGridpack/rawjets/2p/twoprong_400.h5\n"
     ]
    },
    {
     "name": "stderr",
     "output_type": "stream",
     "text": [
      " 50%|█████     | 1/2 [00:45<00:45, 45.46s/it]"
     ]
    }
   ],
   "source": [
    "savedir   = '/nobackup/users/sangeon/datasets/jetGridpack/jetpairs/'\n",
    "rawjetdir = '/nobackup/users/sangeon/datasets/jetGridpack/rawjets/'\n",
    "type_arr  = [['QCD','QCD',''],['2p','twoprong','_80'],['2p','twoprong','_400'],['3p','threeprong','_80'],['3p','threeprong','_400']]\n",
    "len_train = 1000000\n",
    "len_half  = 500000\n",
    "start = time.time()\n",
    "for i in range(857,2000):\n",
    "    np.random.seed()\n",
    "    type_1 = type_arr[np.random.randint(0,5)]\n",
    "    np.random.seed()\n",
    "    type_2 = type_arr[np.random.randint(0,5)]\n",
    "\n",
    "    \n",
    "    df1 = pd.read_hdf(os.path.join(rawjetdir,type_1[0],f'{type_1[1]}{type_1[2]}.h5'))\n",
    "    df2 = pd.read_hdf(os.path.join(rawjetdir,type_2[0],f'{type_2[1]}{type_2[2]}.h5'))\n",
    "    A = df1.values\n",
    "    B = df2.values\n",
    "    \n",
    "    np.random.seed()\n",
    "    perm = np.random.permutation(len_train)\n",
    "    #print(A[perm[:5000]].shape)\n",
    "    #print(B[perm[5000:]].shape)\n",
    "    print(os.path.join(rawjetdir,type_1[0],f'{type_1[1]}{type_1[2]}.h5'))\n",
    "    print(os.path.join(rawjetdir,type_2[0],f'{type_2[1]}{type_2[2]}.h5'))\n",
    "    \n",
    "    train_set = JetDataset(False, None, False, A[perm[:10000]],B[perm[len_half:len_half+10000]],16)\n",
    "    torch.save(train_set, os.path.join(savedir,f'Gridpack_jetpair_train_16part_{i}.pt'))\n",
    "    \n",
    "end = time.time()\n",
    "print('total time', end-start)"
   ]
  },
  {
   "cell_type": "code",
   "execution_count": 5,
   "metadata": {},
   "outputs": [
    {
     "name": "stdout",
     "output_type": "stream",
     "text": [
      "['QCD', 'QCD', ''] ['QCD', 'QCD', '']\n",
      "/nobackup/users/sangeon/datasets/jetGridpack/rawjets/QCD/QCD_val.h5\n",
      "/nobackup/users/sangeon/datasets/jetGridpack/rawjets/QCD/QCD_val.h5\n"
     ]
    },
    {
     "name": "stderr",
     "output_type": "stream",
     "text": [
      "/home/sangeon/ToyJetGenerator/data/../training/manifoldembedder.py:269: RuntimeWarning: Degrees of freedom <= 0 for slice\n",
      "  cov_mat = np.cov(evt[:3*num_part].reshape(-1,3)[:, 1:3], aweights=evt[:3*num_part].reshape(-1,3)[:, 0] , rowvar=False)\n",
      "/nobackup/users/sangeon/condas/anaconda3/envs/studies/lib/python3.8/site-packages/numpy/lib/function_base.py:2542: RuntimeWarning: divide by zero encountered in true_divide\n",
      "  c *= np.true_divide(1, fact)\n",
      "/nobackup/users/sangeon/condas/anaconda3/envs/studies/lib/python3.8/site-packages/numpy/lib/function_base.py:2542: RuntimeWarning: invalid value encountered in multiply\n",
      "  c *= np.true_divide(1, fact)\n",
      "100%|██████████| 20/20 [12:55<00:00, 38.78s/it]\n"
     ]
    },
    {
     "name": "stdout",
     "output_type": "stream",
     "text": [
      "['QCD', 'QCD', ''] ['2p', 'twoprong', '_80']\n",
      "/nobackup/users/sangeon/datasets/jetGridpack/rawjets/QCD/QCD_val.h5\n",
      "/nobackup/users/sangeon/datasets/jetGridpack/rawjets/2p/twoprong_80_val.h5\n"
     ]
    },
    {
     "name": "stderr",
     "output_type": "stream",
     "text": [
      "100%|██████████| 20/20 [12:48<00:00, 38.45s/it]\n"
     ]
    },
    {
     "name": "stdout",
     "output_type": "stream",
     "text": [
      "['QCD', 'QCD', ''] ['2p', 'twoprong', '_400']\n",
      "/nobackup/users/sangeon/datasets/jetGridpack/rawjets/QCD/QCD_val.h5\n",
      "/nobackup/users/sangeon/datasets/jetGridpack/rawjets/2p/twoprong_400_val.h5\n"
     ]
    },
    {
     "name": "stderr",
     "output_type": "stream",
     "text": [
      "100%|██████████| 20/20 [12:49<00:00, 38.46s/it]\n"
     ]
    },
    {
     "name": "stdout",
     "output_type": "stream",
     "text": [
      "['QCD', 'QCD', ''] ['3p', 'threeprong', '_80']\n",
      "/nobackup/users/sangeon/datasets/jetGridpack/rawjets/QCD/QCD_val.h5\n",
      "/nobackup/users/sangeon/datasets/jetGridpack/rawjets/3p/threeprong_80_val.h5\n"
     ]
    },
    {
     "name": "stderr",
     "output_type": "stream",
     "text": [
      "100%|██████████| 20/20 [12:51<00:00, 38.55s/it]\n"
     ]
    },
    {
     "name": "stdout",
     "output_type": "stream",
     "text": [
      "['QCD', 'QCD', ''] ['3p', 'threeprong', '_400']\n",
      "/nobackup/users/sangeon/datasets/jetGridpack/rawjets/QCD/QCD_val.h5\n",
      "/nobackup/users/sangeon/datasets/jetGridpack/rawjets/3p/threeprong_400_val.h5\n"
     ]
    },
    {
     "name": "stderr",
     "output_type": "stream",
     "text": [
      "100%|██████████| 20/20 [12:49<00:00, 38.49s/it]\n"
     ]
    },
    {
     "name": "stdout",
     "output_type": "stream",
     "text": [
      "['2p', 'twoprong', '_80'] ['QCD', 'QCD', '']\n",
      "/nobackup/users/sangeon/datasets/jetGridpack/rawjets/2p/twoprong_80_val.h5\n",
      "/nobackup/users/sangeon/datasets/jetGridpack/rawjets/QCD/QCD_val.h5\n"
     ]
    },
    {
     "name": "stderr",
     "output_type": "stream",
     "text": [
      "100%|██████████| 20/20 [12:49<00:00, 38.49s/it]\n"
     ]
    },
    {
     "name": "stdout",
     "output_type": "stream",
     "text": [
      "['2p', 'twoprong', '_80'] ['2p', 'twoprong', '_80']\n",
      "/nobackup/users/sangeon/datasets/jetGridpack/rawjets/2p/twoprong_80_val.h5\n",
      "/nobackup/users/sangeon/datasets/jetGridpack/rawjets/2p/twoprong_80_val.h5\n"
     ]
    },
    {
     "name": "stderr",
     "output_type": "stream",
     "text": [
      "100%|██████████| 20/20 [12:49<00:00, 38.46s/it]\n"
     ]
    },
    {
     "name": "stdout",
     "output_type": "stream",
     "text": [
      "['2p', 'twoprong', '_80'] ['2p', 'twoprong', '_400']\n",
      "/nobackup/users/sangeon/datasets/jetGridpack/rawjets/2p/twoprong_80_val.h5\n",
      "/nobackup/users/sangeon/datasets/jetGridpack/rawjets/2p/twoprong_400_val.h5\n"
     ]
    },
    {
     "name": "stderr",
     "output_type": "stream",
     "text": [
      "100%|██████████| 20/20 [12:49<00:00, 38.48s/it]\n"
     ]
    },
    {
     "name": "stdout",
     "output_type": "stream",
     "text": [
      "['2p', 'twoprong', '_80'] ['3p', 'threeprong', '_80']\n",
      "/nobackup/users/sangeon/datasets/jetGridpack/rawjets/2p/twoprong_80_val.h5\n",
      "/nobackup/users/sangeon/datasets/jetGridpack/rawjets/3p/threeprong_80_val.h5\n"
     ]
    },
    {
     "name": "stderr",
     "output_type": "stream",
     "text": [
      "100%|██████████| 20/20 [12:49<00:00, 38.48s/it]\n"
     ]
    },
    {
     "name": "stdout",
     "output_type": "stream",
     "text": [
      "['2p', 'twoprong', '_80'] ['3p', 'threeprong', '_400']\n",
      "/nobackup/users/sangeon/datasets/jetGridpack/rawjets/2p/twoprong_80_val.h5\n",
      "/nobackup/users/sangeon/datasets/jetGridpack/rawjets/3p/threeprong_400_val.h5\n"
     ]
    },
    {
     "name": "stderr",
     "output_type": "stream",
     "text": [
      "100%|██████████| 20/20 [12:49<00:00, 38.46s/it]\n"
     ]
    },
    {
     "name": "stdout",
     "output_type": "stream",
     "text": [
      "['2p', 'twoprong', '_400'] ['QCD', 'QCD', '']\n",
      "/nobackup/users/sangeon/datasets/jetGridpack/rawjets/2p/twoprong_400_val.h5\n",
      "/nobackup/users/sangeon/datasets/jetGridpack/rawjets/QCD/QCD_val.h5\n"
     ]
    },
    {
     "name": "stderr",
     "output_type": "stream",
     "text": [
      "100%|██████████| 20/20 [12:49<00:00, 38.45s/it]\n"
     ]
    },
    {
     "name": "stdout",
     "output_type": "stream",
     "text": [
      "['2p', 'twoprong', '_400'] ['2p', 'twoprong', '_80']\n",
      "/nobackup/users/sangeon/datasets/jetGridpack/rawjets/2p/twoprong_400_val.h5\n",
      "/nobackup/users/sangeon/datasets/jetGridpack/rawjets/2p/twoprong_80_val.h5\n"
     ]
    },
    {
     "name": "stderr",
     "output_type": "stream",
     "text": [
      "100%|██████████| 20/20 [12:49<00:00, 38.49s/it]\n"
     ]
    },
    {
     "name": "stdout",
     "output_type": "stream",
     "text": [
      "['2p', 'twoprong', '_400'] ['2p', 'twoprong', '_400']\n",
      "/nobackup/users/sangeon/datasets/jetGridpack/rawjets/2p/twoprong_400_val.h5\n",
      "/nobackup/users/sangeon/datasets/jetGridpack/rawjets/2p/twoprong_400_val.h5\n"
     ]
    },
    {
     "name": "stderr",
     "output_type": "stream",
     "text": [
      "100%|██████████| 20/20 [12:49<00:00, 38.48s/it]\n"
     ]
    },
    {
     "name": "stdout",
     "output_type": "stream",
     "text": [
      "['2p', 'twoprong', '_400'] ['3p', 'threeprong', '_80']\n",
      "/nobackup/users/sangeon/datasets/jetGridpack/rawjets/2p/twoprong_400_val.h5\n",
      "/nobackup/users/sangeon/datasets/jetGridpack/rawjets/3p/threeprong_80_val.h5\n"
     ]
    },
    {
     "name": "stderr",
     "output_type": "stream",
     "text": [
      "100%|██████████| 20/20 [12:56<00:00, 38.83s/it]\n"
     ]
    },
    {
     "name": "stdout",
     "output_type": "stream",
     "text": [
      "['2p', 'twoprong', '_400'] ['3p', 'threeprong', '_400']\n",
      "/nobackup/users/sangeon/datasets/jetGridpack/rawjets/2p/twoprong_400_val.h5\n",
      "/nobackup/users/sangeon/datasets/jetGridpack/rawjets/3p/threeprong_400_val.h5\n"
     ]
    },
    {
     "name": "stderr",
     "output_type": "stream",
     "text": [
      "100%|██████████| 20/20 [14:28<00:00, 43.42s/it]\n"
     ]
    },
    {
     "name": "stdout",
     "output_type": "stream",
     "text": [
      "['3p', 'threeprong', '_80'] ['QCD', 'QCD', '']\n",
      "/nobackup/users/sangeon/datasets/jetGridpack/rawjets/3p/threeprong_80_val.h5\n",
      "/nobackup/users/sangeon/datasets/jetGridpack/rawjets/QCD/QCD_val.h5\n"
     ]
    },
    {
     "name": "stderr",
     "output_type": "stream",
     "text": [
      "100%|██████████| 20/20 [15:11<00:00, 45.56s/it]\n"
     ]
    },
    {
     "name": "stdout",
     "output_type": "stream",
     "text": [
      "['3p', 'threeprong', '_80'] ['2p', 'twoprong', '_80']\n",
      "/nobackup/users/sangeon/datasets/jetGridpack/rawjets/3p/threeprong_80_val.h5\n",
      "/nobackup/users/sangeon/datasets/jetGridpack/rawjets/2p/twoprong_80_val.h5\n"
     ]
    },
    {
     "name": "stderr",
     "output_type": "stream",
     "text": [
      "100%|██████████| 20/20 [15:12<00:00, 45.62s/it]\n"
     ]
    },
    {
     "name": "stdout",
     "output_type": "stream",
     "text": [
      "['3p', 'threeprong', '_80'] ['2p', 'twoprong', '_400']\n",
      "/nobackup/users/sangeon/datasets/jetGridpack/rawjets/3p/threeprong_80_val.h5\n",
      "/nobackup/users/sangeon/datasets/jetGridpack/rawjets/2p/twoprong_400_val.h5\n"
     ]
    },
    {
     "name": "stderr",
     "output_type": "stream",
     "text": [
      "100%|██████████| 20/20 [15:11<00:00, 45.57s/it]\n"
     ]
    },
    {
     "name": "stdout",
     "output_type": "stream",
     "text": [
      "['3p', 'threeprong', '_80'] ['3p', 'threeprong', '_80']\n",
      "/nobackup/users/sangeon/datasets/jetGridpack/rawjets/3p/threeprong_80_val.h5\n",
      "/nobackup/users/sangeon/datasets/jetGridpack/rawjets/3p/threeprong_80_val.h5\n"
     ]
    },
    {
     "name": "stderr",
     "output_type": "stream",
     "text": [
      "100%|██████████| 20/20 [15:11<00:00, 45.58s/it]\n"
     ]
    },
    {
     "name": "stdout",
     "output_type": "stream",
     "text": [
      "['3p', 'threeprong', '_80'] ['3p', 'threeprong', '_400']\n",
      "/nobackup/users/sangeon/datasets/jetGridpack/rawjets/3p/threeprong_80_val.h5\n",
      "/nobackup/users/sangeon/datasets/jetGridpack/rawjets/3p/threeprong_400_val.h5\n"
     ]
    },
    {
     "name": "stderr",
     "output_type": "stream",
     "text": [
      "100%|██████████| 20/20 [15:11<00:00, 45.59s/it]\n"
     ]
    },
    {
     "name": "stdout",
     "output_type": "stream",
     "text": [
      "['3p', 'threeprong', '_400'] ['QCD', 'QCD', '']\n",
      "/nobackup/users/sangeon/datasets/jetGridpack/rawjets/3p/threeprong_400_val.h5\n",
      "/nobackup/users/sangeon/datasets/jetGridpack/rawjets/QCD/QCD_val.h5\n"
     ]
    },
    {
     "name": "stderr",
     "output_type": "stream",
     "text": [
      "100%|██████████| 20/20 [15:10<00:00, 45.52s/it]\n"
     ]
    },
    {
     "name": "stdout",
     "output_type": "stream",
     "text": [
      "['3p', 'threeprong', '_400'] ['2p', 'twoprong', '_80']\n",
      "/nobackup/users/sangeon/datasets/jetGridpack/rawjets/3p/threeprong_400_val.h5\n",
      "/nobackup/users/sangeon/datasets/jetGridpack/rawjets/2p/twoprong_80_val.h5\n"
     ]
    },
    {
     "name": "stderr",
     "output_type": "stream",
     "text": [
      "100%|██████████| 20/20 [15:12<00:00, 45.61s/it]\n"
     ]
    },
    {
     "name": "stdout",
     "output_type": "stream",
     "text": [
      "['3p', 'threeprong', '_400'] ['2p', 'twoprong', '_400']\n",
      "/nobackup/users/sangeon/datasets/jetGridpack/rawjets/3p/threeprong_400_val.h5\n",
      "/nobackup/users/sangeon/datasets/jetGridpack/rawjets/2p/twoprong_400_val.h5\n"
     ]
    },
    {
     "name": "stderr",
     "output_type": "stream",
     "text": [
      "100%|██████████| 20/20 [15:10<00:00, 45.53s/it]\n"
     ]
    },
    {
     "name": "stdout",
     "output_type": "stream",
     "text": [
      "['3p', 'threeprong', '_400'] ['3p', 'threeprong', '_80']\n",
      "/nobackup/users/sangeon/datasets/jetGridpack/rawjets/3p/threeprong_400_val.h5\n",
      "/nobackup/users/sangeon/datasets/jetGridpack/rawjets/3p/threeprong_80_val.h5\n"
     ]
    },
    {
     "name": "stderr",
     "output_type": "stream",
     "text": [
      "100%|██████████| 20/20 [15:10<00:00, 45.53s/it]\n"
     ]
    },
    {
     "name": "stdout",
     "output_type": "stream",
     "text": [
      "['3p', 'threeprong', '_400'] ['3p', 'threeprong', '_400']\n",
      "/nobackup/users/sangeon/datasets/jetGridpack/rawjets/3p/threeprong_400_val.h5\n",
      "/nobackup/users/sangeon/datasets/jetGridpack/rawjets/3p/threeprong_400_val.h5\n"
     ]
    },
    {
     "name": "stderr",
     "output_type": "stream",
     "text": [
      "100%|██████████| 20/20 [15:10<00:00, 45.53s/it]"
     ]
    },
    {
     "name": "stdout",
     "output_type": "stream",
     "text": [
      "total time 22581.080144643784\n"
     ]
    },
    {
     "name": "stderr",
     "output_type": "stream",
     "text": [
      "\n"
     ]
    }
   ],
   "source": [
    "idx_list = []\n",
    "for i in range(5):\n",
    "    for j in range(5):\n",
    "        idx_list.append([i,j])\n",
    "        \n",
    "\n",
    "\n",
    "savedir   = '/nobackup/users/sangeon/datasets/jetGridpack/jetpairs/'\n",
    "rawjetdir = '/nobackup/users/sangeon/datasets/jetGridpack/rawjets/'\n",
    "type_arr  = [['QCD','QCD',''],['2p','twoprong','_80'],['2p','twoprong','_400'],['3p','threeprong','_80'],['3p','threeprong','_400']]\n",
    "len_val = 200000\n",
    "len_half  = 100000\n",
    "start = time.time()\n",
    "for idx in range(25):\n",
    "    np.random.seed()\n",
    "    #type_1 = type_arr[np.random.randint(0,5)]\n",
    "    np.random.seed()\n",
    "    #type_2 = type_arr[np.random.randint(0,5)]\n",
    "\n",
    "    type_1 = type_arr[idx_list[idx][0]]\n",
    "    type_2 = type_arr[idx_list[idx][1]]\n",
    "    print(type_1, type_2)\n",
    "    \n",
    "    df1 = pd.read_hdf(os.path.join(rawjetdir,type_1[0],f'{type_1[1]}{type_1[2]}_val.h5'))\n",
    "    df2 = pd.read_hdf(os.path.join(rawjetdir,type_2[0],f'{type_2[1]}{type_2[2]}_val.h5'))\n",
    "    A = df1.values\n",
    "    B = df2.values\n",
    "    \n",
    "    np.random.seed()\n",
    "    perm = np.random.permutation(len_val)\n",
    "    #print(A[perm[:5000]].shape)\n",
    "    #print(B[perm[5000:]].shape)\n",
    "    print(os.path.join(rawjetdir,type_1[0],f'{type_1[1]}{type_1[2]}_val.h5'))\n",
    "    print(os.path.join(rawjetdir,type_2[0],f'{type_2[1]}{type_2[2]}_val.h5'))\n",
    "    \n",
    "    val_set = JetDataset(False, None, False, A[perm[:len_half]],B[perm[len_half:]],16)\n",
    "    torch.save(val_set, os.path.join(savedir,f'Gridpack_jetpair_val_16part_{idx}.pt'))\n",
    "    \n",
    "end = time.time()\n",
    "print('total time', end-start)"
   ]
  },
  {
   "cell_type": "code",
   "execution_count": 6,
   "metadata": {},
   "outputs": [],
   "source": [
    "rawjetdir = '/nobackup/users/sangeon/datasets/jets/rawjets/realistic'\n",
    "with open(os.path.join(rawjetdir,f'realistic_rawjet_test_1p_16part_merged.pickle'), 'rb') as handle:\n",
    "    A = pickle.load(handle)"
   ]
  },
  {
   "cell_type": "code",
   "execution_count": 7,
   "metadata": {},
   "outputs": [
    {
     "data": {
      "text/plain": [
       "(200000, 48)"
      ]
     },
     "execution_count": 7,
     "metadata": {},
     "output_type": "execute_result"
    }
   ],
   "source": [
    "A.shape"
   ]
  },
  {
   "cell_type": "code",
   "execution_count": null,
   "metadata": {},
   "outputs": [
    {
     "name": "stderr",
     "output_type": "stream",
     "text": [
      "100%|██████████| 100/100 [1:06:31<00:00, 39.92s/it]\n",
      "100%|██████████| 100/100 [1:04:38<00:00, 38.79s/it]\n",
      "100%|██████████| 100/100 [1:04:21<00:00, 38.61s/it]\n",
      "100%|██████████| 100/100 [1:04:21<00:00, 38.62s/it]\n",
      "100%|██████████| 100/100 [1:04:54<00:00, 38.94s/it]\n",
      " 58%|█████▊    | 58/100 [37:42<27:19, 39.04s/it] "
     ]
    }
   ],
   "source": [
    "savedir   = '/nobackup/users/sangeon/datasets/jets/jetpairs/realistic'\n",
    "rawjetdir = '/nobackup/users/sangeon/datasets/jets/rawjets/realistic'\n",
    "type_arr  = ['1p','2p','3p']\n",
    "len_train = 1000000\n",
    "len_half  = 500000\n",
    "start = time.time()\n",
    "for i in range(22,100):\n",
    "    np.random.seed()\n",
    "    type_1 = type_arr[np.random.randint(0,3)]\n",
    "    np.random.seed()\n",
    "    type_2 = type_arr[np.random.randint(0,3)]\n",
    "    np.random.seed()\n",
    "    with open(os.path.join(rawjetdir,f'realistic_rawjet_train_{type_1}_16part_merged.pickle'), 'rb') as handle:\n",
    "        A = pickle.load(handle)\n",
    "    with open(os.path.join(rawjetdir,f'realistic_rawjet_train_{type_2}_16part_merged.pickle'), 'rb') as handle:\n",
    "        B = pickle.load(handle)\n",
    "    np.random.seed()\n",
    "    perm = np.random.permutation(len_train)\n",
    "    #print(A[perm[:5000]].shape)\n",
    "    #print(B[perm[5000:]].shape)\n",
    "    train_set = JetDataset(False, None, True, A[perm[:len_half]],B[perm[len_half:]],16)\n",
    "    torch.save(train_set, os.path.join(savedir,f'realistic_jetpair_train_16part_{i}.pt'))\n",
    "    \n",
    "end = time.time()\n",
    "print('total time', end-start)"
   ]
  },
  {
   "cell_type": "code",
   "execution_count": 8,
   "metadata": {},
   "outputs": [],
   "source": [
    "index_list = []\n",
    "for i in range(3):\n",
    "    for j in range(3):\n",
    "        index_list.append([i,j])"
   ]
  },
  {
   "cell_type": "code",
   "execution_count": 10,
   "metadata": {},
   "outputs": [
    {
     "data": {
      "text/plain": [
       "[[0, 0], [0, 1], [0, 2], [1, 0], [1, 1], [1, 2], [2, 0], [2, 1], [2, 2]]"
      ]
     },
     "execution_count": 10,
     "metadata": {},
     "output_type": "execute_result"
    }
   ],
   "source": [
    "index_list"
   ]
  },
  {
   "cell_type": "code",
   "execution_count": null,
   "metadata": {},
   "outputs": [],
   "source": []
  },
  {
   "cell_type": "code",
   "execution_count": 11,
   "metadata": {},
   "outputs": [
    {
     "name": "stdout",
     "output_type": "stream",
     "text": [
      "1p 3p\n"
     ]
    },
    {
     "name": "stderr",
     "output_type": "stream",
     "text": [
      "100%|██████████| 20/20 [13:08<00:00, 39.44s/it]\n"
     ]
    },
    {
     "name": "stdout",
     "output_type": "stream",
     "text": [
      "2p 1p\n"
     ]
    },
    {
     "name": "stderr",
     "output_type": "stream",
     "text": [
      "100%|██████████| 20/20 [12:59<00:00, 39.00s/it]\n"
     ]
    },
    {
     "name": "stdout",
     "output_type": "stream",
     "text": [
      "2p 2p\n"
     ]
    },
    {
     "name": "stderr",
     "output_type": "stream",
     "text": [
      "100%|██████████| 20/20 [12:58<00:00, 38.92s/it]\n"
     ]
    },
    {
     "name": "stdout",
     "output_type": "stream",
     "text": [
      "2p 3p\n"
     ]
    },
    {
     "name": "stderr",
     "output_type": "stream",
     "text": [
      "100%|██████████| 20/20 [12:59<00:00, 38.97s/it]\n"
     ]
    },
    {
     "name": "stdout",
     "output_type": "stream",
     "text": [
      "3p 1p\n"
     ]
    },
    {
     "name": "stderr",
     "output_type": "stream",
     "text": [
      "100%|██████████| 20/20 [13:00<00:00, 39.02s/it]\n"
     ]
    },
    {
     "name": "stdout",
     "output_type": "stream",
     "text": [
      "3p 2p\n"
     ]
    },
    {
     "name": "stderr",
     "output_type": "stream",
     "text": [
      "100%|██████████| 20/20 [12:57<00:00, 38.87s/it]\n"
     ]
    },
    {
     "name": "stdout",
     "output_type": "stream",
     "text": [
      "3p 3p\n"
     ]
    },
    {
     "name": "stderr",
     "output_type": "stream",
     "text": [
      "100%|██████████| 20/20 [12:58<00:00, 38.91s/it]"
     ]
    },
    {
     "name": "stdout",
     "output_type": "stream",
     "text": [
      "total time 5464.729719877243\n"
     ]
    },
    {
     "name": "stderr",
     "output_type": "stream",
     "text": [
      "\n"
     ]
    }
   ],
   "source": [
    "savedir   = '/nobackup/users/sangeon/datasets/jets/jetpairs/realistic'\n",
    "rawjetdir = '/nobackup/users/sangeon/datasets/jets/rawjets/realistic'\n",
    "type_arr  = ['1p','2p','3p']\n",
    "len_val = 200000\n",
    "len_half  = 100000\n",
    "start = time.time()\n",
    "for i, idx in enumerate(index_list):\n",
    "    np.random.seed()\n",
    "    type_1 = type_arr[idx[0]]\n",
    "    np.random.seed()\n",
    "    type_2 = type_arr[idx[1]]\n",
    "    np.random.seed()\n",
    "    print(type_1, type_2)\n",
    "    with open(os.path.join(rawjetdir,f'realistic_rawjet_val_{type_1}_16part_merged.pickle'), 'rb') as handle:\n",
    "        A = pickle.load(handle)\n",
    "    with open(os.path.join(rawjetdir,f'realistic_rawjet_val_{type_2}_16part_merged.pickle'), 'rb') as handle:\n",
    "        B = pickle.load(handle)\n",
    "    np.random.seed()\n",
    "    perm = np.random.permutation(len_val)\n",
    "    #print(A[perm[:5000]].shape)\n",
    "    #print(B[perm[5000:]].shape)\n",
    "    val_set = JetDataset(False, None, True, A[perm[:len_half]],B[perm[len_half:]],16)\n",
    "    torch.save(val_set, os.path.join(savedir,f'realistic_jetpair_val_16part_{i}.pt'))\n",
    "    \n",
    "end = time.time()\n",
    "print('total time', end-start)"
   ]
  },
  {
   "cell_type": "code",
   "execution_count": 5,
   "metadata": {},
   "outputs": [],
   "source": [
    "index_list = []\n",
    "for i in range(4):\n",
    "    for j in range(4):\n",
    "        index_list.append([i,j])"
   ]
  },
  {
   "cell_type": "code",
   "execution_count": 6,
   "metadata": {},
   "outputs": [
    {
     "name": "stdout",
     "output_type": "stream",
     "text": [
      "1p 1p\n"
     ]
    },
    {
     "name": "stderr",
     "output_type": "stream",
     "text": [
      "100%|██████████| 20/20 [13:08<00:00, 39.40s/it]\n"
     ]
    },
    {
     "name": "stdout",
     "output_type": "stream",
     "text": [
      "1p 2p\n"
     ]
    },
    {
     "name": "stderr",
     "output_type": "stream",
     "text": [
      "100%|██████████| 20/20 [12:52<00:00, 38.60s/it]\n"
     ]
    },
    {
     "name": "stdout",
     "output_type": "stream",
     "text": [
      "1p 3p\n"
     ]
    },
    {
     "name": "stderr",
     "output_type": "stream",
     "text": [
      "100%|██████████| 20/20 [12:51<00:00, 38.59s/it]\n"
     ]
    },
    {
     "name": "stdout",
     "output_type": "stream",
     "text": [
      "1p 4p\n"
     ]
    },
    {
     "name": "stderr",
     "output_type": "stream",
     "text": [
      "100%|██████████| 20/20 [12:52<00:00, 38.61s/it]\n"
     ]
    },
    {
     "name": "stdout",
     "output_type": "stream",
     "text": [
      "2p 1p\n"
     ]
    },
    {
     "name": "stderr",
     "output_type": "stream",
     "text": [
      "100%|██████████| 20/20 [12:51<00:00, 38.60s/it]\n"
     ]
    },
    {
     "name": "stdout",
     "output_type": "stream",
     "text": [
      "2p 2p\n"
     ]
    },
    {
     "name": "stderr",
     "output_type": "stream",
     "text": [
      "100%|██████████| 20/20 [12:52<00:00, 38.61s/it]\n"
     ]
    },
    {
     "name": "stdout",
     "output_type": "stream",
     "text": [
      "2p 3p\n"
     ]
    },
    {
     "name": "stderr",
     "output_type": "stream",
     "text": [
      "100%|██████████| 20/20 [12:52<00:00, 38.62s/it]\n"
     ]
    },
    {
     "name": "stdout",
     "output_type": "stream",
     "text": [
      "2p 4p\n"
     ]
    },
    {
     "name": "stderr",
     "output_type": "stream",
     "text": [
      "100%|██████████| 20/20 [12:52<00:00, 38.65s/it]\n"
     ]
    },
    {
     "name": "stdout",
     "output_type": "stream",
     "text": [
      "3p 1p\n"
     ]
    },
    {
     "name": "stderr",
     "output_type": "stream",
     "text": [
      "100%|██████████| 20/20 [12:51<00:00, 38.58s/it]\n"
     ]
    },
    {
     "name": "stdout",
     "output_type": "stream",
     "text": [
      "3p 2p\n"
     ]
    },
    {
     "name": "stderr",
     "output_type": "stream",
     "text": [
      "100%|██████████| 20/20 [12:52<00:00, 38.60s/it]\n"
     ]
    },
    {
     "name": "stdout",
     "output_type": "stream",
     "text": [
      "3p 3p\n"
     ]
    },
    {
     "name": "stderr",
     "output_type": "stream",
     "text": [
      "100%|██████████| 20/20 [12:56<00:00, 38.82s/it]\n"
     ]
    },
    {
     "name": "stdout",
     "output_type": "stream",
     "text": [
      "3p 4p\n"
     ]
    },
    {
     "name": "stderr",
     "output_type": "stream",
     "text": [
      "100%|██████████| 20/20 [12:53<00:00, 38.70s/it]\n"
     ]
    },
    {
     "name": "stdout",
     "output_type": "stream",
     "text": [
      "4p 1p\n"
     ]
    },
    {
     "name": "stderr",
     "output_type": "stream",
     "text": [
      "100%|██████████| 20/20 [12:52<00:00, 38.60s/it]\n"
     ]
    },
    {
     "name": "stdout",
     "output_type": "stream",
     "text": [
      "4p 2p\n"
     ]
    },
    {
     "name": "stderr",
     "output_type": "stream",
     "text": [
      "100%|██████████| 20/20 [12:56<00:00, 38.81s/it]\n"
     ]
    },
    {
     "name": "stdout",
     "output_type": "stream",
     "text": [
      "4p 3p\n"
     ]
    },
    {
     "name": "stderr",
     "output_type": "stream",
     "text": [
      "100%|██████████| 20/20 [12:56<00:00, 38.82s/it]\n"
     ]
    },
    {
     "name": "stdout",
     "output_type": "stream",
     "text": [
      "4p 4p\n"
     ]
    },
    {
     "name": "stderr",
     "output_type": "stream",
     "text": [
      "100%|██████████| 20/20 [12:52<00:00, 38.64s/it]"
     ]
    },
    {
     "name": "stdout",
     "output_type": "stream",
     "text": [
      "total time 12395.912010908127\n"
     ]
    },
    {
     "name": "stderr",
     "output_type": "stream",
     "text": [
      "\n"
     ]
    }
   ],
   "source": [
    "savedir   = '/nobackup/users/sangeon/datasets/jets/jetpairs/realistic'\n",
    "rawjetdir = '/nobackup/users/sangeon/datasets/jets/rawjets/realistic'\n",
    "type_arr  = ['1p','2p','3p','4p']\n",
    "len_test = 200000\n",
    "len_half  = 100000\n",
    "start = time.time()\n",
    "for i, idx in enumerate(index_list):\n",
    "    np.random.seed()\n",
    "    type_1 = type_arr[idx[0]]\n",
    "    np.random.seed()\n",
    "    type_2 = type_arr[idx[1]]\n",
    "    np.random.seed()\n",
    "    print(type_1, type_2)\n",
    "    with open(os.path.join(rawjetdir,f'realistic_rawjet_test_{type_1}_16part_merged.pickle'), 'rb') as handle:\n",
    "        A = pickle.load(handle)\n",
    "    with open(os.path.join(rawjetdir,f'realistic_rawjet_test_{type_2}_16part_merged.pickle'), 'rb') as handle:\n",
    "        B = pickle.load(handle)\n",
    "    np.random.seed()\n",
    "    perm = np.random.permutation(len_test)\n",
    "    #print(A[perm[:5000]].shape)\n",
    "    #print(B[perm[5000:]].shape)\n",
    "    test_set = JetDataset(False, None, True, A[perm[:len_half]],B[perm[len_half:]],16)\n",
    "    torch.save(test_set, os.path.join(savedir,f'realistic_jetpair_test_16part_{i}.pt'))\n",
    "    \n",
    "end = time.time()\n",
    "print('total time', end-start)"
   ]
  },
  {
   "cell_type": "code",
   "execution_count": null,
   "metadata": {},
   "outputs": [
    {
     "name": "stderr",
     "output_type": "stream",
     "text": [
      "100%|██████████| 20/20 [15:38<00:00, 46.93s/it]\n",
      " 40%|████      | 8/20 [06:23<09:54, 49.54s/it]"
     ]
    }
   ],
   "source": [
    "savedir   = '/nobackup/users/sangeon/datasets/jets/jetpairs/simple'\n",
    "rawjetdir = '/nobackup/users/sangeon/datasets/jets/rawjets/simple'\n",
    "type_arr  = ['1p','2p','3p']\n",
    "len_train = 2000000\n",
    "len_half  = 1000000\n",
    "start = time.time()\n",
    "for i in range(115,1000):\n",
    "    np.random.seed()\n",
    "    type_1 = type_arr[np.random.randint(0,3)]\n",
    "    np.random.seed()\n",
    "    type_2 = type_arr[np.random.randint(0,3)]\n",
    "    np.random.seed()\n",
    "    with open(os.path.join(rawjetdir,f'simple_rawjet_train_{type_1}_16part_merged.pickle'), 'rb') as handle:\n",
    "        A = pickle.load(handle)\n",
    "    with open(os.path.join(rawjetdir,f'simple_rawjet_train_{type_2}_16part_merged.pickle'), 'rb') as handle:\n",
    "        B = pickle.load(handle)\n",
    "    np.random.seed()\n",
    "    perm = np.random.permutation(len_train)\n",
    "    #print(A[perm[:5000]].shape)\n",
    "    #print(B[perm[5000:]].shape)\n",
    "    train_set = JetDataset(False, None, True, A[perm[:100000]],B[perm[len_half:len_half+100000]],16)\n",
    "    torch.save(train_set, os.path.join(savedir,f'simple_jetpair_train_16part_{i}.pt'))\n",
    "    \n",
    "end = time.time()\n",
    "print('total time', end-start)"
   ]
  },
  {
   "cell_type": "code",
   "execution_count": 5,
   "metadata": {},
   "outputs": [
    {
     "name": "stdout",
     "output_type": "stream",
     "text": [
      "(200000, 48)\n"
     ]
    }
   ],
   "source": [
    "rawjetdir = '/nobackup/users/sangeon/datasets/jets/rawjets/realistic'\n",
    "with open(os.path.join(rawjetdir,f'realistic_rawjet_val_2p_16part_merged.pickle'), 'rb') as handle:\n",
    "     A = pickle.load(handle)\n",
    "print(A.shape)"
   ]
  },
  {
   "cell_type": "code",
   "execution_count": 8,
   "metadata": {},
   "outputs": [
    {
     "name": "stdout",
     "output_type": "stream",
     "text": [
      "(400000, 48)\n"
     ]
    }
   ],
   "source": [
    "rawjetdir = '/nobackup/users/sangeon/datasets/jets/rawjets/simple'\n",
    "with open(os.path.join(rawjetdir,f'simple_rawjet_val_2p_16part_merged.pickle'), 'rb') as handle:\n",
    "     A = pickle.load(handle)\n",
    "print(A.shape)"
   ]
  },
  {
   "cell_type": "code",
   "execution_count": 9,
   "metadata": {},
   "outputs": [
    {
     "name": "stderr",
     "output_type": "stream",
     "text": [
      "100%|██████████| 40/40 [25:52<00:00, 38.81s/it]\n",
      "100%|██████████| 40/40 [25:26<00:00, 38.17s/it]\n",
      "100%|██████████| 40/40 [25:26<00:00, 38.16s/it]\n",
      "100%|██████████| 40/40 [25:25<00:00, 38.13s/it]\n",
      "100%|██████████| 40/40 [25:25<00:00, 38.13s/it]\n",
      "100%|██████████| 40/40 [25:24<00:00, 38.11s/it]\n",
      "100%|██████████| 40/40 [25:25<00:00, 38.13s/it]\n",
      "100%|██████████| 40/40 [25:23<00:00, 38.10s/it]\n",
      "  2%|▎         | 1/40 [00:28<18:24, 28.31s/it]\n"
     ]
    },
    {
     "ename": "KeyboardInterrupt",
     "evalue": "",
     "output_type": "error",
     "traceback": [
      "\u001b[0;31m---------------------------------------------------------------------------\u001b[0m",
      "\u001b[0;31mKeyboardInterrupt\u001b[0m                         Traceback (most recent call last)",
      "\u001b[0;32m/tmp/ipykernel_185315/3474426565.py\u001b[0m in \u001b[0;36m<module>\u001b[0;34m\u001b[0m\n\u001b[1;32m     19\u001b[0m     \u001b[0;31m#print(A[perm[:5000]].shape)\u001b[0m\u001b[0;34m\u001b[0m\u001b[0;34m\u001b[0m\u001b[0;34m\u001b[0m\u001b[0m\n\u001b[1;32m     20\u001b[0m     \u001b[0;31m#print(B[perm[5000:]].shape)\u001b[0m\u001b[0;34m\u001b[0m\u001b[0;34m\u001b[0m\u001b[0;34m\u001b[0m\u001b[0m\n\u001b[0;32m---> 21\u001b[0;31m     \u001b[0mtrain_set\u001b[0m \u001b[0;34m=\u001b[0m \u001b[0mJetDataset\u001b[0m\u001b[0;34m(\u001b[0m\u001b[0;32mFalse\u001b[0m\u001b[0;34m,\u001b[0m \u001b[0;32mNone\u001b[0m\u001b[0;34m,\u001b[0m \u001b[0;32mTrue\u001b[0m\u001b[0;34m,\u001b[0m \u001b[0mA\u001b[0m\u001b[0;34m[\u001b[0m\u001b[0mperm\u001b[0m\u001b[0;34m[\u001b[0m\u001b[0;34m:\u001b[0m\u001b[0mlen_half\u001b[0m\u001b[0;34m]\u001b[0m\u001b[0;34m]\u001b[0m\u001b[0;34m,\u001b[0m\u001b[0mB\u001b[0m\u001b[0;34m[\u001b[0m\u001b[0mperm\u001b[0m\u001b[0;34m[\u001b[0m\u001b[0mlen_half\u001b[0m\u001b[0;34m:\u001b[0m\u001b[0;34m]\u001b[0m\u001b[0;34m]\u001b[0m\u001b[0;34m,\u001b[0m\u001b[0;36m16\u001b[0m\u001b[0;34m)\u001b[0m\u001b[0;34m\u001b[0m\u001b[0;34m\u001b[0m\u001b[0m\n\u001b[0m\u001b[1;32m     22\u001b[0m     \u001b[0mtorch\u001b[0m\u001b[0;34m.\u001b[0m\u001b[0msave\u001b[0m\u001b[0;34m(\u001b[0m\u001b[0mtrain_set\u001b[0m\u001b[0;34m,\u001b[0m \u001b[0mos\u001b[0m\u001b[0;34m.\u001b[0m\u001b[0mpath\u001b[0m\u001b[0;34m.\u001b[0m\u001b[0mjoin\u001b[0m\u001b[0;34m(\u001b[0m\u001b[0msavedir\u001b[0m\u001b[0;34m,\u001b[0m\u001b[0;34mf'simple_jetpair_val_16part_{i}.pt'\u001b[0m\u001b[0;34m)\u001b[0m\u001b[0;34m)\u001b[0m\u001b[0;34m\u001b[0m\u001b[0;34m\u001b[0m\u001b[0m\n\u001b[1;32m     23\u001b[0m \u001b[0;34m\u001b[0m\u001b[0m\n",
      "\u001b[0;32m~/ToyJetGenerator/data/../training/manifoldembedder.py\u001b[0m in \u001b[0;36m__init__\u001b[0;34m(self, from_file, data_dir, isToy, jet1_data, jet2_data, num_part)\u001b[0m\n\u001b[1;32m    246\u001b[0m         \u001b[0;32mfor\u001b[0m \u001b[0mx\u001b[0m\u001b[0;34m,\u001b[0m\u001b[0my\u001b[0m \u001b[0;32min\u001b[0m \u001b[0mtqdm\u001b[0m\u001b[0;34m(\u001b[0m\u001b[0mdataloader\u001b[0m\u001b[0;34m)\u001b[0m\u001b[0;34m:\u001b[0m\u001b[0;34m\u001b[0m\u001b[0;34m\u001b[0m\u001b[0m\n\u001b[1;32m    247\u001b[0m             \u001b[0;31m#print(x.shape, y.shape)\u001b[0m\u001b[0;34m\u001b[0m\u001b[0;34m\u001b[0m\u001b[0;34m\u001b[0m\u001b[0m\n\u001b[0;32m--> 248\u001b[0;31m             \u001b[0memd\u001b[0m \u001b[0;34m=\u001b[0m \u001b[0mtorch\u001b[0m\u001b[0;34m.\u001b[0m\u001b[0mcat\u001b[0m\u001b[0;34m(\u001b[0m\u001b[0;34m(\u001b[0m\u001b[0memd\u001b[0m\u001b[0;34m.\u001b[0m\u001b[0mto\u001b[0m\u001b[0;34m(\u001b[0m\u001b[0mdevice\u001b[0m\u001b[0;34m)\u001b[0m\u001b[0;34m,\u001b[0m \u001b[0memdcalc\u001b[0m\u001b[0;34m(\u001b[0m\u001b[0mx\u001b[0m\u001b[0;34m.\u001b[0m\u001b[0mto\u001b[0m\u001b[0;34m(\u001b[0m\u001b[0mdevice\u001b[0m\u001b[0;34m)\u001b[0m\u001b[0;34m,\u001b[0m\u001b[0my\u001b[0m\u001b[0;34m.\u001b[0m\u001b[0mto\u001b[0m\u001b[0;34m(\u001b[0m\u001b[0mdevice\u001b[0m\u001b[0;34m)\u001b[0m\u001b[0;34m)\u001b[0m\u001b[0;34m)\u001b[0m\u001b[0;34m)\u001b[0m\u001b[0;34m\u001b[0m\u001b[0;34m\u001b[0m\u001b[0m\n\u001b[0m\u001b[1;32m    249\u001b[0m         \u001b[0mself\u001b[0m\u001b[0;34m.\u001b[0m\u001b[0memd\u001b[0m \u001b[0;34m=\u001b[0m \u001b[0memd\u001b[0m\u001b[0;34m.\u001b[0m\u001b[0mto\u001b[0m\u001b[0;34m(\u001b[0m\u001b[0;34m\"cpu\"\u001b[0m\u001b[0;34m)\u001b[0m\u001b[0;34m.\u001b[0m\u001b[0mfloat\u001b[0m\u001b[0;34m(\u001b[0m\u001b[0;34m)\u001b[0m\u001b[0;34m\u001b[0m\u001b[0;34m\u001b[0m\u001b[0m\n\u001b[1;32m    250\u001b[0m \u001b[0;34m\u001b[0m\u001b[0m\n",
      "\u001b[0;32m/nobackup/users/sangeon/condas/anaconda3/envs/studies/lib/python3.8/site-packages/torch/nn/modules/module.py\u001b[0m in \u001b[0;36m_call_impl\u001b[0;34m(self, *input, **kwargs)\u001b[0m\n\u001b[1;32m    725\u001b[0m             \u001b[0mresult\u001b[0m \u001b[0;34m=\u001b[0m \u001b[0mself\u001b[0m\u001b[0;34m.\u001b[0m\u001b[0m_slow_forward\u001b[0m\u001b[0;34m(\u001b[0m\u001b[0;34m*\u001b[0m\u001b[0minput\u001b[0m\u001b[0;34m,\u001b[0m \u001b[0;34m**\u001b[0m\u001b[0mkwargs\u001b[0m\u001b[0;34m)\u001b[0m\u001b[0;34m\u001b[0m\u001b[0;34m\u001b[0m\u001b[0m\n\u001b[1;32m    726\u001b[0m         \u001b[0;32melse\u001b[0m\u001b[0;34m:\u001b[0m\u001b[0;34m\u001b[0m\u001b[0;34m\u001b[0m\u001b[0m\n\u001b[0;32m--> 727\u001b[0;31m             \u001b[0mresult\u001b[0m \u001b[0;34m=\u001b[0m \u001b[0mself\u001b[0m\u001b[0;34m.\u001b[0m\u001b[0mforward\u001b[0m\u001b[0;34m(\u001b[0m\u001b[0;34m*\u001b[0m\u001b[0minput\u001b[0m\u001b[0;34m,\u001b[0m \u001b[0;34m**\u001b[0m\u001b[0mkwargs\u001b[0m\u001b[0;34m)\u001b[0m\u001b[0;34m\u001b[0m\u001b[0;34m\u001b[0m\u001b[0m\n\u001b[0m\u001b[1;32m    728\u001b[0m         for hook in itertools.chain(\n\u001b[1;32m    729\u001b[0m                 \u001b[0m_global_forward_hooks\u001b[0m\u001b[0;34m.\u001b[0m\u001b[0mvalues\u001b[0m\u001b[0;34m(\u001b[0m\u001b[0;34m)\u001b[0m\u001b[0;34m,\u001b[0m\u001b[0;34m\u001b[0m\u001b[0;34m\u001b[0m\u001b[0m\n",
      "\u001b[0;32m~/ToyJetGenerator/data/../optimal_transport/emdloss.py\u001b[0m in \u001b[0;36mforward\u001b[0;34m(self, jets1, jets2, return_flows)\u001b[0m\n\u001b[1;32m    219\u001b[0m             \u001b[0mdists\u001b[0m \u001b[0;34m=\u001b[0m \u001b[0mtorch\u001b[0m\u001b[0;34m.\u001b[0m\u001b[0mnorm\u001b[0m\u001b[0;34m(\u001b[0m\u001b[0mdiffs\u001b[0m\u001b[0;34m,\u001b[0m \u001b[0mdim\u001b[0m\u001b[0;34m=\u001b[0m\u001b[0;36m3\u001b[0m\u001b[0;34m)\u001b[0m\u001b[0;34m\u001b[0m\u001b[0;34m\u001b[0m\u001b[0m\n\u001b[1;32m    220\u001b[0m \u001b[0;34m\u001b[0m\u001b[0m\n\u001b[0;32m--> 221\u001b[0;31m             \u001b[0memds\u001b[0m\u001b[0;34m,\u001b[0m \u001b[0mflows\u001b[0m \u001b[0;34m=\u001b[0m \u001b[0mself\u001b[0m\u001b[0;34m.\u001b[0m\u001b[0m_emd_inference_qpth\u001b[0m\u001b[0;34m(\u001b[0m\u001b[0mdists\u001b[0m\u001b[0;34m,\u001b[0m \u001b[0mjets1\u001b[0m\u001b[0;34m[\u001b[0m\u001b[0;34m:\u001b[0m\u001b[0;34m,\u001b[0m \u001b[0;34m:\u001b[0m\u001b[0;34m,\u001b[0m \u001b[0;36m2\u001b[0m\u001b[0;34m]\u001b[0m\u001b[0;34m,\u001b[0m \u001b[0mjets2\u001b[0m\u001b[0;34m[\u001b[0m\u001b[0;34m:\u001b[0m\u001b[0;34m,\u001b[0m \u001b[0;34m:\u001b[0m\u001b[0;34m,\u001b[0m \u001b[0;36m2\u001b[0m\u001b[0;34m]\u001b[0m\u001b[0;34m)\u001b[0m\u001b[0;34m\u001b[0m\u001b[0;34m\u001b[0m\u001b[0m\n\u001b[0m\u001b[1;32m    222\u001b[0m \u001b[0;34m\u001b[0m\u001b[0m\n\u001b[1;32m    223\u001b[0m         \u001b[0;32mreturn\u001b[0m \u001b[0;34m(\u001b[0m\u001b[0memds\u001b[0m\u001b[0;34m,\u001b[0m \u001b[0mflows\u001b[0m\u001b[0;34m)\u001b[0m \u001b[0;32mif\u001b[0m \u001b[0mreturn_flows\u001b[0m \u001b[0;32melse\u001b[0m \u001b[0memds\u001b[0m\u001b[0;34m\u001b[0m\u001b[0;34m\u001b[0m\u001b[0m\n",
      "\u001b[0;32m~/ToyJetGenerator/data/../optimal_transport/emdloss.py\u001b[0m in \u001b[0;36m_emd_inference_qpth\u001b[0;34m(self, distance_matrix, weight1, weight2)\u001b[0m\n\u001b[1;32m    167\u001b[0m         \u001b[0mA\u001b[0m \u001b[0;34m=\u001b[0m \u001b[0mtorch\u001b[0m\u001b[0;34m.\u001b[0m\u001b[0mones\u001b[0m\u001b[0;34m(\u001b[0m\u001b[0mnbatch\u001b[0m\u001b[0;34m,\u001b[0m \u001b[0;36m1\u001b[0m\u001b[0;34m,\u001b[0m \u001b[0mnelement_distmatrix\u001b[0m\u001b[0;34m)\u001b[0m\u001b[0;34m.\u001b[0m\u001b[0mdouble\u001b[0m\u001b[0;34m(\u001b[0m\u001b[0;34m)\u001b[0m\u001b[0;34m.\u001b[0m\u001b[0mto\u001b[0m\u001b[0;34m(\u001b[0m\u001b[0mself\u001b[0m\u001b[0;34m.\u001b[0m\u001b[0mdevice\u001b[0m\u001b[0;34m)\u001b[0m\u001b[0;34m\u001b[0m\u001b[0;34m\u001b[0m\u001b[0m\n\u001b[1;32m    168\u001b[0m         \u001b[0mb\u001b[0m \u001b[0;34m=\u001b[0m \u001b[0mtorch\u001b[0m\u001b[0;34m.\u001b[0m\u001b[0mmin\u001b[0m\u001b[0;34m(\u001b[0m\u001b[0mtorch\u001b[0m\u001b[0;34m.\u001b[0m\u001b[0msum\u001b[0m\u001b[0;34m(\u001b[0m\u001b[0mweight1\u001b[0m\u001b[0;34m,\u001b[0m \u001b[0;36m1\u001b[0m\u001b[0;34m)\u001b[0m\u001b[0;34m,\u001b[0m \u001b[0mtorch\u001b[0m\u001b[0;34m.\u001b[0m\u001b[0msum\u001b[0m\u001b[0;34m(\u001b[0m\u001b[0mweight2\u001b[0m\u001b[0;34m,\u001b[0m \u001b[0;36m1\u001b[0m\u001b[0;34m)\u001b[0m\u001b[0;34m)\u001b[0m\u001b[0;34m.\u001b[0m\u001b[0munsqueeze\u001b[0m\u001b[0;34m(\u001b[0m\u001b[0;36m1\u001b[0m\u001b[0;34m)\u001b[0m\u001b[0;34m.\u001b[0m\u001b[0mdouble\u001b[0m\u001b[0;34m(\u001b[0m\u001b[0;34m)\u001b[0m\u001b[0;34m\u001b[0m\u001b[0;34m\u001b[0m\u001b[0m\n\u001b[0;32m--> 169\u001b[0;31m         \u001b[0mflow\u001b[0m \u001b[0;34m=\u001b[0m \u001b[0mqpth\u001b[0m\u001b[0;34m.\u001b[0m\u001b[0mqp\u001b[0m\u001b[0;34m.\u001b[0m\u001b[0mQPFunction\u001b[0m\u001b[0;34m(\u001b[0m\u001b[0mverbose\u001b[0m\u001b[0;34m=\u001b[0m\u001b[0;34m-\u001b[0m\u001b[0;36m1\u001b[0m\u001b[0;34m)\u001b[0m\u001b[0;34m(\u001b[0m\u001b[0mQ\u001b[0m\u001b[0;34m,\u001b[0m \u001b[0mp\u001b[0m\u001b[0;34m,\u001b[0m \u001b[0mG\u001b[0m\u001b[0;34m,\u001b[0m \u001b[0mh\u001b[0m\u001b[0;34m,\u001b[0m \u001b[0mA\u001b[0m\u001b[0;34m,\u001b[0m \u001b[0mb\u001b[0m\u001b[0;34m)\u001b[0m\u001b[0;34m\u001b[0m\u001b[0;34m\u001b[0m\u001b[0m\n\u001b[0m\u001b[1;32m    170\u001b[0m \u001b[0;34m\u001b[0m\u001b[0m\n\u001b[1;32m    171\u001b[0m         \u001b[0menergy_diff\u001b[0m \u001b[0;34m=\u001b[0m \u001b[0mtorch\u001b[0m\u001b[0;34m.\u001b[0m\u001b[0mabs\u001b[0m\u001b[0;34m(\u001b[0m\u001b[0mtorch\u001b[0m\u001b[0;34m.\u001b[0m\u001b[0msum\u001b[0m\u001b[0;34m(\u001b[0m\u001b[0mweight1\u001b[0m\u001b[0;34m,\u001b[0m \u001b[0mdim\u001b[0m\u001b[0;34m=\u001b[0m\u001b[0;36m1\u001b[0m\u001b[0;34m)\u001b[0m \u001b[0;34m-\u001b[0m \u001b[0mtorch\u001b[0m\u001b[0;34m.\u001b[0m\u001b[0msum\u001b[0m\u001b[0;34m(\u001b[0m\u001b[0mweight2\u001b[0m\u001b[0;34m,\u001b[0m \u001b[0mdim\u001b[0m\u001b[0;34m=\u001b[0m\u001b[0;36m1\u001b[0m\u001b[0;34m)\u001b[0m\u001b[0;34m)\u001b[0m\u001b[0;34m\u001b[0m\u001b[0;34m\u001b[0m\u001b[0m\n",
      "\u001b[0;32m/nobackup/users/sangeon/condas/anaconda3/envs/studies/lib/python3.8/site-packages/qpth/qp.py\u001b[0m in \u001b[0;36mforward\u001b[0;34m(ctx, Q_, p_, G_, h_, A_, b_)\u001b[0m\n\u001b[1;32m     81\u001b[0m             \u001b[0;32mif\u001b[0m \u001b[0mcheck_Q_spd\u001b[0m\u001b[0;34m:\u001b[0m\u001b[0;34m\u001b[0m\u001b[0;34m\u001b[0m\u001b[0m\n\u001b[1;32m     82\u001b[0m                 \u001b[0;32mfor\u001b[0m \u001b[0mi\u001b[0m \u001b[0;32min\u001b[0m \u001b[0mrange\u001b[0m\u001b[0;34m(\u001b[0m\u001b[0mnBatch\u001b[0m\u001b[0;34m)\u001b[0m\u001b[0;34m:\u001b[0m\u001b[0;34m\u001b[0m\u001b[0;34m\u001b[0m\u001b[0m\n\u001b[0;32m---> 83\u001b[0;31m                     \u001b[0me\u001b[0m\u001b[0;34m,\u001b[0m \u001b[0m_\u001b[0m \u001b[0;34m=\u001b[0m \u001b[0mtorch\u001b[0m\u001b[0;34m.\u001b[0m\u001b[0meig\u001b[0m\u001b[0;34m(\u001b[0m\u001b[0mQ\u001b[0m\u001b[0;34m[\u001b[0m\u001b[0mi\u001b[0m\u001b[0;34m]\u001b[0m\u001b[0;34m)\u001b[0m\u001b[0;34m\u001b[0m\u001b[0;34m\u001b[0m\u001b[0m\n\u001b[0m\u001b[1;32m     84\u001b[0m                     \u001b[0;32mif\u001b[0m \u001b[0;32mnot\u001b[0m \u001b[0mtorch\u001b[0m\u001b[0;34m.\u001b[0m\u001b[0mall\u001b[0m\u001b[0;34m(\u001b[0m\u001b[0me\u001b[0m\u001b[0;34m[\u001b[0m\u001b[0;34m:\u001b[0m\u001b[0;34m,\u001b[0m\u001b[0;36m0\u001b[0m\u001b[0;34m]\u001b[0m \u001b[0;34m>\u001b[0m \u001b[0;36m0\u001b[0m\u001b[0;34m)\u001b[0m\u001b[0;34m:\u001b[0m\u001b[0;34m\u001b[0m\u001b[0;34m\u001b[0m\u001b[0m\n\u001b[1;32m     85\u001b[0m                         \u001b[0;32mraise\u001b[0m \u001b[0mRuntimeError\u001b[0m\u001b[0;34m(\u001b[0m\u001b[0;34m'Q is not SPD.'\u001b[0m\u001b[0;34m)\u001b[0m\u001b[0;34m\u001b[0m\u001b[0;34m\u001b[0m\u001b[0m\n",
      "\u001b[0;31mKeyboardInterrupt\u001b[0m: "
     ]
    }
   ],
   "source": [
    "savedir   = '/nobackup/users/sangeon/datasets/jets/jetpairs/simple'\n",
    "rawjetdir = '/nobackup/users/sangeon/datasets/jets/rawjets/simple'\n",
    "type_arr  = ['1p','2p','3p']\n",
    "len_val = 400000\n",
    "len_half  = 200000\n",
    "start = time.time()\n",
    "for i in range(0,100):\n",
    "    np.random.seed()\n",
    "    type_1 = type_arr[np.random.randint(0,3)]\n",
    "    np.random.seed()\n",
    "    type_2 = type_arr[np.random.randint(0,3)]\n",
    "    np.random.seed()\n",
    "    with open(os.path.join(rawjetdir,f'simple_rawjet_val_{type_1}_16part_merged.pickle'), 'rb') as handle:\n",
    "        A = pickle.load(handle)\n",
    "    with open(os.path.join(rawjetdir,f'simple_rawjet_val_{type_2}_16part_merged.pickle'), 'rb') as handle:\n",
    "        B = pickle.load(handle)\n",
    "    np.random.seed()\n",
    "    perm = np.random.permutation(len_val)\n",
    "    #print(A[perm[:5000]].shape)\n",
    "    #print(B[perm[5000:]].shape)\n",
    "    train_set = JetDataset(False, None, True, A[perm[:len_half]],B[perm[len_half:]],16)\n",
    "    torch.save(train_set, os.path.join(savedir,f'simple_jetpair_val_16part_{i}.pt'))\n",
    "    \n",
    "end = time.time()\n",
    "print('total time', end-start)"
   ]
  },
  {
   "cell_type": "code",
   "execution_count": null,
   "metadata": {},
   "outputs": [],
   "source": []
  },
  {
   "cell_type": "code",
   "execution_count": null,
   "metadata": {},
   "outputs": [],
   "source": []
  },
  {
   "cell_type": "code",
   "execution_count": null,
   "metadata": {},
   "outputs": [],
   "source": []
  },
  {
   "cell_type": "code",
   "execution_count": null,
   "metadata": {},
   "outputs": [],
   "source": []
  },
  {
   "cell_type": "code",
   "execution_count": null,
   "metadata": {},
   "outputs": [],
   "source": []
  },
  {
   "cell_type": "markdown",
   "metadata": {},
   "source": [
    "# Predict, Test Dataset"
   ]
  },
  {
   "cell_type": "code",
   "execution_count": 6,
   "metadata": {},
   "outputs": [
    {
     "name": "stdout",
     "output_type": "stream",
     "text": [
      "(1947882, 54)\n",
      "1947882\n",
      "QCD ['QCD', 'QCD', '']\n",
      "(554310, 54)\n",
      "554310\n",
      "2p25 ['2p', 'twoprong', '_80_predict']\n",
      "(145592, 54)\n",
      "145592\n",
      "2p170 ['2p', 'twoprong', '_400_predict']\n",
      "(1308209, 54)\n",
      "1308209\n",
      "3p25 ['3p', 'threeprong', '_80_predict']\n",
      "(182312, 54)\n",
      "182312\n",
      "3p170 ['3p', 'threeprong', '_400_predict']\n",
      "(207456, 54)\n",
      "207456\n",
      "4p170 ['4p', 'fourprong', '_170']\n",
      "(187644, 54)\n",
      "187644\n",
      "4p400 ['4p', 'fourprong', '_400']\n"
     ]
    }
   ],
   "source": [
    "rawjetdir = '/nobackup/users/sangeon/datasets/jetGridpack/rawjets/'\n",
    "type_arr  = [['QCD','QCD',''],['2p','twoprong','_80_predict'],['2p','twoprong','_400_predict'],['3p','threeprong','_80_predict'],['3p','threeprong','_400_predict'],['4p','fourprong','_170'],['4p','fourprong','_400']]\n",
    "set_list = []\n",
    "name_list = ['QCD','2p25','2p170','3p25','3p170','4p170','4p400']\n",
    "\n",
    "results = np.empty((0,54))\n",
    "predict_label = np.empty((0))\n",
    "#extrafeats = np.empty((0,14))\n",
    "for i, (name, jettype) in enumerate(zip(name_list, type_arr)):\n",
    "    df = pd.read_hdf(os.path.join(rawjetdir,jettype[0],f'{jettype[1]}{jettype[2]}.h5'))\n",
    "    print(df.values.shape)\n",
    "    data = df.values[:,:54]\n",
    "    #feats = df.values[:,48:]\n",
    "    #print(feats.shape)\n",
    "    #feats = feats[:100000]\n",
    "    #extrafeats = np.vstack([extrafeats, feats])\n",
    "    data = data[:100000]\n",
    "    results = np.vstack([results, data])\n",
    "    print(df.values.shape[0])\n",
    "    print(name, jettype)\n",
    "    predict_label = np.concatenate([predict_label, np.repeat(i, data.shape[0])])"
   ]
  },
  {
   "cell_type": "code",
   "execution_count": 7,
   "metadata": {},
   "outputs": [
    {
     "data": {
      "text/plain": [
       "(700000, 54)"
      ]
     },
     "execution_count": 7,
     "metadata": {},
     "output_type": "execute_result"
    }
   ],
   "source": [
    "results.shape"
   ]
  },
  {
   "cell_type": "code",
   "execution_count": 8,
   "metadata": {},
   "outputs": [],
   "source": [
    "predict_set = JetPredictDataset(False,None,False, results,predict_label,16)\n",
    "torch.save(predict_set, f'/nobackup/users/sangeon/datasets/jetGridpack/jetpairs/Gridpack_jetpair_secondensemble_predict.pt')"
   ]
  },
  {
   "cell_type": "code",
   "execution_count": 6,
   "metadata": {},
   "outputs": [
    {
     "name": "stdout",
     "output_type": "stream",
     "text": [
      "(1951762, 62)\n",
      "(1951762, 14)\n",
      "1951762\n",
      "QCD ['QCD/with_taus', 'QCD', '']\n",
      "(922324, 62)\n",
      "(922324, 14)\n",
      "922324\n",
      "2p25 ['2p/with_taus', 'twoprong', '_25']\n",
      "(803501, 62)\n",
      "(803501, 14)\n",
      "803501\n",
      "2p170 ['2p/with_taus', 'twoprong', '_170']\n",
      "(318466, 62)\n",
      "(318466, 14)\n",
      "318466\n",
      "3p25 ['3p/with_taus', 'threeprong', '_25']\n",
      "(278615, 62)\n",
      "(278615, 14)\n",
      "278615\n",
      "3p170 ['3p/with_taus', 'threeprong', '_170']\n",
      "(153516, 62)\n",
      "(153516, 14)\n",
      "153516\n",
      "4p170 ['4p/with_taus', 'fourprong', '_170']\n",
      "(127011, 62)\n",
      "(127011, 14)\n",
      "127011\n",
      "4p400 ['4p/with_taus', 'fourprong', '_400']\n"
     ]
    }
   ],
   "source": [
    "rawjetdir = '/nobackup/users/sangeon/datasets/jetGridpack/rawjets/'\n",
    "type_arr  = [['QCD/with_taus','QCD',''],['2p/with_taus','twoprong','_25'],['2p/with_taus','twoprong','_170'],['3p/with_taus','threeprong','_25'],['3p/with_taus','threeprong','_170'],['4p/with_taus','fourprong','_170'],['4p/with_taus','fourprong','_400']]\n",
    "set_list = []\n",
    "name_list = ['QCD','2p25','2p170','3p25','3p170','4p170','4p400']\n",
    "\n",
    "results = np.empty((0,54))\n",
    "predict_label = np.empty((0))\n",
    "extrafeats = np.empty((0,14))\n",
    "for i, (name, jettype) in enumerate(zip(name_list, type_arr)):\n",
    "    df = pd.read_hdf(os.path.join(rawjetdir,jettype[0],f'{jettype[1]}{jettype[2]}.h5'))\n",
    "    print(df.values.shape)\n",
    "    data = df.values[:,:54]\n",
    "    feats = df.values[:,48:]\n",
    "    print(feats.shape)\n",
    "    feats = feats[:100000]\n",
    "    extrafeats = np.vstack([extrafeats, feats])\n",
    "    data = data[:100000]\n",
    "    results = np.vstack([results, data])\n",
    "    print(df.values.shape[0])\n",
    "    print(name, jettype)\n",
    "    predict_label = np.concatenate([predict_label, np.repeat(i, data.shape[0])])"
   ]
  },
  {
   "cell_type": "code",
   "execution_count": 7,
   "metadata": {},
   "outputs": [
    {
     "data": {
      "text/plain": [
       "(700000, 14)"
      ]
     },
     "execution_count": 7,
     "metadata": {},
     "output_type": "execute_result"
    }
   ],
   "source": [
    "extrafeats.shape"
   ]
  },
  {
   "cell_type": "code",
   "execution_count": 8,
   "metadata": {},
   "outputs": [
    {
     "data": {
      "text/plain": [
       "(700000, 54)"
      ]
     },
     "execution_count": 8,
     "metadata": {},
     "output_type": "execute_result"
    }
   ],
   "source": [
    "results.shape"
   ]
  },
  {
   "cell_type": "code",
   "execution_count": 9,
   "metadata": {},
   "outputs": [
    {
     "data": {
      "text/plain": [
       "array([0., 0., 0., ..., 6., 6., 6.])"
      ]
     },
     "execution_count": 9,
     "metadata": {},
     "output_type": "execute_result"
    }
   ],
   "source": [
    "predict_label"
   ]
  },
  {
   "cell_type": "code",
   "execution_count": 10,
   "metadata": {},
   "outputs": [],
   "source": [
    "with open(f'/nobackup/users/sangeon/datasets/jetGridpack/jetpairs/taus_Gridpack_jetpair_predict_extrafeats.pickle','wb') as handle:\n",
    "    pickle.dump(extrafeats, handle, pickle.HIGHEST_PROTOCOL)"
   ]
  },
  {
   "cell_type": "code",
   "execution_count": 5,
   "metadata": {},
   "outputs": [
    {
     "name": "stdout",
     "output_type": "stream",
     "text": [
      "['2p', 'twoprong', '_25'] ['3p', 'threeprong', '_170']\n",
      "/nobackup/users/sangeon/datasets/jetGridpack/rawjets/2p/twoprong_25.h5\n",
      "/nobackup/users/sangeon/datasets/jetGridpack/rawjets/3p/threeprong_170.h5\n"
     ]
    },
    {
     "name": "stderr",
     "output_type": "stream",
     "text": [
      "/home/sangeon/ToyJetGenerator/data/../training/manifoldembedder.py:195: RuntimeWarning: Degrees of freedom <= 0 for slice\n",
      "  cov_mat = np.cov(evt[:3*num_part].reshape(-1,3)[:, 1:3], aweights=evt[:3*num_part].reshape(-1,3)[:, 0] , rowvar=False)\n",
      "/nobackup/users/sangeon/condas/anaconda3/envs/studies/lib/python3.8/site-packages/numpy/lib/function_base.py:2680: RuntimeWarning: divide by zero encountered in true_divide\n",
      "  c *= np.true_divide(1, fact)\n",
      "/nobackup/users/sangeon/condas/anaconda3/envs/studies/lib/python3.8/site-packages/numpy/lib/function_base.py:2680: RuntimeWarning: invalid value encountered in multiply\n",
      "  c *= np.true_divide(1, fact)\n",
      "100%|██████████| 10/10 [06:41<00:00, 40.11s/it]\n"
     ]
    },
    {
     "name": "stdout",
     "output_type": "stream",
     "text": [
      "['2p', 'twoprong', '_25'] ['4p', 'fourprong', '_170']\n",
      "/nobackup/users/sangeon/datasets/jetGridpack/rawjets/2p/twoprong_25.h5\n",
      "/nobackup/users/sangeon/datasets/jetGridpack/rawjets/4p/fourprong_170.h5\n"
     ]
    },
    {
     "name": "stderr",
     "output_type": "stream",
     "text": [
      "100%|██████████| 10/10 [06:26<00:00, 38.63s/it]\n"
     ]
    },
    {
     "name": "stdout",
     "output_type": "stream",
     "text": [
      "['2p', 'twoprong', '_25'] ['4p', 'fourprong', '_400']\n",
      "/nobackup/users/sangeon/datasets/jetGridpack/rawjets/2p/twoprong_25.h5\n",
      "/nobackup/users/sangeon/datasets/jetGridpack/rawjets/4p/fourprong_400.h5\n"
     ]
    },
    {
     "name": "stderr",
     "output_type": "stream",
     "text": [
      "100%|██████████| 10/10 [06:25<00:00, 38.57s/it]\n"
     ]
    },
    {
     "name": "stdout",
     "output_type": "stream",
     "text": [
      "['2p', 'twoprong', '_170'] ['QCD', 'QCD', '']\n",
      "/nobackup/users/sangeon/datasets/jetGridpack/rawjets/2p/twoprong_170.h5\n",
      "/nobackup/users/sangeon/datasets/jetGridpack/rawjets/QCD/QCD.h5\n"
     ]
    },
    {
     "name": "stderr",
     "output_type": "stream",
     "text": [
      "100%|██████████| 10/10 [06:26<00:00, 38.65s/it]\n"
     ]
    },
    {
     "name": "stdout",
     "output_type": "stream",
     "text": [
      "['2p', 'twoprong', '_170'] ['2p', 'twoprong', '_25']\n",
      "/nobackup/users/sangeon/datasets/jetGridpack/rawjets/2p/twoprong_170.h5\n",
      "/nobackup/users/sangeon/datasets/jetGridpack/rawjets/2p/twoprong_25.h5\n"
     ]
    },
    {
     "name": "stderr",
     "output_type": "stream",
     "text": [
      "100%|██████████| 10/10 [06:25<00:00, 38.60s/it]\n"
     ]
    },
    {
     "name": "stdout",
     "output_type": "stream",
     "text": [
      "['2p', 'twoprong', '_170'] ['2p', 'twoprong', '_170']\n",
      "/nobackup/users/sangeon/datasets/jetGridpack/rawjets/2p/twoprong_170.h5\n",
      "/nobackup/users/sangeon/datasets/jetGridpack/rawjets/2p/twoprong_170.h5\n"
     ]
    },
    {
     "name": "stderr",
     "output_type": "stream",
     "text": [
      "100%|██████████| 10/10 [06:27<00:00, 38.79s/it]\n"
     ]
    },
    {
     "name": "stdout",
     "output_type": "stream",
     "text": [
      "['2p', 'twoprong', '_170'] ['3p', 'threeprong', '_25']\n",
      "/nobackup/users/sangeon/datasets/jetGridpack/rawjets/2p/twoprong_170.h5\n",
      "/nobackup/users/sangeon/datasets/jetGridpack/rawjets/3p/threeprong_25.h5\n"
     ]
    },
    {
     "name": "stderr",
     "output_type": "stream",
     "text": [
      "100%|██████████| 10/10 [06:27<00:00, 38.72s/it]\n"
     ]
    },
    {
     "name": "stdout",
     "output_type": "stream",
     "text": [
      "['2p', 'twoprong', '_170'] ['3p', 'threeprong', '_170']\n",
      "/nobackup/users/sangeon/datasets/jetGridpack/rawjets/2p/twoprong_170.h5\n",
      "/nobackup/users/sangeon/datasets/jetGridpack/rawjets/3p/threeprong_170.h5\n"
     ]
    },
    {
     "name": "stderr",
     "output_type": "stream",
     "text": [
      "100%|██████████| 10/10 [06:28<00:00, 38.82s/it]\n"
     ]
    },
    {
     "name": "stdout",
     "output_type": "stream",
     "text": [
      "['2p', 'twoprong', '_170'] ['4p', 'fourprong', '_170']\n",
      "/nobackup/users/sangeon/datasets/jetGridpack/rawjets/2p/twoprong_170.h5\n",
      "/nobackup/users/sangeon/datasets/jetGridpack/rawjets/4p/fourprong_170.h5\n"
     ]
    },
    {
     "name": "stderr",
     "output_type": "stream",
     "text": [
      "100%|██████████| 10/10 [06:27<00:00, 38.74s/it]\n"
     ]
    },
    {
     "name": "stdout",
     "output_type": "stream",
     "text": [
      "['2p', 'twoprong', '_170'] ['4p', 'fourprong', '_400']\n",
      "/nobackup/users/sangeon/datasets/jetGridpack/rawjets/2p/twoprong_170.h5\n",
      "/nobackup/users/sangeon/datasets/jetGridpack/rawjets/4p/fourprong_400.h5\n"
     ]
    },
    {
     "name": "stderr",
     "output_type": "stream",
     "text": [
      "100%|██████████| 10/10 [06:26<00:00, 38.68s/it]\n"
     ]
    },
    {
     "name": "stdout",
     "output_type": "stream",
     "text": [
      "['3p', 'threeprong', '_25'] ['QCD', 'QCD', '']\n",
      "/nobackup/users/sangeon/datasets/jetGridpack/rawjets/3p/threeprong_25.h5\n",
      "/nobackup/users/sangeon/datasets/jetGridpack/rawjets/QCD/QCD.h5\n"
     ]
    },
    {
     "name": "stderr",
     "output_type": "stream",
     "text": [
      "100%|██████████| 10/10 [06:25<00:00, 38.54s/it]\n"
     ]
    },
    {
     "name": "stdout",
     "output_type": "stream",
     "text": [
      "['3p', 'threeprong', '_25'] ['2p', 'twoprong', '_25']\n",
      "/nobackup/users/sangeon/datasets/jetGridpack/rawjets/3p/threeprong_25.h5\n",
      "/nobackup/users/sangeon/datasets/jetGridpack/rawjets/2p/twoprong_25.h5\n"
     ]
    },
    {
     "name": "stderr",
     "output_type": "stream",
     "text": [
      "100%|██████████| 10/10 [06:25<00:00, 38.56s/it]\n"
     ]
    },
    {
     "name": "stdout",
     "output_type": "stream",
     "text": [
      "['3p', 'threeprong', '_25'] ['2p', 'twoprong', '_170']\n",
      "/nobackup/users/sangeon/datasets/jetGridpack/rawjets/3p/threeprong_25.h5\n",
      "/nobackup/users/sangeon/datasets/jetGridpack/rawjets/2p/twoprong_170.h5\n"
     ]
    },
    {
     "name": "stderr",
     "output_type": "stream",
     "text": [
      "100%|██████████| 10/10 [06:25<00:00, 38.53s/it]\n"
     ]
    },
    {
     "name": "stdout",
     "output_type": "stream",
     "text": [
      "['3p', 'threeprong', '_25'] ['3p', 'threeprong', '_25']\n",
      "/nobackup/users/sangeon/datasets/jetGridpack/rawjets/3p/threeprong_25.h5\n",
      "/nobackup/users/sangeon/datasets/jetGridpack/rawjets/3p/threeprong_25.h5\n"
     ]
    },
    {
     "name": "stderr",
     "output_type": "stream",
     "text": [
      "100%|██████████| 10/10 [06:25<00:00, 38.53s/it]\n"
     ]
    },
    {
     "name": "stdout",
     "output_type": "stream",
     "text": [
      "['3p', 'threeprong', '_25'] ['3p', 'threeprong', '_170']\n",
      "/nobackup/users/sangeon/datasets/jetGridpack/rawjets/3p/threeprong_25.h5\n",
      "/nobackup/users/sangeon/datasets/jetGridpack/rawjets/3p/threeprong_170.h5\n"
     ]
    },
    {
     "name": "stderr",
     "output_type": "stream",
     "text": [
      "100%|██████████| 10/10 [06:26<00:00, 38.61s/it]\n"
     ]
    },
    {
     "name": "stdout",
     "output_type": "stream",
     "text": [
      "['3p', 'threeprong', '_25'] ['4p', 'fourprong', '_170']\n",
      "/nobackup/users/sangeon/datasets/jetGridpack/rawjets/3p/threeprong_25.h5\n",
      "/nobackup/users/sangeon/datasets/jetGridpack/rawjets/4p/fourprong_170.h5\n"
     ]
    },
    {
     "name": "stderr",
     "output_type": "stream",
     "text": [
      "100%|██████████| 10/10 [06:27<00:00, 38.78s/it]\n"
     ]
    },
    {
     "name": "stdout",
     "output_type": "stream",
     "text": [
      "['3p', 'threeprong', '_25'] ['4p', 'fourprong', '_400']\n",
      "/nobackup/users/sangeon/datasets/jetGridpack/rawjets/3p/threeprong_25.h5\n",
      "/nobackup/users/sangeon/datasets/jetGridpack/rawjets/4p/fourprong_400.h5\n"
     ]
    },
    {
     "name": "stderr",
     "output_type": "stream",
     "text": [
      "100%|██████████| 10/10 [06:27<00:00, 38.75s/it]\n"
     ]
    },
    {
     "name": "stdout",
     "output_type": "stream",
     "text": [
      "['3p', 'threeprong', '_170'] ['QCD', 'QCD', '']\n",
      "/nobackup/users/sangeon/datasets/jetGridpack/rawjets/3p/threeprong_170.h5\n",
      "/nobackup/users/sangeon/datasets/jetGridpack/rawjets/QCD/QCD.h5\n"
     ]
    },
    {
     "name": "stderr",
     "output_type": "stream",
     "text": [
      "100%|██████████| 10/10 [06:25<00:00, 38.55s/it]\n"
     ]
    },
    {
     "name": "stdout",
     "output_type": "stream",
     "text": [
      "['3p', 'threeprong', '_170'] ['2p', 'twoprong', '_25']\n",
      "/nobackup/users/sangeon/datasets/jetGridpack/rawjets/3p/threeprong_170.h5\n",
      "/nobackup/users/sangeon/datasets/jetGridpack/rawjets/2p/twoprong_25.h5\n"
     ]
    },
    {
     "name": "stderr",
     "output_type": "stream",
     "text": [
      "100%|██████████| 10/10 [06:25<00:00, 38.54s/it]\n"
     ]
    },
    {
     "name": "stdout",
     "output_type": "stream",
     "text": [
      "['3p', 'threeprong', '_170'] ['2p', 'twoprong', '_170']\n",
      "/nobackup/users/sangeon/datasets/jetGridpack/rawjets/3p/threeprong_170.h5\n",
      "/nobackup/users/sangeon/datasets/jetGridpack/rawjets/2p/twoprong_170.h5\n"
     ]
    },
    {
     "name": "stderr",
     "output_type": "stream",
     "text": [
      "100%|██████████| 10/10 [06:25<00:00, 38.58s/it]\n"
     ]
    },
    {
     "name": "stdout",
     "output_type": "stream",
     "text": [
      "['3p', 'threeprong', '_170'] ['3p', 'threeprong', '_25']\n",
      "/nobackup/users/sangeon/datasets/jetGridpack/rawjets/3p/threeprong_170.h5\n",
      "/nobackup/users/sangeon/datasets/jetGridpack/rawjets/3p/threeprong_25.h5\n"
     ]
    },
    {
     "name": "stderr",
     "output_type": "stream",
     "text": [
      "100%|██████████| 10/10 [06:27<00:00, 38.70s/it]\n"
     ]
    },
    {
     "name": "stdout",
     "output_type": "stream",
     "text": [
      "['3p', 'threeprong', '_170'] ['3p', 'threeprong', '_170']\n",
      "/nobackup/users/sangeon/datasets/jetGridpack/rawjets/3p/threeprong_170.h5\n",
      "/nobackup/users/sangeon/datasets/jetGridpack/rawjets/3p/threeprong_170.h5\n"
     ]
    },
    {
     "name": "stderr",
     "output_type": "stream",
     "text": [
      "100%|██████████| 10/10 [06:25<00:00, 38.55s/it]\n"
     ]
    },
    {
     "name": "stdout",
     "output_type": "stream",
     "text": [
      "['3p', 'threeprong', '_170'] ['4p', 'fourprong', '_170']\n",
      "/nobackup/users/sangeon/datasets/jetGridpack/rawjets/3p/threeprong_170.h5\n",
      "/nobackup/users/sangeon/datasets/jetGridpack/rawjets/4p/fourprong_170.h5\n"
     ]
    },
    {
     "name": "stderr",
     "output_type": "stream",
     "text": [
      "100%|██████████| 10/10 [06:25<00:00, 38.60s/it]\n"
     ]
    },
    {
     "name": "stdout",
     "output_type": "stream",
     "text": [
      "['3p', 'threeprong', '_170'] ['4p', 'fourprong', '_400']\n",
      "/nobackup/users/sangeon/datasets/jetGridpack/rawjets/3p/threeprong_170.h5\n",
      "/nobackup/users/sangeon/datasets/jetGridpack/rawjets/4p/fourprong_400.h5\n"
     ]
    },
    {
     "name": "stderr",
     "output_type": "stream",
     "text": [
      "100%|██████████| 10/10 [06:28<00:00, 38.80s/it]\n"
     ]
    },
    {
     "name": "stdout",
     "output_type": "stream",
     "text": [
      "['4p', 'fourprong', '_170'] ['QCD', 'QCD', '']\n",
      "/nobackup/users/sangeon/datasets/jetGridpack/rawjets/4p/fourprong_170.h5\n",
      "/nobackup/users/sangeon/datasets/jetGridpack/rawjets/QCD/QCD.h5\n"
     ]
    },
    {
     "name": "stderr",
     "output_type": "stream",
     "text": [
      "100%|██████████| 10/10 [06:25<00:00, 38.58s/it]\n"
     ]
    },
    {
     "name": "stdout",
     "output_type": "stream",
     "text": [
      "['4p', 'fourprong', '_170'] ['2p', 'twoprong', '_25']\n",
      "/nobackup/users/sangeon/datasets/jetGridpack/rawjets/4p/fourprong_170.h5\n",
      "/nobackup/users/sangeon/datasets/jetGridpack/rawjets/2p/twoprong_25.h5\n"
     ]
    },
    {
     "name": "stderr",
     "output_type": "stream",
     "text": [
      "100%|██████████| 10/10 [06:25<00:00, 38.58s/it]\n"
     ]
    },
    {
     "name": "stdout",
     "output_type": "stream",
     "text": [
      "['4p', 'fourprong', '_170'] ['2p', 'twoprong', '_170']\n",
      "/nobackup/users/sangeon/datasets/jetGridpack/rawjets/4p/fourprong_170.h5\n",
      "/nobackup/users/sangeon/datasets/jetGridpack/rawjets/2p/twoprong_170.h5\n"
     ]
    },
    {
     "name": "stderr",
     "output_type": "stream",
     "text": [
      "100%|██████████| 10/10 [06:25<00:00, 38.58s/it]\n"
     ]
    },
    {
     "name": "stdout",
     "output_type": "stream",
     "text": [
      "['4p', 'fourprong', '_170'] ['3p', 'threeprong', '_25']\n",
      "/nobackup/users/sangeon/datasets/jetGridpack/rawjets/4p/fourprong_170.h5\n",
      "/nobackup/users/sangeon/datasets/jetGridpack/rawjets/3p/threeprong_25.h5\n"
     ]
    },
    {
     "name": "stderr",
     "output_type": "stream",
     "text": [
      "100%|██████████| 10/10 [06:25<00:00, 38.58s/it]\n"
     ]
    },
    {
     "name": "stdout",
     "output_type": "stream",
     "text": [
      "['4p', 'fourprong', '_170'] ['3p', 'threeprong', '_170']\n",
      "/nobackup/users/sangeon/datasets/jetGridpack/rawjets/4p/fourprong_170.h5\n",
      "/nobackup/users/sangeon/datasets/jetGridpack/rawjets/3p/threeprong_170.h5\n"
     ]
    },
    {
     "name": "stderr",
     "output_type": "stream",
     "text": [
      "100%|██████████| 10/10 [06:26<00:00, 38.65s/it]\n"
     ]
    },
    {
     "name": "stdout",
     "output_type": "stream",
     "text": [
      "['4p', 'fourprong', '_170'] ['4p', 'fourprong', '_170']\n",
      "/nobackup/users/sangeon/datasets/jetGridpack/rawjets/4p/fourprong_170.h5\n",
      "/nobackup/users/sangeon/datasets/jetGridpack/rawjets/4p/fourprong_170.h5\n"
     ]
    },
    {
     "name": "stderr",
     "output_type": "stream",
     "text": [
      "100%|██████████| 10/10 [06:26<00:00, 38.62s/it]\n"
     ]
    },
    {
     "name": "stdout",
     "output_type": "stream",
     "text": [
      "['4p', 'fourprong', '_170'] ['4p', 'fourprong', '_400']\n",
      "/nobackup/users/sangeon/datasets/jetGridpack/rawjets/4p/fourprong_170.h5\n",
      "/nobackup/users/sangeon/datasets/jetGridpack/rawjets/4p/fourprong_400.h5\n"
     ]
    },
    {
     "name": "stderr",
     "output_type": "stream",
     "text": [
      "100%|██████████| 10/10 [06:25<00:00, 38.57s/it]\n"
     ]
    },
    {
     "name": "stdout",
     "output_type": "stream",
     "text": [
      "['4p', 'fourprong', '_400'] ['QCD', 'QCD', '']\n",
      "/nobackup/users/sangeon/datasets/jetGridpack/rawjets/4p/fourprong_400.h5\n",
      "/nobackup/users/sangeon/datasets/jetGridpack/rawjets/QCD/QCD.h5\n"
     ]
    },
    {
     "name": "stderr",
     "output_type": "stream",
     "text": [
      "100%|██████████| 10/10 [06:25<00:00, 38.55s/it]\n"
     ]
    },
    {
     "name": "stdout",
     "output_type": "stream",
     "text": [
      "['4p', 'fourprong', '_400'] ['2p', 'twoprong', '_25']\n",
      "/nobackup/users/sangeon/datasets/jetGridpack/rawjets/4p/fourprong_400.h5\n",
      "/nobackup/users/sangeon/datasets/jetGridpack/rawjets/2p/twoprong_25.h5\n"
     ]
    },
    {
     "name": "stderr",
     "output_type": "stream",
     "text": [
      "100%|██████████| 10/10 [06:26<00:00, 38.64s/it]\n"
     ]
    },
    {
     "name": "stdout",
     "output_type": "stream",
     "text": [
      "['4p', 'fourprong', '_400'] ['2p', 'twoprong', '_170']\n",
      "/nobackup/users/sangeon/datasets/jetGridpack/rawjets/4p/fourprong_400.h5\n",
      "/nobackup/users/sangeon/datasets/jetGridpack/rawjets/2p/twoprong_170.h5\n"
     ]
    },
    {
     "name": "stderr",
     "output_type": "stream",
     "text": [
      "100%|██████████| 10/10 [06:25<00:00, 38.56s/it]\n"
     ]
    },
    {
     "name": "stdout",
     "output_type": "stream",
     "text": [
      "['4p', 'fourprong', '_400'] ['3p', 'threeprong', '_25']\n",
      "/nobackup/users/sangeon/datasets/jetGridpack/rawjets/4p/fourprong_400.h5\n",
      "/nobackup/users/sangeon/datasets/jetGridpack/rawjets/3p/threeprong_25.h5\n"
     ]
    },
    {
     "name": "stderr",
     "output_type": "stream",
     "text": [
      "100%|██████████| 10/10 [06:25<00:00, 38.55s/it]\n"
     ]
    },
    {
     "name": "stdout",
     "output_type": "stream",
     "text": [
      "['4p', 'fourprong', '_400'] ['3p', 'threeprong', '_170']\n",
      "/nobackup/users/sangeon/datasets/jetGridpack/rawjets/4p/fourprong_400.h5\n",
      "/nobackup/users/sangeon/datasets/jetGridpack/rawjets/3p/threeprong_170.h5\n"
     ]
    },
    {
     "name": "stderr",
     "output_type": "stream",
     "text": [
      "100%|██████████| 10/10 [06:25<00:00, 38.58s/it]\n"
     ]
    },
    {
     "name": "stdout",
     "output_type": "stream",
     "text": [
      "['4p', 'fourprong', '_400'] ['4p', 'fourprong', '_170']\n",
      "/nobackup/users/sangeon/datasets/jetGridpack/rawjets/4p/fourprong_400.h5\n",
      "/nobackup/users/sangeon/datasets/jetGridpack/rawjets/4p/fourprong_170.h5\n"
     ]
    },
    {
     "name": "stderr",
     "output_type": "stream",
     "text": [
      "100%|██████████| 10/10 [06:26<00:00, 38.63s/it]\n"
     ]
    },
    {
     "name": "stdout",
     "output_type": "stream",
     "text": [
      "['4p', 'fourprong', '_400'] ['4p', 'fourprong', '_400']\n",
      "/nobackup/users/sangeon/datasets/jetGridpack/rawjets/4p/fourprong_400.h5\n",
      "/nobackup/users/sangeon/datasets/jetGridpack/rawjets/4p/fourprong_400.h5\n"
     ]
    },
    {
     "name": "stderr",
     "output_type": "stream",
     "text": [
      "100%|██████████| 10/10 [06:26<00:00, 38.70s/it]"
     ]
    },
    {
     "name": "stdout",
     "output_type": "stream",
     "text": [
      "total time 16050.89022231102\n"
     ]
    },
    {
     "name": "stderr",
     "output_type": "stream",
     "text": [
      "\n"
     ]
    }
   ],
   "source": [
    "idx_list = []\n",
    "for i in range(7):\n",
    "    for j in range(7):\n",
    "        idx_list.append([i,j])\n",
    "        \n",
    "\n",
    "\n",
    "savedir   = '/nobackup/users/sangeon/datasets/jetGridpack/jetpairs/'\n",
    "rawjetdir = '/nobackup/users/sangeon/datasets/jetGridpack/rawjets/'\n",
    "type_arr  = [['QCD','QCD',''],['2p','twoprong','_25'],['2p','twoprong','_170'],['3p','threeprong','_25'],['3p','threeprong','_170'],['4p','fourprong','_170'],['4p','fourprong','_400']]\n",
    "len_test = 100000\n",
    "len_half  = 50000\n",
    "start = time.time()\n",
    "for idx in range(11,49):\n",
    "    np.random.seed()\n",
    "    #type_1 = type_arr[np.random.randint(0,5)]\n",
    "    np.random.seed()\n",
    "    #type_2 = type_arr[np.random.randint(0,5)]\n",
    "\n",
    "    type_1 = type_arr[idx_list[idx][0]]\n",
    "    type_2 = type_arr[idx_list[idx][1]]\n",
    "    print(type_1, type_2)\n",
    "    \n",
    "    df1 = pd.read_hdf(os.path.join(rawjetdir,type_1[0],f'{type_1[1]}{type_1[2]}.h5'))\n",
    "    df2 = pd.read_hdf(os.path.join(rawjetdir,type_2[0],f'{type_2[1]}{type_2[2]}.h5'))\n",
    "    A = df1.values[:len_test]\n",
    "    B = df2.values[:len_test]\n",
    "    \n",
    "    np.random.seed()\n",
    "    perm = np.random.permutation(len_test)\n",
    "    #print(A[perm[:5000]].shape)\n",
    "    #print(B[perm[5000:]].shape)\n",
    "    print(os.path.join(rawjetdir,type_1[0],f'{type_1[1]}{type_1[2]}.h5'))\n",
    "    print(os.path.join(rawjetdir,type_2[0],f'{type_2[1]}{type_2[2]}.h5'))\n",
    "    \n",
    "    test_set = JetDataset(False, None, False, A[perm[:len_half]],B[perm[len_half:]],16)\n",
    "    torch.save(test_set, os.path.join(savedir,f'Gridpack_jetpair_testDistortion_16part_{idx}.pt'))\n",
    "    \n",
    "end = time.time()\n",
    "print('total time', end-start)"
   ]
  },
  {
   "cell_type": "code",
   "execution_count": 11,
   "metadata": {},
   "outputs": [
    {
     "data": {
      "text/plain": [
       "(700000, 54)"
      ]
     },
     "execution_count": 11,
     "metadata": {},
     "output_type": "execute_result"
    }
   ],
   "source": [
    "results.shape"
   ]
  },
  {
   "cell_type": "code",
   "execution_count": 12,
   "metadata": {},
   "outputs": [
    {
     "data": {
      "text/plain": [
       "(700000,)"
      ]
     },
     "execution_count": 12,
     "metadata": {},
     "output_type": "execute_result"
    }
   ],
   "source": [
    "predict_label.shape"
   ]
  },
  {
   "cell_type": "code",
   "execution_count": 13,
   "metadata": {},
   "outputs": [],
   "source": [
    "predict_set = JetPredictDataset(False,None,False, results,predict_label,16)\n",
    "torch.save(predict_set, f'/nobackup/users/sangeon/datasets/jetGridpack/jetpairs/taus_Gridpack_jetpair_predict.pt')"
   ]
  },
  {
   "cell_type": "code",
   "execution_count": null,
   "metadata": {},
   "outputs": [],
   "source": []
  },
  {
   "cell_type": "code",
   "execution_count": null,
   "metadata": {},
   "outputs": [],
   "source": []
  },
  {
   "cell_type": "code",
   "execution_count": null,
   "metadata": {},
   "outputs": [],
   "source": []
  },
  {
   "cell_type": "code",
   "execution_count": null,
   "metadata": {},
   "outputs": [],
   "source": []
  },
  {
   "cell_type": "code",
   "execution_count": null,
   "metadata": {},
   "outputs": [],
   "source": []
  },
  {
   "cell_type": "code",
   "execution_count": 14,
   "metadata": {},
   "outputs": [],
   "source": [
    "torch.save(predict_set, f'/nobackup/users/sangeon/datasets/jetGridpack/jetpairs/taus_Gridpack_jetpair_predict.pt')"
   ]
  },
  {
   "cell_type": "code",
   "execution_count": 8,
   "metadata": {},
   "outputs": [
    {
     "name": "stdout",
     "output_type": "stream",
     "text": [
      "(747882, 54)\n",
      "747882\n",
      "QCD ['QCD', 'QCD', '']\n",
      "(554310, 54)\n",
      "554310\n",
      "2p80 ['2p', 'twoprong', '_80']\n",
      "(145592, 54)\n",
      "145592\n",
      "2p400 ['2p', 'twoprong', '_400']\n",
      "(1308209, 54)\n",
      "1308209\n",
      "3p80 ['3p', 'threeprong', '_80']\n",
      "(182312, 54)\n",
      "182312\n",
      "3p400 ['3p', 'threeprong', '_400']\n"
     ]
    }
   ],
   "source": [
    "rawjetdir = '/nobackup/users/sangeon/datasets/jetGridpack/rawjets/'\n",
    "type_arr  = [['QCD','QCD',''],['2p','twoprong','_80'],['2p','twoprong','_400'],['3p','threeprong','_80'],['3p','threeprong','_400']]\n",
    "set_list = []\n",
    "name_list = ['QCD','2p80','2p400','3p80','3p400']\n",
    "\n",
    "results = np.empty((0,54))\n",
    "predict_label = np.empty((0))\n",
    "#extrafeats = np.empty((0,14))\n",
    "for i, (name, jettype) in enumerate(zip(name_list, type_arr)):\n",
    "    df = pd.read_hdf(os.path.join(rawjetdir,jettype[0],f'{jettype[1]}{jettype[2]}_predict.h5'))\n",
    "    print(df.values.shape)\n",
    "    data = df.values[:,:54]\n",
    "    #feats = df.values[:,48:]\n",
    "    #print(feats.shape)\n",
    "    #feats = feats[:100000]\n",
    "    #extrafeats = np.vstack([extrafeats, feats])\n",
    "    data = data[:100000]\n",
    "    results = np.vstack([results, data])\n",
    "    print(df.values.shape[0])\n",
    "    print(name, jettype)\n",
    "    predict_label = np.concatenate([predict_label, np.repeat(i, data.shape[0])])"
   ]
  },
  {
   "cell_type": "code",
   "execution_count": 9,
   "metadata": {},
   "outputs": [
    {
     "data": {
      "text/plain": [
       "(500000, 54)"
      ]
     },
     "execution_count": 9,
     "metadata": {},
     "output_type": "execute_result"
    }
   ],
   "source": [
    "results.shape"
   ]
  },
  {
   "cell_type": "code",
   "execution_count": 11,
   "metadata": {},
   "outputs": [
    {
     "data": {
      "text/plain": [
       "(500000,)"
      ]
     },
     "execution_count": 11,
     "metadata": {},
     "output_type": "execute_result"
    }
   ],
   "source": [
    "predict_label.shape"
   ]
  },
  {
   "cell_type": "code",
   "execution_count": 12,
   "metadata": {},
   "outputs": [
    {
     "name": "stderr",
     "output_type": "stream",
     "text": [
      "/home/sangeon/ToyJetGenerator/data/../training/manifoldembedder.py:372: RuntimeWarning: Degrees of freedom <= 0 for slice\n",
      "  cov_mat = np.cov(evt[:3*num_part].reshape(-1,3)[:, 1:3], aweights=evt[:3*num_part].reshape(-1,3)[:, 0] , rowvar=False)\n",
      "/nobackup/users/sangeon/condas/anaconda3/envs/studies/lib/python3.8/site-packages/numpy/lib/function_base.py:2680: RuntimeWarning: divide by zero encountered in true_divide\n",
      "  c *= np.true_divide(1, fact)\n",
      "/nobackup/users/sangeon/condas/anaconda3/envs/studies/lib/python3.8/site-packages/numpy/lib/function_base.py:2680: RuntimeWarning: invalid value encountered in multiply\n",
      "  c *= np.true_divide(1, fact)\n"
     ]
    }
   ],
   "source": [
    "predict_set = JetPredictDataset(False,None,False, results,predict_label,16)\n"
   ]
  },
  {
   "cell_type": "code",
   "execution_count": 13,
   "metadata": {},
   "outputs": [],
   "source": [
    "torch.save(predict_set, f'/nobackup/users/sangeon/datasets/jetGridpack/jetpairs/interpolate_Gridpack_jetpair_predict.pt')"
   ]
  },
  {
   "cell_type": "code",
   "execution_count": 5,
   "metadata": {},
   "outputs": [
    {
     "name": "stdout",
     "output_type": "stream",
     "text": [
      "['QCD', 'QCD', ''] ['QCD', 'QCD', '']\n",
      "/nobackup/users/sangeon/datasets/jetGridpack/rawjets/QCD/QCD.h5\n",
      "/nobackup/users/sangeon/datasets/jetGridpack/rawjets/QCD/QCD.h5\n"
     ]
    },
    {
     "name": "stderr",
     "output_type": "stream",
     "text": [
      "/home/sangeon/ToyJetGenerator/data/../training/manifoldembedder.py:211: RuntimeWarning: Degrees of freedom <= 0 for slice\n",
      "  cov_mat = np.cov(evt[:3*num_part].reshape(-1,3)[:, 1:3], aweights=evt[:3*num_part].reshape(-1,3)[:, 0] , rowvar=False)\n",
      "/nobackup/users/sangeon/condas/anaconda3/envs/studies/lib/python3.8/site-packages/numpy/lib/function_base.py:2680: RuntimeWarning: divide by zero encountered in true_divide\n",
      "  c *= np.true_divide(1, fact)\n",
      "/nobackup/users/sangeon/condas/anaconda3/envs/studies/lib/python3.8/site-packages/numpy/lib/function_base.py:2680: RuntimeWarning: invalid value encountered in multiply\n",
      "  c *= np.true_divide(1, fact)\n",
      "100%|██████████| 10/10 [06:47<00:00, 40.79s/it]\n"
     ]
    },
    {
     "name": "stdout",
     "output_type": "stream",
     "text": [
      "['QCD', 'QCD', ''] ['2p', 'twoprong', '_80']\n",
      "/nobackup/users/sangeon/datasets/jetGridpack/rawjets/QCD/QCD.h5\n",
      "/nobackup/users/sangeon/datasets/jetGridpack/rawjets/2p/twoprong_80.h5\n"
     ]
    },
    {
     "name": "stderr",
     "output_type": "stream",
     "text": [
      "100%|██████████| 10/10 [07:06<00:00, 42.65s/it]\n"
     ]
    },
    {
     "name": "stdout",
     "output_type": "stream",
     "text": [
      "['QCD', 'QCD', ''] ['2p', 'twoprong', '_400']\n",
      "/nobackup/users/sangeon/datasets/jetGridpack/rawjets/QCD/QCD.h5\n",
      "/nobackup/users/sangeon/datasets/jetGridpack/rawjets/2p/twoprong_400.h5\n"
     ]
    },
    {
     "name": "stderr",
     "output_type": "stream",
     "text": [
      "100%|██████████| 10/10 [06:43<00:00, 40.34s/it]\n"
     ]
    },
    {
     "name": "stdout",
     "output_type": "stream",
     "text": [
      "['QCD', 'QCD', ''] ['3p', 'threeprong', '_80']\n",
      "/nobackup/users/sangeon/datasets/jetGridpack/rawjets/QCD/QCD.h5\n",
      "/nobackup/users/sangeon/datasets/jetGridpack/rawjets/3p/threeprong_80.h5\n"
     ]
    },
    {
     "name": "stderr",
     "output_type": "stream",
     "text": [
      "100%|██████████| 10/10 [06:50<00:00, 41.05s/it]\n"
     ]
    },
    {
     "name": "stdout",
     "output_type": "stream",
     "text": [
      "['QCD', 'QCD', ''] ['3p', 'threeprong', '_400']\n",
      "/nobackup/users/sangeon/datasets/jetGridpack/rawjets/QCD/QCD.h5\n",
      "/nobackup/users/sangeon/datasets/jetGridpack/rawjets/3p/threeprong_400.h5\n"
     ]
    },
    {
     "name": "stderr",
     "output_type": "stream",
     "text": [
      "100%|██████████| 10/10 [07:07<00:00, 42.73s/it]\n"
     ]
    },
    {
     "name": "stdout",
     "output_type": "stream",
     "text": [
      "['2p', 'twoprong', '_80'] ['QCD', 'QCD', '']\n",
      "/nobackup/users/sangeon/datasets/jetGridpack/rawjets/2p/twoprong_80.h5\n",
      "/nobackup/users/sangeon/datasets/jetGridpack/rawjets/QCD/QCD.h5\n"
     ]
    },
    {
     "name": "stderr",
     "output_type": "stream",
     "text": [
      "100%|██████████| 10/10 [06:59<00:00, 41.99s/it]\n"
     ]
    },
    {
     "name": "stdout",
     "output_type": "stream",
     "text": [
      "['2p', 'twoprong', '_80'] ['2p', 'twoprong', '_80']\n",
      "/nobackup/users/sangeon/datasets/jetGridpack/rawjets/2p/twoprong_80.h5\n",
      "/nobackup/users/sangeon/datasets/jetGridpack/rawjets/2p/twoprong_80.h5\n"
     ]
    },
    {
     "name": "stderr",
     "output_type": "stream",
     "text": [
      "100%|██████████| 10/10 [06:39<00:00, 39.97s/it]\n"
     ]
    },
    {
     "name": "stdout",
     "output_type": "stream",
     "text": [
      "['2p', 'twoprong', '_80'] ['2p', 'twoprong', '_400']\n",
      "/nobackup/users/sangeon/datasets/jetGridpack/rawjets/2p/twoprong_80.h5\n",
      "/nobackup/users/sangeon/datasets/jetGridpack/rawjets/2p/twoprong_400.h5\n"
     ]
    },
    {
     "name": "stderr",
     "output_type": "stream",
     "text": [
      "100%|██████████| 10/10 [06:39<00:00, 40.00s/it]\n"
     ]
    },
    {
     "name": "stdout",
     "output_type": "stream",
     "text": [
      "['2p', 'twoprong', '_80'] ['3p', 'threeprong', '_80']\n",
      "/nobackup/users/sangeon/datasets/jetGridpack/rawjets/2p/twoprong_80.h5\n",
      "/nobackup/users/sangeon/datasets/jetGridpack/rawjets/3p/threeprong_80.h5\n"
     ]
    },
    {
     "name": "stderr",
     "output_type": "stream",
     "text": [
      "100%|██████████| 10/10 [07:06<00:00, 42.65s/it]\n"
     ]
    },
    {
     "name": "stdout",
     "output_type": "stream",
     "text": [
      "['2p', 'twoprong', '_80'] ['3p', 'threeprong', '_400']\n",
      "/nobackup/users/sangeon/datasets/jetGridpack/rawjets/2p/twoprong_80.h5\n",
      "/nobackup/users/sangeon/datasets/jetGridpack/rawjets/3p/threeprong_400.h5\n"
     ]
    },
    {
     "name": "stderr",
     "output_type": "stream",
     "text": [
      "100%|██████████| 10/10 [06:54<00:00, 41.42s/it]\n"
     ]
    },
    {
     "name": "stdout",
     "output_type": "stream",
     "text": [
      "['2p', 'twoprong', '_400'] ['QCD', 'QCD', '']\n",
      "/nobackup/users/sangeon/datasets/jetGridpack/rawjets/2p/twoprong_400.h5\n",
      "/nobackup/users/sangeon/datasets/jetGridpack/rawjets/QCD/QCD.h5\n"
     ]
    },
    {
     "name": "stderr",
     "output_type": "stream",
     "text": [
      "100%|██████████| 10/10 [06:41<00:00, 40.16s/it]\n"
     ]
    },
    {
     "name": "stdout",
     "output_type": "stream",
     "text": [
      "['2p', 'twoprong', '_400'] ['2p', 'twoprong', '_80']\n",
      "/nobackup/users/sangeon/datasets/jetGridpack/rawjets/2p/twoprong_400.h5\n",
      "/nobackup/users/sangeon/datasets/jetGridpack/rawjets/2p/twoprong_80.h5\n"
     ]
    },
    {
     "name": "stderr",
     "output_type": "stream",
     "text": [
      "100%|██████████| 10/10 [06:41<00:00, 40.15s/it]\n"
     ]
    },
    {
     "name": "stdout",
     "output_type": "stream",
     "text": [
      "['2p', 'twoprong', '_400'] ['2p', 'twoprong', '_400']\n",
      "/nobackup/users/sangeon/datasets/jetGridpack/rawjets/2p/twoprong_400.h5\n",
      "/nobackup/users/sangeon/datasets/jetGridpack/rawjets/2p/twoprong_400.h5\n"
     ]
    },
    {
     "name": "stderr",
     "output_type": "stream",
     "text": [
      "100%|██████████| 10/10 [06:40<00:00, 40.09s/it]\n"
     ]
    },
    {
     "name": "stdout",
     "output_type": "stream",
     "text": [
      "['2p', 'twoprong', '_400'] ['3p', 'threeprong', '_80']\n",
      "/nobackup/users/sangeon/datasets/jetGridpack/rawjets/2p/twoprong_400.h5\n",
      "/nobackup/users/sangeon/datasets/jetGridpack/rawjets/3p/threeprong_80.h5\n"
     ]
    },
    {
     "name": "stderr",
     "output_type": "stream",
     "text": [
      "100%|██████████| 10/10 [06:40<00:00, 40.04s/it]\n"
     ]
    },
    {
     "name": "stdout",
     "output_type": "stream",
     "text": [
      "['2p', 'twoprong', '_400'] ['3p', 'threeprong', '_400']\n",
      "/nobackup/users/sangeon/datasets/jetGridpack/rawjets/2p/twoprong_400.h5\n",
      "/nobackup/users/sangeon/datasets/jetGridpack/rawjets/3p/threeprong_400.h5\n"
     ]
    },
    {
     "name": "stderr",
     "output_type": "stream",
     "text": [
      "100%|██████████| 10/10 [06:38<00:00, 39.89s/it]\n"
     ]
    },
    {
     "name": "stdout",
     "output_type": "stream",
     "text": [
      "['3p', 'threeprong', '_80'] ['QCD', 'QCD', '']\n",
      "/nobackup/users/sangeon/datasets/jetGridpack/rawjets/3p/threeprong_80.h5\n",
      "/nobackup/users/sangeon/datasets/jetGridpack/rawjets/QCD/QCD.h5\n"
     ]
    },
    {
     "name": "stderr",
     "output_type": "stream",
     "text": [
      "100%|██████████| 10/10 [06:38<00:00, 39.84s/it]\n"
     ]
    },
    {
     "name": "stdout",
     "output_type": "stream",
     "text": [
      "['3p', 'threeprong', '_80'] ['2p', 'twoprong', '_80']\n",
      "/nobackup/users/sangeon/datasets/jetGridpack/rawjets/3p/threeprong_80.h5\n",
      "/nobackup/users/sangeon/datasets/jetGridpack/rawjets/2p/twoprong_80.h5\n"
     ]
    },
    {
     "name": "stderr",
     "output_type": "stream",
     "text": [
      "100%|██████████| 10/10 [06:40<00:00, 40.06s/it]\n"
     ]
    },
    {
     "name": "stdout",
     "output_type": "stream",
     "text": [
      "['3p', 'threeprong', '_80'] ['2p', 'twoprong', '_400']\n",
      "/nobackup/users/sangeon/datasets/jetGridpack/rawjets/3p/threeprong_80.h5\n",
      "/nobackup/users/sangeon/datasets/jetGridpack/rawjets/2p/twoprong_400.h5\n"
     ]
    },
    {
     "name": "stderr",
     "output_type": "stream",
     "text": [
      "100%|██████████| 10/10 [07:12<00:00, 43.21s/it]\n"
     ]
    },
    {
     "name": "stdout",
     "output_type": "stream",
     "text": [
      "['3p', 'threeprong', '_80'] ['3p', 'threeprong', '_80']\n",
      "/nobackup/users/sangeon/datasets/jetGridpack/rawjets/3p/threeprong_80.h5\n",
      "/nobackup/users/sangeon/datasets/jetGridpack/rawjets/3p/threeprong_80.h5\n"
     ]
    },
    {
     "name": "stderr",
     "output_type": "stream",
     "text": [
      "100%|██████████| 10/10 [06:39<00:00, 39.99s/it]\n"
     ]
    },
    {
     "name": "stdout",
     "output_type": "stream",
     "text": [
      "['3p', 'threeprong', '_80'] ['3p', 'threeprong', '_400']\n",
      "/nobackup/users/sangeon/datasets/jetGridpack/rawjets/3p/threeprong_80.h5\n",
      "/nobackup/users/sangeon/datasets/jetGridpack/rawjets/3p/threeprong_400.h5\n"
     ]
    },
    {
     "name": "stderr",
     "output_type": "stream",
     "text": [
      "100%|██████████| 10/10 [06:38<00:00, 39.89s/it]\n"
     ]
    },
    {
     "name": "stdout",
     "output_type": "stream",
     "text": [
      "['3p', 'threeprong', '_400'] ['QCD', 'QCD', '']\n",
      "/nobackup/users/sangeon/datasets/jetGridpack/rawjets/3p/threeprong_400.h5\n",
      "/nobackup/users/sangeon/datasets/jetGridpack/rawjets/QCD/QCD.h5\n"
     ]
    },
    {
     "name": "stderr",
     "output_type": "stream",
     "text": [
      "100%|██████████| 10/10 [06:40<00:00, 40.09s/it]\n"
     ]
    },
    {
     "name": "stdout",
     "output_type": "stream",
     "text": [
      "['3p', 'threeprong', '_400'] ['2p', 'twoprong', '_80']\n",
      "/nobackup/users/sangeon/datasets/jetGridpack/rawjets/3p/threeprong_400.h5\n",
      "/nobackup/users/sangeon/datasets/jetGridpack/rawjets/2p/twoprong_80.h5\n"
     ]
    },
    {
     "name": "stderr",
     "output_type": "stream",
     "text": [
      "100%|██████████| 10/10 [06:40<00:00, 40.03s/it]\n"
     ]
    },
    {
     "name": "stdout",
     "output_type": "stream",
     "text": [
      "['3p', 'threeprong', '_400'] ['2p', 'twoprong', '_400']\n",
      "/nobackup/users/sangeon/datasets/jetGridpack/rawjets/3p/threeprong_400.h5\n",
      "/nobackup/users/sangeon/datasets/jetGridpack/rawjets/2p/twoprong_400.h5\n"
     ]
    },
    {
     "name": "stderr",
     "output_type": "stream",
     "text": [
      "100%|██████████| 10/10 [06:41<00:00, 40.15s/it]\n"
     ]
    },
    {
     "name": "stdout",
     "output_type": "stream",
     "text": [
      "['3p', 'threeprong', '_400'] ['3p', 'threeprong', '_80']\n",
      "/nobackup/users/sangeon/datasets/jetGridpack/rawjets/3p/threeprong_400.h5\n",
      "/nobackup/users/sangeon/datasets/jetGridpack/rawjets/3p/threeprong_80.h5\n"
     ]
    },
    {
     "name": "stderr",
     "output_type": "stream",
     "text": [
      "100%|██████████| 10/10 [06:40<00:00, 40.05s/it]\n"
     ]
    },
    {
     "name": "stdout",
     "output_type": "stream",
     "text": [
      "['3p', 'threeprong', '_400'] ['3p', 'threeprong', '_400']\n",
      "/nobackup/users/sangeon/datasets/jetGridpack/rawjets/3p/threeprong_400.h5\n",
      "/nobackup/users/sangeon/datasets/jetGridpack/rawjets/3p/threeprong_400.h5\n"
     ]
    },
    {
     "name": "stderr",
     "output_type": "stream",
     "text": [
      "100%|██████████| 10/10 [06:39<00:00, 39.96s/it]"
     ]
    },
    {
     "name": "stdout",
     "output_type": "stream",
     "text": [
      "total time 11121.34701347351\n"
     ]
    },
    {
     "name": "stderr",
     "output_type": "stream",
     "text": [
      "\n"
     ]
    }
   ],
   "source": [
    "idx_list = []\n",
    "for i in range(5):\n",
    "    for j in range(5):\n",
    "        idx_list.append([i,j])\n",
    "        \n",
    "\n",
    "\n",
    "savedir   = '/nobackup/users/sangeon/datasets/jetGridpack/jetpairs/'\n",
    "rawjetdir = '/nobackup/users/sangeon/datasets/jetGridpack/rawjets/'\n",
    "type_arr  = [['QCD','QCD',''],['2p','twoprong','_80'],['2p','twoprong','_400'],['3p','threeprong','_80'],['3p','threeprong','_400']]\n",
    "len_test = 100000\n",
    "len_half  = 50000\n",
    "start = time.time()\n",
    "for idx in range(25):\n",
    "    np.random.seed()\n",
    "    #type_1 = type_arr[np.random.randint(0,5)]\n",
    "    np.random.seed()\n",
    "    #type_2 = type_arr[np.random.randint(0,5)]\n",
    "\n",
    "    type_1 = type_arr[idx_list[idx][0]]\n",
    "    type_2 = type_arr[idx_list[idx][1]]\n",
    "    print(type_1, type_2)\n",
    "    \n",
    "    df1 = pd.read_hdf(os.path.join(rawjetdir,type_1[0],f'{type_1[1]}{type_1[2]}_predict.h5'))\n",
    "    df2 = pd.read_hdf(os.path.join(rawjetdir,type_2[0],f'{type_2[1]}{type_2[2]}_predict.h5'))\n",
    "    A = df1.values[:len_test]\n",
    "    B = df2.values[:len_test]\n",
    "    \n",
    "    np.random.seed()\n",
    "    perm = np.random.permutation(len_test)\n",
    "    #print(A[perm[:5000]].shape)\n",
    "    #print(B[perm[5000:]].shape)\n",
    "    print(os.path.join(rawjetdir,type_1[0],f'{type_1[1]}{type_1[2]}_predict.h5'))\n",
    "    print(os.path.join(rawjetdir,type_2[0],f'{type_2[1]}{type_2[2]}_predict.h5'))\n",
    "    \n",
    "    test_set = JetDataset(False, None, False, A[perm[:len_half]],B[perm[len_half:]],16)\n",
    "    torch.save(test_set, os.path.join(savedir,f'Gridpack_jetpair_interpolateDistortion_16part_{idx}.pt'))\n",
    "    \n",
    "end = time.time()\n",
    "print('total time', end-start)"
   ]
  },
  {
   "cell_type": "code",
   "execution_count": 6,
   "metadata": {},
   "outputs": [
    {
     "name": "stdout",
     "output_type": "stream",
     "text": [
      "yes\n"
     ]
    }
   ],
   "source": [
    "print('yes')"
   ]
  },
  {
   "cell_type": "code",
   "execution_count": null,
   "metadata": {},
   "outputs": [],
   "source": []
  },
  {
   "cell_type": "code",
   "execution_count": null,
   "metadata": {},
   "outputs": [],
   "source": []
  },
  {
   "cell_type": "code",
   "execution_count": 5,
   "metadata": {},
   "outputs": [
    {
     "ename": "NameError",
     "evalue": "name 'predict_label' is not defined",
     "output_type": "error",
     "traceback": [
      "\u001b[0;31m---------------------------------------------------------------------------\u001b[0m",
      "\u001b[0;31mNameError\u001b[0m                                 Traceback (most recent call last)",
      "\u001b[0;32m/tmp/ipykernel_2858194/3402500506.py\u001b[0m in \u001b[0;36m<module>\u001b[0;34m\u001b[0m\n\u001b[0;32m----> 1\u001b[0;31m \u001b[0mpredict_label\u001b[0m\u001b[0;34m\u001b[0m\u001b[0;34m\u001b[0m\u001b[0m\n\u001b[0m",
      "\u001b[0;31mNameError\u001b[0m: name 'predict_label' is not defined"
     ]
    }
   ],
   "source": [
    "predict_label"
   ]
  },
  {
   "cell_type": "code",
   "execution_count": 19,
   "metadata": {},
   "outputs": [
    {
     "data": {
      "text/plain": [
       "(700000, 48)"
      ]
     },
     "execution_count": 19,
     "metadata": {},
     "output_type": "execute_result"
    }
   ],
   "source": [
    "results.shape"
   ]
  },
  {
   "cell_type": "code",
   "execution_count": 20,
   "metadata": {},
   "outputs": [
    {
     "data": {
      "text/plain": [
       "(700000,)"
      ]
     },
     "execution_count": 20,
     "metadata": {},
     "output_type": "execute_result"
    }
   ],
   "source": [
    "predict_label.shape"
   ]
  },
  {
   "cell_type": "code",
   "execution_count": 17,
   "metadata": {},
   "outputs": [
    {
     "data": {
      "text/plain": [
       "(1387644, 48)"
      ]
     },
     "execution_count": 17,
     "metadata": {},
     "output_type": "execute_result"
    }
   ],
   "source": [
    "results.shape"
   ]
  },
  {
   "cell_type": "code",
   "execution_count": null,
   "metadata": {},
   "outputs": [],
   "source": []
  },
  {
   "cell_type": "code",
   "execution_count": 5,
   "metadata": {},
   "outputs": [],
   "source": [
    "with open(f'/nobackup/users/sangeon/datasets/jets/rawjets/realistic/realistic_rawjet_test_1p_16part_merged.pickle', 'rb') as handle:\n",
    "    onep = pickle.load(handle)\n",
    "with open(f'/nobackup/users/sangeon/datasets/jets/rawjets/realistic/realistic_rawjet_test_2p_16part_merged.pickle', 'rb') as handle:\n",
    "    twop = pickle.load(handle)\n",
    "with open(f'/nobackup/users/sangeon/datasets/jets/rawjets/realistic/realistic_rawjet_test_3p_16part_merged.pickle', 'rb') as handle:\n",
    "    threep = pickle.load(handle)\n",
    "with open(f'/nobackup/users/sangeon/datasets/jets/rawjets/realistic/realistic_rawjet_test_4p_16part_merged.pickle', 'rb') as handle:\n",
    "    fourp = pickle.load(handle)"
   ]
  },
  {
   "cell_type": "code",
   "execution_count": 7,
   "metadata": {},
   "outputs": [
    {
     "name": "stdout",
     "output_type": "stream",
     "text": [
      "(200000, 48) (200000, 48) (200000, 48) (200000, 48)\n"
     ]
    }
   ],
   "source": [
    "print(onep.shape, twop.shape, threep.shape, fourp.shape)"
   ]
  },
  {
   "cell_type": "code",
   "execution_count": 10,
   "metadata": {},
   "outputs": [],
   "source": [
    "predictdata = np.vstack([onep,twop,threep,fourp])\n",
    "\n",
    "predict_label = np.concatenate([np.ones(200000),np.ones(200000)*2,np.ones(200000)*3,np.ones(200000)*4])\n",
    "\n",
    "predict_set = JetPredictDataset(False,None,predictdata,predict_label,16)\n",
    "\n",
    "torch.save(predict_set, f'/nobackup/users/sangeon/datasets/jets/jetpairs/realistic/realistic_jetpredict_16part.pt')"
   ]
  },
  {
   "cell_type": "markdown",
   "metadata": {},
   "source": [
    "# Theta Z information save"
   ]
  },
  {
   "cell_type": "code",
   "execution_count": 6,
   "metadata": {},
   "outputs": [],
   "source": [
    "with open(f'/nobackup/users/sangeon/datasets/jets/rawjets/realistic/realistic_rawjet_zthetatest_1p_16part_merged_data.pickle', 'rb') as handle:\n",
    "    onep = pickle.load(handle)\n",
    "with open(f'/nobackup/users/sangeon/datasets/jets/rawjets/realistic/realistic_rawjet_zthetatest_2p_16part_merged_data.pickle', 'rb') as handle:\n",
    "    twop = pickle.load(handle)\n",
    "with open(f'/nobackup/users/sangeon/datasets/jets/rawjets/realistic/realistic_rawjet_zthetatest_3p_16part_merged_data.pickle', 'rb') as handle:\n",
    "    threep = pickle.load(handle)\n",
    "with open(f'/nobackup/users/sangeon/datasets/jets/rawjets/realistic/realistic_rawjet_zthetatest_4p_16part_merged_data.pickle', 'rb') as handle:\n",
    "    fourp = pickle.load(handle)"
   ]
  },
  {
   "cell_type": "code",
   "execution_count": 5,
   "metadata": {},
   "outputs": [],
   "source": [
    "with open(f'/nobackup/users/sangeon/datasets/jets/rawjets/realistic/realistic_rawjet_zthetatest_1p_16part_merged_z.pickle', 'rb') as handle:\n",
    "    onep_z = pickle.load(handle)\n",
    "with open(f'/nobackup/users/sangeon/datasets/jets/rawjets/realistic/realistic_rawjet_zthetatest_2p_16part_merged_z.pickle', 'rb') as handle:\n",
    "    twop_z = pickle.load(handle)\n",
    "with open(f'/nobackup/users/sangeon/datasets/jets/rawjets/realistic/realistic_rawjet_zthetatest_3p_16part_merged_z.pickle', 'rb') as handle:\n",
    "    threep_z = pickle.load(handle)\n",
    "with open(f'/nobackup/users/sangeon/datasets/jets/rawjets/realistic/realistic_rawjet_zthetatest_4p_16part_merged_z.pickle', 'rb') as handle:\n",
    "    fourp_z = pickle.load(handle)"
   ]
  },
  {
   "cell_type": "code",
   "execution_count": 6,
   "metadata": {},
   "outputs": [],
   "source": [
    "with open(f'/nobackup/users/sangeon/datasets/jets/rawjets/realistic/realistic_rawjet_zthetatest_1p_16part_merged_theta.pickle', 'rb') as handle:\n",
    "    onep_theta = pickle.load(handle)\n",
    "with open(f'/nobackup/users/sangeon/datasets/jets/rawjets/realistic/realistic_rawjet_zthetatest_2p_16part_merged_theta.pickle', 'rb') as handle:\n",
    "    twop_theta = pickle.load(handle)\n",
    "with open(f'/nobackup/users/sangeon/datasets/jets/rawjets/realistic/realistic_rawjet_zthetatest_3p_16part_merged_theta.pickle', 'rb') as handle:\n",
    "    threep_theta = pickle.load(handle)\n",
    "with open(f'/nobackup/users/sangeon/datasets/jets/rawjets/realistic/realistic_rawjet_zthetatest_4p_16part_merged_theta.pickle', 'rb') as handle:\n",
    "    fourp_theta = pickle.load(handle)"
   ]
  },
  {
   "cell_type": "code",
   "execution_count": 12,
   "metadata": {},
   "outputs": [
    {
     "name": "stdout",
     "output_type": "stream",
     "text": [
      "(200000, 48) (200000, 48) (200000, 48) (200000, 48)\n"
     ]
    }
   ],
   "source": [
    "print(onep.shape, twop.shape, threep.shape, fourp.shape)"
   ]
  },
  {
   "cell_type": "code",
   "execution_count": 14,
   "metadata": {},
   "outputs": [
    {
     "name": "stdout",
     "output_type": "stream",
     "text": [
      "(800000, 48)\n"
     ]
    }
   ],
   "source": [
    "predictdata = np.vstack([onep,twop,threep,fourp])\n",
    "print(predictdata.shape)\n",
    "predict_label = np.concatenate([np.ones(200000),np.ones(200000)*2,np.ones(200000)*3,np.ones(200000)*4])\n",
    "\n",
    "predict_set = JetPredictDataset(False,None,True,predictdata,predict_label,16)\n",
    "\n",
    "torch.save(predict_set, f'/nobackup/users/sangeon/datasets/jets/jetpairs/realistic/realistic_jetpredict_zthetatest_16part.pt')"
   ]
  },
  {
   "cell_type": "code",
   "execution_count": 7,
   "metadata": {},
   "outputs": [],
   "source": [
    "predict_z = np.vstack([onep_z,twop_z,threep_z,fourp_z])\n"
   ]
  },
  {
   "cell_type": "code",
   "execution_count": 8,
   "metadata": {},
   "outputs": [],
   "source": [
    "predict_theta = np.vstack([onep_theta,twop_theta,threep_theta,fourp_theta])\n"
   ]
  },
  {
   "cell_type": "code",
   "execution_count": 9,
   "metadata": {},
   "outputs": [],
   "source": [
    "with open(f'/nobackup/users/sangeon/datasets/jets/jetpairs/realistic/realistic_jetpredict_zthetatest_16part_z.pickle', 'wb') as handle:\n",
    "    pickle.dump(predict_z, handle, protocol=pickle.HIGHEST_PROTOCOL)"
   ]
  },
  {
   "cell_type": "code",
   "execution_count": 10,
   "metadata": {},
   "outputs": [],
   "source": [
    "with open(f'/nobackup/users/sangeon/datasets/jets/jetpairs/realistic/realistic_jetpredict_zthetatest_16part_theta.pickle', 'wb') as handle:\n",
    "    pickle.dump(predict_theta, handle, protocol=pickle.HIGHEST_PROTOCOL)"
   ]
  },
  {
   "cell_type": "code",
   "execution_count": 8,
   "metadata": {},
   "outputs": [],
   "source": [
    "with open(f'/nobackup/users/sangeon/datasets/jets/rawjets/simple/simple_rawjet_test_1p_16part_merged.pickle', 'rb') as handle:\n",
    "    onep = pickle.load(handle)\n",
    "with open(f'/nobackup/users/sangeon/datasets/jets/rawjets/simple/simple_rawjet_test_2p_16part_merged.pickle', 'rb') as handle:\n",
    "    twop = pickle.load(handle)\n",
    "with open(f'/nobackup/users/sangeon/datasets/jets/rawjets/simple/simple_rawjet_test_3p_16part_merged.pickle', 'rb') as handle:\n",
    "    threep = pickle.load(handle)\n",
    "with open(f'/nobackup/users/sangeon/datasets/jets/rawjets/simple/simple_rawjet_test_4p_16part_merged.pickle', 'rb') as handle:\n",
    "    fourp = pickle.load(handle)"
   ]
  },
  {
   "cell_type": "code",
   "execution_count": 9,
   "metadata": {},
   "outputs": [
    {
     "data": {
      "text/plain": [
       "(400000, 48)"
      ]
     },
     "execution_count": 9,
     "metadata": {},
     "output_type": "execute_result"
    }
   ],
   "source": [
    "onep.shape"
   ]
  },
  {
   "cell_type": "code",
   "execution_count": 10,
   "metadata": {},
   "outputs": [
    {
     "data": {
      "text/plain": [
       "(400000, 48)"
      ]
     },
     "execution_count": 10,
     "metadata": {},
     "output_type": "execute_result"
    }
   ],
   "source": [
    "twop.shape"
   ]
  },
  {
   "cell_type": "code",
   "execution_count": 12,
   "metadata": {},
   "outputs": [
    {
     "data": {
      "text/plain": [
       "(400000, 48)"
      ]
     },
     "execution_count": 12,
     "metadata": {},
     "output_type": "execute_result"
    }
   ],
   "source": [
    "threep.shape"
   ]
  },
  {
   "cell_type": "code",
   "execution_count": 13,
   "metadata": {},
   "outputs": [
    {
     "data": {
      "text/plain": [
       "(400000, 48)"
      ]
     },
     "execution_count": 13,
     "metadata": {},
     "output_type": "execute_result"
    }
   ],
   "source": [
    "fourp.shape"
   ]
  },
  {
   "cell_type": "code",
   "execution_count": null,
   "metadata": {},
   "outputs": [],
   "source": []
  },
  {
   "cell_type": "code",
   "execution_count": null,
   "metadata": {},
   "outputs": [],
   "source": []
  },
  {
   "cell_type": "code",
   "execution_count": null,
   "metadata": {},
   "outputs": [],
   "source": []
  },
  {
   "cell_type": "code",
   "execution_count": 15,
   "metadata": {},
   "outputs": [],
   "source": [
    "predictdata = np.vstack([onep,twop,threep,fourp])"
   ]
  },
  {
   "cell_type": "code",
   "execution_count": 16,
   "metadata": {},
   "outputs": [
    {
     "data": {
      "text/plain": [
       "(1600000, 48)"
      ]
     },
     "execution_count": 16,
     "metadata": {},
     "output_type": "execute_result"
    }
   ],
   "source": [
    "predictdata.shape"
   ]
  },
  {
   "cell_type": "code",
   "execution_count": 17,
   "metadata": {},
   "outputs": [],
   "source": [
    "predict_label = np.concatenate([np.ones(400000),np.ones(400000)*2,np.ones(400000)*3,np.ones(400000)*4])"
   ]
  },
  {
   "cell_type": "code",
   "execution_count": 19,
   "metadata": {},
   "outputs": [
    {
     "data": {
      "text/plain": [
       "(1600000,)"
      ]
     },
     "execution_count": 19,
     "metadata": {},
     "output_type": "execute_result"
    }
   ],
   "source": [
    "predict_label.shape"
   ]
  },
  {
   "cell_type": "code",
   "execution_count": 20,
   "metadata": {},
   "outputs": [],
   "source": [
    "predict_set = JetPredictDataset(False,None,predictdata,predict_label,16)\n",
    "\n",
    "torch.save(predict_set, f'/nobackup/users/sangeon/datasets/jets/jetpairs/simple/simple_jetpredict_16part.pt')"
   ]
  },
  {
   "cell_type": "code",
   "execution_count": null,
   "metadata": {},
   "outputs": [],
   "source": [
    "predictdata = np.zeros((200000, 48))\n",
    "with open(f'/nobackup/users/sangeon/datasets/jets/rawjets/rawjet_16p_test_top_2p_{i}.pickle', 'rb') as handle:\n",
    "    A = pickle.load(handle)\n",
    "    predictdata[i*10000:(i+1)*10000] = A\n",
    "        \n",
    "with open(f'/nobackup/users/sangeon/datasets/jets/rawjets/rawjet_16p_test_top_3p_{i}.pickle', 'rb') as handle:\n",
    "    A = pickle.load(handle)\n",
    "    predictdata[100000+i*10000:100000+(i+1)*10000] = A        \n",
    "        \n",
    "        "
   ]
  },
  {
   "cell_type": "code",
   "execution_count": 10,
   "metadata": {},
   "outputs": [],
   "source": [
    "predictdata = np.zeros((200000, 48))\n",
    "for i in range(10):\n",
    "    with open(f'/nobackup/users/sangeon/datasets/jets/rawjets/rawjet_16p_test_top_2p_{i}.pickle', 'rb') as handle:\n",
    "        A = pickle.load(handle)\n",
    "        predictdata[i*10000:(i+1)*10000] = A\n",
    "        \n",
    "for i in range(10):\n",
    "    with open(f'/nobackup/users/sangeon/datasets/jets/rawjets/rawjet_16p_test_top_3p_{i}.pickle', 'rb') as handle:\n",
    "        A = pickle.load(handle)\n",
    "        predictdata[100000+i*10000:100000+(i+1)*10000] = A        \n",
    "        \n",
    "        "
   ]
  },
  {
   "cell_type": "code",
   "execution_count": 10,
   "metadata": {},
   "outputs": [],
   "source": [
    "predictdata = np.zeros((200000, 24))\n",
    "for i in range(10):\n",
    "    with open(f'../data/rawjet_predict_top_2p_{i}.pickle', 'rb') as handle:\n",
    "        A = pickle.load(handle)\n",
    "        predictdata[i*10000:(i+1)*10000] = A\n",
    "        \n",
    "for i in range(10):\n",
    "    with open(f'../data/rawjet_predict_top_3p_{i}.pickle', 'rb') as handle:\n",
    "        A = pickle.load(handle)\n",
    "        predictdata[100000+i*10000:100000+(i+1)*10000] = A        \n",
    "        \n",
    "        "
   ]
  },
  {
   "cell_type": "code",
   "execution_count": 11,
   "metadata": {},
   "outputs": [],
   "source": [
    "predict_label = np.concatenate([np.zeros(100000),np.ones(100000)])"
   ]
  },
  {
   "cell_type": "code",
   "execution_count": 15,
   "metadata": {},
   "outputs": [
    {
     "data": {
      "text/plain": [
       "array([[ 6.99495974e+01, -4.62456322e-01,  9.37513138e-03],\n",
       "       [ 2.08527162e+01, -5.08091968e-01, -1.37167399e-02],\n",
       "       [ 9.45262145e+00, -1.69237894e-01,  8.44849371e-01],\n",
       "       [ 1.31046161e+02, -1.86486084e-01, -1.64772091e-01],\n",
       "       [ 1.40813906e+01, -1.87280071e-01, -1.65739820e-01],\n",
       "       [ 2.74764412e+00, -2.10888479e-01, -1.20393760e-01],\n",
       "       [ 2.87590590e+01, -1.70390329e-01,  8.25092420e-01],\n",
       "       [ 3.96745565e+01, -1.80208756e-01, -1.08734917e-01],\n",
       "       [ 1.10372210e+01, -5.00814653e-01, -2.06670027e-02],\n",
       "       [ 2.58505190e+01, -4.99693093e-01, -2.14799391e-02],\n",
       "       [ 1.19876449e-01, -2.07820133e-01,  7.23484579e-01],\n",
       "       [ 1.41887849e+00, -2.47684380e-01,  3.82181474e-01],\n",
       "       [ 6.44399335e+01, -4.60593627e-01,  5.88519453e-03],\n",
       "       [ 4.33020192e-02, -2.85940766e-01,  8.85119217e-01],\n",
       "       [ 5.30016595e+00, -4.60519062e-01,  6.48273680e-03],\n",
       "       [ 2.09678433e-01, -2.74214655e-01,  3.94282241e-01]])"
      ]
     },
     "execution_count": 15,
     "metadata": {},
     "output_type": "execute_result"
    }
   ],
   "source": [
    "predictdata[0].reshape(-1,3)"
   ]
  },
  {
   "cell_type": "code",
   "execution_count": 14,
   "metadata": {},
   "outputs": [],
   "source": [
    "#predict_set = JetPredictDataset(False,None,predictdata,predict_label,8)\n",
    "predict_set = JetPredictDataset(False,None,predictdata,predict_label,16)\n",
    "\n",
    "torch.save(predict_set, f'/nobackup/users/sangeon/datasets/jets/jet_16p_predict_temp.pt')"
   ]
  },
  {
   "cell_type": "code",
   "execution_count": 11,
   "metadata": {},
   "outputs": [
    {
     "name": "stderr",
     "output_type": "stream",
     "text": [
      "100%|██████████| 40/40 [00:11<00:00,  3.48it/s]\n",
      "100%|██████████| 40/40 [00:11<00:00,  3.50it/s]\n",
      "100%|██████████| 40/40 [00:11<00:00,  3.47it/s]\n",
      "100%|██████████| 40/40 [00:11<00:00,  3.48it/s]\n",
      "100%|██████████| 40/40 [00:11<00:00,  3.47it/s]\n",
      "100%|██████████| 40/40 [00:11<00:00,  3.49it/s]\n",
      "100%|██████████| 40/40 [00:11<00:00,  3.48it/s]\n",
      "100%|██████████| 40/40 [00:11<00:00,  3.50it/s]\n",
      "100%|██████████| 40/40 [00:11<00:00,  3.49it/s]\n",
      "100%|██████████| 40/40 [00:11<00:00,  3.45it/s]\n",
      "100%|██████████| 40/40 [00:11<00:00,  3.50it/s]\n",
      "100%|██████████| 40/40 [00:11<00:00,  3.50it/s]\n",
      "100%|██████████| 40/40 [00:11<00:00,  3.49it/s]\n",
      "100%|██████████| 40/40 [00:11<00:00,  3.50it/s]\n",
      "100%|██████████| 40/40 [00:11<00:00,  3.49it/s]\n",
      "100%|██████████| 40/40 [00:11<00:00,  3.49it/s]\n",
      "100%|██████████| 40/40 [00:11<00:00,  3.49it/s]\n",
      "100%|██████████| 40/40 [00:11<00:00,  3.48it/s]\n",
      "100%|██████████| 40/40 [00:11<00:00,  3.49it/s]\n",
      "100%|██████████| 40/40 [00:11<00:00,  3.46it/s]\n",
      "100%|██████████| 40/40 [00:11<00:00,  3.51it/s]\n",
      "100%|██████████| 40/40 [00:11<00:00,  3.52it/s]\n",
      "100%|██████████| 40/40 [00:11<00:00,  3.49it/s]\n",
      "100%|██████████| 40/40 [00:11<00:00,  3.49it/s]\n",
      "100%|██████████| 40/40 [00:11<00:00,  3.48it/s]\n",
      "100%|██████████| 40/40 [00:11<00:00,  3.49it/s]\n",
      "100%|██████████| 40/40 [00:11<00:00,  3.43it/s]\n",
      "100%|██████████| 40/40 [00:11<00:00,  3.47it/s]\n",
      "100%|██████████| 40/40 [00:11<00:00,  3.47it/s]\n",
      "100%|██████████| 40/40 [00:11<00:00,  3.49it/s]\n",
      "100%|██████████| 40/40 [00:11<00:00,  3.46it/s]\n",
      "100%|██████████| 40/40 [00:11<00:00,  3.50it/s]\n",
      "100%|██████████| 40/40 [00:11<00:00,  3.51it/s]\n",
      "100%|██████████| 40/40 [00:11<00:00,  3.52it/s]\n",
      "100%|██████████| 40/40 [00:11<00:00,  3.48it/s]\n",
      "100%|██████████| 40/40 [00:11<00:00,  3.49it/s]\n",
      "100%|██████████| 40/40 [00:11<00:00,  3.49it/s]\n",
      "100%|██████████| 40/40 [00:11<00:00,  3.48it/s]\n",
      "100%|██████████| 40/40 [00:11<00:00,  3.51it/s]\n",
      "100%|██████████| 40/40 [00:11<00:00,  3.51it/s]\n",
      "100%|██████████| 40/40 [00:11<00:00,  3.47it/s]\n",
      "100%|██████████| 40/40 [00:11<00:00,  3.50it/s]\n",
      "100%|██████████| 40/40 [00:11<00:00,  3.50it/s]\n",
      "100%|██████████| 40/40 [00:11<00:00,  3.51it/s]\n",
      "100%|██████████| 40/40 [00:11<00:00,  3.52it/s]\n",
      "100%|██████████| 40/40 [00:11<00:00,  3.52it/s]\n",
      "100%|██████████| 40/40 [00:11<00:00,  3.50it/s]\n",
      "100%|██████████| 40/40 [00:11<00:00,  3.51it/s]\n",
      "100%|██████████| 40/40 [00:11<00:00,  3.52it/s]\n",
      "100%|██████████| 40/40 [00:11<00:00,  3.51it/s]\n",
      "100%|██████████| 40/40 [00:11<00:00,  3.52it/s]\n",
      "100%|██████████| 40/40 [00:11<00:00,  3.48it/s]\n",
      "100%|██████████| 40/40 [00:11<00:00,  3.49it/s]\n",
      "100%|██████████| 40/40 [00:11<00:00,  3.49it/s]\n",
      "100%|██████████| 40/40 [00:11<00:00,  3.49it/s]\n",
      "100%|██████████| 40/40 [00:11<00:00,  3.49it/s]\n",
      "100%|██████████| 40/40 [00:11<00:00,  3.50it/s]\n",
      "100%|██████████| 40/40 [00:11<00:00,  3.48it/s]\n",
      "100%|██████████| 40/40 [00:11<00:00,  3.50it/s]\n",
      "100%|██████████| 40/40 [00:11<00:00,  3.49it/s]\n",
      "100%|██████████| 40/40 [00:11<00:00,  3.49it/s]\n",
      "100%|██████████| 40/40 [00:11<00:00,  3.48it/s]\n",
      "100%|██████████| 40/40 [00:11<00:00,  3.44it/s]\n",
      "100%|██████████| 40/40 [00:11<00:00,  3.50it/s]\n",
      "100%|██████████| 40/40 [00:11<00:00,  3.49it/s]\n",
      "100%|██████████| 40/40 [00:11<00:00,  3.49it/s]\n",
      "100%|██████████| 40/40 [00:11<00:00,  3.50it/s]\n",
      "100%|██████████| 40/40 [00:11<00:00,  3.49it/s]\n",
      "100%|██████████| 40/40 [00:11<00:00,  3.51it/s]\n",
      "100%|██████████| 40/40 [00:11<00:00,  3.50it/s]\n",
      "100%|██████████| 40/40 [00:11<00:00,  3.49it/s]\n",
      "100%|██████████| 40/40 [00:11<00:00,  3.49it/s]\n",
      "100%|██████████| 40/40 [00:11<00:00,  3.46it/s]\n",
      "100%|██████████| 40/40 [00:11<00:00,  3.50it/s]\n",
      "100%|██████████| 40/40 [00:11<00:00,  3.50it/s]\n",
      "100%|██████████| 40/40 [00:11<00:00,  3.50it/s]\n",
      "100%|██████████| 40/40 [00:11<00:00,  3.50it/s]\n",
      "100%|██████████| 40/40 [00:11<00:00,  3.50it/s]\n",
      "100%|██████████| 40/40 [00:11<00:00,  3.50it/s]\n",
      "100%|██████████| 40/40 [00:11<00:00,  3.52it/s]\n",
      "100%|██████████| 40/40 [00:11<00:00,  3.50it/s]\n",
      "100%|██████████| 40/40 [00:11<00:00,  3.52it/s]\n",
      "100%|██████████| 40/40 [00:11<00:00,  3.51it/s]\n",
      "100%|██████████| 40/40 [00:11<00:00,  3.48it/s]\n",
      "100%|██████████| 40/40 [00:11<00:00,  3.52it/s]\n",
      "100%|██████████| 40/40 [00:11<00:00,  3.48it/s]\n",
      "100%|██████████| 40/40 [00:11<00:00,  3.52it/s]\n",
      "100%|██████████| 40/40 [00:11<00:00,  3.49it/s]\n",
      "100%|██████████| 40/40 [00:11<00:00,  3.50it/s]\n",
      "100%|██████████| 40/40 [00:11<00:00,  3.52it/s]\n",
      "100%|██████████| 40/40 [00:11<00:00,  3.48it/s]\n",
      "100%|██████████| 40/40 [00:11<00:00,  3.50it/s]\n",
      "100%|██████████| 40/40 [00:11<00:00,  3.49it/s]\n",
      "100%|██████████| 40/40 [00:11<00:00,  3.46it/s]\n",
      "100%|██████████| 40/40 [00:11<00:00,  3.49it/s]\n",
      "100%|██████████| 40/40 [00:11<00:00,  3.50it/s]\n",
      "100%|██████████| 40/40 [00:11<00:00,  3.49it/s]\n",
      "100%|██████████| 40/40 [00:11<00:00,  3.48it/s]\n",
      "100%|██████████| 40/40 [00:11<00:00,  3.48it/s]\n",
      "100%|██████████| 40/40 [00:11<00:00,  3.51it/s]\n"
     ]
    }
   ],
   "source": [
    "for i in range(100):\n",
    "    np.random.seed()\n",
    "    type_1 = type_arr[np.random.randint(0,2)]\n",
    "    type_2 = type_arr[np.random.randint(0,2)]\n",
    "    np.random.seed()\n",
    "    index_1 = np.random.randint(0,10)\n",
    "    index_2 = np.random.randint(0,10)\n",
    "    with open(f'rawjet_test_top_{type_1}_{index_1}.pickle', 'rb') as handle:\n",
    "        A = pickle.load(handle)\n",
    "    with open(f'rawjet_test_top_{type_2}_{index_2}.pickle', 'rb') as handle:\n",
    "        B = pickle.load(handle)\n",
    "    np.random.seed()\n",
    "    perm = np.random.permutation(10000)\n",
    "    #print(A[perm[:5000]].shape)\n",
    "    #print(B[perm[5000:]].shape)\n",
    "    test_set = JetDataset(False, None, A[perm[:5000]],B[perm[5000:]],8)\n",
    "    torch.save(test_set, f'/nobackup/users/sangeon/datasets/jets/jet_test_8part_{i}.pt')\n"
   ]
  },
  {
   "cell_type": "code",
   "execution_count": 10,
   "metadata": {},
   "outputs": [
    {
     "name": "stderr",
     "output_type": "stream",
     "text": [
      "100%|██████████| 40/40 [00:19<00:00,  2.01it/s]\n",
      "100%|██████████| 40/40 [00:11<00:00,  3.48it/s]\n",
      "100%|██████████| 40/40 [00:11<00:00,  3.47it/s]\n",
      "100%|██████████| 40/40 [00:11<00:00,  3.48it/s]\n",
      "100%|██████████| 40/40 [00:11<00:00,  3.51it/s]\n",
      "100%|██████████| 40/40 [00:11<00:00,  3.46it/s]\n",
      "100%|██████████| 40/40 [00:11<00:00,  3.44it/s]\n",
      "100%|██████████| 40/40 [00:11<00:00,  3.50it/s]\n",
      "100%|██████████| 40/40 [00:11<00:00,  3.47it/s]\n",
      "100%|██████████| 40/40 [00:11<00:00,  3.50it/s]\n",
      "100%|██████████| 40/40 [00:11<00:00,  3.48it/s]\n",
      "100%|██████████| 40/40 [00:11<00:00,  3.47it/s]\n",
      "100%|██████████| 40/40 [00:11<00:00,  3.48it/s]\n",
      "100%|██████████| 40/40 [00:11<00:00,  3.51it/s]\n",
      "100%|██████████| 40/40 [00:11<00:00,  3.51it/s]\n",
      "100%|██████████| 40/40 [00:11<00:00,  3.52it/s]\n",
      "100%|██████████| 40/40 [00:11<00:00,  3.48it/s]\n",
      "100%|██████████| 40/40 [00:11<00:00,  3.51it/s]\n",
      "100%|██████████| 40/40 [00:11<00:00,  3.50it/s]\n",
      "100%|██████████| 40/40 [00:11<00:00,  3.52it/s]\n",
      "100%|██████████| 40/40 [00:11<00:00,  3.50it/s]\n",
      "100%|██████████| 40/40 [00:11<00:00,  3.49it/s]\n",
      "100%|██████████| 40/40 [00:11<00:00,  3.49it/s]\n",
      "100%|██████████| 40/40 [00:11<00:00,  3.48it/s]\n",
      "100%|██████████| 40/40 [00:11<00:00,  3.50it/s]\n",
      "100%|██████████| 40/40 [00:11<00:00,  3.49it/s]\n",
      "100%|██████████| 40/40 [00:11<00:00,  3.50it/s]\n",
      "100%|██████████| 40/40 [00:11<00:00,  3.45it/s]\n",
      "100%|██████████| 40/40 [00:11<00:00,  3.50it/s]\n",
      "100%|██████████| 40/40 [00:11<00:00,  3.50it/s]\n",
      "100%|██████████| 40/40 [00:11<00:00,  3.49it/s]\n",
      "100%|██████████| 40/40 [00:11<00:00,  3.51it/s]\n",
      "100%|██████████| 40/40 [00:11<00:00,  3.50it/s]\n",
      "100%|██████████| 40/40 [00:11<00:00,  3.52it/s]\n",
      "100%|██████████| 40/40 [00:11<00:00,  3.52it/s]\n",
      "100%|██████████| 40/40 [00:11<00:00,  3.52it/s]\n",
      "100%|██████████| 40/40 [00:11<00:00,  3.53it/s]\n",
      "100%|██████████| 40/40 [00:11<00:00,  3.51it/s]\n",
      "100%|██████████| 40/40 [00:11<00:00,  3.47it/s]\n",
      "100%|██████████| 40/40 [00:11<00:00,  3.52it/s]\n",
      "100%|██████████| 40/40 [00:11<00:00,  3.51it/s]\n",
      "100%|██████████| 40/40 [00:11<00:00,  3.52it/s]\n",
      "100%|██████████| 40/40 [00:11<00:00,  3.51it/s]\n",
      "100%|██████████| 40/40 [00:11<00:00,  3.51it/s]\n",
      "100%|██████████| 40/40 [00:11<00:00,  3.51it/s]\n",
      "100%|██████████| 40/40 [00:11<00:00,  3.50it/s]\n",
      "100%|██████████| 40/40 [00:11<00:00,  3.51it/s]\n",
      "100%|██████████| 40/40 [00:11<00:00,  3.50it/s]\n",
      "100%|██████████| 40/40 [00:11<00:00,  3.48it/s]\n",
      "100%|██████████| 40/40 [00:11<00:00,  3.50it/s]\n",
      "100%|██████████| 40/40 [00:11<00:00,  3.49it/s]\n",
      "100%|██████████| 40/40 [00:11<00:00,  3.51it/s]\n",
      "100%|██████████| 40/40 [00:11<00:00,  3.49it/s]\n",
      "100%|██████████| 40/40 [00:11<00:00,  3.50it/s]\n",
      "100%|██████████| 40/40 [00:11<00:00,  3.49it/s]\n",
      "100%|██████████| 40/40 [00:11<00:00,  3.49it/s]\n",
      "100%|██████████| 40/40 [00:11<00:00,  3.50it/s]\n",
      "100%|██████████| 40/40 [00:11<00:00,  3.50it/s]\n",
      "100%|██████████| 40/40 [00:11<00:00,  3.51it/s]\n",
      "100%|██████████| 40/40 [00:11<00:00,  3.46it/s]\n",
      "100%|██████████| 40/40 [00:11<00:00,  3.50it/s]\n",
      "100%|██████████| 40/40 [00:11<00:00,  3.53it/s]\n",
      "100%|██████████| 40/40 [00:11<00:00,  3.52it/s]\n",
      "100%|██████████| 40/40 [00:11<00:00,  3.51it/s]\n",
      "100%|██████████| 40/40 [00:11<00:00,  3.53it/s]\n",
      "100%|██████████| 40/40 [00:11<00:00,  3.50it/s]\n",
      "100%|██████████| 40/40 [00:11<00:00,  3.50it/s]\n",
      "100%|██████████| 40/40 [00:11<00:00,  3.49it/s]\n",
      "100%|██████████| 40/40 [00:11<00:00,  3.50it/s]\n",
      "100%|██████████| 40/40 [00:11<00:00,  3.47it/s]\n",
      "100%|██████████| 40/40 [00:11<00:00,  3.50it/s]\n",
      "100%|██████████| 40/40 [00:11<00:00,  3.49it/s]\n",
      "100%|██████████| 40/40 [00:11<00:00,  3.50it/s]\n",
      "100%|██████████| 40/40 [00:11<00:00,  3.50it/s]\n",
      "100%|██████████| 40/40 [00:11<00:00,  3.50it/s]\n",
      "100%|██████████| 40/40 [00:11<00:00,  3.52it/s]\n",
      "100%|██████████| 40/40 [00:11<00:00,  3.52it/s]\n",
      "100%|██████████| 40/40 [00:11<00:00,  3.50it/s]\n",
      "100%|██████████| 40/40 [00:11<00:00,  3.53it/s]\n",
      "100%|██████████| 40/40 [00:11<00:00,  3.52it/s]\n",
      "100%|██████████| 40/40 [00:11<00:00,  3.48it/s]\n",
      "100%|██████████| 40/40 [00:11<00:00,  3.50it/s]\n",
      "100%|██████████| 40/40 [00:11<00:00,  3.50it/s]\n",
      "100%|██████████| 40/40 [00:11<00:00,  3.51it/s]\n",
      "100%|██████████| 40/40 [00:11<00:00,  3.50it/s]\n",
      "100%|██████████| 40/40 [00:11<00:00,  3.50it/s]\n",
      "100%|██████████| 40/40 [00:11<00:00,  3.50it/s]\n",
      "100%|██████████| 40/40 [00:11<00:00,  3.48it/s]\n",
      "100%|██████████| 40/40 [00:11<00:00,  3.50it/s]\n",
      "100%|██████████| 40/40 [00:11<00:00,  3.49it/s]\n",
      "100%|██████████| 40/40 [00:11<00:00,  3.49it/s]\n",
      "100%|██████████| 40/40 [00:11<00:00,  3.51it/s]\n",
      "100%|██████████| 40/40 [00:11<00:00,  3.50it/s]\n",
      "100%|██████████| 40/40 [00:11<00:00,  3.48it/s]\n",
      "100%|██████████| 40/40 [00:11<00:00,  3.49it/s]\n",
      "100%|██████████| 40/40 [00:11<00:00,  3.50it/s]\n",
      "100%|██████████| 40/40 [00:11<00:00,  3.50it/s]\n",
      "100%|██████████| 40/40 [00:11<00:00,  3.49it/s]\n",
      "100%|██████████| 40/40 [00:11<00:00,  3.51it/s]\n",
      "100%|██████████| 40/40 [00:11<00:00,  3.51it/s]\n",
      "100%|██████████| 40/40 [00:11<00:00,  3.52it/s]\n",
      "100%|██████████| 40/40 [00:11<00:00,  3.47it/s]\n",
      "100%|██████████| 40/40 [00:11<00:00,  3.49it/s]\n",
      "100%|██████████| 40/40 [00:11<00:00,  3.49it/s]\n",
      "100%|██████████| 40/40 [00:11<00:00,  3.50it/s]\n",
      "100%|██████████| 40/40 [00:11<00:00,  3.49it/s]\n",
      "100%|██████████| 40/40 [00:11<00:00,  3.51it/s]\n",
      "100%|██████████| 40/40 [00:11<00:00,  3.49it/s]\n",
      "100%|██████████| 40/40 [00:11<00:00,  3.49it/s]\n",
      "100%|██████████| 40/40 [00:11<00:00,  3.51it/s]\n",
      "100%|██████████| 40/40 [00:11<00:00,  3.51it/s]\n",
      "100%|██████████| 40/40 [00:11<00:00,  3.44it/s]\n",
      "100%|██████████| 40/40 [00:11<00:00,  3.51it/s]\n",
      "100%|██████████| 40/40 [00:11<00:00,  3.53it/s]\n",
      "100%|██████████| 40/40 [00:11<00:00,  3.50it/s]\n",
      "100%|██████████| 40/40 [00:11<00:00,  3.49it/s]\n",
      "100%|██████████| 40/40 [00:11<00:00,  3.50it/s]\n",
      "100%|██████████| 40/40 [00:11<00:00,  3.49it/s]\n",
      "100%|██████████| 40/40 [00:11<00:00,  3.50it/s]\n",
      "100%|██████████| 40/40 [00:11<00:00,  3.51it/s]\n",
      "100%|██████████| 40/40 [00:11<00:00,  3.50it/s]\n",
      "100%|██████████| 40/40 [00:11<00:00,  3.52it/s]\n",
      "100%|██████████| 40/40 [00:11<00:00,  3.48it/s]\n",
      "100%|██████████| 40/40 [00:11<00:00,  3.53it/s]\n",
      "100%|██████████| 40/40 [00:11<00:00,  3.51it/s]\n",
      "100%|██████████| 40/40 [00:11<00:00,  3.51it/s]\n",
      "100%|██████████| 40/40 [00:11<00:00,  3.51it/s]\n",
      "100%|██████████| 40/40 [00:11<00:00,  3.51it/s]\n",
      "100%|██████████| 40/40 [00:11<00:00,  3.51it/s]\n",
      "100%|██████████| 40/40 [00:11<00:00,  3.52it/s]\n",
      "100%|██████████| 40/40 [00:11<00:00,  3.51it/s]\n",
      "100%|██████████| 40/40 [00:11<00:00,  3.52it/s]\n",
      "100%|██████████| 40/40 [00:11<00:00,  3.50it/s]\n",
      "100%|██████████| 40/40 [00:11<00:00,  3.46it/s]\n",
      "100%|██████████| 40/40 [00:11<00:00,  3.51it/s]\n",
      "100%|██████████| 40/40 [00:11<00:00,  3.49it/s]\n",
      "100%|██████████| 40/40 [00:11<00:00,  3.48it/s]\n",
      "100%|██████████| 40/40 [00:11<00:00,  3.49it/s]\n",
      "100%|██████████| 40/40 [00:11<00:00,  3.51it/s]\n",
      "100%|██████████| 40/40 [00:11<00:00,  3.51it/s]\n",
      "100%|██████████| 40/40 [00:11<00:00,  3.52it/s]\n",
      "100%|██████████| 40/40 [00:11<00:00,  3.50it/s]\n",
      "100%|██████████| 40/40 [00:11<00:00,  3.50it/s]\n",
      "100%|██████████| 40/40 [00:11<00:00,  3.47it/s]\n",
      "100%|██████████| 40/40 [00:11<00:00,  3.50it/s]\n",
      "100%|██████████| 40/40 [00:11<00:00,  3.52it/s]\n",
      "100%|██████████| 40/40 [00:11<00:00,  3.51it/s]\n",
      "100%|██████████| 40/40 [00:11<00:00,  3.52it/s]\n",
      "100%|██████████| 40/40 [00:11<00:00,  3.50it/s]\n",
      "100%|██████████| 40/40 [00:11<00:00,  3.52it/s]\n",
      "100%|██████████| 40/40 [00:11<00:00,  3.50it/s]\n",
      "100%|██████████| 40/40 [00:11<00:00,  3.50it/s]\n",
      "100%|██████████| 40/40 [00:11<00:00,  3.50it/s]\n",
      "100%|██████████| 40/40 [00:11<00:00,  3.49it/s]\n",
      "100%|██████████| 40/40 [00:11<00:00,  3.47it/s]\n",
      "100%|██████████| 40/40 [00:11<00:00,  3.51it/s]\n",
      "100%|██████████| 40/40 [00:11<00:00,  3.52it/s]\n",
      "100%|██████████| 40/40 [00:11<00:00,  3.52it/s]\n",
      "100%|██████████| 40/40 [00:11<00:00,  3.51it/s]\n",
      "100%|██████████| 40/40 [00:11<00:00,  3.50it/s]\n",
      "100%|██████████| 40/40 [00:11<00:00,  3.50it/s]\n",
      "100%|██████████| 40/40 [00:11<00:00,  3.49it/s]\n",
      "100%|██████████| 40/40 [00:11<00:00,  3.50it/s]\n",
      "100%|██████████| 40/40 [00:11<00:00,  3.49it/s]\n",
      "100%|██████████| 40/40 [00:11<00:00,  3.44it/s]\n",
      "100%|██████████| 40/40 [00:11<00:00,  3.49it/s]\n",
      "100%|██████████| 40/40 [00:11<00:00,  3.52it/s]\n",
      "100%|██████████| 40/40 [00:11<00:00,  3.51it/s]\n",
      "100%|██████████| 40/40 [00:11<00:00,  3.52it/s]\n",
      "100%|██████████| 40/40 [00:11<00:00,  3.52it/s]\n",
      "100%|██████████| 40/40 [00:11<00:00,  3.50it/s]\n",
      "100%|██████████| 40/40 [00:11<00:00,  3.51it/s]\n",
      "100%|██████████| 40/40 [00:11<00:00,  3.49it/s]\n",
      "100%|██████████| 40/40 [00:11<00:00,  3.49it/s]\n",
      "100%|██████████| 40/40 [00:11<00:00,  3.49it/s]\n",
      "100%|██████████| 40/40 [00:11<00:00,  3.49it/s]\n",
      "100%|██████████| 40/40 [00:11<00:00,  3.51it/s]\n",
      "100%|██████████| 40/40 [00:11<00:00,  3.50it/s]\n",
      "100%|██████████| 40/40 [00:11<00:00,  3.51it/s]\n",
      "100%|██████████| 40/40 [00:11<00:00,  3.52it/s]\n",
      "100%|██████████| 40/40 [00:11<00:00,  3.51it/s]\n",
      "100%|██████████| 40/40 [00:11<00:00,  3.50it/s]\n",
      "100%|██████████| 40/40 [00:11<00:00,  3.52it/s]\n",
      "100%|██████████| 40/40 [00:11<00:00,  3.52it/s]\n",
      "100%|██████████| 40/40 [00:11<00:00,  3.52it/s]\n",
      "100%|██████████| 40/40 [00:11<00:00,  3.47it/s]\n",
      "100%|██████████| 40/40 [00:11<00:00,  3.51it/s]\n",
      "100%|██████████| 40/40 [00:11<00:00,  3.52it/s]\n",
      "100%|██████████| 40/40 [00:11<00:00,  3.50it/s]\n",
      "100%|██████████| 40/40 [00:11<00:00,  3.51it/s]\n",
      "100%|██████████| 40/40 [00:11<00:00,  3.50it/s]\n",
      "100%|██████████| 40/40 [00:11<00:00,  3.51it/s]\n",
      "100%|██████████| 40/40 [00:11<00:00,  3.50it/s]\n",
      "100%|██████████| 40/40 [00:11<00:00,  3.50it/s]\n",
      "100%|██████████| 40/40 [00:11<00:00,  3.49it/s]\n",
      "100%|██████████| 40/40 [00:11<00:00,  3.51it/s]\n",
      "100%|██████████| 40/40 [00:11<00:00,  3.49it/s]\n",
      "100%|██████████| 40/40 [00:11<00:00,  3.51it/s]\n",
      "100%|██████████| 40/40 [00:11<00:00,  3.52it/s]\n",
      "100%|██████████| 40/40 [00:11<00:00,  3.52it/s]\n",
      "100%|██████████| 40/40 [00:11<00:00,  3.49it/s]\n",
      "100%|██████████| 40/40 [00:11<00:00,  3.50it/s]\n",
      "100%|██████████| 40/40 [00:11<00:00,  3.51it/s]\n",
      "100%|██████████| 40/40 [00:11<00:00,  3.51it/s]\n",
      "100%|██████████| 40/40 [00:11<00:00,  3.51it/s]\n",
      "100%|██████████| 40/40 [00:11<00:00,  3.50it/s]\n",
      "100%|██████████| 40/40 [00:11<00:00,  3.51it/s]\n",
      "100%|██████████| 40/40 [00:11<00:00,  3.48it/s]\n",
      "100%|██████████| 40/40 [00:11<00:00,  3.53it/s]\n",
      "100%|██████████| 40/40 [00:11<00:00,  3.52it/s]\n",
      "100%|██████████| 40/40 [00:11<00:00,  3.50it/s]\n",
      "100%|██████████| 40/40 [00:11<00:00,  3.51it/s]\n",
      "100%|██████████| 40/40 [00:11<00:00,  3.51it/s]\n",
      "100%|██████████| 40/40 [00:11<00:00,  3.48it/s]\n",
      "100%|██████████| 40/40 [00:11<00:00,  3.50it/s]\n",
      "100%|██████████| 40/40 [00:11<00:00,  3.50it/s]\n",
      "100%|██████████| 40/40 [00:11<00:00,  3.51it/s]\n",
      "100%|██████████| 40/40 [00:11<00:00,  3.47it/s]\n",
      "100%|██████████| 40/40 [00:11<00:00,  3.51it/s]\n",
      "100%|██████████| 40/40 [00:11<00:00,  3.49it/s]\n",
      "100%|██████████| 40/40 [00:11<00:00,  3.51it/s]\n",
      "100%|██████████| 40/40 [00:11<00:00,  3.51it/s]\n",
      "100%|██████████| 40/40 [00:11<00:00,  3.50it/s]\n",
      "100%|██████████| 40/40 [00:11<00:00,  3.49it/s]\n",
      "100%|██████████| 40/40 [00:11<00:00,  3.49it/s]\n",
      "100%|██████████| 40/40 [00:11<00:00,  3.50it/s]\n",
      "100%|██████████| 40/40 [00:11<00:00,  3.49it/s]\n",
      "100%|██████████| 40/40 [00:11<00:00,  3.50it/s]\n",
      "100%|██████████| 40/40 [00:11<00:00,  3.44it/s]\n",
      "100%|██████████| 40/40 [00:11<00:00,  3.50it/s]\n",
      "100%|██████████| 40/40 [00:11<00:00,  3.49it/s]\n",
      "100%|██████████| 40/40 [00:11<00:00,  3.49it/s]\n",
      "100%|██████████| 40/40 [00:11<00:00,  3.50it/s]\n",
      "100%|██████████| 40/40 [00:11<00:00,  3.52it/s]\n",
      "100%|██████████| 40/40 [00:11<00:00,  3.50it/s]\n",
      "100%|██████████| 40/40 [00:11<00:00,  3.50it/s]\n",
      "100%|██████████| 40/40 [00:11<00:00,  3.50it/s]\n",
      "100%|██████████| 40/40 [00:11<00:00,  3.51it/s]\n",
      "100%|██████████| 40/40 [00:11<00:00,  3.47it/s]\n",
      "100%|██████████| 40/40 [00:11<00:00,  3.49it/s]\n",
      "100%|██████████| 40/40 [00:11<00:00,  3.52it/s]\n",
      "100%|██████████| 40/40 [00:11<00:00,  3.49it/s]\n",
      "100%|██████████| 40/40 [00:11<00:00,  3.50it/s]\n",
      "100%|██████████| 40/40 [00:11<00:00,  3.51it/s]\n",
      "100%|██████████| 40/40 [00:11<00:00,  3.50it/s]\n",
      "100%|██████████| 40/40 [00:11<00:00,  3.53it/s]\n",
      "100%|██████████| 40/40 [00:11<00:00,  3.51it/s]\n",
      "100%|██████████| 40/40 [00:11<00:00,  3.52it/s]\n",
      "100%|██████████| 40/40 [00:11<00:00,  3.50it/s]\n",
      "100%|██████████| 40/40 [00:11<00:00,  3.47it/s]\n",
      "100%|██████████| 40/40 [00:11<00:00,  3.51it/s]\n",
      "100%|██████████| 40/40 [00:11<00:00,  3.52it/s]\n",
      "100%|██████████| 40/40 [00:11<00:00,  3.51it/s]\n",
      "100%|██████████| 40/40 [00:11<00:00,  3.49it/s]\n",
      "100%|██████████| 40/40 [00:11<00:00,  3.50it/s]\n",
      "100%|██████████| 40/40 [00:11<00:00,  3.48it/s]\n",
      "100%|██████████| 40/40 [00:11<00:00,  3.50it/s]\n",
      "100%|██████████| 40/40 [00:11<00:00,  3.49it/s]\n",
      "100%|██████████| 40/40 [00:11<00:00,  3.48it/s]\n",
      "100%|██████████| 40/40 [00:11<00:00,  3.46it/s]\n",
      "100%|██████████| 40/40 [00:11<00:00,  3.48it/s]\n",
      "100%|██████████| 40/40 [00:11<00:00,  3.49it/s]\n",
      "100%|██████████| 40/40 [00:11<00:00,  3.50it/s]\n",
      "100%|██████████| 40/40 [00:11<00:00,  3.49it/s]\n",
      "100%|██████████| 40/40 [00:11<00:00,  3.48it/s]\n",
      "100%|██████████| 40/40 [00:11<00:00,  3.50it/s]\n",
      "100%|██████████| 40/40 [00:11<00:00,  3.50it/s]\n",
      "100%|██████████| 40/40 [00:11<00:00,  3.52it/s]\n",
      "100%|██████████| 40/40 [00:11<00:00,  3.51it/s]\n",
      "100%|██████████| 40/40 [00:11<00:00,  3.52it/s]\n",
      "100%|██████████| 40/40 [00:11<00:00,  3.48it/s]\n",
      "100%|██████████| 40/40 [00:11<00:00,  3.52it/s]\n",
      "100%|██████████| 40/40 [00:11<00:00,  3.52it/s]\n",
      "100%|██████████| 40/40 [00:11<00:00,  3.52it/s]\n",
      "100%|██████████| 40/40 [00:11<00:00,  3.52it/s]\n",
      "100%|██████████| 40/40 [00:11<00:00,  3.52it/s]\n",
      "100%|██████████| 40/40 [00:11<00:00,  3.50it/s]\n",
      "100%|██████████| 40/40 [00:11<00:00,  3.50it/s]\n",
      "100%|██████████| 40/40 [00:11<00:00,  3.51it/s]\n",
      "100%|██████████| 40/40 [00:11<00:00,  3.52it/s]\n",
      "100%|██████████| 40/40 [00:11<00:00,  3.49it/s]\n",
      "100%|██████████| 40/40 [00:11<00:00,  3.45it/s]\n",
      "100%|██████████| 40/40 [00:11<00:00,  3.50it/s]\n",
      "100%|██████████| 40/40 [00:11<00:00,  3.49it/s]\n",
      "100%|██████████| 40/40 [00:11<00:00,  3.50it/s]\n",
      "100%|██████████| 40/40 [00:11<00:00,  3.51it/s]\n",
      "100%|██████████| 40/40 [00:11<00:00,  3.50it/s]\n",
      "100%|██████████| 40/40 [00:11<00:00,  3.50it/s]\n",
      "100%|██████████| 40/40 [00:11<00:00,  3.49it/s]\n",
      "100%|██████████| 40/40 [00:11<00:00,  3.48it/s]\n",
      "100%|██████████| 40/40 [00:11<00:00,  3.48it/s]\n",
      "100%|██████████| 40/40 [00:11<00:00,  3.47it/s]\n",
      "100%|██████████| 40/40 [00:11<00:00,  3.50it/s]\n",
      "100%|██████████| 40/40 [00:11<00:00,  3.50it/s]\n",
      "100%|██████████| 40/40 [00:11<00:00,  3.49it/s]\n",
      "100%|██████████| 40/40 [00:11<00:00,  3.50it/s]\n",
      "100%|██████████| 40/40 [00:11<00:00,  3.49it/s]\n",
      "100%|██████████| 40/40 [00:11<00:00,  3.50it/s]\n",
      "100%|██████████| 40/40 [00:11<00:00,  3.50it/s]\n",
      "100%|██████████| 40/40 [00:11<00:00,  3.50it/s]\n",
      "100%|██████████| 40/40 [00:11<00:00,  3.52it/s]\n",
      "100%|██████████| 40/40 [00:11<00:00,  3.50it/s]\n",
      "100%|██████████| 40/40 [00:11<00:00,  3.47it/s]\n",
      "100%|██████████| 40/40 [00:11<00:00,  3.50it/s]\n",
      "100%|██████████| 40/40 [00:11<00:00,  3.51it/s]\n",
      "100%|██████████| 40/40 [00:11<00:00,  3.52it/s]\n",
      "100%|██████████| 40/40 [00:11<00:00,  3.50it/s]\n",
      "100%|██████████| 40/40 [00:11<00:00,  3.51it/s]\n",
      "100%|██████████| 40/40 [00:11<00:00,  3.51it/s]\n",
      "100%|██████████| 40/40 [00:11<00:00,  3.52it/s]\n",
      "100%|██████████| 40/40 [00:11<00:00,  3.52it/s]\n",
      "100%|██████████| 40/40 [00:11<00:00,  3.49it/s]\n",
      "100%|██████████| 40/40 [00:11<00:00,  3.51it/s]\n",
      "100%|██████████| 40/40 [00:11<00:00,  3.47it/s]\n",
      "100%|██████████| 40/40 [00:11<00:00,  3.50it/s]\n",
      "100%|██████████| 40/40 [00:11<00:00,  3.51it/s]\n",
      "100%|██████████| 40/40 [00:11<00:00,  3.51it/s]\n",
      "100%|██████████| 40/40 [00:11<00:00,  3.51it/s]\n",
      "100%|██████████| 40/40 [00:11<00:00,  3.51it/s]\n",
      "100%|██████████| 40/40 [00:11<00:00,  3.53it/s]\n",
      "100%|██████████| 40/40 [00:11<00:00,  3.50it/s]\n",
      "100%|██████████| 40/40 [00:11<00:00,  3.52it/s]\n",
      "100%|██████████| 40/40 [00:11<00:00,  3.50it/s]\n",
      "100%|██████████| 40/40 [00:11<00:00,  3.46it/s]\n",
      "100%|██████████| 40/40 [00:11<00:00,  3.50it/s]\n",
      "100%|██████████| 40/40 [00:11<00:00,  3.50it/s]\n",
      "100%|██████████| 40/40 [00:11<00:00,  3.49it/s]\n",
      "100%|██████████| 40/40 [00:11<00:00,  3.49it/s]\n",
      "100%|██████████| 40/40 [00:11<00:00,  3.49it/s]\n",
      "100%|██████████| 40/40 [00:11<00:00,  3.48it/s]\n",
      "100%|██████████| 40/40 [00:11<00:00,  3.49it/s]\n",
      "100%|██████████| 40/40 [00:11<00:00,  3.51it/s]\n",
      "100%|██████████| 40/40 [00:11<00:00,  3.51it/s]\n",
      "100%|██████████| 40/40 [00:11<00:00,  3.51it/s]\n",
      "100%|██████████| 40/40 [00:11<00:00,  3.46it/s]\n",
      "100%|██████████| 40/40 [00:11<00:00,  3.52it/s]\n",
      "100%|██████████| 40/40 [00:11<00:00,  3.50it/s]\n",
      "100%|██████████| 40/40 [00:11<00:00,  3.50it/s]\n",
      "100%|██████████| 40/40 [00:11<00:00,  3.49it/s]\n",
      "100%|██████████| 40/40 [00:11<00:00,  3.51it/s]\n",
      "100%|██████████| 40/40 [00:11<00:00,  3.50it/s]\n",
      "100%|██████████| 40/40 [00:11<00:00,  3.51it/s]\n",
      "100%|██████████| 40/40 [00:11<00:00,  3.50it/s]\n",
      "100%|██████████| 40/40 [00:11<00:00,  3.50it/s]\n",
      "100%|██████████| 40/40 [00:11<00:00,  3.47it/s]\n",
      "100%|██████████| 40/40 [00:11<00:00,  3.50it/s]\n",
      "100%|██████████| 40/40 [00:11<00:00,  3.49it/s]\n",
      "100%|██████████| 40/40 [00:11<00:00,  3.50it/s]\n",
      "100%|██████████| 40/40 [00:11<00:00,  3.47it/s]\n",
      "100%|██████████| 40/40 [00:11<00:00,  3.51it/s]\n",
      "100%|██████████| 40/40 [00:11<00:00,  3.51it/s]\n",
      "100%|██████████| 40/40 [00:11<00:00,  3.52it/s]\n",
      "100%|██████████| 40/40 [00:11<00:00,  3.51it/s]\n",
      "100%|██████████| 40/40 [00:11<00:00,  3.52it/s]\n",
      "100%|██████████| 40/40 [00:11<00:00,  3.50it/s]\n",
      "100%|██████████| 40/40 [00:11<00:00,  3.47it/s]\n",
      "100%|██████████| 40/40 [00:11<00:00,  3.52it/s]\n",
      "100%|██████████| 40/40 [00:11<00:00,  3.49it/s]\n",
      "100%|██████████| 40/40 [00:11<00:00,  3.50it/s]\n",
      "100%|██████████| 40/40 [00:11<00:00,  3.50it/s]\n",
      "100%|██████████| 40/40 [00:11<00:00,  3.51it/s]\n",
      "100%|██████████| 40/40 [00:11<00:00,  3.49it/s]\n",
      "100%|██████████| 40/40 [00:11<00:00,  3.51it/s]\n",
      "100%|██████████| 40/40 [00:11<00:00,  3.51it/s]\n",
      "100%|██████████| 40/40 [00:11<00:00,  3.51it/s]\n",
      "100%|██████████| 40/40 [00:11<00:00,  3.52it/s]\n",
      "100%|██████████| 40/40 [00:11<00:00,  3.48it/s]\n",
      "100%|██████████| 40/40 [00:11<00:00,  3.53it/s]\n",
      "100%|██████████| 40/40 [00:11<00:00,  3.51it/s]\n",
      "100%|██████████| 40/40 [00:11<00:00,  3.52it/s]\n",
      "100%|██████████| 40/40 [00:11<00:00,  3.50it/s]\n",
      "100%|██████████| 40/40 [00:11<00:00,  3.50it/s]\n",
      "100%|██████████| 40/40 [00:11<00:00,  3.50it/s]\n",
      "100%|██████████| 40/40 [00:11<00:00,  3.52it/s]\n",
      "100%|██████████| 40/40 [00:11<00:00,  3.51it/s]\n",
      "100%|██████████| 40/40 [00:11<00:00,  3.53it/s]\n",
      "100%|██████████| 40/40 [00:11<00:00,  3.48it/s]\n",
      "100%|██████████| 40/40 [00:11<00:00,  3.50it/s]\n",
      "100%|██████████| 40/40 [00:11<00:00,  3.50it/s]\n",
      "100%|██████████| 40/40 [00:11<00:00,  3.52it/s]\n",
      "100%|██████████| 40/40 [00:11<00:00,  3.50it/s]\n",
      "100%|██████████| 40/40 [00:11<00:00,  3.50it/s]\n",
      "100%|██████████| 40/40 [00:11<00:00,  3.51it/s]\n",
      "100%|██████████| 40/40 [00:11<00:00,  3.51it/s]\n",
      "100%|██████████| 40/40 [00:11<00:00,  3.49it/s]\n",
      "100%|██████████| 40/40 [00:11<00:00,  3.47it/s]\n",
      "100%|██████████| 40/40 [00:11<00:00,  3.49it/s]\n",
      "100%|██████████| 40/40 [00:11<00:00,  3.45it/s]\n",
      "100%|██████████| 40/40 [00:11<00:00,  3.50it/s]\n",
      "100%|██████████| 40/40 [00:11<00:00,  3.50it/s]\n",
      "100%|██████████| 40/40 [00:11<00:00,  3.48it/s]\n",
      "100%|██████████| 40/40 [00:11<00:00,  3.49it/s]\n",
      "100%|██████████| 40/40 [00:11<00:00,  3.49it/s]\n",
      "100%|██████████| 40/40 [00:11<00:00,  3.50it/s]\n",
      "100%|██████████| 40/40 [00:11<00:00,  3.52it/s]\n",
      "100%|██████████| 40/40 [00:11<00:00,  3.51it/s]\n",
      "100%|██████████| 40/40 [00:11<00:00,  3.50it/s]\n",
      "100%|██████████| 40/40 [00:11<00:00,  3.45it/s]\n",
      "100%|██████████| 40/40 [00:11<00:00,  3.48it/s]\n",
      "100%|██████████| 40/40 [00:11<00:00,  3.48it/s]\n",
      "100%|██████████| 40/40 [00:11<00:00,  3.49it/s]\n",
      "100%|██████████| 40/40 [00:11<00:00,  3.48it/s]\n",
      "100%|██████████| 40/40 [00:11<00:00,  3.49it/s]\n",
      "100%|██████████| 40/40 [00:11<00:00,  3.50it/s]\n",
      "100%|██████████| 40/40 [00:11<00:00,  3.52it/s]\n",
      "100%|██████████| 40/40 [00:11<00:00,  3.50it/s]\n",
      "100%|██████████| 40/40 [00:11<00:00,  3.52it/s]\n",
      "100%|██████████| 40/40 [00:11<00:00,  3.52it/s]\n",
      "100%|██████████| 40/40 [00:11<00:00,  3.45it/s]\n",
      "100%|██████████| 40/40 [00:11<00:00,  3.52it/s]\n",
      "100%|██████████| 40/40 [00:11<00:00,  3.52it/s]\n",
      "100%|██████████| 40/40 [00:11<00:00,  3.50it/s]\n",
      "100%|██████████| 40/40 [00:11<00:00,  3.49it/s]\n",
      "100%|██████████| 40/40 [00:11<00:00,  3.51it/s]\n",
      "100%|██████████| 40/40 [00:11<00:00,  3.52it/s]\n",
      "100%|██████████| 40/40 [00:11<00:00,  3.49it/s]\n",
      "100%|██████████| 40/40 [00:11<00:00,  3.50it/s]\n",
      "100%|██████████| 40/40 [00:11<00:00,  3.49it/s]\n",
      "100%|██████████| 40/40 [00:11<00:00,  3.47it/s]\n",
      "100%|██████████| 40/40 [00:11<00:00,  3.51it/s]\n",
      "100%|██████████| 40/40 [00:11<00:00,  3.50it/s]\n",
      "100%|██████████| 40/40 [00:11<00:00,  3.52it/s]\n",
      "100%|██████████| 40/40 [00:11<00:00,  3.51it/s]\n",
      "100%|██████████| 40/40 [00:11<00:00,  3.50it/s]\n",
      "100%|██████████| 40/40 [00:11<00:00,  3.51it/s]\n",
      "100%|██████████| 40/40 [00:11<00:00,  3.52it/s]\n",
      "100%|██████████| 40/40 [00:11<00:00,  3.51it/s]\n",
      "100%|██████████| 40/40 [00:11<00:00,  3.50it/s]\n",
      "100%|██████████| 40/40 [00:11<00:00,  3.49it/s]\n",
      "100%|██████████| 40/40 [00:11<00:00,  3.47it/s]\n",
      "100%|██████████| 40/40 [00:11<00:00,  3.52it/s]\n",
      "100%|██████████| 40/40 [00:11<00:00,  3.51it/s]\n",
      "100%|██████████| 40/40 [00:11<00:00,  3.50it/s]\n",
      "100%|██████████| 40/40 [00:11<00:00,  3.49it/s]\n",
      "100%|██████████| 40/40 [00:11<00:00,  3.50it/s]\n",
      "100%|██████████| 40/40 [00:11<00:00,  3.51it/s]\n",
      "100%|██████████| 40/40 [00:11<00:00,  3.52it/s]\n",
      "100%|██████████| 40/40 [00:11<00:00,  3.52it/s]\n",
      "100%|██████████| 40/40 [00:11<00:00,  3.51it/s]\n",
      "100%|██████████| 40/40 [00:11<00:00,  3.51it/s]\n",
      "100%|██████████| 40/40 [00:11<00:00,  3.47it/s]\n",
      "100%|██████████| 40/40 [00:11<00:00,  3.52it/s]\n",
      "100%|██████████| 40/40 [00:11<00:00,  3.51it/s]\n",
      "100%|██████████| 40/40 [00:11<00:00,  3.48it/s]\n",
      "100%|██████████| 40/40 [00:11<00:00,  3.50it/s]\n",
      "100%|██████████| 40/40 [00:11<00:00,  3.51it/s]\n",
      "100%|██████████| 40/40 [00:11<00:00,  3.51it/s]\n",
      "100%|██████████| 40/40 [00:11<00:00,  3.51it/s]\n",
      "100%|██████████| 40/40 [00:11<00:00,  3.51it/s]\n",
      "100%|██████████| 40/40 [00:11<00:00,  3.52it/s]\n",
      "100%|██████████| 40/40 [00:11<00:00,  3.47it/s]\n",
      "100%|██████████| 40/40 [00:11<00:00,  3.53it/s]\n",
      "100%|██████████| 40/40 [00:11<00:00,  3.52it/s]\n",
      "100%|██████████| 40/40 [00:11<00:00,  3.52it/s]\n",
      "100%|██████████| 40/40 [00:11<00:00,  3.51it/s]\n",
      "100%|██████████| 40/40 [00:11<00:00,  3.51it/s]\n",
      "100%|██████████| 40/40 [00:11<00:00,  3.49it/s]\n",
      "100%|██████████| 40/40 [00:11<00:00,  3.51it/s]\n",
      "100%|██████████| 40/40 [00:11<00:00,  3.50it/s]\n",
      "100%|██████████| 40/40 [00:11<00:00,  3.50it/s]\n",
      "100%|██████████| 40/40 [00:11<00:00,  3.50it/s]\n",
      "100%|██████████| 40/40 [00:11<00:00,  3.46it/s]\n",
      "100%|██████████| 40/40 [00:11<00:00,  3.50it/s]\n",
      "100%|██████████| 40/40 [00:11<00:00,  3.49it/s]\n",
      "100%|██████████| 40/40 [00:11<00:00,  3.49it/s]\n",
      "100%|██████████| 40/40 [00:11<00:00,  3.46it/s]\n",
      "100%|██████████| 40/40 [00:11<00:00,  3.49it/s]\n",
      "100%|██████████| 40/40 [00:11<00:00,  3.49it/s]\n",
      "100%|██████████| 40/40 [00:11<00:00,  3.48it/s]\n",
      "100%|██████████| 40/40 [00:11<00:00,  3.50it/s]\n",
      "100%|██████████| 40/40 [00:11<00:00,  3.51it/s]\n",
      "100%|██████████| 40/40 [00:11<00:00,  3.47it/s]\n",
      "100%|██████████| 40/40 [00:11<00:00,  3.50it/s]\n",
      "100%|██████████| 40/40 [00:11<00:00,  3.48it/s]\n",
      "100%|██████████| 40/40 [00:11<00:00,  3.48it/s]\n",
      "100%|██████████| 40/40 [00:11<00:00,  3.49it/s]\n",
      "100%|██████████| 40/40 [00:11<00:00,  3.49it/s]\n",
      "100%|██████████| 40/40 [00:11<00:00,  3.51it/s]\n",
      "100%|██████████| 40/40 [00:11<00:00,  3.50it/s]\n",
      "100%|██████████| 40/40 [00:11<00:00,  3.50it/s]\n",
      "100%|██████████| 40/40 [00:11<00:00,  3.48it/s]\n",
      "100%|██████████| 40/40 [00:11<00:00,  3.48it/s]\n",
      "100%|██████████| 40/40 [00:11<00:00,  3.45it/s]\n",
      "100%|██████████| 40/40 [00:11<00:00,  3.50it/s]\n",
      "100%|██████████| 40/40 [00:11<00:00,  3.50it/s]\n",
      "100%|██████████| 40/40 [00:11<00:00,  3.50it/s]\n",
      "100%|██████████| 40/40 [00:11<00:00,  3.51it/s]\n",
      "100%|██████████| 40/40 [00:11<00:00,  3.51it/s]\n",
      "100%|██████████| 40/40 [00:11<00:00,  3.52it/s]\n",
      "100%|██████████| 40/40 [00:11<00:00,  3.51it/s]\n",
      "100%|██████████| 40/40 [00:11<00:00,  3.52it/s]\n",
      "100%|██████████| 40/40 [00:11<00:00,  3.51it/s]\n",
      "100%|██████████| 40/40 [00:11<00:00,  3.46it/s]\n",
      "100%|██████████| 40/40 [00:11<00:00,  3.49it/s]\n",
      "100%|██████████| 40/40 [00:11<00:00,  3.51it/s]\n",
      "100%|██████████| 40/40 [00:11<00:00,  3.50it/s]\n",
      "100%|██████████| 40/40 [00:11<00:00,  3.51it/s]\n",
      "100%|██████████| 40/40 [00:11<00:00,  3.51it/s]\n",
      "100%|██████████| 40/40 [00:11<00:00,  3.50it/s]\n",
      "100%|██████████| 40/40 [00:11<00:00,  3.51it/s]\n",
      "100%|██████████| 40/40 [00:11<00:00,  3.51it/s]\n",
      "100%|██████████| 40/40 [00:11<00:00,  3.51it/s]\n",
      "100%|██████████| 40/40 [00:11<00:00,  3.52it/s]\n",
      "100%|██████████| 40/40 [00:11<00:00,  3.48it/s]\n",
      "100%|██████████| 40/40 [00:11<00:00,  3.52it/s]\n",
      "100%|██████████| 40/40 [00:11<00:00,  3.50it/s]\n",
      "100%|██████████| 40/40 [00:11<00:00,  3.51it/s]\n",
      "100%|██████████| 40/40 [00:11<00:00,  3.50it/s]\n",
      "100%|██████████| 40/40 [00:11<00:00,  3.50it/s]\n",
      "100%|██████████| 40/40 [00:11<00:00,  3.51it/s]\n",
      "100%|██████████| 40/40 [00:11<00:00,  3.51it/s]\n",
      "100%|██████████| 40/40 [00:11<00:00,  3.51it/s]\n",
      "100%|██████████| 40/40 [00:11<00:00,  3.52it/s]\n",
      "100%|██████████| 40/40 [00:11<00:00,  3.51it/s]\n",
      "100%|██████████| 40/40 [00:11<00:00,  3.49it/s]\n",
      "100%|██████████| 40/40 [00:11<00:00,  3.50it/s]\n",
      "100%|██████████| 40/40 [00:11<00:00,  3.50it/s]\n",
      "100%|██████████| 40/40 [00:11<00:00,  3.49it/s]\n",
      "100%|██████████| 40/40 [00:11<00:00,  3.51it/s]\n",
      "100%|██████████| 40/40 [00:11<00:00,  3.51it/s]\n",
      "100%|██████████| 40/40 [00:11<00:00,  3.51it/s]\n",
      "100%|██████████| 40/40 [00:11<00:00,  3.51it/s]\n",
      "100%|██████████| 40/40 [00:11<00:00,  3.51it/s]\n",
      "100%|██████████| 40/40 [00:11<00:00,  3.51it/s]\n",
      "100%|██████████| 40/40 [00:11<00:00,  3.45it/s]\n",
      "100%|██████████| 40/40 [00:11<00:00,  3.49it/s]\n",
      "100%|██████████| 40/40 [00:11<00:00,  3.49it/s]\n",
      "100%|██████████| 40/40 [00:11<00:00,  3.50it/s]\n",
      "100%|██████████| 40/40 [00:11<00:00,  3.49it/s]\n",
      "100%|██████████| 40/40 [00:11<00:00,  3.51it/s]\n",
      "100%|██████████| 40/40 [00:11<00:00,  3.51it/s]\n",
      "100%|██████████| 40/40 [00:11<00:00,  3.50it/s]\n",
      "100%|██████████| 40/40 [00:11<00:00,  3.52it/s]\n",
      "100%|██████████| 40/40 [00:11<00:00,  3.52it/s]\n",
      "100%|██████████| 40/40 [00:11<00:00,  3.51it/s]\n",
      "100%|██████████| 40/40 [00:11<00:00,  3.47it/s]\n",
      "100%|██████████| 40/40 [00:11<00:00,  3.49it/s]\n",
      "100%|██████████| 40/40 [00:11<00:00,  3.52it/s]\n",
      "100%|██████████| 40/40 [00:11<00:00,  3.51it/s]\n",
      "100%|██████████| 40/40 [00:11<00:00,  3.49it/s]\n",
      "100%|██████████| 40/40 [00:11<00:00,  3.50it/s]\n",
      "100%|██████████| 40/40 [00:11<00:00,  3.52it/s]\n",
      "100%|██████████| 40/40 [00:11<00:00,  3.51it/s]\n",
      "100%|██████████| 40/40 [00:11<00:00,  3.51it/s]\n",
      "100%|██████████| 40/40 [00:11<00:00,  3.51it/s]\n",
      "100%|██████████| 40/40 [00:11<00:00,  3.46it/s]\n",
      "100%|██████████| 40/40 [00:11<00:00,  3.50it/s]\n",
      "100%|██████████| 40/40 [00:11<00:00,  3.49it/s]\n",
      "100%|██████████| 40/40 [00:11<00:00,  3.50it/s]\n",
      "100%|██████████| 40/40 [00:11<00:00,  3.49it/s]\n",
      "100%|██████████| 40/40 [00:11<00:00,  3.51it/s]\n",
      "100%|██████████| 40/40 [00:11<00:00,  3.51it/s]\n",
      "100%|██████████| 40/40 [00:11<00:00,  3.51it/s]\n",
      "100%|██████████| 40/40 [00:11<00:00,  3.50it/s]\n",
      "100%|██████████| 40/40 [00:11<00:00,  3.52it/s]\n",
      "100%|██████████| 40/40 [00:11<00:00,  3.51it/s]\n",
      "100%|██████████| 40/40 [00:11<00:00,  3.49it/s]\n",
      "100%|██████████| 40/40 [00:11<00:00,  3.52it/s]\n",
      "100%|██████████| 40/40 [00:11<00:00,  3.50it/s]\n",
      "100%|██████████| 40/40 [00:11<00:00,  3.49it/s]\n",
      "100%|██████████| 40/40 [00:11<00:00,  3.50it/s]\n",
      "100%|██████████| 40/40 [00:11<00:00,  3.50it/s]\n",
      "100%|██████████| 40/40 [00:11<00:00,  3.52it/s]\n",
      "100%|██████████| 40/40 [00:11<00:00,  3.50it/s]\n",
      "100%|██████████| 40/40 [00:11<00:00,  3.49it/s]\n",
      "100%|██████████| 40/40 [00:11<00:00,  3.49it/s]\n",
      "100%|██████████| 40/40 [00:11<00:00,  3.51it/s]\n",
      "100%|██████████| 40/40 [00:11<00:00,  3.49it/s]\n",
      "100%|██████████| 40/40 [00:11<00:00,  3.51it/s]\n",
      "100%|██████████| 40/40 [00:11<00:00,  3.51it/s]\n",
      "100%|██████████| 40/40 [00:11<00:00,  3.52it/s]\n",
      "100%|██████████| 40/40 [00:11<00:00,  3.51it/s]\n",
      "100%|██████████| 40/40 [00:11<00:00,  3.51it/s]\n",
      "100%|██████████| 40/40 [00:11<00:00,  3.51it/s]\n",
      "100%|██████████| 40/40 [00:11<00:00,  3.51it/s]\n",
      "100%|██████████| 40/40 [00:11<00:00,  3.52it/s]\n",
      "100%|██████████| 40/40 [00:11<00:00,  3.53it/s]\n",
      "100%|██████████| 40/40 [00:11<00:00,  3.47it/s]\n",
      "100%|██████████| 40/40 [00:11<00:00,  3.51it/s]\n",
      "100%|██████████| 40/40 [00:11<00:00,  3.51it/s]\n",
      "100%|██████████| 40/40 [00:11<00:00,  3.51it/s]\n",
      "100%|██████████| 40/40 [00:11<00:00,  3.50it/s]\n",
      "100%|██████████| 40/40 [00:11<00:00,  3.52it/s]\n",
      "100%|██████████| 40/40 [00:11<00:00,  3.52it/s]\n",
      "100%|██████████| 40/40 [00:11<00:00,  3.52it/s]\n",
      "100%|██████████| 40/40 [00:11<00:00,  3.52it/s]\n",
      "100%|██████████| 40/40 [00:11<00:00,  3.50it/s]\n",
      "100%|██████████| 40/40 [00:11<00:00,  3.51it/s]\n",
      "100%|██████████| 40/40 [00:11<00:00,  3.49it/s]\n",
      "100%|██████████| 40/40 [00:11<00:00,  3.52it/s]\n",
      "100%|██████████| 40/40 [00:11<00:00,  3.53it/s]\n",
      "100%|██████████| 40/40 [00:11<00:00,  3.52it/s]\n",
      "100%|██████████| 40/40 [00:11<00:00,  3.49it/s]\n",
      "100%|██████████| 40/40 [00:11<00:00,  3.50it/s]\n",
      "100%|██████████| 40/40 [00:11<00:00,  3.51it/s]\n",
      "100%|██████████| 40/40 [00:11<00:00,  3.49it/s]\n",
      "100%|██████████| 40/40 [00:11<00:00,  3.49it/s]\n",
      "100%|██████████| 40/40 [00:11<00:00,  3.49it/s]\n",
      "100%|██████████| 40/40 [00:11<00:00,  3.45it/s]\n",
      "100%|██████████| 40/40 [00:11<00:00,  3.51it/s]\n",
      "100%|██████████| 40/40 [00:11<00:00,  3.49it/s]\n",
      "100%|██████████| 40/40 [00:11<00:00,  3.50it/s]\n",
      "100%|██████████| 40/40 [00:11<00:00,  3.48it/s]\n",
      "100%|██████████| 40/40 [00:11<00:00,  3.50it/s]\n",
      "100%|██████████| 40/40 [00:11<00:00,  3.50it/s]\n",
      "100%|██████████| 40/40 [00:11<00:00,  3.50it/s]\n",
      "100%|██████████| 40/40 [00:11<00:00,  3.49it/s]\n",
      "100%|██████████| 40/40 [00:11<00:00,  3.50it/s]\n",
      "100%|██████████| 40/40 [00:11<00:00,  3.48it/s]\n",
      "100%|██████████| 40/40 [00:11<00:00,  3.43it/s]\n",
      "100%|██████████| 40/40 [00:11<00:00,  3.52it/s]\n",
      "100%|██████████| 40/40 [00:11<00:00,  3.51it/s]\n",
      "100%|██████████| 40/40 [00:11<00:00,  3.51it/s]\n",
      "100%|██████████| 40/40 [00:11<00:00,  3.51it/s]\n",
      "100%|██████████| 40/40 [00:11<00:00,  3.51it/s]\n",
      "100%|██████████| 40/40 [00:11<00:00,  3.51it/s]\n",
      "100%|██████████| 40/40 [00:11<00:00,  3.50it/s]\n",
      "100%|██████████| 40/40 [00:11<00:00,  3.53it/s]\n",
      "100%|██████████| 40/40 [00:11<00:00,  3.51it/s]\n",
      "100%|██████████| 40/40 [00:11<00:00,  3.52it/s]\n",
      "100%|██████████| 40/40 [00:11<00:00,  3.47it/s]\n",
      "100%|██████████| 40/40 [00:11<00:00,  3.50it/s]\n",
      "100%|██████████| 40/40 [00:11<00:00,  3.50it/s]\n",
      "100%|██████████| 40/40 [00:11<00:00,  3.49it/s]\n",
      "100%|██████████| 40/40 [00:11<00:00,  3.50it/s]\n",
      "100%|██████████| 40/40 [00:11<00:00,  3.49it/s]\n",
      "100%|██████████| 40/40 [00:11<00:00,  3.49it/s]\n",
      "100%|██████████| 40/40 [00:11<00:00,  3.51it/s]\n",
      "100%|██████████| 40/40 [00:11<00:00,  3.50it/s]\n",
      "100%|██████████| 40/40 [00:11<00:00,  3.50it/s]\n",
      "100%|██████████| 40/40 [00:11<00:00,  3.45it/s]\n",
      "100%|██████████| 40/40 [00:11<00:00,  3.50it/s]\n",
      "100%|██████████| 40/40 [00:11<00:00,  3.48it/s]\n",
      "100%|██████████| 40/40 [00:11<00:00,  3.49it/s]\n",
      "100%|██████████| 40/40 [00:11<00:00,  3.48it/s]\n",
      "100%|██████████| 40/40 [00:11<00:00,  3.51it/s]\n",
      "100%|██████████| 40/40 [00:11<00:00,  3.51it/s]\n",
      "100%|██████████| 40/40 [00:11<00:00,  3.52it/s]\n",
      "100%|██████████| 40/40 [00:11<00:00,  3.49it/s]\n",
      "100%|██████████| 40/40 [00:11<00:00,  3.52it/s]\n",
      "100%|██████████| 40/40 [00:11<00:00,  3.51it/s]\n",
      "100%|██████████| 40/40 [00:11<00:00,  3.48it/s]\n",
      "100%|██████████| 40/40 [00:11<00:00,  3.51it/s]\n",
      "100%|██████████| 40/40 [00:11<00:00,  3.51it/s]\n",
      "100%|██████████| 40/40 [00:11<00:00,  3.50it/s]\n",
      "100%|██████████| 40/40 [00:11<00:00,  3.51it/s]\n",
      "100%|██████████| 40/40 [00:11<00:00,  3.50it/s]\n",
      "100%|██████████| 40/40 [00:11<00:00,  3.50it/s]\n",
      "100%|██████████| 40/40 [00:11<00:00,  3.51it/s]\n",
      "100%|██████████| 40/40 [00:11<00:00,  3.50it/s]\n",
      "100%|██████████| 40/40 [00:11<00:00,  3.49it/s]\n",
      "100%|██████████| 40/40 [00:11<00:00,  3.48it/s]\n",
      "100%|██████████| 40/40 [00:11<00:00,  3.52it/s]\n",
      "100%|██████████| 40/40 [00:11<00:00,  3.49it/s]\n",
      "100%|██████████| 40/40 [00:11<00:00,  3.49it/s]\n",
      "100%|██████████| 40/40 [00:11<00:00,  3.51it/s]\n",
      "100%|██████████| 40/40 [00:11<00:00,  3.51it/s]\n",
      "100%|██████████| 40/40 [00:11<00:00,  3.50it/s]\n",
      "100%|██████████| 40/40 [00:11<00:00,  3.50it/s]\n",
      "100%|██████████| 40/40 [00:11<00:00,  3.48it/s]\n",
      "100%|██████████| 40/40 [00:11<00:00,  3.50it/s]\n",
      "100%|██████████| 40/40 [00:11<00:00,  3.49it/s]\n",
      "100%|██████████| 40/40 [00:11<00:00,  3.48it/s]\n",
      "100%|██████████| 40/40 [00:11<00:00,  3.48it/s]\n",
      "100%|██████████| 40/40 [00:11<00:00,  3.50it/s]\n",
      "100%|██████████| 40/40 [00:11<00:00,  3.51it/s]\n",
      "100%|██████████| 40/40 [00:11<00:00,  3.50it/s]\n",
      "100%|██████████| 40/40 [00:11<00:00,  3.50it/s]\n",
      "100%|██████████| 40/40 [00:11<00:00,  3.51it/s]\n",
      "100%|██████████| 40/40 [00:11<00:00,  3.52it/s]\n",
      "100%|██████████| 40/40 [00:11<00:00,  3.51it/s]\n",
      "100%|██████████| 40/40 [00:11<00:00,  3.51it/s]\n",
      "100%|██████████| 40/40 [00:11<00:00,  3.51it/s]\n",
      "100%|██████████| 40/40 [00:11<00:00,  3.48it/s]\n",
      "100%|██████████| 40/40 [00:11<00:00,  3.49it/s]\n",
      "100%|██████████| 40/40 [00:11<00:00,  3.51it/s]\n",
      "100%|██████████| 40/40 [00:11<00:00,  3.51it/s]\n",
      "100%|██████████| 40/40 [00:11<00:00,  3.50it/s]\n",
      "100%|██████████| 40/40 [00:11<00:00,  3.52it/s]\n",
      "100%|██████████| 40/40 [00:11<00:00,  3.50it/s]\n",
      "100%|██████████| 40/40 [00:11<00:00,  3.52it/s]\n",
      "100%|██████████| 40/40 [00:11<00:00,  3.51it/s]\n",
      "100%|██████████| 40/40 [00:11<00:00,  3.51it/s]\n",
      "100%|██████████| 40/40 [00:11<00:00,  3.47it/s]\n",
      "100%|██████████| 40/40 [00:11<00:00,  3.49it/s]\n",
      "100%|██████████| 40/40 [00:11<00:00,  3.48it/s]\n",
      "100%|██████████| 40/40 [00:11<00:00,  3.48it/s]\n",
      "100%|██████████| 40/40 [00:11<00:00,  3.49it/s]\n",
      "100%|██████████| 40/40 [00:11<00:00,  3.50it/s]\n",
      "100%|██████████| 40/40 [00:11<00:00,  3.51it/s]\n",
      "100%|██████████| 40/40 [00:11<00:00,  3.50it/s]\n",
      "100%|██████████| 40/40 [00:11<00:00,  3.49it/s]\n",
      "100%|██████████| 40/40 [00:11<00:00,  3.48it/s]\n",
      "100%|██████████| 40/40 [00:11<00:00,  3.51it/s]\n",
      "100%|██████████| 40/40 [00:11<00:00,  3.47it/s]\n",
      "100%|██████████| 40/40 [00:11<00:00,  3.51it/s]\n",
      "100%|██████████| 40/40 [00:11<00:00,  3.52it/s]\n",
      "100%|██████████| 40/40 [00:11<00:00,  3.52it/s]\n",
      "100%|██████████| 40/40 [00:11<00:00,  3.51it/s]\n",
      "100%|██████████| 40/40 [00:11<00:00,  3.49it/s]\n",
      "100%|██████████| 40/40 [00:11<00:00,  3.49it/s]\n",
      "100%|██████████| 40/40 [00:11<00:00,  3.49it/s]\n",
      "100%|██████████| 40/40 [00:11<00:00,  3.48it/s]\n",
      "100%|██████████| 40/40 [00:11<00:00,  3.48it/s]\n",
      "100%|██████████| 40/40 [00:11<00:00,  3.47it/s]\n",
      "100%|██████████| 40/40 [00:11<00:00,  3.52it/s]\n",
      "100%|██████████| 40/40 [00:11<00:00,  3.50it/s]\n",
      "100%|██████████| 40/40 [00:11<00:00,  3.51it/s]\n",
      "100%|██████████| 40/40 [00:11<00:00,  3.48it/s]\n",
      "100%|██████████| 40/40 [00:11<00:00,  3.50it/s]\n",
      "100%|██████████| 40/40 [00:11<00:00,  3.48it/s]\n",
      "100%|██████████| 40/40 [00:11<00:00,  3.50it/s]\n",
      "100%|██████████| 40/40 [00:11<00:00,  3.51it/s]\n",
      "100%|██████████| 40/40 [00:11<00:00,  3.51it/s]\n",
      "100%|██████████| 40/40 [00:11<00:00,  3.52it/s]\n",
      "100%|██████████| 40/40 [00:11<00:00,  3.48it/s]\n",
      "100%|██████████| 40/40 [00:11<00:00,  3.51it/s]\n",
      "100%|██████████| 40/40 [00:11<00:00,  3.51it/s]\n",
      "100%|██████████| 40/40 [00:11<00:00,  3.52it/s]\n",
      "100%|██████████| 40/40 [00:11<00:00,  3.49it/s]\n",
      "100%|██████████| 40/40 [00:11<00:00,  3.48it/s]\n",
      "100%|██████████| 40/40 [00:11<00:00,  3.50it/s]\n",
      "100%|██████████| 40/40 [00:11<00:00,  3.50it/s]\n",
      "100%|██████████| 40/40 [00:11<00:00,  3.48it/s]\n",
      "100%|██████████| 40/40 [00:11<00:00,  3.48it/s]\n",
      "100%|██████████| 40/40 [00:11<00:00,  3.48it/s]\n",
      "100%|██████████| 40/40 [00:11<00:00,  3.47it/s]\n",
      "100%|██████████| 40/40 [00:11<00:00,  3.51it/s]\n",
      "100%|██████████| 40/40 [00:11<00:00,  3.51it/s]\n",
      "100%|██████████| 40/40 [00:11<00:00,  3.51it/s]\n",
      "100%|██████████| 40/40 [00:11<00:00,  3.49it/s]\n",
      "100%|██████████| 40/40 [00:11<00:00,  3.48it/s]\n",
      "100%|██████████| 40/40 [00:11<00:00,  3.51it/s]\n",
      "100%|██████████| 40/40 [00:11<00:00,  3.49it/s]\n",
      "100%|██████████| 40/40 [00:11<00:00,  3.50it/s]\n",
      "100%|██████████| 40/40 [00:11<00:00,  3.51it/s]\n",
      "100%|██████████| 40/40 [00:11<00:00,  3.46it/s]\n",
      "100%|██████████| 40/40 [00:11<00:00,  3.52it/s]\n",
      "100%|██████████| 40/40 [00:11<00:00,  3.51it/s]\n",
      "100%|██████████| 40/40 [00:11<00:00,  3.51it/s]\n",
      "100%|██████████| 40/40 [00:11<00:00,  3.51it/s]\n",
      "100%|██████████| 40/40 [00:11<00:00,  3.50it/s]\n",
      "100%|██████████| 40/40 [00:11<00:00,  3.50it/s]\n",
      "100%|██████████| 40/40 [00:11<00:00,  3.49it/s]\n",
      "100%|██████████| 40/40 [00:11<00:00,  3.51it/s]\n",
      "100%|██████████| 40/40 [00:11<00:00,  3.50it/s]\n",
      "100%|██████████| 40/40 [00:11<00:00,  3.49it/s]\n",
      "100%|██████████| 40/40 [00:11<00:00,  3.48it/s]\n",
      "100%|██████████| 40/40 [00:11<00:00,  3.50it/s]\n",
      "100%|██████████| 40/40 [00:11<00:00,  3.50it/s]\n",
      "100%|██████████| 40/40 [00:11<00:00,  3.50it/s]\n",
      "100%|██████████| 40/40 [00:11<00:00,  3.50it/s]\n",
      "100%|██████████| 40/40 [00:11<00:00,  3.52it/s]\n",
      "100%|██████████| 40/40 [00:11<00:00,  3.51it/s]\n",
      "100%|██████████| 40/40 [00:11<00:00,  3.53it/s]\n",
      "100%|██████████| 40/40 [00:11<00:00,  3.50it/s]\n",
      "100%|██████████| 40/40 [00:11<00:00,  3.48it/s]\n",
      "100%|██████████| 40/40 [00:11<00:00,  3.47it/s]\n",
      "100%|██████████| 40/40 [00:11<00:00,  3.50it/s]\n",
      "100%|██████████| 40/40 [00:11<00:00,  3.49it/s]\n",
      "100%|██████████| 40/40 [00:11<00:00,  3.51it/s]\n",
      "100%|██████████| 40/40 [00:11<00:00,  3.51it/s]\n",
      "100%|██████████| 40/40 [00:11<00:00,  3.51it/s]\n",
      "100%|██████████| 40/40 [00:11<00:00,  3.49it/s]\n",
      "100%|██████████| 40/40 [00:11<00:00,  3.49it/s]\n",
      "100%|██████████| 40/40 [00:11<00:00,  3.50it/s]\n",
      "100%|██████████| 40/40 [00:11<00:00,  3.50it/s]\n",
      "100%|██████████| 40/40 [00:11<00:00,  3.49it/s]\n",
      "100%|██████████| 40/40 [00:11<00:00,  3.46it/s]\n",
      "100%|██████████| 40/40 [00:11<00:00,  3.50it/s]\n",
      "100%|██████████| 40/40 [00:11<00:00,  3.49it/s]\n",
      "100%|██████████| 40/40 [00:11<00:00,  3.52it/s]\n",
      "100%|██████████| 40/40 [00:11<00:00,  3.51it/s]\n",
      "100%|██████████| 40/40 [00:11<00:00,  3.50it/s]\n",
      "100%|██████████| 40/40 [00:11<00:00,  3.50it/s]\n",
      "100%|██████████| 40/40 [00:11<00:00,  3.51it/s]\n",
      "100%|██████████| 40/40 [00:11<00:00,  3.51it/s]\n",
      "100%|██████████| 40/40 [00:11<00:00,  3.50it/s]\n",
      "100%|██████████| 40/40 [00:11<00:00,  3.49it/s]\n",
      "100%|██████████| 40/40 [00:11<00:00,  3.48it/s]\n",
      "100%|██████████| 40/40 [00:11<00:00,  3.49it/s]\n",
      "100%|██████████| 40/40 [00:11<00:00,  3.50it/s]\n",
      "100%|██████████| 40/40 [00:11<00:00,  3.48it/s]\n",
      "100%|██████████| 40/40 [00:11<00:00,  3.49it/s]\n",
      "100%|██████████| 40/40 [00:11<00:00,  3.50it/s]\n",
      "100%|██████████| 40/40 [00:11<00:00,  3.49it/s]\n",
      "100%|██████████| 40/40 [00:11<00:00,  3.50it/s]\n",
      "100%|██████████| 40/40 [00:11<00:00,  3.50it/s]\n",
      "100%|██████████| 40/40 [00:11<00:00,  3.49it/s]\n",
      "100%|██████████| 40/40 [00:11<00:00,  3.44it/s]\n",
      "100%|██████████| 40/40 [00:11<00:00,  3.50it/s]\n",
      "100%|██████████| 40/40 [00:11<00:00,  3.49it/s]\n",
      "100%|██████████| 40/40 [00:11<00:00,  3.51it/s]\n",
      "100%|██████████| 40/40 [00:11<00:00,  3.51it/s]\n",
      "100%|██████████| 40/40 [00:11<00:00,  3.51it/s]\n",
      "100%|██████████| 40/40 [00:11<00:00,  3.50it/s]\n",
      "100%|██████████| 40/40 [00:11<00:00,  3.50it/s]\n",
      "100%|██████████| 40/40 [00:11<00:00,  3.52it/s]\n",
      "100%|██████████| 40/40 [00:11<00:00,  3.52it/s]\n",
      "100%|██████████| 40/40 [00:11<00:00,  3.50it/s]\n",
      "100%|██████████| 40/40 [00:11<00:00,  3.48it/s]\n",
      "100%|██████████| 40/40 [00:11<00:00,  3.49it/s]\n",
      "100%|██████████| 40/40 [00:11<00:00,  3.49it/s]\n",
      "100%|██████████| 40/40 [00:11<00:00,  3.49it/s]\n",
      "100%|██████████| 40/40 [00:11<00:00,  3.50it/s]\n",
      "100%|██████████| 40/40 [00:11<00:00,  3.50it/s]\n",
      "100%|██████████| 40/40 [00:11<00:00,  3.49it/s]\n",
      "100%|██████████| 40/40 [00:11<00:00,  3.49it/s]\n",
      "100%|██████████| 40/40 [00:11<00:00,  3.50it/s]\n",
      "100%|██████████| 40/40 [00:11<00:00,  3.50it/s]\n",
      "100%|██████████| 40/40 [00:11<00:00,  3.44it/s]\n",
      "100%|██████████| 40/40 [00:11<00:00,  3.49it/s]\n",
      "100%|██████████| 40/40 [00:11<00:00,  3.50it/s]\n",
      "100%|██████████| 40/40 [00:11<00:00,  3.49it/s]\n",
      "100%|██████████| 40/40 [00:11<00:00,  3.51it/s]\n",
      "100%|██████████| 40/40 [00:11<00:00,  3.52it/s]\n",
      "100%|██████████| 40/40 [00:11<00:00,  3.52it/s]\n",
      "100%|██████████| 40/40 [00:11<00:00,  3.51it/s]\n",
      "100%|██████████| 40/40 [00:11<00:00,  3.51it/s]\n",
      "100%|██████████| 40/40 [00:11<00:00,  3.51it/s]\n",
      "100%|██████████| 40/40 [00:11<00:00,  3.50it/s]\n",
      "100%|██████████| 40/40 [00:11<00:00,  3.46it/s]\n",
      "100%|██████████| 40/40 [00:11<00:00,  3.49it/s]\n",
      "100%|██████████| 40/40 [00:11<00:00,  3.52it/s]\n",
      "100%|██████████| 40/40 [00:11<00:00,  3.49it/s]\n",
      "100%|██████████| 40/40 [00:11<00:00,  3.50it/s]\n",
      "100%|██████████| 40/40 [00:11<00:00,  3.49it/s]\n",
      "100%|██████████| 40/40 [00:11<00:00,  3.49it/s]\n",
      "100%|██████████| 40/40 [00:11<00:00,  3.51it/s]\n",
      "100%|██████████| 40/40 [00:11<00:00,  3.51it/s]\n",
      "100%|██████████| 40/40 [00:11<00:00,  3.51it/s]\n",
      "100%|██████████| 40/40 [00:11<00:00,  3.48it/s]\n",
      "100%|██████████| 40/40 [00:11<00:00,  3.51it/s]\n",
      "100%|██████████| 40/40 [00:11<00:00,  3.48it/s]\n",
      "100%|██████████| 40/40 [00:11<00:00,  3.49it/s]\n",
      "100%|██████████| 40/40 [00:11<00:00,  3.51it/s]\n",
      "100%|██████████| 40/40 [00:11<00:00,  3.50it/s]\n",
      "100%|██████████| 40/40 [00:11<00:00,  3.50it/s]\n",
      "100%|██████████| 40/40 [00:11<00:00,  3.51it/s]\n",
      "100%|██████████| 40/40 [00:11<00:00,  3.52it/s]\n",
      "100%|██████████| 40/40 [00:11<00:00,  3.52it/s]\n",
      "100%|██████████| 40/40 [00:11<00:00,  3.48it/s]\n",
      "100%|██████████| 40/40 [00:11<00:00,  3.46it/s]\n",
      "100%|██████████| 40/40 [00:11<00:00,  3.50it/s]\n",
      "100%|██████████| 40/40 [00:11<00:00,  3.49it/s]\n",
      "100%|██████████| 40/40 [00:11<00:00,  3.52it/s]\n",
      "100%|██████████| 40/40 [00:11<00:00,  3.52it/s]\n",
      "100%|██████████| 40/40 [00:11<00:00,  3.50it/s]\n",
      "100%|██████████| 40/40 [00:11<00:00,  3.51it/s]\n",
      "100%|██████████| 40/40 [00:11<00:00,  3.51it/s]\n",
      "100%|██████████| 40/40 [00:11<00:00,  3.50it/s]\n",
      "100%|██████████| 40/40 [00:11<00:00,  3.49it/s]\n",
      "100%|██████████| 40/40 [00:11<00:00,  3.48it/s]\n",
      "100%|██████████| 40/40 [00:11<00:00,  3.51it/s]\n",
      "100%|██████████| 40/40 [00:11<00:00,  3.50it/s]\n",
      "100%|██████████| 40/40 [00:11<00:00,  3.49it/s]\n",
      "100%|██████████| 40/40 [00:11<00:00,  3.50it/s]\n",
      "100%|██████████| 40/40 [00:11<00:00,  3.50it/s]\n",
      "100%|██████████| 40/40 [00:11<00:00,  3.49it/s]\n",
      "100%|██████████| 40/40 [00:11<00:00,  3.49it/s]\n",
      "100%|██████████| 40/40 [00:11<00:00,  3.49it/s]\n",
      "100%|██████████| 40/40 [00:11<00:00,  3.49it/s]\n",
      "100%|██████████| 40/40 [00:11<00:00,  3.50it/s]\n",
      "100%|██████████| 40/40 [00:11<00:00,  3.47it/s]\n",
      "100%|██████████| 40/40 [00:11<00:00,  3.52it/s]\n",
      "100%|██████████| 40/40 [00:11<00:00,  3.52it/s]\n",
      "100%|██████████| 40/40 [00:11<00:00,  3.49it/s]\n",
      "100%|██████████| 40/40 [00:11<00:00,  3.50it/s]\n",
      "100%|██████████| 40/40 [00:11<00:00,  3.51it/s]\n",
      "100%|██████████| 40/40 [00:11<00:00,  3.50it/s]\n",
      "100%|██████████| 40/40 [00:11<00:00,  3.49it/s]\n",
      "100%|██████████| 40/40 [00:11<00:00,  3.49it/s]\n",
      "100%|██████████| 40/40 [00:11<00:00,  3.48it/s]\n",
      "100%|██████████| 40/40 [00:11<00:00,  3.49it/s]\n",
      "100%|██████████| 40/40 [00:11<00:00,  3.44it/s]\n",
      "100%|██████████| 40/40 [00:11<00:00,  3.50it/s]\n",
      "100%|██████████| 40/40 [00:11<00:00,  3.49it/s]\n",
      "100%|██████████| 40/40 [00:11<00:00,  3.51it/s]\n",
      "100%|██████████| 40/40 [00:11<00:00,  3.50it/s]\n",
      "100%|██████████| 40/40 [00:11<00:00,  3.50it/s]\n",
      "100%|██████████| 40/40 [00:11<00:00,  3.50it/s]\n",
      "100%|██████████| 40/40 [00:11<00:00,  3.51it/s]\n",
      "100%|██████████| 40/40 [00:11<00:00,  3.51it/s]\n",
      "100%|██████████| 40/40 [00:11<00:00,  3.50it/s]\n",
      "100%|██████████| 40/40 [00:11<00:00,  3.48it/s]\n",
      "100%|██████████| 40/40 [00:11<00:00,  3.52it/s]\n",
      "100%|██████████| 40/40 [00:11<00:00,  3.52it/s]\n",
      "100%|██████████| 40/40 [00:11<00:00,  3.53it/s]\n",
      "100%|██████████| 40/40 [00:11<00:00,  3.50it/s]\n",
      "100%|██████████| 40/40 [00:11<00:00,  3.51it/s]\n",
      "100%|██████████| 40/40 [00:11<00:00,  3.50it/s]\n",
      "100%|██████████| 40/40 [00:11<00:00,  3.50it/s]\n",
      "100%|██████████| 40/40 [00:11<00:00,  3.49it/s]\n",
      "100%|██████████| 40/40 [00:11<00:00,  3.48it/s]\n",
      "100%|██████████| 40/40 [00:11<00:00,  3.48it/s]\n",
      "100%|██████████| 40/40 [00:11<00:00,  3.45it/s]\n",
      "100%|██████████| 40/40 [00:11<00:00,  3.49it/s]\n",
      "100%|██████████| 40/40 [00:11<00:00,  3.52it/s]\n",
      "100%|██████████| 40/40 [00:11<00:00,  3.51it/s]\n",
      "100%|██████████| 40/40 [00:11<00:00,  3.51it/s]\n",
      "100%|██████████| 40/40 [00:11<00:00,  3.52it/s]\n",
      "100%|██████████| 40/40 [00:11<00:00,  3.50it/s]\n",
      "100%|██████████| 40/40 [00:11<00:00,  3.52it/s]\n",
      "100%|██████████| 40/40 [00:11<00:00,  3.50it/s]\n",
      "100%|██████████| 40/40 [00:11<00:00,  3.49it/s]\n",
      "100%|██████████| 40/40 [00:11<00:00,  3.48it/s]\n",
      "100%|██████████| 40/40 [00:11<00:00,  3.51it/s]\n",
      "100%|██████████| 40/40 [00:11<00:00,  3.49it/s]\n",
      "100%|██████████| 40/40 [00:11<00:00,  3.51it/s]\n",
      "100%|██████████| 40/40 [00:11<00:00,  3.51it/s]\n",
      "100%|██████████| 40/40 [00:11<00:00,  3.50it/s]\n",
      "100%|██████████| 40/40 [00:11<00:00,  3.51it/s]\n",
      "100%|██████████| 40/40 [00:11<00:00,  3.49it/s]\n",
      "100%|██████████| 40/40 [00:11<00:00,  3.51it/s]\n",
      "100%|██████████| 40/40 [00:11<00:00,  3.51it/s]\n",
      "100%|██████████| 40/40 [00:11<00:00,  3.50it/s]\n",
      "100%|██████████| 40/40 [00:11<00:00,  3.46it/s]\n",
      "100%|██████████| 40/40 [00:11<00:00,  3.50it/s]\n",
      "100%|██████████| 40/40 [00:11<00:00,  3.50it/s]\n",
      "100%|██████████| 40/40 [00:11<00:00,  3.49it/s]\n",
      "100%|██████████| 40/40 [00:11<00:00,  3.51it/s]\n",
      "100%|██████████| 40/40 [00:11<00:00,  3.48it/s]\n",
      "100%|██████████| 40/40 [00:11<00:00,  3.49it/s]\n",
      "100%|██████████| 40/40 [00:11<00:00,  3.51it/s]\n",
      "100%|██████████| 40/40 [00:11<00:00,  3.52it/s]\n",
      "100%|██████████| 40/40 [00:11<00:00,  3.52it/s]\n",
      "100%|██████████| 40/40 [00:11<00:00,  3.48it/s]\n",
      "100%|██████████| 40/40 [00:11<00:00,  3.46it/s]\n",
      "100%|██████████| 40/40 [00:11<00:00,  3.51it/s]\n",
      "100%|██████████| 40/40 [00:11<00:00,  3.49it/s]\n",
      "100%|██████████| 40/40 [00:11<00:00,  3.51it/s]\n",
      "100%|██████████| 40/40 [00:11<00:00,  3.49it/s]\n",
      "100%|██████████| 40/40 [00:11<00:00,  3.49it/s]\n",
      "100%|██████████| 40/40 [00:11<00:00,  3.49it/s]\n",
      "100%|██████████| 40/40 [00:11<00:00,  3.50it/s]\n",
      "100%|██████████| 40/40 [00:11<00:00,  3.51it/s]\n",
      "100%|██████████| 40/40 [00:11<00:00,  3.52it/s]\n",
      "100%|██████████| 40/40 [00:11<00:00,  3.48it/s]\n",
      "100%|██████████| 40/40 [00:11<00:00,  3.50it/s]\n",
      "100%|██████████| 40/40 [00:11<00:00,  3.49it/s]\n",
      "100%|██████████| 40/40 [00:11<00:00,  3.51it/s]\n",
      "100%|██████████| 40/40 [00:11<00:00,  3.51it/s]\n",
      "100%|██████████| 40/40 [00:11<00:00,  3.51it/s]\n",
      "100%|██████████| 40/40 [00:11<00:00,  3.50it/s]\n",
      "100%|██████████| 40/40 [00:11<00:00,  3.52it/s]\n",
      "100%|██████████| 40/40 [00:11<00:00,  3.51it/s]\n",
      "100%|██████████| 40/40 [00:11<00:00,  3.51it/s]\n",
      "100%|██████████| 40/40 [00:11<00:00,  3.50it/s]\n",
      "100%|██████████| 40/40 [00:11<00:00,  3.46it/s]\n",
      "100%|██████████| 40/40 [00:11<00:00,  3.51it/s]\n",
      "100%|██████████| 40/40 [00:11<00:00,  3.52it/s]\n",
      "100%|██████████| 40/40 [00:11<00:00,  3.51it/s]\n",
      "100%|██████████| 40/40 [00:11<00:00,  3.50it/s]\n",
      "100%|██████████| 40/40 [00:11<00:00,  3.51it/s]\n",
      "100%|██████████| 40/40 [00:11<00:00,  3.52it/s]\n",
      "100%|██████████| 40/40 [00:11<00:00,  3.52it/s]\n",
      "100%|██████████| 40/40 [00:11<00:00,  3.52it/s]\n",
      "100%|██████████| 40/40 [00:11<00:00,  3.49it/s]\n",
      "100%|██████████| 40/40 [00:11<00:00,  3.45it/s]\n",
      "100%|██████████| 40/40 [00:11<00:00,  3.48it/s]\n",
      "100%|██████████| 40/40 [00:11<00:00,  3.51it/s]\n",
      "100%|██████████| 40/40 [00:11<00:00,  3.49it/s]\n",
      "100%|██████████| 40/40 [00:11<00:00,  3.50it/s]\n",
      "100%|██████████| 40/40 [00:11<00:00,  3.49it/s]\n",
      "100%|██████████| 40/40 [00:11<00:00,  3.51it/s]\n",
      "100%|██████████| 40/40 [00:11<00:00,  3.51it/s]\n",
      "100%|██████████| 40/40 [00:11<00:00,  3.50it/s]\n",
      "100%|██████████| 40/40 [00:11<00:00,  3.50it/s]\n",
      "100%|██████████| 40/40 [00:11<00:00,  3.50it/s]\n",
      "100%|██████████| 40/40 [00:11<00:00,  3.46it/s]\n",
      "100%|██████████| 40/40 [00:11<00:00,  3.50it/s]\n",
      "100%|██████████| 40/40 [00:11<00:00,  3.50it/s]\n",
      "100%|██████████| 40/40 [00:11<00:00,  3.50it/s]\n",
      "100%|██████████| 40/40 [00:11<00:00,  3.51it/s]\n",
      "100%|██████████| 40/40 [00:11<00:00,  3.50it/s]\n",
      "100%|██████████| 40/40 [00:11<00:00,  3.52it/s]\n",
      "100%|██████████| 40/40 [00:11<00:00,  3.51it/s]\n",
      "100%|██████████| 40/40 [00:11<00:00,  3.50it/s]\n",
      "100%|██████████| 40/40 [00:11<00:00,  3.51it/s]\n",
      "100%|██████████| 40/40 [00:11<00:00,  3.51it/s]\n",
      "100%|██████████| 40/40 [00:11<00:00,  3.48it/s]\n",
      "100%|██████████| 40/40 [00:11<00:00,  3.49it/s]\n",
      "100%|██████████| 40/40 [00:11<00:00,  3.49it/s]\n",
      "100%|██████████| 40/40 [00:11<00:00,  3.51it/s]\n",
      "100%|██████████| 40/40 [00:11<00:00,  3.50it/s]\n",
      "100%|██████████| 40/40 [00:11<00:00,  3.51it/s]\n",
      "100%|██████████| 40/40 [00:11<00:00,  3.49it/s]\n",
      "100%|██████████| 40/40 [00:11<00:00,  3.50it/s]\n",
      "100%|██████████| 40/40 [00:11<00:00,  3.49it/s]\n",
      "100%|██████████| 40/40 [00:11<00:00,  3.49it/s]\n",
      "100%|██████████| 40/40 [00:11<00:00,  3.46it/s]\n",
      "100%|██████████| 40/40 [00:11<00:00,  3.49it/s]\n",
      "100%|██████████| 40/40 [00:11<00:00,  3.50it/s]\n",
      "100%|██████████| 40/40 [00:11<00:00,  3.51it/s]\n",
      "100%|██████████| 40/40 [00:11<00:00,  3.51it/s]\n",
      "100%|██████████| 40/40 [00:11<00:00,  3.51it/s]\n",
      "100%|██████████| 40/40 [00:11<00:00,  3.52it/s]\n",
      "100%|██████████| 40/40 [00:11<00:00,  3.49it/s]\n",
      "100%|██████████| 40/40 [00:11<00:00,  3.51it/s]\n",
      "100%|██████████| 40/40 [00:11<00:00,  3.50it/s]\n"
     ]
    }
   ],
   "source": [
    "for i in range(1000):\n",
    "    np.random.seed()\n",
    "    type_1 = type_arr[np.random.randint(0,2)]\n",
    "    type_2 = type_arr[np.random.randint(0,2)]\n",
    "    np.random.seed()\n",
    "    index_1 = np.random.randint(0,100)\n",
    "    index_2 = np.random.randint(0,100)\n",
    "    with open(f'rawjet_val_top_{type_1}_{index_1}.pickle', 'rb') as handle:\n",
    "        A = pickle.load(handle)\n",
    "    with open(f'rawjet_val_top_{type_2}_{index_2}.pickle', 'rb') as handle:\n",
    "        B = pickle.load(handle)\n",
    "    np.random.seed()\n",
    "    perm = np.random.permutation(10000)\n",
    "    #print(A[perm[:5000]].shape)\n",
    "    #print(B[perm[5000:]].shape)\n",
    "    val_set = JetDataset(False, None, A[perm[:5000]],B[perm[5000:]],8)\n",
    "    torch.save(val_set, f'/nobackup/users/sangeon/datasets/jets/jet_val_8part_{i}.pt')\n"
   ]
  },
  {
   "cell_type": "code",
   "execution_count": 7,
   "metadata": {},
   "outputs": [],
   "source": [
    "import os"
   ]
  },
  {
   "cell_type": "code",
   "execution_count": 9,
   "metadata": {},
   "outputs": [
    {
     "name": "stderr",
     "output_type": "stream",
     "text": [
      "100%|██████████| 40/40 [00:53<00:00,  1.34s/it]\n",
      "100%|██████████| 40/40 [00:50<00:00,  1.26s/it]\n",
      "100%|██████████| 40/40 [00:50<00:00,  1.26s/it]\n",
      "100%|██████████| 40/40 [00:50<00:00,  1.26s/it]\n",
      "100%|██████████| 40/40 [00:50<00:00,  1.26s/it]\n",
      "100%|██████████| 40/40 [00:50<00:00,  1.26s/it]\n",
      "100%|██████████| 40/40 [00:50<00:00,  1.26s/it]\n",
      "100%|██████████| 40/40 [00:50<00:00,  1.26s/it]\n",
      "100%|██████████| 40/40 [00:50<00:00,  1.27s/it]\n",
      "100%|██████████| 40/40 [00:50<00:00,  1.26s/it]\n",
      "100%|██████████| 40/40 [00:50<00:00,  1.26s/it]\n",
      "100%|██████████| 40/40 [00:50<00:00,  1.26s/it]\n",
      "100%|██████████| 40/40 [00:50<00:00,  1.26s/it]\n",
      "100%|██████████| 40/40 [00:50<00:00,  1.26s/it]\n",
      "100%|██████████| 40/40 [00:50<00:00,  1.27s/it]\n",
      "100%|██████████| 40/40 [00:50<00:00,  1.26s/it]\n",
      "100%|██████████| 40/40 [00:50<00:00,  1.26s/it]\n",
      "100%|██████████| 40/40 [00:50<00:00,  1.26s/it]\n",
      "100%|██████████| 40/40 [00:50<00:00,  1.26s/it]\n",
      "100%|██████████| 40/40 [00:50<00:00,  1.27s/it]\n",
      "100%|██████████| 40/40 [00:50<00:00,  1.26s/it]\n",
      "100%|██████████| 40/40 [00:50<00:00,  1.26s/it]\n",
      "100%|██████████| 40/40 [00:50<00:00,  1.26s/it]\n",
      "100%|██████████| 40/40 [00:50<00:00,  1.27s/it]\n",
      "100%|██████████| 40/40 [00:50<00:00,  1.26s/it]\n",
      "100%|██████████| 40/40 [00:50<00:00,  1.27s/it]\n",
      "100%|██████████| 40/40 [00:50<00:00,  1.27s/it]\n",
      "100%|██████████| 40/40 [00:50<00:00,  1.26s/it]\n",
      "100%|██████████| 40/40 [00:50<00:00,  1.26s/it]\n",
      "100%|██████████| 40/40 [00:50<00:00,  1.26s/it]\n",
      "100%|██████████| 40/40 [00:50<00:00,  1.26s/it]\n",
      "100%|██████████| 40/40 [00:50<00:00,  1.26s/it]\n",
      "100%|██████████| 40/40 [00:50<00:00,  1.26s/it]\n",
      "100%|██████████| 40/40 [00:50<00:00,  1.26s/it]\n",
      "100%|██████████| 40/40 [00:50<00:00,  1.26s/it]\n",
      "100%|██████████| 40/40 [00:50<00:00,  1.27s/it]\n",
      "100%|██████████| 40/40 [00:50<00:00,  1.26s/it]\n",
      "100%|██████████| 40/40 [00:50<00:00,  1.27s/it]\n",
      "100%|██████████| 40/40 [00:50<00:00,  1.26s/it]\n",
      "100%|██████████| 40/40 [00:50<00:00,  1.26s/it]\n",
      "100%|██████████| 40/40 [00:50<00:00,  1.26s/it]\n",
      "100%|██████████| 40/40 [00:50<00:00,  1.26s/it]\n",
      "100%|██████████| 40/40 [00:50<00:00,  1.26s/it]\n",
      "100%|██████████| 40/40 [00:50<00:00,  1.26s/it]\n",
      "100%|██████████| 40/40 [00:50<00:00,  1.26s/it]\n",
      "100%|██████████| 40/40 [00:50<00:00,  1.26s/it]\n",
      "100%|██████████| 40/40 [00:49<00:00,  1.25s/it]\n",
      "100%|██████████| 40/40 [00:50<00:00,  1.26s/it]\n",
      "100%|██████████| 40/40 [00:50<00:00,  1.26s/it]\n",
      "100%|██████████| 40/40 [00:50<00:00,  1.26s/it]\n",
      "100%|██████████| 40/40 [00:50<00:00,  1.26s/it]\n",
      "100%|██████████| 40/40 [00:50<00:00,  1.26s/it]\n",
      "100%|██████████| 40/40 [00:50<00:00,  1.26s/it]\n",
      "100%|██████████| 40/40 [00:50<00:00,  1.26s/it]\n",
      "100%|██████████| 40/40 [00:50<00:00,  1.26s/it]\n",
      "100%|██████████| 40/40 [00:50<00:00,  1.26s/it]\n",
      "100%|██████████| 40/40 [00:50<00:00,  1.27s/it]\n",
      "100%|██████████| 40/40 [00:50<00:00,  1.26s/it]\n",
      "100%|██████████| 40/40 [00:50<00:00,  1.26s/it]\n",
      "100%|██████████| 40/40 [00:50<00:00,  1.27s/it]\n",
      "100%|██████████| 40/40 [00:50<00:00,  1.26s/it]\n",
      "100%|██████████| 40/40 [00:50<00:00,  1.26s/it]\n",
      "100%|██████████| 40/40 [00:50<00:00,  1.26s/it]\n",
      "100%|██████████| 40/40 [00:50<00:00,  1.26s/it]\n",
      "100%|██████████| 40/40 [00:50<00:00,  1.26s/it]\n",
      "100%|██████████| 40/40 [00:50<00:00,  1.26s/it]\n",
      "100%|██████████| 40/40 [00:50<00:00,  1.26s/it]\n",
      "100%|██████████| 40/40 [00:50<00:00,  1.27s/it]\n",
      "100%|██████████| 40/40 [00:50<00:00,  1.26s/it]\n",
      "100%|██████████| 40/40 [00:50<00:00,  1.26s/it]\n",
      "100%|██████████| 40/40 [00:50<00:00,  1.26s/it]\n",
      "100%|██████████| 40/40 [00:50<00:00,  1.26s/it]\n",
      "100%|██████████| 40/40 [00:50<00:00,  1.26s/it]\n",
      "100%|██████████| 40/40 [00:50<00:00,  1.26s/it]\n",
      "100%|██████████| 40/40 [00:50<00:00,  1.26s/it]\n",
      "100%|██████████| 40/40 [00:50<00:00,  1.26s/it]\n",
      "100%|██████████| 40/40 [00:50<00:00,  1.26s/it]\n",
      "100%|██████████| 40/40 [00:50<00:00,  1.26s/it]\n",
      "100%|██████████| 40/40 [00:50<00:00,  1.26s/it]\n",
      "100%|██████████| 40/40 [00:50<00:00,  1.26s/it]\n",
      "100%|██████████| 40/40 [00:50<00:00,  1.26s/it]\n",
      "100%|██████████| 40/40 [00:50<00:00,  1.26s/it]\n",
      "100%|██████████| 40/40 [00:50<00:00,  1.26s/it]\n",
      "100%|██████████| 40/40 [00:50<00:00,  1.27s/it]\n",
      "100%|██████████| 40/40 [00:50<00:00,  1.25s/it]\n",
      "100%|██████████| 40/40 [00:50<00:00,  1.26s/it]\n",
      "100%|██████████| 40/40 [00:50<00:00,  1.26s/it]\n",
      "100%|██████████| 40/40 [00:50<00:00,  1.26s/it]\n",
      "100%|██████████| 40/40 [00:50<00:00,  1.26s/it]\n",
      "100%|██████████| 40/40 [00:50<00:00,  1.26s/it]\n",
      "100%|██████████| 40/40 [00:50<00:00,  1.27s/it]\n",
      "100%|██████████| 40/40 [00:50<00:00,  1.26s/it]\n",
      "100%|██████████| 40/40 [00:50<00:00,  1.26s/it]\n",
      "100%|██████████| 40/40 [00:50<00:00,  1.26s/it]\n",
      "100%|██████████| 40/40 [00:50<00:00,  1.26s/it]\n",
      "100%|██████████| 40/40 [00:50<00:00,  1.26s/it]\n",
      "100%|██████████| 40/40 [00:50<00:00,  1.25s/it]\n",
      "100%|██████████| 40/40 [00:50<00:00,  1.26s/it]\n",
      "100%|██████████| 40/40 [00:50<00:00,  1.26s/it]\n",
      "100%|██████████| 40/40 [00:50<00:00,  1.26s/it]\n",
      "100%|██████████| 40/40 [00:50<00:00,  1.26s/it]\n",
      "100%|██████████| 40/40 [00:50<00:00,  1.26s/it]\n",
      "100%|██████████| 40/40 [00:50<00:00,  1.27s/it]\n",
      "100%|██████████| 40/40 [00:50<00:00,  1.26s/it]\n",
      "100%|██████████| 40/40 [00:50<00:00,  1.26s/it]\n",
      "100%|██████████| 40/40 [00:50<00:00,  1.26s/it]\n",
      "100%|██████████| 40/40 [00:50<00:00,  1.26s/it]\n",
      "100%|██████████| 40/40 [00:50<00:00,  1.26s/it]\n",
      "100%|██████████| 40/40 [00:50<00:00,  1.26s/it]\n",
      "100%|██████████| 40/40 [00:50<00:00,  1.26s/it]\n",
      "100%|██████████| 40/40 [00:50<00:00,  1.26s/it]\n",
      "100%|██████████| 40/40 [00:50<00:00,  1.26s/it]\n",
      "100%|██████████| 40/40 [00:50<00:00,  1.26s/it]\n",
      "100%|██████████| 40/40 [00:50<00:00,  1.25s/it]\n",
      "100%|██████████| 40/40 [00:50<00:00,  1.26s/it]\n",
      "100%|██████████| 40/40 [00:50<00:00,  1.26s/it]\n",
      "100%|██████████| 40/40 [00:50<00:00,  1.26s/it]\n",
      "100%|██████████| 40/40 [00:50<00:00,  1.26s/it]\n",
      "100%|██████████| 40/40 [00:50<00:00,  1.26s/it]\n",
      "100%|██████████| 40/40 [00:50<00:00,  1.27s/it]\n",
      "100%|██████████| 40/40 [00:50<00:00,  1.26s/it]\n",
      "100%|██████████| 40/40 [00:50<00:00,  1.26s/it]\n",
      "100%|██████████| 40/40 [00:50<00:00,  1.27s/it]\n",
      "100%|██████████| 40/40 [00:50<00:00,  1.26s/it]\n",
      "100%|██████████| 40/40 [00:50<00:00,  1.27s/it]\n",
      "100%|██████████| 40/40 [00:50<00:00,  1.26s/it]\n",
      "100%|██████████| 40/40 [00:50<00:00,  1.26s/it]\n",
      "100%|██████████| 40/40 [00:50<00:00,  1.26s/it]\n",
      "100%|██████████| 40/40 [00:50<00:00,  1.27s/it]\n",
      "100%|██████████| 40/40 [00:50<00:00,  1.26s/it]\n",
      "100%|██████████| 40/40 [00:50<00:00,  1.26s/it]\n",
      "100%|██████████| 40/40 [00:50<00:00,  1.26s/it]\n",
      "100%|██████████| 40/40 [00:50<00:00,  1.26s/it]\n",
      "100%|██████████| 40/40 [00:50<00:00,  1.26s/it]\n",
      "100%|██████████| 40/40 [00:50<00:00,  1.26s/it]\n",
      "100%|██████████| 40/40 [00:50<00:00,  1.26s/it]\n",
      "100%|██████████| 40/40 [00:50<00:00,  1.26s/it]\n",
      "100%|██████████| 40/40 [00:50<00:00,  1.25s/it]\n",
      "100%|██████████| 40/40 [00:50<00:00,  1.26s/it]\n",
      "100%|██████████| 40/40 [00:50<00:00,  1.26s/it]\n",
      "100%|██████████| 40/40 [00:50<00:00,  1.26s/it]\n",
      "100%|██████████| 40/40 [00:50<00:00,  1.26s/it]\n",
      "100%|██████████| 40/40 [00:50<00:00,  1.26s/it]\n",
      "100%|██████████| 40/40 [00:50<00:00,  1.26s/it]\n",
      "100%|██████████| 40/40 [00:50<00:00,  1.26s/it]\n",
      "100%|██████████| 40/40 [00:50<00:00,  1.27s/it]\n",
      "100%|██████████| 40/40 [00:50<00:00,  1.26s/it]\n",
      "100%|██████████| 40/40 [00:50<00:00,  1.27s/it]\n",
      "100%|██████████| 40/40 [00:50<00:00,  1.26s/it]\n",
      "100%|██████████| 40/40 [00:50<00:00,  1.26s/it]\n",
      "100%|██████████| 40/40 [00:50<00:00,  1.26s/it]\n",
      "100%|██████████| 40/40 [00:50<00:00,  1.27s/it]\n",
      "100%|██████████| 40/40 [00:50<00:00,  1.27s/it]\n",
      "100%|██████████| 40/40 [00:50<00:00,  1.26s/it]\n",
      "100%|██████████| 40/40 [00:50<00:00,  1.26s/it]\n",
      "100%|██████████| 40/40 [00:50<00:00,  1.26s/it]\n",
      "100%|██████████| 40/40 [00:50<00:00,  1.26s/it]\n",
      "100%|██████████| 40/40 [00:50<00:00,  1.27s/it]\n",
      "100%|██████████| 40/40 [00:50<00:00,  1.27s/it]\n",
      "100%|██████████| 40/40 [00:50<00:00,  1.26s/it]\n",
      "100%|██████████| 40/40 [00:50<00:00,  1.26s/it]\n",
      "100%|██████████| 40/40 [00:50<00:00,  1.26s/it]\n",
      "100%|██████████| 40/40 [00:50<00:00,  1.26s/it]\n",
      "100%|██████████| 40/40 [00:50<00:00,  1.26s/it]\n",
      "100%|██████████| 40/40 [00:50<00:00,  1.26s/it]\n",
      "100%|██████████| 40/40 [00:50<00:00,  1.26s/it]\n",
      "100%|██████████| 40/40 [00:50<00:00,  1.26s/it]\n",
      "100%|██████████| 40/40 [00:50<00:00,  1.27s/it]\n",
      "100%|██████████| 40/40 [00:50<00:00,  1.27s/it]\n",
      "100%|██████████| 40/40 [00:50<00:00,  1.27s/it]\n",
      "100%|██████████| 40/40 [00:50<00:00,  1.27s/it]\n",
      "100%|██████████| 40/40 [00:50<00:00,  1.26s/it]\n",
      "100%|██████████| 40/40 [00:50<00:00,  1.27s/it]\n",
      "100%|██████████| 40/40 [00:50<00:00,  1.26s/it]\n",
      "100%|██████████| 40/40 [00:50<00:00,  1.27s/it]\n",
      "100%|██████████| 40/40 [00:50<00:00,  1.26s/it]\n",
      "100%|██████████| 40/40 [00:50<00:00,  1.27s/it]\n",
      "100%|██████████| 40/40 [00:50<00:00,  1.26s/it]\n",
      "100%|██████████| 40/40 [00:50<00:00,  1.27s/it]\n",
      "100%|██████████| 40/40 [00:50<00:00,  1.27s/it]\n",
      "100%|██████████| 40/40 [00:50<00:00,  1.26s/it]\n",
      "100%|██████████| 40/40 [00:50<00:00,  1.27s/it]\n",
      "100%|██████████| 40/40 [00:50<00:00,  1.26s/it]\n",
      "100%|██████████| 40/40 [00:50<00:00,  1.27s/it]\n",
      "100%|██████████| 40/40 [00:50<00:00,  1.26s/it]\n",
      "100%|██████████| 40/40 [00:50<00:00,  1.26s/it]\n",
      "100%|██████████| 40/40 [00:50<00:00,  1.26s/it]\n",
      "100%|██████████| 40/40 [00:50<00:00,  1.26s/it]\n",
      "100%|██████████| 40/40 [00:50<00:00,  1.27s/it]\n",
      "100%|██████████| 40/40 [00:50<00:00,  1.26s/it]\n",
      "100%|██████████| 40/40 [00:50<00:00,  1.26s/it]\n",
      "100%|██████████| 40/40 [00:50<00:00,  1.26s/it]\n",
      "100%|██████████| 40/40 [00:50<00:00,  1.26s/it]\n",
      "100%|██████████| 40/40 [00:50<00:00,  1.27s/it]\n",
      "100%|██████████| 40/40 [00:50<00:00,  1.26s/it]\n",
      "100%|██████████| 40/40 [00:50<00:00,  1.26s/it]\n",
      "100%|██████████| 40/40 [00:50<00:00,  1.26s/it]\n",
      "100%|██████████| 40/40 [00:50<00:00,  1.27s/it]\n",
      "100%|██████████| 40/40 [00:50<00:00,  1.27s/it]\n",
      "100%|██████████| 40/40 [00:50<00:00,  1.26s/it]\n"
     ]
    }
   ],
   "source": [
    "basedir = '/nobackup/users/sangeon/datasets/jets/rawjets'\n",
    "for i in range(0,200):\n",
    "    np.random.seed()\n",
    "    type_1 = type_arr[np.random.randint(0,2)]\n",
    "    type_2 = type_arr[np.random.randint(0,2)]\n",
    "    np.random.seed()\n",
    "    index_1 = np.random.randint(0,100)\n",
    "    index_2 = np.random.randint(0,100)\n",
    "    with open(os.path.join(basedir,f'rawjet_16p_val_top_{type_1}_{index_1}.pickle'), 'rb') as handle:\n",
    "        A = pickle.load(handle)\n",
    "    with open(os.path.join(basedir,f'rawjet_16p_val_top_{type_2}_{index_2}.pickle'), 'rb') as handle:\n",
    "        B = pickle.load(handle)\n",
    "    np.random.seed()\n",
    "    perm = np.random.permutation(10000)\n",
    "    #print(A[perm[:5000]].shape)\n",
    "    #print(B[perm[5000:]].shape)\n",
    "    val_set = JetDataset(False, None, A[perm[:5000]],B[perm[5000:]],16)\n",
    "    torch.save(val_set, f'/nobackup/users/sangeon/datasets/jets/jet_val_16part_{i}.pt')\n"
   ]
  },
  {
   "cell_type": "code",
   "execution_count": 10,
   "metadata": {},
   "outputs": [
    {
     "name": "stderr",
     "output_type": "stream",
     "text": [
      "100%|██████████| 40/40 [00:50<00:00,  1.26s/it]\n",
      "100%|██████████| 40/40 [00:50<00:00,  1.26s/it]\n",
      "100%|██████████| 40/40 [00:50<00:00,  1.27s/it]\n",
      "100%|██████████| 40/40 [00:50<00:00,  1.26s/it]\n",
      "100%|██████████| 40/40 [00:50<00:00,  1.27s/it]\n",
      "100%|██████████| 40/40 [00:50<00:00,  1.26s/it]\n",
      "100%|██████████| 40/40 [00:50<00:00,  1.27s/it]\n",
      "100%|██████████| 40/40 [00:50<00:00,  1.26s/it]\n",
      "100%|██████████| 40/40 [00:50<00:00,  1.26s/it]\n",
      "100%|██████████| 40/40 [00:50<00:00,  1.26s/it]\n",
      "100%|██████████| 40/40 [00:50<00:00,  1.26s/it]\n",
      "100%|██████████| 40/40 [00:50<00:00,  1.26s/it]\n",
      "100%|██████████| 40/40 [00:50<00:00,  1.26s/it]\n",
      "100%|██████████| 40/40 [00:50<00:00,  1.26s/it]\n",
      "100%|██████████| 40/40 [00:50<00:00,  1.26s/it]\n",
      "100%|██████████| 40/40 [00:50<00:00,  1.26s/it]\n",
      "100%|██████████| 40/40 [00:50<00:00,  1.26s/it]\n",
      "100%|██████████| 40/40 [00:50<00:00,  1.26s/it]\n",
      "100%|██████████| 40/40 [00:50<00:00,  1.26s/it]\n",
      "100%|██████████| 40/40 [00:50<00:00,  1.26s/it]\n",
      "100%|██████████| 40/40 [00:50<00:00,  1.26s/it]\n",
      "100%|██████████| 40/40 [00:50<00:00,  1.26s/it]\n",
      "100%|██████████| 40/40 [00:50<00:00,  1.27s/it]\n",
      "100%|██████████| 40/40 [00:50<00:00,  1.27s/it]\n",
      "100%|██████████| 40/40 [00:50<00:00,  1.26s/it]\n",
      "100%|██████████| 40/40 [00:50<00:00,  1.26s/it]\n",
      "100%|██████████| 40/40 [00:50<00:00,  1.26s/it]\n",
      "100%|██████████| 40/40 [00:50<00:00,  1.27s/it]\n",
      "100%|██████████| 40/40 [00:50<00:00,  1.26s/it]\n",
      "100%|██████████| 40/40 [00:50<00:00,  1.27s/it]\n",
      "100%|██████████| 40/40 [00:50<00:00,  1.26s/it]\n",
      "100%|██████████| 40/40 [00:50<00:00,  1.27s/it]\n",
      "100%|██████████| 40/40 [00:50<00:00,  1.27s/it]\n",
      "100%|██████████| 40/40 [00:50<00:00,  1.27s/it]\n",
      "100%|██████████| 40/40 [00:50<00:00,  1.26s/it]\n",
      "100%|██████████| 40/40 [00:50<00:00,  1.26s/it]\n",
      "100%|██████████| 40/40 [00:50<00:00,  1.27s/it]\n",
      "100%|██████████| 40/40 [00:50<00:00,  1.27s/it]\n",
      "100%|██████████| 40/40 [00:50<00:00,  1.26s/it]\n",
      "100%|██████████| 40/40 [00:50<00:00,  1.26s/it]\n",
      "100%|██████████| 40/40 [00:50<00:00,  1.26s/it]\n",
      "100%|██████████| 40/40 [00:50<00:00,  1.27s/it]\n",
      "100%|██████████| 40/40 [00:50<00:00,  1.26s/it]\n",
      "100%|██████████| 40/40 [00:50<00:00,  1.26s/it]\n",
      "100%|██████████| 40/40 [00:50<00:00,  1.26s/it]\n",
      "100%|██████████| 40/40 [00:50<00:00,  1.27s/it]\n",
      "100%|██████████| 40/40 [00:50<00:00,  1.26s/it]\n",
      "100%|██████████| 40/40 [00:50<00:00,  1.27s/it]\n",
      "100%|██████████| 40/40 [00:50<00:00,  1.26s/it]\n",
      "100%|██████████| 40/40 [00:50<00:00,  1.26s/it]\n",
      "100%|██████████| 40/40 [00:50<00:00,  1.26s/it]\n",
      "100%|██████████| 40/40 [00:50<00:00,  1.26s/it]\n",
      "100%|██████████| 40/40 [00:50<00:00,  1.26s/it]\n",
      "100%|██████████| 40/40 [00:50<00:00,  1.26s/it]\n",
      "100%|██████████| 40/40 [00:50<00:00,  1.26s/it]\n",
      "100%|██████████| 40/40 [00:50<00:00,  1.26s/it]\n",
      "100%|██████████| 40/40 [00:50<00:00,  1.26s/it]\n",
      "100%|██████████| 40/40 [00:50<00:00,  1.26s/it]\n",
      "100%|██████████| 40/40 [00:50<00:00,  1.26s/it]\n",
      "100%|██████████| 40/40 [00:50<00:00,  1.26s/it]\n",
      "100%|██████████| 40/40 [00:50<00:00,  1.26s/it]\n",
      "100%|██████████| 40/40 [00:50<00:00,  1.26s/it]\n",
      "100%|██████████| 40/40 [00:50<00:00,  1.26s/it]\n",
      "100%|██████████| 40/40 [00:50<00:00,  1.26s/it]\n",
      "100%|██████████| 40/40 [00:50<00:00,  1.26s/it]\n",
      "100%|██████████| 40/40 [00:50<00:00,  1.26s/it]\n",
      "100%|██████████| 40/40 [00:50<00:00,  1.26s/it]\n",
      "100%|██████████| 40/40 [00:50<00:00,  1.26s/it]\n",
      "100%|██████████| 40/40 [00:50<00:00,  1.26s/it]\n",
      "100%|██████████| 40/40 [00:50<00:00,  1.26s/it]\n",
      "100%|██████████| 40/40 [00:50<00:00,  1.26s/it]\n",
      "100%|██████████| 40/40 [00:50<00:00,  1.26s/it]\n",
      "100%|██████████| 40/40 [00:50<00:00,  1.26s/it]\n",
      "100%|██████████| 40/40 [00:50<00:00,  1.26s/it]\n",
      "100%|██████████| 40/40 [00:50<00:00,  1.26s/it]\n",
      "100%|██████████| 40/40 [00:50<00:00,  1.26s/it]\n",
      "100%|██████████| 40/40 [00:50<00:00,  1.26s/it]\n",
      "100%|██████████| 40/40 [00:50<00:00,  1.26s/it]\n",
      "100%|██████████| 40/40 [00:50<00:00,  1.26s/it]\n",
      "100%|██████████| 40/40 [00:50<00:00,  1.26s/it]\n",
      "100%|██████████| 40/40 [00:50<00:00,  1.26s/it]\n",
      "100%|██████████| 40/40 [00:50<00:00,  1.26s/it]\n",
      "100%|██████████| 40/40 [00:50<00:00,  1.26s/it]\n",
      "100%|██████████| 40/40 [00:50<00:00,  1.26s/it]\n",
      "100%|██████████| 40/40 [00:50<00:00,  1.26s/it]\n",
      "100%|██████████| 40/40 [00:50<00:00,  1.26s/it]\n",
      "100%|██████████| 40/40 [00:50<00:00,  1.26s/it]\n",
      "100%|██████████| 40/40 [00:50<00:00,  1.26s/it]\n",
      "100%|██████████| 40/40 [00:50<00:00,  1.26s/it]\n",
      "100%|██████████| 40/40 [00:50<00:00,  1.25s/it]\n",
      "100%|██████████| 40/40 [00:50<00:00,  1.26s/it]\n",
      "100%|██████████| 40/40 [00:50<00:00,  1.25s/it]\n",
      "100%|██████████| 40/40 [00:50<00:00,  1.26s/it]\n",
      "100%|██████████| 40/40 [00:50<00:00,  1.25s/it]\n",
      "100%|██████████| 40/40 [00:50<00:00,  1.26s/it]\n",
      "100%|██████████| 40/40 [00:50<00:00,  1.26s/it]\n",
      "100%|██████████| 40/40 [00:50<00:00,  1.26s/it]\n",
      "100%|██████████| 40/40 [00:50<00:00,  1.26s/it]\n",
      "100%|██████████| 40/40 [00:50<00:00,  1.26s/it]\n",
      "100%|██████████| 40/40 [00:50<00:00,  1.26s/it]\n",
      "100%|██████████| 40/40 [00:50<00:00,  1.26s/it]\n",
      "100%|██████████| 40/40 [00:50<00:00,  1.26s/it]\n",
      "100%|██████████| 40/40 [00:50<00:00,  1.26s/it]\n",
      "100%|██████████| 40/40 [00:50<00:00,  1.26s/it]\n",
      "100%|██████████| 40/40 [00:50<00:00,  1.26s/it]\n",
      "100%|██████████| 40/40 [00:50<00:00,  1.26s/it]\n",
      "100%|██████████| 40/40 [00:50<00:00,  1.26s/it]\n",
      "100%|██████████| 40/40 [00:50<00:00,  1.26s/it]\n",
      "100%|██████████| 40/40 [00:50<00:00,  1.26s/it]\n",
      "100%|██████████| 40/40 [00:50<00:00,  1.26s/it]\n",
      "100%|██████████| 40/40 [00:50<00:00,  1.26s/it]\n",
      "100%|██████████| 40/40 [00:50<00:00,  1.26s/it]\n",
      "100%|██████████| 40/40 [00:50<00:00,  1.26s/it]\n",
      "100%|██████████| 40/40 [00:50<00:00,  1.26s/it]\n",
      "100%|██████████| 40/40 [00:50<00:00,  1.26s/it]\n",
      "100%|██████████| 40/40 [00:50<00:00,  1.26s/it]\n",
      "100%|██████████| 40/40 [00:50<00:00,  1.26s/it]\n",
      "100%|██████████| 40/40 [00:50<00:00,  1.26s/it]\n",
      "100%|██████████| 40/40 [00:50<00:00,  1.26s/it]\n",
      "100%|██████████| 40/40 [00:50<00:00,  1.26s/it]\n",
      "100%|██████████| 40/40 [00:50<00:00,  1.26s/it]\n",
      "100%|██████████| 40/40 [00:50<00:00,  1.26s/it]\n",
      "100%|██████████| 40/40 [00:50<00:00,  1.26s/it]\n",
      "100%|██████████| 40/40 [00:50<00:00,  1.26s/it]\n",
      "100%|██████████| 40/40 [00:50<00:00,  1.26s/it]\n",
      "100%|██████████| 40/40 [00:50<00:00,  1.26s/it]\n",
      "100%|██████████| 40/40 [00:50<00:00,  1.26s/it]\n",
      "100%|██████████| 40/40 [00:50<00:00,  1.26s/it]\n",
      "100%|██████████| 40/40 [00:50<00:00,  1.26s/it]\n",
      "100%|██████████| 40/40 [00:50<00:00,  1.26s/it]\n",
      "100%|██████████| 40/40 [00:50<00:00,  1.26s/it]\n",
      "100%|██████████| 40/40 [00:50<00:00,  1.26s/it]\n",
      "100%|██████████| 40/40 [00:50<00:00,  1.26s/it]\n",
      "100%|██████████| 40/40 [00:50<00:00,  1.26s/it]\n",
      "100%|██████████| 40/40 [00:50<00:00,  1.26s/it]\n",
      "100%|██████████| 40/40 [00:50<00:00,  1.27s/it]\n",
      "100%|██████████| 40/40 [00:50<00:00,  1.26s/it]\n",
      "100%|██████████| 40/40 [00:50<00:00,  1.26s/it]\n",
      "100%|██████████| 40/40 [00:50<00:00,  1.26s/it]\n",
      "100%|██████████| 40/40 [00:50<00:00,  1.26s/it]\n",
      "100%|██████████| 40/40 [00:50<00:00,  1.27s/it]\n",
      "100%|██████████| 40/40 [00:50<00:00,  1.26s/it]\n",
      "100%|██████████| 40/40 [00:50<00:00,  1.26s/it]\n",
      "100%|██████████| 40/40 [00:50<00:00,  1.26s/it]\n",
      "100%|██████████| 40/40 [00:50<00:00,  1.26s/it]\n",
      "100%|██████████| 40/40 [00:50<00:00,  1.26s/it]\n",
      "100%|██████████| 40/40 [00:50<00:00,  1.26s/it]\n",
      "100%|██████████| 40/40 [00:50<00:00,  1.27s/it]\n",
      "100%|██████████| 40/40 [00:50<00:00,  1.26s/it]\n",
      "100%|██████████| 40/40 [00:50<00:00,  1.26s/it]\n",
      "100%|██████████| 40/40 [00:50<00:00,  1.26s/it]\n",
      "100%|██████████| 40/40 [00:50<00:00,  1.26s/it]\n",
      "100%|██████████| 40/40 [00:50<00:00,  1.26s/it]\n",
      "100%|██████████| 40/40 [00:50<00:00,  1.26s/it]\n",
      "100%|██████████| 40/40 [00:50<00:00,  1.26s/it]\n",
      "100%|██████████| 40/40 [00:50<00:00,  1.26s/it]\n",
      "100%|██████████| 40/40 [00:50<00:00,  1.26s/it]\n",
      "100%|██████████| 40/40 [00:50<00:00,  1.26s/it]\n",
      "100%|██████████| 40/40 [00:50<00:00,  1.26s/it]\n",
      "100%|██████████| 40/40 [00:50<00:00,  1.27s/it]\n",
      "100%|██████████| 40/40 [00:50<00:00,  1.26s/it]\n",
      "100%|██████████| 40/40 [00:50<00:00,  1.26s/it]\n",
      "100%|██████████| 40/40 [00:50<00:00,  1.26s/it]\n",
      "100%|██████████| 40/40 [00:50<00:00,  1.26s/it]\n",
      "100%|██████████| 40/40 [00:50<00:00,  1.26s/it]\n",
      "100%|██████████| 40/40 [00:50<00:00,  1.26s/it]\n",
      "100%|██████████| 40/40 [00:50<00:00,  1.26s/it]\n",
      "100%|██████████| 40/40 [00:50<00:00,  1.26s/it]\n",
      "100%|██████████| 40/40 [00:50<00:00,  1.26s/it]\n",
      "100%|██████████| 40/40 [00:50<00:00,  1.26s/it]\n",
      "100%|██████████| 40/40 [00:50<00:00,  1.26s/it]\n",
      "100%|██████████| 40/40 [00:50<00:00,  1.26s/it]\n",
      "100%|██████████| 40/40 [00:50<00:00,  1.26s/it]\n",
      "100%|██████████| 40/40 [00:50<00:00,  1.26s/it]\n",
      "100%|██████████| 40/40 [00:50<00:00,  1.26s/it]\n",
      "100%|██████████| 40/40 [00:50<00:00,  1.26s/it]\n",
      "100%|██████████| 40/40 [00:50<00:00,  1.26s/it]\n",
      "100%|██████████| 40/40 [00:50<00:00,  1.26s/it]\n",
      "100%|██████████| 40/40 [00:50<00:00,  1.26s/it]\n",
      "100%|██████████| 40/40 [00:50<00:00,  1.26s/it]\n",
      "100%|██████████| 40/40 [00:50<00:00,  1.26s/it]\n",
      "100%|██████████| 40/40 [00:50<00:00,  1.26s/it]\n",
      "100%|██████████| 40/40 [00:50<00:00,  1.26s/it]\n",
      "100%|██████████| 40/40 [00:50<00:00,  1.26s/it]\n",
      "100%|██████████| 40/40 [00:50<00:00,  1.26s/it]\n",
      "100%|██████████| 40/40 [00:50<00:00,  1.26s/it]\n",
      "100%|██████████| 40/40 [00:50<00:00,  1.26s/it]\n",
      "100%|██████████| 40/40 [00:50<00:00,  1.26s/it]\n",
      "100%|██████████| 40/40 [00:50<00:00,  1.26s/it]\n",
      "100%|██████████| 40/40 [00:50<00:00,  1.26s/it]\n",
      "100%|██████████| 40/40 [00:50<00:00,  1.26s/it]\n",
      "100%|██████████| 40/40 [00:50<00:00,  1.26s/it]\n",
      "100%|██████████| 40/40 [00:50<00:00,  1.26s/it]\n",
      "100%|██████████| 40/40 [00:50<00:00,  1.26s/it]\n",
      "100%|██████████| 40/40 [00:50<00:00,  1.26s/it]\n",
      "100%|██████████| 40/40 [00:50<00:00,  1.26s/it]\n",
      "100%|██████████| 40/40 [00:50<00:00,  1.26s/it]\n",
      "100%|██████████| 40/40 [00:50<00:00,  1.26s/it]\n",
      "100%|██████████| 40/40 [00:50<00:00,  1.26s/it]\n",
      "100%|██████████| 40/40 [00:50<00:00,  1.26s/it]\n"
     ]
    }
   ],
   "source": [
    "basedir = '/nobackup/users/sangeon/datasets/jets/rawjets'\n",
    "for i in range(0,200):\n",
    "    np.random.seed()\n",
    "    type_1 = type_arr[np.random.randint(0,2)]\n",
    "    type_2 = type_arr[np.random.randint(0,2)]\n",
    "    np.random.seed()\n",
    "    index_1 = np.random.randint(0,70)\n",
    "    index_2 = np.random.randint(0,70)\n",
    "    with open(os.path.join(basedir,f'rawjet_16p_test_top_{type_1}_{index_1}.pickle'), 'rb') as handle:\n",
    "        A = pickle.load(handle)\n",
    "    with open(os.path.join(basedir,f'rawjet_16p_test_top_{type_2}_{index_2}.pickle'), 'rb') as handle:\n",
    "        B = pickle.load(handle)\n",
    "    np.random.seed()\n",
    "    perm = np.random.permutation(10000)\n",
    "    #print(A[perm[:5000]].shape)\n",
    "    #print(B[perm[5000:]].shape)\n",
    "    test_set = JetDataset(False, None, A[perm[:5000]],B[perm[5000:]],16)\n",
    "    torch.save(test_set, f'/nobackup/users/sangeon/datasets/jets/jet_test_16part_{i}.pt')\n"
   ]
  },
  {
   "cell_type": "code",
   "execution_count": null,
   "metadata": {},
   "outputs": [
    {
     "name": "stderr",
     "output_type": "stream",
     "text": [
      "100%|██████████| 40/40 [01:26<00:00,  2.16s/it]\n",
      "100%|██████████| 40/40 [00:41<00:00,  1.03s/it]\n",
      "100%|██████████| 40/40 [02:01<00:00,  3.04s/it]\n",
      "100%|██████████| 40/40 [02:33<00:00,  3.83s/it]\n",
      "100%|██████████| 40/40 [02:30<00:00,  3.77s/it]\n",
      "100%|██████████| 40/40 [01:41<00:00,  2.53s/it]\n",
      "100%|██████████| 40/40 [01:12<00:00,  1.80s/it]\n",
      "100%|██████████| 40/40 [02:41<00:00,  4.04s/it]\n",
      "100%|██████████| 40/40 [02:26<00:00,  3.65s/it]\n",
      "100%|██████████| 40/40 [01:13<00:00,  1.83s/it]\n",
      "100%|██████████| 40/40 [00:51<00:00,  1.28s/it]\n",
      "100%|██████████| 40/40 [00:43<00:00,  1.09s/it]\n",
      "100%|██████████| 40/40 [02:20<00:00,  3.52s/it]\n",
      "100%|██████████| 40/40 [02:27<00:00,  3.69s/it]\n",
      "100%|██████████| 40/40 [02:41<00:00,  4.03s/it]\n",
      "100%|██████████| 40/40 [01:17<00:00,  1.93s/it]\n",
      "100%|██████████| 40/40 [00:42<00:00,  1.05s/it]\n",
      "100%|██████████| 40/40 [02:13<00:00,  3.33s/it]\n",
      "100%|██████████| 40/40 [02:39<00:00,  3.99s/it]\n",
      "100%|██████████| 40/40 [02:36<00:00,  3.92s/it]\n",
      "100%|██████████| 40/40 [01:23<00:00,  2.08s/it]\n",
      "100%|██████████| 40/40 [00:41<00:00,  1.05s/it]\n",
      "100%|██████████| 40/40 [02:26<00:00,  3.66s/it]\n",
      "100%|██████████| 40/40 [02:36<00:00,  3.91s/it]\n",
      "100%|██████████| 40/40 [02:38<00:00,  3.95s/it]\n",
      "100%|██████████| 40/40 [01:04<00:00,  1.60s/it]\n",
      "100%|██████████| 40/40 [01:27<00:00,  2.18s/it]\n",
      "100%|██████████| 40/40 [02:37<00:00,  3.94s/it]\n",
      "100%|██████████| 40/40 [00:53<00:00,  1.34s/it]\n",
      "100%|██████████| 40/40 [00:56<00:00,  1.42s/it]\n",
      "100%|██████████| 40/40 [00:55<00:00,  1.39s/it]\n",
      "100%|██████████| 40/40 [00:42<00:00,  1.06s/it]\n",
      "100%|██████████| 40/40 [02:40<00:00,  4.02s/it]\n",
      "100%|██████████| 40/40 [02:34<00:00,  3.86s/it]\n",
      "100%|██████████| 40/40 [02:39<00:00,  3.99s/it]\n",
      "100%|██████████| 40/40 [00:48<00:00,  1.21s/it]\n",
      "100%|██████████| 40/40 [00:55<00:00,  1.39s/it]\n",
      "100%|██████████| 40/40 [00:49<00:00,  1.24s/it]\n",
      "100%|██████████| 40/40 [01:21<00:00,  2.04s/it]\n",
      "100%|██████████| 40/40 [00:53<00:00,  1.34s/it]\n",
      "100%|██████████| 40/40 [02:15<00:00,  3.39s/it]\n",
      "100%|██████████| 40/40 [02:30<00:00,  3.76s/it]\n",
      "100%|██████████| 40/40 [02:28<00:00,  3.71s/it]\n",
      "100%|██████████| 40/40 [01:39<00:00,  2.48s/it]\n",
      "100%|██████████| 40/40 [01:26<00:00,  2.15s/it]\n",
      "100%|██████████| 40/40 [01:18<00:00,  1.97s/it]\n",
      "100%|██████████| 40/40 [01:58<00:00,  2.96s/it]\n",
      "100%|██████████| 40/40 [02:32<00:00,  3.81s/it]\n",
      "100%|██████████| 40/40 [02:28<00:00,  3.72s/it]\n",
      "100%|██████████| 40/40 [01:49<00:00,  2.73s/it]\n",
      "100%|██████████| 40/40 [00:48<00:00,  1.21s/it]\n",
      "100%|██████████| 40/40 [00:51<00:00,  1.28s/it]\n",
      "100%|██████████| 40/40 [01:39<00:00,  2.49s/it]\n",
      "100%|██████████| 40/40 [02:36<00:00,  3.91s/it]\n",
      "100%|██████████| 40/40 [02:22<00:00,  3.55s/it]\n",
      "100%|██████████| 40/40 [02:22<00:00,  3.57s/it]\n",
      "100%|██████████| 40/40 [00:46<00:00,  1.16s/it]\n",
      "100%|██████████| 40/40 [02:09<00:00,  3.25s/it]\n",
      "100%|██████████| 40/40 [02:32<00:00,  3.80s/it]\n",
      "100%|██████████| 40/40 [02:33<00:00,  3.83s/it]\n",
      "100%|██████████| 40/40 [01:41<00:00,  2.55s/it]\n",
      "100%|██████████| 40/40 [01:16<00:00,  1.90s/it]\n",
      "100%|██████████| 40/40 [02:32<00:00,  3.81s/it]\n",
      "100%|██████████| 40/40 [02:26<00:00,  3.65s/it]\n",
      "100%|██████████| 40/40 [02:35<00:00,  3.88s/it]\n",
      "100%|██████████| 40/40 [01:06<00:00,  1.67s/it]\n",
      "100%|██████████| 40/40 [02:30<00:00,  3.77s/it]\n",
      "100%|██████████| 40/40 [02:39<00:00,  3.98s/it]\n",
      "100%|██████████| 40/40 [02:38<00:00,  3.97s/it]\n",
      "100%|██████████| 40/40 [00:42<00:00,  1.06s/it]\n",
      "100%|██████████| 40/40 [00:42<00:00,  1.06s/it]\n",
      "100%|██████████| 40/40 [02:26<00:00,  3.67s/it]\n",
      "100%|██████████| 40/40 [02:31<00:00,  3.78s/it]\n",
      "100%|██████████| 40/40 [02:30<00:00,  3.77s/it]\n",
      "100%|██████████| 40/40 [01:25<00:00,  2.15s/it]\n",
      "100%|██████████| 40/40 [01:19<00:00,  1.98s/it]\n",
      "100%|██████████| 40/40 [02:27<00:00,  3.68s/it]\n",
      "100%|██████████| 40/40 [02:25<00:00,  3.63s/it]\n",
      "100%|██████████| 40/40 [02:31<00:00,  3.78s/it]\n",
      "100%|██████████| 40/40 [00:59<00:00,  1.48s/it]\n",
      "100%|██████████| 40/40 [02:03<00:00,  3.09s/it]\n",
      "100%|██████████| 40/40 [02:30<00:00,  3.76s/it]\n",
      "100%|██████████| 40/40 [02:34<00:00,  3.86s/it]\n",
      "100%|██████████| 40/40 [01:50<00:00,  2.75s/it]\n",
      "100%|██████████| 40/40 [00:53<00:00,  1.34s/it]\n",
      "100%|██████████| 40/40 [02:26<00:00,  3.66s/it]\n",
      "100%|██████████| 40/40 [02:21<00:00,  3.53s/it]\n",
      "100%|██████████| 40/40 [02:32<00:00,  3.81s/it]\n",
      "100%|██████████| 40/40 [01:15<00:00,  1.90s/it]\n",
      "100%|██████████| 40/40 [01:40<00:00,  2.51s/it]\n",
      "100%|██████████| 40/40 [02:24<00:00,  3.61s/it]\n",
      "100%|██████████| 40/40 [02:20<00:00,  3.50s/it]\n",
      "100%|██████████| 40/40 [02:15<00:00,  3.38s/it]\n",
      "100%|██████████| 40/40 [00:45<00:00,  1.14s/it]\n",
      "100%|██████████| 40/40 [01:43<00:00,  2.59s/it]\n",
      "100%|██████████| 40/40 [02:25<00:00,  3.65s/it]\n",
      "100%|██████████| 40/40 [02:30<00:00,  3.75s/it]\n",
      "100%|██████████| 40/40 [02:15<00:00,  3.38s/it]\n",
      "100%|██████████| 40/40 [00:45<00:00,  1.13s/it]\n",
      "100%|██████████| 40/40 [01:50<00:00,  2.76s/it]\n",
      "100%|██████████| 40/40 [02:28<00:00,  3.72s/it]\n",
      "100%|██████████| 40/40 [02:24<00:00,  3.62s/it]\n",
      "100%|██████████| 40/40 [00:45<00:00,  1.14s/it]\n",
      "100%|██████████| 40/40 [02:29<00:00,  3.73s/it]\n",
      "100%|██████████| 40/40 [02:26<00:00,  3.66s/it]\n",
      "100%|██████████| 40/40 [02:28<00:00,  3.72s/it]\n",
      "100%|██████████| 40/40 [01:24<00:00,  2.12s/it]\n",
      "100%|██████████| 40/40 [00:45<00:00,  1.14s/it]\n",
      "100%|██████████| 40/40 [02:09<00:00,  3.23s/it]\n",
      "100%|██████████| 40/40 [02:25<00:00,  3.64s/it]\n",
      "100%|██████████| 40/40 [02:22<00:00,  3.57s/it]\n",
      "100%|██████████| 40/40 [01:54<00:00,  2.86s/it]\n",
      "100%|██████████| 40/40 [00:46<00:00,  1.16s/it]\n",
      "100%|██████████| 40/40 [02:25<00:00,  3.63s/it]\n",
      "100%|██████████| 40/40 [02:30<00:00,  3.77s/it]\n",
      "100%|██████████| 40/40 [02:33<00:00,  3.85s/it]\n",
      "100%|██████████| 40/40 [01:21<00:00,  2.04s/it]\n",
      "100%|██████████| 40/40 [01:52<00:00,  2.80s/it]\n",
      "100%|██████████| 40/40 [02:27<00:00,  3.69s/it]\n",
      "100%|██████████| 40/40 [02:21<00:00,  3.54s/it]\n",
      "100%|██████████| 40/40 [02:07<00:00,  3.18s/it]\n",
      "100%|██████████| 40/40 [00:47<00:00,  1.18s/it]\n",
      "100%|██████████| 40/40 [02:31<00:00,  3.79s/it]\n",
      "100%|██████████| 40/40 [02:23<00:00,  3.58s/it]\n",
      "100%|██████████| 40/40 [02:32<00:00,  3.80s/it]\n",
      "100%|██████████| 40/40 [01:29<00:00,  2.24s/it]\n",
      "100%|██████████| 40/40 [01:54<00:00,  2.87s/it]\n",
      "100%|██████████| 40/40 [02:25<00:00,  3.63s/it]\n",
      "100%|██████████| 40/40 [02:27<00:00,  3.69s/it]\n",
      "100%|██████████| 40/40 [02:00<00:00,  3.02s/it]\n",
      "100%|██████████| 40/40 [00:45<00:00,  1.13s/it]\n",
      "100%|██████████| 40/40 [01:45<00:00,  2.64s/it]\n",
      "100%|██████████| 40/40 [02:28<00:00,  3.72s/it]\n",
      "100%|██████████| 40/40 [02:24<00:00,  3.62s/it]\n",
      "100%|██████████| 40/40 [02:12<00:00,  3.31s/it]\n",
      "100%|██████████| 40/40 [00:42<00:00,  1.06s/it]\n",
      "100%|██████████| 40/40 [02:32<00:00,  3.82s/it]\n",
      "100%|██████████| 40/40 [02:34<00:00,  3.85s/it]\n",
      "100%|██████████| 40/40 [02:39<00:00,  3.98s/it]\n",
      "100%|██████████| 40/40 [01:00<00:00,  1.52s/it]\n",
      "100%|██████████| 40/40 [01:52<00:00,  2.82s/it]\n",
      "100%|██████████| 40/40 [02:29<00:00,  3.75s/it]\n",
      "100%|██████████| 40/40 [02:29<00:00,  3.73s/it]\n",
      "100%|██████████| 40/40 [01:51<00:00,  2.80s/it]\n",
      "100%|██████████| 40/40 [00:42<00:00,  1.06s/it]\n",
      "100%|██████████| 40/40 [01:35<00:00,  2.40s/it]\n",
      "100%|██████████| 40/40 [02:35<00:00,  3.89s/it]\n",
      "100%|██████████| 40/40 [02:37<00:00,  3.95s/it]\n",
      "100%|██████████| 40/40 [02:01<00:00,  3.04s/it]\n",
      "100%|██████████| 40/40 [00:41<00:00,  1.05s/it]\n",
      "100%|██████████| 40/40 [02:39<00:00,  3.99s/it]\n",
      "100%|██████████| 40/40 [02:43<00:00,  4.08s/it]\n",
      "100%|██████████| 40/40 [01:01<00:00,  1.54s/it]\n",
      "100%|██████████| 40/40 [02:12<00:00,  3.32s/it]\n",
      "100%|██████████| 40/40 [02:38<00:00,  3.96s/it]\n",
      "100%|██████████| 40/40 [02:39<00:00,  3.99s/it]\n",
      "100%|██████████| 40/40 [01:21<00:00,  2.04s/it]\n",
      "100%|██████████| 40/40 [01:27<00:00,  2.19s/it]\n",
      "100%|██████████| 40/40 [02:39<00:00,  3.98s/it]\n",
      "100%|██████████| 40/40 [02:41<00:00,  4.03s/it]\n",
      "100%|██████████| 40/40 [02:05<00:00,  3.13s/it]\n",
      "100%|██████████| 40/40 [01:05<00:00,  1.64s/it]\n",
      "100%|██████████| 40/40 [02:40<00:00,  4.02s/it]\n",
      "100%|██████████| 40/40 [02:37<00:00,  3.93s/it]\n",
      "100%|██████████| 40/40 [02:32<00:00,  3.80s/it]\n",
      "100%|██████████| 40/40 [00:43<00:00,  1.08s/it]\n",
      "100%|██████████| 40/40 [01:28<00:00,  2.22s/it]\n",
      "100%|██████████| 40/40 [02:43<00:00,  4.09s/it]\n",
      "100%|██████████| 40/40 [02:41<00:00,  4.05s/it]\n",
      "100%|██████████| 40/40 [01:57<00:00,  2.94s/it]\n",
      "100%|██████████| 40/40 [00:41<00:00,  1.04s/it]\n",
      "100%|██████████| 40/40 [02:16<00:00,  3.41s/it]\n",
      "100%|██████████| 40/40 [02:38<00:00,  3.96s/it]\n",
      "100%|██████████| 40/40 [02:36<00:00,  3.90s/it]\n",
      "100%|██████████| 40/40 [01:18<00:00,  1.96s/it]\n",
      "100%|██████████| 40/40 [00:45<00:00,  1.13s/it]\n",
      "100%|██████████| 40/40 [02:40<00:00,  4.02s/it]\n",
      "100%|██████████| 40/40 [02:40<00:00,  4.02s/it]\n",
      "100%|██████████| 40/40 [02:32<00:00,  3.82s/it]\n",
      "100%|██████████| 40/40 [00:55<00:00,  1.39s/it]\n",
      "100%|██████████| 40/40 [02:12<00:00,  3.31s/it]\n",
      "100%|██████████| 40/40 [02:32<00:00,  3.82s/it]\n",
      "100%|██████████| 40/40 [02:41<00:00,  4.04s/it]\n",
      "100%|██████████| 40/40 [01:17<00:00,  1.94s/it]\n",
      "100%|██████████| 40/40 [00:41<00:00,  1.05s/it]\n",
      "100%|██████████| 40/40 [02:23<00:00,  3.58s/it]\n",
      "100%|██████████| 40/40 [02:38<00:00,  3.97s/it]\n",
      "100%|██████████| 40/40 [02:40<00:00,  4.02s/it]\n",
      "100%|██████████| 40/40 [01:04<00:00,  1.62s/it]\n",
      "100%|██████████| 40/40 [01:18<00:00,  1.97s/it]\n",
      "100%|██████████| 40/40 [02:39<00:00,  3.99s/it]\n",
      "100%|██████████| 40/40 [02:32<00:00,  3.81s/it]\n",
      "100%|██████████| 40/40 [02:16<00:00,  3.42s/it]\n",
      " 62%|██████▎   | 25/40 [00:27<00:16,  1.08s/it]"
     ]
    }
   ],
   "source": [
    "basedir = '/nobackup/users/sangeon/datasets/jets/rawjets'\n",
    "for i in range(245,1000):\n",
    "    np.random.seed()\n",
    "    type_1 = type_arr[np.random.randint(0,2)]\n",
    "    type_2 = type_arr[np.random.randint(0,2)]\n",
    "    np.random.seed()\n",
    "    index_1 = np.random.randint(0,274)\n",
    "    index_2 = np.random.randint(0,274)\n",
    "    with open(os.path.join(basedir,f'rawjet_16p_train_top_{type_1}_{index_1}.pickle'), 'rb') as handle:\n",
    "        A = pickle.load(handle)\n",
    "    with open(os.path.join(basedir,f'rawjet_16p_train_top_{type_2}_{index_2}.pickle'), 'rb') as handle:\n",
    "        B = pickle.load(handle)\n",
    "    np.random.seed()\n",
    "    perm = np.random.permutation(10000)\n",
    "    #print(A[perm[:5000]].shape)\n",
    "    #print(B[perm[5000:]].shape)\n",
    "    train_set = JetDataset(False, None, A[perm[:5000]],B[perm[5000:]],16)\n",
    "    torch.save(train_set, f'/nobackup/users/sangeon/datasets/jets/jet_train_16part_{i}.pt')\n"
   ]
  },
  {
   "cell_type": "code",
   "execution_count": null,
   "metadata": {},
   "outputs": [
    {
     "name": "stderr",
     "output_type": "stream",
     "text": [
      "100%|██████████| 40/40 [00:18<00:00,  2.11it/s]\n",
      "100%|██████████| 40/40 [00:11<00:00,  3.46it/s]\n",
      "100%|██████████| 40/40 [00:11<00:00,  3.49it/s]\n",
      "100%|██████████| 40/40 [00:11<00:00,  3.47it/s]\n",
      "100%|██████████| 40/40 [00:11<00:00,  3.47it/s]\n",
      "100%|██████████| 40/40 [00:11<00:00,  3.43it/s]\n",
      "100%|██████████| 40/40 [00:11<00:00,  3.48it/s]\n",
      "100%|██████████| 40/40 [00:11<00:00,  3.48it/s]\n",
      "100%|██████████| 40/40 [00:11<00:00,  3.49it/s]\n",
      "100%|██████████| 40/40 [00:11<00:00,  3.49it/s]\n",
      "100%|██████████| 40/40 [00:11<00:00,  3.48it/s]\n",
      "100%|██████████| 40/40 [00:11<00:00,  3.49it/s]\n",
      "100%|██████████| 40/40 [00:11<00:00,  3.50it/s]\n",
      "100%|██████████| 40/40 [00:11<00:00,  3.50it/s]\n",
      "100%|██████████| 40/40 [00:11<00:00,  3.50it/s]\n",
      "100%|██████████| 40/40 [00:11<00:00,  3.50it/s]\n",
      "100%|██████████| 40/40 [00:11<00:00,  3.48it/s]\n",
      "100%|██████████| 40/40 [00:11<00:00,  3.52it/s]\n",
      "100%|██████████| 40/40 [00:11<00:00,  3.50it/s]\n",
      "100%|██████████| 40/40 [00:11<00:00,  3.50it/s]\n",
      "100%|██████████| 40/40 [00:11<00:00,  3.50it/s]\n",
      "100%|██████████| 40/40 [00:11<00:00,  3.48it/s]\n",
      "100%|██████████| 40/40 [00:11<00:00,  3.49it/s]\n",
      "100%|██████████| 40/40 [00:11<00:00,  3.51it/s]\n",
      "100%|██████████| 40/40 [00:11<00:00,  3.48it/s]\n",
      "100%|██████████| 40/40 [00:11<00:00,  3.49it/s]\n",
      "100%|██████████| 40/40 [00:11<00:00,  3.47it/s]\n",
      "100%|██████████| 40/40 [00:11<00:00,  3.50it/s]\n",
      "100%|██████████| 40/40 [00:11<00:00,  3.49it/s]\n",
      "100%|██████████| 40/40 [00:11<00:00,  3.50it/s]\n",
      "100%|██████████| 40/40 [00:11<00:00,  3.50it/s]\n",
      "100%|██████████| 40/40 [00:11<00:00,  3.50it/s]\n",
      "100%|██████████| 40/40 [00:11<00:00,  3.50it/s]\n",
      "100%|██████████| 40/40 [00:11<00:00,  3.49it/s]\n",
      "100%|██████████| 40/40 [00:11<00:00,  3.50it/s]\n",
      "100%|██████████| 40/40 [00:11<00:00,  3.50it/s]\n",
      "100%|██████████| 40/40 [00:11<00:00,  3.50it/s]\n",
      "100%|██████████| 40/40 [00:11<00:00,  3.45it/s]\n",
      "100%|██████████| 40/40 [00:11<00:00,  3.52it/s]\n",
      "100%|██████████| 40/40 [00:11<00:00,  3.52it/s]\n",
      "100%|██████████| 40/40 [00:11<00:00,  3.51it/s]\n",
      "100%|██████████| 40/40 [00:11<00:00,  3.53it/s]\n",
      "100%|██████████| 40/40 [00:11<00:00,  3.52it/s]\n",
      "100%|██████████| 40/40 [00:11<00:00,  3.53it/s]\n",
      "100%|██████████| 40/40 [00:11<00:00,  3.52it/s]\n",
      "100%|██████████| 40/40 [00:11<00:00,  3.52it/s]\n",
      "100%|██████████| 40/40 [00:11<00:00,  3.50it/s]\n",
      "100%|██████████| 40/40 [00:11<00:00,  3.49it/s]\n",
      "100%|██████████| 40/40 [00:11<00:00,  3.52it/s]\n",
      "100%|██████████| 40/40 [00:11<00:00,  3.52it/s]\n",
      "100%|██████████| 40/40 [00:11<00:00,  3.52it/s]\n",
      "100%|██████████| 40/40 [00:11<00:00,  3.53it/s]\n",
      "100%|██████████| 40/40 [00:11<00:00,  3.52it/s]\n",
      "100%|██████████| 40/40 [00:11<00:00,  3.52it/s]\n",
      "100%|██████████| 40/40 [00:11<00:00,  3.51it/s]\n",
      "100%|██████████| 40/40 [00:11<00:00,  3.49it/s]\n",
      "100%|██████████| 40/40 [00:11<00:00,  3.49it/s]\n",
      "100%|██████████| 40/40 [00:11<00:00,  3.50it/s]\n",
      "100%|██████████| 40/40 [00:11<00:00,  3.47it/s]\n",
      "100%|██████████| 40/40 [00:11<00:00,  3.53it/s]\n",
      "100%|██████████| 40/40 [00:11<00:00,  3.52it/s]\n",
      "100%|██████████| 40/40 [00:11<00:00,  3.52it/s]\n",
      "100%|██████████| 40/40 [00:11<00:00,  3.50it/s]\n",
      "100%|██████████| 40/40 [00:11<00:00,  3.50it/s]\n",
      "100%|██████████| 40/40 [00:11<00:00,  3.49it/s]\n",
      "100%|██████████| 40/40 [00:11<00:00,  3.49it/s]\n",
      "100%|██████████| 40/40 [00:11<00:00,  3.50it/s]\n",
      "100%|██████████| 40/40 [00:11<00:00,  3.50it/s]\n",
      "100%|██████████| 40/40 [00:11<00:00,  3.46it/s]\n",
      "100%|██████████| 40/40 [00:11<00:00,  3.51it/s]\n",
      "100%|██████████| 40/40 [00:11<00:00,  3.50it/s]\n",
      "100%|██████████| 40/40 [00:11<00:00,  3.51it/s]\n",
      "100%|██████████| 40/40 [00:11<00:00,  3.52it/s]\n",
      "100%|██████████| 40/40 [00:11<00:00,  3.51it/s]\n",
      "100%|██████████| 40/40 [00:11<00:00,  3.52it/s]\n",
      "100%|██████████| 40/40 [00:11<00:00,  3.52it/s]\n",
      "100%|██████████| 40/40 [00:11<00:00,  3.51it/s]\n",
      "100%|██████████| 40/40 [00:11<00:00,  3.49it/s]\n",
      "100%|██████████| 40/40 [00:11<00:00,  3.49it/s]\n",
      "100%|██████████| 40/40 [00:11<00:00,  3.45it/s]\n",
      "100%|██████████| 40/40 [00:11<00:00,  3.50it/s]\n",
      "100%|██████████| 40/40 [00:11<00:00,  3.50it/s]\n",
      "100%|██████████| 40/40 [00:11<00:00,  3.50it/s]\n",
      "100%|██████████| 40/40 [00:11<00:00,  3.51it/s]\n",
      "100%|██████████| 40/40 [00:11<00:00,  3.52it/s]\n",
      "100%|██████████| 40/40 [00:11<00:00,  3.52it/s]\n",
      "100%|██████████| 40/40 [00:11<00:00,  3.52it/s]\n",
      "100%|██████████| 40/40 [00:11<00:00,  3.53it/s]\n",
      "100%|██████████| 40/40 [00:11<00:00,  3.53it/s]\n",
      "100%|██████████| 40/40 [00:11<00:00,  3.53it/s]\n",
      "100%|██████████| 40/40 [00:11<00:00,  3.50it/s]\n",
      "100%|██████████| 40/40 [00:11<00:00,  3.51it/s]\n",
      "100%|██████████| 40/40 [00:11<00:00,  3.50it/s]\n",
      "100%|██████████| 40/40 [00:11<00:00,  3.51it/s]\n",
      "100%|██████████| 40/40 [00:11<00:00,  3.50it/s]\n",
      "100%|██████████| 40/40 [00:11<00:00,  3.51it/s]\n",
      "100%|██████████| 40/40 [00:11<00:00,  3.51it/s]\n",
      "100%|██████████| 40/40 [00:11<00:00,  3.51it/s]\n",
      "100%|██████████| 40/40 [00:11<00:00,  3.51it/s]\n",
      "100%|██████████| 40/40 [00:11<00:00,  3.51it/s]\n",
      "100%|██████████| 40/40 [00:11<00:00,  3.48it/s]\n",
      "100%|██████████| 40/40 [00:11<00:00,  3.50it/s]\n",
      "100%|██████████| 40/40 [00:11<00:00,  3.50it/s]\n",
      "100%|██████████| 40/40 [00:11<00:00,  3.49it/s]\n",
      "100%|██████████| 40/40 [00:11<00:00,  3.51it/s]\n",
      "100%|██████████| 40/40 [00:11<00:00,  3.51it/s]\n",
      "100%|██████████| 40/40 [00:11<00:00,  3.49it/s]\n",
      "100%|██████████| 40/40 [00:11<00:00,  3.49it/s]\n",
      "100%|██████████| 40/40 [00:11<00:00,  3.50it/s]\n",
      "100%|██████████| 40/40 [00:11<00:00,  3.50it/s]\n",
      "100%|██████████| 40/40 [00:11<00:00,  3.49it/s]\n",
      "100%|██████████| 40/40 [00:11<00:00,  3.46it/s]\n",
      "100%|██████████| 40/40 [00:11<00:00,  3.50it/s]\n",
      "100%|██████████| 40/40 [00:11<00:00,  3.48it/s]\n",
      "100%|██████████| 40/40 [00:11<00:00,  3.49it/s]\n",
      "100%|██████████| 40/40 [00:11<00:00,  3.50it/s]\n",
      "100%|██████████| 40/40 [00:11<00:00,  3.51it/s]\n",
      "100%|██████████| 40/40 [00:11<00:00,  3.50it/s]\n",
      "100%|██████████| 40/40 [00:11<00:00,  3.48it/s]\n",
      "100%|██████████| 40/40 [00:11<00:00,  3.51it/s]\n",
      "100%|██████████| 40/40 [00:11<00:00,  3.50it/s]\n",
      "100%|██████████| 40/40 [00:11<00:00,  3.45it/s]\n",
      "100%|██████████| 40/40 [00:11<00:00,  3.49it/s]\n",
      "100%|██████████| 40/40 [00:11<00:00,  3.49it/s]\n",
      "100%|██████████| 40/40 [00:11<00:00,  3.50it/s]\n",
      "100%|██████████| 40/40 [00:11<00:00,  3.49it/s]\n",
      "100%|██████████| 40/40 [00:11<00:00,  3.52it/s]\n",
      "100%|██████████| 40/40 [00:11<00:00,  3.50it/s]\n",
      "100%|██████████| 40/40 [00:11<00:00,  3.49it/s]\n",
      "100%|██████████| 40/40 [00:11<00:00,  3.50it/s]\n",
      "100%|██████████| 40/40 [00:11<00:00,  3.51it/s]\n",
      "100%|██████████| 40/40 [00:11<00:00,  3.52it/s]\n",
      "100%|██████████| 40/40 [00:11<00:00,  3.49it/s]\n",
      "100%|██████████| 40/40 [00:11<00:00,  3.52it/s]\n",
      "100%|██████████| 40/40 [00:11<00:00,  3.51it/s]\n",
      "100%|██████████| 40/40 [00:11<00:00,  3.52it/s]\n",
      "100%|██████████| 40/40 [00:11<00:00,  3.50it/s]\n",
      "100%|██████████| 40/40 [00:11<00:00,  3.49it/s]\n",
      "100%|██████████| 40/40 [00:11<00:00,  3.51it/s]\n",
      "100%|██████████| 40/40 [00:11<00:00,  3.49it/s]\n",
      "100%|██████████| 40/40 [00:11<00:00,  3.49it/s]\n",
      "100%|██████████| 40/40 [00:11<00:00,  3.50it/s]\n",
      "100%|██████████| 40/40 [00:11<00:00,  3.47it/s]\n",
      "100%|██████████| 40/40 [00:11<00:00,  3.49it/s]\n",
      "100%|██████████| 40/40 [00:11<00:00,  3.49it/s]\n",
      "100%|██████████| 40/40 [00:11<00:00,  3.49it/s]\n",
      "100%|██████████| 40/40 [00:11<00:00,  3.50it/s]\n",
      "100%|██████████| 40/40 [00:11<00:00,  3.52it/s]\n",
      "100%|██████████| 40/40 [00:11<00:00,  3.50it/s]\n",
      "100%|██████████| 40/40 [00:11<00:00,  3.50it/s]\n",
      "100%|██████████| 40/40 [00:11<00:00,  3.52it/s]\n",
      "100%|██████████| 40/40 [00:11<00:00,  3.52it/s]\n",
      "100%|██████████| 40/40 [00:11<00:00,  3.50it/s]\n",
      "100%|██████████| 40/40 [00:11<00:00,  3.48it/s]\n",
      "100%|██████████| 40/40 [00:11<00:00,  3.50it/s]\n",
      "100%|██████████| 40/40 [00:11<00:00,  3.50it/s]\n",
      "100%|██████████| 40/40 [00:11<00:00,  3.51it/s]\n",
      "100%|██████████| 40/40 [00:11<00:00,  3.51it/s]\n",
      "100%|██████████| 40/40 [00:11<00:00,  3.51it/s]\n",
      "100%|██████████| 40/40 [00:11<00:00,  3.50it/s]\n",
      "100%|██████████| 40/40 [00:11<00:00,  3.50it/s]\n",
      "100%|██████████| 40/40 [00:11<00:00,  3.52it/s]\n",
      "100%|██████████| 40/40 [00:11<00:00,  3.53it/s]\n",
      "100%|██████████| 40/40 [00:11<00:00,  3.44it/s]\n",
      "100%|██████████| 40/40 [00:11<00:00,  3.50it/s]\n",
      "100%|██████████| 40/40 [00:11<00:00,  3.49it/s]\n",
      "100%|██████████| 40/40 [00:11<00:00,  3.50it/s]\n",
      "100%|██████████| 40/40 [00:11<00:00,  3.50it/s]\n",
      "100%|██████████| 40/40 [00:11<00:00,  3.49it/s]\n",
      "100%|██████████| 40/40 [00:11<00:00,  3.49it/s]\n",
      "100%|██████████| 40/40 [00:11<00:00,  3.49it/s]\n",
      "100%|██████████| 40/40 [00:11<00:00,  3.49it/s]\n",
      "100%|██████████| 40/40 [00:11<00:00,  3.51it/s]\n",
      "100%|██████████| 40/40 [00:11<00:00,  3.51it/s]\n",
      "100%|██████████| 40/40 [00:11<00:00,  3.49it/s]\n",
      "100%|██████████| 40/40 [00:11<00:00,  3.52it/s]\n",
      "100%|██████████| 40/40 [00:11<00:00,  3.52it/s]\n",
      "100%|██████████| 40/40 [00:11<00:00,  3.52it/s]\n",
      "100%|██████████| 40/40 [00:11<00:00,  3.51it/s]\n",
      "100%|██████████| 40/40 [00:11<00:00,  3.52it/s]\n",
      "100%|██████████| 40/40 [00:11<00:00,  3.51it/s]\n",
      "100%|██████████| 40/40 [00:11<00:00,  3.50it/s]\n",
      "100%|██████████| 40/40 [00:11<00:00,  3.51it/s]\n",
      "100%|██████████| 40/40 [00:11<00:00,  3.50it/s]\n",
      "100%|██████████| 40/40 [00:11<00:00,  3.46it/s]\n",
      "100%|██████████| 40/40 [00:11<00:00,  3.49it/s]\n",
      "100%|██████████| 40/40 [00:11<00:00,  3.50it/s]\n",
      "100%|██████████| 40/40 [00:11<00:00,  3.50it/s]\n",
      "100%|██████████| 40/40 [00:11<00:00,  3.49it/s]\n",
      "100%|██████████| 40/40 [00:11<00:00,  3.50it/s]\n",
      "100%|██████████| 40/40 [00:11<00:00,  3.50it/s]\n",
      "100%|██████████| 40/40 [00:11<00:00,  3.50it/s]\n",
      "100%|██████████| 40/40 [00:11<00:00,  3.50it/s]\n",
      "100%|██████████| 40/40 [00:11<00:00,  3.49it/s]\n",
      "100%|██████████| 40/40 [00:11<00:00,  3.50it/s]\n",
      "100%|██████████| 40/40 [00:11<00:00,  3.48it/s]\n",
      "100%|██████████| 40/40 [00:11<00:00,  3.49it/s]\n",
      "100%|██████████| 40/40 [00:11<00:00,  3.49it/s]\n",
      "100%|██████████| 40/40 [00:11<00:00,  3.49it/s]\n",
      "100%|██████████| 40/40 [00:11<00:00,  3.51it/s]\n",
      "100%|██████████| 40/40 [00:11<00:00,  3.50it/s]\n",
      "100%|██████████| 40/40 [00:11<00:00,  3.51it/s]\n",
      "100%|██████████| 40/40 [00:11<00:00,  3.52it/s]\n",
      "100%|██████████| 40/40 [00:11<00:00,  3.50it/s]\n",
      "100%|██████████| 40/40 [00:11<00:00,  3.51it/s]\n",
      "100%|██████████| 40/40 [00:11<00:00,  3.46it/s]\n",
      "100%|██████████| 40/40 [00:11<00:00,  3.50it/s]\n",
      "100%|██████████| 40/40 [00:11<00:00,  3.50it/s]\n",
      "100%|██████████| 40/40 [00:11<00:00,  3.50it/s]\n",
      "100%|██████████| 40/40 [00:11<00:00,  3.49it/s]\n",
      "100%|██████████| 40/40 [00:11<00:00,  3.50it/s]\n",
      "100%|██████████| 40/40 [00:11<00:00,  3.50it/s]\n",
      "100%|██████████| 40/40 [00:11<00:00,  3.50it/s]\n",
      "100%|██████████| 40/40 [00:11<00:00,  3.49it/s]\n",
      "100%|██████████| 40/40 [00:11<00:00,  3.52it/s]\n",
      "100%|██████████| 40/40 [00:11<00:00,  3.52it/s]\n",
      "100%|██████████| 40/40 [00:11<00:00,  3.47it/s]\n",
      "100%|██████████| 40/40 [00:11<00:00,  3.50it/s]\n",
      "100%|██████████| 40/40 [00:11<00:00,  3.50it/s]\n",
      "100%|██████████| 40/40 [00:11<00:00,  3.50it/s]\n",
      "100%|██████████| 40/40 [00:11<00:00,  3.49it/s]\n",
      "100%|██████████| 40/40 [00:11<00:00,  3.50it/s]\n",
      "100%|██████████| 40/40 [00:11<00:00,  3.50it/s]\n",
      "100%|██████████| 40/40 [00:11<00:00,  3.50it/s]\n",
      "100%|██████████| 40/40 [00:11<00:00,  3.49it/s]\n",
      "100%|██████████| 40/40 [00:11<00:00,  3.49it/s]\n",
      "100%|██████████| 40/40 [00:11<00:00,  3.47it/s]\n",
      "100%|██████████| 40/40 [00:11<00:00,  3.50it/s]\n",
      "100%|██████████| 40/40 [00:11<00:00,  3.50it/s]\n",
      "100%|██████████| 40/40 [00:11<00:00,  3.49it/s]\n",
      "100%|██████████| 40/40 [00:11<00:00,  3.49it/s]\n",
      "100%|██████████| 40/40 [00:11<00:00,  3.50it/s]\n",
      "100%|██████████| 40/40 [00:11<00:00,  3.51it/s]\n",
      "100%|██████████| 40/40 [00:11<00:00,  3.50it/s]\n",
      "100%|██████████| 40/40 [00:11<00:00,  3.50it/s]\n",
      "100%|██████████| 40/40 [00:11<00:00,  3.49it/s]\n",
      "100%|██████████| 40/40 [00:11<00:00,  3.50it/s]\n",
      "100%|██████████| 40/40 [00:11<00:00,  3.45it/s]\n",
      "100%|██████████| 40/40 [00:11<00:00,  3.50it/s]\n",
      "100%|██████████| 40/40 [00:11<00:00,  3.51it/s]\n",
      "100%|██████████| 40/40 [00:11<00:00,  3.49it/s]\n",
      "100%|██████████| 40/40 [00:11<00:00,  3.49it/s]\n",
      "100%|██████████| 40/40 [00:11<00:00,  3.51it/s]\n",
      "100%|██████████| 40/40 [00:11<00:00,  3.49it/s]\n",
      "100%|██████████| 40/40 [00:11<00:00,  3.50it/s]\n",
      "100%|██████████| 40/40 [00:11<00:00,  3.49it/s]\n",
      "100%|██████████| 40/40 [00:11<00:00,  3.49it/s]\n",
      "100%|██████████| 40/40 [00:11<00:00,  3.51it/s]\n",
      "100%|██████████| 40/40 [00:11<00:00,  3.45it/s]\n",
      "100%|██████████| 40/40 [00:11<00:00,  3.48it/s]\n",
      "100%|██████████| 40/40 [00:11<00:00,  3.49it/s]\n",
      "100%|██████████| 40/40 [00:11<00:00,  3.49it/s]\n",
      "100%|██████████| 40/40 [00:11<00:00,  3.51it/s]\n",
      "100%|██████████| 40/40 [00:11<00:00,  3.50it/s]\n",
      "100%|██████████| 40/40 [00:11<00:00,  3.50it/s]\n",
      "100%|██████████| 40/40 [00:11<00:00,  3.49it/s]\n",
      "100%|██████████| 40/40 [00:11<00:00,  3.50it/s]\n",
      "100%|██████████| 40/40 [00:11<00:00,  3.50it/s]\n",
      "100%|██████████| 40/40 [00:11<00:00,  3.47it/s]\n",
      "100%|██████████| 40/40 [00:11<00:00,  3.49it/s]\n",
      "100%|██████████| 40/40 [00:11<00:00,  3.49it/s]\n",
      "100%|██████████| 40/40 [00:11<00:00,  3.52it/s]\n",
      "100%|██████████| 40/40 [00:11<00:00,  3.51it/s]\n",
      "100%|██████████| 40/40 [00:11<00:00,  3.52it/s]\n",
      "100%|██████████| 40/40 [00:11<00:00,  3.51it/s]\n",
      "100%|██████████| 40/40 [00:11<00:00,  3.51it/s]\n",
      "100%|██████████| 40/40 [00:11<00:00,  3.49it/s]\n",
      "100%|██████████| 40/40 [00:11<00:00,  3.49it/s]\n",
      "100%|██████████| 40/40 [00:11<00:00,  3.48it/s]\n",
      "100%|██████████| 40/40 [00:11<00:00,  3.46it/s]\n",
      "100%|██████████| 40/40 [00:11<00:00,  3.50it/s]\n",
      "100%|██████████| 40/40 [00:11<00:00,  3.50it/s]\n",
      "100%|██████████| 40/40 [00:11<00:00,  3.50it/s]\n",
      "100%|██████████| 40/40 [00:11<00:00,  3.50it/s]\n",
      "100%|██████████| 40/40 [00:11<00:00,  3.52it/s]\n",
      "100%|██████████| 40/40 [00:11<00:00,  3.52it/s]\n",
      "100%|██████████| 40/40 [00:11<00:00,  3.51it/s]\n",
      "100%|██████████| 40/40 [00:11<00:00,  3.51it/s]\n",
      "100%|██████████| 40/40 [00:11<00:00,  3.53it/s]\n",
      "100%|██████████| 40/40 [00:11<00:00,  3.50it/s]\n",
      "100%|██████████| 40/40 [00:11<00:00,  3.52it/s]\n",
      "100%|██████████| 40/40 [00:11<00:00,  3.51it/s]\n",
      "100%|██████████| 40/40 [00:11<00:00,  3.49it/s]\n",
      "100%|██████████| 40/40 [00:11<00:00,  3.49it/s]\n",
      "100%|██████████| 40/40 [00:11<00:00,  3.49it/s]\n",
      "100%|██████████| 40/40 [00:11<00:00,  3.48it/s]\n",
      "100%|██████████| 40/40 [00:11<00:00,  3.49it/s]\n",
      "100%|██████████| 40/40 [00:11<00:00,  3.52it/s]\n",
      "100%|██████████| 40/40 [00:11<00:00,  3.52it/s]\n",
      "100%|██████████| 40/40 [00:11<00:00,  3.51it/s]\n",
      "100%|██████████| 40/40 [00:11<00:00,  3.49it/s]\n",
      "100%|██████████| 40/40 [00:11<00:00,  3.51it/s]\n",
      "100%|██████████| 40/40 [00:11<00:00,  3.49it/s]\n",
      "100%|██████████| 40/40 [00:11<00:00,  3.51it/s]\n",
      "100%|██████████| 40/40 [00:11<00:00,  3.53it/s]\n",
      "100%|██████████| 40/40 [00:11<00:00,  3.53it/s]\n",
      "100%|██████████| 40/40 [00:11<00:00,  3.52it/s]\n",
      "100%|██████████| 40/40 [00:11<00:00,  3.51it/s]\n",
      "100%|██████████| 40/40 [00:11<00:00,  3.50it/s]\n",
      "100%|██████████| 40/40 [00:11<00:00,  3.50it/s]\n",
      "100%|██████████| 40/40 [00:11<00:00,  3.48it/s]\n",
      "100%|██████████| 40/40 [00:11<00:00,  3.51it/s]\n",
      "100%|██████████| 40/40 [00:11<00:00,  3.49it/s]\n",
      "100%|██████████| 40/40 [00:11<00:00,  3.50it/s]\n",
      "100%|██████████| 40/40 [00:11<00:00,  3.49it/s]\n",
      "100%|██████████| 40/40 [00:11<00:00,  3.50it/s]\n",
      "100%|██████████| 40/40 [00:11<00:00,  3.50it/s]\n",
      "100%|██████████| 40/40 [00:11<00:00,  3.49it/s]\n",
      "100%|██████████| 40/40 [00:11<00:00,  3.51it/s]\n",
      "100%|██████████| 40/40 [00:11<00:00,  3.50it/s]\n",
      "100%|██████████| 40/40 [00:11<00:00,  3.49it/s]\n",
      "100%|██████████| 40/40 [00:11<00:00,  3.45it/s]\n",
      "100%|██████████| 40/40 [00:11<00:00,  3.49it/s]\n",
      "100%|██████████| 40/40 [00:11<00:00,  3.50it/s]\n",
      "100%|██████████| 40/40 [00:11<00:00,  3.49it/s]\n",
      "100%|██████████| 40/40 [00:11<00:00,  3.50it/s]\n",
      "100%|██████████| 40/40 [00:11<00:00,  3.51it/s]\n",
      "100%|██████████| 40/40 [00:11<00:00,  3.50it/s]\n",
      "100%|██████████| 40/40 [00:11<00:00,  3.49it/s]\n",
      "100%|██████████| 40/40 [00:11<00:00,  3.49it/s]\n",
      "100%|██████████| 40/40 [00:11<00:00,  3.48it/s]\n",
      "100%|██████████| 40/40 [00:11<00:00,  3.47it/s]\n",
      "100%|██████████| 40/40 [00:11<00:00,  3.49it/s]\n",
      "100%|██████████| 40/40 [00:11<00:00,  3.49it/s]\n",
      "100%|██████████| 40/40 [00:11<00:00,  3.49it/s]\n",
      "100%|██████████| 40/40 [00:11<00:00,  3.49it/s]\n",
      "100%|██████████| 40/40 [00:11<00:00,  3.50it/s]\n",
      "100%|██████████| 40/40 [00:11<00:00,  3.51it/s]\n",
      "100%|██████████| 40/40 [00:11<00:00,  3.50it/s]\n",
      "100%|██████████| 40/40 [00:11<00:00,  3.49it/s]\n",
      "100%|██████████| 40/40 [00:11<00:00,  3.50it/s]\n",
      "100%|██████████| 40/40 [00:11<00:00,  3.52it/s]\n",
      "100%|██████████| 40/40 [00:11<00:00,  3.49it/s]\n",
      "100%|██████████| 40/40 [00:11<00:00,  3.51it/s]\n",
      "100%|██████████| 40/40 [00:11<00:00,  3.50it/s]\n",
      "100%|██████████| 40/40 [00:11<00:00,  3.50it/s]\n",
      "100%|██████████| 40/40 [00:11<00:00,  3.50it/s]\n",
      "100%|██████████| 40/40 [00:11<00:00,  3.50it/s]\n",
      "100%|██████████| 40/40 [00:11<00:00,  3.50it/s]\n",
      "100%|██████████| 40/40 [00:11<00:00,  3.49it/s]\n",
      "100%|██████████| 40/40 [00:11<00:00,  3.49it/s]\n",
      "100%|██████████| 40/40 [00:11<00:00,  3.48it/s]\n",
      "100%|██████████| 40/40 [00:11<00:00,  3.46it/s]\n",
      "100%|██████████| 40/40 [00:11<00:00,  3.51it/s]\n",
      "100%|██████████| 40/40 [00:11<00:00,  3.52it/s]\n",
      "100%|██████████| 40/40 [00:11<00:00,  3.52it/s]\n",
      "100%|██████████| 40/40 [00:11<00:00,  3.51it/s]\n",
      "100%|██████████| 40/40 [00:11<00:00,  3.48it/s]\n",
      "100%|██████████| 40/40 [00:11<00:00,  3.49it/s]\n",
      "100%|██████████| 40/40 [00:11<00:00,  3.50it/s]\n",
      "100%|██████████| 40/40 [00:11<00:00,  3.49it/s]\n",
      "100%|██████████| 40/40 [00:11<00:00,  3.49it/s]\n",
      "100%|██████████| 40/40 [00:11<00:00,  3.48it/s]\n",
      "100%|██████████| 40/40 [00:11<00:00,  3.44it/s]\n",
      "100%|██████████| 40/40 [00:11<00:00,  3.50it/s]\n",
      "100%|██████████| 40/40 [00:11<00:00,  3.49it/s]\n",
      "100%|██████████| 40/40 [00:11<00:00,  3.50it/s]\n",
      "100%|██████████| 40/40 [00:11<00:00,  3.49it/s]\n",
      "100%|██████████| 40/40 [00:11<00:00,  3.49it/s]\n",
      "100%|██████████| 40/40 [00:11<00:00,  3.49it/s]\n",
      "100%|██████████| 40/40 [00:11<00:00,  3.49it/s]\n",
      "100%|██████████| 40/40 [00:11<00:00,  3.51it/s]\n",
      "100%|██████████| 40/40 [00:11<00:00,  3.50it/s]\n",
      "100%|██████████| 40/40 [00:11<00:00,  3.47it/s]\n",
      "100%|██████████| 40/40 [00:11<00:00,  3.51it/s]\n",
      "100%|██████████| 40/40 [00:11<00:00,  3.51it/s]\n",
      "100%|██████████| 40/40 [00:11<00:00,  3.48it/s]\n",
      "100%|██████████| 40/40 [00:11<00:00,  3.50it/s]\n",
      "100%|██████████| 40/40 [00:11<00:00,  3.50it/s]\n",
      "100%|██████████| 40/40 [00:11<00:00,  3.49it/s]\n",
      "100%|██████████| 40/40 [00:11<00:00,  3.51it/s]\n",
      "100%|██████████| 40/40 [00:11<00:00,  3.50it/s]\n",
      "100%|██████████| 40/40 [00:11<00:00,  3.50it/s]\n",
      "100%|██████████| 40/40 [00:11<00:00,  3.51it/s]\n",
      "100%|██████████| 40/40 [00:11<00:00,  3.46it/s]\n",
      "100%|██████████| 40/40 [00:11<00:00,  3.49it/s]\n",
      "100%|██████████| 40/40 [00:11<00:00,  3.51it/s]\n",
      "100%|██████████| 40/40 [00:11<00:00,  3.50it/s]\n",
      "100%|██████████| 40/40 [00:11<00:00,  3.50it/s]\n",
      "100%|██████████| 40/40 [00:11<00:00,  3.51it/s]\n",
      "100%|██████████| 40/40 [00:11<00:00,  3.49it/s]\n",
      "100%|██████████| 40/40 [00:11<00:00,  3.49it/s]\n",
      "100%|██████████| 40/40 [00:11<00:00,  3.49it/s]\n",
      "100%|██████████| 40/40 [00:11<00:00,  3.50it/s]\n",
      "100%|██████████| 40/40 [00:11<00:00,  3.47it/s]\n",
      "100%|██████████| 40/40 [00:11<00:00,  3.51it/s]\n",
      "100%|██████████| 40/40 [00:11<00:00,  3.49it/s]\n",
      "100%|██████████| 40/40 [00:11<00:00,  3.49it/s]\n",
      "100%|██████████| 40/40 [00:11<00:00,  3.49it/s]\n",
      "100%|██████████| 40/40 [00:11<00:00,  3.52it/s]\n",
      "100%|██████████| 40/40 [00:11<00:00,  3.51it/s]\n",
      "100%|██████████| 40/40 [00:11<00:00,  3.51it/s]\n",
      "100%|██████████| 40/40 [00:11<00:00,  3.50it/s]\n",
      "100%|██████████| 40/40 [00:11<00:00,  3.51it/s]\n",
      "100%|██████████| 40/40 [00:11<00:00,  3.50it/s]\n",
      "100%|██████████| 40/40 [00:11<00:00,  3.50it/s]\n",
      "100%|██████████| 40/40 [00:11<00:00,  3.51it/s]\n",
      "100%|██████████| 40/40 [00:11<00:00,  3.52it/s]\n",
      "100%|██████████| 40/40 [00:11<00:00,  3.50it/s]\n",
      "100%|██████████| 40/40 [00:11<00:00,  3.49it/s]\n",
      "100%|██████████| 40/40 [00:11<00:00,  3.52it/s]\n",
      "100%|██████████| 40/40 [00:11<00:00,  3.48it/s]\n",
      "100%|██████████| 40/40 [00:11<00:00,  3.51it/s]\n",
      "100%|██████████| 40/40 [00:11<00:00,  3.50it/s]\n",
      "100%|██████████| 40/40 [00:11<00:00,  3.50it/s]\n",
      "100%|██████████| 40/40 [00:11<00:00,  3.46it/s]\n",
      "100%|██████████| 40/40 [00:11<00:00,  3.50it/s]\n",
      "100%|██████████| 40/40 [00:11<00:00,  3.50it/s]\n",
      "100%|██████████| 40/40 [00:11<00:00,  3.50it/s]\n",
      "100%|██████████| 40/40 [00:11<00:00,  3.50it/s]\n",
      "100%|██████████| 40/40 [00:11<00:00,  3.47it/s]\n",
      "100%|██████████| 40/40 [00:11<00:00,  3.49it/s]\n",
      "100%|██████████| 40/40 [00:11<00:00,  3.50it/s]\n",
      "100%|██████████| 40/40 [00:11<00:00,  3.50it/s]\n",
      "100%|██████████| 40/40 [00:11<00:00,  3.50it/s]\n",
      "100%|██████████| 40/40 [00:11<00:00,  3.51it/s]\n",
      "100%|██████████| 40/40 [00:11<00:00,  3.49it/s]\n",
      "100%|██████████| 40/40 [00:11<00:00,  3.51it/s]\n",
      "100%|██████████| 40/40 [00:11<00:00,  3.52it/s]\n",
      "100%|██████████| 40/40 [00:11<00:00,  3.51it/s]\n",
      "100%|██████████| 40/40 [00:11<00:00,  3.52it/s]\n",
      "100%|██████████| 40/40 [00:11<00:00,  3.51it/s]\n",
      "100%|██████████| 40/40 [00:11<00:00,  3.50it/s]\n",
      "100%|██████████| 40/40 [00:11<00:00,  3.50it/s]\n",
      "100%|██████████| 40/40 [00:11<00:00,  3.49it/s]\n",
      "100%|██████████| 40/40 [00:11<00:00,  3.49it/s]\n",
      "100%|██████████| 40/40 [00:11<00:00,  3.46it/s]\n",
      "100%|██████████| 40/40 [00:11<00:00,  3.49it/s]\n",
      "100%|██████████| 40/40 [00:11<00:00,  3.52it/s]\n",
      "100%|██████████| 40/40 [00:11<00:00,  3.53it/s]\n",
      "100%|██████████| 40/40 [00:11<00:00,  3.50it/s]\n",
      "100%|██████████| 40/40 [00:11<00:00,  3.50it/s]\n",
      "100%|██████████| 40/40 [00:11<00:00,  3.50it/s]\n",
      "100%|██████████| 40/40 [00:11<00:00,  3.49it/s]\n",
      "100%|██████████| 40/40 [00:11<00:00,  3.50it/s]\n",
      "100%|██████████| 40/40 [00:11<00:00,  3.52it/s]\n",
      "100%|██████████| 40/40 [00:11<00:00,  3.52it/s]\n",
      "100%|██████████| 40/40 [00:11<00:00,  3.49it/s]\n",
      "100%|██████████| 40/40 [00:11<00:00,  3.52it/s]\n",
      "100%|██████████| 40/40 [00:11<00:00,  3.50it/s]\n",
      "100%|██████████| 40/40 [00:11<00:00,  3.50it/s]\n",
      "100%|██████████| 40/40 [00:11<00:00,  3.51it/s]\n",
      "100%|██████████| 40/40 [00:11<00:00,  3.52it/s]\n",
      "100%|██████████| 40/40 [00:11<00:00,  3.52it/s]\n",
      "100%|██████████| 40/40 [00:11<00:00,  3.51it/s]\n",
      "100%|██████████| 40/40 [00:11<00:00,  3.49it/s]\n",
      "100%|██████████| 40/40 [00:11<00:00,  3.49it/s]\n",
      "100%|██████████| 40/40 [00:11<00:00,  3.50it/s]\n",
      "100%|██████████| 40/40 [00:11<00:00,  3.45it/s]\n",
      "100%|██████████| 40/40 [00:11<00:00,  3.49it/s]\n",
      "100%|██████████| 40/40 [00:11<00:00,  3.51it/s]\n",
      "100%|██████████| 40/40 [00:11<00:00,  3.49it/s]\n",
      "100%|██████████| 40/40 [00:11<00:00,  3.50it/s]\n",
      "100%|██████████| 40/40 [00:11<00:00,  3.50it/s]\n",
      "100%|██████████| 40/40 [00:11<00:00,  3.51it/s]\n",
      "100%|██████████| 40/40 [00:11<00:00,  3.52it/s]\n",
      "100%|██████████| 40/40 [00:11<00:00,  3.49it/s]\n",
      "100%|██████████| 40/40 [00:11<00:00,  3.51it/s]\n",
      "100%|██████████| 40/40 [00:11<00:00,  3.46it/s]\n",
      "100%|██████████| 40/40 [00:11<00:00,  3.50it/s]\n",
      "100%|██████████| 40/40 [00:11<00:00,  3.50it/s]\n",
      "100%|██████████| 40/40 [00:11<00:00,  3.51it/s]\n",
      "100%|██████████| 40/40 [00:11<00:00,  3.53it/s]\n",
      "100%|██████████| 40/40 [00:11<00:00,  3.53it/s]\n",
      "100%|██████████| 40/40 [00:11<00:00,  3.49it/s]\n",
      "100%|██████████| 40/40 [00:11<00:00,  3.49it/s]\n",
      "100%|██████████| 40/40 [00:11<00:00,  3.49it/s]\n",
      "100%|██████████| 40/40 [00:11<00:00,  3.52it/s]\n",
      "100%|██████████| 40/40 [00:11<00:00,  3.50it/s]\n",
      "100%|██████████| 40/40 [00:11<00:00,  3.47it/s]\n",
      "100%|██████████| 40/40 [00:11<00:00,  3.49it/s]\n",
      "100%|██████████| 40/40 [00:11<00:00,  3.50it/s]\n",
      "100%|██████████| 40/40 [00:11<00:00,  3.49it/s]\n",
      "100%|██████████| 40/40 [00:11<00:00,  3.51it/s]\n",
      "100%|██████████| 40/40 [00:11<00:00,  3.49it/s]\n",
      "100%|██████████| 40/40 [00:11<00:00,  3.49it/s]\n",
      "100%|██████████| 40/40 [00:11<00:00,  3.50it/s]\n",
      "100%|██████████| 40/40 [00:11<00:00,  3.49it/s]\n",
      "100%|██████████| 40/40 [00:11<00:00,  3.51it/s]\n",
      "100%|██████████| 40/40 [00:11<00:00,  3.45it/s]\n",
      "100%|██████████| 40/40 [00:11<00:00,  3.50it/s]\n",
      "100%|██████████| 40/40 [00:11<00:00,  3.49it/s]\n",
      "100%|██████████| 40/40 [00:11<00:00,  3.49it/s]\n",
      "100%|██████████| 40/40 [00:11<00:00,  3.49it/s]\n",
      "100%|██████████| 40/40 [00:11<00:00,  3.50it/s]\n",
      "100%|██████████| 40/40 [00:11<00:00,  3.50it/s]\n",
      "100%|██████████| 40/40 [00:11<00:00,  3.51it/s]\n",
      "100%|██████████| 40/40 [00:11<00:00,  3.50it/s]\n",
      "100%|██████████| 40/40 [00:11<00:00,  3.52it/s]\n",
      "100%|██████████| 40/40 [00:11<00:00,  3.50it/s]\n",
      "100%|██████████| 40/40 [00:11<00:00,  3.50it/s]\n",
      "100%|██████████| 40/40 [00:11<00:00,  3.52it/s]\n",
      "100%|██████████| 40/40 [00:11<00:00,  3.51it/s]\n",
      "100%|██████████| 40/40 [00:11<00:00,  3.48it/s]\n",
      "100%|██████████| 40/40 [00:11<00:00,  3.52it/s]\n",
      "100%|██████████| 40/40 [00:11<00:00,  3.51it/s]\n",
      "100%|██████████| 40/40 [00:11<00:00,  3.50it/s]\n",
      "100%|██████████| 40/40 [00:11<00:00,  3.50it/s]\n",
      "100%|██████████| 40/40 [00:11<00:00,  3.49it/s]\n",
      "100%|██████████| 40/40 [00:11<00:00,  3.48it/s]\n",
      "100%|██████████| 40/40 [00:11<00:00,  3.47it/s]\n",
      "100%|██████████| 40/40 [00:11<00:00,  3.50it/s]\n",
      "100%|██████████| 40/40 [00:11<00:00,  3.48it/s]\n",
      "100%|██████████| 40/40 [00:11<00:00,  3.50it/s]\n",
      "100%|██████████| 40/40 [00:11<00:00,  3.49it/s]\n",
      "100%|██████████| 40/40 [00:11<00:00,  3.50it/s]\n",
      "100%|██████████| 40/40 [00:11<00:00,  3.49it/s]\n",
      "100%|██████████| 40/40 [00:11<00:00,  3.48it/s]\n",
      "100%|██████████| 40/40 [00:11<00:00,  3.49it/s]\n",
      "100%|██████████| 40/40 [00:11<00:00,  3.49it/s]\n",
      "100%|██████████| 40/40 [00:11<00:00,  3.50it/s]\n",
      "100%|██████████| 40/40 [00:11<00:00,  3.45it/s]\n",
      "100%|██████████| 40/40 [00:11<00:00,  3.49it/s]\n",
      "100%|██████████| 40/40 [00:11<00:00,  3.49it/s]\n",
      "100%|██████████| 40/40 [00:11<00:00,  3.50it/s]\n",
      "100%|██████████| 40/40 [00:11<00:00,  3.52it/s]\n",
      "100%|██████████| 40/40 [00:11<00:00,  3.50it/s]\n",
      "100%|██████████| 40/40 [00:11<00:00,  3.50it/s]\n",
      "100%|██████████| 40/40 [00:11<00:00,  3.50it/s]\n",
      "100%|██████████| 40/40 [00:11<00:00,  3.48it/s]\n",
      "100%|██████████| 40/40 [00:11<00:00,  3.49it/s]\n",
      "100%|██████████| 40/40 [00:11<00:00,  3.47it/s]\n",
      "100%|██████████| 40/40 [00:11<00:00,  3.50it/s]\n",
      "100%|██████████| 40/40 [00:11<00:00,  3.49it/s]\n",
      "100%|██████████| 40/40 [00:11<00:00,  3.50it/s]\n",
      "100%|██████████| 40/40 [00:11<00:00,  3.50it/s]\n",
      "100%|██████████| 40/40 [00:11<00:00,  3.51it/s]\n",
      "100%|██████████| 40/40 [00:11<00:00,  3.49it/s]\n",
      "100%|██████████| 40/40 [00:11<00:00,  3.49it/s]\n",
      "100%|██████████| 40/40 [00:11<00:00,  3.49it/s]\n",
      "100%|██████████| 40/40 [00:11<00:00,  3.49it/s]\n",
      "100%|██████████| 40/40 [00:11<00:00,  3.49it/s]\n",
      "100%|██████████| 40/40 [00:11<00:00,  3.48it/s]\n",
      "100%|██████████| 40/40 [00:11<00:00,  3.49it/s]\n",
      "100%|██████████| 40/40 [00:11<00:00,  3.50it/s]\n",
      "100%|██████████| 40/40 [00:11<00:00,  3.51it/s]\n",
      "100%|██████████| 40/40 [00:11<00:00,  3.52it/s]\n",
      "100%|██████████| 40/40 [00:11<00:00,  3.52it/s]\n",
      "100%|██████████| 40/40 [00:11<00:00,  3.51it/s]\n",
      "100%|██████████| 40/40 [00:11<00:00,  3.50it/s]\n",
      "100%|██████████| 40/40 [00:11<00:00,  3.49it/s]\n",
      "100%|██████████| 40/40 [00:11<00:00,  3.50it/s]\n",
      "100%|██████████| 40/40 [00:11<00:00,  3.47it/s]\n",
      "100%|██████████| 40/40 [00:11<00:00,  3.50it/s]\n",
      "100%|██████████| 40/40 [00:11<00:00,  3.51it/s]\n",
      "100%|██████████| 40/40 [00:11<00:00,  3.50it/s]\n",
      "100%|██████████| 40/40 [00:11<00:00,  3.47it/s]\n",
      "100%|██████████| 40/40 [00:11<00:00,  3.48it/s]\n",
      "100%|██████████| 40/40 [00:11<00:00,  3.49it/s]\n",
      "100%|██████████| 40/40 [00:11<00:00,  3.50it/s]\n",
      "100%|██████████| 40/40 [00:11<00:00,  3.50it/s]\n",
      "100%|██████████| 40/40 [00:11<00:00,  3.50it/s]\n",
      "100%|██████████| 40/40 [00:11<00:00,  3.49it/s]\n",
      "100%|██████████| 40/40 [00:11<00:00,  3.46it/s]\n",
      "100%|██████████| 40/40 [00:11<00:00,  3.50it/s]\n",
      "100%|██████████| 40/40 [00:11<00:00,  3.50it/s]\n",
      "100%|██████████| 40/40 [00:11<00:00,  3.50it/s]\n",
      "100%|██████████| 40/40 [00:11<00:00,  3.49it/s]\n",
      "100%|██████████| 40/40 [00:11<00:00,  3.50it/s]\n",
      "100%|██████████| 40/40 [00:11<00:00,  3.51it/s]\n",
      "100%|██████████| 40/40 [00:11<00:00,  3.51it/s]\n",
      "100%|██████████| 40/40 [00:11<00:00,  3.51it/s]\n",
      "100%|██████████| 40/40 [00:11<00:00,  3.49it/s]\n",
      "100%|██████████| 40/40 [00:11<00:00,  3.46it/s]\n",
      "100%|██████████| 40/40 [00:11<00:00,  3.49it/s]\n",
      "100%|██████████| 40/40 [00:11<00:00,  3.49it/s]\n",
      "100%|██████████| 40/40 [00:11<00:00,  3.50it/s]\n",
      "100%|██████████| 40/40 [00:11<00:00,  3.53it/s]\n",
      "100%|██████████| 40/40 [00:11<00:00,  3.52it/s]\n",
      "100%|██████████| 40/40 [00:11<00:00,  3.50it/s]\n",
      "100%|██████████| 40/40 [00:11<00:00,  3.52it/s]\n",
      "100%|██████████| 40/40 [00:11<00:00,  3.49it/s]\n",
      "100%|██████████| 40/40 [00:11<00:00,  3.51it/s]\n",
      "100%|██████████| 40/40 [00:11<00:00,  3.48it/s]\n",
      "100%|██████████| 40/40 [00:11<00:00,  3.45it/s]\n",
      "100%|██████████| 40/40 [00:11<00:00,  3.49it/s]\n",
      "100%|██████████| 40/40 [00:11<00:00,  3.48it/s]\n",
      "100%|██████████| 40/40 [00:11<00:00,  3.48it/s]\n",
      "100%|██████████| 40/40 [00:11<00:00,  3.50it/s]\n",
      "100%|██████████| 40/40 [00:11<00:00,  3.50it/s]\n",
      "100%|██████████| 40/40 [00:11<00:00,  3.50it/s]\n",
      "100%|██████████| 40/40 [00:11<00:00,  3.50it/s]\n",
      "100%|██████████| 40/40 [00:11<00:00,  3.49it/s]\n",
      "100%|██████████| 40/40 [00:11<00:00,  3.49it/s]\n",
      "100%|██████████| 40/40 [00:11<00:00,  3.47it/s]\n",
      "100%|██████████| 40/40 [00:11<00:00,  3.50it/s]\n",
      "100%|██████████| 40/40 [00:11<00:00,  3.51it/s]\n",
      "100%|██████████| 40/40 [00:11<00:00,  3.51it/s]\n",
      "100%|██████████| 40/40 [00:11<00:00,  3.49it/s]\n",
      "100%|██████████| 40/40 [00:11<00:00,  3.49it/s]\n",
      "100%|██████████| 40/40 [00:11<00:00,  3.48it/s]\n",
      "100%|██████████| 40/40 [00:11<00:00,  3.49it/s]\n",
      "100%|██████████| 40/40 [00:11<00:00,  3.50it/s]\n",
      "100%|██████████| 40/40 [00:11<00:00,  3.50it/s]\n",
      "100%|██████████| 40/40 [00:11<00:00,  3.49it/s]\n",
      "100%|██████████| 40/40 [00:11<00:00,  3.49it/s]\n",
      "100%|██████████| 40/40 [00:11<00:00,  3.51it/s]\n",
      "100%|██████████| 40/40 [00:11<00:00,  3.52it/s]\n",
      "100%|██████████| 40/40 [00:11<00:00,  3.51it/s]\n",
      "100%|██████████| 40/40 [00:11<00:00,  3.49it/s]\n",
      "100%|██████████| 40/40 [00:11<00:00,  3.51it/s]\n",
      "100%|██████████| 40/40 [00:11<00:00,  3.52it/s]\n",
      "100%|██████████| 40/40 [00:11<00:00,  3.52it/s]\n",
      "100%|██████████| 40/40 [00:11<00:00,  3.50it/s]\n",
      "100%|██████████| 40/40 [00:11<00:00,  3.52it/s]\n",
      "100%|██████████| 40/40 [00:11<00:00,  3.51it/s]\n",
      "100%|██████████| 40/40 [00:11<00:00,  3.48it/s]\n",
      "100%|██████████| 40/40 [00:11<00:00,  3.51it/s]\n",
      "100%|██████████| 40/40 [00:11<00:00,  3.52it/s]\n",
      "100%|██████████| 40/40 [00:11<00:00,  3.51it/s]\n",
      "100%|██████████| 40/40 [00:11<00:00,  3.51it/s]\n",
      "100%|██████████| 40/40 [00:11<00:00,  3.51it/s]\n",
      "100%|██████████| 40/40 [00:11<00:00,  3.51it/s]\n",
      "100%|██████████| 40/40 [00:11<00:00,  3.51it/s]\n",
      "100%|██████████| 40/40 [00:11<00:00,  3.52it/s]\n",
      "100%|██████████| 40/40 [00:11<00:00,  3.48it/s]\n",
      "100%|██████████| 40/40 [00:11<00:00,  3.46it/s]\n",
      "100%|██████████| 40/40 [00:11<00:00,  3.49it/s]\n",
      "100%|██████████| 40/40 [00:11<00:00,  3.50it/s]\n",
      "100%|██████████| 40/40 [00:11<00:00,  3.50it/s]\n",
      "100%|██████████| 40/40 [00:11<00:00,  3.50it/s]\n",
      "100%|██████████| 40/40 [00:11<00:00,  3.51it/s]\n",
      "100%|██████████| 40/40 [00:11<00:00,  3.51it/s]\n",
      "100%|██████████| 40/40 [00:11<00:00,  3.53it/s]\n",
      "100%|██████████| 40/40 [00:11<00:00,  3.51it/s]\n",
      "100%|██████████| 40/40 [00:11<00:00,  3.51it/s]\n",
      "100%|██████████| 40/40 [00:11<00:00,  3.50it/s]\n",
      "100%|██████████| 40/40 [00:11<00:00,  3.46it/s]\n",
      "100%|██████████| 40/40 [00:11<00:00,  3.50it/s]\n",
      "100%|██████████| 40/40 [00:11<00:00,  3.49it/s]\n",
      "100%|██████████| 40/40 [00:11<00:00,  3.50it/s]\n",
      "100%|██████████| 40/40 [00:11<00:00,  3.51it/s]\n",
      "100%|██████████| 40/40 [00:11<00:00,  3.49it/s]\n",
      "100%|██████████| 40/40 [00:11<00:00,  3.51it/s]\n",
      "100%|██████████| 40/40 [00:11<00:00,  3.49it/s]\n",
      "100%|██████████| 40/40 [00:11<00:00,  3.49it/s]\n",
      "100%|██████████| 40/40 [00:11<00:00,  3.50it/s]\n",
      "100%|██████████| 40/40 [00:11<00:00,  3.46it/s]\n",
      "100%|██████████| 40/40 [00:11<00:00,  3.49it/s]\n",
      "100%|██████████| 40/40 [00:11<00:00,  3.50it/s]\n",
      "100%|██████████| 40/40 [00:11<00:00,  3.50it/s]\n",
      "100%|██████████| 40/40 [00:11<00:00,  3.49it/s]\n",
      "100%|██████████| 40/40 [00:11<00:00,  3.49it/s]\n",
      "100%|██████████| 40/40 [00:11<00:00,  3.49it/s]\n",
      "100%|██████████| 40/40 [00:11<00:00,  3.50it/s]\n",
      "100%|██████████| 40/40 [00:11<00:00,  3.48it/s]\n",
      "100%|██████████| 40/40 [00:11<00:00,  3.50it/s]\n",
      "100%|██████████| 40/40 [00:11<00:00,  3.51it/s]\n",
      "100%|██████████| 40/40 [00:11<00:00,  3.46it/s]\n",
      "100%|██████████| 40/40 [00:11<00:00,  3.48it/s]\n",
      "100%|██████████| 40/40 [00:11<00:00,  3.50it/s]\n",
      "100%|██████████| 40/40 [00:11<00:00,  3.49it/s]\n",
      "100%|██████████| 40/40 [00:11<00:00,  3.49it/s]\n",
      "100%|██████████| 40/40 [00:11<00:00,  3.51it/s]\n",
      "100%|██████████| 40/40 [00:11<00:00,  3.51it/s]\n",
      "100%|██████████| 40/40 [00:11<00:00,  3.48it/s]\n",
      "100%|██████████| 40/40 [00:11<00:00,  3.51it/s]\n",
      "100%|██████████| 40/40 [00:11<00:00,  3.50it/s]\n",
      "100%|██████████| 40/40 [00:11<00:00,  3.46it/s]\n",
      "100%|██████████| 40/40 [00:11<00:00,  3.49it/s]\n",
      "100%|██████████| 40/40 [00:11<00:00,  3.50it/s]\n",
      "100%|██████████| 40/40 [00:11<00:00,  3.50it/s]\n",
      "100%|██████████| 40/40 [00:11<00:00,  3.50it/s]\n",
      "100%|██████████| 40/40 [00:11<00:00,  3.50it/s]\n",
      "100%|██████████| 40/40 [00:11<00:00,  3.49it/s]\n",
      "100%|██████████| 40/40 [00:11<00:00,  3.50it/s]\n",
      "100%|██████████| 40/40 [00:11<00:00,  3.50it/s]\n",
      "100%|██████████| 40/40 [00:11<00:00,  3.49it/s]\n",
      "100%|██████████| 40/40 [00:11<00:00,  3.50it/s]\n",
      "100%|██████████| 40/40 [00:11<00:00,  3.47it/s]\n",
      "100%|██████████| 40/40 [00:11<00:00,  3.50it/s]\n",
      "100%|██████████| 40/40 [00:11<00:00,  3.48it/s]\n",
      "100%|██████████| 40/40 [00:11<00:00,  3.49it/s]\n",
      "100%|██████████| 40/40 [00:11<00:00,  3.49it/s]\n",
      "100%|██████████| 40/40 [00:11<00:00,  3.50it/s]\n",
      "100%|██████████| 40/40 [00:11<00:00,  3.49it/s]\n",
      "100%|██████████| 40/40 [00:11<00:00,  3.48it/s]\n",
      "100%|██████████| 40/40 [00:11<00:00,  3.49it/s]\n",
      "100%|██████████| 40/40 [00:11<00:00,  3.52it/s]\n",
      "100%|██████████| 40/40 [00:11<00:00,  3.46it/s]\n",
      "100%|██████████| 40/40 [00:11<00:00,  3.51it/s]\n",
      "100%|██████████| 40/40 [00:11<00:00,  3.50it/s]\n",
      "100%|██████████| 40/40 [00:11<00:00,  3.49it/s]\n",
      "100%|██████████| 40/40 [00:11<00:00,  3.50it/s]\n",
      "100%|██████████| 40/40 [00:11<00:00,  3.51it/s]\n",
      "100%|██████████| 40/40 [00:11<00:00,  3.51it/s]\n",
      "100%|██████████| 40/40 [00:11<00:00,  3.50it/s]\n",
      "100%|██████████| 40/40 [00:11<00:00,  3.51it/s]\n",
      "100%|██████████| 40/40 [00:11<00:00,  3.49it/s]\n",
      "100%|██████████| 40/40 [00:11<00:00,  3.50it/s]\n",
      "100%|██████████| 40/40 [00:11<00:00,  3.46it/s]\n",
      "100%|██████████| 40/40 [00:11<00:00,  3.48it/s]\n",
      "100%|██████████| 40/40 [00:11<00:00,  3.51it/s]\n",
      "100%|██████████| 40/40 [00:11<00:00,  3.53it/s]\n",
      "100%|██████████| 40/40 [00:11<00:00,  3.52it/s]\n",
      "100%|██████████| 40/40 [00:11<00:00,  3.52it/s]\n",
      "100%|██████████| 40/40 [00:11<00:00,  3.49it/s]\n",
      "100%|██████████| 40/40 [00:11<00:00,  3.49it/s]\n",
      "100%|██████████| 40/40 [00:11<00:00,  3.48it/s]\n",
      "100%|██████████| 40/40 [00:11<00:00,  3.50it/s]\n",
      "100%|██████████| 40/40 [00:11<00:00,  3.50it/s]\n",
      "100%|██████████| 40/40 [00:11<00:00,  3.46it/s]\n",
      "100%|██████████| 40/40 [00:11<00:00,  3.50it/s]\n",
      "100%|██████████| 40/40 [00:11<00:00,  3.49it/s]\n",
      "100%|██████████| 40/40 [00:11<00:00,  3.48it/s]\n",
      "100%|██████████| 40/40 [00:11<00:00,  3.50it/s]\n",
      "100%|██████████| 40/40 [00:11<00:00,  3.48it/s]\n",
      "100%|██████████| 40/40 [00:11<00:00,  3.51it/s]\n",
      "100%|██████████| 40/40 [00:11<00:00,  3.50it/s]\n",
      "100%|██████████| 40/40 [00:11<00:00,  3.50it/s]\n",
      "100%|██████████| 40/40 [00:11<00:00,  3.50it/s]\n",
      "100%|██████████| 40/40 [00:11<00:00,  3.45it/s]\n",
      "100%|██████████| 40/40 [00:11<00:00,  3.52it/s]\n",
      "100%|██████████| 40/40 [00:11<00:00,  3.48it/s]\n",
      "100%|██████████| 40/40 [00:11<00:00,  3.51it/s]\n",
      "100%|██████████| 40/40 [00:11<00:00,  3.51it/s]\n",
      "100%|██████████| 40/40 [00:11<00:00,  3.51it/s]\n",
      "100%|██████████| 40/40 [00:11<00:00,  3.48it/s]\n",
      "100%|██████████| 40/40 [00:11<00:00,  3.51it/s]\n",
      "100%|██████████| 40/40 [00:11<00:00,  3.53it/s]\n",
      "100%|██████████| 40/40 [00:11<00:00,  3.52it/s]\n",
      "100%|██████████| 40/40 [00:11<00:00,  3.51it/s]\n",
      "100%|██████████| 40/40 [00:11<00:00,  3.44it/s]\n",
      "100%|██████████| 40/40 [00:11<00:00,  3.49it/s]\n",
      "100%|██████████| 40/40 [00:11<00:00,  3.51it/s]\n",
      "100%|██████████| 40/40 [00:11<00:00,  3.49it/s]\n",
      "100%|██████████| 40/40 [00:11<00:00,  3.50it/s]\n",
      "100%|██████████| 40/40 [00:11<00:00,  3.49it/s]\n",
      "100%|██████████| 40/40 [00:11<00:00,  3.50it/s]\n",
      "100%|██████████| 40/40 [00:11<00:00,  3.50it/s]\n",
      "100%|██████████| 40/40 [00:11<00:00,  3.49it/s]\n",
      "100%|██████████| 40/40 [00:11<00:00,  3.51it/s]\n",
      "100%|██████████| 40/40 [00:11<00:00,  3.45it/s]\n",
      "100%|██████████| 40/40 [00:11<00:00,  3.49it/s]\n",
      "100%|██████████| 40/40 [00:11<00:00,  3.50it/s]\n",
      "100%|██████████| 40/40 [00:11<00:00,  3.48it/s]\n",
      "100%|██████████| 40/40 [00:11<00:00,  3.50it/s]\n",
      "100%|██████████| 40/40 [00:11<00:00,  3.52it/s]\n",
      "100%|██████████| 40/40 [00:11<00:00,  3.52it/s]\n",
      "100%|██████████| 40/40 [00:11<00:00,  3.50it/s]\n",
      "100%|██████████| 40/40 [00:11<00:00,  3.50it/s]\n",
      "100%|██████████| 40/40 [00:11<00:00,  3.49it/s]\n",
      "100%|██████████| 40/40 [00:11<00:00,  3.48it/s]\n",
      "100%|██████████| 40/40 [00:11<00:00,  3.47it/s]\n",
      "100%|██████████| 40/40 [00:11<00:00,  3.51it/s]\n",
      "100%|██████████| 40/40 [00:11<00:00,  3.51it/s]\n",
      "100%|██████████| 40/40 [00:11<00:00,  3.48it/s]\n",
      "100%|██████████| 40/40 [00:11<00:00,  3.49it/s]\n",
      "100%|██████████| 40/40 [00:11<00:00,  3.50it/s]\n",
      "100%|██████████| 40/40 [00:11<00:00,  3.51it/s]\n",
      "100%|██████████| 40/40 [00:11<00:00,  3.50it/s]\n",
      "100%|██████████| 40/40 [00:11<00:00,  3.49it/s]\n",
      "100%|██████████| 40/40 [00:11<00:00,  3.51it/s]\n",
      "100%|██████████| 40/40 [00:11<00:00,  3.47it/s]\n",
      "100%|██████████| 40/40 [00:11<00:00,  3.49it/s]\n",
      "100%|██████████| 40/40 [00:11<00:00,  3.50it/s]\n",
      "100%|██████████| 40/40 [00:11<00:00,  3.49it/s]\n",
      "100%|██████████| 40/40 [00:11<00:00,  3.49it/s]\n",
      "100%|██████████| 40/40 [00:11<00:00,  3.51it/s]\n",
      "100%|██████████| 40/40 [00:11<00:00,  3.50it/s]\n",
      "100%|██████████| 40/40 [00:11<00:00,  3.47it/s]\n",
      "100%|██████████| 40/40 [00:11<00:00,  3.50it/s]\n",
      "100%|██████████| 40/40 [00:11<00:00,  3.49it/s]\n",
      "100%|██████████| 40/40 [00:11<00:00,  3.50it/s]\n",
      "100%|██████████| 40/40 [00:11<00:00,  3.49it/s]\n",
      "100%|██████████| 40/40 [00:11<00:00,  3.52it/s]\n",
      "100%|██████████| 40/40 [00:11<00:00,  3.49it/s]\n",
      "100%|██████████| 40/40 [00:11<00:00,  3.50it/s]\n",
      "100%|██████████| 40/40 [00:11<00:00,  3.51it/s]\n",
      "100%|██████████| 40/40 [00:11<00:00,  3.49it/s]\n",
      "100%|██████████| 40/40 [00:11<00:00,  3.51it/s]\n",
      "100%|██████████| 40/40 [00:11<00:00,  3.53it/s]\n",
      "100%|██████████| 40/40 [00:11<00:00,  3.52it/s]\n",
      "100%|██████████| 40/40 [00:11<00:00,  3.50it/s]\n",
      "100%|██████████| 40/40 [00:11<00:00,  3.48it/s]\n",
      "100%|██████████| 40/40 [00:11<00:00,  3.51it/s]\n",
      "100%|██████████| 40/40 [00:11<00:00,  3.52it/s]\n",
      "100%|██████████| 40/40 [00:11<00:00,  3.53it/s]\n",
      "100%|██████████| 40/40 [00:11<00:00,  3.52it/s]\n",
      "100%|██████████| 40/40 [00:11<00:00,  3.52it/s]\n",
      "100%|██████████| 40/40 [00:11<00:00,  3.51it/s]\n",
      "100%|██████████| 40/40 [00:11<00:00,  3.53it/s]\n",
      "100%|██████████| 40/40 [00:11<00:00,  3.51it/s]\n",
      "100%|██████████| 40/40 [00:11<00:00,  3.52it/s]\n",
      "100%|██████████| 40/40 [00:11<00:00,  3.51it/s]\n",
      "100%|██████████| 40/40 [00:11<00:00,  3.47it/s]\n",
      "100%|██████████| 40/40 [00:11<00:00,  3.50it/s]\n",
      "100%|██████████| 40/40 [00:11<00:00,  3.50it/s]\n",
      "100%|██████████| 40/40 [00:11<00:00,  3.48it/s]\n",
      "100%|██████████| 40/40 [00:11<00:00,  3.50it/s]\n",
      "100%|██████████| 40/40 [00:11<00:00,  3.49it/s]\n",
      "100%|██████████| 40/40 [00:11<00:00,  3.50it/s]\n",
      "100%|██████████| 40/40 [00:11<00:00,  3.49it/s]\n",
      "100%|██████████| 40/40 [00:11<00:00,  3.51it/s]\n",
      "100%|██████████| 40/40 [00:11<00:00,  3.51it/s]\n",
      "100%|██████████| 40/40 [00:11<00:00,  3.46it/s]\n",
      "100%|██████████| 40/40 [00:11<00:00,  3.49it/s]\n",
      "100%|██████████| 40/40 [00:11<00:00,  3.50it/s]\n",
      "100%|██████████| 40/40 [00:11<00:00,  3.51it/s]\n",
      "100%|██████████| 40/40 [00:11<00:00,  3.50it/s]\n",
      "100%|██████████| 40/40 [00:11<00:00,  3.48it/s]\n",
      "100%|██████████| 40/40 [00:11<00:00,  3.50it/s]\n",
      "100%|██████████| 40/40 [00:11<00:00,  3.52it/s]\n",
      "100%|██████████| 40/40 [00:11<00:00,  3.51it/s]\n",
      "100%|██████████| 40/40 [00:11<00:00,  3.52it/s]\n",
      "100%|██████████| 40/40 [00:11<00:00,  3.50it/s]\n",
      "100%|██████████| 40/40 [00:11<00:00,  3.47it/s]\n",
      "100%|██████████| 40/40 [00:11<00:00,  3.52it/s]\n",
      "100%|██████████| 40/40 [00:11<00:00,  3.50it/s]\n",
      "100%|██████████| 40/40 [00:11<00:00,  3.48it/s]\n",
      "100%|██████████| 40/40 [00:11<00:00,  3.51it/s]\n",
      "100%|██████████| 40/40 [00:11<00:00,  3.50it/s]\n",
      "100%|██████████| 40/40 [00:11<00:00,  3.49it/s]\n",
      "100%|██████████| 40/40 [00:11<00:00,  3.50it/s]\n",
      "100%|██████████| 40/40 [00:11<00:00,  3.50it/s]\n",
      "100%|██████████| 40/40 [00:11<00:00,  3.51it/s]\n",
      "100%|██████████| 40/40 [00:11<00:00,  3.49it/s]\n",
      "100%|██████████| 40/40 [00:11<00:00,  3.51it/s]\n",
      "100%|██████████| 40/40 [00:11<00:00,  3.53it/s]\n",
      "100%|██████████| 40/40 [00:11<00:00,  3.52it/s]\n",
      "100%|██████████| 40/40 [00:11<00:00,  3.51it/s]\n",
      "100%|██████████| 40/40 [00:11<00:00,  3.51it/s]\n",
      "100%|██████████| 40/40 [00:11<00:00,  3.50it/s]\n",
      "100%|██████████| 40/40 [00:11<00:00,  3.50it/s]\n",
      "100%|██████████| 40/40 [00:11<00:00,  3.49it/s]\n",
      "100%|██████████| 40/40 [00:11<00:00,  3.49it/s]\n",
      "100%|██████████| 40/40 [00:11<00:00,  3.49it/s]\n",
      "100%|██████████| 40/40 [00:11<00:00,  3.48it/s]\n",
      "100%|██████████| 40/40 [00:11<00:00,  3.49it/s]\n",
      "100%|██████████| 40/40 [00:11<00:00,  3.51it/s]\n",
      "100%|██████████| 40/40 [00:11<00:00,  3.53it/s]\n",
      "100%|██████████| 40/40 [00:11<00:00,  3.51it/s]\n",
      "100%|██████████| 40/40 [00:11<00:00,  3.51it/s]\n",
      "100%|██████████| 40/40 [00:11<00:00,  3.51it/s]\n",
      "100%|██████████| 40/40 [00:11<00:00,  3.52it/s]\n",
      "100%|██████████| 40/40 [00:11<00:00,  3.50it/s]\n",
      "100%|██████████| 40/40 [00:11<00:00,  3.51it/s]\n",
      "100%|██████████| 40/40 [00:11<00:00,  3.50it/s]\n",
      "100%|██████████| 40/40 [00:11<00:00,  3.49it/s]\n",
      "100%|██████████| 40/40 [00:11<00:00,  3.52it/s]\n",
      "100%|██████████| 40/40 [00:11<00:00,  3.50it/s]\n",
      "100%|██████████| 40/40 [00:11<00:00,  3.51it/s]\n",
      "100%|██████████| 40/40 [00:11<00:00,  3.52it/s]\n",
      "100%|██████████| 40/40 [00:11<00:00,  3.49it/s]\n",
      "100%|██████████| 40/40 [00:11<00:00,  3.48it/s]\n",
      "100%|██████████| 40/40 [00:11<00:00,  3.50it/s]\n",
      "100%|██████████| 40/40 [00:11<00:00,  3.49it/s]\n",
      "100%|██████████| 40/40 [00:11<00:00,  3.50it/s]\n",
      "100%|██████████| 40/40 [00:11<00:00,  3.45it/s]\n",
      "100%|██████████| 40/40 [00:11<00:00,  3.50it/s]\n",
      "100%|██████████| 40/40 [00:11<00:00,  3.51it/s]\n",
      "100%|██████████| 40/40 [00:11<00:00,  3.49it/s]\n",
      "100%|██████████| 40/40 [00:11<00:00,  3.51it/s]\n",
      "100%|██████████| 40/40 [00:11<00:00,  3.49it/s]\n",
      "100%|██████████| 40/40 [00:11<00:00,  3.48it/s]\n",
      "100%|██████████| 40/40 [00:11<00:00,  3.50it/s]\n",
      "100%|██████████| 40/40 [00:11<00:00,  3.48it/s]\n",
      "100%|██████████| 40/40 [00:11<00:00,  3.51it/s]\n",
      "100%|██████████| 40/40 [00:11<00:00,  3.49it/s]\n",
      "100%|██████████| 40/40 [00:11<00:00,  3.45it/s]\n",
      "100%|██████████| 40/40 [00:11<00:00,  3.44it/s]\n",
      "100%|██████████| 40/40 [00:11<00:00,  3.49it/s]\n",
      "100%|██████████| 40/40 [00:11<00:00,  3.50it/s]\n",
      "100%|██████████| 40/40 [00:11<00:00,  3.51it/s]\n",
      "100%|██████████| 40/40 [00:11<00:00,  3.47it/s]\n",
      "100%|██████████| 40/40 [00:11<00:00,  3.46it/s]\n",
      "100%|██████████| 40/40 [00:11<00:00,  3.48it/s]\n",
      "100%|██████████| 40/40 [00:11<00:00,  3.50it/s]\n",
      "100%|██████████| 40/40 [00:11<00:00,  3.49it/s]\n",
      "100%|██████████| 40/40 [00:11<00:00,  3.45it/s]\n",
      "100%|██████████| 40/40 [00:11<00:00,  3.46it/s]\n",
      "100%|██████████| 40/40 [00:11<00:00,  3.48it/s]\n",
      "100%|██████████| 40/40 [00:11<00:00,  3.50it/s]\n",
      "100%|██████████| 40/40 [00:11<00:00,  3.49it/s]\n",
      "100%|██████████| 40/40 [00:11<00:00,  3.48it/s]\n",
      "100%|██████████| 40/40 [00:11<00:00,  3.49it/s]\n",
      "100%|██████████| 40/40 [00:11<00:00,  3.48it/s]\n",
      "100%|██████████| 40/40 [00:11<00:00,  3.49it/s]\n",
      "100%|██████████| 40/40 [00:11<00:00,  3.46it/s]\n",
      "100%|██████████| 40/40 [00:11<00:00,  3.47it/s]\n",
      "100%|██████████| 40/40 [00:11<00:00,  3.50it/s]\n",
      "100%|██████████| 40/40 [00:11<00:00,  3.52it/s]\n",
      "100%|██████████| 40/40 [00:11<00:00,  3.49it/s]\n",
      "100%|██████████| 40/40 [00:11<00:00,  3.50it/s]\n",
      "100%|██████████| 40/40 [00:11<00:00,  3.50it/s]\n",
      "100%|██████████| 40/40 [00:11<00:00,  3.49it/s]\n",
      "100%|██████████| 40/40 [00:11<00:00,  3.46it/s]\n",
      "100%|██████████| 40/40 [00:11<00:00,  3.45it/s]\n",
      "100%|██████████| 40/40 [00:11<00:00,  3.52it/s]\n",
      "100%|██████████| 40/40 [00:11<00:00,  3.50it/s]\n",
      "100%|██████████| 40/40 [00:11<00:00,  3.43it/s]\n",
      "100%|██████████| 40/40 [00:11<00:00,  3.48it/s]\n",
      "100%|██████████| 40/40 [00:11<00:00,  3.46it/s]\n",
      "100%|██████████| 40/40 [00:11<00:00,  3.48it/s]\n",
      "100%|██████████| 40/40 [00:11<00:00,  3.46it/s]\n",
      "100%|██████████| 40/40 [00:11<00:00,  3.47it/s]\n",
      "100%|██████████| 40/40 [00:11<00:00,  3.42it/s]\n",
      "100%|██████████| 40/40 [00:11<00:00,  3.47it/s]\n",
      "100%|██████████| 40/40 [00:11<00:00,  3.49it/s]\n",
      "100%|██████████| 40/40 [00:11<00:00,  3.46it/s]\n",
      "100%|██████████| 40/40 [00:11<00:00,  3.45it/s]\n",
      "100%|██████████| 40/40 [00:11<00:00,  3.49it/s]\n",
      "100%|██████████| 40/40 [00:11<00:00,  3.50it/s]\n",
      "100%|██████████| 40/40 [00:11<00:00,  3.47it/s]\n",
      "100%|██████████| 40/40 [00:11<00:00,  3.45it/s]\n",
      "100%|██████████| 40/40 [00:11<00:00,  3.47it/s]\n",
      "100%|██████████| 40/40 [00:11<00:00,  3.47it/s]\n",
      "100%|██████████| 40/40 [00:11<00:00,  3.48it/s]\n",
      "100%|██████████| 40/40 [00:11<00:00,  3.47it/s]\n",
      "100%|██████████| 40/40 [00:11<00:00,  3.46it/s]\n",
      "100%|██████████| 40/40 [00:11<00:00,  3.47it/s]\n",
      "100%|██████████| 40/40 [00:11<00:00,  3.41it/s]\n",
      "100%|██████████| 40/40 [00:11<00:00,  3.48it/s]\n",
      "100%|██████████| 40/40 [00:11<00:00,  3.46it/s]\n",
      "100%|██████████| 40/40 [00:11<00:00,  3.47it/s]\n",
      "100%|██████████| 40/40 [00:11<00:00,  3.45it/s]\n",
      "100%|██████████| 40/40 [00:11<00:00,  3.48it/s]\n",
      "100%|██████████| 40/40 [00:11<00:00,  3.49it/s]\n",
      "100%|██████████| 40/40 [00:11<00:00,  3.49it/s]\n",
      "100%|██████████| 40/40 [00:11<00:00,  3.50it/s]\n",
      "100%|██████████| 40/40 [00:11<00:00,  3.47it/s]\n",
      "100%|██████████| 40/40 [00:11<00:00,  3.36it/s]\n",
      "100%|██████████| 40/40 [00:11<00:00,  3.47it/s]\n",
      "100%|██████████| 40/40 [00:11<00:00,  3.47it/s]\n",
      "100%|██████████| 40/40 [00:11<00:00,  3.48it/s]\n",
      "100%|██████████| 40/40 [00:11<00:00,  3.48it/s]\n",
      "100%|██████████| 40/40 [00:11<00:00,  3.49it/s]\n",
      "100%|██████████| 40/40 [00:11<00:00,  3.47it/s]\n",
      "100%|██████████| 40/40 [00:11<00:00,  3.47it/s]\n",
      "100%|██████████| 40/40 [00:11<00:00,  3.47it/s]\n",
      "100%|██████████| 40/40 [00:11<00:00,  3.47it/s]\n",
      "100%|██████████| 40/40 [00:11<00:00,  3.48it/s]\n",
      "100%|██████████| 40/40 [00:11<00:00,  3.41it/s]\n",
      "100%|██████████| 40/40 [00:11<00:00,  3.47it/s]\n",
      "100%|██████████| 40/40 [00:11<00:00,  3.46it/s]\n",
      "100%|██████████| 40/40 [00:11<00:00,  3.47it/s]\n",
      "100%|██████████| 40/40 [00:11<00:00,  3.48it/s]\n",
      "100%|██████████| 40/40 [00:11<00:00,  3.49it/s]\n",
      "100%|██████████| 40/40 [00:11<00:00,  3.50it/s]\n",
      "100%|██████████| 40/40 [00:11<00:00,  3.52it/s]\n",
      "100%|██████████| 40/40 [00:11<00:00,  3.52it/s]\n",
      "100%|██████████| 40/40 [00:11<00:00,  3.49it/s]\n",
      "100%|██████████| 40/40 [00:11<00:00,  3.47it/s]\n",
      "100%|██████████| 40/40 [00:11<00:00,  3.50it/s]\n",
      "100%|██████████| 40/40 [00:11<00:00,  3.49it/s]\n",
      "100%|██████████| 40/40 [00:11<00:00,  3.50it/s]\n",
      "100%|██████████| 40/40 [00:11<00:00,  3.48it/s]\n",
      "100%|██████████| 40/40 [00:11<00:00,  3.51it/s]\n",
      "100%|██████████| 40/40 [00:11<00:00,  3.49it/s]\n",
      "100%|██████████| 40/40 [00:11<00:00,  3.50it/s]\n",
      "100%|██████████| 40/40 [00:11<00:00,  3.49it/s]\n",
      "100%|██████████| 40/40 [00:11<00:00,  3.49it/s]\n",
      "100%|██████████| 40/40 [00:11<00:00,  3.50it/s]\n",
      "100%|██████████| 40/40 [00:11<00:00,  3.48it/s]\n",
      "100%|██████████| 40/40 [00:11<00:00,  3.53it/s]\n",
      "100%|██████████| 40/40 [00:11<00:00,  3.51it/s]\n",
      "100%|██████████| 40/40 [00:11<00:00,  3.49it/s]\n",
      "100%|██████████| 40/40 [00:11<00:00,  3.50it/s]\n",
      "100%|██████████| 40/40 [00:11<00:00,  3.51it/s]\n",
      "100%|██████████| 40/40 [00:11<00:00,  3.49it/s]\n",
      "100%|██████████| 40/40 [00:11<00:00,  3.49it/s]\n",
      "100%|██████████| 40/40 [00:11<00:00,  3.50it/s]\n",
      "100%|██████████| 40/40 [00:11<00:00,  3.50it/s]\n",
      "100%|██████████| 40/40 [00:11<00:00,  3.46it/s]\n",
      "100%|██████████| 40/40 [00:11<00:00,  3.48it/s]\n",
      "100%|██████████| 40/40 [00:11<00:00,  3.50it/s]\n",
      "100%|██████████| 40/40 [00:11<00:00,  3.50it/s]\n",
      "100%|██████████| 40/40 [00:11<00:00,  3.49it/s]\n",
      "100%|██████████| 40/40 [00:11<00:00,  3.49it/s]\n",
      "100%|██████████| 40/40 [00:11<00:00,  3.49it/s]\n",
      "100%|██████████| 40/40 [00:11<00:00,  3.49it/s]\n",
      "100%|██████████| 40/40 [00:11<00:00,  3.49it/s]\n",
      "100%|██████████| 40/40 [00:11<00:00,  3.50it/s]\n",
      "100%|██████████| 40/40 [00:11<00:00,  3.50it/s]\n",
      "100%|██████████| 40/40 [00:11<00:00,  3.48it/s]\n",
      "100%|██████████| 40/40 [00:11<00:00,  3.51it/s]\n",
      "100%|██████████| 40/40 [00:11<00:00,  3.52it/s]\n",
      "100%|██████████| 40/40 [00:11<00:00,  3.51it/s]\n",
      "100%|██████████| 40/40 [00:11<00:00,  3.52it/s]\n",
      "100%|██████████| 40/40 [00:11<00:00,  3.50it/s]\n",
      "100%|██████████| 40/40 [00:11<00:00,  3.52it/s]\n",
      "100%|██████████| 40/40 [00:11<00:00,  3.50it/s]\n",
      "100%|██████████| 40/40 [00:11<00:00,  3.50it/s]\n",
      "100%|██████████| 40/40 [00:11<00:00,  3.50it/s]\n",
      "100%|██████████| 40/40 [00:11<00:00,  3.47it/s]\n",
      "100%|██████████| 40/40 [00:11<00:00,  3.49it/s]\n",
      "100%|██████████| 40/40 [00:11<00:00,  3.49it/s]\n",
      "100%|██████████| 40/40 [00:11<00:00,  3.49it/s]\n",
      "100%|██████████| 40/40 [00:11<00:00,  3.50it/s]\n",
      "100%|██████████| 40/40 [00:11<00:00,  3.49it/s]\n",
      "100%|██████████| 40/40 [00:11<00:00,  3.49it/s]\n",
      "100%|██████████| 40/40 [00:11<00:00,  3.50it/s]\n",
      "100%|██████████| 40/40 [00:11<00:00,  3.51it/s]\n",
      "100%|██████████| 40/40 [00:11<00:00,  3.50it/s]\n",
      "100%|██████████| 40/40 [00:11<00:00,  3.50it/s]\n",
      "100%|██████████| 40/40 [00:11<00:00,  3.47it/s]\n",
      "100%|██████████| 40/40 [00:11<00:00,  3.48it/s]\n",
      "100%|██████████| 40/40 [00:11<00:00,  3.49it/s]\n",
      "100%|██████████| 40/40 [00:11<00:00,  3.49it/s]\n",
      "100%|██████████| 40/40 [00:11<00:00,  3.50it/s]\n",
      "100%|██████████| 40/40 [00:11<00:00,  3.50it/s]\n",
      "100%|██████████| 40/40 [00:11<00:00,  3.50it/s]\n",
      "100%|██████████| 40/40 [00:11<00:00,  3.50it/s]\n",
      "100%|██████████| 40/40 [00:11<00:00,  3.49it/s]\n",
      "100%|██████████| 40/40 [00:11<00:00,  3.50it/s]\n",
      "100%|██████████| 40/40 [00:11<00:00,  3.49it/s]\n",
      "100%|██████████| 40/40 [00:11<00:00,  3.53it/s]\n",
      "100%|██████████| 40/40 [00:11<00:00,  3.50it/s]\n",
      "100%|██████████| 40/40 [00:11<00:00,  3.48it/s]\n",
      "100%|██████████| 40/40 [00:11<00:00,  3.50it/s]\n",
      "100%|██████████| 40/40 [00:11<00:00,  3.49it/s]\n",
      "100%|██████████| 40/40 [00:11<00:00,  3.48it/s]\n",
      "100%|██████████| 40/40 [00:11<00:00,  3.49it/s]\n",
      "100%|██████████| 40/40 [00:11<00:00,  3.49it/s]\n",
      "100%|██████████| 40/40 [00:11<00:00,  3.49it/s]\n",
      "100%|██████████| 40/40 [00:11<00:00,  3.50it/s]\n",
      "100%|██████████| 40/40 [00:11<00:00,  3.49it/s]\n",
      "100%|██████████| 40/40 [00:11<00:00,  3.50it/s]\n",
      "100%|██████████| 40/40 [00:11<00:00,  3.51it/s]\n",
      "100%|██████████| 40/40 [00:11<00:00,  3.49it/s]\n",
      "100%|██████████| 40/40 [00:11<00:00,  3.51it/s]\n",
      "100%|██████████| 40/40 [00:11<00:00,  3.49it/s]\n",
      "100%|██████████| 40/40 [00:11<00:00,  3.50it/s]\n",
      "100%|██████████| 40/40 [00:11<00:00,  3.52it/s]\n",
      "100%|██████████| 40/40 [00:13<00:00,  3.00it/s]\n",
      "100%|██████████| 40/40 [00:13<00:00,  2.98it/s]\n",
      "100%|██████████| 40/40 [00:13<00:00,  2.95it/s]\n",
      "100%|██████████| 40/40 [00:13<00:00,  2.99it/s]\n",
      "100%|██████████| 40/40 [00:13<00:00,  2.99it/s]\n",
      "100%|██████████| 40/40 [00:13<00:00,  3.00it/s]\n",
      "100%|██████████| 40/40 [00:13<00:00,  3.00it/s]\n",
      "100%|██████████| 40/40 [00:13<00:00,  3.01it/s]\n",
      "100%|██████████| 40/40 [00:13<00:00,  2.98it/s]\n",
      "100%|██████████| 40/40 [00:13<00:00,  3.00it/s]\n",
      "100%|██████████| 40/40 [00:13<00:00,  2.99it/s]\n",
      "100%|██████████| 40/40 [00:13<00:00,  2.98it/s]\n",
      "100%|██████████| 40/40 [00:13<00:00,  2.97it/s]\n",
      "100%|██████████| 40/40 [00:13<00:00,  3.04it/s]\n",
      "100%|██████████| 40/40 [00:13<00:00,  3.00it/s]\n",
      "100%|██████████| 40/40 [00:13<00:00,  3.00it/s]\n",
      "100%|██████████| 40/40 [00:13<00:00,  2.98it/s]\n",
      "100%|██████████| 40/40 [00:13<00:00,  2.97it/s]\n",
      "100%|██████████| 40/40 [00:13<00:00,  2.99it/s]\n",
      "100%|██████████| 40/40 [00:13<00:00,  2.96it/s]\n",
      "100%|██████████| 40/40 [00:13<00:00,  2.96it/s]\n",
      "100%|██████████| 40/40 [00:13<00:00,  2.99it/s]\n",
      "100%|██████████| 40/40 [00:13<00:00,  2.99it/s]\n",
      "100%|██████████| 40/40 [00:13<00:00,  2.98it/s]\n",
      "100%|██████████| 40/40 [00:13<00:00,  2.97it/s]\n",
      "100%|██████████| 40/40 [00:13<00:00,  2.97it/s]\n",
      "100%|██████████| 40/40 [00:13<00:00,  3.05it/s]\n",
      "100%|██████████| 40/40 [00:11<00:00,  3.34it/s]\n",
      "100%|██████████| 40/40 [00:11<00:00,  3.42it/s]\n",
      "100%|██████████| 40/40 [00:11<00:00,  3.43it/s]\n",
      "100%|██████████| 40/40 [00:11<00:00,  3.49it/s]\n",
      "100%|██████████| 40/40 [00:11<00:00,  3.50it/s]\n",
      "100%|██████████| 40/40 [00:11<00:00,  3.49it/s]\n",
      "100%|██████████| 40/40 [00:11<00:00,  3.49it/s]\n",
      "100%|██████████| 40/40 [00:13<00:00,  2.98it/s]\n",
      "100%|██████████| 40/40 [00:13<00:00,  2.97it/s]\n",
      "100%|██████████| 40/40 [00:13<00:00,  2.98it/s]\n",
      "100%|██████████| 40/40 [00:13<00:00,  2.97it/s]\n",
      "100%|██████████| 40/40 [00:13<00:00,  2.99it/s]\n",
      "100%|██████████| 40/40 [00:13<00:00,  2.93it/s]\n",
      "100%|██████████| 40/40 [00:13<00:00,  2.94it/s]\n",
      "100%|██████████| 40/40 [00:13<00:00,  3.01it/s]\n",
      "100%|██████████| 40/40 [00:12<00:00,  3.14it/s]\n",
      "100%|██████████| 40/40 [00:13<00:00,  3.04it/s]\n",
      "100%|██████████| 40/40 [00:12<00:00,  3.10it/s]\n",
      "100%|██████████| 40/40 [00:12<00:00,  3.18it/s]\n",
      "100%|██████████| 40/40 [00:12<00:00,  3.16it/s]\n",
      "100%|██████████| 40/40 [00:11<00:00,  3.43it/s]\n",
      "100%|██████████| 40/40 [00:13<00:00,  3.06it/s]\n",
      "100%|██████████| 40/40 [00:13<00:00,  3.04it/s]\n",
      "100%|██████████| 40/40 [00:13<00:00,  2.99it/s]\n",
      "100%|██████████| 40/40 [00:13<00:00,  2.99it/s]\n",
      "100%|██████████| 40/40 [00:13<00:00,  3.00it/s]\n",
      "100%|██████████| 40/40 [00:13<00:00,  2.98it/s]\n",
      "100%|██████████| 40/40 [00:13<00:00,  2.99it/s]\n",
      "100%|██████████| 40/40 [00:13<00:00,  2.96it/s]\n",
      "100%|██████████| 40/40 [00:13<00:00,  2.98it/s]\n",
      "100%|██████████| 40/40 [00:13<00:00,  2.96it/s]\n",
      "100%|██████████| 40/40 [00:13<00:00,  2.98it/s]\n",
      "100%|██████████| 40/40 [00:13<00:00,  2.98it/s]\n",
      "100%|██████████| 40/40 [00:13<00:00,  2.99it/s]\n",
      "100%|██████████| 40/40 [00:13<00:00,  3.00it/s]\n",
      "100%|██████████| 40/40 [00:13<00:00,  2.99it/s]\n",
      "100%|██████████| 40/40 [00:13<00:00,  3.01it/s]\n",
      "100%|██████████| 40/40 [00:13<00:00,  2.99it/s]\n",
      "100%|██████████| 40/40 [00:13<00:00,  3.01it/s]\n",
      "100%|██████████| 40/40 [00:13<00:00,  2.96it/s]\n",
      "100%|██████████| 40/40 [00:13<00:00,  2.99it/s]\n",
      "100%|██████████| 40/40 [00:13<00:00,  3.00it/s]\n",
      "100%|██████████| 40/40 [00:13<00:00,  2.98it/s]\n",
      "100%|██████████| 40/40 [00:13<00:00,  2.99it/s]\n",
      "100%|██████████| 40/40 [00:13<00:00,  2.99it/s]\n",
      "100%|██████████| 40/40 [00:13<00:00,  2.99it/s]\n",
      "100%|██████████| 40/40 [00:13<00:00,  2.98it/s]\n",
      "100%|██████████| 40/40 [00:13<00:00,  3.00it/s]\n",
      "100%|██████████| 40/40 [00:13<00:00,  2.97it/s]\n",
      "100%|██████████| 40/40 [00:13<00:00,  2.99it/s]\n",
      "100%|██████████| 40/40 [00:13<00:00,  2.99it/s]\n",
      "100%|██████████| 40/40 [00:13<00:00,  3.01it/s]\n",
      "100%|██████████| 40/40 [00:12<00:00,  3.14it/s]\n",
      "100%|██████████| 40/40 [00:12<00:00,  3.14it/s]\n",
      "100%|██████████| 40/40 [00:12<00:00,  3.29it/s]\n",
      "100%|██████████| 40/40 [00:13<00:00,  3.03it/s]\n",
      "100%|██████████| 40/40 [00:13<00:00,  2.99it/s]\n",
      "100%|██████████| 40/40 [00:13<00:00,  2.96it/s]\n",
      "100%|██████████| 40/40 [00:13<00:00,  3.00it/s]\n",
      "100%|██████████| 40/40 [00:13<00:00,  2.99it/s]\n",
      "100%|██████████| 40/40 [00:13<00:00,  2.99it/s]\n",
      "100%|██████████| 40/40 [00:13<00:00,  2.99it/s]\n",
      "100%|██████████| 40/40 [00:13<00:00,  3.00it/s]\n",
      "100%|██████████| 40/40 [00:13<00:00,  2.98it/s]\n",
      "100%|██████████| 40/40 [00:13<00:00,  2.98it/s]\n",
      "100%|██████████| 40/40 [00:13<00:00,  2.98it/s]\n",
      "100%|██████████| 40/40 [00:13<00:00,  2.96it/s]\n",
      "100%|██████████| 40/40 [00:13<00:00,  2.98it/s]\n",
      "100%|██████████| 40/40 [00:13<00:00,  3.05it/s]\n",
      "100%|██████████| 40/40 [00:12<00:00,  3.17it/s]\n",
      "100%|██████████| 40/40 [00:12<00:00,  3.32it/s]\n",
      "100%|██████████| 40/40 [00:11<00:00,  3.39it/s]\n",
      "100%|██████████| 40/40 [00:12<00:00,  3.13it/s]\n",
      "100%|██████████| 40/40 [00:13<00:00,  3.06it/s]\n",
      "100%|██████████| 40/40 [00:13<00:00,  2.99it/s]\n",
      "100%|██████████| 40/40 [00:13<00:00,  2.99it/s]\n",
      "100%|██████████| 40/40 [00:13<00:00,  2.98it/s]\n",
      "100%|██████████| 40/40 [00:13<00:00,  2.98it/s]\n",
      "100%|██████████| 40/40 [00:13<00:00,  2.99it/s]\n",
      "100%|██████████| 40/40 [00:13<00:00,  2.98it/s]\n",
      "100%|██████████| 40/40 [00:13<00:00,  2.98it/s]\n",
      "100%|██████████| 40/40 [00:13<00:00,  3.00it/s]\n",
      "100%|██████████| 40/40 [00:13<00:00,  2.98it/s]\n",
      "100%|██████████| 40/40 [00:13<00:00,  3.03it/s]\n",
      "100%|██████████| 40/40 [00:13<00:00,  2.98it/s]\n",
      "100%|██████████| 40/40 [00:13<00:00,  2.95it/s]\n",
      "100%|██████████| 40/40 [00:13<00:00,  2.97it/s]\n",
      "100%|██████████| 40/40 [00:13<00:00,  2.98it/s]\n",
      "100%|██████████| 40/40 [00:13<00:00,  2.97it/s]\n",
      "100%|██████████| 40/40 [00:13<00:00,  3.06it/s]\n",
      "100%|██████████| 40/40 [00:13<00:00,  2.97it/s]\n",
      "100%|██████████| 40/40 [00:13<00:00,  2.97it/s]\n",
      "100%|██████████| 40/40 [00:13<00:00,  2.98it/s]\n",
      "100%|██████████| 40/40 [00:13<00:00,  2.98it/s]\n",
      "100%|██████████| 40/40 [00:13<00:00,  2.97it/s]\n",
      "100%|██████████| 40/40 [00:13<00:00,  2.98it/s]\n",
      "100%|██████████| 40/40 [00:13<00:00,  2.99it/s]\n",
      "100%|██████████| 40/40 [00:13<00:00,  2.98it/s]\n",
      "100%|██████████| 40/40 [00:13<00:00,  2.99it/s]\n",
      "100%|██████████| 40/40 [00:13<00:00,  2.98it/s]\n",
      "100%|██████████| 40/40 [00:13<00:00,  2.99it/s]\n",
      "100%|██████████| 40/40 [00:13<00:00,  2.98it/s]\n",
      "100%|██████████| 40/40 [00:12<00:00,  3.16it/s]\n",
      "100%|██████████| 40/40 [00:12<00:00,  3.31it/s]\n",
      "100%|██████████| 40/40 [00:11<00:00,  3.45it/s]\n",
      "100%|██████████| 40/40 [00:11<00:00,  3.49it/s]\n",
      "100%|██████████| 40/40 [00:11<00:00,  3.50it/s]\n",
      "100%|██████████| 40/40 [00:11<00:00,  3.52it/s]\n",
      "100%|██████████| 40/40 [00:11<00:00,  3.52it/s]\n",
      "100%|██████████| 40/40 [00:13<00:00,  2.99it/s]\n",
      "100%|██████████| 40/40 [00:13<00:00,  3.00it/s]\n",
      "100%|██████████| 40/40 [00:13<00:00,  2.99it/s]\n",
      "100%|██████████| 40/40 [00:13<00:00,  2.99it/s]\n",
      "100%|██████████| 40/40 [00:13<00:00,  2.98it/s]\n",
      "100%|██████████| 40/40 [00:13<00:00,  2.97it/s]\n",
      "100%|██████████| 40/40 [00:13<00:00,  2.97it/s]\n",
      "100%|██████████| 40/40 [00:13<00:00,  2.98it/s]\n",
      "100%|██████████| 40/40 [00:13<00:00,  3.04it/s]\n",
      "100%|██████████| 40/40 [00:12<00:00,  3.19it/s]\n",
      "100%|██████████| 40/40 [00:12<00:00,  3.09it/s]\n",
      "100%|██████████| 40/40 [00:12<00:00,  3.16it/s]\n",
      "100%|██████████| 40/40 [00:12<00:00,  3.21it/s]\n",
      "100%|██████████| 40/40 [00:12<00:00,  3.30it/s]\n",
      "100%|██████████| 40/40 [00:12<00:00,  3.15it/s]\n",
      "100%|██████████| 40/40 [00:12<00:00,  3.10it/s]\n",
      "100%|██████████| 40/40 [00:13<00:00,  2.99it/s]\n",
      "100%|██████████| 40/40 [00:13<00:00,  2.99it/s]\n",
      "100%|██████████| 40/40 [00:13<00:00,  2.97it/s]\n",
      "100%|██████████| 40/40 [00:13<00:00,  2.98it/s]\n",
      "100%|██████████| 40/40 [00:13<00:00,  2.98it/s]\n",
      "100%|██████████| 40/40 [00:13<00:00,  2.98it/s]\n",
      "100%|██████████| 40/40 [00:13<00:00,  2.98it/s]\n",
      "100%|██████████| 40/40 [00:13<00:00,  3.00it/s]\n",
      "100%|██████████| 40/40 [00:13<00:00,  2.98it/s]\n",
      "100%|██████████| 40/40 [00:13<00:00,  2.98it/s]\n",
      "100%|██████████| 40/40 [00:13<00:00,  2.98it/s]\n",
      "100%|██████████| 40/40 [00:13<00:00,  2.99it/s]\n",
      "100%|██████████| 40/40 [00:13<00:00,  2.98it/s]\n",
      "100%|██████████| 40/40 [00:13<00:00,  2.99it/s]\n",
      "100%|██████████| 40/40 [00:13<00:00,  2.98it/s]\n",
      "100%|██████████| 40/40 [00:13<00:00,  2.98it/s]\n",
      "100%|██████████| 40/40 [00:13<00:00,  2.98it/s]\n",
      "100%|██████████| 40/40 [00:13<00:00,  2.98it/s]\n",
      "100%|██████████| 40/40 [00:13<00:00,  2.98it/s]\n",
      "100%|██████████| 40/40 [00:13<00:00,  2.98it/s]\n",
      "100%|██████████| 40/40 [00:13<00:00,  2.98it/s]\n",
      "100%|██████████| 40/40 [00:13<00:00,  3.00it/s]\n",
      "100%|██████████| 40/40 [00:13<00:00,  2.99it/s]\n",
      "100%|██████████| 40/40 [00:13<00:00,  3.00it/s]\n",
      "100%|██████████| 40/40 [00:13<00:00,  2.97it/s]\n",
      "100%|██████████| 40/40 [00:13<00:00,  2.99it/s]\n",
      "100%|██████████| 40/40 [00:13<00:00,  2.98it/s]\n",
      "100%|██████████| 40/40 [00:13<00:00,  2.98it/s]\n",
      "100%|██████████| 40/40 [00:13<00:00,  3.06it/s]\n",
      "100%|██████████| 40/40 [00:12<00:00,  3.11it/s]\n",
      "100%|██████████| 40/40 [00:12<00:00,  3.15it/s]\n",
      "100%|██████████| 40/40 [00:12<00:00,  3.25it/s]\n",
      "100%|██████████| 40/40 [00:13<00:00,  3.02it/s]\n",
      "100%|██████████| 40/40 [00:13<00:00,  3.04it/s]\n",
      "100%|██████████| 40/40 [00:13<00:00,  3.00it/s]\n",
      "100%|██████████| 40/40 [00:13<00:00,  2.98it/s]\n",
      "100%|██████████| 40/40 [00:13<00:00,  2.99it/s]\n",
      "100%|██████████| 40/40 [00:13<00:00,  2.97it/s]\n",
      "100%|██████████| 40/40 [00:13<00:00,  2.97it/s]\n",
      "100%|██████████| 40/40 [00:13<00:00,  2.99it/s]\n",
      "100%|██████████| 40/40 [00:13<00:00,  3.01it/s]\n",
      "100%|██████████| 40/40 [00:13<00:00,  2.98it/s]\n",
      "100%|██████████| 40/40 [00:13<00:00,  2.98it/s]\n",
      "100%|██████████| 40/40 [00:13<00:00,  2.99it/s]\n",
      "100%|██████████| 40/40 [00:13<00:00,  2.99it/s]\n",
      "100%|██████████| 40/40 [00:13<00:00,  3.05it/s]\n",
      "100%|██████████| 40/40 [00:12<00:00,  3.15it/s]\n",
      "100%|██████████| 40/40 [00:12<00:00,  3.25it/s]\n",
      "100%|██████████| 40/40 [00:11<00:00,  3.41it/s]\n",
      "100%|██████████| 40/40 [00:11<00:00,  3.50it/s]\n",
      "100%|██████████| 40/40 [00:11<00:00,  3.48it/s]\n",
      "100%|██████████| 40/40 [00:11<00:00,  3.49it/s]\n",
      "100%|██████████| 40/40 [00:11<00:00,  3.46it/s]\n",
      "100%|██████████| 40/40 [00:11<00:00,  3.50it/s]\n",
      "100%|██████████| 40/40 [00:11<00:00,  3.49it/s]\n",
      "100%|██████████| 40/40 [00:11<00:00,  3.49it/s]\n",
      "100%|██████████| 40/40 [00:11<00:00,  3.49it/s]\n",
      "100%|██████████| 40/40 [00:11<00:00,  3.48it/s]\n",
      "100%|██████████| 40/40 [00:11<00:00,  3.50it/s]\n",
      "100%|██████████| 40/40 [00:11<00:00,  3.52it/s]\n",
      "100%|██████████| 40/40 [00:11<00:00,  3.50it/s]\n",
      "100%|██████████| 40/40 [00:11<00:00,  3.49it/s]\n",
      "100%|██████████| 40/40 [00:11<00:00,  3.50it/s]\n",
      "100%|██████████| 40/40 [00:11<00:00,  3.45it/s]\n",
      "100%|██████████| 40/40 [00:11<00:00,  3.51it/s]\n",
      "100%|██████████| 40/40 [00:11<00:00,  3.48it/s]\n",
      "100%|██████████| 40/40 [00:11<00:00,  3.50it/s]\n",
      "100%|██████████| 40/40 [00:11<00:00,  3.49it/s]\n",
      "100%|██████████| 40/40 [00:11<00:00,  3.48it/s]\n",
      "100%|██████████| 40/40 [00:11<00:00,  3.50it/s]\n",
      "100%|██████████| 40/40 [00:11<00:00,  3.50it/s]\n",
      "100%|██████████| 40/40 [00:11<00:00,  3.51it/s]\n",
      "100%|██████████| 40/40 [00:11<00:00,  3.51it/s]\n",
      "100%|██████████| 40/40 [00:11<00:00,  3.45it/s]\n",
      "100%|██████████| 40/40 [00:11<00:00,  3.51it/s]\n",
      "100%|██████████| 40/40 [00:11<00:00,  3.50it/s]\n",
      "100%|██████████| 40/40 [00:11<00:00,  3.50it/s]\n",
      "100%|██████████| 40/40 [00:11<00:00,  3.50it/s]\n",
      "100%|██████████| 40/40 [00:11<00:00,  3.51it/s]\n",
      "100%|██████████| 40/40 [00:11<00:00,  3.49it/s]\n",
      "100%|██████████| 40/40 [00:11<00:00,  3.49it/s]\n",
      "100%|██████████| 40/40 [00:11<00:00,  3.49it/s]\n",
      "100%|██████████| 40/40 [00:11<00:00,  3.50it/s]\n",
      "100%|██████████| 40/40 [00:11<00:00,  3.50it/s]\n",
      "100%|██████████| 40/40 [00:11<00:00,  3.46it/s]\n",
      "100%|██████████| 40/40 [00:11<00:00,  3.51it/s]\n",
      "100%|██████████| 40/40 [00:11<00:00,  3.51it/s]\n",
      "100%|██████████| 40/40 [00:11<00:00,  3.52it/s]\n",
      "100%|██████████| 40/40 [00:11<00:00,  3.52it/s]\n",
      "100%|██████████| 40/40 [00:11<00:00,  3.51it/s]\n",
      "100%|██████████| 40/40 [00:11<00:00,  3.52it/s]\n",
      "100%|██████████| 40/40 [00:11<00:00,  3.51it/s]\n",
      "100%|██████████| 40/40 [00:11<00:00,  3.52it/s]\n",
      "100%|██████████| 40/40 [00:11<00:00,  3.53it/s]\n",
      "100%|██████████| 40/40 [00:11<00:00,  3.49it/s]\n",
      "100%|██████████| 40/40 [00:11<00:00,  3.50it/s]\n",
      "100%|██████████| 40/40 [00:11<00:00,  3.50it/s]\n",
      "100%|██████████| 40/40 [00:11<00:00,  3.50it/s]\n",
      "100%|██████████| 40/40 [00:11<00:00,  3.50it/s]\n",
      "100%|██████████| 40/40 [00:11<00:00,  3.48it/s]\n",
      "100%|██████████| 40/40 [00:11<00:00,  3.48it/s]\n",
      "100%|██████████| 40/40 [00:11<00:00,  3.49it/s]\n",
      "100%|██████████| 40/40 [00:11<00:00,  3.50it/s]\n",
      "100%|██████████| 40/40 [00:11<00:00,  3.50it/s]\n",
      "100%|██████████| 40/40 [00:11<00:00,  3.49it/s]\n",
      "100%|██████████| 40/40 [00:11<00:00,  3.47it/s]\n",
      "100%|██████████| 40/40 [00:11<00:00,  3.48it/s]\n",
      "100%|██████████| 40/40 [00:11<00:00,  3.50it/s]\n",
      "100%|██████████| 40/40 [00:11<00:00,  3.48it/s]\n",
      "100%|██████████| 40/40 [00:11<00:00,  3.49it/s]\n",
      "100%|██████████| 40/40 [00:11<00:00,  3.50it/s]\n",
      "100%|██████████| 40/40 [00:11<00:00,  3.51it/s]\n",
      "100%|██████████| 40/40 [00:11<00:00,  3.52it/s]\n",
      "100%|██████████| 40/40 [00:11<00:00,  3.51it/s]\n",
      "100%|██████████| 40/40 [00:11<00:00,  3.48it/s]\n",
      "100%|██████████| 40/40 [00:11<00:00,  3.48it/s]\n",
      "100%|██████████| 40/40 [00:11<00:00,  3.49it/s]\n",
      "100%|██████████| 40/40 [00:11<00:00,  3.52it/s]\n",
      "100%|██████████| 40/40 [00:11<00:00,  3.51it/s]\n",
      "100%|██████████| 40/40 [00:11<00:00,  3.51it/s]\n",
      "100%|██████████| 40/40 [00:11<00:00,  3.53it/s]\n",
      "100%|██████████| 40/40 [00:11<00:00,  3.50it/s]\n",
      "100%|██████████| 40/40 [00:11<00:00,  3.50it/s]\n",
      "100%|██████████| 40/40 [00:11<00:00,  3.52it/s]\n",
      "100%|██████████| 40/40 [00:11<00:00,  3.52it/s]\n",
      "100%|██████████| 40/40 [00:11<00:00,  3.53it/s]\n",
      "100%|██████████| 40/40 [00:11<00:00,  3.48it/s]\n",
      "100%|██████████| 40/40 [00:11<00:00,  3.50it/s]\n",
      "100%|██████████| 40/40 [00:11<00:00,  3.49it/s]\n",
      "100%|██████████| 40/40 [00:11<00:00,  3.51it/s]\n",
      "100%|██████████| 40/40 [00:11<00:00,  3.52it/s]\n",
      "100%|██████████| 40/40 [00:11<00:00,  3.52it/s]\n",
      "100%|██████████| 40/40 [00:11<00:00,  3.52it/s]\n",
      "100%|██████████| 40/40 [00:11<00:00,  3.51it/s]\n",
      "100%|██████████| 40/40 [00:11<00:00,  3.49it/s]\n",
      "100%|██████████| 40/40 [00:11<00:00,  3.49it/s]\n",
      "100%|██████████| 40/40 [00:11<00:00,  3.50it/s]\n",
      "100%|██████████| 40/40 [00:11<00:00,  3.46it/s]\n",
      "100%|██████████| 40/40 [00:11<00:00,  3.47it/s]\n",
      "100%|██████████| 40/40 [00:11<00:00,  3.50it/s]\n",
      "100%|██████████| 40/40 [00:11<00:00,  3.51it/s]\n",
      "100%|██████████| 40/40 [00:11<00:00,  3.50it/s]\n",
      "100%|██████████| 40/40 [00:11<00:00,  3.52it/s]\n",
      "100%|██████████| 40/40 [00:11<00:00,  3.51it/s]\n",
      "100%|██████████| 40/40 [00:11<00:00,  3.51it/s]\n",
      "100%|██████████| 40/40 [00:11<00:00,  3.53it/s]\n",
      "100%|██████████| 40/40 [00:11<00:00,  3.51it/s]\n",
      "100%|██████████| 40/40 [00:11<00:00,  3.48it/s]\n",
      "100%|██████████| 40/40 [00:11<00:00,  3.52it/s]\n",
      "100%|██████████| 40/40 [00:11<00:00,  3.52it/s]\n",
      "100%|██████████| 40/40 [00:11<00:00,  3.50it/s]\n",
      "100%|██████████| 40/40 [00:11<00:00,  3.49it/s]\n",
      "100%|██████████| 40/40 [00:11<00:00,  3.48it/s]\n",
      "100%|██████████| 40/40 [00:11<00:00,  3.48it/s]\n",
      "100%|██████████| 40/40 [00:11<00:00,  3.51it/s]\n",
      "100%|██████████| 40/40 [00:11<00:00,  3.49it/s]\n",
      "100%|██████████| 40/40 [00:11<00:00,  3.51it/s]\n",
      "100%|██████████| 40/40 [00:11<00:00,  3.52it/s]\n",
      "100%|██████████| 40/40 [00:11<00:00,  3.48it/s]\n",
      "100%|██████████| 40/40 [00:11<00:00,  3.51it/s]\n",
      "100%|██████████| 40/40 [00:11<00:00,  3.50it/s]\n",
      "100%|██████████| 40/40 [00:11<00:00,  3.50it/s]\n",
      "100%|██████████| 40/40 [00:11<00:00,  3.52it/s]\n",
      "100%|██████████| 40/40 [00:11<00:00,  3.51it/s]\n",
      "100%|██████████| 40/40 [00:11<00:00,  3.52it/s]\n",
      "100%|██████████| 40/40 [00:11<00:00,  3.51it/s]\n",
      "100%|██████████| 40/40 [00:11<00:00,  3.53it/s]\n",
      "100%|██████████| 40/40 [00:11<00:00,  3.52it/s]\n",
      "100%|██████████| 40/40 [00:11<00:00,  3.50it/s]\n",
      "100%|██████████| 40/40 [00:11<00:00,  3.51it/s]\n",
      "100%|██████████| 40/40 [00:11<00:00,  3.51it/s]\n",
      "100%|██████████| 40/40 [00:11<00:00,  3.52it/s]\n",
      "100%|██████████| 40/40 [00:11<00:00,  3.52it/s]\n",
      "100%|██████████| 40/40 [00:11<00:00,  3.51it/s]\n",
      "100%|██████████| 40/40 [00:11<00:00,  3.50it/s]\n",
      "100%|██████████| 40/40 [00:11<00:00,  3.50it/s]\n",
      "100%|██████████| 40/40 [00:11<00:00,  3.53it/s]\n",
      "100%|██████████| 40/40 [00:11<00:00,  3.52it/s]\n",
      "100%|██████████| 40/40 [00:11<00:00,  3.52it/s]\n",
      "100%|██████████| 40/40 [00:11<00:00,  3.49it/s]\n",
      "100%|██████████| 40/40 [00:11<00:00,  3.52it/s]\n",
      "100%|██████████| 40/40 [00:11<00:00,  3.51it/s]\n",
      "100%|██████████| 40/40 [00:11<00:00,  3.49it/s]\n",
      "100%|██████████| 40/40 [00:11<00:00,  3.50it/s]\n",
      "100%|██████████| 40/40 [00:11<00:00,  3.49it/s]\n",
      "100%|██████████| 40/40 [00:11<00:00,  3.50it/s]\n",
      "100%|██████████| 40/40 [00:11<00:00,  3.50it/s]\n",
      "100%|██████████| 40/40 [00:11<00:00,  3.49it/s]\n",
      "100%|██████████| 40/40 [00:11<00:00,  3.51it/s]\n",
      "100%|██████████| 40/40 [00:11<00:00,  3.51it/s]\n",
      "100%|██████████| 40/40 [00:11<00:00,  3.48it/s]\n",
      "100%|██████████| 40/40 [00:11<00:00,  3.48it/s]\n",
      "100%|██████████| 40/40 [00:11<00:00,  3.50it/s]\n",
      "100%|██████████| 40/40 [00:11<00:00,  3.48it/s]\n",
      "100%|██████████| 40/40 [00:11<00:00,  3.50it/s]\n",
      "100%|██████████| 40/40 [00:11<00:00,  3.50it/s]\n",
      "100%|██████████| 40/40 [00:11<00:00,  3.49it/s]\n",
      "100%|██████████| 40/40 [00:11<00:00,  3.47it/s]\n",
      "100%|██████████| 40/40 [00:11<00:00,  3.49it/s]\n",
      "100%|██████████| 40/40 [00:11<00:00,  3.51it/s]\n",
      "100%|██████████| 40/40 [00:11<00:00,  3.47it/s]\n",
      "100%|██████████| 40/40 [00:11<00:00,  3.49it/s]\n",
      "100%|██████████| 40/40 [00:11<00:00,  3.50it/s]\n",
      "100%|██████████| 40/40 [00:11<00:00,  3.49it/s]\n",
      "100%|██████████| 40/40 [00:11<00:00,  3.51it/s]\n",
      "100%|██████████| 40/40 [00:11<00:00,  3.50it/s]\n",
      "100%|██████████| 40/40 [00:11<00:00,  3.50it/s]\n",
      "100%|██████████| 40/40 [00:11<00:00,  3.50it/s]\n",
      "100%|██████████| 40/40 [00:11<00:00,  3.51it/s]\n",
      "100%|██████████| 40/40 [00:11<00:00,  3.50it/s]\n",
      "100%|██████████| 40/40 [00:11<00:00,  3.52it/s]\n",
      "100%|██████████| 40/40 [00:11<00:00,  3.46it/s]\n",
      "100%|██████████| 40/40 [00:11<00:00,  3.49it/s]\n",
      "100%|██████████| 40/40 [00:11<00:00,  3.50it/s]\n",
      "100%|██████████| 40/40 [00:11<00:00,  3.51it/s]\n",
      "100%|██████████| 40/40 [00:11<00:00,  3.51it/s]\n",
      "100%|██████████| 40/40 [00:11<00:00,  3.52it/s]\n",
      "100%|██████████| 40/40 [00:11<00:00,  3.53it/s]\n",
      "100%|██████████| 40/40 [00:11<00:00,  3.50it/s]\n",
      "100%|██████████| 40/40 [00:11<00:00,  3.52it/s]\n",
      "100%|██████████| 40/40 [00:11<00:00,  3.51it/s]\n",
      "100%|██████████| 40/40 [00:11<00:00,  3.46it/s]\n",
      "100%|██████████| 40/40 [00:11<00:00,  3.50it/s]\n",
      "100%|██████████| 40/40 [00:11<00:00,  3.50it/s]\n",
      "100%|██████████| 40/40 [00:11<00:00,  3.52it/s]\n",
      "100%|██████████| 40/40 [00:11<00:00,  3.49it/s]\n",
      "100%|██████████| 40/40 [00:11<00:00,  3.51it/s]\n",
      "100%|██████████| 40/40 [00:11<00:00,  3.50it/s]\n",
      "100%|██████████| 40/40 [00:11<00:00,  3.50it/s]\n",
      "100%|██████████| 40/40 [00:11<00:00,  3.49it/s]\n",
      "100%|██████████| 40/40 [00:11<00:00,  3.49it/s]\n",
      "100%|██████████| 40/40 [00:11<00:00,  3.49it/s]\n",
      "100%|██████████| 40/40 [00:11<00:00,  3.45it/s]\n",
      "100%|██████████| 40/40 [00:11<00:00,  3.51it/s]\n",
      "100%|██████████| 40/40 [00:11<00:00,  3.51it/s]\n",
      "100%|██████████| 40/40 [00:11<00:00,  3.52it/s]\n",
      "100%|██████████| 40/40 [00:11<00:00,  3.51it/s]\n",
      "100%|██████████| 40/40 [00:11<00:00,  3.50it/s]\n",
      "100%|██████████| 40/40 [00:11<00:00,  3.50it/s]\n",
      "100%|██████████| 40/40 [00:11<00:00,  3.50it/s]\n",
      "100%|██████████| 40/40 [00:11<00:00,  3.50it/s]\n",
      "100%|██████████| 40/40 [00:11<00:00,  3.50it/s]\n",
      "100%|██████████| 40/40 [00:11<00:00,  3.45it/s]\n",
      "100%|██████████| 40/40 [00:11<00:00,  3.50it/s]\n",
      "100%|██████████| 40/40 [00:11<00:00,  3.50it/s]\n",
      "100%|██████████| 40/40 [00:11<00:00,  3.49it/s]\n",
      "100%|██████████| 40/40 [00:11<00:00,  3.49it/s]\n",
      "100%|██████████| 40/40 [00:11<00:00,  3.49it/s]\n",
      "100%|██████████| 40/40 [00:11<00:00,  3.50it/s]\n",
      "100%|██████████| 40/40 [00:11<00:00,  3.50it/s]\n",
      "100%|██████████| 40/40 [00:11<00:00,  3.51it/s]\n",
      "100%|██████████| 40/40 [00:11<00:00,  3.52it/s]\n",
      "100%|██████████| 40/40 [00:11<00:00,  3.52it/s]\n",
      "100%|██████████| 40/40 [00:11<00:00,  3.48it/s]\n",
      "100%|██████████| 40/40 [00:11<00:00,  3.52it/s]\n",
      "100%|██████████| 40/40 [00:11<00:00,  3.52it/s]\n",
      "100%|██████████| 40/40 [00:11<00:00,  3.51it/s]\n",
      "100%|██████████| 40/40 [00:11<00:00,  3.49it/s]\n",
      "100%|██████████| 40/40 [00:11<00:00,  3.49it/s]\n",
      "100%|██████████| 40/40 [00:11<00:00,  3.50it/s]\n",
      "100%|██████████| 40/40 [00:11<00:00,  3.48it/s]\n",
      "100%|██████████| 40/40 [00:11<00:00,  3.49it/s]\n",
      "100%|██████████| 40/40 [00:11<00:00,  3.52it/s]\n",
      "100%|██████████| 40/40 [00:11<00:00,  3.44it/s]\n",
      "100%|██████████| 40/40 [00:11<00:00,  3.49it/s]\n",
      "100%|██████████| 40/40 [00:11<00:00,  3.49it/s]\n",
      "100%|██████████| 40/40 [00:11<00:00,  3.50it/s]\n",
      "100%|██████████| 40/40 [00:11<00:00,  3.50it/s]\n",
      "100%|██████████| 40/40 [00:11<00:00,  3.49it/s]\n",
      "100%|██████████| 40/40 [00:11<00:00,  3.52it/s]\n",
      "100%|██████████| 40/40 [00:11<00:00,  3.49it/s]\n",
      "100%|██████████| 40/40 [00:11<00:00,  3.49it/s]\n",
      "100%|██████████| 40/40 [00:11<00:00,  3.50it/s]\n",
      "100%|██████████| 40/40 [00:11<00:00,  3.49it/s]\n",
      "100%|██████████| 40/40 [00:11<00:00,  3.46it/s]\n",
      "100%|██████████| 40/40 [00:11<00:00,  3.52it/s]\n",
      "100%|██████████| 40/40 [00:11<00:00,  3.51it/s]\n",
      "100%|██████████| 40/40 [00:11<00:00,  3.51it/s]\n",
      "100%|██████████| 40/40 [00:11<00:00,  3.51it/s]\n",
      "100%|██████████| 40/40 [00:11<00:00,  3.53it/s]\n",
      "100%|██████████| 40/40 [00:11<00:00,  3.52it/s]\n",
      "100%|██████████| 40/40 [00:11<00:00,  3.51it/s]\n",
      "100%|██████████| 40/40 [00:11<00:00,  3.48it/s]\n",
      "100%|██████████| 40/40 [00:11<00:00,  3.49it/s]\n",
      "100%|██████████| 40/40 [00:11<00:00,  3.46it/s]\n",
      "100%|██████████| 40/40 [00:11<00:00,  3.48it/s]\n",
      "100%|██████████| 40/40 [00:11<00:00,  3.50it/s]\n",
      "100%|██████████| 40/40 [00:11<00:00,  3.52it/s]\n",
      "100%|██████████| 40/40 [00:11<00:00,  3.52it/s]\n",
      "100%|██████████| 40/40 [00:11<00:00,  3.51it/s]\n",
      "100%|██████████| 40/40 [00:11<00:00,  3.50it/s]\n",
      "100%|██████████| 40/40 [00:11<00:00,  3.51it/s]\n",
      "100%|██████████| 40/40 [00:11<00:00,  3.52it/s]\n",
      "100%|██████████| 40/40 [00:11<00:00,  3.51it/s]\n",
      "100%|██████████| 40/40 [00:11<00:00,  3.51it/s]\n",
      "100%|██████████| 40/40 [00:11<00:00,  3.45it/s]\n",
      "100%|██████████| 40/40 [00:11<00:00,  3.51it/s]\n",
      "100%|██████████| 40/40 [00:11<00:00,  3.49it/s]\n",
      "100%|██████████| 40/40 [00:11<00:00,  3.50it/s]\n",
      "100%|██████████| 40/40 [00:11<00:00,  3.49it/s]\n",
      "100%|██████████| 40/40 [00:11<00:00,  3.50it/s]\n",
      "100%|██████████| 40/40 [00:11<00:00,  3.50it/s]\n",
      "100%|██████████| 40/40 [00:11<00:00,  3.49it/s]\n",
      "100%|██████████| 40/40 [00:11<00:00,  3.49it/s]\n",
      "100%|██████████| 40/40 [00:11<00:00,  3.49it/s]\n",
      "100%|██████████| 40/40 [00:11<00:00,  3.50it/s]\n",
      "100%|██████████| 40/40 [00:11<00:00,  3.45it/s]\n",
      "100%|██████████| 40/40 [00:11<00:00,  3.51it/s]\n",
      "100%|██████████| 40/40 [00:11<00:00,  3.52it/s]\n",
      "100%|██████████| 40/40 [00:11<00:00,  3.51it/s]\n",
      "100%|██████████| 40/40 [00:11<00:00,  3.52it/s]\n",
      "100%|██████████| 40/40 [00:11<00:00,  3.51it/s]\n",
      "100%|██████████| 40/40 [00:11<00:00,  3.52it/s]\n",
      "100%|██████████| 40/40 [00:11<00:00,  3.50it/s]\n",
      "100%|██████████| 40/40 [00:11<00:00,  3.48it/s]\n",
      "100%|██████████| 40/40 [00:11<00:00,  3.50it/s]\n",
      "100%|██████████| 40/40 [00:11<00:00,  3.47it/s]\n",
      "100%|██████████| 40/40 [00:11<00:00,  3.49it/s]\n",
      "100%|██████████| 40/40 [00:11<00:00,  3.50it/s]\n",
      "100%|██████████| 40/40 [00:11<00:00,  3.50it/s]\n",
      "100%|██████████| 40/40 [00:11<00:00,  3.51it/s]\n",
      "100%|██████████| 40/40 [00:11<00:00,  3.49it/s]\n",
      "100%|██████████| 40/40 [00:11<00:00,  3.48it/s]\n",
      "100%|██████████| 40/40 [00:11<00:00,  3.49it/s]\n",
      "100%|██████████| 40/40 [00:11<00:00,  3.49it/s]\n",
      "100%|██████████| 40/40 [00:11<00:00,  3.50it/s]\n",
      "100%|██████████| 40/40 [00:11<00:00,  3.49it/s]\n",
      "100%|██████████| 40/40 [00:11<00:00,  3.45it/s]\n",
      "100%|██████████| 40/40 [00:11<00:00,  3.51it/s]\n",
      "100%|██████████| 40/40 [00:11<00:00,  3.49it/s]\n",
      "100%|██████████| 40/40 [00:11<00:00,  3.49it/s]\n",
      "100%|██████████| 40/40 [00:11<00:00,  3.51it/s]\n",
      "100%|██████████| 40/40 [00:11<00:00,  3.49it/s]\n",
      "100%|██████████| 40/40 [00:11<00:00,  3.49it/s]\n",
      "100%|██████████| 40/40 [00:11<00:00,  3.48it/s]\n",
      "100%|██████████| 40/40 [00:11<00:00,  3.48it/s]\n",
      "100%|██████████| 40/40 [00:11<00:00,  3.49it/s]\n",
      "100%|██████████| 40/40 [00:11<00:00,  3.47it/s]\n",
      "100%|██████████| 40/40 [00:11<00:00,  3.51it/s]\n",
      "100%|██████████| 40/40 [00:11<00:00,  3.50it/s]\n",
      "100%|██████████| 40/40 [00:11<00:00,  3.49it/s]\n",
      "100%|██████████| 40/40 [00:11<00:00,  3.49it/s]\n",
      "100%|██████████| 40/40 [00:11<00:00,  3.49it/s]\n",
      "100%|██████████| 40/40 [00:11<00:00,  3.50it/s]\n",
      "100%|██████████| 40/40 [00:11<00:00,  3.50it/s]\n",
      "100%|██████████| 40/40 [00:11<00:00,  3.51it/s]\n",
      "100%|██████████| 40/40 [00:11<00:00,  3.49it/s]\n",
      "100%|██████████| 40/40 [00:11<00:00,  3.49it/s]\n",
      "100%|██████████| 40/40 [00:11<00:00,  3.45it/s]\n",
      "100%|██████████| 40/40 [00:11<00:00,  3.48it/s]\n",
      "100%|██████████| 40/40 [00:11<00:00,  3.50it/s]\n",
      "100%|██████████| 40/40 [00:11<00:00,  3.50it/s]\n",
      "100%|██████████| 40/40 [00:11<00:00,  3.48it/s]\n",
      "100%|██████████| 40/40 [00:11<00:00,  3.50it/s]\n",
      "100%|██████████| 40/40 [00:11<00:00,  3.52it/s]\n",
      "100%|██████████| 40/40 [00:11<00:00,  3.51it/s]\n",
      "100%|██████████| 40/40 [00:11<00:00,  3.49it/s]\n",
      "100%|██████████| 40/40 [00:11<00:00,  3.48it/s]\n",
      "100%|██████████| 40/40 [00:11<00:00,  3.43it/s]\n",
      "100%|██████████| 40/40 [00:11<00:00,  3.49it/s]\n",
      "100%|██████████| 40/40 [00:11<00:00,  3.49it/s]\n",
      "100%|██████████| 40/40 [00:11<00:00,  3.50it/s]\n",
      "100%|██████████| 40/40 [00:11<00:00,  3.49it/s]\n",
      "100%|██████████| 40/40 [00:11<00:00,  3.49it/s]\n",
      "100%|██████████| 40/40 [00:11<00:00,  3.50it/s]\n",
      "100%|██████████| 40/40 [00:11<00:00,  3.52it/s]\n",
      "100%|██████████| 40/40 [00:11<00:00,  3.51it/s]\n",
      "100%|██████████| 40/40 [00:11<00:00,  3.50it/s]\n",
      "100%|██████████| 40/40 [00:11<00:00,  3.49it/s]\n",
      "100%|██████████| 40/40 [00:11<00:00,  3.46it/s]\n",
      "100%|██████████| 40/40 [00:11<00:00,  3.49it/s]\n",
      "100%|██████████| 40/40 [00:11<00:00,  3.50it/s]\n",
      "100%|██████████| 40/40 [00:11<00:00,  3.51it/s]\n",
      "100%|██████████| 40/40 [00:11<00:00,  3.49it/s]\n",
      "100%|██████████| 40/40 [00:11<00:00,  3.50it/s]\n",
      "100%|██████████| 40/40 [00:11<00:00,  3.50it/s]\n",
      "100%|██████████| 40/40 [00:11<00:00,  3.50it/s]\n",
      "100%|██████████| 40/40 [00:11<00:00,  3.50it/s]\n",
      "100%|██████████| 40/40 [00:11<00:00,  3.50it/s]\n",
      "100%|██████████| 40/40 [00:11<00:00,  3.50it/s]\n",
      "100%|██████████| 40/40 [00:11<00:00,  3.52it/s]\n",
      "100%|██████████| 40/40 [00:11<00:00,  3.49it/s]\n",
      "100%|██████████| 40/40 [00:11<00:00,  3.49it/s]\n",
      "100%|██████████| 40/40 [00:11<00:00,  3.49it/s]\n",
      "100%|██████████| 40/40 [00:11<00:00,  3.50it/s]\n",
      "100%|██████████| 40/40 [00:11<00:00,  3.51it/s]\n",
      "100%|██████████| 40/40 [00:11<00:00,  3.50it/s]\n",
      "100%|██████████| 40/40 [00:11<00:00,  3.48it/s]\n",
      "100%|██████████| 40/40 [00:11<00:00,  3.50it/s]\n",
      "100%|██████████| 40/40 [00:11<00:00,  3.50it/s]\n",
      "100%|██████████| 40/40 [00:11<00:00,  3.46it/s]\n",
      "100%|██████████| 40/40 [00:11<00:00,  3.50it/s]\n",
      "100%|██████████| 40/40 [00:11<00:00,  3.48it/s]\n",
      "100%|██████████| 40/40 [00:11<00:00,  3.48it/s]\n",
      "100%|██████████| 40/40 [00:11<00:00,  3.48it/s]\n",
      "100%|██████████| 40/40 [00:11<00:00,  3.51it/s]\n",
      "100%|██████████| 40/40 [00:11<00:00,  3.51it/s]\n",
      "100%|██████████| 40/40 [00:11<00:00,  3.52it/s]\n",
      "100%|██████████| 40/40 [00:11<00:00,  3.52it/s]\n",
      "100%|██████████| 40/40 [00:11<00:00,  3.50it/s]\n",
      "100%|██████████| 40/40 [00:11<00:00,  3.50it/s]\n",
      "100%|██████████| 40/40 [00:11<00:00,  3.46it/s]\n",
      "100%|██████████| 40/40 [00:11<00:00,  3.50it/s]\n",
      "100%|██████████| 40/40 [00:11<00:00,  3.50it/s]\n",
      "100%|██████████| 40/40 [00:11<00:00,  3.51it/s]\n",
      "100%|██████████| 40/40 [00:11<00:00,  3.50it/s]\n",
      "100%|██████████| 40/40 [00:11<00:00,  3.49it/s]\n",
      "100%|██████████| 40/40 [00:11<00:00,  3.49it/s]\n",
      "100%|██████████| 40/40 [00:11<00:00,  3.50it/s]\n",
      "100%|██████████| 40/40 [00:11<00:00,  3.49it/s]\n",
      "100%|██████████| 40/40 [00:11<00:00,  3.49it/s]\n",
      "100%|██████████| 40/40 [00:11<00:00,  3.50it/s]\n",
      "100%|██████████| 40/40 [00:11<00:00,  3.50it/s]\n",
      "100%|██████████| 40/40 [00:11<00:00,  3.49it/s]\n",
      "100%|██████████| 40/40 [00:11<00:00,  3.49it/s]\n",
      "100%|██████████| 40/40 [00:11<00:00,  3.49it/s]\n",
      "100%|██████████| 40/40 [00:11<00:00,  3.50it/s]\n",
      "100%|██████████| 40/40 [00:11<00:00,  3.51it/s]\n",
      "100%|██████████| 40/40 [00:11<00:00,  3.51it/s]\n",
      "100%|██████████| 40/40 [00:11<00:00,  3.51it/s]\n",
      "100%|██████████| 40/40 [00:11<00:00,  3.51it/s]\n",
      "100%|██████████| 40/40 [00:11<00:00,  3.51it/s]\n",
      "100%|██████████| 40/40 [00:11<00:00,  3.47it/s]\n",
      "100%|██████████| 40/40 [00:11<00:00,  3.51it/s]\n",
      "100%|██████████| 40/40 [00:11<00:00,  3.50it/s]\n",
      "100%|██████████| 40/40 [00:11<00:00,  3.51it/s]\n",
      "100%|██████████| 40/40 [00:11<00:00,  3.52it/s]\n",
      "100%|██████████| 40/40 [00:11<00:00,  3.51it/s]\n",
      "100%|██████████| 40/40 [00:11<00:00,  3.51it/s]\n",
      "100%|██████████| 40/40 [00:11<00:00,  3.49it/s]\n",
      "100%|██████████| 40/40 [00:11<00:00,  3.48it/s]\n",
      "100%|██████████| 40/40 [00:11<00:00,  3.50it/s]\n",
      "100%|██████████| 40/40 [00:11<00:00,  3.48it/s]\n",
      "100%|██████████| 40/40 [00:11<00:00,  3.48it/s]\n",
      "100%|██████████| 40/40 [00:11<00:00,  3.50it/s]\n",
      "100%|██████████| 40/40 [00:11<00:00,  3.49it/s]\n",
      "100%|██████████| 40/40 [00:11<00:00,  3.48it/s]\n",
      "100%|██████████| 40/40 [00:11<00:00,  3.50it/s]\n",
      "100%|██████████| 40/40 [00:11<00:00,  3.49it/s]\n",
      "100%|██████████| 40/40 [00:11<00:00,  3.50it/s]\n",
      "100%|██████████| 40/40 [00:11<00:00,  3.49it/s]\n",
      "100%|██████████| 40/40 [00:11<00:00,  3.50it/s]\n",
      "100%|██████████| 40/40 [00:11<00:00,  3.49it/s]\n",
      "100%|██████████| 40/40 [00:11<00:00,  3.45it/s]\n",
      "100%|██████████| 40/40 [00:11<00:00,  3.51it/s]\n",
      "100%|██████████| 40/40 [00:11<00:00,  3.53it/s]\n",
      "100%|██████████| 40/40 [00:11<00:00,  3.51it/s]\n",
      "100%|██████████| 40/40 [00:11<00:00,  3.51it/s]\n",
      "100%|██████████| 40/40 [00:11<00:00,  3.51it/s]\n",
      "100%|██████████| 40/40 [00:11<00:00,  3.52it/s]\n",
      "100%|██████████| 40/40 [00:11<00:00,  3.52it/s]\n",
      "100%|██████████| 40/40 [00:11<00:00,  3.52it/s]\n",
      "100%|██████████| 40/40 [00:11<00:00,  3.51it/s]\n",
      "100%|██████████| 40/40 [00:11<00:00,  3.49it/s]\n",
      "100%|██████████| 40/40 [00:11<00:00,  3.50it/s]\n",
      "100%|██████████| 40/40 [00:11<00:00,  3.50it/s]\n",
      "100%|██████████| 40/40 [00:11<00:00,  3.50it/s]\n",
      "100%|██████████| 40/40 [00:11<00:00,  3.50it/s]\n",
      "100%|██████████| 40/40 [00:11<00:00,  3.50it/s]\n",
      "100%|██████████| 40/40 [00:11<00:00,  3.49it/s]\n",
      "100%|██████████| 40/40 [00:11<00:00,  3.49it/s]\n",
      "100%|██████████| 40/40 [00:11<00:00,  3.50it/s]\n",
      "100%|██████████| 40/40 [00:11<00:00,  3.50it/s]\n",
      "100%|██████████| 40/40 [00:11<00:00,  3.50it/s]\n",
      "100%|██████████| 40/40 [00:11<00:00,  3.47it/s]\n",
      "100%|██████████| 40/40 [00:11<00:00,  3.48it/s]\n",
      "100%|██████████| 40/40 [00:11<00:00,  3.48it/s]\n",
      "100%|██████████| 40/40 [00:11<00:00,  3.51it/s]\n",
      "100%|██████████| 40/40 [00:11<00:00,  3.49it/s]\n",
      "100%|██████████| 40/40 [00:11<00:00,  3.49it/s]\n",
      "100%|██████████| 40/40 [00:11<00:00,  3.49it/s]\n",
      "100%|██████████| 40/40 [00:11<00:00,  3.48it/s]\n",
      "100%|██████████| 40/40 [00:11<00:00,  3.49it/s]\n",
      "100%|██████████| 40/40 [00:11<00:00,  3.51it/s]\n",
      "100%|██████████| 40/40 [00:11<00:00,  3.51it/s]\n",
      "100%|██████████| 40/40 [00:11<00:00,  3.52it/s]\n",
      "100%|██████████| 40/40 [00:11<00:00,  3.52it/s]\n",
      "100%|██████████| 40/40 [00:11<00:00,  3.51it/s]\n",
      "100%|██████████| 40/40 [00:11<00:00,  3.50it/s]\n",
      "100%|██████████| 40/40 [00:11<00:00,  3.50it/s]\n",
      "100%|██████████| 40/40 [00:11<00:00,  3.51it/s]\n",
      "100%|██████████| 40/40 [00:11<00:00,  3.49it/s]\n",
      "100%|██████████| 40/40 [00:11<00:00,  3.48it/s]\n",
      "100%|██████████| 40/40 [00:11<00:00,  3.49it/s]\n",
      "100%|██████████| 40/40 [00:11<00:00,  3.50it/s]\n",
      "100%|██████████| 40/40 [00:11<00:00,  3.46it/s]\n",
      "100%|██████████| 40/40 [00:11<00:00,  3.51it/s]\n",
      "100%|██████████| 40/40 [00:11<00:00,  3.50it/s]\n",
      "100%|██████████| 40/40 [00:11<00:00,  3.49it/s]\n",
      "100%|██████████| 40/40 [00:11<00:00,  3.50it/s]\n",
      "100%|██████████| 40/40 [00:11<00:00,  3.50it/s]\n",
      "100%|██████████| 40/40 [00:11<00:00,  3.50it/s]\n",
      "100%|██████████| 40/40 [00:11<00:00,  3.50it/s]\n",
      "100%|██████████| 40/40 [00:11<00:00,  3.50it/s]\n",
      "100%|██████████| 40/40 [00:11<00:00,  3.52it/s]\n",
      "100%|██████████| 40/40 [00:11<00:00,  3.48it/s]\n",
      "100%|██████████| 40/40 [00:11<00:00,  3.52it/s]\n",
      "100%|██████████| 40/40 [00:11<00:00,  3.52it/s]\n",
      "100%|██████████| 40/40 [00:11<00:00,  3.51it/s]\n",
      "100%|██████████| 40/40 [00:11<00:00,  3.51it/s]\n",
      "100%|██████████| 40/40 [00:11<00:00,  3.48it/s]\n",
      "100%|██████████| 40/40 [00:11<00:00,  3.51it/s]\n",
      "100%|██████████| 40/40 [00:11<00:00,  3.48it/s]\n",
      "100%|██████████| 40/40 [00:11<00:00,  3.50it/s]\n",
      "100%|██████████| 40/40 [00:11<00:00,  3.49it/s]\n",
      "100%|██████████| 40/40 [00:11<00:00,  3.50it/s]\n",
      "100%|██████████| 40/40 [00:11<00:00,  3.47it/s]\n",
      "100%|██████████| 40/40 [00:11<00:00,  3.51it/s]\n",
      "100%|██████████| 40/40 [00:11<00:00,  3.50it/s]\n",
      "100%|██████████| 40/40 [00:11<00:00,  3.51it/s]\n",
      "100%|██████████| 40/40 [00:11<00:00,  3.49it/s]\n",
      "100%|██████████| 40/40 [00:11<00:00,  3.51it/s]\n",
      "100%|██████████| 40/40 [00:11<00:00,  3.50it/s]\n",
      "100%|██████████| 40/40 [00:11<00:00,  3.51it/s]\n",
      "100%|██████████| 40/40 [00:11<00:00,  3.50it/s]\n",
      "100%|██████████| 40/40 [00:11<00:00,  3.49it/s]\n",
      "100%|██████████| 40/40 [00:11<00:00,  3.49it/s]\n",
      "100%|██████████| 40/40 [00:11<00:00,  3.46it/s]\n",
      "100%|██████████| 40/40 [00:11<00:00,  3.48it/s]\n",
      "100%|██████████| 40/40 [00:11<00:00,  3.50it/s]\n",
      "100%|██████████| 40/40 [00:11<00:00,  3.49it/s]\n",
      "100%|██████████| 40/40 [00:11<00:00,  3.53it/s]\n",
      "100%|██████████| 40/40 [00:11<00:00,  3.51it/s]\n",
      "100%|██████████| 40/40 [00:11<00:00,  3.52it/s]\n",
      "100%|██████████| 40/40 [00:11<00:00,  3.51it/s]\n",
      "100%|██████████| 40/40 [00:11<00:00,  3.51it/s]\n",
      "100%|██████████| 40/40 [00:11<00:00,  3.53it/s]\n",
      "100%|██████████| 40/40 [00:11<00:00,  3.49it/s]\n",
      "100%|██████████| 40/40 [00:11<00:00,  3.53it/s]\n",
      "100%|██████████| 40/40 [00:11<00:00,  3.52it/s]\n",
      "100%|██████████| 40/40 [00:11<00:00,  3.49it/s]\n",
      "100%|██████████| 40/40 [00:11<00:00,  3.48it/s]\n",
      "100%|██████████| 40/40 [00:11<00:00,  3.50it/s]\n",
      "100%|██████████| 40/40 [00:11<00:00,  3.49it/s]\n",
      "100%|██████████| 40/40 [00:11<00:00,  3.49it/s]\n",
      "100%|██████████| 40/40 [00:11<00:00,  3.50it/s]\n",
      "100%|██████████| 40/40 [00:11<00:00,  3.52it/s]\n",
      "100%|██████████| 40/40 [00:11<00:00,  3.50it/s]\n",
      "100%|██████████| 40/40 [00:11<00:00,  3.47it/s]\n",
      "100%|██████████| 40/40 [00:11<00:00,  3.50it/s]\n",
      "100%|██████████| 40/40 [00:11<00:00,  3.49it/s]\n",
      "100%|██████████| 40/40 [00:11<00:00,  3.50it/s]\n",
      "100%|██████████| 40/40 [00:11<00:00,  3.49it/s]\n",
      "100%|██████████| 40/40 [00:11<00:00,  3.50it/s]\n",
      "100%|██████████| 40/40 [00:11<00:00,  3.53it/s]\n",
      "100%|██████████| 40/40 [00:11<00:00,  3.51it/s]\n",
      "100%|██████████| 40/40 [00:11<00:00,  3.50it/s]\n",
      "100%|██████████| 40/40 [00:11<00:00,  3.51it/s]\n",
      "100%|██████████| 40/40 [00:11<00:00,  3.45it/s]\n",
      "100%|██████████| 40/40 [00:11<00:00,  3.49it/s]\n",
      "100%|██████████| 40/40 [00:11<00:00,  3.50it/s]\n",
      "100%|██████████| 40/40 [00:11<00:00,  3.49it/s]\n",
      "100%|██████████| 40/40 [00:11<00:00,  3.50it/s]\n",
      "100%|██████████| 40/40 [00:11<00:00,  3.50it/s]\n",
      "100%|██████████| 40/40 [00:11<00:00,  3.49it/s]\n",
      "100%|██████████| 40/40 [00:11<00:00,  3.50it/s]\n",
      "100%|██████████| 40/40 [00:11<00:00,  3.50it/s]\n",
      "100%|██████████| 40/40 [00:11<00:00,  3.48it/s]\n",
      "100%|██████████| 40/40 [00:11<00:00,  3.50it/s]\n",
      "100%|██████████| 40/40 [00:11<00:00,  3.44it/s]\n",
      "100%|██████████| 40/40 [00:11<00:00,  3.51it/s]\n",
      "100%|██████████| 40/40 [00:11<00:00,  3.50it/s]\n",
      "100%|██████████| 40/40 [00:11<00:00,  3.49it/s]\n",
      "100%|██████████| 40/40 [00:11<00:00,  3.49it/s]\n",
      "100%|██████████| 40/40 [00:11<00:00,  3.49it/s]\n",
      "100%|██████████| 40/40 [00:11<00:00,  3.50it/s]\n",
      "100%|██████████| 40/40 [00:11<00:00,  3.50it/s]\n",
      "100%|██████████| 40/40 [00:11<00:00,  3.49it/s]\n",
      "100%|██████████| 40/40 [00:11<00:00,  3.50it/s]\n",
      "100%|██████████| 40/40 [00:11<00:00,  3.47it/s]\n",
      "100%|██████████| 40/40 [00:11<00:00,  3.50it/s]\n",
      "100%|██████████| 40/40 [00:11<00:00,  3.49it/s]\n",
      "100%|██████████| 40/40 [00:11<00:00,  3.50it/s]\n",
      "100%|██████████| 40/40 [00:11<00:00,  3.50it/s]\n",
      "100%|██████████| 40/40 [00:11<00:00,  3.49it/s]\n",
      "100%|██████████| 40/40 [00:11<00:00,  3.51it/s]\n",
      "100%|██████████| 40/40 [00:11<00:00,  3.49it/s]\n",
      "100%|██████████| 40/40 [00:11<00:00,  3.50it/s]\n",
      "100%|██████████| 40/40 [00:11<00:00,  3.49it/s]\n",
      "100%|██████████| 40/40 [00:11<00:00,  3.49it/s]\n",
      "100%|██████████| 40/40 [00:11<00:00,  3.48it/s]\n",
      "100%|██████████| 40/40 [00:11<00:00,  3.52it/s]\n",
      "100%|██████████| 40/40 [00:11<00:00,  3.49it/s]\n",
      "100%|██████████| 40/40 [00:11<00:00,  3.48it/s]\n",
      "100%|██████████| 40/40 [00:11<00:00,  3.49it/s]\n",
      "100%|██████████| 40/40 [00:11<00:00,  3.49it/s]\n",
      "100%|██████████| 40/40 [00:11<00:00,  3.49it/s]\n",
      "100%|██████████| 40/40 [00:11<00:00,  3.51it/s]\n",
      "100%|██████████| 40/40 [00:11<00:00,  3.51it/s]\n",
      "100%|██████████| 40/40 [00:11<00:00,  3.52it/s]\n",
      "100%|██████████| 40/40 [00:11<00:00,  3.51it/s]\n",
      "100%|██████████| 40/40 [00:11<00:00,  3.48it/s]\n",
      "100%|██████████| 40/40 [00:11<00:00,  3.51it/s]\n",
      "100%|██████████| 40/40 [00:11<00:00,  3.52it/s]\n",
      "100%|██████████| 40/40 [00:11<00:00,  3.51it/s]\n",
      "100%|██████████| 40/40 [00:11<00:00,  3.51it/s]\n",
      "100%|██████████| 40/40 [00:11<00:00,  3.50it/s]\n",
      "100%|██████████| 40/40 [00:11<00:00,  3.52it/s]\n",
      "100%|██████████| 40/40 [00:11<00:00,  3.52it/s]\n",
      "100%|██████████| 40/40 [00:11<00:00,  3.50it/s]\n",
      "100%|██████████| 40/40 [00:11<00:00,  3.51it/s]\n",
      "100%|██████████| 40/40 [00:11<00:00,  3.45it/s]\n",
      "100%|██████████| 40/40 [00:11<00:00,  3.50it/s]\n",
      "100%|██████████| 40/40 [00:11<00:00,  3.50it/s]\n",
      "100%|██████████| 40/40 [00:11<00:00,  3.50it/s]\n",
      "100%|██████████| 40/40 [00:11<00:00,  3.49it/s]\n",
      "100%|██████████| 40/40 [00:11<00:00,  3.49it/s]\n",
      "100%|██████████| 40/40 [00:11<00:00,  3.50it/s]\n",
      "100%|██████████| 40/40 [00:11<00:00,  3.50it/s]\n",
      "100%|██████████| 40/40 [00:11<00:00,  3.50it/s]\n",
      "100%|██████████| 40/40 [00:11<00:00,  3.49it/s]\n",
      "100%|██████████| 40/40 [00:11<00:00,  3.49it/s]\n",
      "100%|██████████| 40/40 [00:11<00:00,  3.45it/s]\n",
      "100%|██████████| 40/40 [00:11<00:00,  3.49it/s]\n",
      "100%|██████████| 40/40 [00:11<00:00,  3.49it/s]\n",
      "100%|██████████| 40/40 [00:11<00:00,  3.50it/s]\n",
      "100%|██████████| 40/40 [00:11<00:00,  3.49it/s]\n",
      "100%|██████████| 40/40 [00:11<00:00,  3.49it/s]\n",
      "100%|██████████| 40/40 [00:11<00:00,  3.50it/s]\n",
      "100%|██████████| 40/40 [00:11<00:00,  3.50it/s]\n",
      "100%|██████████| 40/40 [00:11<00:00,  3.50it/s]\n",
      "100%|██████████| 40/40 [00:11<00:00,  3.49it/s]\n",
      "100%|██████████| 40/40 [00:11<00:00,  3.48it/s]\n",
      "100%|██████████| 40/40 [00:11<00:00,  3.50it/s]\n",
      "100%|██████████| 40/40 [00:11<00:00,  3.48it/s]\n",
      "100%|██████████| 40/40 [00:11<00:00,  3.48it/s]\n",
      "100%|██████████| 40/40 [00:11<00:00,  3.48it/s]\n",
      "100%|██████████| 40/40 [00:11<00:00,  3.50it/s]\n",
      "100%|██████████| 40/40 [00:11<00:00,  3.54it/s]\n",
      "100%|██████████| 40/40 [00:11<00:00,  3.50it/s]\n",
      "100%|██████████| 40/40 [00:11<00:00,  3.49it/s]\n",
      "100%|██████████| 40/40 [00:11<00:00,  3.49it/s]\n",
      "100%|██████████| 40/40 [00:11<00:00,  3.50it/s]\n",
      "100%|██████████| 40/40 [00:11<00:00,  3.47it/s]\n",
      "100%|██████████| 40/40 [00:11<00:00,  3.49it/s]\n",
      "100%|██████████| 40/40 [00:11<00:00,  3.50it/s]\n",
      "100%|██████████| 40/40 [00:11<00:00,  3.49it/s]\n",
      "100%|██████████| 40/40 [00:11<00:00,  3.50it/s]\n",
      "100%|██████████| 40/40 [00:11<00:00,  3.49it/s]\n",
      "100%|██████████| 40/40 [00:11<00:00,  3.49it/s]\n",
      "100%|██████████| 40/40 [00:11<00:00,  3.51it/s]\n",
      "100%|██████████| 40/40 [00:11<00:00,  3.49it/s]\n",
      "100%|██████████| 40/40 [00:11<00:00,  3.50it/s]\n",
      "100%|██████████| 40/40 [00:11<00:00,  3.49it/s]\n",
      "100%|██████████| 40/40 [00:11<00:00,  3.51it/s]\n",
      "100%|██████████| 40/40 [00:11<00:00,  3.51it/s]\n",
      "100%|██████████| 40/40 [00:11<00:00,  3.51it/s]\n",
      "100%|██████████| 40/40 [00:11<00:00,  3.51it/s]\n",
      "100%|██████████| 40/40 [00:11<00:00,  3.52it/s]\n",
      "100%|██████████| 40/40 [00:11<00:00,  3.50it/s]\n",
      "100%|██████████| 40/40 [00:11<00:00,  3.48it/s]\n",
      "100%|██████████| 40/40 [00:11<00:00,  3.49it/s]\n",
      "100%|██████████| 40/40 [00:11<00:00,  3.51it/s]\n",
      "100%|██████████| 40/40 [00:11<00:00,  3.50it/s]\n",
      "100%|██████████| 40/40 [00:11<00:00,  3.47it/s]\n",
      "100%|██████████| 40/40 [00:11<00:00,  3.48it/s]\n",
      "100%|██████████| 40/40 [00:11<00:00,  3.49it/s]\n",
      "100%|██████████| 40/40 [00:11<00:00,  3.49it/s]\n",
      "100%|██████████| 40/40 [00:11<00:00,  3.51it/s]\n",
      "100%|██████████| 40/40 [00:11<00:00,  3.50it/s]\n",
      "100%|██████████| 40/40 [00:11<00:00,  3.48it/s]\n",
      "100%|██████████| 40/40 [00:11<00:00,  3.48it/s]\n",
      "100%|██████████| 40/40 [00:11<00:00,  3.38it/s]\n",
      "100%|██████████| 40/40 [00:11<00:00,  3.38it/s]\n",
      "100%|██████████| 40/40 [00:11<00:00,  3.47it/s]\n",
      "100%|██████████| 40/40 [00:13<00:00,  2.98it/s]\n",
      "100%|██████████| 40/40 [00:13<00:00,  2.98it/s]\n",
      "100%|██████████| 40/40 [00:13<00:00,  2.98it/s]\n",
      "100%|██████████| 40/40 [00:13<00:00,  2.98it/s]\n",
      "100%|██████████| 40/40 [00:13<00:00,  2.99it/s]\n",
      "100%|██████████| 40/40 [00:13<00:00,  2.98it/s]\n",
      "100%|██████████| 40/40 [00:13<00:00,  2.98it/s]\n",
      "100%|██████████| 40/40 [00:13<00:00,  2.98it/s]\n",
      "100%|██████████| 40/40 [00:13<00:00,  2.96it/s]\n",
      "100%|██████████| 40/40 [00:13<00:00,  2.96it/s]\n",
      "100%|██████████| 40/40 [00:13<00:00,  2.98it/s]\n",
      "100%|██████████| 40/40 [00:13<00:00,  2.97it/s]\n",
      "100%|██████████| 40/40 [00:13<00:00,  2.99it/s]\n",
      "100%|██████████| 40/40 [00:13<00:00,  2.98it/s]\n",
      "100%|██████████| 40/40 [00:13<00:00,  2.98it/s]\n",
      "100%|██████████| 40/40 [00:13<00:00,  3.00it/s]\n",
      "100%|██████████| 40/40 [00:13<00:00,  3.02it/s]\n",
      "100%|██████████| 40/40 [00:13<00:00,  2.94it/s]\n",
      "100%|██████████| 40/40 [00:13<00:00,  2.98it/s]\n",
      "100%|██████████| 40/40 [00:13<00:00,  2.99it/s]\n",
      "100%|██████████| 40/40 [00:13<00:00,  2.99it/s]\n",
      "100%|██████████| 40/40 [00:13<00:00,  2.98it/s]\n",
      "100%|██████████| 40/40 [00:13<00:00,  2.98it/s]\n",
      "100%|██████████| 40/40 [00:13<00:00,  2.97it/s]\n",
      "100%|██████████| 40/40 [00:13<00:00,  2.97it/s]\n",
      "100%|██████████| 40/40 [00:13<00:00,  2.98it/s]\n",
      "100%|██████████| 40/40 [00:13<00:00,  2.97it/s]\n",
      "100%|██████████| 40/40 [00:13<00:00,  2.99it/s]\n",
      "100%|██████████| 40/40 [00:13<00:00,  2.97it/s]\n",
      "100%|██████████| 40/40 [00:12<00:00,  3.26it/s]\n",
      "100%|██████████| 40/40 [00:11<00:00,  3.39it/s]\n",
      "100%|██████████| 40/40 [00:11<00:00,  3.44it/s]\n",
      "100%|██████████| 40/40 [00:11<00:00,  3.52it/s]\n",
      "100%|██████████| 40/40 [00:11<00:00,  3.52it/s]\n",
      "100%|██████████| 40/40 [00:11<00:00,  3.52it/s]\n",
      "100%|██████████| 40/40 [00:11<00:00,  3.52it/s]\n",
      "100%|██████████| 40/40 [00:13<00:00,  2.96it/s]\n",
      "100%|██████████| 40/40 [00:13<00:00,  3.00it/s]\n",
      "100%|██████████| 40/40 [00:13<00:00,  2.99it/s]\n",
      "100%|██████████| 40/40 [00:13<00:00,  2.98it/s]\n",
      "100%|██████████| 40/40 [00:13<00:00,  2.97it/s]\n",
      "100%|██████████| 40/40 [00:13<00:00,  2.99it/s]\n",
      "100%|██████████| 40/40 [00:13<00:00,  2.98it/s]\n",
      "100%|██████████| 40/40 [00:13<00:00,  2.97it/s]\n",
      "100%|██████████| 40/40 [00:12<00:00,  3.12it/s]\n",
      "100%|██████████| 40/40 [00:12<00:00,  3.08it/s]\n",
      "100%|██████████| 40/40 [00:13<00:00,  3.06it/s]\n",
      "100%|██████████| 40/40 [00:12<00:00,  3.15it/s]\n",
      "100%|██████████| 40/40 [00:12<00:00,  3.18it/s]\n",
      "100%|██████████| 40/40 [00:11<00:00,  3.36it/s]\n",
      "100%|██████████| 40/40 [00:12<00:00,  3.20it/s]\n",
      "100%|██████████| 40/40 [00:13<00:00,  3.02it/s]\n",
      "100%|██████████| 40/40 [00:13<00:00,  2.98it/s]\n",
      "100%|██████████| 40/40 [00:13<00:00,  2.98it/s]\n",
      "100%|██████████| 40/40 [00:13<00:00,  2.99it/s]\n",
      "100%|██████████| 40/40 [00:13<00:00,  2.97it/s]\n",
      "100%|██████████| 40/40 [00:13<00:00,  2.98it/s]\n",
      "100%|██████████| 40/40 [00:13<00:00,  2.97it/s]\n",
      "100%|██████████| 40/40 [00:13<00:00,  2.98it/s]\n",
      "100%|██████████| 40/40 [00:13<00:00,  2.99it/s]\n",
      "100%|██████████| 40/40 [00:13<00:00,  2.97it/s]\n",
      "100%|██████████| 40/40 [00:13<00:00,  2.98it/s]\n",
      "100%|██████████| 40/40 [00:13<00:00,  2.98it/s]\n",
      "100%|██████████| 40/40 [00:13<00:00,  2.98it/s]\n",
      "100%|██████████| 40/40 [00:13<00:00,  2.98it/s]\n",
      "100%|██████████| 40/40 [00:13<00:00,  2.99it/s]\n",
      "100%|██████████| 40/40 [00:13<00:00,  2.97it/s]\n",
      "100%|██████████| 40/40 [00:13<00:00,  3.03it/s]\n",
      "100%|██████████| 40/40 [00:13<00:00,  2.97it/s]\n",
      "100%|██████████| 40/40 [00:13<00:00,  2.98it/s]\n",
      "100%|██████████| 40/40 [00:13<00:00,  2.98it/s]\n",
      "100%|██████████| 40/40 [00:13<00:00,  2.98it/s]\n",
      "100%|██████████| 40/40 [00:13<00:00,  2.98it/s]\n",
      "100%|██████████| 40/40 [00:13<00:00,  2.96it/s]\n",
      "100%|██████████| 40/40 [00:13<00:00,  2.99it/s]\n",
      "100%|██████████| 40/40 [00:13<00:00,  2.98it/s]\n",
      "100%|██████████| 40/40 [00:13<00:00,  2.98it/s]\n",
      "100%|██████████| 40/40 [00:13<00:00,  2.97it/s]\n",
      "100%|██████████| 40/40 [00:13<00:00,  2.97it/s]\n",
      "100%|██████████| 40/40 [00:13<00:00,  2.98it/s]\n",
      "100%|██████████| 40/40 [00:13<00:00,  3.01it/s]\n",
      "100%|██████████| 40/40 [00:12<00:00,  3.08it/s]\n",
      "100%|██████████| 40/40 [00:12<00:00,  3.11it/s]\n",
      "100%|██████████| 40/40 [00:11<00:00,  3.35it/s]\n",
      "100%|██████████| 40/40 [00:13<00:00,  3.00it/s]\n",
      "100%|██████████| 40/40 [00:12<00:00,  3.10it/s]\n",
      "100%|██████████| 40/40 [00:13<00:00,  2.97it/s]\n",
      "100%|██████████| 40/40 [00:13<00:00,  2.99it/s]\n",
      "100%|██████████| 40/40 [00:13<00:00,  2.98it/s]\n",
      "100%|██████████| 40/40 [00:13<00:00,  2.99it/s]\n",
      "100%|██████████| 40/40 [00:13<00:00,  2.98it/s]\n",
      "100%|██████████| 40/40 [00:13<00:00,  2.97it/s]\n",
      "100%|██████████| 40/40 [00:13<00:00,  2.97it/s]\n",
      "100%|██████████| 40/40 [00:13<00:00,  2.98it/s]\n",
      "100%|██████████| 40/40 [00:13<00:00,  2.98it/s]\n",
      "100%|██████████| 40/40 [00:13<00:00,  2.99it/s]\n",
      "100%|██████████| 40/40 [00:13<00:00,  2.99it/s]\n",
      "100%|██████████| 40/40 [00:12<00:00,  3.08it/s]\n",
      "100%|██████████| 40/40 [00:12<00:00,  3.20it/s]\n",
      "100%|██████████| 40/40 [00:12<00:00,  3.26it/s]\n",
      "100%|██████████| 40/40 [00:11<00:00,  3.38it/s]\n",
      "100%|██████████| 40/40 [00:12<00:00,  3.24it/s]\n",
      "100%|██████████| 40/40 [00:12<00:00,  3.12it/s]\n",
      "100%|██████████| 40/40 [00:13<00:00,  2.97it/s]\n",
      "100%|██████████| 40/40 [00:13<00:00,  2.99it/s]\n",
      "100%|██████████| 40/40 [00:13<00:00,  2.99it/s]\n",
      "100%|██████████| 40/40 [00:13<00:00,  2.97it/s]\n",
      "100%|██████████| 40/40 [00:13<00:00,  2.98it/s]\n",
      "100%|██████████| 40/40 [00:13<00:00,  2.99it/s]\n",
      "100%|██████████| 40/40 [00:13<00:00,  2.95it/s]\n",
      "100%|██████████| 40/40 [00:13<00:00,  2.99it/s]\n",
      "100%|██████████| 40/40 [00:13<00:00,  2.98it/s]\n",
      "100%|██████████| 40/40 [00:12<00:00,  3.10it/s]\n",
      "100%|██████████| 40/40 [00:13<00:00,  2.98it/s]\n",
      "100%|██████████| 40/40 [00:13<00:00,  3.00it/s]\n",
      "100%|██████████| 40/40 [00:13<00:00,  2.99it/s]\n",
      "100%|██████████| 40/40 [00:13<00:00,  2.98it/s]\n",
      "100%|██████████| 40/40 [00:13<00:00,  3.00it/s]\n",
      "100%|██████████| 40/40 [00:12<00:00,  3.11it/s]\n",
      "100%|██████████| 40/40 [00:13<00:00,  3.00it/s]\n",
      "100%|██████████| 40/40 [00:13<00:00,  2.98it/s]\n",
      "100%|██████████| 40/40 [00:13<00:00,  2.99it/s]\n",
      "100%|██████████| 40/40 [00:13<00:00,  2.98it/s]\n",
      "100%|██████████| 40/40 [00:13<00:00,  2.98it/s]\n",
      "100%|██████████| 40/40 [00:13<00:00,  2.99it/s]\n",
      "100%|██████████| 40/40 [00:13<00:00,  2.98it/s]\n",
      "100%|██████████| 40/40 [00:13<00:00,  2.98it/s]\n",
      "100%|██████████| 40/40 [00:13<00:00,  2.97it/s]\n",
      "100%|██████████| 40/40 [00:13<00:00,  2.98it/s]\n",
      "100%|██████████| 40/40 [00:13<00:00,  2.99it/s]\n",
      "100%|██████████| 40/40 [00:13<00:00,  2.99it/s]\n",
      "100%|██████████| 40/40 [00:12<00:00,  3.20it/s]\n",
      "100%|██████████| 40/40 [00:12<00:00,  3.32it/s]\n",
      "100%|██████████| 40/40 [00:11<00:00,  3.43it/s]\n",
      "100%|██████████| 40/40 [00:11<00:00,  3.49it/s]\n",
      "100%|██████████| 40/40 [00:11<00:00,  3.50it/s]\n",
      "100%|██████████| 40/40 [00:11<00:00,  3.50it/s]\n",
      "100%|██████████| 40/40 [00:11<00:00,  3.48it/s]\n",
      "100%|██████████| 40/40 [00:13<00:00,  2.98it/s]\n",
      "100%|██████████| 40/40 [00:13<00:00,  2.98it/s]\n",
      "100%|██████████| 40/40 [00:13<00:00,  2.98it/s]\n",
      "100%|██████████| 40/40 [00:13<00:00,  2.97it/s]\n",
      "100%|██████████| 40/40 [00:13<00:00,  2.99it/s]\n",
      "100%|██████████| 40/40 [00:13<00:00,  2.98it/s]\n",
      "100%|██████████| 40/40 [00:13<00:00,  2.97it/s]\n",
      "100%|██████████| 40/40 [00:13<00:00,  2.99it/s]\n",
      "100%|██████████| 40/40 [00:13<00:00,  3.04it/s]\n",
      "100%|██████████| 40/40 [00:12<00:00,  3.24it/s]\n",
      "100%|██████████| 40/40 [00:12<00:00,  3.08it/s]\n",
      "100%|██████████| 40/40 [00:12<00:00,  3.12it/s]\n",
      "100%|██████████| 40/40 [00:12<00:00,  3.21it/s]\n",
      "100%|██████████| 40/40 [00:12<00:00,  3.23it/s]\n",
      "100%|██████████| 40/40 [00:11<00:00,  3.48it/s]\n",
      "100%|██████████| 40/40 [00:11<00:00,  3.49it/s]\n",
      "100%|██████████| 40/40 [00:11<00:00,  3.49it/s]\n",
      "100%|██████████| 40/40 [00:11<00:00,  3.48it/s]\n",
      "100%|██████████| 40/40 [00:13<00:00,  2.97it/s]\n",
      "100%|██████████| 40/40 [00:13<00:00,  2.99it/s]\n",
      "100%|██████████| 40/40 [00:13<00:00,  2.99it/s]\n",
      "100%|██████████| 40/40 [00:13<00:00,  2.97it/s]\n",
      "100%|██████████| 40/40 [00:13<00:00,  2.99it/s]\n",
      "100%|██████████| 40/40 [00:13<00:00,  2.98it/s]\n",
      "100%|██████████| 40/40 [00:13<00:00,  2.98it/s]\n",
      "100%|██████████| 40/40 [00:13<00:00,  2.99it/s]\n",
      "100%|██████████| 40/40 [00:13<00:00,  2.98it/s]\n",
      "100%|██████████| 40/40 [00:13<00:00,  2.94it/s]\n",
      "100%|██████████| 40/40 [00:13<00:00,  2.98it/s]\n",
      "100%|██████████| 40/40 [00:13<00:00,  2.97it/s]\n",
      "100%|██████████| 40/40 [00:13<00:00,  2.98it/s]\n",
      "100%|██████████| 40/40 [00:13<00:00,  3.02it/s]\n",
      "100%|██████████| 40/40 [00:13<00:00,  2.98it/s]\n",
      "100%|██████████| 40/40 [00:13<00:00,  2.98it/s]\n",
      "100%|██████████| 40/40 [00:13<00:00,  2.98it/s]\n",
      "100%|██████████| 40/40 [00:13<00:00,  2.99it/s]\n",
      "100%|██████████| 40/40 [00:13<00:00,  2.96it/s]\n",
      "100%|██████████| 40/40 [00:13<00:00,  2.99it/s]\n",
      "100%|██████████| 40/40 [00:13<00:00,  2.98it/s]\n",
      "100%|██████████| 40/40 [00:13<00:00,  2.99it/s]\n",
      "100%|██████████| 40/40 [00:13<00:00,  2.98it/s]\n",
      "100%|██████████| 40/40 [00:13<00:00,  2.98it/s]\n",
      "100%|██████████| 40/40 [00:13<00:00,  2.99it/s]\n",
      "100%|██████████| 40/40 [00:13<00:00,  2.98it/s]\n",
      "100%|██████████| 40/40 [00:13<00:00,  3.01it/s]\n",
      "100%|██████████| 40/40 [00:12<00:00,  3.12it/s]\n",
      "100%|██████████| 40/40 [00:12<00:00,  3.13it/s]\n",
      "100%|██████████| 40/40 [00:12<00:00,  3.20it/s]\n",
      "100%|██████████| 40/40 [00:12<00:00,  3.18it/s]\n",
      "100%|██████████| 40/40 [00:12<00:00,  3.21it/s]\n",
      "100%|██████████| 40/40 [00:13<00:00,  3.02it/s]\n",
      "100%|██████████| 40/40 [00:13<00:00,  2.99it/s]\n",
      "100%|██████████| 40/40 [00:13<00:00,  3.00it/s]\n",
      "100%|██████████| 40/40 [00:13<00:00,  2.98it/s]\n",
      "100%|██████████| 40/40 [00:13<00:00,  2.96it/s]\n",
      "100%|██████████| 40/40 [00:13<00:00,  3.00it/s]\n",
      "100%|██████████| 40/40 [00:13<00:00,  3.00it/s]\n",
      "100%|██████████| 40/40 [00:13<00:00,  2.97it/s]\n",
      "100%|██████████| 40/40 [00:13<00:00,  2.99it/s]\n",
      "100%|██████████| 40/40 [00:13<00:00,  3.01it/s]\n",
      "100%|██████████| 40/40 [00:13<00:00,  2.98it/s]\n",
      "100%|██████████| 40/40 [00:13<00:00,  3.06it/s]\n",
      "100%|██████████| 40/40 [00:13<00:00,  3.07it/s]\n",
      "100%|██████████| 40/40 [00:12<00:00,  3.25it/s]\n",
      "100%|██████████| 40/40 [00:11<00:00,  3.38it/s]\n",
      "100%|██████████| 40/40 [00:11<00:00,  3.51it/s]\n",
      "100%|██████████| 40/40 [00:11<00:00,  3.50it/s]\n",
      "100%|██████████| 40/40 [00:11<00:00,  3.50it/s]\n",
      "100%|██████████| 40/40 [00:11<00:00,  3.51it/s]\n",
      "100%|██████████| 40/40 [00:13<00:00,  2.97it/s]\n",
      "100%|██████████| 40/40 [00:13<00:00,  2.99it/s]\n",
      "100%|██████████| 40/40 [00:13<00:00,  3.00it/s]\n",
      "100%|██████████| 40/40 [00:13<00:00,  2.96it/s]\n",
      "100%|██████████| 40/40 [00:13<00:00,  2.96it/s]\n",
      "100%|██████████| 40/40 [00:13<00:00,  2.98it/s]\n",
      "100%|██████████| 40/40 [00:13<00:00,  2.98it/s]\n",
      "100%|██████████| 40/40 [00:13<00:00,  3.05it/s]\n",
      "100%|██████████| 40/40 [00:13<00:00,  2.98it/s]\n",
      "100%|██████████| 40/40 [00:13<00:00,  2.98it/s]\n",
      "100%|██████████| 40/40 [00:13<00:00,  2.98it/s]\n",
      "100%|██████████| 40/40 [00:13<00:00,  3.00it/s]\n",
      "100%|██████████| 40/40 [00:13<00:00,  2.99it/s]\n",
      "100%|██████████| 40/40 [00:13<00:00,  2.98it/s]\n",
      "100%|██████████| 40/40 [00:13<00:00,  3.04it/s]\n",
      "100%|██████████| 40/40 [00:13<00:00,  2.97it/s]\n",
      "100%|██████████| 40/40 [00:13<00:00,  2.99it/s]\n",
      "100%|██████████| 40/40 [00:13<00:00,  2.97it/s]\n",
      "100%|██████████| 40/40 [00:13<00:00,  3.00it/s]\n",
      "100%|██████████| 40/40 [00:13<00:00,  2.98it/s]\n",
      "100%|██████████| 40/40 [00:13<00:00,  2.99it/s]\n",
      "100%|██████████| 40/40 [00:13<00:00,  2.98it/s]\n",
      "100%|██████████| 40/40 [00:13<00:00,  2.96it/s]\n",
      "100%|██████████| 40/40 [00:13<00:00,  2.98it/s]\n",
      "100%|██████████| 40/40 [00:13<00:00,  2.98it/s]\n",
      "100%|██████████| 40/40 [00:13<00:00,  2.99it/s]\n",
      "100%|██████████| 40/40 [00:13<00:00,  3.04it/s]\n",
      "100%|██████████| 40/40 [00:12<00:00,  3.30it/s]\n",
      "100%|██████████| 40/40 [00:11<00:00,  3.41it/s]\n",
      "100%|██████████| 40/40 [00:11<00:00,  3.49it/s]\n",
      "100%|██████████| 40/40 [00:11<00:00,  3.50it/s]\n",
      "100%|██████████| 40/40 [00:11<00:00,  3.34it/s]\n",
      "100%|██████████| 40/40 [00:13<00:00,  2.97it/s]\n",
      "100%|██████████| 40/40 [00:13<00:00,  2.99it/s]\n",
      "100%|██████████| 40/40 [00:13<00:00,  2.97it/s]\n",
      "100%|██████████| 40/40 [00:13<00:00,  2.98it/s]\n",
      "100%|██████████| 40/40 [00:13<00:00,  2.98it/s]\n",
      "100%|██████████| 40/40 [00:13<00:00,  2.98it/s]\n",
      "100%|██████████| 40/40 [00:13<00:00,  2.98it/s]\n",
      "100%|██████████| 40/40 [00:13<00:00,  2.99it/s]\n",
      "100%|██████████| 40/40 [00:13<00:00,  2.99it/s]\n",
      "100%|██████████| 40/40 [00:13<00:00,  2.95it/s]\n",
      "100%|██████████| 40/40 [00:12<00:00,  3.18it/s]\n",
      "100%|██████████| 40/40 [00:12<00:00,  3.14it/s]\n",
      "100%|██████████| 40/40 [00:13<00:00,  3.04it/s]\n",
      "100%|██████████| 40/40 [00:12<00:00,  3.14it/s]\n",
      "100%|██████████| 40/40 [00:12<00:00,  3.24it/s]\n",
      "100%|██████████| 40/40 [00:11<00:00,  3.40it/s]\n",
      "100%|██████████| 40/40 [00:12<00:00,  3.12it/s]\n",
      "100%|██████████| 40/40 [00:12<00:00,  3.15it/s]\n",
      "100%|██████████| 40/40 [00:13<00:00,  2.98it/s]\n",
      "100%|██████████| 40/40 [00:13<00:00,  3.01it/s]\n",
      "100%|██████████| 40/40 [00:13<00:00,  2.99it/s]\n",
      "100%|██████████| 40/40 [00:13<00:00,  2.99it/s]\n",
      "100%|██████████| 40/40 [00:13<00:00,  2.97it/s]\n",
      "100%|██████████| 40/40 [00:13<00:00,  2.99it/s]\n",
      "100%|██████████| 40/40 [00:13<00:00,  2.97it/s]\n",
      "100%|██████████| 40/40 [00:13<00:00,  3.00it/s]\n",
      "100%|██████████| 40/40 [00:13<00:00,  2.98it/s]\n",
      "100%|██████████| 40/40 [00:13<00:00,  2.96it/s]\n",
      "100%|██████████| 40/40 [00:13<00:00,  2.98it/s]\n",
      "100%|██████████| 40/40 [00:13<00:00,  2.99it/s]\n",
      "100%|██████████| 40/40 [00:13<00:00,  2.98it/s]\n",
      "100%|██████████| 40/40 [00:13<00:00,  2.97it/s]\n",
      "100%|██████████| 40/40 [00:13<00:00,  2.99it/s]\n",
      "100%|██████████| 40/40 [00:13<00:00,  2.99it/s]\n",
      "100%|██████████| 40/40 [00:13<00:00,  2.98it/s]\n",
      "100%|██████████| 40/40 [00:13<00:00,  2.98it/s]\n",
      "100%|██████████| 40/40 [00:13<00:00,  2.94it/s]\n",
      "100%|██████████| 40/40 [00:13<00:00,  2.98it/s]\n",
      "100%|██████████| 40/40 [00:13<00:00,  3.00it/s]\n",
      "100%|██████████| 40/40 [00:13<00:00,  3.01it/s]\n",
      "100%|██████████| 40/40 [00:13<00:00,  2.99it/s]\n",
      "100%|██████████| 40/40 [00:13<00:00,  3.00it/s]\n",
      "100%|██████████| 40/40 [00:13<00:00,  2.99it/s]\n",
      "100%|██████████| 40/40 [00:13<00:00,  2.98it/s]\n",
      "100%|██████████| 40/40 [00:13<00:00,  3.00it/s]\n",
      "100%|██████████| 40/40 [00:13<00:00,  2.95it/s]\n",
      "100%|██████████| 40/40 [00:13<00:00,  3.01it/s]\n",
      "100%|██████████| 40/40 [00:12<00:00,  3.18it/s]\n",
      "100%|██████████| 40/40 [00:12<00:00,  3.16it/s]\n",
      "100%|██████████| 40/40 [00:12<00:00,  3.23it/s]\n",
      "100%|██████████| 40/40 [00:13<00:00,  3.07it/s]\n",
      "100%|██████████| 40/40 [00:13<00:00,  3.03it/s]\n",
      "100%|██████████| 40/40 [00:13<00:00,  2.99it/s]\n",
      "100%|██████████| 40/40 [00:13<00:00,  3.00it/s]\n",
      "100%|██████████| 40/40 [00:13<00:00,  3.00it/s]\n",
      "100%|██████████| 40/40 [00:13<00:00,  2.98it/s]\n",
      "100%|██████████| 40/40 [00:13<00:00,  2.98it/s]\n",
      "100%|██████████| 40/40 [00:13<00:00,  3.00it/s]\n",
      "100%|██████████| 40/40 [00:13<00:00,  2.98it/s]\n",
      "100%|██████████| 40/40 [00:13<00:00,  3.00it/s]\n",
      "100%|██████████| 40/40 [00:13<00:00,  2.98it/s]\n",
      "100%|██████████| 40/40 [00:12<00:00,  3.23it/s]\n",
      "100%|██████████| 40/40 [00:11<00:00,  3.48it/s]\n",
      "100%|██████████| 40/40 [00:11<00:00,  3.51it/s]\n",
      "100%|██████████| 40/40 [00:11<00:00,  3.47it/s]\n",
      "100%|██████████| 40/40 [00:11<00:00,  3.51it/s]\n",
      "100%|██████████| 40/40 [00:11<00:00,  3.50it/s]\n",
      "100%|██████████| 40/40 [00:11<00:00,  3.49it/s]\n",
      "100%|██████████| 40/40 [00:11<00:00,  3.50it/s]\n",
      "100%|██████████| 40/40 [00:11<00:00,  3.49it/s]\n",
      "100%|██████████| 40/40 [00:11<00:00,  3.50it/s]\n",
      "100%|██████████| 40/40 [00:11<00:00,  3.52it/s]\n",
      "100%|██████████| 40/40 [00:11<00:00,  3.51it/s]\n",
      "100%|██████████| 40/40 [00:11<00:00,  3.49it/s]\n",
      "100%|██████████| 40/40 [00:11<00:00,  3.49it/s]\n",
      "100%|██████████| 40/40 [00:11<00:00,  3.47it/s]\n",
      "100%|██████████| 40/40 [00:11<00:00,  3.51it/s]\n",
      "100%|██████████| 40/40 [00:11<00:00,  3.52it/s]\n",
      "100%|██████████| 40/40 [00:11<00:00,  3.51it/s]\n",
      "100%|██████████| 40/40 [00:11<00:00,  3.52it/s]\n",
      "100%|██████████| 40/40 [00:11<00:00,  3.50it/s]\n",
      "100%|██████████| 40/40 [00:11<00:00,  3.49it/s]\n",
      "100%|██████████| 40/40 [00:11<00:00,  3.49it/s]\n",
      "100%|██████████| 40/40 [00:11<00:00,  3.49it/s]\n",
      "100%|██████████| 40/40 [00:11<00:00,  3.50it/s]\n",
      "100%|██████████| 40/40 [00:11<00:00,  3.49it/s]\n",
      "100%|██████████| 40/40 [00:11<00:00,  3.52it/s]\n",
      "100%|██████████| 40/40 [00:11<00:00,  3.53it/s]\n",
      "100%|██████████| 40/40 [00:11<00:00,  3.52it/s]\n",
      "100%|██████████| 40/40 [00:11<00:00,  3.52it/s]\n",
      "100%|██████████| 40/40 [00:11<00:00,  3.52it/s]\n",
      "100%|██████████| 40/40 [00:11<00:00,  3.52it/s]\n",
      "100%|██████████| 40/40 [00:11<00:00,  3.49it/s]\n",
      "100%|██████████| 40/40 [00:11<00:00,  3.50it/s]\n",
      "100%|██████████| 40/40 [00:11<00:00,  3.49it/s]\n",
      "100%|██████████| 40/40 [00:11<00:00,  3.50it/s]\n",
      "100%|██████████| 40/40 [00:11<00:00,  3.47it/s]\n",
      "100%|██████████| 40/40 [00:11<00:00,  3.49it/s]\n",
      "100%|██████████| 40/40 [00:11<00:00,  3.49it/s]\n",
      "100%|██████████| 40/40 [00:11<00:00,  3.49it/s]\n",
      "100%|██████████| 40/40 [00:11<00:00,  3.52it/s]\n",
      "100%|██████████| 40/40 [00:11<00:00,  3.51it/s]\n",
      "100%|██████████| 40/40 [00:11<00:00,  3.49it/s]\n",
      "100%|██████████| 40/40 [00:11<00:00,  3.49it/s]\n",
      "100%|██████████| 40/40 [00:11<00:00,  3.49it/s]\n",
      "100%|██████████| 40/40 [00:11<00:00,  3.50it/s]\n",
      "100%|██████████| 40/40 [00:11<00:00,  3.44it/s]\n",
      "100%|██████████| 40/40 [00:11<00:00,  3.49it/s]\n",
      "100%|██████████| 40/40 [00:11<00:00,  3.48it/s]\n",
      "100%|██████████| 40/40 [00:11<00:00,  3.49it/s]\n",
      "100%|██████████| 40/40 [00:11<00:00,  3.49it/s]\n",
      "100%|██████████| 40/40 [00:11<00:00,  3.49it/s]\n",
      "100%|██████████| 40/40 [00:11<00:00,  3.50it/s]\n",
      "100%|██████████| 40/40 [00:11<00:00,  3.49it/s]\n",
      "100%|██████████| 40/40 [00:11<00:00,  3.50it/s]\n",
      "100%|██████████| 40/40 [00:11<00:00,  3.50it/s]\n",
      "100%|██████████| 40/40 [00:11<00:00,  3.50it/s]\n",
      "100%|██████████| 40/40 [00:11<00:00,  3.45it/s]\n",
      "100%|██████████| 40/40 [00:11<00:00,  3.48it/s]\n",
      "100%|██████████| 40/40 [00:11<00:00,  3.49it/s]\n",
      "100%|██████████| 40/40 [00:11<00:00,  3.47it/s]\n",
      "100%|██████████| 40/40 [00:11<00:00,  3.50it/s]\n",
      "100%|██████████| 40/40 [00:11<00:00,  3.51it/s]\n",
      "100%|██████████| 40/40 [00:11<00:00,  3.53it/s]\n",
      "100%|██████████| 40/40 [00:11<00:00,  3.52it/s]\n",
      "100%|██████████| 40/40 [00:11<00:00,  3.49it/s]\n",
      "100%|██████████| 40/40 [00:11<00:00,  3.49it/s]\n",
      "100%|██████████| 40/40 [00:11<00:00,  3.46it/s]\n",
      "100%|██████████| 40/40 [00:11<00:00,  3.49it/s]\n",
      "100%|██████████| 40/40 [00:11<00:00,  3.48it/s]\n",
      "100%|██████████| 40/40 [00:11<00:00,  3.48it/s]\n",
      "100%|██████████| 40/40 [00:11<00:00,  3.51it/s]\n",
      "100%|██████████| 40/40 [00:11<00:00,  3.50it/s]\n",
      "100%|██████████| 40/40 [00:11<00:00,  3.50it/s]\n",
      "100%|██████████| 40/40 [00:11<00:00,  3.50it/s]\n",
      "100%|██████████| 40/40 [00:11<00:00,  3.48it/s]\n",
      "100%|██████████| 40/40 [00:11<00:00,  3.49it/s]\n",
      "100%|██████████| 40/40 [00:11<00:00,  3.49it/s]\n",
      "100%|██████████| 40/40 [00:11<00:00,  3.46it/s]\n",
      "100%|██████████| 40/40 [00:11<00:00,  3.50it/s]\n",
      "100%|██████████| 40/40 [00:11<00:00,  3.50it/s]\n",
      "100%|██████████| 40/40 [00:11<00:00,  3.50it/s]\n",
      "100%|██████████| 40/40 [00:11<00:00,  3.48it/s]\n",
      "100%|██████████| 40/40 [00:11<00:00,  3.49it/s]\n",
      "100%|██████████| 40/40 [00:11<00:00,  3.48it/s]\n",
      "100%|██████████| 40/40 [00:11<00:00,  3.49it/s]\n",
      "100%|██████████| 40/40 [00:11<00:00,  3.50it/s]\n",
      "100%|██████████| 40/40 [00:11<00:00,  3.50it/s]\n",
      "100%|██████████| 40/40 [00:11<00:00,  3.46it/s]\n",
      "100%|██████████| 40/40 [00:11<00:00,  3.49it/s]\n",
      "100%|██████████| 40/40 [00:11<00:00,  3.49it/s]\n",
      "100%|██████████| 40/40 [00:11<00:00,  3.49it/s]\n",
      "100%|██████████| 40/40 [00:11<00:00,  3.50it/s]\n",
      "100%|██████████| 40/40 [00:11<00:00,  3.49it/s]\n",
      "100%|██████████| 40/40 [00:11<00:00,  3.49it/s]\n",
      "100%|██████████| 40/40 [00:11<00:00,  3.50it/s]\n",
      "100%|██████████| 40/40 [00:11<00:00,  3.50it/s]\n",
      "100%|██████████| 40/40 [00:11<00:00,  3.49it/s]\n",
      "100%|██████████| 40/40 [00:11<00:00,  3.49it/s]\n",
      "100%|██████████| 40/40 [00:11<00:00,  3.47it/s]\n",
      "100%|██████████| 40/40 [00:11<00:00,  3.50it/s]\n",
      "100%|██████████| 40/40 [00:11<00:00,  3.49it/s]\n",
      "100%|██████████| 40/40 [00:11<00:00,  3.51it/s]\n",
      "100%|██████████| 40/40 [00:11<00:00,  3.48it/s]\n",
      "100%|██████████| 40/40 [00:11<00:00,  3.48it/s]\n",
      "100%|██████████| 40/40 [00:11<00:00,  3.51it/s]\n",
      "100%|██████████| 40/40 [00:11<00:00,  3.52it/s]\n",
      "100%|██████████| 40/40 [00:11<00:00,  3.52it/s]\n",
      "100%|██████████| 40/40 [00:11<00:00,  3.52it/s]\n",
      "100%|██████████| 40/40 [00:11<00:00,  3.48it/s]\n",
      "100%|██████████| 40/40 [00:11<00:00,  3.51it/s]\n",
      "100%|██████████| 40/40 [00:11<00:00,  3.51it/s]\n",
      "100%|██████████| 40/40 [00:11<00:00,  3.49it/s]\n",
      "100%|██████████| 40/40 [00:11<00:00,  3.48it/s]\n",
      "100%|██████████| 40/40 [00:11<00:00,  3.49it/s]\n",
      "100%|██████████| 40/40 [00:11<00:00,  3.50it/s]\n",
      "100%|██████████| 40/40 [00:11<00:00,  3.50it/s]\n",
      "100%|██████████| 40/40 [00:11<00:00,  3.49it/s]\n",
      "100%|██████████| 40/40 [00:11<00:00,  3.49it/s]\n",
      "100%|██████████| 40/40 [00:11<00:00,  3.49it/s]\n",
      "100%|██████████| 40/40 [00:11<00:00,  3.46it/s]\n",
      "100%|██████████| 40/40 [00:11<00:00,  3.48it/s]\n",
      "100%|██████████| 40/40 [00:11<00:00,  3.48it/s]\n",
      "100%|██████████| 40/40 [00:11<00:00,  3.48it/s]\n",
      "100%|██████████| 40/40 [00:11<00:00,  3.49it/s]\n",
      "100%|██████████| 40/40 [00:11<00:00,  3.48it/s]\n",
      "100%|██████████| 40/40 [00:11<00:00,  3.50it/s]\n",
      "100%|██████████| 40/40 [00:11<00:00,  3.51it/s]\n",
      "100%|██████████| 40/40 [00:11<00:00,  3.52it/s]\n",
      "100%|██████████| 40/40 [00:11<00:00,  3.50it/s]\n",
      "100%|██████████| 40/40 [00:11<00:00,  3.47it/s]\n",
      "100%|██████████| 40/40 [00:11<00:00,  3.52it/s]\n",
      "100%|██████████| 40/40 [00:11<00:00,  3.50it/s]\n",
      "100%|██████████| 40/40 [00:11<00:00,  3.50it/s]\n",
      "100%|██████████| 40/40 [00:11<00:00,  3.50it/s]\n",
      "100%|██████████| 40/40 [00:11<00:00,  3.50it/s]\n",
      "100%|██████████| 40/40 [00:11<00:00,  3.48it/s]\n",
      "100%|██████████| 40/40 [00:11<00:00,  3.50it/s]\n",
      "100%|██████████| 40/40 [00:11<00:00,  3.49it/s]\n",
      "100%|██████████| 40/40 [00:11<00:00,  3.49it/s]\n",
      "100%|██████████| 40/40 [00:11<00:00,  3.51it/s]\n",
      "100%|██████████| 40/40 [00:11<00:00,  3.46it/s]\n",
      "100%|██████████| 40/40 [00:11<00:00,  3.52it/s]\n",
      "100%|██████████| 40/40 [00:11<00:00,  3.50it/s]\n",
      "100%|██████████| 40/40 [00:11<00:00,  3.52it/s]\n",
      "100%|██████████| 40/40 [00:11<00:00,  3.52it/s]\n",
      "100%|██████████| 40/40 [00:11<00:00,  3.52it/s]\n",
      "100%|██████████| 40/40 [00:11<00:00,  3.50it/s]\n",
      "100%|██████████| 40/40 [00:11<00:00,  3.52it/s]\n",
      "100%|██████████| 40/40 [00:11<00:00,  3.51it/s]\n",
      "100%|██████████| 40/40 [00:11<00:00,  3.51it/s]\n",
      "100%|██████████| 40/40 [00:11<00:00,  3.50it/s]\n",
      "100%|██████████| 40/40 [00:11<00:00,  3.46it/s]\n",
      "100%|██████████| 40/40 [00:11<00:00,  3.50it/s]\n",
      "100%|██████████| 40/40 [00:11<00:00,  3.49it/s]\n",
      "100%|██████████| 40/40 [00:11<00:00,  3.49it/s]\n",
      "100%|██████████| 40/40 [00:11<00:00,  3.49it/s]\n",
      "100%|██████████| 40/40 [00:11<00:00,  3.52it/s]\n",
      "100%|██████████| 40/40 [00:11<00:00,  3.52it/s]\n",
      "100%|██████████| 40/40 [00:11<00:00,  3.50it/s]\n",
      "100%|██████████| 40/40 [00:11<00:00,  3.48it/s]\n",
      "100%|██████████| 40/40 [00:11<00:00,  3.50it/s]\n",
      "100%|██████████| 40/40 [00:11<00:00,  3.45it/s]\n",
      "100%|██████████| 40/40 [00:11<00:00,  3.52it/s]\n",
      "100%|██████████| 40/40 [00:11<00:00,  3.49it/s]\n",
      "100%|██████████| 40/40 [00:11<00:00,  3.49it/s]\n",
      "100%|██████████| 40/40 [00:11<00:00,  3.49it/s]\n",
      "100%|██████████| 40/40 [00:11<00:00,  3.50it/s]\n",
      "100%|██████████| 40/40 [00:11<00:00,  3.50it/s]\n",
      "100%|██████████| 40/40 [00:11<00:00,  3.50it/s]\n",
      "100%|██████████| 40/40 [00:11<00:00,  3.49it/s]\n",
      "100%|██████████| 40/40 [00:11<00:00,  3.50it/s]\n",
      "100%|██████████| 40/40 [00:11<00:00,  3.49it/s]\n",
      "100%|██████████| 40/40 [00:11<00:00,  3.47it/s]\n",
      "100%|██████████| 40/40 [00:11<00:00,  3.49it/s]\n",
      "100%|██████████| 40/40 [00:11<00:00,  3.50it/s]\n",
      "100%|██████████| 40/40 [00:11<00:00,  3.49it/s]\n",
      "100%|██████████| 40/40 [00:11<00:00,  3.50it/s]\n",
      "100%|██████████| 40/40 [00:11<00:00,  3.53it/s]\n",
      "100%|██████████| 40/40 [00:11<00:00,  3.52it/s]\n",
      "100%|██████████| 40/40 [00:11<00:00,  3.51it/s]\n",
      "100%|██████████| 40/40 [00:11<00:00,  3.52it/s]\n",
      "100%|██████████| 40/40 [00:11<00:00,  3.52it/s]\n",
      "100%|██████████| 40/40 [00:11<00:00,  3.47it/s]\n",
      "100%|██████████| 40/40 [00:11<00:00,  3.50it/s]\n",
      "100%|██████████| 40/40 [00:11<00:00,  3.49it/s]\n",
      "100%|██████████| 40/40 [00:11<00:00,  3.52it/s]\n",
      "100%|██████████| 40/40 [00:11<00:00,  3.51it/s]\n",
      "100%|██████████| 40/40 [00:11<00:00,  3.50it/s]\n",
      "100%|██████████| 40/40 [00:11<00:00,  3.52it/s]\n",
      "100%|██████████| 40/40 [00:11<00:00,  3.51it/s]\n",
      "100%|██████████| 40/40 [00:11<00:00,  3.53it/s]\n",
      "100%|██████████| 40/40 [00:11<00:00,  3.51it/s]\n",
      "100%|██████████| 40/40 [00:11<00:00,  3.52it/s]\n",
      "100%|██████████| 40/40 [00:11<00:00,  3.46it/s]\n",
      "100%|██████████| 40/40 [00:11<00:00,  3.49it/s]\n",
      "100%|██████████| 40/40 [00:11<00:00,  3.50it/s]\n",
      "100%|██████████| 40/40 [00:11<00:00,  3.48it/s]\n",
      "100%|██████████| 40/40 [00:11<00:00,  3.48it/s]\n",
      "100%|██████████| 40/40 [00:11<00:00,  3.50it/s]\n",
      "100%|██████████| 40/40 [00:11<00:00,  3.51it/s]\n",
      "100%|██████████| 40/40 [00:11<00:00,  3.52it/s]\n",
      "100%|██████████| 40/40 [00:11<00:00,  3.52it/s]\n",
      "100%|██████████| 40/40 [00:11<00:00,  3.49it/s]\n",
      "100%|██████████| 40/40 [00:11<00:00,  3.46it/s]\n",
      "100%|██████████| 40/40 [00:11<00:00,  3.50it/s]\n",
      "100%|██████████| 40/40 [00:11<00:00,  3.50it/s]\n",
      "100%|██████████| 40/40 [00:11<00:00,  3.50it/s]\n",
      "100%|██████████| 40/40 [00:11<00:00,  3.52it/s]\n",
      "100%|██████████| 40/40 [00:11<00:00,  3.53it/s]\n",
      "100%|██████████| 40/40 [00:11<00:00,  3.50it/s]\n",
      "100%|██████████| 40/40 [00:11<00:00,  3.51it/s]\n",
      "100%|██████████| 40/40 [00:11<00:00,  3.48it/s]\n",
      "100%|██████████| 40/40 [00:11<00:00,  3.49it/s]\n",
      "100%|██████████| 40/40 [00:11<00:00,  3.52it/s]\n",
      "100%|██████████| 40/40 [00:11<00:00,  3.49it/s]\n",
      "100%|██████████| 40/40 [00:11<00:00,  3.52it/s]\n",
      "100%|██████████| 40/40 [00:11<00:00,  3.51it/s]\n",
      "100%|██████████| 40/40 [00:11<00:00,  3.50it/s]\n",
      "100%|██████████| 40/40 [00:11<00:00,  3.49it/s]\n",
      "100%|██████████| 40/40 [00:11<00:00,  3.49it/s]\n",
      "100%|██████████| 40/40 [00:11<00:00,  3.51it/s]\n",
      "100%|██████████| 40/40 [00:11<00:00,  3.51it/s]\n",
      "100%|██████████| 40/40 [00:11<00:00,  3.52it/s]\n",
      "100%|██████████| 40/40 [00:11<00:00,  3.52it/s]\n",
      "100%|██████████| 40/40 [00:11<00:00,  3.48it/s]\n",
      "100%|██████████| 40/40 [00:11<00:00,  3.51it/s]\n",
      "100%|██████████| 40/40 [00:11<00:00,  3.51it/s]\n",
      "100%|██████████| 40/40 [00:11<00:00,  3.52it/s]\n",
      "100%|██████████| 40/40 [00:11<00:00,  3.51it/s]\n",
      "100%|██████████| 40/40 [00:11<00:00,  3.50it/s]\n",
      "100%|██████████| 40/40 [00:11<00:00,  3.50it/s]\n",
      "100%|██████████| 40/40 [00:11<00:00,  3.49it/s]\n",
      "100%|██████████| 40/40 [00:11<00:00,  3.48it/s]\n",
      "100%|██████████| 40/40 [00:11<00:00,  3.50it/s]\n",
      "100%|██████████| 40/40 [00:11<00:00,  3.51it/s]\n",
      "100%|██████████| 40/40 [00:11<00:00,  3.47it/s]\n",
      "100%|██████████| 40/40 [00:11<00:00,  3.49it/s]\n",
      "100%|██████████| 40/40 [00:11<00:00,  3.50it/s]\n",
      "100%|██████████| 40/40 [00:11<00:00,  3.51it/s]\n",
      "100%|██████████| 40/40 [00:11<00:00,  3.49it/s]\n",
      "100%|██████████| 40/40 [00:11<00:00,  3.52it/s]\n",
      "100%|██████████| 40/40 [00:11<00:00,  3.50it/s]\n",
      "100%|██████████| 40/40 [00:11<00:00,  3.51it/s]\n",
      "100%|██████████| 40/40 [00:11<00:00,  3.53it/s]\n",
      "100%|██████████| 40/40 [00:11<00:00,  3.50it/s]\n",
      "100%|██████████| 40/40 [00:11<00:00,  3.50it/s]\n",
      "100%|██████████| 40/40 [00:11<00:00,  3.46it/s]\n",
      "100%|██████████| 40/40 [00:11<00:00,  3.49it/s]\n",
      "100%|██████████| 40/40 [00:11<00:00,  3.51it/s]\n",
      "100%|██████████| 40/40 [00:11<00:00,  3.50it/s]\n",
      "100%|██████████| 40/40 [00:11<00:00,  3.50it/s]\n",
      "100%|██████████| 40/40 [00:11<00:00,  3.50it/s]\n",
      "100%|██████████| 40/40 [00:11<00:00,  3.50it/s]\n",
      "100%|██████████| 40/40 [00:11<00:00,  3.50it/s]\n",
      "100%|██████████| 40/40 [00:11<00:00,  3.50it/s]\n",
      "100%|██████████| 40/40 [00:11<00:00,  3.52it/s]\n",
      "100%|██████████| 40/40 [00:11<00:00,  3.47it/s]\n",
      "100%|██████████| 40/40 [00:11<00:00,  3.49it/s]\n",
      "100%|██████████| 40/40 [00:11<00:00,  3.48it/s]\n",
      "100%|██████████| 40/40 [00:11<00:00,  3.50it/s]\n",
      "100%|██████████| 40/40 [00:11<00:00,  3.50it/s]\n",
      "100%|██████████| 40/40 [00:11<00:00,  3.49it/s]\n",
      "100%|██████████| 40/40 [00:11<00:00,  3.50it/s]\n",
      "100%|██████████| 40/40 [00:11<00:00,  3.51it/s]\n",
      "100%|██████████| 40/40 [00:11<00:00,  3.49it/s]\n",
      "100%|██████████| 40/40 [00:11<00:00,  3.50it/s]\n",
      "100%|██████████| 40/40 [00:11<00:00,  3.48it/s]\n",
      "100%|██████████| 40/40 [00:11<00:00,  3.45it/s]\n",
      "100%|██████████| 40/40 [00:11<00:00,  3.49it/s]\n",
      "100%|██████████| 40/40 [00:11<00:00,  3.48it/s]\n",
      "100%|██████████| 40/40 [00:11<00:00,  3.52it/s]\n",
      "100%|██████████| 40/40 [00:11<00:00,  3.51it/s]\n",
      "100%|██████████| 40/40 [00:11<00:00,  3.50it/s]\n",
      "100%|██████████| 40/40 [00:11<00:00,  3.49it/s]\n",
      "100%|██████████| 40/40 [00:11<00:00,  3.51it/s]\n",
      "100%|██████████| 40/40 [00:11<00:00,  3.49it/s]\n",
      "100%|██████████| 40/40 [00:11<00:00,  3.49it/s]\n",
      " 85%|████████▌ | 34/40 [00:09<00:01,  3.45it/s]"
     ]
    }
   ],
   "source": [
    "for i in range(2236,5000):\n",
    "    np.random.seed()\n",
    "    type_1 = type_arr[np.random.randint(0,2)]\n",
    "    type_2 = type_arr[np.random.randint(0,2)]\n",
    "    np.random.seed()\n",
    "    index_1 = np.random.randint(0,600)\n",
    "    index_2 = np.random.randint(0,600)\n",
    "    with open(f'rawjet_train_top_{type_1}_{index_1}.pickle', 'rb') as handle:\n",
    "        A = pickle.load(handle)\n",
    "    with open(f'rawjet_train_top_{type_2}_{index_2}.pickle', 'rb') as handle:\n",
    "        B = pickle.load(handle)\n",
    "    np.random.seed()\n",
    "    perm = np.random.permutation(10000)\n",
    "    #print(A[perm[:5000]].shape)\n",
    "    #print(B[perm[5000:]].shape)\n",
    "    train_set = JetDataset(False, None, A[perm[:5000]],B[perm[5000:]],8)\n",
    "    torch.save(train_set, f'/nobackup/users/sangeon/datasets/jets/jet_train_8part_{i}.pt')\n"
   ]
  },
  {
   "cell_type": "code",
   "execution_count": null,
   "metadata": {},
   "outputs": [
    {
     "name": "stderr",
     "output_type": "stream",
     "text": [
      "  1%|          | 1/100 [01:12<2:00:10, 72.83s/it]"
     ]
    },
    {
     "name": "stdout",
     "output_type": "stream",
     "text": [
      "time:  72.82877159118652\n"
     ]
    },
    {
     "name": "stderr",
     "output_type": "stream",
     "text": [
      "  2%|▏         | 2/100 [02:25<1:59:09, 72.96s/it]"
     ]
    },
    {
     "name": "stdout",
     "output_type": "stream",
     "text": [
      "time:  73.04729223251343\n"
     ]
    },
    {
     "name": "stderr",
     "output_type": "stream",
     "text": [
      "  3%|▎         | 3/100 [03:39<1:58:06, 73.06s/it]"
     ]
    },
    {
     "name": "stdout",
     "output_type": "stream",
     "text": [
      "time:  73.18204069137573\n"
     ]
    },
    {
     "name": "stderr",
     "output_type": "stream",
     "text": [
      "  4%|▍         | 4/100 [04:51<1:56:49, 73.01s/it]"
     ]
    },
    {
     "name": "stdout",
     "output_type": "stream",
     "text": [
      "time:  72.93655967712402\n"
     ]
    },
    {
     "name": "stderr",
     "output_type": "stream",
     "text": [
      "  5%|▌         | 5/100 [06:05<1:55:36, 73.01s/it]"
     ]
    },
    {
     "name": "stdout",
     "output_type": "stream",
     "text": [
      "time:  73.01810383796692\n"
     ]
    },
    {
     "name": "stderr",
     "output_type": "stream",
     "text": [
      "  6%|▌         | 6/100 [07:18<1:54:26, 73.05s/it]"
     ]
    },
    {
     "name": "stdout",
     "output_type": "stream",
     "text": [
      "time:  73.11717510223389\n"
     ]
    },
    {
     "name": "stderr",
     "output_type": "stream",
     "text": [
      "  7%|▋         | 7/100 [08:31<1:53:15, 73.07s/it]"
     ]
    },
    {
     "name": "stdout",
     "output_type": "stream",
     "text": [
      "time:  73.1229419708252\n"
     ]
    },
    {
     "name": "stderr",
     "output_type": "stream",
     "text": [
      "  8%|▊         | 8/100 [09:44<1:52:08, 73.14s/it]"
     ]
    },
    {
     "name": "stdout",
     "output_type": "stream",
     "text": [
      "time:  73.26777529716492\n"
     ]
    },
    {
     "name": "stderr",
     "output_type": "stream",
     "text": [
      "  9%|▉         | 9/100 [10:57<1:50:55, 73.14s/it]"
     ]
    },
    {
     "name": "stdout",
     "output_type": "stream",
     "text": [
      "time:  73.1508355140686\n"
     ]
    },
    {
     "name": "stderr",
     "output_type": "stream",
     "text": [
      " 10%|█         | 10/100 [12:10<1:49:45, 73.18s/it]"
     ]
    },
    {
     "name": "stdout",
     "output_type": "stream",
     "text": [
      "time:  73.25524640083313\n"
     ]
    },
    {
     "name": "stderr",
     "output_type": "stream",
     "text": [
      " 11%|█         | 11/100 [13:23<1:48:23, 73.07s/it]"
     ]
    },
    {
     "name": "stdout",
     "output_type": "stream",
     "text": [
      "time:  72.8388249874115\n"
     ]
    },
    {
     "name": "stderr",
     "output_type": "stream",
     "text": [
      " 12%|█▏        | 12/100 [14:37<1:47:16, 73.14s/it]"
     ]
    },
    {
     "name": "stdout",
     "output_type": "stream",
     "text": [
      "time:  73.29770398139954\n"
     ]
    },
    {
     "name": "stderr",
     "output_type": "stream",
     "text": [
      " 13%|█▎        | 13/100 [15:50<1:46:03, 73.14s/it]"
     ]
    },
    {
     "name": "stdout",
     "output_type": "stream",
     "text": [
      "time:  73.14226603507996\n"
     ]
    },
    {
     "name": "stderr",
     "output_type": "stream",
     "text": [
      " 14%|█▍        | 14/100 [17:03<1:44:47, 73.12s/it]"
     ]
    },
    {
     "name": "stdout",
     "output_type": "stream",
     "text": [
      "time:  73.05261421203613\n"
     ]
    },
    {
     "name": "stderr",
     "output_type": "stream",
     "text": [
      " 15%|█▌        | 15/100 [18:16<1:43:44, 73.23s/it]"
     ]
    },
    {
     "name": "stdout",
     "output_type": "stream",
     "text": [
      "time:  73.51055359840393\n"
     ]
    },
    {
     "name": "stderr",
     "output_type": "stream",
     "text": [
      " 16%|█▌        | 16/100 [19:29<1:42:31, 73.23s/it]"
     ]
    },
    {
     "name": "stdout",
     "output_type": "stream",
     "text": [
      "time:  73.20733070373535\n"
     ]
    },
    {
     "name": "stderr",
     "output_type": "stream",
     "text": [
      " 17%|█▋        | 17/100 [20:43<1:41:15, 73.20s/it]"
     ]
    },
    {
     "name": "stdout",
     "output_type": "stream",
     "text": [
      "time:  73.1291491985321\n"
     ]
    },
    {
     "name": "stderr",
     "output_type": "stream",
     "text": [
      " 18%|█▊        | 18/100 [21:56<1:40:02, 73.21s/it]"
     ]
    },
    {
     "name": "stdout",
     "output_type": "stream",
     "text": [
      "time:  73.22524857521057\n"
     ]
    },
    {
     "name": "stderr",
     "output_type": "stream",
     "text": [
      " 19%|█▉        | 19/100 [23:09<1:38:49, 73.20s/it]"
     ]
    },
    {
     "name": "stdout",
     "output_type": "stream",
     "text": [
      "time:  73.17592096328735\n"
     ]
    },
    {
     "name": "stderr",
     "output_type": "stream",
     "text": [
      " 20%|██        | 20/100 [24:22<1:37:36, 73.20s/it]"
     ]
    },
    {
     "name": "stdout",
     "output_type": "stream",
     "text": [
      "time:  73.21654462814331\n"
     ]
    },
    {
     "name": "stderr",
     "output_type": "stream",
     "text": [
      " 21%|██        | 21/100 [25:35<1:36:23, 73.20s/it]"
     ]
    },
    {
     "name": "stdout",
     "output_type": "stream",
     "text": [
      "time:  73.20729470252991\n"
     ]
    },
    {
     "name": "stderr",
     "output_type": "stream",
     "text": [
      " 22%|██▏       | 22/100 [26:49<1:35:14, 73.26s/it]"
     ]
    },
    {
     "name": "stdout",
     "output_type": "stream",
     "text": [
      "time:  73.38336086273193\n"
     ]
    },
    {
     "name": "stderr",
     "output_type": "stream",
     "text": [
      " 23%|██▎       | 23/100 [28:02<1:34:00, 73.25s/it]"
     ]
    },
    {
     "name": "stdout",
     "output_type": "stream",
     "text": [
      "time:  73.22355103492737\n"
     ]
    },
    {
     "name": "stderr",
     "output_type": "stream",
     "text": [
      " 24%|██▍       | 24/100 [29:15<1:32:44, 73.22s/it]"
     ]
    },
    {
     "name": "stdout",
     "output_type": "stream",
     "text": [
      "time:  73.14681100845337\n"
     ]
    },
    {
     "name": "stderr",
     "output_type": "stream",
     "text": [
      " 25%|██▌       | 25/100 [30:28<1:31:31, 73.21s/it]"
     ]
    },
    {
     "name": "stdout",
     "output_type": "stream",
     "text": [
      "time:  73.20363450050354\n"
     ]
    },
    {
     "name": "stderr",
     "output_type": "stream",
     "text": [
      " 26%|██▌       | 26/100 [31:42<1:30:16, 73.19s/it]"
     ]
    },
    {
     "name": "stdout",
     "output_type": "stream",
     "text": [
      "time:  73.13095712661743\n"
     ]
    },
    {
     "name": "stderr",
     "output_type": "stream",
     "text": [
      " 27%|██▋       | 27/100 [32:55<1:29:03, 73.20s/it]"
     ]
    },
    {
     "name": "stdout",
     "output_type": "stream",
     "text": [
      "time:  73.21222639083862\n"
     ]
    },
    {
     "name": "stderr",
     "output_type": "stream",
     "text": [
      " 28%|██▊       | 28/100 [34:08<1:27:55, 73.27s/it]"
     ]
    },
    {
     "name": "stdout",
     "output_type": "stream",
     "text": [
      "time:  73.43911814689636\n"
     ]
    },
    {
     "name": "stderr",
     "output_type": "stream",
     "text": [
      " 29%|██▉       | 29/100 [35:21<1:26:41, 73.26s/it]"
     ]
    },
    {
     "name": "stdout",
     "output_type": "stream",
     "text": [
      "time:  73.22081875801086\n"
     ]
    },
    {
     "name": "stderr",
     "output_type": "stream",
     "text": [
      " 30%|███       | 30/100 [36:35<1:25:27, 73.25s/it]"
     ]
    },
    {
     "name": "stdout",
     "output_type": "stream",
     "text": [
      "time:  73.22243762016296\n"
     ]
    },
    {
     "name": "stderr",
     "output_type": "stream",
     "text": [
      " 31%|███       | 31/100 [37:48<1:24:14, 73.25s/it]"
     ]
    },
    {
     "name": "stdout",
     "output_type": "stream",
     "text": [
      "time:  73.26646900177002\n"
     ]
    },
    {
     "name": "stderr",
     "output_type": "stream",
     "text": [
      " 32%|███▏      | 32/100 [39:01<1:23:05, 73.31s/it]"
     ]
    },
    {
     "name": "stdout",
     "output_type": "stream",
     "text": [
      "time:  73.44527292251587\n"
     ]
    },
    {
     "name": "stderr",
     "output_type": "stream",
     "text": [
      " 33%|███▎      | 33/100 [40:15<1:21:52, 73.33s/it]"
     ]
    },
    {
     "name": "stdout",
     "output_type": "stream",
     "text": [
      "time:  73.35822939872742\n"
     ]
    },
    {
     "name": "stderr",
     "output_type": "stream",
     "text": [
      " 34%|███▍      | 34/100 [41:28<1:20:39, 73.33s/it]"
     ]
    },
    {
     "name": "stdout",
     "output_type": "stream",
     "text": [
      "time:  73.33687996864319\n"
     ]
    },
    {
     "name": "stderr",
     "output_type": "stream",
     "text": [
      " 35%|███▌      | 35/100 [42:41<1:19:23, 73.28s/it]"
     ]
    },
    {
     "name": "stdout",
     "output_type": "stream",
     "text": [
      "time:  73.18084168434143\n"
     ]
    },
    {
     "name": "stderr",
     "output_type": "stream",
     "text": [
      " 36%|███▌      | 36/100 [43:55<1:18:10, 73.29s/it]"
     ]
    },
    {
     "name": "stdout",
     "output_type": "stream",
     "text": [
      "time:  73.30139946937561\n"
     ]
    },
    {
     "name": "stderr",
     "output_type": "stream",
     "text": [
      " 37%|███▋      | 37/100 [45:08<1:16:55, 73.26s/it]"
     ]
    },
    {
     "name": "stdout",
     "output_type": "stream",
     "text": [
      "time:  73.18670415878296\n"
     ]
    },
    {
     "name": "stderr",
     "output_type": "stream",
     "text": [
      " 38%|███▊      | 38/100 [46:21<1:15:41, 73.24s/it]"
     ]
    },
    {
     "name": "stdout",
     "output_type": "stream",
     "text": [
      "time:  73.20197606086731\n"
     ]
    },
    {
     "name": "stderr",
     "output_type": "stream",
     "text": [
      " 39%|███▉      | 39/100 [47:34<1:14:29, 73.28s/it]"
     ]
    },
    {
     "name": "stdout",
     "output_type": "stream",
     "text": [
      "time:  73.35339593887329\n"
     ]
    },
    {
     "name": "stderr",
     "output_type": "stream",
     "text": [
      " 40%|████      | 40/100 [48:48<1:13:18, 73.31s/it]"
     ]
    },
    {
     "name": "stdout",
     "output_type": "stream",
     "text": [
      "time:  73.37836575508118\n"
     ]
    },
    {
     "name": "stderr",
     "output_type": "stream",
     "text": [
      " 41%|████      | 41/100 [50:01<1:12:06, 73.33s/it]"
     ]
    },
    {
     "name": "stdout",
     "output_type": "stream",
     "text": [
      "time:  73.37283110618591\n"
     ]
    },
    {
     "name": "stderr",
     "output_type": "stream",
     "text": [
      " 42%|████▏     | 42/100 [51:15<1:10:56, 73.38s/it]"
     ]
    },
    {
     "name": "stdout",
     "output_type": "stream",
     "text": [
      "time:  73.51297307014465\n"
     ]
    },
    {
     "name": "stderr",
     "output_type": "stream",
     "text": [
      " 43%|████▎     | 43/100 [52:28<1:09:46, 73.45s/it]"
     ]
    },
    {
     "name": "stdout",
     "output_type": "stream",
     "text": [
      "time:  73.6187252998352\n"
     ]
    },
    {
     "name": "stderr",
     "output_type": "stream",
     "text": [
      " 44%|████▍     | 44/100 [53:41<1:08:30, 73.39s/it]"
     ]
    },
    {
     "name": "stdout",
     "output_type": "stream",
     "text": [
      "time:  73.2560806274414\n"
     ]
    },
    {
     "name": "stderr",
     "output_type": "stream",
     "text": [
      " 45%|████▌     | 45/100 [54:55<1:07:16, 73.38s/it]"
     ]
    },
    {
     "name": "stdout",
     "output_type": "stream",
     "text": [
      "time:  73.35555052757263\n"
     ]
    },
    {
     "name": "stderr",
     "output_type": "stream",
     "text": [
      " 46%|████▌     | 46/100 [56:08<1:06:05, 73.44s/it]"
     ]
    },
    {
     "name": "stdout",
     "output_type": "stream",
     "text": [
      "time:  73.55491065979004\n"
     ]
    },
    {
     "name": "stderr",
     "output_type": "stream",
     "text": [
      " 47%|████▋     | 47/100 [57:22<1:04:49, 73.38s/it]"
     ]
    },
    {
     "name": "stdout",
     "output_type": "stream",
     "text": [
      "time:  73.25296306610107\n"
     ]
    },
    {
     "name": "stderr",
     "output_type": "stream",
     "text": [
      " 48%|████▊     | 48/100 [58:35<1:03:34, 73.35s/it]"
     ]
    },
    {
     "name": "stdout",
     "output_type": "stream",
     "text": [
      "time:  73.26563501358032\n"
     ]
    },
    {
     "name": "stderr",
     "output_type": "stream",
     "text": [
      " 49%|████▉     | 49/100 [59:48<1:02:19, 73.33s/it]"
     ]
    },
    {
     "name": "stdout",
     "output_type": "stream",
     "text": [
      "time:  73.30126023292542\n"
     ]
    },
    {
     "name": "stderr",
     "output_type": "stream",
     "text": [
      " 50%|█████     | 50/100 [1:01:02<1:01:10, 73.41s/it]"
     ]
    },
    {
     "name": "stdout",
     "output_type": "stream",
     "text": [
      "time:  73.59424948692322\n"
     ]
    },
    {
     "name": "stderr",
     "output_type": "stream",
     "text": [
      " 51%|█████     | 51/100 [1:02:15<59:55, 73.37s/it]  "
     ]
    },
    {
     "name": "stdout",
     "output_type": "stream",
     "text": [
      "time:  73.28553795814514\n"
     ]
    },
    {
     "name": "stderr",
     "output_type": "stream",
     "text": [
      " 52%|█████▏    | 52/100 [1:03:28<58:42, 73.39s/it]"
     ]
    },
    {
     "name": "stdout",
     "output_type": "stream",
     "text": [
      "time:  73.4159767627716\n"
     ]
    },
    {
     "name": "stderr",
     "output_type": "stream",
     "text": [
      " 53%|█████▎    | 53/100 [1:04:42<57:29, 73.39s/it]"
     ]
    },
    {
     "name": "stdout",
     "output_type": "stream",
     "text": [
      "time:  73.38113641738892\n"
     ]
    },
    {
     "name": "stderr",
     "output_type": "stream",
     "text": [
      " 54%|█████▍    | 54/100 [1:05:55<56:13, 73.33s/it]"
     ]
    },
    {
     "name": "stdout",
     "output_type": "stream",
     "text": [
      "time:  73.20050024986267\n"
     ]
    },
    {
     "name": "stderr",
     "output_type": "stream",
     "text": [
      " 55%|█████▌    | 55/100 [1:07:08<54:58, 73.31s/it]"
     ]
    },
    {
     "name": "stdout",
     "output_type": "stream",
     "text": [
      "time:  73.25974678993225\n"
     ]
    },
    {
     "name": "stderr",
     "output_type": "stream",
     "text": [
      " 56%|█████▌    | 56/100 [1:08:22<53:46, 73.32s/it]"
     ]
    },
    {
     "name": "stdout",
     "output_type": "stream",
     "text": [
      "time:  73.34096670150757\n"
     ]
    },
    {
     "name": "stderr",
     "output_type": "stream",
     "text": [
      " 57%|█████▋    | 57/100 [1:09:35<52:31, 73.30s/it]"
     ]
    },
    {
     "name": "stdout",
     "output_type": "stream",
     "text": [
      "time:  73.24254274368286\n"
     ]
    },
    {
     "name": "stderr",
     "output_type": "stream",
     "text": [
      " 58%|█████▊    | 58/100 [1:10:48<51:18, 73.29s/it]"
     ]
    },
    {
     "name": "stdout",
     "output_type": "stream",
     "text": [
      "time:  73.27849435806274\n"
     ]
    },
    {
     "name": "stderr",
     "output_type": "stream",
     "text": [
      " 59%|█████▉    | 59/100 [1:12:01<50:03, 73.25s/it]"
     ]
    },
    {
     "name": "stdout",
     "output_type": "stream",
     "text": [
      "time:  73.1608054637909\n"
     ]
    },
    {
     "name": "stderr",
     "output_type": "stream",
     "text": [
      " 60%|██████    | 60/100 [1:13:15<48:50, 73.26s/it]"
     ]
    },
    {
     "name": "stdout",
     "output_type": "stream",
     "text": [
      "time:  73.29204893112183\n"
     ]
    },
    {
     "name": "stderr",
     "output_type": "stream",
     "text": [
      " 61%|██████    | 61/100 [1:14:28<47:35, 73.21s/it]"
     ]
    },
    {
     "name": "stdout",
     "output_type": "stream",
     "text": [
      "time:  73.066415309906\n"
     ]
    },
    {
     "name": "stderr",
     "output_type": "stream",
     "text": [
      " 62%|██████▏   | 62/100 [1:15:41<46:21, 73.20s/it]"
     ]
    },
    {
     "name": "stdout",
     "output_type": "stream",
     "text": [
      "time:  73.1889636516571\n"
     ]
    },
    {
     "name": "stderr",
     "output_type": "stream",
     "text": [
      " 63%|██████▎   | 63/100 [1:16:54<45:11, 73.28s/it]"
     ]
    },
    {
     "name": "stdout",
     "output_type": "stream",
     "text": [
      "time:  73.45819568634033\n"
     ]
    },
    {
     "name": "stderr",
     "output_type": "stream",
     "text": [
      " 64%|██████▍   | 64/100 [1:18:08<43:57, 73.27s/it]"
     ]
    },
    {
     "name": "stdout",
     "output_type": "stream",
     "text": [
      "time:  73.24060845375061\n"
     ]
    },
    {
     "name": "stderr",
     "output_type": "stream",
     "text": [
      " 65%|██████▌   | 65/100 [1:19:21<42:45, 73.30s/it]"
     ]
    },
    {
     "name": "stdout",
     "output_type": "stream",
     "text": [
      "time:  73.38190817832947\n"
     ]
    },
    {
     "name": "stderr",
     "output_type": "stream",
     "text": [
      " 66%|██████▌   | 66/100 [1:20:34<41:33, 73.33s/it]"
     ]
    },
    {
     "name": "stdout",
     "output_type": "stream",
     "text": [
      "time:  73.4005024433136\n"
     ]
    },
    {
     "name": "stderr",
     "output_type": "stream",
     "text": [
      " 67%|██████▋   | 67/100 [1:21:48<40:21, 73.39s/it]"
     ]
    },
    {
     "name": "stdout",
     "output_type": "stream",
     "text": [
      "time:  73.51640558242798\n"
     ]
    },
    {
     "name": "stderr",
     "output_type": "stream",
     "text": [
      " 68%|██████▊   | 68/100 [1:23:01<39:07, 73.37s/it]"
     ]
    },
    {
     "name": "stdout",
     "output_type": "stream",
     "text": [
      "time:  73.31776666641235\n"
     ]
    },
    {
     "name": "stderr",
     "output_type": "stream",
     "text": [
      " 69%|██████▉   | 69/100 [1:24:14<37:53, 73.34s/it]"
     ]
    },
    {
     "name": "stdout",
     "output_type": "stream",
     "text": [
      "time:  73.2837541103363\n"
     ]
    },
    {
     "name": "stderr",
     "output_type": "stream",
     "text": [
      " 70%|███████   | 70/100 [1:25:28<36:39, 73.33s/it]"
     ]
    },
    {
     "name": "stdout",
     "output_type": "stream",
     "text": [
      "time:  73.29465699195862\n"
     ]
    },
    {
     "name": "stderr",
     "output_type": "stream",
     "text": [
      " 71%|███████   | 71/100 [1:26:41<35:24, 73.26s/it]"
     ]
    },
    {
     "name": "stdout",
     "output_type": "stream",
     "text": [
      "time:  73.11575746536255\n"
     ]
    },
    {
     "name": "stderr",
     "output_type": "stream",
     "text": [
      " 72%|███████▏  | 72/100 [1:27:54<34:10, 73.25s/it]"
     ]
    },
    {
     "name": "stdout",
     "output_type": "stream",
     "text": [
      "time:  73.2039566040039\n"
     ]
    },
    {
     "name": "stderr",
     "output_type": "stream",
     "text": [
      " 73%|███████▎  | 73/100 [1:29:08<33:00, 73.37s/it]"
     ]
    },
    {
     "name": "stdout",
     "output_type": "stream",
     "text": [
      "time:  73.64373826980591\n"
     ]
    },
    {
     "name": "stderr",
     "output_type": "stream",
     "text": [
      " 74%|███████▍  | 74/100 [1:30:21<31:46, 73.34s/it]"
     ]
    },
    {
     "name": "stdout",
     "output_type": "stream",
     "text": [
      "time:  73.26240921020508\n"
     ]
    },
    {
     "name": "stderr",
     "output_type": "stream",
     "text": [
      " 75%|███████▌  | 75/100 [1:31:34<30:31, 73.26s/it]"
     ]
    },
    {
     "name": "stdout",
     "output_type": "stream",
     "text": [
      "time:  73.08561444282532\n"
     ]
    },
    {
     "name": "stderr",
     "output_type": "stream",
     "text": [
      " 76%|███████▌  | 76/100 [1:32:47<29:17, 73.23s/it]"
     ]
    },
    {
     "name": "stdout",
     "output_type": "stream",
     "text": [
      "time:  73.14213585853577\n"
     ]
    },
    {
     "name": "stderr",
     "output_type": "stream",
     "text": [
      " 77%|███████▋  | 77/100 [1:34:01<28:04, 73.24s/it]"
     ]
    },
    {
     "name": "stdout",
     "output_type": "stream",
     "text": [
      "time:  73.27414035797119\n"
     ]
    },
    {
     "name": "stderr",
     "output_type": "stream",
     "text": [
      " 78%|███████▊  | 78/100 [1:35:14<26:51, 73.24s/it]"
     ]
    },
    {
     "name": "stdout",
     "output_type": "stream",
     "text": [
      "time:  73.23035788536072\n"
     ]
    },
    {
     "name": "stderr",
     "output_type": "stream",
     "text": [
      " 79%|███████▉  | 79/100 [1:36:27<25:38, 73.27s/it]"
     ]
    },
    {
     "name": "stdout",
     "output_type": "stream",
     "text": [
      "time:  73.35445499420166\n"
     ]
    },
    {
     "name": "stderr",
     "output_type": "stream",
     "text": [
      " 80%|████████  | 80/100 [1:37:41<24:26, 73.31s/it]"
     ]
    },
    {
     "name": "stdout",
     "output_type": "stream",
     "text": [
      "time:  73.40398073196411\n"
     ]
    },
    {
     "name": "stderr",
     "output_type": "stream",
     "text": [
      " 81%|████████  | 81/100 [1:38:54<23:13, 73.34s/it]"
     ]
    },
    {
     "name": "stdout",
     "output_type": "stream",
     "text": [
      "time:  73.40597748756409\n"
     ]
    },
    {
     "name": "stderr",
     "output_type": "stream",
     "text": [
      " 82%|████████▏ | 82/100 [1:40:07<21:59, 73.29s/it]"
     ]
    },
    {
     "name": "stdout",
     "output_type": "stream",
     "text": [
      "time:  73.15744137763977\n"
     ]
    },
    {
     "name": "stderr",
     "output_type": "stream",
     "text": [
      " 83%|████████▎ | 83/100 [1:41:21<20:47, 73.39s/it]"
     ]
    },
    {
     "name": "stdout",
     "output_type": "stream",
     "text": [
      "time:  73.63054633140564\n"
     ]
    },
    {
     "name": "stderr",
     "output_type": "stream",
     "text": [
      " 84%|████████▍ | 84/100 [1:42:34<19:33, 73.33s/it]"
     ]
    },
    {
     "name": "stdout",
     "output_type": "stream",
     "text": [
      "time:  73.17717242240906\n"
     ]
    },
    {
     "name": "stderr",
     "output_type": "stream",
     "text": [
      " 85%|████████▌ | 85/100 [1:43:47<18:19, 73.28s/it]"
     ]
    },
    {
     "name": "stdout",
     "output_type": "stream",
     "text": [
      "time:  73.18489360809326\n"
     ]
    },
    {
     "name": "stderr",
     "output_type": "stream",
     "text": [
      " 86%|████████▌ | 86/100 [1:45:00<17:05, 73.22s/it]"
     ]
    },
    {
     "name": "stdout",
     "output_type": "stream",
     "text": [
      "time:  73.06095266342163\n"
     ]
    },
    {
     "name": "stderr",
     "output_type": "stream",
     "text": [
      " 87%|████████▋ | 87/100 [1:46:13<15:51, 73.23s/it]"
     ]
    },
    {
     "name": "stdout",
     "output_type": "stream",
     "text": [
      "time:  73.2596971988678\n"
     ]
    },
    {
     "name": "stderr",
     "output_type": "stream",
     "text": [
      " 88%|████████▊ | 88/100 [1:47:27<14:39, 73.33s/it]"
     ]
    },
    {
     "name": "stdout",
     "output_type": "stream",
     "text": [
      "time:  73.55201053619385\n"
     ]
    },
    {
     "name": "stderr",
     "output_type": "stream",
     "text": [
      " 89%|████████▉ | 89/100 [1:48:40<13:26, 73.28s/it]"
     ]
    },
    {
     "name": "stdout",
     "output_type": "stream",
     "text": [
      "time:  73.16557192802429\n"
     ]
    },
    {
     "name": "stderr",
     "output_type": "stream",
     "text": [
      " 90%|█████████ | 90/100 [1:49:53<12:12, 73.28s/it]"
     ]
    },
    {
     "name": "stdout",
     "output_type": "stream",
     "text": [
      "time:  73.29328441619873\n"
     ]
    },
    {
     "name": "stderr",
     "output_type": "stream",
     "text": [
      " 91%|█████████ | 91/100 [1:51:07<10:59, 73.28s/it]"
     ]
    },
    {
     "name": "stdout",
     "output_type": "stream",
     "text": [
      "time:  73.26040196418762\n"
     ]
    },
    {
     "name": "stderr",
     "output_type": "stream",
     "text": [
      " 92%|█████████▏| 92/100 [1:52:20<09:47, 73.40s/it]"
     ]
    },
    {
     "name": "stdout",
     "output_type": "stream",
     "text": [
      "time:  73.67323088645935\n"
     ]
    },
    {
     "name": "stderr",
     "output_type": "stream",
     "text": [
      " 93%|█████████▎| 93/100 [1:53:34<08:33, 73.38s/it]"
     ]
    },
    {
     "name": "stdout",
     "output_type": "stream",
     "text": [
      "time:  73.3296103477478\n"
     ]
    },
    {
     "name": "stderr",
     "output_type": "stream",
     "text": [
      " 94%|█████████▍| 94/100 [1:54:47<07:19, 73.32s/it]"
     ]
    },
    {
     "name": "stdout",
     "output_type": "stream",
     "text": [
      "time:  73.17862272262573\n"
     ]
    },
    {
     "name": "stderr",
     "output_type": "stream",
     "text": [
      " 95%|█████████▌| 95/100 [1:56:00<06:06, 73.37s/it]"
     ]
    },
    {
     "name": "stdout",
     "output_type": "stream",
     "text": [
      "time:  73.48512578010559\n"
     ]
    },
    {
     "name": "stderr",
     "output_type": "stream",
     "text": [
      " 96%|█████████▌| 96/100 [1:57:14<04:53, 73.33s/it]"
     ]
    },
    {
     "name": "stdout",
     "output_type": "stream",
     "text": [
      "time:  73.25415897369385\n"
     ]
    },
    {
     "name": "stderr",
     "output_type": "stream",
     "text": [
      " 97%|█████████▋| 97/100 [1:58:27<03:40, 73.35s/it]"
     ]
    },
    {
     "name": "stdout",
     "output_type": "stream",
     "text": [
      "time:  73.37689065933228\n"
     ]
    }
   ],
   "source": [
    "for i in tqdm(range(100)):\n",
    "    start = time.time()\n",
    "    np.random.seed()\n",
    "    top_2p = top_2p_8part.generate_dataset(10000)\n",
    "    np.random.seed()\n",
    "    top_3p = top_3p_8part.generate_dataset(10000)\n",
    "    with open(f'rawjet_train_top_2p_{i}.pickle', 'wb') as handle:\n",
    "        pickle.dump(top_2p, handle, protocol=pickle.HIGHEST_PROTOCOL)\n",
    "    with open(f'rawjet_train_top_3p_{i}.pickle', 'wb') as handle:\n",
    "        pickle.dump(top_3p, handle, protocol=pickle.HIGHEST_PROTOCOL)\n",
    "    end = time.time()\n",
    "    print(\"time: \", end-start)"
   ]
  },
  {
   "cell_type": "code",
   "execution_count": 7,
   "metadata": {},
   "outputs": [
    {
     "name": "stderr",
     "output_type": "stream",
     "text": [
      "  8%|▊         | 1/13 [01:17<15:28, 77.40s/it]"
     ]
    },
    {
     "name": "stdout",
     "output_type": "stream",
     "text": [
      "time:  77.39782905578613\n"
     ]
    },
    {
     "name": "stderr",
     "output_type": "stream",
     "text": [
      " 15%|█▌        | 2/13 [02:36<14:24, 78.60s/it]"
     ]
    },
    {
     "name": "stdout",
     "output_type": "stream",
     "text": [
      "time:  79.44325947761536\n"
     ]
    },
    {
     "name": "stderr",
     "output_type": "stream",
     "text": [
      " 23%|██▎       | 3/13 [03:55<13:04, 78.41s/it]"
     ]
    },
    {
     "name": "stdout",
     "output_type": "stream",
     "text": [
      "time:  78.16985750198364\n"
     ]
    },
    {
     "name": "stderr",
     "output_type": "stream",
     "text": [
      " 31%|███       | 4/13 [05:14<11:50, 78.93s/it]"
     ]
    },
    {
     "name": "stdout",
     "output_type": "stream",
     "text": [
      "time:  79.74110507965088\n"
     ]
    },
    {
     "name": "stderr",
     "output_type": "stream",
     "text": [
      " 38%|███▊      | 5/13 [06:31<10:26, 78.30s/it]"
     ]
    },
    {
     "name": "stdout",
     "output_type": "stream",
     "text": [
      "time:  77.18928480148315\n"
     ]
    },
    {
     "name": "stderr",
     "output_type": "stream",
     "text": [
      " 46%|████▌     | 6/13 [07:50<09:08, 78.32s/it]"
     ]
    },
    {
     "name": "stdout",
     "output_type": "stream",
     "text": [
      "time:  78.358069896698\n"
     ]
    },
    {
     "name": "stderr",
     "output_type": "stream",
     "text": [
      " 54%|█████▍    | 7/13 [09:08<07:50, 78.42s/it]"
     ]
    },
    {
     "name": "stdout",
     "output_type": "stream",
     "text": [
      "time:  78.62317228317261\n"
     ]
    },
    {
     "name": "stderr",
     "output_type": "stream",
     "text": [
      " 62%|██████▏   | 8/13 [10:28<06:33, 78.69s/it]"
     ]
    },
    {
     "name": "stdout",
     "output_type": "stream",
     "text": [
      "time:  79.26886630058289\n"
     ]
    },
    {
     "name": "stderr",
     "output_type": "stream",
     "text": [
      " 69%|██████▉   | 9/13 [11:48<05:16, 79.14s/it]"
     ]
    },
    {
     "name": "stdout",
     "output_type": "stream",
     "text": [
      "time:  80.13187193870544\n"
     ]
    },
    {
     "name": "stderr",
     "output_type": "stream",
     "text": [
      " 77%|███████▋  | 10/13 [13:06<03:56, 78.94s/it]"
     ]
    },
    {
     "name": "stdout",
     "output_type": "stream",
     "text": [
      "time:  78.50045728683472\n"
     ]
    },
    {
     "name": "stderr",
     "output_type": "stream",
     "text": [
      " 85%|████████▍ | 11/13 [14:24<02:37, 78.54s/it]"
     ]
    },
    {
     "name": "stdout",
     "output_type": "stream",
     "text": [
      "time:  77.62972283363342\n"
     ]
    },
    {
     "name": "stderr",
     "output_type": "stream",
     "text": [
      " 92%|█████████▏| 12/13 [15:42<01:18, 78.42s/it]"
     ]
    },
    {
     "name": "stdout",
     "output_type": "stream",
     "text": [
      "time:  78.15016460418701\n"
     ]
    },
    {
     "name": "stderr",
     "output_type": "stream",
     "text": [
      "100%|██████████| 13/13 [17:02<00:00, 78.67s/it]"
     ]
    },
    {
     "name": "stdout",
     "output_type": "stream",
     "text": [
      "time:  80.07684516906738\n"
     ]
    },
    {
     "name": "stderr",
     "output_type": "stream",
     "text": [
      "\n"
     ]
    }
   ],
   "source": [
    "for i in tqdm(range(587,600)):\n",
    "    start = time.time()\n",
    "    np.random.seed()\n",
    "    top_2p = top_2p_8part.generate_dataset(10000)\n",
    "    np.random.seed()\n",
    "    top_3p = top_3p_8part.generate_dataset(10000)\n",
    "    with open(f'rawjet_train_top_2p_{i}.pickle', 'wb') as handle:\n",
    "        pickle.dump(top_2p, handle, protocol=pickle.HIGHEST_PROTOCOL)\n",
    "    with open(f'rawjet_train_top_3p_{i}.pickle', 'wb') as handle:\n",
    "        pickle.dump(top_3p, handle, protocol=pickle.HIGHEST_PROTOCOL)\n",
    "    end = time.time()\n",
    "    print(\"time: \", end-start)"
   ]
  },
  {
   "cell_type": "code",
   "execution_count": 7,
   "metadata": {},
   "outputs": [
    {
     "name": "stderr",
     "output_type": "stream",
     "text": [
      "  1%|          | 1/100 [01:32<2:33:15, 92.89s/it]"
     ]
    },
    {
     "name": "stdout",
     "output_type": "stream",
     "text": [
      "time:  92.88565015792847\n"
     ]
    },
    {
     "name": "stderr",
     "output_type": "stream",
     "text": [
      "  2%|▏         | 2/100 [03:04<2:30:16, 92.01s/it]"
     ]
    },
    {
     "name": "stdout",
     "output_type": "stream",
     "text": [
      "time:  91.38690519332886\n"
     ]
    },
    {
     "name": "stderr",
     "output_type": "stream",
     "text": [
      "  3%|▎         | 3/100 [04:37<2:29:39, 92.57s/it]"
     ]
    },
    {
     "name": "stdout",
     "output_type": "stream",
     "text": [
      "time:  93.23461413383484\n"
     ]
    },
    {
     "name": "stderr",
     "output_type": "stream",
     "text": [
      "  4%|▍         | 4/100 [06:10<2:28:15, 92.66s/it]"
     ]
    },
    {
     "name": "stdout",
     "output_type": "stream",
     "text": [
      "time:  92.80098485946655\n"
     ]
    },
    {
     "name": "stderr",
     "output_type": "stream",
     "text": [
      "  5%|▌         | 5/100 [07:44<2:27:24, 93.10s/it]"
     ]
    },
    {
     "name": "stdout",
     "output_type": "stream",
     "text": [
      "time:  93.8712854385376\n"
     ]
    },
    {
     "name": "stderr",
     "output_type": "stream",
     "text": [
      "  6%|▌         | 6/100 [09:15<2:24:51, 92.46s/it]"
     ]
    },
    {
     "name": "stdout",
     "output_type": "stream",
     "text": [
      "time:  91.22608757019043\n"
     ]
    },
    {
     "name": "stderr",
     "output_type": "stream",
     "text": [
      "  7%|▋         | 7/100 [10:49<2:24:03, 92.94s/it]"
     ]
    },
    {
     "name": "stdout",
     "output_type": "stream",
     "text": [
      "time:  93.93577527999878\n"
     ]
    },
    {
     "name": "stderr",
     "output_type": "stream",
     "text": [
      "  8%|▊         | 8/100 [12:20<2:21:37, 92.37s/it]"
     ]
    },
    {
     "name": "stdout",
     "output_type": "stream",
     "text": [
      "time:  91.1381950378418\n"
     ]
    },
    {
     "name": "stderr",
     "output_type": "stream",
     "text": [
      "  9%|▉         | 9/100 [13:52<2:19:44, 92.14s/it]"
     ]
    },
    {
     "name": "stdout",
     "output_type": "stream",
     "text": [
      "time:  91.62693190574646\n"
     ]
    },
    {
     "name": "stderr",
     "output_type": "stream",
     "text": [
      " 10%|█         | 10/100 [15:18<2:15:30, 90.34s/it]"
     ]
    },
    {
     "name": "stdout",
     "output_type": "stream",
     "text": [
      "time:  86.30760264396667\n"
     ]
    },
    {
     "name": "stderr",
     "output_type": "stream",
     "text": [
      " 11%|█         | 11/100 [16:46<2:13:04, 89.71s/it]"
     ]
    },
    {
     "name": "stdout",
     "output_type": "stream",
     "text": [
      "time:  88.27649807929993\n"
     ]
    },
    {
     "name": "stderr",
     "output_type": "stream",
     "text": [
      " 12%|█▏        | 12/100 [18:21<2:13:37, 91.11s/it]"
     ]
    },
    {
     "name": "stdout",
     "output_type": "stream",
     "text": [
      "time:  94.31378054618835\n"
     ]
    },
    {
     "name": "stderr",
     "output_type": "stream",
     "text": [
      " 13%|█▎        | 13/100 [19:55<2:13:47, 92.27s/it]"
     ]
    },
    {
     "name": "stdout",
     "output_type": "stream",
     "text": [
      "time:  94.9478509426117\n"
     ]
    },
    {
     "name": "stderr",
     "output_type": "stream",
     "text": [
      " 14%|█▍        | 14/100 [21:25<2:11:08, 91.49s/it]"
     ]
    },
    {
     "name": "stdout",
     "output_type": "stream",
     "text": [
      "time:  89.6832914352417\n"
     ]
    },
    {
     "name": "stderr",
     "output_type": "stream",
     "text": [
      " 15%|█▌        | 15/100 [22:56<2:09:32, 91.44s/it]"
     ]
    },
    {
     "name": "stdout",
     "output_type": "stream",
     "text": [
      "time:  91.32229995727539\n"
     ]
    },
    {
     "name": "stderr",
     "output_type": "stream",
     "text": [
      " 16%|█▌        | 16/100 [24:25<2:06:56, 90.68s/it]"
     ]
    },
    {
     "name": "stdout",
     "output_type": "stream",
     "text": [
      "time:  88.90106225013733\n"
     ]
    },
    {
     "name": "stderr",
     "output_type": "stream",
     "text": [
      " 17%|█▋        | 17/100 [25:59<2:06:27, 91.42s/it]"
     ]
    },
    {
     "name": "stdout",
     "output_type": "stream",
     "text": [
      "time:  93.14440560340881\n"
     ]
    },
    {
     "name": "stderr",
     "output_type": "stream",
     "text": [
      " 18%|█▊        | 18/100 [27:29<2:04:30, 91.11s/it]"
     ]
    },
    {
     "name": "stdout",
     "output_type": "stream",
     "text": [
      "time:  90.38803625106812\n"
     ]
    },
    {
     "name": "stderr",
     "output_type": "stream",
     "text": [
      " 19%|█▉        | 19/100 [28:57<2:01:53, 90.29s/it]"
     ]
    },
    {
     "name": "stdout",
     "output_type": "stream",
     "text": [
      "time:  88.38185715675354\n"
     ]
    },
    {
     "name": "stderr",
     "output_type": "stream",
     "text": [
      " 20%|██        | 20/100 [30:34<2:02:45, 92.07s/it]"
     ]
    },
    {
     "name": "stdout",
     "output_type": "stream",
     "text": [
      "time:  96.20508170127869\n"
     ]
    },
    {
     "name": "stderr",
     "output_type": "stream",
     "text": [
      " 21%|██        | 21/100 [32:10<2:02:57, 93.38s/it]"
     ]
    },
    {
     "name": "stdout",
     "output_type": "stream",
     "text": [
      "time:  96.44683384895325\n"
     ]
    },
    {
     "name": "stderr",
     "output_type": "stream",
     "text": [
      " 22%|██▏       | 22/100 [33:46<2:02:31, 94.25s/it]"
     ]
    },
    {
     "name": "stdout",
     "output_type": "stream",
     "text": [
      "time:  96.26502728462219\n"
     ]
    },
    {
     "name": "stderr",
     "output_type": "stream",
     "text": [
      " 23%|██▎       | 23/100 [35:20<2:00:38, 94.01s/it]"
     ]
    },
    {
     "name": "stdout",
     "output_type": "stream",
     "text": [
      "time:  93.4623818397522\n"
     ]
    },
    {
     "name": "stderr",
     "output_type": "stream",
     "text": [
      " 24%|██▍       | 24/100 [36:49<1:57:09, 92.49s/it]"
     ]
    },
    {
     "name": "stdout",
     "output_type": "stream",
     "text": [
      "time:  88.9519112110138\n"
     ]
    },
    {
     "name": "stderr",
     "output_type": "stream",
     "text": [
      " 25%|██▌       | 25/100 [38:17<1:53:58, 91.18s/it]"
     ]
    },
    {
     "name": "stdout",
     "output_type": "stream",
     "text": [
      "time:  88.11705565452576\n"
     ]
    },
    {
     "name": "stderr",
     "output_type": "stream",
     "text": [
      " 26%|██▌       | 26/100 [39:44<1:50:53, 89.92s/it]"
     ]
    },
    {
     "name": "stdout",
     "output_type": "stream",
     "text": [
      "time:  86.9638843536377\n"
     ]
    },
    {
     "name": "stderr",
     "output_type": "stream",
     "text": [
      " 27%|██▋       | 27/100 [41:15<1:49:52, 90.31s/it]"
     ]
    },
    {
     "name": "stdout",
     "output_type": "stream",
     "text": [
      "time:  91.21774888038635\n"
     ]
    },
    {
     "name": "stderr",
     "output_type": "stream",
     "text": [
      " 28%|██▊       | 28/100 [42:51<1:50:29, 92.07s/it]"
     ]
    },
    {
     "name": "stdout",
     "output_type": "stream",
     "text": [
      "time:  96.18549180030823\n"
     ]
    },
    {
     "name": "stderr",
     "output_type": "stream",
     "text": [
      " 29%|██▉       | 29/100 [44:26<1:49:46, 92.77s/it]"
     ]
    },
    {
     "name": "stdout",
     "output_type": "stream",
     "text": [
      "time:  94.39745211601257\n"
     ]
    },
    {
     "name": "stderr",
     "output_type": "stream",
     "text": [
      " 30%|███       | 30/100 [45:57<1:47:37, 92.25s/it]"
     ]
    },
    {
     "name": "stdout",
     "output_type": "stream",
     "text": [
      "time:  91.03587341308594\n"
     ]
    },
    {
     "name": "stderr",
     "output_type": "stream",
     "text": [
      " 31%|███       | 31/100 [47:33<1:47:28, 93.46s/it]"
     ]
    },
    {
     "name": "stdout",
     "output_type": "stream",
     "text": [
      "time:  96.28864026069641\n"
     ]
    },
    {
     "name": "stderr",
     "output_type": "stream",
     "text": [
      " 32%|███▏      | 32/100 [49:09<1:46:47, 94.23s/it]"
     ]
    },
    {
     "name": "stdout",
     "output_type": "stream",
     "text": [
      "time:  96.0170431137085\n"
     ]
    },
    {
     "name": "stderr",
     "output_type": "stream",
     "text": [
      " 33%|███▎      | 33/100 [50:42<1:44:53, 93.93s/it]"
     ]
    },
    {
     "name": "stdout",
     "output_type": "stream",
     "text": [
      "time:  93.22094774246216\n"
     ]
    },
    {
     "name": "stderr",
     "output_type": "stream",
     "text": [
      " 34%|███▍      | 34/100 [52:16<1:43:21, 93.96s/it]"
     ]
    },
    {
     "name": "stdout",
     "output_type": "stream",
     "text": [
      "time:  94.03804111480713\n"
     ]
    },
    {
     "name": "stderr",
     "output_type": "stream",
     "text": [
      " 35%|███▌      | 35/100 [53:48<1:41:08, 93.36s/it]"
     ]
    },
    {
     "name": "stdout",
     "output_type": "stream",
     "text": [
      "time:  91.96094036102295\n"
     ]
    },
    {
     "name": "stderr",
     "output_type": "stream",
     "text": [
      " 36%|███▌      | 36/100 [55:14<1:37:18, 91.23s/it]"
     ]
    },
    {
     "name": "stdout",
     "output_type": "stream",
     "text": [
      "time:  86.2569375038147\n"
     ]
    },
    {
     "name": "stderr",
     "output_type": "stream",
     "text": [
      " 37%|███▋      | 37/100 [56:48<1:36:36, 92.01s/it]"
     ]
    },
    {
     "name": "stdout",
     "output_type": "stream",
     "text": [
      "time:  93.83161616325378\n"
     ]
    },
    {
     "name": "stderr",
     "output_type": "stream",
     "text": [
      " 38%|███▊      | 38/100 [58:24<1:36:13, 93.11s/it]"
     ]
    },
    {
     "name": "stdout",
     "output_type": "stream",
     "text": [
      "time:  95.6869125366211\n"
     ]
    },
    {
     "name": "stderr",
     "output_type": "stream",
     "text": [
      " 39%|███▉      | 39/100 [1:00:00<1:35:38, 94.08s/it]"
     ]
    },
    {
     "name": "stdout",
     "output_type": "stream",
     "text": [
      "time:  96.32214307785034\n"
     ]
    },
    {
     "name": "stderr",
     "output_type": "stream",
     "text": [
      " 40%|████      | 40/100 [1:01:36<1:34:35, 94.60s/it]"
     ]
    },
    {
     "name": "stdout",
     "output_type": "stream",
     "text": [
      "time:  95.8115553855896\n"
     ]
    },
    {
     "name": "stderr",
     "output_type": "stream",
     "text": [
      " 41%|████      | 41/100 [1:03:10<1:32:46, 94.34s/it]"
     ]
    },
    {
     "name": "stdout",
     "output_type": "stream",
     "text": [
      "time:  93.75052642822266\n"
     ]
    },
    {
     "name": "stderr",
     "output_type": "stream",
     "text": [
      " 42%|████▏     | 42/100 [1:04:50<1:32:48, 96.00s/it]"
     ]
    },
    {
     "name": "stdout",
     "output_type": "stream",
     "text": [
      "time:  99.87672090530396\n"
     ]
    },
    {
     "name": "stderr",
     "output_type": "stream",
     "text": [
      " 43%|████▎     | 43/100 [1:06:25<1:31:04, 95.86s/it]"
     ]
    },
    {
     "name": "stdout",
     "output_type": "stream",
     "text": [
      "time:  95.5329864025116\n"
     ]
    },
    {
     "name": "stderr",
     "output_type": "stream",
     "text": [
      " 44%|████▍     | 44/100 [1:07:58<1:28:43, 95.06s/it]"
     ]
    },
    {
     "name": "stdout",
     "output_type": "stream",
     "text": [
      "time:  93.17550826072693\n"
     ]
    },
    {
     "name": "stderr",
     "output_type": "stream",
     "text": [
      " 45%|████▌     | 45/100 [1:09:32<1:26:46, 94.66s/it]"
     ]
    },
    {
     "name": "stdout",
     "output_type": "stream",
     "text": [
      "time:  93.72205853462219\n"
     ]
    },
    {
     "name": "stderr",
     "output_type": "stream",
     "text": [
      " 46%|████▌     | 46/100 [1:10:58<1:22:57, 92.17s/it]"
     ]
    },
    {
     "name": "stdout",
     "output_type": "stream",
     "text": [
      "time:  86.36373543739319\n"
     ]
    },
    {
     "name": "stderr",
     "output_type": "stream",
     "text": [
      " 47%|████▋     | 47/100 [1:12:30<1:21:16, 92.00s/it]"
     ]
    },
    {
     "name": "stdout",
     "output_type": "stream",
     "text": [
      "time:  91.61224961280823\n"
     ]
    },
    {
     "name": "stderr",
     "output_type": "stream",
     "text": [
      " 48%|████▊     | 48/100 [1:14:02<1:19:39, 91.92s/it]"
     ]
    },
    {
     "name": "stdout",
     "output_type": "stream",
     "text": [
      "time:  91.72156834602356\n"
     ]
    },
    {
     "name": "stderr",
     "output_type": "stream",
     "text": [
      " 49%|████▉     | 49/100 [1:15:36<1:18:45, 92.66s/it]"
     ]
    },
    {
     "name": "stdout",
     "output_type": "stream",
     "text": [
      "time:  94.38445711135864\n"
     ]
    },
    {
     "name": "stderr",
     "output_type": "stream",
     "text": [
      " 50%|█████     | 50/100 [1:17:09<1:17:08, 92.57s/it]"
     ]
    },
    {
     "name": "stdout",
     "output_type": "stream",
     "text": [
      "time:  92.34530687332153\n"
     ]
    },
    {
     "name": "stderr",
     "output_type": "stream",
     "text": [
      " 51%|█████     | 51/100 [1:18:39<1:15:08, 92.01s/it]"
     ]
    },
    {
     "name": "stdout",
     "output_type": "stream",
     "text": [
      "time:  90.70796370506287\n"
     ]
    },
    {
     "name": "stderr",
     "output_type": "stream",
     "text": [
      " 52%|█████▏    | 52/100 [1:20:12<1:13:51, 92.32s/it]"
     ]
    },
    {
     "name": "stdout",
     "output_type": "stream",
     "text": [
      "time:  93.05800294876099\n"
     ]
    },
    {
     "name": "stderr",
     "output_type": "stream",
     "text": [
      " 53%|█████▎    | 53/100 [1:21:43<1:11:52, 91.75s/it]"
     ]
    },
    {
     "name": "stdout",
     "output_type": "stream",
     "text": [
      "time:  90.41370153427124\n"
     ]
    },
    {
     "name": "stderr",
     "output_type": "stream",
     "text": [
      " 54%|█████▍    | 54/100 [1:23:14<1:10:18, 91.71s/it]"
     ]
    },
    {
     "name": "stdout",
     "output_type": "stream",
     "text": [
      "time:  91.61244869232178\n"
     ]
    },
    {
     "name": "stderr",
     "output_type": "stream",
     "text": [
      " 55%|█████▌    | 55/100 [1:24:41<1:07:36, 90.15s/it]"
     ]
    },
    {
     "name": "stdout",
     "output_type": "stream",
     "text": [
      "time:  86.49504971504211\n"
     ]
    },
    {
     "name": "stderr",
     "output_type": "stream",
     "text": [
      " 56%|█████▌    | 56/100 [1:26:13<1:06:33, 90.76s/it]"
     ]
    },
    {
     "name": "stdout",
     "output_type": "stream",
     "text": [
      "time:  92.17687463760376\n"
     ]
    },
    {
     "name": "stderr",
     "output_type": "stream",
     "text": [
      " 57%|█████▋    | 57/100 [1:27:43<1:04:55, 90.60s/it]"
     ]
    },
    {
     "name": "stdout",
     "output_type": "stream",
     "text": [
      "time:  90.2420129776001\n"
     ]
    },
    {
     "name": "stderr",
     "output_type": "stream",
     "text": [
      " 58%|█████▊    | 58/100 [1:29:13<1:03:15, 90.36s/it]"
     ]
    },
    {
     "name": "stdout",
     "output_type": "stream",
     "text": [
      "time:  89.79507660865784\n"
     ]
    },
    {
     "name": "stderr",
     "output_type": "stream",
     "text": [
      " 59%|█████▉    | 59/100 [1:30:47<1:02:26, 91.37s/it]"
     ]
    },
    {
     "name": "stdout",
     "output_type": "stream",
     "text": [
      "time:  93.71534419059753\n"
     ]
    },
    {
     "name": "stderr",
     "output_type": "stream",
     "text": [
      " 60%|██████    | 60/100 [1:32:19<1:01:06, 91.66s/it]"
     ]
    },
    {
     "name": "stdout",
     "output_type": "stream",
     "text": [
      "time:  92.3280885219574\n"
     ]
    },
    {
     "name": "stderr",
     "output_type": "stream",
     "text": [
      " 61%|██████    | 61/100 [1:33:44<58:17, 89.69s/it]  "
     ]
    },
    {
     "name": "stdout",
     "output_type": "stream",
     "text": [
      "time:  85.09441566467285\n"
     ]
    },
    {
     "name": "stderr",
     "output_type": "stream",
     "text": [
      " 62%|██████▏   | 62/100 [1:35:15<57:00, 90.00s/it]"
     ]
    },
    {
     "name": "stdout",
     "output_type": "stream",
     "text": [
      "time:  90.73741269111633\n"
     ]
    },
    {
     "name": "stderr",
     "output_type": "stream",
     "text": [
      " 63%|██████▎   | 63/100 [1:36:45<55:28, 89.96s/it]"
     ]
    },
    {
     "name": "stdout",
     "output_type": "stream",
     "text": [
      "time:  89.87103080749512\n"
     ]
    },
    {
     "name": "stderr",
     "output_type": "stream",
     "text": [
      " 64%|██████▍   | 64/100 [1:38:18<54:31, 90.87s/it]"
     ]
    },
    {
     "name": "stdout",
     "output_type": "stream",
     "text": [
      "time:  92.99964022636414\n"
     ]
    },
    {
     "name": "stderr",
     "output_type": "stream",
     "text": [
      " 65%|██████▌   | 65/100 [1:39:54<53:56, 92.46s/it]"
     ]
    },
    {
     "name": "stdout",
     "output_type": "stream",
     "text": [
      "time:  96.16611218452454\n"
     ]
    },
    {
     "name": "stderr",
     "output_type": "stream",
     "text": [
      " 66%|██████▌   | 66/100 [1:41:23<51:49, 91.46s/it]"
     ]
    },
    {
     "name": "stdout",
     "output_type": "stream",
     "text": [
      "time:  89.10763144493103\n"
     ]
    },
    {
     "name": "stderr",
     "output_type": "stream",
     "text": [
      " 67%|██████▋   | 67/100 [1:42:58<50:55, 92.59s/it]"
     ]
    },
    {
     "name": "stdout",
     "output_type": "stream",
     "text": [
      "time:  95.2440493106842\n"
     ]
    },
    {
     "name": "stderr",
     "output_type": "stream",
     "text": [
      " 68%|██████▊   | 68/100 [1:44:29<49:00, 91.89s/it]"
     ]
    },
    {
     "name": "stdout",
     "output_type": "stream",
     "text": [
      "time:  90.23364973068237\n"
     ]
    },
    {
     "name": "stderr",
     "output_type": "stream",
     "text": [
      " 69%|██████▉   | 69/100 [1:45:55<46:36, 90.20s/it]"
     ]
    },
    {
     "name": "stdout",
     "output_type": "stream",
     "text": [
      "time:  86.26685380935669\n"
     ]
    },
    {
     "name": "stderr",
     "output_type": "stream",
     "text": [
      " 70%|███████   | 70/100 [1:47:21<44:29, 88.99s/it]"
     ]
    },
    {
     "name": "stdout",
     "output_type": "stream",
     "text": [
      "time:  86.16497921943665\n"
     ]
    },
    {
     "name": "stderr",
     "output_type": "stream",
     "text": [
      " 71%|███████   | 71/100 [1:48:50<43:03, 89.08s/it]"
     ]
    },
    {
     "name": "stdout",
     "output_type": "stream",
     "text": [
      "time:  89.29038739204407\n"
     ]
    },
    {
     "name": "stderr",
     "output_type": "stream",
     "text": [
      " 72%|███████▏  | 72/100 [1:50:20<41:42, 89.38s/it]"
     ]
    },
    {
     "name": "stdout",
     "output_type": "stream",
     "text": [
      "time:  90.06600141525269\n"
     ]
    },
    {
     "name": "stderr",
     "output_type": "stream",
     "text": [
      " 73%|███████▎  | 73/100 [1:51:56<41:01, 91.15s/it]"
     ]
    },
    {
     "name": "stdout",
     "output_type": "stream",
     "text": [
      "time:  95.28709006309509\n"
     ]
    },
    {
     "name": "stderr",
     "output_type": "stream",
     "text": [
      " 74%|███████▍  | 74/100 [1:53:26<39:20, 90.78s/it]"
     ]
    },
    {
     "name": "stdout",
     "output_type": "stream",
     "text": [
      "time:  89.9307165145874\n"
     ]
    },
    {
     "name": "stderr",
     "output_type": "stream",
     "text": [
      " 75%|███████▌  | 75/100 [1:54:56<37:45, 90.62s/it]"
     ]
    },
    {
     "name": "stdout",
     "output_type": "stream",
     "text": [
      "time:  90.25082039833069\n"
     ]
    },
    {
     "name": "stderr",
     "output_type": "stream",
     "text": [
      " 76%|███████▌  | 76/100 [1:56:28<36:28, 91.18s/it]"
     ]
    },
    {
     "name": "stdout",
     "output_type": "stream",
     "text": [
      "time:  92.47380709648132\n"
     ]
    },
    {
     "name": "stderr",
     "output_type": "stream",
     "text": [
      " 77%|███████▋  | 77/100 [1:57:57<34:37, 90.33s/it]"
     ]
    },
    {
     "name": "stdout",
     "output_type": "stream",
     "text": [
      "time:  88.34819984436035\n"
     ]
    },
    {
     "name": "stderr",
     "output_type": "stream",
     "text": [
      " 78%|███████▊  | 78/100 [1:59:31<33:33, 91.50s/it]"
     ]
    },
    {
     "name": "stdout",
     "output_type": "stream",
     "text": [
      "time:  94.23030638694763\n"
     ]
    },
    {
     "name": "stderr",
     "output_type": "stream",
     "text": [
      " 79%|███████▉  | 79/100 [2:01:08<32:38, 93.27s/it]"
     ]
    },
    {
     "name": "stdout",
     "output_type": "stream",
     "text": [
      "time:  97.4120442867279\n"
     ]
    },
    {
     "name": "stderr",
     "output_type": "stream",
     "text": [
      " 80%|████████  | 80/100 [2:02:37<30:39, 91.95s/it]"
     ]
    },
    {
     "name": "stdout",
     "output_type": "stream",
     "text": [
      "time:  88.86579632759094\n"
     ]
    },
    {
     "name": "stderr",
     "output_type": "stream",
     "text": [
      " 81%|████████  | 81/100 [2:04:10<29:10, 92.12s/it]"
     ]
    },
    {
     "name": "stdout",
     "output_type": "stream",
     "text": [
      "time:  92.51730132102966\n"
     ]
    },
    {
     "name": "stderr",
     "output_type": "stream",
     "text": [
      " 82%|████████▏ | 82/100 [2:05:42<27:40, 92.25s/it]"
     ]
    },
    {
     "name": "stdout",
     "output_type": "stream",
     "text": [
      "time:  92.54332137107849\n"
     ]
    },
    {
     "name": "stderr",
     "output_type": "stream",
     "text": [
      " 83%|████████▎ | 83/100 [2:07:14<26:07, 92.19s/it]"
     ]
    },
    {
     "name": "stdout",
     "output_type": "stream",
     "text": [
      "time:  92.044118642807\n"
     ]
    },
    {
     "name": "stderr",
     "output_type": "stream",
     "text": [
      " 84%|████████▍ | 84/100 [2:08:49<24:47, 92.96s/it]"
     ]
    },
    {
     "name": "stdout",
     "output_type": "stream",
     "text": [
      "time:  94.75551700592041\n"
     ]
    },
    {
     "name": "stderr",
     "output_type": "stream",
     "text": [
      " 85%|████████▌ | 85/100 [2:10:18<22:58, 91.91s/it]"
     ]
    },
    {
     "name": "stdout",
     "output_type": "stream",
     "text": [
      "time:  89.46276879310608\n"
     ]
    },
    {
     "name": "stderr",
     "output_type": "stream",
     "text": [
      " 86%|████████▌ | 86/100 [2:11:53<21:38, 92.73s/it]"
     ]
    },
    {
     "name": "stdout",
     "output_type": "stream",
     "text": [
      "time:  94.62682604789734\n"
     ]
    },
    {
     "name": "stderr",
     "output_type": "stream",
     "text": [
      " 87%|████████▋ | 87/100 [2:13:24<20:00, 92.32s/it]"
     ]
    },
    {
     "name": "stdout",
     "output_type": "stream",
     "text": [
      "time:  91.36006164550781\n"
     ]
    },
    {
     "name": "stderr",
     "output_type": "stream",
     "text": [
      " 88%|████████▊ | 88/100 [2:14:50<18:02, 90.24s/it]"
     ]
    },
    {
     "name": "stdout",
     "output_type": "stream",
     "text": [
      "time:  85.38351130485535\n"
     ]
    },
    {
     "name": "stderr",
     "output_type": "stream",
     "text": [
      " 89%|████████▉ | 89/100 [2:16:19<16:28, 89.87s/it]"
     ]
    },
    {
     "name": "stdout",
     "output_type": "stream",
     "text": [
      "time:  89.01709055900574\n"
     ]
    },
    {
     "name": "stderr",
     "output_type": "stream",
     "text": [
      " 90%|█████████ | 90/100 [2:17:48<14:56, 89.62s/it]"
     ]
    },
    {
     "name": "stdout",
     "output_type": "stream",
     "text": [
      "time:  89.0447142124176\n"
     ]
    },
    {
     "name": "stderr",
     "output_type": "stream",
     "text": [
      " 91%|█████████ | 91/100 [2:19:17<13:25, 89.55s/it]"
     ]
    },
    {
     "name": "stdout",
     "output_type": "stream",
     "text": [
      "time:  89.38432908058167\n"
     ]
    },
    {
     "name": "stderr",
     "output_type": "stream",
     "text": [
      " 92%|█████████▏| 92/100 [2:20:51<12:06, 90.82s/it]"
     ]
    },
    {
     "name": "stdout",
     "output_type": "stream",
     "text": [
      "time:  93.77265334129333\n"
     ]
    },
    {
     "name": "stderr",
     "output_type": "stream",
     "text": [
      " 93%|█████████▎| 93/100 [2:22:25<10:43, 91.86s/it]"
     ]
    },
    {
     "name": "stdout",
     "output_type": "stream",
     "text": [
      "time:  94.28778457641602\n"
     ]
    },
    {
     "name": "stderr",
     "output_type": "stream",
     "text": [
      " 94%|█████████▍| 94/100 [2:23:54<09:05, 90.99s/it]"
     ]
    },
    {
     "name": "stdout",
     "output_type": "stream",
     "text": [
      "time:  88.94649291038513\n"
     ]
    },
    {
     "name": "stderr",
     "output_type": "stream",
     "text": [
      " 95%|█████████▌| 95/100 [2:25:27<07:37, 91.46s/it]"
     ]
    },
    {
     "name": "stdout",
     "output_type": "stream",
     "text": [
      "time:  92.57804870605469\n"
     ]
    },
    {
     "name": "stderr",
     "output_type": "stream",
     "text": [
      " 96%|█████████▌| 96/100 [2:27:05<06:14, 93.52s/it]"
     ]
    },
    {
     "name": "stdout",
     "output_type": "stream",
     "text": [
      "time:  98.3090717792511\n"
     ]
    },
    {
     "name": "stderr",
     "output_type": "stream",
     "text": [
      " 97%|█████████▋| 97/100 [2:28:42<04:43, 94.49s/it]"
     ]
    },
    {
     "name": "stdout",
     "output_type": "stream",
     "text": [
      "time:  96.7632737159729\n"
     ]
    },
    {
     "name": "stderr",
     "output_type": "stream",
     "text": [
      " 98%|█████████▊| 98/100 [2:30:14<03:07, 93.66s/it]"
     ]
    },
    {
     "name": "stdout",
     "output_type": "stream",
     "text": [
      "time:  91.71151399612427\n"
     ]
    },
    {
     "name": "stderr",
     "output_type": "stream",
     "text": [
      " 99%|█████████▉| 99/100 [2:31:46<01:33, 93.14s/it]"
     ]
    },
    {
     "name": "stdout",
     "output_type": "stream",
     "text": [
      "time:  91.91695261001587\n"
     ]
    },
    {
     "name": "stderr",
     "output_type": "stream",
     "text": [
      "100%|██████████| 100/100 [2:33:20<00:00, 92.01s/it]"
     ]
    },
    {
     "name": "stdout",
     "output_type": "stream",
     "text": [
      "time:  94.62391686439514\n"
     ]
    },
    {
     "name": "stderr",
     "output_type": "stream",
     "text": [
      "\n"
     ]
    }
   ],
   "source": [
    "for i in tqdm(range(100)):\n",
    "    start = time.time()\n",
    "    np.random.seed()\n",
    "    top_2p = top_2p_8part.generate_dataset(10000)\n",
    "    np.random.seed()\n",
    "    top_3p = top_3p_8part.generate_dataset(10000)\n",
    "    with open(f'rawjet_val_top_2p_{i}.pickle', 'wb') as handle:\n",
    "        pickle.dump(top_2p, handle, protocol=pickle.HIGHEST_PROTOCOL)\n",
    "    with open(f'rawjet_val_top_3p_{i}.pickle', 'wb') as handle:\n",
    "        pickle.dump(top_3p, handle, protocol=pickle.HIGHEST_PROTOCOL)\n",
    "    end = time.time()\n",
    "    print(\"time: \", end-start)"
   ]
  },
  {
   "cell_type": "code",
   "execution_count": 17,
   "metadata": {},
   "outputs": [],
   "source": [
    "import os"
   ]
  },
  {
   "cell_type": "code",
   "execution_count": 18,
   "metadata": {},
   "outputs": [],
   "source": [
    "train_file_list = []\n",
    "val_file_list = []\n",
    "test_file_list = []\n",
    "predict_file_list = []\n",
    "\n",
    "for file in os.listdir('/nobackup/users/sangeon/datasets/jets'):\n",
    "    if \"16part\" in file:\n",
    "        if \"train\" in file:\n",
    "            train_file_list.append(os.path.join('/nobackup/users/sangeon/datasets/jets',file))\n",
    "        elif \"val\" in file:\n",
    "            val_file_list.append(os.path.join('/nobackup/users/sangeon/datasets/jets',file))\n",
    "        #elif \"predict\" in file:\n",
    "        #    predict_file_list.append(os.path.join('/nobackup/users/sangeon/datasets/jets',file))\n",
    "        elif \"test\" in file:\n",
    "            test_file_list.append(os.path.join('/nobackup/users/sangeon/datasets/jets',file))\n",
    "\n",
    "train_list = []\n",
    "for file in train_file_list:\n",
    "    train_list.append(torch.load(file))\n",
    "jet_train = torch.utils.data.ConcatDataset(train_list)\n",
    "torch.save(jet_train, f'/nobackup/users/sangeon/datasets/jets/concat_16p_train_temp.pt')\n",
    "\n",
    "val_list = []\n",
    "for file in val_file_list:\n",
    "    val_list.append(torch.load(file))\n",
    "jet_val = torch.utils.data.ConcatDataset(val_list)\n",
    "torch.save(jet_val, f'/nobackup/users/sangeon/datasets/jets/concat_16p_val_temp.pt')\n",
    "\n",
    "test_list = []\n",
    "for file in test_file_list:\n",
    "    test_list.append(torch.load(file))\n",
    "jet_test = torch.utils.data.ConcatDataset(test_list)\n",
    "torch.save(jet_test, f'/nobackup/users/sangeon/datasets/jets/concat_16p_test_temp.pt')\n",
    "\n",
    "#predict_list = []\n",
    "#for file in predict_file_list:\n",
    "#    predict_list.append(torch.load(file))\n",
    "#jet_predict = torch.utils.data.ConcatDataset(predict_list)\n",
    "#torch.save(jet_predict, f'/nobackup/users/sangeon/datasets/jets/concat_predict_temp.pt')"
   ]
  },
  {
   "cell_type": "code",
   "execution_count": null,
   "metadata": {},
   "outputs": [],
   "source": []
  },
  {
   "cell_type": "code",
   "execution_count": null,
   "metadata": {},
   "outputs": [],
   "source": []
  },
  {
   "cell_type": "code",
   "execution_count": null,
   "metadata": {},
   "outputs": [],
   "source": []
  },
  {
   "cell_type": "code",
   "execution_count": 17,
   "metadata": {},
   "outputs": [
    {
     "data": {
      "text/plain": [
       "array([ 1.42852400e+02, -9.90205463e-02, -1.35309180e-01,  1.05521532e+01,\n",
       "       -3.94737006e-01,  7.89277596e-01,  3.09849542e+01, -3.91857433e-01,\n",
       "        7.91430808e-01,  5.41413282e+01, -9.89971734e-02, -1.36130549e-01,\n",
       "        9.89379634e+01, -5.29106113e-01, -7.09260387e-03,  1.94524879e+01,\n",
       "       -5.80055975e-01,  1.44811893e-02,  3.46883336e+01, -5.79956566e-01,\n",
       "        1.45399891e-02,  1.96171629e+01, -5.29102045e-01, -7.04731236e-03])"
      ]
     },
     "execution_count": 17,
     "metadata": {},
     "output_type": "execute_result"
    }
   ],
   "source": [
    "top_2p[np.random.permutation(5)][0]"
   ]
  },
  {
   "cell_type": "code",
   "execution_count": null,
   "metadata": {},
   "outputs": [],
   "source": [
    "for i in tqdm(range(10)):\n",
    "    start = time.time()\n",
    "    \n",
    "    top_2p = top_2p_8part.generate_dataset(10000)\n",
    "    top_3p = top_3p_8part.generate_dataset(10000)\n",
    "    np.random.seed()\n",
    "\n",
    "    \n",
    "    \n",
    "\n",
    "    trainindices_a = torch.tensor(np.random.randint(len(traindataset), size=10000))\n",
    "    trainindices_b = torch.tensor(np.random.randint(len(traindataset), size=10000))\n",
    "    a = torch.FloatTensor(traindataset.data[trainindices_a]/255.)\n",
    "    b = torch.FloatTensor(traindataset.data[trainindices_b]/255.)\n",
    "    \n",
    "    train_set = MNISTDataset(\"POT\",False, None, a, b)\n",
    "    torch.save(train_set, f'/nobackup/users/sangeon/datasets/mnist/trainset_{i}.pt')\n",
    "    \n",
    "    end = time.time()\n",
    "    print(end-start)"
   ]
  }
 ],
 "metadata": {
  "kernelspec": {
   "display_name": "studies",
   "language": "python",
   "name": "studies"
  },
  "language_info": {
   "codemirror_mode": {
    "name": "ipython",
    "version": 3
   },
   "file_extension": ".py",
   "mimetype": "text/x-python",
   "name": "python",
   "nbconvert_exporter": "python",
   "pygments_lexer": "ipython3",
   "version": "3.8.12"
  }
 },
 "nbformat": 4,
 "nbformat_minor": 4
}
