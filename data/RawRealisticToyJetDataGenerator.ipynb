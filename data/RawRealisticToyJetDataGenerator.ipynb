{
 "cells": [
  {
   "cell_type": "code",
   "execution_count": 1,
   "metadata": {},
   "outputs": [],
   "source": [
    "%load_ext autoreload\n",
    "%autoreload 2"
   ]
  },
  {
   "cell_type": "code",
   "execution_count": 2,
   "metadata": {},
   "outputs": [],
   "source": [
    "import sys\n",
    "sys.path.insert(0,'..')\n",
    "from datagenerator_realistic import jet_data_generator \n",
    "import time\n",
    "import pickle\n",
    "import numpy as np\n",
    "from sklearn.model_selection import train_test_split\n",
    "from tqdm import tqdm"
   ]
  },
  {
   "cell_type": "code",
   "execution_count": 3,
   "metadata": {},
   "outputs": [],
   "source": [
    "sys.path.insert(0,'../training')\n",
    "from manifoldembedder import JetDataset, JetPredictDataset\n",
    "from torch.utils.data import DataLoader, random_split\n"
   ]
  },
  {
   "cell_type": "code",
   "execution_count": 4,
   "metadata": {},
   "outputs": [],
   "source": [
    "%matplotlib inline\n",
    "import matplotlib.pyplot as plt\n",
    "plt.rcParams[\"figure.figsize\"] = (6,6)\n",
    "plt.rcParams.update({'font.size': 14})"
   ]
  },
  {
   "cell_type": "code",
   "execution_count": 5,
   "metadata": {},
   "outputs": [],
   "source": [
    "top_2p_16part = jet_data_generator(\"signal\", 2, 16, True,True, 4)\n",
    "top_3p_16part = jet_data_generator(\"signal\", 3, 16, True,True, 4)\n",
    "top_4p_16part = jet_data_generator(\"signal\", 4, 16, True,True, 4)"
   ]
  },
  {
   "cell_type": "code",
   "execution_count": 6,
   "metadata": {},
   "outputs": [],
   "source": [
    "#top_2p = top_2p_8part.generate_dataset(5)"
   ]
  },
  {
   "cell_type": "markdown",
   "metadata": {},
   "source": [
    "# Raw Jet Generation"
   ]
  },
  {
   "cell_type": "code",
   "execution_count": 7,
   "metadata": {},
   "outputs": [],
   "source": [
    "#with open('rawjet_train_top_2p_1.pickle', 'rb') as handle:\n",
    "#    twop_1 = pickle.load(handle)"
   ]
  },
  {
   "cell_type": "code",
   "execution_count": null,
   "metadata": {},
   "outputs": [
    {
     "name": "stderr",
     "output_type": "stream",
     "text": [
      "  0%|          | 0/479 [00:00<?, ?it/s]/home/sangeon/ToyJetGenerator/data/../datagenerator_realistic.py:320: RuntimeWarning: invalid value encountered in sqrt\n",
      "  return np.arctan(np.sqrt(num/den))\n",
      "/home/sangeon/ToyJetGenerator/data/../datagenerator_realistic.py:350: RuntimeWarning: invalid value encountered in sqrt\n",
      "  zmin=np.maximum(0.2/mother.mom.p,0.5*(1-np.sqrt(1-(m/p)**2)))\n",
      "/home/sangeon/ToyJetGenerator/data/../datagenerator_realistic.py:320: RuntimeWarning: invalid value encountered in sqrt\n",
      "  return np.arctan(np.sqrt(num/den))\n",
      "/home/sangeon/ToyJetGenerator/data/../datagenerator_realistic.py:320: RuntimeWarning: invalid value encountered in sqrt\n",
      "  return np.arctan(np.sqrt(num/den))\n",
      "/nobackup/users/sangeon/condas/anaconda3/envs/studies/lib/python3.8/site-packages/pylorentz/__init__.py:34: VisibleDeprecationWarning: Creating an ndarray from ragged nested sequences (which is a list-or-tuple of lists-or-tuples-or ndarrays with different lengths or shapes) is deprecated. If you meant to do this, you must specify 'dtype=object' when creating the ndarray.\n",
      "  self._values = np.array(list(x))\n",
      "/nobackup/users/sangeon/condas/anaconda3/envs/studies/lib/python3.8/site-packages/pylorentz/__init__.py:34: VisibleDeprecationWarning: Creating an ndarray from ragged nested sequences (which is a list-or-tuple of lists-or-tuples-or ndarrays with different lengths or shapes) is deprecated. If you meant to do this, you must specify 'dtype=object' when creating the ndarray.\n",
      "  self._values = np.array(list(x))\n",
      "/home/sangeon/ToyJetGenerator/data/../datagenerator_realistic.py:350: RuntimeWarning: invalid value encountered in sqrt\n",
      "  zmin=np.maximum(0.2/mother.mom.p,0.5*(1-np.sqrt(1-(m/p)**2)))\n",
      "/nobackup/users/sangeon/condas/anaconda3/envs/studies/lib/python3.8/site-packages/pylorentz/__init__.py:34: VisibleDeprecationWarning: Creating an ndarray from ragged nested sequences (which is a list-or-tuple of lists-or-tuples-or ndarrays with different lengths or shapes) is deprecated. If you meant to do this, you must specify 'dtype=object' when creating the ndarray.\n",
      "  self._values = np.array(list(x))\n",
      "/nobackup/users/sangeon/condas/anaconda3/envs/studies/lib/python3.8/site-packages/pylorentz/__init__.py:34: VisibleDeprecationWarning: Creating an ndarray from ragged nested sequences (which is a list-or-tuple of lists-or-tuples-or ndarrays with different lengths or shapes) is deprecated. If you meant to do this, you must specify 'dtype=object' when creating the ndarray.\n",
      "  self._values = np.array(list(x))\n",
      "/home/sangeon/ToyJetGenerator/data/../datagenerator_realistic.py:320: RuntimeWarning: invalid value encountered in sqrt\n",
      "  return np.arctan(np.sqrt(num/den))\n",
      "/home/sangeon/ToyJetGenerator/data/../datagenerator_realistic.py:350: RuntimeWarning: invalid value encountered in sqrt\n",
      "  zmin=np.maximum(0.2/mother.mom.p,0.5*(1-np.sqrt(1-(m/p)**2)))\n",
      "/home/sangeon/ToyJetGenerator/data/../datagenerator_realistic.py:350: RuntimeWarning: invalid value encountered in sqrt\n",
      "  zmin=np.maximum(0.2/mother.mom.p,0.5*(1-np.sqrt(1-(m/p)**2)))\n",
      "  0%|          | 1/479 [03:12<25:32:42, 192.39s/it]"
     ]
    },
    {
     "name": "stdout",
     "output_type": "stream",
     "text": [
      "time:  192.3904778957367\n"
     ]
    },
    {
     "name": "stderr",
     "output_type": "stream",
     "text": [
      "/nobackup/users/sangeon/condas/anaconda3/envs/studies/lib/python3.8/site-packages/pylorentz/__init__.py:34: VisibleDeprecationWarning: Creating an ndarray from ragged nested sequences (which is a list-or-tuple of lists-or-tuples-or ndarrays with different lengths or shapes) is deprecated. If you meant to do this, you must specify 'dtype=object' when creating the ndarray.\n",
      "  self._values = np.array(list(x))\n",
      "/nobackup/users/sangeon/condas/anaconda3/envs/studies/lib/python3.8/site-packages/pylorentz/__init__.py:34: VisibleDeprecationWarning: Creating an ndarray from ragged nested sequences (which is a list-or-tuple of lists-or-tuples-or ndarrays with different lengths or shapes) is deprecated. If you meant to do this, you must specify 'dtype=object' when creating the ndarray.\n",
      "  self._values = np.array(list(x))\n",
      "/home/sangeon/ToyJetGenerator/data/../datagenerator_realistic.py:320: RuntimeWarning: invalid value encountered in sqrt\n",
      "  return np.arctan(np.sqrt(num/den))\n",
      "/nobackup/users/sangeon/condas/anaconda3/envs/studies/lib/python3.8/site-packages/pylorentz/__init__.py:34: VisibleDeprecationWarning: Creating an ndarray from ragged nested sequences (which is a list-or-tuple of lists-or-tuples-or ndarrays with different lengths or shapes) is deprecated. If you meant to do this, you must specify 'dtype=object' when creating the ndarray.\n",
      "  self._values = np.array(list(x))\n",
      "/home/sangeon/ToyJetGenerator/data/../datagenerator_realistic.py:320: RuntimeWarning: invalid value encountered in sqrt\n",
      "  return np.arctan(np.sqrt(num/den))\n",
      "/home/sangeon/ToyJetGenerator/data/../datagenerator_realistic.py:320: RuntimeWarning: invalid value encountered in sqrt\n",
      "  return np.arctan(np.sqrt(num/den))\n",
      "/home/sangeon/ToyJetGenerator/data/../datagenerator_realistic.py:320: RuntimeWarning: invalid value encountered in sqrt\n",
      "  return np.arctan(np.sqrt(num/den))\n",
      "/nobackup/users/sangeon/condas/anaconda3/envs/studies/lib/python3.8/site-packages/pylorentz/__init__.py:34: VisibleDeprecationWarning: Creating an ndarray from ragged nested sequences (which is a list-or-tuple of lists-or-tuples-or ndarrays with different lengths or shapes) is deprecated. If you meant to do this, you must specify 'dtype=object' when creating the ndarray.\n",
      "  self._values = np.array(list(x))\n",
      "/home/sangeon/ToyJetGenerator/data/../datagenerator_realistic.py:350: RuntimeWarning: invalid value encountered in sqrt\n",
      "  zmin=np.maximum(0.2/mother.mom.p,0.5*(1-np.sqrt(1-(m/p)**2)))\n",
      "/home/sangeon/ToyJetGenerator/data/../datagenerator_realistic.py:350: RuntimeWarning: invalid value encountered in sqrt\n",
      "  zmin=np.maximum(0.2/mother.mom.p,0.5*(1-np.sqrt(1-(m/p)**2)))\n",
      "/home/sangeon/ToyJetGenerator/data/../datagenerator_realistic.py:350: RuntimeWarning: invalid value encountered in sqrt\n",
      "  zmin=np.maximum(0.2/mother.mom.p,0.5*(1-np.sqrt(1-(m/p)**2)))\n",
      "/home/sangeon/ToyJetGenerator/data/../datagenerator_realistic.py:350: RuntimeWarning: invalid value encountered in sqrt\n",
      "  zmin=np.maximum(0.2/mother.mom.p,0.5*(1-np.sqrt(1-(m/p)**2)))\n",
      "  0%|          | 2/479 [06:09<24:16:09, 183.16s/it]"
     ]
    },
    {
     "name": "stdout",
     "output_type": "stream",
     "text": [
      "time:  176.70584750175476\n"
     ]
    },
    {
     "name": "stderr",
     "output_type": "stream",
     "text": [
      "/home/sangeon/ToyJetGenerator/data/../datagenerator_realistic.py:320: RuntimeWarning: invalid value encountered in sqrt\n",
      "  return np.arctan(np.sqrt(num/den))\n",
      "/nobackup/users/sangeon/condas/anaconda3/envs/studies/lib/python3.8/site-packages/pylorentz/__init__.py:34: VisibleDeprecationWarning: Creating an ndarray from ragged nested sequences (which is a list-or-tuple of lists-or-tuples-or ndarrays with different lengths or shapes) is deprecated. If you meant to do this, you must specify 'dtype=object' when creating the ndarray.\n",
      "  self._values = np.array(list(x))\n",
      "/home/sangeon/ToyJetGenerator/data/../datagenerator_realistic.py:320: RuntimeWarning: invalid value encountered in sqrt\n",
      "  return np.arctan(np.sqrt(num/den))\n",
      "/home/sangeon/ToyJetGenerator/data/../datagenerator_realistic.py:320: RuntimeWarning: invalid value encountered in sqrt\n",
      "  return np.arctan(np.sqrt(num/den))\n",
      "/nobackup/users/sangeon/condas/anaconda3/envs/studies/lib/python3.8/site-packages/pylorentz/__init__.py:34: VisibleDeprecationWarning: Creating an ndarray from ragged nested sequences (which is a list-or-tuple of lists-or-tuples-or ndarrays with different lengths or shapes) is deprecated. If you meant to do this, you must specify 'dtype=object' when creating the ndarray.\n",
      "  self._values = np.array(list(x))\n",
      "/home/sangeon/ToyJetGenerator/data/../datagenerator_realistic.py:320: RuntimeWarning: invalid value encountered in sqrt\n",
      "  return np.arctan(np.sqrt(num/den))\n",
      "/nobackup/users/sangeon/condas/anaconda3/envs/studies/lib/python3.8/site-packages/pylorentz/__init__.py:34: VisibleDeprecationWarning: Creating an ndarray from ragged nested sequences (which is a list-or-tuple of lists-or-tuples-or ndarrays with different lengths or shapes) is deprecated. If you meant to do this, you must specify 'dtype=object' when creating the ndarray.\n",
      "  self._values = np.array(list(x))\n",
      "/nobackup/users/sangeon/condas/anaconda3/envs/studies/lib/python3.8/site-packages/pylorentz/__init__.py:34: VisibleDeprecationWarning: Creating an ndarray from ragged nested sequences (which is a list-or-tuple of lists-or-tuples-or ndarrays with different lengths or shapes) is deprecated. If you meant to do this, you must specify 'dtype=object' when creating the ndarray.\n",
      "  self._values = np.array(list(x))\n",
      "/home/sangeon/ToyJetGenerator/data/../datagenerator_realistic.py:350: RuntimeWarning: invalid value encountered in sqrt\n",
      "  zmin=np.maximum(0.2/mother.mom.p,0.5*(1-np.sqrt(1-(m/p)**2)))\n",
      "/home/sangeon/ToyJetGenerator/data/../datagenerator_realistic.py:350: RuntimeWarning: invalid value encountered in sqrt\n",
      "  zmin=np.maximum(0.2/mother.mom.p,0.5*(1-np.sqrt(1-(m/p)**2)))\n",
      "/home/sangeon/ToyJetGenerator/data/../datagenerator_realistic.py:350: RuntimeWarning: invalid value encountered in sqrt\n",
      "  zmin=np.maximum(0.2/mother.mom.p,0.5*(1-np.sqrt(1-(m/p)**2)))\n",
      "/home/sangeon/ToyJetGenerator/data/../datagenerator_realistic.py:350: RuntimeWarning: invalid value encountered in sqrt\n",
      "  zmin=np.maximum(0.2/mother.mom.p,0.5*(1-np.sqrt(1-(m/p)**2)))\n",
      "  1%|          | 3/479 [09:24<24:56:41, 188.66s/it]"
     ]
    },
    {
     "name": "stdout",
     "output_type": "stream",
     "text": [
      "time:  195.19711232185364\n"
     ]
    },
    {
     "name": "stderr",
     "output_type": "stream",
     "text": [
      "/home/sangeon/ToyJetGenerator/data/../datagenerator_realistic.py:320: RuntimeWarning: invalid value encountered in sqrt\n",
      "  return np.arctan(np.sqrt(num/den))\n",
      "/home/sangeon/ToyJetGenerator/data/../datagenerator_realistic.py:320: RuntimeWarning: invalid value encountered in sqrt\n",
      "  return np.arctan(np.sqrt(num/den))\n",
      "/nobackup/users/sangeon/condas/anaconda3/envs/studies/lib/python3.8/site-packages/pylorentz/__init__.py:34: VisibleDeprecationWarning: Creating an ndarray from ragged nested sequences (which is a list-or-tuple of lists-or-tuples-or ndarrays with different lengths or shapes) is deprecated. If you meant to do this, you must specify 'dtype=object' when creating the ndarray.\n",
      "  self._values = np.array(list(x))\n",
      "/nobackup/users/sangeon/condas/anaconda3/envs/studies/lib/python3.8/site-packages/pylorentz/__init__.py:34: VisibleDeprecationWarning: Creating an ndarray from ragged nested sequences (which is a list-or-tuple of lists-or-tuples-or ndarrays with different lengths or shapes) is deprecated. If you meant to do this, you must specify 'dtype=object' when creating the ndarray.\n",
      "  self._values = np.array(list(x))\n",
      "/home/sangeon/ToyJetGenerator/data/../datagenerator_realistic.py:320: RuntimeWarning: invalid value encountered in sqrt\n",
      "  return np.arctan(np.sqrt(num/den))\n",
      "/nobackup/users/sangeon/condas/anaconda3/envs/studies/lib/python3.8/site-packages/pylorentz/__init__.py:34: VisibleDeprecationWarning: Creating an ndarray from ragged nested sequences (which is a list-or-tuple of lists-or-tuples-or ndarrays with different lengths or shapes) is deprecated. If you meant to do this, you must specify 'dtype=object' when creating the ndarray.\n",
      "  self._values = np.array(list(x))\n",
      "/home/sangeon/ToyJetGenerator/data/../datagenerator_realistic.py:320: RuntimeWarning: invalid value encountered in sqrt\n",
      "  return np.arctan(np.sqrt(num/den))\n",
      "/nobackup/users/sangeon/condas/anaconda3/envs/studies/lib/python3.8/site-packages/pylorentz/__init__.py:34: VisibleDeprecationWarning: Creating an ndarray from ragged nested sequences (which is a list-or-tuple of lists-or-tuples-or ndarrays with different lengths or shapes) is deprecated. If you meant to do this, you must specify 'dtype=object' when creating the ndarray.\n",
      "  self._values = np.array(list(x))\n",
      "/home/sangeon/ToyJetGenerator/data/../datagenerator_realistic.py:350: RuntimeWarning: invalid value encountered in sqrt\n",
      "  zmin=np.maximum(0.2/mother.mom.p,0.5*(1-np.sqrt(1-(m/p)**2)))\n",
      "/home/sangeon/ToyJetGenerator/data/../datagenerator_realistic.py:350: RuntimeWarning: invalid value encountered in sqrt\n",
      "  zmin=np.maximum(0.2/mother.mom.p,0.5*(1-np.sqrt(1-(m/p)**2)))\n",
      "/home/sangeon/ToyJetGenerator/data/../datagenerator_realistic.py:350: RuntimeWarning: invalid value encountered in sqrt\n",
      "  zmin=np.maximum(0.2/mother.mom.p,0.5*(1-np.sqrt(1-(m/p)**2)))\n",
      "/home/sangeon/ToyJetGenerator/data/../datagenerator_realistic.py:350: RuntimeWarning: invalid value encountered in sqrt\n",
      "  zmin=np.maximum(0.2/mother.mom.p,0.5*(1-np.sqrt(1-(m/p)**2)))\n",
      "  1%|          | 4/479 [12:30<24:44:43, 187.54s/it]"
     ]
    },
    {
     "name": "stdout",
     "output_type": "stream",
     "text": [
      "time:  185.83473467826843\n"
     ]
    },
    {
     "name": "stderr",
     "output_type": "stream",
     "text": [
      "/nobackup/users/sangeon/condas/anaconda3/envs/studies/lib/python3.8/site-packages/pylorentz/__init__.py:34: VisibleDeprecationWarning: Creating an ndarray from ragged nested sequences (which is a list-or-tuple of lists-or-tuples-or ndarrays with different lengths or shapes) is deprecated. If you meant to do this, you must specify 'dtype=object' when creating the ndarray.\n",
      "  self._values = np.array(list(x))\n",
      "/nobackup/users/sangeon/condas/anaconda3/envs/studies/lib/python3.8/site-packages/pylorentz/__init__.py:34: VisibleDeprecationWarning: Creating an ndarray from ragged nested sequences (which is a list-or-tuple of lists-or-tuples-or ndarrays with different lengths or shapes) is deprecated. If you meant to do this, you must specify 'dtype=object' when creating the ndarray.\n",
      "  self._values = np.array(list(x))\n",
      "/home/sangeon/ToyJetGenerator/data/../datagenerator_realistic.py:350: RuntimeWarning: invalid value encountered in sqrt\n",
      "  zmin=np.maximum(0.2/mother.mom.p,0.5*(1-np.sqrt(1-(m/p)**2)))\n",
      "/home/sangeon/ToyJetGenerator/data/../datagenerator_realistic.py:320: RuntimeWarning: invalid value encountered in sqrt\n",
      "  return np.arctan(np.sqrt(num/den))\n",
      "/home/sangeon/ToyJetGenerator/data/../datagenerator_realistic.py:320: RuntimeWarning: invalid value encountered in sqrt\n",
      "  return np.arctan(np.sqrt(num/den))\n",
      "/home/sangeon/ToyJetGenerator/data/../datagenerator_realistic.py:320: RuntimeWarning: invalid value encountered in sqrt\n",
      "  return np.arctan(np.sqrt(num/den))\n",
      "/nobackup/users/sangeon/condas/anaconda3/envs/studies/lib/python3.8/site-packages/pylorentz/__init__.py:34: VisibleDeprecationWarning: Creating an ndarray from ragged nested sequences (which is a list-or-tuple of lists-or-tuples-or ndarrays with different lengths or shapes) is deprecated. If you meant to do this, you must specify 'dtype=object' when creating the ndarray.\n",
      "  self._values = np.array(list(x))\n",
      "/home/sangeon/ToyJetGenerator/data/../datagenerator_realistic.py:350: RuntimeWarning: invalid value encountered in sqrt\n",
      "  zmin=np.maximum(0.2/mother.mom.p,0.5*(1-np.sqrt(1-(m/p)**2)))\n",
      "/home/sangeon/ToyJetGenerator/data/../datagenerator_realistic.py:350: RuntimeWarning: invalid value encountered in sqrt\n",
      "  zmin=np.maximum(0.2/mother.mom.p,0.5*(1-np.sqrt(1-(m/p)**2)))\n",
      "/home/sangeon/ToyJetGenerator/data/../datagenerator_realistic.py:320: RuntimeWarning: invalid value encountered in sqrt\n",
      "  return np.arctan(np.sqrt(num/den))\n",
      "/nobackup/users/sangeon/condas/anaconda3/envs/studies/lib/python3.8/site-packages/pylorentz/__init__.py:34: VisibleDeprecationWarning: Creating an ndarray from ragged nested sequences (which is a list-or-tuple of lists-or-tuples-or ndarrays with different lengths or shapes) is deprecated. If you meant to do this, you must specify 'dtype=object' when creating the ndarray.\n",
      "  self._values = np.array(list(x))\n",
      "/home/sangeon/ToyJetGenerator/data/../datagenerator_realistic.py:350: RuntimeWarning: invalid value encountered in sqrt\n",
      "  zmin=np.maximum(0.2/mother.mom.p,0.5*(1-np.sqrt(1-(m/p)**2)))\n",
      "  1%|          | 5/479 [15:37<24:40:11, 187.37s/it]"
     ]
    },
    {
     "name": "stdout",
     "output_type": "stream",
     "text": [
      "time:  187.04739904403687\n"
     ]
    },
    {
     "name": "stderr",
     "output_type": "stream",
     "text": [
      "/home/sangeon/ToyJetGenerator/data/../datagenerator_realistic.py:320: RuntimeWarning: invalid value encountered in sqrt\n",
      "  return np.arctan(np.sqrt(num/den))\n",
      "/nobackup/users/sangeon/condas/anaconda3/envs/studies/lib/python3.8/site-packages/pylorentz/__init__.py:34: VisibleDeprecationWarning: Creating an ndarray from ragged nested sequences (which is a list-or-tuple of lists-or-tuples-or ndarrays with different lengths or shapes) is deprecated. If you meant to do this, you must specify 'dtype=object' when creating the ndarray.\n",
      "  self._values = np.array(list(x))\n",
      "/home/sangeon/ToyJetGenerator/data/../datagenerator_realistic.py:320: RuntimeWarning: invalid value encountered in sqrt\n",
      "  return np.arctan(np.sqrt(num/den))\n",
      "/nobackup/users/sangeon/condas/anaconda3/envs/studies/lib/python3.8/site-packages/pylorentz/__init__.py:34: VisibleDeprecationWarning: Creating an ndarray from ragged nested sequences (which is a list-or-tuple of lists-or-tuples-or ndarrays with different lengths or shapes) is deprecated. If you meant to do this, you must specify 'dtype=object' when creating the ndarray.\n",
      "  self._values = np.array(list(x))\n",
      "/home/sangeon/ToyJetGenerator/data/../datagenerator_realistic.py:320: RuntimeWarning: invalid value encountered in sqrt\n",
      "  return np.arctan(np.sqrt(num/den))\n",
      "/nobackup/users/sangeon/condas/anaconda3/envs/studies/lib/python3.8/site-packages/pylorentz/__init__.py:34: VisibleDeprecationWarning: Creating an ndarray from ragged nested sequences (which is a list-or-tuple of lists-or-tuples-or ndarrays with different lengths or shapes) is deprecated. If you meant to do this, you must specify 'dtype=object' when creating the ndarray.\n",
      "  self._values = np.array(list(x))\n",
      "/nobackup/users/sangeon/condas/anaconda3/envs/studies/lib/python3.8/site-packages/pylorentz/__init__.py:34: VisibleDeprecationWarning: Creating an ndarray from ragged nested sequences (which is a list-or-tuple of lists-or-tuples-or ndarrays with different lengths or shapes) is deprecated. If you meant to do this, you must specify 'dtype=object' when creating the ndarray.\n",
      "  self._values = np.array(list(x))\n",
      "/home/sangeon/ToyJetGenerator/data/../datagenerator_realistic.py:320: RuntimeWarning: invalid value encountered in sqrt\n",
      "  return np.arctan(np.sqrt(num/den))\n",
      "/home/sangeon/ToyJetGenerator/data/../datagenerator_realistic.py:350: RuntimeWarning: invalid value encountered in sqrt\n",
      "  zmin=np.maximum(0.2/mother.mom.p,0.5*(1-np.sqrt(1-(m/p)**2)))\n",
      "/home/sangeon/ToyJetGenerator/data/../datagenerator_realistic.py:350: RuntimeWarning: invalid value encountered in sqrt\n",
      "  zmin=np.maximum(0.2/mother.mom.p,0.5*(1-np.sqrt(1-(m/p)**2)))\n",
      "/home/sangeon/ToyJetGenerator/data/../datagenerator_realistic.py:350: RuntimeWarning: invalid value encountered in sqrt\n",
      "  zmin=np.maximum(0.2/mother.mom.p,0.5*(1-np.sqrt(1-(m/p)**2)))\n",
      "/home/sangeon/ToyJetGenerator/data/../datagenerator_realistic.py:350: RuntimeWarning: invalid value encountered in sqrt\n",
      "  zmin=np.maximum(0.2/mother.mom.p,0.5*(1-np.sqrt(1-(m/p)**2)))\n",
      "  1%|▏         | 6/479 [19:14<25:58:09, 197.65s/it]"
     ]
    },
    {
     "name": "stdout",
     "output_type": "stream",
     "text": [
      "time:  217.61932396888733\n"
     ]
    },
    {
     "name": "stderr",
     "output_type": "stream",
     "text": [
      "/home/sangeon/ToyJetGenerator/data/../datagenerator_realistic.py:350: RuntimeWarning: invalid value encountered in sqrt\n",
      "  zmin=np.maximum(0.2/mother.mom.p,0.5*(1-np.sqrt(1-(m/p)**2)))\n",
      "/home/sangeon/ToyJetGenerator/data/../datagenerator_realistic.py:320: RuntimeWarning: invalid value encountered in sqrt\n",
      "  return np.arctan(np.sqrt(num/den))\n",
      "/home/sangeon/ToyJetGenerator/data/../datagenerator_realistic.py:320: RuntimeWarning: invalid value encountered in sqrt\n",
      "  return np.arctan(np.sqrt(num/den))\n",
      "/home/sangeon/ToyJetGenerator/data/../datagenerator_realistic.py:320: RuntimeWarning: invalid value encountered in sqrt\n",
      "  return np.arctan(np.sqrt(num/den))\n",
      "/nobackup/users/sangeon/condas/anaconda3/envs/studies/lib/python3.8/site-packages/pylorentz/__init__.py:34: VisibleDeprecationWarning: Creating an ndarray from ragged nested sequences (which is a list-or-tuple of lists-or-tuples-or ndarrays with different lengths or shapes) is deprecated. If you meant to do this, you must specify 'dtype=object' when creating the ndarray.\n",
      "  self._values = np.array(list(x))\n",
      "/home/sangeon/ToyJetGenerator/data/../datagenerator_realistic.py:320: RuntimeWarning: invalid value encountered in sqrt\n",
      "  return np.arctan(np.sqrt(num/den))\n",
      "/nobackup/users/sangeon/condas/anaconda3/envs/studies/lib/python3.8/site-packages/pylorentz/__init__.py:34: VisibleDeprecationWarning: Creating an ndarray from ragged nested sequences (which is a list-or-tuple of lists-or-tuples-or ndarrays with different lengths or shapes) is deprecated. If you meant to do this, you must specify 'dtype=object' when creating the ndarray.\n",
      "  self._values = np.array(list(x))\n",
      "/nobackup/users/sangeon/condas/anaconda3/envs/studies/lib/python3.8/site-packages/pylorentz/__init__.py:34: VisibleDeprecationWarning: Creating an ndarray from ragged nested sequences (which is a list-or-tuple of lists-or-tuples-or ndarrays with different lengths or shapes) is deprecated. If you meant to do this, you must specify 'dtype=object' when creating the ndarray.\n",
      "  self._values = np.array(list(x))\n",
      "/nobackup/users/sangeon/condas/anaconda3/envs/studies/lib/python3.8/site-packages/pylorentz/__init__.py:34: VisibleDeprecationWarning: Creating an ndarray from ragged nested sequences (which is a list-or-tuple of lists-or-tuples-or ndarrays with different lengths or shapes) is deprecated. If you meant to do this, you must specify 'dtype=object' when creating the ndarray.\n",
      "  self._values = np.array(list(x))\n",
      "/home/sangeon/ToyJetGenerator/data/../datagenerator_realistic.py:350: RuntimeWarning: invalid value encountered in sqrt\n",
      "  zmin=np.maximum(0.2/mother.mom.p,0.5*(1-np.sqrt(1-(m/p)**2)))\n",
      "/home/sangeon/ToyJetGenerator/data/../datagenerator_realistic.py:350: RuntimeWarning: invalid value encountered in sqrt\n",
      "  zmin=np.maximum(0.2/mother.mom.p,0.5*(1-np.sqrt(1-(m/p)**2)))\n",
      "/home/sangeon/ToyJetGenerator/data/../datagenerator_realistic.py:350: RuntimeWarning: invalid value encountered in sqrt\n",
      "  zmin=np.maximum(0.2/mother.mom.p,0.5*(1-np.sqrt(1-(m/p)**2)))\n",
      "  1%|▏         | 7/479 [22:59<27:03:21, 206.36s/it]"
     ]
    },
    {
     "name": "stdout",
     "output_type": "stream",
     "text": [
      "time:  224.28522729873657\n"
     ]
    },
    {
     "name": "stderr",
     "output_type": "stream",
     "text": [
      "/home/sangeon/ToyJetGenerator/data/../datagenerator_realistic.py:350: RuntimeWarning: invalid value encountered in sqrt\n",
      "  zmin=np.maximum(0.2/mother.mom.p,0.5*(1-np.sqrt(1-(m/p)**2)))\n",
      "/home/sangeon/ToyJetGenerator/data/../datagenerator_realistic.py:350: RuntimeWarning: invalid value encountered in sqrt\n",
      "  zmin=np.maximum(0.2/mother.mom.p,0.5*(1-np.sqrt(1-(m/p)**2)))\n",
      "/home/sangeon/ToyJetGenerator/data/../datagenerator_realistic.py:320: RuntimeWarning: invalid value encountered in sqrt\n",
      "  return np.arctan(np.sqrt(num/den))\n",
      "/home/sangeon/ToyJetGenerator/data/../datagenerator_realistic.py:320: RuntimeWarning: invalid value encountered in sqrt\n",
      "  return np.arctan(np.sqrt(num/den))\n",
      "/nobackup/users/sangeon/condas/anaconda3/envs/studies/lib/python3.8/site-packages/pylorentz/__init__.py:34: VisibleDeprecationWarning: Creating an ndarray from ragged nested sequences (which is a list-or-tuple of lists-or-tuples-or ndarrays with different lengths or shapes) is deprecated. If you meant to do this, you must specify 'dtype=object' when creating the ndarray.\n",
      "  self._values = np.array(list(x))\n",
      "/home/sangeon/ToyJetGenerator/data/../datagenerator_realistic.py:320: RuntimeWarning: invalid value encountered in sqrt\n",
      "  return np.arctan(np.sqrt(num/den))\n",
      "/home/sangeon/ToyJetGenerator/data/../datagenerator_realistic.py:350: RuntimeWarning: invalid value encountered in sqrt\n",
      "  zmin=np.maximum(0.2/mother.mom.p,0.5*(1-np.sqrt(1-(m/p)**2)))\n",
      "/nobackup/users/sangeon/condas/anaconda3/envs/studies/lib/python3.8/site-packages/pylorentz/__init__.py:34: VisibleDeprecationWarning: Creating an ndarray from ragged nested sequences (which is a list-or-tuple of lists-or-tuples-or ndarrays with different lengths or shapes) is deprecated. If you meant to do this, you must specify 'dtype=object' when creating the ndarray.\n",
      "  self._values = np.array(list(x))\n",
      "/nobackup/users/sangeon/condas/anaconda3/envs/studies/lib/python3.8/site-packages/pylorentz/__init__.py:34: VisibleDeprecationWarning: Creating an ndarray from ragged nested sequences (which is a list-or-tuple of lists-or-tuples-or ndarrays with different lengths or shapes) is deprecated. If you meant to do this, you must specify 'dtype=object' when creating the ndarray.\n",
      "  self._values = np.array(list(x))\n",
      "/home/sangeon/ToyJetGenerator/data/../datagenerator_realistic.py:350: RuntimeWarning: invalid value encountered in sqrt\n",
      "  zmin=np.maximum(0.2/mother.mom.p,0.5*(1-np.sqrt(1-(m/p)**2)))\n",
      "/nobackup/users/sangeon/condas/anaconda3/envs/studies/lib/python3.8/site-packages/pylorentz/__init__.py:34: VisibleDeprecationWarning: Creating an ndarray from ragged nested sequences (which is a list-or-tuple of lists-or-tuples-or ndarrays with different lengths or shapes) is deprecated. If you meant to do this, you must specify 'dtype=object' when creating the ndarray.\n",
      "  self._values = np.array(list(x))\n",
      "/home/sangeon/ToyJetGenerator/data/../datagenerator_realistic.py:320: RuntimeWarning: invalid value encountered in sqrt\n",
      "  return np.arctan(np.sqrt(num/den))\n",
      "  2%|▏         | 8/479 [26:45<27:49:23, 212.66s/it]"
     ]
    },
    {
     "name": "stdout",
     "output_type": "stream",
     "text": [
      "time:  226.15628147125244\n"
     ]
    },
    {
     "name": "stderr",
     "output_type": "stream",
     "text": [
      "/home/sangeon/ToyJetGenerator/data/../datagenerator_realistic.py:320: RuntimeWarning: invalid value encountered in sqrt\n",
      "  return np.arctan(np.sqrt(num/den))\n",
      "/nobackup/users/sangeon/condas/anaconda3/envs/studies/lib/python3.8/site-packages/pylorentz/__init__.py:34: VisibleDeprecationWarning: Creating an ndarray from ragged nested sequences (which is a list-or-tuple of lists-or-tuples-or ndarrays with different lengths or shapes) is deprecated. If you meant to do this, you must specify 'dtype=object' when creating the ndarray.\n",
      "  self._values = np.array(list(x))\n",
      "/home/sangeon/ToyJetGenerator/data/../datagenerator_realistic.py:350: RuntimeWarning: invalid value encountered in sqrt\n",
      "  zmin=np.maximum(0.2/mother.mom.p,0.5*(1-np.sqrt(1-(m/p)**2)))\n",
      "/home/sangeon/ToyJetGenerator/data/../datagenerator_realistic.py:320: RuntimeWarning: invalid value encountered in sqrt\n",
      "  return np.arctan(np.sqrt(num/den))\n",
      "/home/sangeon/ToyJetGenerator/data/../datagenerator_realistic.py:320: RuntimeWarning: invalid value encountered in sqrt\n",
      "  return np.arctan(np.sqrt(num/den))\n",
      "/home/sangeon/ToyJetGenerator/data/../datagenerator_realistic.py:320: RuntimeWarning: invalid value encountered in sqrt\n",
      "  return np.arctan(np.sqrt(num/den))\n",
      "/nobackup/users/sangeon/condas/anaconda3/envs/studies/lib/python3.8/site-packages/pylorentz/__init__.py:34: VisibleDeprecationWarning: Creating an ndarray from ragged nested sequences (which is a list-or-tuple of lists-or-tuples-or ndarrays with different lengths or shapes) is deprecated. If you meant to do this, you must specify 'dtype=object' when creating the ndarray.\n",
      "  self._values = np.array(list(x))\n",
      "/nobackup/users/sangeon/condas/anaconda3/envs/studies/lib/python3.8/site-packages/pylorentz/__init__.py:34: VisibleDeprecationWarning: Creating an ndarray from ragged nested sequences (which is a list-or-tuple of lists-or-tuples-or ndarrays with different lengths or shapes) is deprecated. If you meant to do this, you must specify 'dtype=object' when creating the ndarray.\n",
      "  self._values = np.array(list(x))\n",
      "/nobackup/users/sangeon/condas/anaconda3/envs/studies/lib/python3.8/site-packages/pylorentz/__init__.py:34: VisibleDeprecationWarning: Creating an ndarray from ragged nested sequences (which is a list-or-tuple of lists-or-tuples-or ndarrays with different lengths or shapes) is deprecated. If you meant to do this, you must specify 'dtype=object' when creating the ndarray.\n",
      "  self._values = np.array(list(x))\n",
      "/home/sangeon/ToyJetGenerator/data/../datagenerator_realistic.py:350: RuntimeWarning: invalid value encountered in sqrt\n",
      "  zmin=np.maximum(0.2/mother.mom.p,0.5*(1-np.sqrt(1-(m/p)**2)))\n",
      "/home/sangeon/ToyJetGenerator/data/../datagenerator_realistic.py:350: RuntimeWarning: invalid value encountered in sqrt\n",
      "  zmin=np.maximum(0.2/mother.mom.p,0.5*(1-np.sqrt(1-(m/p)**2)))\n",
      "/home/sangeon/ToyJetGenerator/data/../datagenerator_realistic.py:350: RuntimeWarning: invalid value encountered in sqrt\n",
      "  zmin=np.maximum(0.2/mother.mom.p,0.5*(1-np.sqrt(1-(m/p)**2)))\n",
      "  2%|▏         | 9/479 [30:30<28:16:44, 216.60s/it]"
     ]
    },
    {
     "name": "stdout",
     "output_type": "stream",
     "text": [
      "time:  225.27113342285156\n"
     ]
    },
    {
     "name": "stderr",
     "output_type": "stream",
     "text": [
      "/home/sangeon/ToyJetGenerator/data/../datagenerator_realistic.py:320: RuntimeWarning: invalid value encountered in sqrt\n",
      "  return np.arctan(np.sqrt(num/den))\n",
      "/home/sangeon/ToyJetGenerator/data/../datagenerator_realistic.py:320: RuntimeWarning: invalid value encountered in sqrt\n",
      "  return np.arctan(np.sqrt(num/den))\n",
      "/nobackup/users/sangeon/condas/anaconda3/envs/studies/lib/python3.8/site-packages/pylorentz/__init__.py:34: VisibleDeprecationWarning: Creating an ndarray from ragged nested sequences (which is a list-or-tuple of lists-or-tuples-or ndarrays with different lengths or shapes) is deprecated. If you meant to do this, you must specify 'dtype=object' when creating the ndarray.\n",
      "  self._values = np.array(list(x))\n",
      "/home/sangeon/ToyJetGenerator/data/../datagenerator_realistic.py:350: RuntimeWarning: invalid value encountered in sqrt\n",
      "  zmin=np.maximum(0.2/mother.mom.p,0.5*(1-np.sqrt(1-(m/p)**2)))\n",
      "/home/sangeon/ToyJetGenerator/data/../datagenerator_realistic.py:320: RuntimeWarning: invalid value encountered in sqrt\n",
      "  return np.arctan(np.sqrt(num/den))\n",
      "/nobackup/users/sangeon/condas/anaconda3/envs/studies/lib/python3.8/site-packages/pylorentz/__init__.py:34: VisibleDeprecationWarning: Creating an ndarray from ragged nested sequences (which is a list-or-tuple of lists-or-tuples-or ndarrays with different lengths or shapes) is deprecated. If you meant to do this, you must specify 'dtype=object' when creating the ndarray.\n",
      "  self._values = np.array(list(x))\n",
      "/nobackup/users/sangeon/condas/anaconda3/envs/studies/lib/python3.8/site-packages/pylorentz/__init__.py:34: VisibleDeprecationWarning: Creating an ndarray from ragged nested sequences (which is a list-or-tuple of lists-or-tuples-or ndarrays with different lengths or shapes) is deprecated. If you meant to do this, you must specify 'dtype=object' when creating the ndarray.\n",
      "  self._values = np.array(list(x))\n",
      "/home/sangeon/ToyJetGenerator/data/../datagenerator_realistic.py:350: RuntimeWarning: invalid value encountered in sqrt\n",
      "  zmin=np.maximum(0.2/mother.mom.p,0.5*(1-np.sqrt(1-(m/p)**2)))\n",
      "/home/sangeon/ToyJetGenerator/data/../datagenerator_realistic.py:350: RuntimeWarning: invalid value encountered in sqrt\n",
      "  zmin=np.maximum(0.2/mother.mom.p,0.5*(1-np.sqrt(1-(m/p)**2)))\n",
      "/home/sangeon/ToyJetGenerator/data/../datagenerator_realistic.py:320: RuntimeWarning: invalid value encountered in sqrt\n",
      "  return np.arctan(np.sqrt(num/den))\n",
      "/nobackup/users/sangeon/condas/anaconda3/envs/studies/lib/python3.8/site-packages/pylorentz/__init__.py:34: VisibleDeprecationWarning: Creating an ndarray from ragged nested sequences (which is a list-or-tuple of lists-or-tuples-or ndarrays with different lengths or shapes) is deprecated. If you meant to do this, you must specify 'dtype=object' when creating the ndarray.\n",
      "  self._values = np.array(list(x))\n",
      "/home/sangeon/ToyJetGenerator/data/../datagenerator_realistic.py:350: RuntimeWarning: invalid value encountered in sqrt\n",
      "  zmin=np.maximum(0.2/mother.mom.p,0.5*(1-np.sqrt(1-(m/p)**2)))\n",
      "  2%|▏         | 10/479 [33:54<27:43:43, 212.84s/it]"
     ]
    },
    {
     "name": "stdout",
     "output_type": "stream",
     "text": [
      "time:  204.41709995269775\n"
     ]
    },
    {
     "name": "stderr",
     "output_type": "stream",
     "text": [
      "/home/sangeon/ToyJetGenerator/data/../datagenerator_realistic.py:320: RuntimeWarning: invalid value encountered in sqrt\n",
      "  return np.arctan(np.sqrt(num/den))\n",
      "/nobackup/users/sangeon/condas/anaconda3/envs/studies/lib/python3.8/site-packages/pylorentz/__init__.py:34: VisibleDeprecationWarning: Creating an ndarray from ragged nested sequences (which is a list-or-tuple of lists-or-tuples-or ndarrays with different lengths or shapes) is deprecated. If you meant to do this, you must specify 'dtype=object' when creating the ndarray.\n",
      "  self._values = np.array(list(x))\n",
      "/home/sangeon/ToyJetGenerator/data/../datagenerator_realistic.py:320: RuntimeWarning: invalid value encountered in sqrt\n",
      "  return np.arctan(np.sqrt(num/den))\n",
      "/home/sangeon/ToyJetGenerator/data/../datagenerator_realistic.py:320: RuntimeWarning: invalid value encountered in sqrt\n",
      "  return np.arctan(np.sqrt(num/den))\n",
      "/home/sangeon/ToyJetGenerator/data/../datagenerator_realistic.py:320: RuntimeWarning: invalid value encountered in sqrt\n",
      "  return np.arctan(np.sqrt(num/den))\n",
      "/nobackup/users/sangeon/condas/anaconda3/envs/studies/lib/python3.8/site-packages/pylorentz/__init__.py:34: VisibleDeprecationWarning: Creating an ndarray from ragged nested sequences (which is a list-or-tuple of lists-or-tuples-or ndarrays with different lengths or shapes) is deprecated. If you meant to do this, you must specify 'dtype=object' when creating the ndarray.\n",
      "  self._values = np.array(list(x))\n",
      "/nobackup/users/sangeon/condas/anaconda3/envs/studies/lib/python3.8/site-packages/pylorentz/__init__.py:34: VisibleDeprecationWarning: Creating an ndarray from ragged nested sequences (which is a list-or-tuple of lists-or-tuples-or ndarrays with different lengths or shapes) is deprecated. If you meant to do this, you must specify 'dtype=object' when creating the ndarray.\n",
      "  self._values = np.array(list(x))\n",
      "/home/sangeon/ToyJetGenerator/data/../datagenerator_realistic.py:350: RuntimeWarning: invalid value encountered in sqrt\n",
      "  zmin=np.maximum(0.2/mother.mom.p,0.5*(1-np.sqrt(1-(m/p)**2)))\n",
      "/home/sangeon/ToyJetGenerator/data/../datagenerator_realistic.py:350: RuntimeWarning: invalid value encountered in sqrt\n",
      "  zmin=np.maximum(0.2/mother.mom.p,0.5*(1-np.sqrt(1-(m/p)**2)))\n",
      "/home/sangeon/ToyJetGenerator/data/../datagenerator_realistic.py:350: RuntimeWarning: invalid value encountered in sqrt\n",
      "  zmin=np.maximum(0.2/mother.mom.p,0.5*(1-np.sqrt(1-(m/p)**2)))\n",
      "/nobackup/users/sangeon/condas/anaconda3/envs/studies/lib/python3.8/site-packages/pylorentz/__init__.py:34: VisibleDeprecationWarning: Creating an ndarray from ragged nested sequences (which is a list-or-tuple of lists-or-tuples-or ndarrays with different lengths or shapes) is deprecated. If you meant to do this, you must specify 'dtype=object' when creating the ndarray.\n",
      "  self._values = np.array(list(x))\n",
      "/home/sangeon/ToyJetGenerator/data/../datagenerator_realistic.py:350: RuntimeWarning: invalid value encountered in sqrt\n",
      "  zmin=np.maximum(0.2/mother.mom.p,0.5*(1-np.sqrt(1-(m/p)**2)))\n",
      "  2%|▏         | 11/479 [37:34<27:55:46, 214.84s/it]"
     ]
    },
    {
     "name": "stdout",
     "output_type": "stream",
     "text": [
      "time:  219.37699437141418\n"
     ]
    },
    {
     "name": "stderr",
     "output_type": "stream",
     "text": [
      "/home/sangeon/ToyJetGenerator/data/../datagenerator_realistic.py:350: RuntimeWarning: invalid value encountered in sqrt\n",
      "  zmin=np.maximum(0.2/mother.mom.p,0.5*(1-np.sqrt(1-(m/p)**2)))\n",
      "/home/sangeon/ToyJetGenerator/data/../datagenerator_realistic.py:320: RuntimeWarning: invalid value encountered in sqrt\n",
      "  return np.arctan(np.sqrt(num/den))\n",
      "/home/sangeon/ToyJetGenerator/data/../datagenerator_realistic.py:320: RuntimeWarning: invalid value encountered in sqrt\n",
      "  return np.arctan(np.sqrt(num/den))\n",
      "/home/sangeon/ToyJetGenerator/data/../datagenerator_realistic.py:320: RuntimeWarning: invalid value encountered in sqrt\n",
      "  return np.arctan(np.sqrt(num/den))\n",
      "/home/sangeon/ToyJetGenerator/data/../datagenerator_realistic.py:320: RuntimeWarning: invalid value encountered in sqrt\n",
      "  return np.arctan(np.sqrt(num/den))\n",
      "/nobackup/users/sangeon/condas/anaconda3/envs/studies/lib/python3.8/site-packages/pylorentz/__init__.py:34: VisibleDeprecationWarning: Creating an ndarray from ragged nested sequences (which is a list-or-tuple of lists-or-tuples-or ndarrays with different lengths or shapes) is deprecated. If you meant to do this, you must specify 'dtype=object' when creating the ndarray.\n",
      "  self._values = np.array(list(x))\n",
      "/nobackup/users/sangeon/condas/anaconda3/envs/studies/lib/python3.8/site-packages/pylorentz/__init__.py:34: VisibleDeprecationWarning: Creating an ndarray from ragged nested sequences (which is a list-or-tuple of lists-or-tuples-or ndarrays with different lengths or shapes) is deprecated. If you meant to do this, you must specify 'dtype=object' when creating the ndarray.\n",
      "  self._values = np.array(list(x))\n",
      "/nobackup/users/sangeon/condas/anaconda3/envs/studies/lib/python3.8/site-packages/pylorentz/__init__.py:34: VisibleDeprecationWarning: Creating an ndarray from ragged nested sequences (which is a list-or-tuple of lists-or-tuples-or ndarrays with different lengths or shapes) is deprecated. If you meant to do this, you must specify 'dtype=object' when creating the ndarray.\n",
      "  self._values = np.array(list(x))\n",
      "/nobackup/users/sangeon/condas/anaconda3/envs/studies/lib/python3.8/site-packages/pylorentz/__init__.py:34: VisibleDeprecationWarning: Creating an ndarray from ragged nested sequences (which is a list-or-tuple of lists-or-tuples-or ndarrays with different lengths or shapes) is deprecated. If you meant to do this, you must specify 'dtype=object' when creating the ndarray.\n",
      "  self._values = np.array(list(x))\n",
      "/home/sangeon/ToyJetGenerator/data/../datagenerator_realistic.py:350: RuntimeWarning: invalid value encountered in sqrt\n",
      "  zmin=np.maximum(0.2/mother.mom.p,0.5*(1-np.sqrt(1-(m/p)**2)))\n",
      "/home/sangeon/ToyJetGenerator/data/../datagenerator_realistic.py:350: RuntimeWarning: invalid value encountered in sqrt\n",
      "  zmin=np.maximum(0.2/mother.mom.p,0.5*(1-np.sqrt(1-(m/p)**2)))\n",
      "/home/sangeon/ToyJetGenerator/data/../datagenerator_realistic.py:350: RuntimeWarning: invalid value encountered in sqrt\n",
      "  zmin=np.maximum(0.2/mother.mom.p,0.5*(1-np.sqrt(1-(m/p)**2)))\n",
      "  3%|▎         | 12/479 [41:20<28:19:45, 218.38s/it]"
     ]
    },
    {
     "name": "stdout",
     "output_type": "stream",
     "text": [
      "time:  226.4808988571167\n"
     ]
    },
    {
     "name": "stderr",
     "output_type": "stream",
     "text": [
      "/home/sangeon/ToyJetGenerator/data/../datagenerator_realistic.py:320: RuntimeWarning: invalid value encountered in sqrt\n",
      "  return np.arctan(np.sqrt(num/den))\n",
      "/home/sangeon/ToyJetGenerator/data/../datagenerator_realistic.py:320: RuntimeWarning: invalid value encountered in sqrt\n",
      "  return np.arctan(np.sqrt(num/den))\n",
      "/nobackup/users/sangeon/condas/anaconda3/envs/studies/lib/python3.8/site-packages/pylorentz/__init__.py:34: VisibleDeprecationWarning: Creating an ndarray from ragged nested sequences (which is a list-or-tuple of lists-or-tuples-or ndarrays with different lengths or shapes) is deprecated. If you meant to do this, you must specify 'dtype=object' when creating the ndarray.\n",
      "  self._values = np.array(list(x))\n",
      "/nobackup/users/sangeon/condas/anaconda3/envs/studies/lib/python3.8/site-packages/pylorentz/__init__.py:34: VisibleDeprecationWarning: Creating an ndarray from ragged nested sequences (which is a list-or-tuple of lists-or-tuples-or ndarrays with different lengths or shapes) is deprecated. If you meant to do this, you must specify 'dtype=object' when creating the ndarray.\n",
      "  self._values = np.array(list(x))\n",
      "/nobackup/users/sangeon/condas/anaconda3/envs/studies/lib/python3.8/site-packages/pylorentz/__init__.py:34: VisibleDeprecationWarning: Creating an ndarray from ragged nested sequences (which is a list-or-tuple of lists-or-tuples-or ndarrays with different lengths or shapes) is deprecated. If you meant to do this, you must specify 'dtype=object' when creating the ndarray.\n",
      "  self._values = np.array(list(x))\n",
      "/nobackup/users/sangeon/condas/anaconda3/envs/studies/lib/python3.8/site-packages/pylorentz/__init__.py:34: VisibleDeprecationWarning: Creating an ndarray from ragged nested sequences (which is a list-or-tuple of lists-or-tuples-or ndarrays with different lengths or shapes) is deprecated. If you meant to do this, you must specify 'dtype=object' when creating the ndarray.\n",
      "  self._values = np.array(list(x))\n",
      "/home/sangeon/ToyJetGenerator/data/../datagenerator_realistic.py:320: RuntimeWarning: invalid value encountered in sqrt\n",
      "  return np.arctan(np.sqrt(num/den))\n",
      "/home/sangeon/ToyJetGenerator/data/../datagenerator_realistic.py:320: RuntimeWarning: invalid value encountered in sqrt\n",
      "  return np.arctan(np.sqrt(num/den))\n",
      "/home/sangeon/ToyJetGenerator/data/../datagenerator_realistic.py:350: RuntimeWarning: invalid value encountered in sqrt\n",
      "  zmin=np.maximum(0.2/mother.mom.p,0.5*(1-np.sqrt(1-(m/p)**2)))\n",
      "/home/sangeon/ToyJetGenerator/data/../datagenerator_realistic.py:350: RuntimeWarning: invalid value encountered in sqrt\n",
      "  zmin=np.maximum(0.2/mother.mom.p,0.5*(1-np.sqrt(1-(m/p)**2)))\n",
      "/home/sangeon/ToyJetGenerator/data/../datagenerator_realistic.py:350: RuntimeWarning: invalid value encountered in sqrt\n",
      "  zmin=np.maximum(0.2/mother.mom.p,0.5*(1-np.sqrt(1-(m/p)**2)))\n",
      "/home/sangeon/ToyJetGenerator/data/../datagenerator_realistic.py:350: RuntimeWarning: invalid value encountered in sqrt\n",
      "  zmin=np.maximum(0.2/mother.mom.p,0.5*(1-np.sqrt(1-(m/p)**2)))\n",
      "  3%|▎         | 13/479 [45:02<28:23:46, 219.37s/it]"
     ]
    },
    {
     "name": "stdout",
     "output_type": "stream",
     "text": [
      "time:  221.64312148094177\n"
     ]
    },
    {
     "name": "stderr",
     "output_type": "stream",
     "text": [
      "/home/sangeon/ToyJetGenerator/data/../datagenerator_realistic.py:320: RuntimeWarning: invalid value encountered in sqrt\n",
      "  return np.arctan(np.sqrt(num/den))\n",
      "/nobackup/users/sangeon/condas/anaconda3/envs/studies/lib/python3.8/site-packages/pylorentz/__init__.py:34: VisibleDeprecationWarning: Creating an ndarray from ragged nested sequences (which is a list-or-tuple of lists-or-tuples-or ndarrays with different lengths or shapes) is deprecated. If you meant to do this, you must specify 'dtype=object' when creating the ndarray.\n",
      "  self._values = np.array(list(x))\n",
      "/home/sangeon/ToyJetGenerator/data/../datagenerator_realistic.py:320: RuntimeWarning: invalid value encountered in sqrt\n",
      "  return np.arctan(np.sqrt(num/den))\n",
      "/home/sangeon/ToyJetGenerator/data/../datagenerator_realistic.py:320: RuntimeWarning: invalid value encountered in sqrt\n",
      "  return np.arctan(np.sqrt(num/den))\n",
      "/home/sangeon/ToyJetGenerator/data/../datagenerator_realistic.py:320: RuntimeWarning: invalid value encountered in sqrt\n",
      "  return np.arctan(np.sqrt(num/den))\n",
      "/nobackup/users/sangeon/condas/anaconda3/envs/studies/lib/python3.8/site-packages/pylorentz/__init__.py:34: VisibleDeprecationWarning: Creating an ndarray from ragged nested sequences (which is a list-or-tuple of lists-or-tuples-or ndarrays with different lengths or shapes) is deprecated. If you meant to do this, you must specify 'dtype=object' when creating the ndarray.\n",
      "  self._values = np.array(list(x))\n",
      "/nobackup/users/sangeon/condas/anaconda3/envs/studies/lib/python3.8/site-packages/pylorentz/__init__.py:34: VisibleDeprecationWarning: Creating an ndarray from ragged nested sequences (which is a list-or-tuple of lists-or-tuples-or ndarrays with different lengths or shapes) is deprecated. If you meant to do this, you must specify 'dtype=object' when creating the ndarray.\n",
      "  self._values = np.array(list(x))\n",
      "/nobackup/users/sangeon/condas/anaconda3/envs/studies/lib/python3.8/site-packages/pylorentz/__init__.py:34: VisibleDeprecationWarning: Creating an ndarray from ragged nested sequences (which is a list-or-tuple of lists-or-tuples-or ndarrays with different lengths or shapes) is deprecated. If you meant to do this, you must specify 'dtype=object' when creating the ndarray.\n",
      "  self._values = np.array(list(x))\n",
      "/home/sangeon/ToyJetGenerator/data/../datagenerator_realistic.py:350: RuntimeWarning: invalid value encountered in sqrt\n",
      "  zmin=np.maximum(0.2/mother.mom.p,0.5*(1-np.sqrt(1-(m/p)**2)))\n",
      "/home/sangeon/ToyJetGenerator/data/../datagenerator_realistic.py:350: RuntimeWarning: invalid value encountered in sqrt\n",
      "  zmin=np.maximum(0.2/mother.mom.p,0.5*(1-np.sqrt(1-(m/p)**2)))\n",
      "/home/sangeon/ToyJetGenerator/data/../datagenerator_realistic.py:350: RuntimeWarning: invalid value encountered in sqrt\n",
      "  zmin=np.maximum(0.2/mother.mom.p,0.5*(1-np.sqrt(1-(m/p)**2)))\n",
      "/home/sangeon/ToyJetGenerator/data/../datagenerator_realistic.py:350: RuntimeWarning: invalid value encountered in sqrt\n",
      "  zmin=np.maximum(0.2/mother.mom.p,0.5*(1-np.sqrt(1-(m/p)**2)))\n",
      "  3%|▎         | 14/479 [48:34<28:03:14, 217.19s/it]"
     ]
    },
    {
     "name": "stdout",
     "output_type": "stream",
     "text": [
      "time:  212.15472984313965\n"
     ]
    },
    {
     "name": "stderr",
     "output_type": "stream",
     "text": [
      "/nobackup/users/sangeon/condas/anaconda3/envs/studies/lib/python3.8/site-packages/pylorentz/__init__.py:34: VisibleDeprecationWarning: Creating an ndarray from ragged nested sequences (which is a list-or-tuple of lists-or-tuples-or ndarrays with different lengths or shapes) is deprecated. If you meant to do this, you must specify 'dtype=object' when creating the ndarray.\n",
      "  self._values = np.array(list(x))\n",
      "/home/sangeon/ToyJetGenerator/data/../datagenerator_realistic.py:320: RuntimeWarning: invalid value encountered in sqrt\n",
      "  return np.arctan(np.sqrt(num/den))\n",
      "/home/sangeon/ToyJetGenerator/data/../datagenerator_realistic.py:320: RuntimeWarning: invalid value encountered in sqrt\n",
      "  return np.arctan(np.sqrt(num/den))\n",
      "/home/sangeon/ToyJetGenerator/data/../datagenerator_realistic.py:320: RuntimeWarning: invalid value encountered in sqrt\n",
      "  return np.arctan(np.sqrt(num/den))\n",
      "/home/sangeon/ToyJetGenerator/data/../datagenerator_realistic.py:320: RuntimeWarning: invalid value encountered in sqrt\n",
      "  return np.arctan(np.sqrt(num/den))\n",
      "/nobackup/users/sangeon/condas/anaconda3/envs/studies/lib/python3.8/site-packages/pylorentz/__init__.py:34: VisibleDeprecationWarning: Creating an ndarray from ragged nested sequences (which is a list-or-tuple of lists-or-tuples-or ndarrays with different lengths or shapes) is deprecated. If you meant to do this, you must specify 'dtype=object' when creating the ndarray.\n",
      "  self._values = np.array(list(x))\n",
      "/home/sangeon/ToyJetGenerator/data/../datagenerator_realistic.py:350: RuntimeWarning: invalid value encountered in sqrt\n",
      "  zmin=np.maximum(0.2/mother.mom.p,0.5*(1-np.sqrt(1-(m/p)**2)))\n",
      "/nobackup/users/sangeon/condas/anaconda3/envs/studies/lib/python3.8/site-packages/pylorentz/__init__.py:34: VisibleDeprecationWarning: Creating an ndarray from ragged nested sequences (which is a list-or-tuple of lists-or-tuples-or ndarrays with different lengths or shapes) is deprecated. If you meant to do this, you must specify 'dtype=object' when creating the ndarray.\n",
      "  self._values = np.array(list(x))\n",
      "/nobackup/users/sangeon/condas/anaconda3/envs/studies/lib/python3.8/site-packages/pylorentz/__init__.py:34: VisibleDeprecationWarning: Creating an ndarray from ragged nested sequences (which is a list-or-tuple of lists-or-tuples-or ndarrays with different lengths or shapes) is deprecated. If you meant to do this, you must specify 'dtype=object' when creating the ndarray.\n",
      "  self._values = np.array(list(x))\n",
      "/home/sangeon/ToyJetGenerator/data/../datagenerator_realistic.py:350: RuntimeWarning: invalid value encountered in sqrt\n",
      "  zmin=np.maximum(0.2/mother.mom.p,0.5*(1-np.sqrt(1-(m/p)**2)))\n",
      "/home/sangeon/ToyJetGenerator/data/../datagenerator_realistic.py:350: RuntimeWarning: invalid value encountered in sqrt\n",
      "  zmin=np.maximum(0.2/mother.mom.p,0.5*(1-np.sqrt(1-(m/p)**2)))\n",
      "/home/sangeon/ToyJetGenerator/data/../datagenerator_realistic.py:350: RuntimeWarning: invalid value encountered in sqrt\n",
      "  zmin=np.maximum(0.2/mother.mom.p,0.5*(1-np.sqrt(1-(m/p)**2)))\n",
      "  3%|▎         | 15/479 [52:19<28:18:14, 219.60s/it]"
     ]
    },
    {
     "name": "stdout",
     "output_type": "stream",
     "text": [
      "time:  225.18075609207153\n"
     ]
    },
    {
     "name": "stderr",
     "output_type": "stream",
     "text": [
      "/home/sangeon/ToyJetGenerator/data/../datagenerator_realistic.py:320: RuntimeWarning: invalid value encountered in sqrt\n",
      "  return np.arctan(np.sqrt(num/den))\n",
      "/home/sangeon/ToyJetGenerator/data/../datagenerator_realistic.py:350: RuntimeWarning: invalid value encountered in sqrt\n",
      "  zmin=np.maximum(0.2/mother.mom.p,0.5*(1-np.sqrt(1-(m/p)**2)))\n",
      "/home/sangeon/ToyJetGenerator/data/../datagenerator_realistic.py:320: RuntimeWarning: invalid value encountered in sqrt\n",
      "  return np.arctan(np.sqrt(num/den))\n",
      "/nobackup/users/sangeon/condas/anaconda3/envs/studies/lib/python3.8/site-packages/pylorentz/__init__.py:34: VisibleDeprecationWarning: Creating an ndarray from ragged nested sequences (which is a list-or-tuple of lists-or-tuples-or ndarrays with different lengths or shapes) is deprecated. If you meant to do this, you must specify 'dtype=object' when creating the ndarray.\n",
      "  self._values = np.array(list(x))\n",
      "/nobackup/users/sangeon/condas/anaconda3/envs/studies/lib/python3.8/site-packages/pylorentz/__init__.py:34: VisibleDeprecationWarning: Creating an ndarray from ragged nested sequences (which is a list-or-tuple of lists-or-tuples-or ndarrays with different lengths or shapes) is deprecated. If you meant to do this, you must specify 'dtype=object' when creating the ndarray.\n",
      "  self._values = np.array(list(x))\n",
      "/nobackup/users/sangeon/condas/anaconda3/envs/studies/lib/python3.8/site-packages/pylorentz/__init__.py:34: VisibleDeprecationWarning: Creating an ndarray from ragged nested sequences (which is a list-or-tuple of lists-or-tuples-or ndarrays with different lengths or shapes) is deprecated. If you meant to do this, you must specify 'dtype=object' when creating the ndarray.\n",
      "  self._values = np.array(list(x))\n",
      "/home/sangeon/ToyJetGenerator/data/../datagenerator_realistic.py:320: RuntimeWarning: invalid value encountered in sqrt\n",
      "  return np.arctan(np.sqrt(num/den))\n",
      "/nobackup/users/sangeon/condas/anaconda3/envs/studies/lib/python3.8/site-packages/pylorentz/__init__.py:34: VisibleDeprecationWarning: Creating an ndarray from ragged nested sequences (which is a list-or-tuple of lists-or-tuples-or ndarrays with different lengths or shapes) is deprecated. If you meant to do this, you must specify 'dtype=object' when creating the ndarray.\n",
      "  self._values = np.array(list(x))\n",
      "/home/sangeon/ToyJetGenerator/data/../datagenerator_realistic.py:320: RuntimeWarning: invalid value encountered in sqrt\n",
      "  return np.arctan(np.sqrt(num/den))\n",
      "/home/sangeon/ToyJetGenerator/data/../datagenerator_realistic.py:350: RuntimeWarning: invalid value encountered in sqrt\n",
      "  zmin=np.maximum(0.2/mother.mom.p,0.5*(1-np.sqrt(1-(m/p)**2)))\n",
      "/home/sangeon/ToyJetGenerator/data/../datagenerator_realistic.py:350: RuntimeWarning: invalid value encountered in sqrt\n",
      "  zmin=np.maximum(0.2/mother.mom.p,0.5*(1-np.sqrt(1-(m/p)**2)))\n",
      "/home/sangeon/ToyJetGenerator/data/../datagenerator_realistic.py:350: RuntimeWarning: invalid value encountered in sqrt\n",
      "  zmin=np.maximum(0.2/mother.mom.p,0.5*(1-np.sqrt(1-(m/p)**2)))\n",
      "  3%|▎         | 16/479 [55:55<28:04:30, 218.29s/it]"
     ]
    },
    {
     "name": "stdout",
     "output_type": "stream",
     "text": [
      "time:  215.2585232257843\n"
     ]
    },
    {
     "name": "stderr",
     "output_type": "stream",
     "text": [
      "/home/sangeon/ToyJetGenerator/data/../datagenerator_realistic.py:350: RuntimeWarning: invalid value encountered in sqrt\n",
      "  zmin=np.maximum(0.2/mother.mom.p,0.5*(1-np.sqrt(1-(m/p)**2)))\n",
      "/home/sangeon/ToyJetGenerator/data/../datagenerator_realistic.py:320: RuntimeWarning: invalid value encountered in sqrt\n",
      "  return np.arctan(np.sqrt(num/den))\n",
      "/nobackup/users/sangeon/condas/anaconda3/envs/studies/lib/python3.8/site-packages/pylorentz/__init__.py:34: VisibleDeprecationWarning: Creating an ndarray from ragged nested sequences (which is a list-or-tuple of lists-or-tuples-or ndarrays with different lengths or shapes) is deprecated. If you meant to do this, you must specify 'dtype=object' when creating the ndarray.\n",
      "  self._values = np.array(list(x))\n",
      "/home/sangeon/ToyJetGenerator/data/../datagenerator_realistic.py:320: RuntimeWarning: invalid value encountered in sqrt\n",
      "  return np.arctan(np.sqrt(num/den))\n",
      "/home/sangeon/ToyJetGenerator/data/../datagenerator_realistic.py:350: RuntimeWarning: invalid value encountered in sqrt\n",
      "  zmin=np.maximum(0.2/mother.mom.p,0.5*(1-np.sqrt(1-(m/p)**2)))\n",
      "/home/sangeon/ToyJetGenerator/data/../datagenerator_realistic.py:320: RuntimeWarning: invalid value encountered in sqrt\n",
      "  return np.arctan(np.sqrt(num/den))\n",
      "/nobackup/users/sangeon/condas/anaconda3/envs/studies/lib/python3.8/site-packages/pylorentz/__init__.py:34: VisibleDeprecationWarning: Creating an ndarray from ragged nested sequences (which is a list-or-tuple of lists-or-tuples-or ndarrays with different lengths or shapes) is deprecated. If you meant to do this, you must specify 'dtype=object' when creating the ndarray.\n",
      "  self._values = np.array(list(x))\n",
      "/nobackup/users/sangeon/condas/anaconda3/envs/studies/lib/python3.8/site-packages/pylorentz/__init__.py:34: VisibleDeprecationWarning: Creating an ndarray from ragged nested sequences (which is a list-or-tuple of lists-or-tuples-or ndarrays with different lengths or shapes) is deprecated. If you meant to do this, you must specify 'dtype=object' when creating the ndarray.\n",
      "  self._values = np.array(list(x))\n",
      "/home/sangeon/ToyJetGenerator/data/../datagenerator_realistic.py:320: RuntimeWarning: invalid value encountered in sqrt\n",
      "  return np.arctan(np.sqrt(num/den))\n",
      "/home/sangeon/ToyJetGenerator/data/../datagenerator_realistic.py:350: RuntimeWarning: invalid value encountered in sqrt\n",
      "  zmin=np.maximum(0.2/mother.mom.p,0.5*(1-np.sqrt(1-(m/p)**2)))\n",
      "/nobackup/users/sangeon/condas/anaconda3/envs/studies/lib/python3.8/site-packages/pylorentz/__init__.py:34: VisibleDeprecationWarning: Creating an ndarray from ragged nested sequences (which is a list-or-tuple of lists-or-tuples-or ndarrays with different lengths or shapes) is deprecated. If you meant to do this, you must specify 'dtype=object' when creating the ndarray.\n",
      "  self._values = np.array(list(x))\n",
      "/home/sangeon/ToyJetGenerator/data/../datagenerator_realistic.py:350: RuntimeWarning: invalid value encountered in sqrt\n",
      "  zmin=np.maximum(0.2/mother.mom.p,0.5*(1-np.sqrt(1-(m/p)**2)))\n",
      "  4%|▎         | 17/479 [59:27<27:46:26, 216.42s/it]"
     ]
    },
    {
     "name": "stdout",
     "output_type": "stream",
     "text": [
      "time:  212.0622227191925\n"
     ]
    },
    {
     "name": "stderr",
     "output_type": "stream",
     "text": [
      "/home/sangeon/ToyJetGenerator/data/../datagenerator_realistic.py:320: RuntimeWarning: invalid value encountered in sqrt\n",
      "  return np.arctan(np.sqrt(num/den))\n",
      "/home/sangeon/ToyJetGenerator/data/../datagenerator_realistic.py:320: RuntimeWarning: invalid value encountered in sqrt\n",
      "  return np.arctan(np.sqrt(num/den))\n",
      "/home/sangeon/ToyJetGenerator/data/../datagenerator_realistic.py:320: RuntimeWarning: invalid value encountered in sqrt\n",
      "  return np.arctan(np.sqrt(num/den))\n",
      "/nobackup/users/sangeon/condas/anaconda3/envs/studies/lib/python3.8/site-packages/pylorentz/__init__.py:34: VisibleDeprecationWarning: Creating an ndarray from ragged nested sequences (which is a list-or-tuple of lists-or-tuples-or ndarrays with different lengths or shapes) is deprecated. If you meant to do this, you must specify 'dtype=object' when creating the ndarray.\n",
      "  self._values = np.array(list(x))\n",
      "/home/sangeon/ToyJetGenerator/data/../datagenerator_realistic.py:350: RuntimeWarning: invalid value encountered in sqrt\n",
      "  zmin=np.maximum(0.2/mother.mom.p,0.5*(1-np.sqrt(1-(m/p)**2)))\n",
      "/nobackup/users/sangeon/condas/anaconda3/envs/studies/lib/python3.8/site-packages/pylorentz/__init__.py:34: VisibleDeprecationWarning: Creating an ndarray from ragged nested sequences (which is a list-or-tuple of lists-or-tuples-or ndarrays with different lengths or shapes) is deprecated. If you meant to do this, you must specify 'dtype=object' when creating the ndarray.\n",
      "  self._values = np.array(list(x))\n",
      "/nobackup/users/sangeon/condas/anaconda3/envs/studies/lib/python3.8/site-packages/pylorentz/__init__.py:34: VisibleDeprecationWarning: Creating an ndarray from ragged nested sequences (which is a list-or-tuple of lists-or-tuples-or ndarrays with different lengths or shapes) is deprecated. If you meant to do this, you must specify 'dtype=object' when creating the ndarray.\n",
      "  self._values = np.array(list(x))\n",
      "/home/sangeon/ToyJetGenerator/data/../datagenerator_realistic.py:320: RuntimeWarning: invalid value encountered in sqrt\n",
      "  return np.arctan(np.sqrt(num/den))\n",
      "/home/sangeon/ToyJetGenerator/data/../datagenerator_realistic.py:350: RuntimeWarning: invalid value encountered in sqrt\n",
      "  zmin=np.maximum(0.2/mother.mom.p,0.5*(1-np.sqrt(1-(m/p)**2)))\n",
      "/home/sangeon/ToyJetGenerator/data/../datagenerator_realistic.py:350: RuntimeWarning: invalid value encountered in sqrt\n",
      "  zmin=np.maximum(0.2/mother.mom.p,0.5*(1-np.sqrt(1-(m/p)**2)))\n",
      "/nobackup/users/sangeon/condas/anaconda3/envs/studies/lib/python3.8/site-packages/pylorentz/__init__.py:34: VisibleDeprecationWarning: Creating an ndarray from ragged nested sequences (which is a list-or-tuple of lists-or-tuples-or ndarrays with different lengths or shapes) is deprecated. If you meant to do this, you must specify 'dtype=object' when creating the ndarray.\n",
      "  self._values = np.array(list(x))\n",
      "/home/sangeon/ToyJetGenerator/data/../datagenerator_realistic.py:350: RuntimeWarning: invalid value encountered in sqrt\n",
      "  zmin=np.maximum(0.2/mother.mom.p,0.5*(1-np.sqrt(1-(m/p)**2)))\n",
      "  4%|▍         | 18/479 [1:03:08<27:54:34, 217.95s/it]"
     ]
    },
    {
     "name": "stdout",
     "output_type": "stream",
     "text": [
      "time:  221.50620079040527\n"
     ]
    },
    {
     "name": "stderr",
     "output_type": "stream",
     "text": [
      "/home/sangeon/ToyJetGenerator/data/../datagenerator_realistic.py:350: RuntimeWarning: invalid value encountered in sqrt\n",
      "  zmin=np.maximum(0.2/mother.mom.p,0.5*(1-np.sqrt(1-(m/p)**2)))\n",
      "/home/sangeon/ToyJetGenerator/data/../datagenerator_realistic.py:320: RuntimeWarning: invalid value encountered in sqrt\n",
      "  return np.arctan(np.sqrt(num/den))\n",
      "/nobackup/users/sangeon/condas/anaconda3/envs/studies/lib/python3.8/site-packages/pylorentz/__init__.py:34: VisibleDeprecationWarning: Creating an ndarray from ragged nested sequences (which is a list-or-tuple of lists-or-tuples-or ndarrays with different lengths or shapes) is deprecated. If you meant to do this, you must specify 'dtype=object' when creating the ndarray.\n",
      "  self._values = np.array(list(x))\n",
      "/home/sangeon/ToyJetGenerator/data/../datagenerator_realistic.py:320: RuntimeWarning: invalid value encountered in sqrt\n",
      "  return np.arctan(np.sqrt(num/den))\n",
      "/nobackup/users/sangeon/condas/anaconda3/envs/studies/lib/python3.8/site-packages/pylorentz/__init__.py:34: VisibleDeprecationWarning: Creating an ndarray from ragged nested sequences (which is a list-or-tuple of lists-or-tuples-or ndarrays with different lengths or shapes) is deprecated. If you meant to do this, you must specify 'dtype=object' when creating the ndarray.\n",
      "  self._values = np.array(list(x))\n",
      "/home/sangeon/ToyJetGenerator/data/../datagenerator_realistic.py:320: RuntimeWarning: invalid value encountered in sqrt\n",
      "  return np.arctan(np.sqrt(num/den))\n",
      "/nobackup/users/sangeon/condas/anaconda3/envs/studies/lib/python3.8/site-packages/pylorentz/__init__.py:34: VisibleDeprecationWarning: Creating an ndarray from ragged nested sequences (which is a list-or-tuple of lists-or-tuples-or ndarrays with different lengths or shapes) is deprecated. If you meant to do this, you must specify 'dtype=object' when creating the ndarray.\n",
      "  self._values = np.array(list(x))\n",
      "/home/sangeon/ToyJetGenerator/data/../datagenerator_realistic.py:350: RuntimeWarning: invalid value encountered in sqrt\n",
      "  zmin=np.maximum(0.2/mother.mom.p,0.5*(1-np.sqrt(1-(m/p)**2)))\n",
      "/home/sangeon/ToyJetGenerator/data/../datagenerator_realistic.py:320: RuntimeWarning: invalid value encountered in sqrt\n",
      "  return np.arctan(np.sqrt(num/den))\n",
      "/home/sangeon/ToyJetGenerator/data/../datagenerator_realistic.py:350: RuntimeWarning: invalid value encountered in sqrt\n",
      "  zmin=np.maximum(0.2/mother.mom.p,0.5*(1-np.sqrt(1-(m/p)**2)))\n",
      "/nobackup/users/sangeon/condas/anaconda3/envs/studies/lib/python3.8/site-packages/pylorentz/__init__.py:34: VisibleDeprecationWarning: Creating an ndarray from ragged nested sequences (which is a list-or-tuple of lists-or-tuples-or ndarrays with different lengths or shapes) is deprecated. If you meant to do this, you must specify 'dtype=object' when creating the ndarray.\n",
      "  self._values = np.array(list(x))\n",
      "/home/sangeon/ToyJetGenerator/data/../datagenerator_realistic.py:350: RuntimeWarning: invalid value encountered in sqrt\n",
      "  zmin=np.maximum(0.2/mother.mom.p,0.5*(1-np.sqrt(1-(m/p)**2)))\n",
      "  4%|▍         | 19/479 [1:07:01<28:24:24, 222.31s/it]"
     ]
    },
    {
     "name": "stdout",
     "output_type": "stream",
     "text": [
      "time:  232.48072814941406\n"
     ]
    },
    {
     "name": "stderr",
     "output_type": "stream",
     "text": [
      "/home/sangeon/ToyJetGenerator/data/../datagenerator_realistic.py:320: RuntimeWarning: invalid value encountered in sqrt\n",
      "  return np.arctan(np.sqrt(num/den))\n",
      "/home/sangeon/ToyJetGenerator/data/../datagenerator_realistic.py:320: RuntimeWarning: invalid value encountered in sqrt\n",
      "  return np.arctan(np.sqrt(num/den))\n",
      "/nobackup/users/sangeon/condas/anaconda3/envs/studies/lib/python3.8/site-packages/pylorentz/__init__.py:34: VisibleDeprecationWarning: Creating an ndarray from ragged nested sequences (which is a list-or-tuple of lists-or-tuples-or ndarrays with different lengths or shapes) is deprecated. If you meant to do this, you must specify 'dtype=object' when creating the ndarray.\n",
      "  self._values = np.array(list(x))\n",
      "/nobackup/users/sangeon/condas/anaconda3/envs/studies/lib/python3.8/site-packages/pylorentz/__init__.py:34: VisibleDeprecationWarning: Creating an ndarray from ragged nested sequences (which is a list-or-tuple of lists-or-tuples-or ndarrays with different lengths or shapes) is deprecated. If you meant to do this, you must specify 'dtype=object' when creating the ndarray.\n",
      "  self._values = np.array(list(x))\n",
      "/home/sangeon/ToyJetGenerator/data/../datagenerator_realistic.py:320: RuntimeWarning: invalid value encountered in sqrt\n",
      "  return np.arctan(np.sqrt(num/den))\n",
      "/nobackup/users/sangeon/condas/anaconda3/envs/studies/lib/python3.8/site-packages/pylorentz/__init__.py:34: VisibleDeprecationWarning: Creating an ndarray from ragged nested sequences (which is a list-or-tuple of lists-or-tuples-or ndarrays with different lengths or shapes) is deprecated. If you meant to do this, you must specify 'dtype=object' when creating the ndarray.\n",
      "  self._values = np.array(list(x))\n",
      "/home/sangeon/ToyJetGenerator/data/../datagenerator_realistic.py:320: RuntimeWarning: invalid value encountered in sqrt\n",
      "  return np.arctan(np.sqrt(num/den))\n",
      "/nobackup/users/sangeon/condas/anaconda3/envs/studies/lib/python3.8/site-packages/pylorentz/__init__.py:34: VisibleDeprecationWarning: Creating an ndarray from ragged nested sequences (which is a list-or-tuple of lists-or-tuples-or ndarrays with different lengths or shapes) is deprecated. If you meant to do this, you must specify 'dtype=object' when creating the ndarray.\n",
      "  self._values = np.array(list(x))\n",
      "/home/sangeon/ToyJetGenerator/data/../datagenerator_realistic.py:350: RuntimeWarning: invalid value encountered in sqrt\n",
      "  zmin=np.maximum(0.2/mother.mom.p,0.5*(1-np.sqrt(1-(m/p)**2)))\n",
      "/home/sangeon/ToyJetGenerator/data/../datagenerator_realistic.py:350: RuntimeWarning: invalid value encountered in sqrt\n",
      "  zmin=np.maximum(0.2/mother.mom.p,0.5*(1-np.sqrt(1-(m/p)**2)))\n",
      "/home/sangeon/ToyJetGenerator/data/../datagenerator_realistic.py:350: RuntimeWarning: invalid value encountered in sqrt\n",
      "  zmin=np.maximum(0.2/mother.mom.p,0.5*(1-np.sqrt(1-(m/p)**2)))\n",
      "/home/sangeon/ToyJetGenerator/data/../datagenerator_realistic.py:350: RuntimeWarning: invalid value encountered in sqrt\n",
      "  zmin=np.maximum(0.2/mother.mom.p,0.5*(1-np.sqrt(1-(m/p)**2)))\n",
      "  4%|▍         | 20/479 [1:10:34<27:59:19, 219.52s/it]"
     ]
    },
    {
     "name": "stdout",
     "output_type": "stream",
     "text": [
      "time:  213.0070722103119\n"
     ]
    },
    {
     "name": "stderr",
     "output_type": "stream",
     "text": [
      "/home/sangeon/ToyJetGenerator/data/../datagenerator_realistic.py:320: RuntimeWarning: invalid value encountered in sqrt\n",
      "  return np.arctan(np.sqrt(num/den))\n",
      "/home/sangeon/ToyJetGenerator/data/../datagenerator_realistic.py:320: RuntimeWarning: invalid value encountered in sqrt\n",
      "  return np.arctan(np.sqrt(num/den))\n",
      "/nobackup/users/sangeon/condas/anaconda3/envs/studies/lib/python3.8/site-packages/pylorentz/__init__.py:34: VisibleDeprecationWarning: Creating an ndarray from ragged nested sequences (which is a list-or-tuple of lists-or-tuples-or ndarrays with different lengths or shapes) is deprecated. If you meant to do this, you must specify 'dtype=object' when creating the ndarray.\n",
      "  self._values = np.array(list(x))\n",
      "/home/sangeon/ToyJetGenerator/data/../datagenerator_realistic.py:350: RuntimeWarning: invalid value encountered in sqrt\n",
      "  zmin=np.maximum(0.2/mother.mom.p,0.5*(1-np.sqrt(1-(m/p)**2)))\n",
      "/nobackup/users/sangeon/condas/anaconda3/envs/studies/lib/python3.8/site-packages/pylorentz/__init__.py:34: VisibleDeprecationWarning: Creating an ndarray from ragged nested sequences (which is a list-or-tuple of lists-or-tuples-or ndarrays with different lengths or shapes) is deprecated. If you meant to do this, you must specify 'dtype=object' when creating the ndarray.\n",
      "  self._values = np.array(list(x))\n",
      "/home/sangeon/ToyJetGenerator/data/../datagenerator_realistic.py:320: RuntimeWarning: invalid value encountered in sqrt\n",
      "  return np.arctan(np.sqrt(num/den))\n",
      "/nobackup/users/sangeon/condas/anaconda3/envs/studies/lib/python3.8/site-packages/pylorentz/__init__.py:34: VisibleDeprecationWarning: Creating an ndarray from ragged nested sequences (which is a list-or-tuple of lists-or-tuples-or ndarrays with different lengths or shapes) is deprecated. If you meant to do this, you must specify 'dtype=object' when creating the ndarray.\n",
      "  self._values = np.array(list(x))\n",
      "/home/sangeon/ToyJetGenerator/data/../datagenerator_realistic.py:320: RuntimeWarning: invalid value encountered in sqrt\n",
      "  return np.arctan(np.sqrt(num/den))\n",
      "/home/sangeon/ToyJetGenerator/data/../datagenerator_realistic.py:350: RuntimeWarning: invalid value encountered in sqrt\n",
      "  zmin=np.maximum(0.2/mother.mom.p,0.5*(1-np.sqrt(1-(m/p)**2)))\n",
      "/home/sangeon/ToyJetGenerator/data/../datagenerator_realistic.py:350: RuntimeWarning: invalid value encountered in sqrt\n",
      "  zmin=np.maximum(0.2/mother.mom.p,0.5*(1-np.sqrt(1-(m/p)**2)))\n",
      "/home/sangeon/ToyJetGenerator/data/../datagenerator_realistic.py:350: RuntimeWarning: invalid value encountered in sqrt\n",
      "  zmin=np.maximum(0.2/mother.mom.p,0.5*(1-np.sqrt(1-(m/p)**2)))\n",
      "/nobackup/users/sangeon/condas/anaconda3/envs/studies/lib/python3.8/site-packages/pylorentz/__init__.py:34: VisibleDeprecationWarning: Creating an ndarray from ragged nested sequences (which is a list-or-tuple of lists-or-tuples-or ndarrays with different lengths or shapes) is deprecated. If you meant to do this, you must specify 'dtype=object' when creating the ndarray.\n",
      "  self._values = np.array(list(x))\n",
      "  4%|▍         | 21/479 [1:14:14<27:58:46, 219.93s/it]"
     ]
    },
    {
     "name": "stdout",
     "output_type": "stream",
     "text": [
      "time:  220.87728691101074\n"
     ]
    },
    {
     "name": "stderr",
     "output_type": "stream",
     "text": [
      "/home/sangeon/ToyJetGenerator/data/../datagenerator_realistic.py:350: RuntimeWarning: invalid value encountered in sqrt\n",
      "  zmin=np.maximum(0.2/mother.mom.p,0.5*(1-np.sqrt(1-(m/p)**2)))\n",
      "/home/sangeon/ToyJetGenerator/data/../datagenerator_realistic.py:320: RuntimeWarning: invalid value encountered in sqrt\n",
      "  return np.arctan(np.sqrt(num/den))\n",
      "/nobackup/users/sangeon/condas/anaconda3/envs/studies/lib/python3.8/site-packages/pylorentz/__init__.py:34: VisibleDeprecationWarning: Creating an ndarray from ragged nested sequences (which is a list-or-tuple of lists-or-tuples-or ndarrays with different lengths or shapes) is deprecated. If you meant to do this, you must specify 'dtype=object' when creating the ndarray.\n",
      "  self._values = np.array(list(x))\n",
      "/home/sangeon/ToyJetGenerator/data/../datagenerator_realistic.py:320: RuntimeWarning: invalid value encountered in sqrt\n",
      "  return np.arctan(np.sqrt(num/den))\n",
      "/home/sangeon/ToyJetGenerator/data/../datagenerator_realistic.py:320: RuntimeWarning: invalid value encountered in sqrt\n",
      "  return np.arctan(np.sqrt(num/den))\n",
      "/home/sangeon/ToyJetGenerator/data/../datagenerator_realistic.py:320: RuntimeWarning: invalid value encountered in sqrt\n",
      "  return np.arctan(np.sqrt(num/den))\n",
      "/home/sangeon/ToyJetGenerator/data/../datagenerator_realistic.py:350: RuntimeWarning: invalid value encountered in sqrt\n",
      "  zmin=np.maximum(0.2/mother.mom.p,0.5*(1-np.sqrt(1-(m/p)**2)))\n",
      "/nobackup/users/sangeon/condas/anaconda3/envs/studies/lib/python3.8/site-packages/pylorentz/__init__.py:34: VisibleDeprecationWarning: Creating an ndarray from ragged nested sequences (which is a list-or-tuple of lists-or-tuples-or ndarrays with different lengths or shapes) is deprecated. If you meant to do this, you must specify 'dtype=object' when creating the ndarray.\n",
      "  self._values = np.array(list(x))\n",
      "/nobackup/users/sangeon/condas/anaconda3/envs/studies/lib/python3.8/site-packages/pylorentz/__init__.py:34: VisibleDeprecationWarning: Creating an ndarray from ragged nested sequences (which is a list-or-tuple of lists-or-tuples-or ndarrays with different lengths or shapes) is deprecated. If you meant to do this, you must specify 'dtype=object' when creating the ndarray.\n",
      "  self._values = np.array(list(x))\n",
      "/home/sangeon/ToyJetGenerator/data/../datagenerator_realistic.py:350: RuntimeWarning: invalid value encountered in sqrt\n",
      "  zmin=np.maximum(0.2/mother.mom.p,0.5*(1-np.sqrt(1-(m/p)**2)))\n",
      "/nobackup/users/sangeon/condas/anaconda3/envs/studies/lib/python3.8/site-packages/pylorentz/__init__.py:34: VisibleDeprecationWarning: Creating an ndarray from ragged nested sequences (which is a list-or-tuple of lists-or-tuples-or ndarrays with different lengths or shapes) is deprecated. If you meant to do this, you must specify 'dtype=object' when creating the ndarray.\n",
      "  self._values = np.array(list(x))\n",
      "/home/sangeon/ToyJetGenerator/data/../datagenerator_realistic.py:350: RuntimeWarning: invalid value encountered in sqrt\n",
      "  zmin=np.maximum(0.2/mother.mom.p,0.5*(1-np.sqrt(1-(m/p)**2)))\n",
      "  5%|▍         | 22/479 [1:17:47<27:39:16, 217.85s/it]"
     ]
    },
    {
     "name": "stdout",
     "output_type": "stream",
     "text": [
      "time:  212.99381041526794\n"
     ]
    },
    {
     "name": "stderr",
     "output_type": "stream",
     "text": [
      "/nobackup/users/sangeon/condas/anaconda3/envs/studies/lib/python3.8/site-packages/pylorentz/__init__.py:34: VisibleDeprecationWarning: Creating an ndarray from ragged nested sequences (which is a list-or-tuple of lists-or-tuples-or ndarrays with different lengths or shapes) is deprecated. If you meant to do this, you must specify 'dtype=object' when creating the ndarray.\n",
      "  self._values = np.array(list(x))\n",
      "/home/sangeon/ToyJetGenerator/data/../datagenerator_realistic.py:320: RuntimeWarning: invalid value encountered in sqrt\n",
      "  return np.arctan(np.sqrt(num/den))\n",
      "/nobackup/users/sangeon/condas/anaconda3/envs/studies/lib/python3.8/site-packages/pylorentz/__init__.py:34: VisibleDeprecationWarning: Creating an ndarray from ragged nested sequences (which is a list-or-tuple of lists-or-tuples-or ndarrays with different lengths or shapes) is deprecated. If you meant to do this, you must specify 'dtype=object' when creating the ndarray.\n",
      "  self._values = np.array(list(x))\n",
      "/nobackup/users/sangeon/condas/anaconda3/envs/studies/lib/python3.8/site-packages/pylorentz/__init__.py:34: VisibleDeprecationWarning: Creating an ndarray from ragged nested sequences (which is a list-or-tuple of lists-or-tuples-or ndarrays with different lengths or shapes) is deprecated. If you meant to do this, you must specify 'dtype=object' when creating the ndarray.\n",
      "  self._values = np.array(list(x))\n",
      "/home/sangeon/ToyJetGenerator/data/../datagenerator_realistic.py:320: RuntimeWarning: invalid value encountered in sqrt\n",
      "  return np.arctan(np.sqrt(num/den))\n",
      "/home/sangeon/ToyJetGenerator/data/../datagenerator_realistic.py:320: RuntimeWarning: invalid value encountered in sqrt\n",
      "  return np.arctan(np.sqrt(num/den))\n",
      "/home/sangeon/ToyJetGenerator/data/../datagenerator_realistic.py:320: RuntimeWarning: invalid value encountered in sqrt\n",
      "  return np.arctan(np.sqrt(num/den))\n",
      "/nobackup/users/sangeon/condas/anaconda3/envs/studies/lib/python3.8/site-packages/pylorentz/__init__.py:34: VisibleDeprecationWarning: Creating an ndarray from ragged nested sequences (which is a list-or-tuple of lists-or-tuples-or ndarrays with different lengths or shapes) is deprecated. If you meant to do this, you must specify 'dtype=object' when creating the ndarray.\n",
      "  self._values = np.array(list(x))\n",
      "/home/sangeon/ToyJetGenerator/data/../datagenerator_realistic.py:350: RuntimeWarning: invalid value encountered in sqrt\n",
      "  zmin=np.maximum(0.2/mother.mom.p,0.5*(1-np.sqrt(1-(m/p)**2)))\n",
      "/home/sangeon/ToyJetGenerator/data/../datagenerator_realistic.py:350: RuntimeWarning: invalid value encountered in sqrt\n",
      "  zmin=np.maximum(0.2/mother.mom.p,0.5*(1-np.sqrt(1-(m/p)**2)))\n",
      "/home/sangeon/ToyJetGenerator/data/../datagenerator_realistic.py:350: RuntimeWarning: invalid value encountered in sqrt\n",
      "  zmin=np.maximum(0.2/mother.mom.p,0.5*(1-np.sqrt(1-(m/p)**2)))\n",
      "/home/sangeon/ToyJetGenerator/data/../datagenerator_realistic.py:350: RuntimeWarning: invalid value encountered in sqrt\n",
      "  zmin=np.maximum(0.2/mother.mom.p,0.5*(1-np.sqrt(1-(m/p)**2)))\n",
      "  5%|▍         | 23/479 [1:21:16<27:14:39, 215.09s/it]"
     ]
    },
    {
     "name": "stdout",
     "output_type": "stream",
     "text": [
      "time:  208.64770364761353\n"
     ]
    },
    {
     "name": "stderr",
     "output_type": "stream",
     "text": [
      "/home/sangeon/ToyJetGenerator/data/../datagenerator_realistic.py:320: RuntimeWarning: invalid value encountered in sqrt\n",
      "  return np.arctan(np.sqrt(num/den))\n",
      "/home/sangeon/ToyJetGenerator/data/../datagenerator_realistic.py:320: RuntimeWarning: invalid value encountered in sqrt\n",
      "  return np.arctan(np.sqrt(num/den))\n",
      "/home/sangeon/ToyJetGenerator/data/../datagenerator_realistic.py:320: RuntimeWarning: invalid value encountered in sqrt\n",
      "  return np.arctan(np.sqrt(num/den))\n",
      "/nobackup/users/sangeon/condas/anaconda3/envs/studies/lib/python3.8/site-packages/pylorentz/__init__.py:34: VisibleDeprecationWarning: Creating an ndarray from ragged nested sequences (which is a list-or-tuple of lists-or-tuples-or ndarrays with different lengths or shapes) is deprecated. If you meant to do this, you must specify 'dtype=object' when creating the ndarray.\n",
      "  self._values = np.array(list(x))\n",
      "/home/sangeon/ToyJetGenerator/data/../datagenerator_realistic.py:320: RuntimeWarning: invalid value encountered in sqrt\n",
      "  return np.arctan(np.sqrt(num/den))\n",
      "/nobackup/users/sangeon/condas/anaconda3/envs/studies/lib/python3.8/site-packages/pylorentz/__init__.py:34: VisibleDeprecationWarning: Creating an ndarray from ragged nested sequences (which is a list-or-tuple of lists-or-tuples-or ndarrays with different lengths or shapes) is deprecated. If you meant to do this, you must specify 'dtype=object' when creating the ndarray.\n",
      "  self._values = np.array(list(x))\n",
      "/nobackup/users/sangeon/condas/anaconda3/envs/studies/lib/python3.8/site-packages/pylorentz/__init__.py:34: VisibleDeprecationWarning: Creating an ndarray from ragged nested sequences (which is a list-or-tuple of lists-or-tuples-or ndarrays with different lengths or shapes) is deprecated. If you meant to do this, you must specify 'dtype=object' when creating the ndarray.\n",
      "  self._values = np.array(list(x))\n",
      "/nobackup/users/sangeon/condas/anaconda3/envs/studies/lib/python3.8/site-packages/pylorentz/__init__.py:34: VisibleDeprecationWarning: Creating an ndarray from ragged nested sequences (which is a list-or-tuple of lists-or-tuples-or ndarrays with different lengths or shapes) is deprecated. If you meant to do this, you must specify 'dtype=object' when creating the ndarray.\n",
      "  self._values = np.array(list(x))\n",
      "/home/sangeon/ToyJetGenerator/data/../datagenerator_realistic.py:350: RuntimeWarning: invalid value encountered in sqrt\n",
      "  zmin=np.maximum(0.2/mother.mom.p,0.5*(1-np.sqrt(1-(m/p)**2)))\n",
      "/home/sangeon/ToyJetGenerator/data/../datagenerator_realistic.py:350: RuntimeWarning: invalid value encountered in sqrt\n",
      "  zmin=np.maximum(0.2/mother.mom.p,0.5*(1-np.sqrt(1-(m/p)**2)))\n",
      "/home/sangeon/ToyJetGenerator/data/../datagenerator_realistic.py:350: RuntimeWarning: invalid value encountered in sqrt\n",
      "  zmin=np.maximum(0.2/mother.mom.p,0.5*(1-np.sqrt(1-(m/p)**2)))\n",
      "/home/sangeon/ToyJetGenerator/data/../datagenerator_realistic.py:350: RuntimeWarning: invalid value encountered in sqrt\n",
      "  zmin=np.maximum(0.2/mother.mom.p,0.5*(1-np.sqrt(1-(m/p)**2)))\n",
      "  5%|▌         | 24/479 [1:25:03<27:37:22, 218.55s/it]"
     ]
    },
    {
     "name": "stdout",
     "output_type": "stream",
     "text": [
      "time:  226.64409685134888\n"
     ]
    },
    {
     "name": "stderr",
     "output_type": "stream",
     "text": [
      "/home/sangeon/ToyJetGenerator/data/../datagenerator_realistic.py:320: RuntimeWarning: invalid value encountered in sqrt\n",
      "  return np.arctan(np.sqrt(num/den))\n",
      "/nobackup/users/sangeon/condas/anaconda3/envs/studies/lib/python3.8/site-packages/pylorentz/__init__.py:34: VisibleDeprecationWarning: Creating an ndarray from ragged nested sequences (which is a list-or-tuple of lists-or-tuples-or ndarrays with different lengths or shapes) is deprecated. If you meant to do this, you must specify 'dtype=object' when creating the ndarray.\n",
      "  self._values = np.array(list(x))\n",
      "/home/sangeon/ToyJetGenerator/data/../datagenerator_realistic.py:320: RuntimeWarning: invalid value encountered in sqrt\n",
      "  return np.arctan(np.sqrt(num/den))\n",
      "/home/sangeon/ToyJetGenerator/data/../datagenerator_realistic.py:320: RuntimeWarning: invalid value encountered in sqrt\n",
      "  return np.arctan(np.sqrt(num/den))\n",
      "/home/sangeon/ToyJetGenerator/data/../datagenerator_realistic.py:320: RuntimeWarning: invalid value encountered in sqrt\n",
      "  return np.arctan(np.sqrt(num/den))\n",
      "/nobackup/users/sangeon/condas/anaconda3/envs/studies/lib/python3.8/site-packages/pylorentz/__init__.py:34: VisibleDeprecationWarning: Creating an ndarray from ragged nested sequences (which is a list-or-tuple of lists-or-tuples-or ndarrays with different lengths or shapes) is deprecated. If you meant to do this, you must specify 'dtype=object' when creating the ndarray.\n",
      "  self._values = np.array(list(x))\n",
      "/nobackup/users/sangeon/condas/anaconda3/envs/studies/lib/python3.8/site-packages/pylorentz/__init__.py:34: VisibleDeprecationWarning: Creating an ndarray from ragged nested sequences (which is a list-or-tuple of lists-or-tuples-or ndarrays with different lengths or shapes) is deprecated. If you meant to do this, you must specify 'dtype=object' when creating the ndarray.\n",
      "  self._values = np.array(list(x))\n",
      "/home/sangeon/ToyJetGenerator/data/../datagenerator_realistic.py:350: RuntimeWarning: invalid value encountered in sqrt\n",
      "  zmin=np.maximum(0.2/mother.mom.p,0.5*(1-np.sqrt(1-(m/p)**2)))\n",
      "/home/sangeon/ToyJetGenerator/data/../datagenerator_realistic.py:350: RuntimeWarning: invalid value encountered in sqrt\n",
      "  zmin=np.maximum(0.2/mother.mom.p,0.5*(1-np.sqrt(1-(m/p)**2)))\n",
      "/home/sangeon/ToyJetGenerator/data/../datagenerator_realistic.py:350: RuntimeWarning: invalid value encountered in sqrt\n",
      "  zmin=np.maximum(0.2/mother.mom.p,0.5*(1-np.sqrt(1-(m/p)**2)))\n",
      "/nobackup/users/sangeon/condas/anaconda3/envs/studies/lib/python3.8/site-packages/pylorentz/__init__.py:34: VisibleDeprecationWarning: Creating an ndarray from ragged nested sequences (which is a list-or-tuple of lists-or-tuples-or ndarrays with different lengths or shapes) is deprecated. If you meant to do this, you must specify 'dtype=object' when creating the ndarray.\n",
      "  self._values = np.array(list(x))\n",
      "/home/sangeon/ToyJetGenerator/data/../datagenerator_realistic.py:350: RuntimeWarning: invalid value encountered in sqrt\n",
      "  zmin=np.maximum(0.2/mother.mom.p,0.5*(1-np.sqrt(1-(m/p)**2)))\n",
      "  5%|▌         | 25/479 [1:28:47<27:46:34, 220.25s/it]"
     ]
    },
    {
     "name": "stdout",
     "output_type": "stream",
     "text": [
      "time:  224.2126181125641\n"
     ]
    },
    {
     "name": "stderr",
     "output_type": "stream",
     "text": [
      "/home/sangeon/ToyJetGenerator/data/../datagenerator_realistic.py:320: RuntimeWarning: invalid value encountered in sqrt\n",
      "  return np.arctan(np.sqrt(num/den))\n",
      "/home/sangeon/ToyJetGenerator/data/../datagenerator_realistic.py:320: RuntimeWarning: invalid value encountered in sqrt\n",
      "  return np.arctan(np.sqrt(num/den))\n",
      "/home/sangeon/ToyJetGenerator/data/../datagenerator_realistic.py:320: RuntimeWarning: invalid value encountered in sqrt\n",
      "  return np.arctan(np.sqrt(num/den))\n",
      "/home/sangeon/ToyJetGenerator/data/../datagenerator_realistic.py:320: RuntimeWarning: invalid value encountered in sqrt\n",
      "  return np.arctan(np.sqrt(num/den))\n",
      "/nobackup/users/sangeon/condas/anaconda3/envs/studies/lib/python3.8/site-packages/pylorentz/__init__.py:34: VisibleDeprecationWarning: Creating an ndarray from ragged nested sequences (which is a list-or-tuple of lists-or-tuples-or ndarrays with different lengths or shapes) is deprecated. If you meant to do this, you must specify 'dtype=object' when creating the ndarray.\n",
      "  self._values = np.array(list(x))\n",
      "/nobackup/users/sangeon/condas/anaconda3/envs/studies/lib/python3.8/site-packages/pylorentz/__init__.py:34: VisibleDeprecationWarning: Creating an ndarray from ragged nested sequences (which is a list-or-tuple of lists-or-tuples-or ndarrays with different lengths or shapes) is deprecated. If you meant to do this, you must specify 'dtype=object' when creating the ndarray.\n",
      "  self._values = np.array(list(x))\n",
      "/nobackup/users/sangeon/condas/anaconda3/envs/studies/lib/python3.8/site-packages/pylorentz/__init__.py:34: VisibleDeprecationWarning: Creating an ndarray from ragged nested sequences (which is a list-or-tuple of lists-or-tuples-or ndarrays with different lengths or shapes) is deprecated. If you meant to do this, you must specify 'dtype=object' when creating the ndarray.\n",
      "  self._values = np.array(list(x))\n",
      "/home/sangeon/ToyJetGenerator/data/../datagenerator_realistic.py:350: RuntimeWarning: invalid value encountered in sqrt\n",
      "  zmin=np.maximum(0.2/mother.mom.p,0.5*(1-np.sqrt(1-(m/p)**2)))\n",
      "/home/sangeon/ToyJetGenerator/data/../datagenerator_realistic.py:350: RuntimeWarning: invalid value encountered in sqrt\n",
      "  zmin=np.maximum(0.2/mother.mom.p,0.5*(1-np.sqrt(1-(m/p)**2)))\n",
      "/home/sangeon/ToyJetGenerator/data/../datagenerator_realistic.py:350: RuntimeWarning: invalid value encountered in sqrt\n",
      "  zmin=np.maximum(0.2/mother.mom.p,0.5*(1-np.sqrt(1-(m/p)**2)))\n",
      "/nobackup/users/sangeon/condas/anaconda3/envs/studies/lib/python3.8/site-packages/pylorentz/__init__.py:34: VisibleDeprecationWarning: Creating an ndarray from ragged nested sequences (which is a list-or-tuple of lists-or-tuples-or ndarrays with different lengths or shapes) is deprecated. If you meant to do this, you must specify 'dtype=object' when creating the ndarray.\n",
      "  self._values = np.array(list(x))\n",
      "/home/sangeon/ToyJetGenerator/data/../datagenerator_realistic.py:350: RuntimeWarning: invalid value encountered in sqrt\n",
      "  zmin=np.maximum(0.2/mother.mom.p,0.5*(1-np.sqrt(1-(m/p)**2)))\n",
      "  5%|▌         | 26/479 [1:32:33<27:56:25, 222.04s/it]"
     ]
    },
    {
     "name": "stdout",
     "output_type": "stream",
     "text": [
      "time:  226.21760630607605\n"
     ]
    },
    {
     "name": "stderr",
     "output_type": "stream",
     "text": [
      "/home/sangeon/ToyJetGenerator/data/../datagenerator_realistic.py:320: RuntimeWarning: invalid value encountered in sqrt\n",
      "  return np.arctan(np.sqrt(num/den))\n",
      "/home/sangeon/ToyJetGenerator/data/../datagenerator_realistic.py:350: RuntimeWarning: invalid value encountered in sqrt\n",
      "  zmin=np.maximum(0.2/mother.mom.p,0.5*(1-np.sqrt(1-(m/p)**2)))\n",
      "/home/sangeon/ToyJetGenerator/data/../datagenerator_realistic.py:320: RuntimeWarning: invalid value encountered in sqrt\n",
      "  return np.arctan(np.sqrt(num/den))\n",
      "/nobackup/users/sangeon/condas/anaconda3/envs/studies/lib/python3.8/site-packages/pylorentz/__init__.py:34: VisibleDeprecationWarning: Creating an ndarray from ragged nested sequences (which is a list-or-tuple of lists-or-tuples-or ndarrays with different lengths or shapes) is deprecated. If you meant to do this, you must specify 'dtype=object' when creating the ndarray.\n",
      "  self._values = np.array(list(x))\n",
      "/nobackup/users/sangeon/condas/anaconda3/envs/studies/lib/python3.8/site-packages/pylorentz/__init__.py:34: VisibleDeprecationWarning: Creating an ndarray from ragged nested sequences (which is a list-or-tuple of lists-or-tuples-or ndarrays with different lengths or shapes) is deprecated. If you meant to do this, you must specify 'dtype=object' when creating the ndarray.\n",
      "  self._values = np.array(list(x))\n",
      "/home/sangeon/ToyJetGenerator/data/../datagenerator_realistic.py:320: RuntimeWarning: invalid value encountered in sqrt\n",
      "  return np.arctan(np.sqrt(num/den))\n",
      "/nobackup/users/sangeon/condas/anaconda3/envs/studies/lib/python3.8/site-packages/pylorentz/__init__.py:34: VisibleDeprecationWarning: Creating an ndarray from ragged nested sequences (which is a list-or-tuple of lists-or-tuples-or ndarrays with different lengths or shapes) is deprecated. If you meant to do this, you must specify 'dtype=object' when creating the ndarray.\n",
      "  self._values = np.array(list(x))\n",
      "/home/sangeon/ToyJetGenerator/data/../datagenerator_realistic.py:320: RuntimeWarning: invalid value encountered in sqrt\n",
      "  return np.arctan(np.sqrt(num/den))\n",
      "/home/sangeon/ToyJetGenerator/data/../datagenerator_realistic.py:350: RuntimeWarning: invalid value encountered in sqrt\n",
      "  zmin=np.maximum(0.2/mother.mom.p,0.5*(1-np.sqrt(1-(m/p)**2)))\n",
      "/nobackup/users/sangeon/condas/anaconda3/envs/studies/lib/python3.8/site-packages/pylorentz/__init__.py:34: VisibleDeprecationWarning: Creating an ndarray from ragged nested sequences (which is a list-or-tuple of lists-or-tuples-or ndarrays with different lengths or shapes) is deprecated. If you meant to do this, you must specify 'dtype=object' when creating the ndarray.\n",
      "  self._values = np.array(list(x))\n",
      "/home/sangeon/ToyJetGenerator/data/../datagenerator_realistic.py:350: RuntimeWarning: invalid value encountered in sqrt\n",
      "  zmin=np.maximum(0.2/mother.mom.p,0.5*(1-np.sqrt(1-(m/p)**2)))\n",
      "/home/sangeon/ToyJetGenerator/data/../datagenerator_realistic.py:350: RuntimeWarning: invalid value encountered in sqrt\n",
      "  zmin=np.maximum(0.2/mother.mom.p,0.5*(1-np.sqrt(1-(m/p)**2)))\n",
      "  6%|▌         | 27/479 [1:36:07<27:33:02, 219.43s/it]"
     ]
    },
    {
     "name": "stdout",
     "output_type": "stream",
     "text": [
      "time:  213.33354544639587\n"
     ]
    },
    {
     "name": "stderr",
     "output_type": "stream",
     "text": [
      "/nobackup/users/sangeon/condas/anaconda3/envs/studies/lib/python3.8/site-packages/pylorentz/__init__.py:34: VisibleDeprecationWarning: Creating an ndarray from ragged nested sequences (which is a list-or-tuple of lists-or-tuples-or ndarrays with different lengths or shapes) is deprecated. If you meant to do this, you must specify 'dtype=object' when creating the ndarray.\n",
      "  self._values = np.array(list(x))\n",
      "/home/sangeon/ToyJetGenerator/data/../datagenerator_realistic.py:350: RuntimeWarning: invalid value encountered in sqrt\n",
      "  zmin=np.maximum(0.2/mother.mom.p,0.5*(1-np.sqrt(1-(m/p)**2)))\n",
      "/nobackup/users/sangeon/condas/anaconda3/envs/studies/lib/python3.8/site-packages/pylorentz/__init__.py:34: VisibleDeprecationWarning: Creating an ndarray from ragged nested sequences (which is a list-or-tuple of lists-or-tuples-or ndarrays with different lengths or shapes) is deprecated. If you meant to do this, you must specify 'dtype=object' when creating the ndarray.\n",
      "  self._values = np.array(list(x))\n",
      "/home/sangeon/ToyJetGenerator/data/../datagenerator_realistic.py:320: RuntimeWarning: invalid value encountered in sqrt\n",
      "  return np.arctan(np.sqrt(num/den))\n",
      "/home/sangeon/ToyJetGenerator/data/../datagenerator_realistic.py:320: RuntimeWarning: invalid value encountered in sqrt\n",
      "  return np.arctan(np.sqrt(num/den))\n",
      "/nobackup/users/sangeon/condas/anaconda3/envs/studies/lib/python3.8/site-packages/pylorentz/__init__.py:34: VisibleDeprecationWarning: Creating an ndarray from ragged nested sequences (which is a list-or-tuple of lists-or-tuples-or ndarrays with different lengths or shapes) is deprecated. If you meant to do this, you must specify 'dtype=object' when creating the ndarray.\n",
      "  self._values = np.array(list(x))\n",
      "/home/sangeon/ToyJetGenerator/data/../datagenerator_realistic.py:350: RuntimeWarning: invalid value encountered in sqrt\n",
      "  zmin=np.maximum(0.2/mother.mom.p,0.5*(1-np.sqrt(1-(m/p)**2)))\n",
      "/home/sangeon/ToyJetGenerator/data/../datagenerator_realistic.py:350: RuntimeWarning: invalid value encountered in sqrt\n",
      "  zmin=np.maximum(0.2/mother.mom.p,0.5*(1-np.sqrt(1-(m/p)**2)))\n",
      "/home/sangeon/ToyJetGenerator/data/../datagenerator_realistic.py:320: RuntimeWarning: invalid value encountered in sqrt\n",
      "  return np.arctan(np.sqrt(num/den))\n",
      "/nobackup/users/sangeon/condas/anaconda3/envs/studies/lib/python3.8/site-packages/pylorentz/__init__.py:34: VisibleDeprecationWarning: Creating an ndarray from ragged nested sequences (which is a list-or-tuple of lists-or-tuples-or ndarrays with different lengths or shapes) is deprecated. If you meant to do this, you must specify 'dtype=object' when creating the ndarray.\n",
      "  self._values = np.array(list(x))\n",
      "/home/sangeon/ToyJetGenerator/data/../datagenerator_realistic.py:320: RuntimeWarning: invalid value encountered in sqrt\n",
      "  return np.arctan(np.sqrt(num/den))\n",
      "/home/sangeon/ToyJetGenerator/data/../datagenerator_realistic.py:350: RuntimeWarning: invalid value encountered in sqrt\n",
      "  zmin=np.maximum(0.2/mother.mom.p,0.5*(1-np.sqrt(1-(m/p)**2)))\n",
      "  6%|▌         | 28/479 [1:39:55<27:48:42, 222.00s/it]"
     ]
    },
    {
     "name": "stdout",
     "output_type": "stream",
     "text": [
      "time:  227.99833583831787\n"
     ]
    },
    {
     "name": "stderr",
     "output_type": "stream",
     "text": [
      "/home/sangeon/ToyJetGenerator/data/../datagenerator_realistic.py:320: RuntimeWarning: invalid value encountered in sqrt\n",
      "  return np.arctan(np.sqrt(num/den))\n",
      "/nobackup/users/sangeon/condas/anaconda3/envs/studies/lib/python3.8/site-packages/pylorentz/__init__.py:34: VisibleDeprecationWarning: Creating an ndarray from ragged nested sequences (which is a list-or-tuple of lists-or-tuples-or ndarrays with different lengths or shapes) is deprecated. If you meant to do this, you must specify 'dtype=object' when creating the ndarray.\n",
      "  self._values = np.array(list(x))\n",
      "/home/sangeon/ToyJetGenerator/data/../datagenerator_realistic.py:320: RuntimeWarning: invalid value encountered in sqrt\n",
      "  return np.arctan(np.sqrt(num/den))\n",
      "/nobackup/users/sangeon/condas/anaconda3/envs/studies/lib/python3.8/site-packages/pylorentz/__init__.py:34: VisibleDeprecationWarning: Creating an ndarray from ragged nested sequences (which is a list-or-tuple of lists-or-tuples-or ndarrays with different lengths or shapes) is deprecated. If you meant to do this, you must specify 'dtype=object' when creating the ndarray.\n",
      "  self._values = np.array(list(x))\n",
      "/nobackup/users/sangeon/condas/anaconda3/envs/studies/lib/python3.8/site-packages/pylorentz/__init__.py:34: VisibleDeprecationWarning: Creating an ndarray from ragged nested sequences (which is a list-or-tuple of lists-or-tuples-or ndarrays with different lengths or shapes) is deprecated. If you meant to do this, you must specify 'dtype=object' when creating the ndarray.\n",
      "  self._values = np.array(list(x))\n",
      "/home/sangeon/ToyJetGenerator/data/../datagenerator_realistic.py:320: RuntimeWarning: invalid value encountered in sqrt\n",
      "  return np.arctan(np.sqrt(num/den))\n",
      "/home/sangeon/ToyJetGenerator/data/../datagenerator_realistic.py:350: RuntimeWarning: invalid value encountered in sqrt\n",
      "  zmin=np.maximum(0.2/mother.mom.p,0.5*(1-np.sqrt(1-(m/p)**2)))\n",
      "/nobackup/users/sangeon/condas/anaconda3/envs/studies/lib/python3.8/site-packages/pylorentz/__init__.py:34: VisibleDeprecationWarning: Creating an ndarray from ragged nested sequences (which is a list-or-tuple of lists-or-tuples-or ndarrays with different lengths or shapes) is deprecated. If you meant to do this, you must specify 'dtype=object' when creating the ndarray.\n",
      "  self._values = np.array(list(x))\n",
      "/home/sangeon/ToyJetGenerator/data/../datagenerator_realistic.py:350: RuntimeWarning: invalid value encountered in sqrt\n",
      "  zmin=np.maximum(0.2/mother.mom.p,0.5*(1-np.sqrt(1-(m/p)**2)))\n",
      "/home/sangeon/ToyJetGenerator/data/../datagenerator_realistic.py:350: RuntimeWarning: invalid value encountered in sqrt\n",
      "  zmin=np.maximum(0.2/mother.mom.p,0.5*(1-np.sqrt(1-(m/p)**2)))\n",
      "/home/sangeon/ToyJetGenerator/data/../datagenerator_realistic.py:350: RuntimeWarning: invalid value encountered in sqrt\n",
      "  zmin=np.maximum(0.2/mother.mom.p,0.5*(1-np.sqrt(1-(m/p)**2)))\n",
      "/home/sangeon/ToyJetGenerator/data/../datagenerator_realistic.py:320: RuntimeWarning: invalid value encountered in sqrt\n",
      "  return np.arctan(np.sqrt(num/den))\n",
      "  6%|▌         | 29/479 [1:43:31<27:33:40, 220.49s/it]"
     ]
    },
    {
     "name": "stdout",
     "output_type": "stream",
     "text": [
      "time:  216.9601993560791\n"
     ]
    },
    {
     "name": "stderr",
     "output_type": "stream",
     "text": [
      "/home/sangeon/ToyJetGenerator/data/../datagenerator_realistic.py:320: RuntimeWarning: invalid value encountered in sqrt\n",
      "  return np.arctan(np.sqrt(num/den))\n",
      "/home/sangeon/ToyJetGenerator/data/../datagenerator_realistic.py:320: RuntimeWarning: invalid value encountered in sqrt\n",
      "  return np.arctan(np.sqrt(num/den))\n",
      "/home/sangeon/ToyJetGenerator/data/../datagenerator_realistic.py:320: RuntimeWarning: invalid value encountered in sqrt\n",
      "  return np.arctan(np.sqrt(num/den))\n",
      "/home/sangeon/ToyJetGenerator/data/../datagenerator_realistic.py:320: RuntimeWarning: invalid value encountered in sqrt\n",
      "  return np.arctan(np.sqrt(num/den))\n",
      "/nobackup/users/sangeon/condas/anaconda3/envs/studies/lib/python3.8/site-packages/pylorentz/__init__.py:34: VisibleDeprecationWarning: Creating an ndarray from ragged nested sequences (which is a list-or-tuple of lists-or-tuples-or ndarrays with different lengths or shapes) is deprecated. If you meant to do this, you must specify 'dtype=object' when creating the ndarray.\n",
      "  self._values = np.array(list(x))\n",
      "/nobackup/users/sangeon/condas/anaconda3/envs/studies/lib/python3.8/site-packages/pylorentz/__init__.py:34: VisibleDeprecationWarning: Creating an ndarray from ragged nested sequences (which is a list-or-tuple of lists-or-tuples-or ndarrays with different lengths or shapes) is deprecated. If you meant to do this, you must specify 'dtype=object' when creating the ndarray.\n",
      "  self._values = np.array(list(x))\n",
      "/home/sangeon/ToyJetGenerator/data/../datagenerator_realistic.py:350: RuntimeWarning: invalid value encountered in sqrt\n",
      "  zmin=np.maximum(0.2/mother.mom.p,0.5*(1-np.sqrt(1-(m/p)**2)))\n",
      "/home/sangeon/ToyJetGenerator/data/../datagenerator_realistic.py:350: RuntimeWarning: invalid value encountered in sqrt\n",
      "  zmin=np.maximum(0.2/mother.mom.p,0.5*(1-np.sqrt(1-(m/p)**2)))\n",
      "/nobackup/users/sangeon/condas/anaconda3/envs/studies/lib/python3.8/site-packages/pylorentz/__init__.py:34: VisibleDeprecationWarning: Creating an ndarray from ragged nested sequences (which is a list-or-tuple of lists-or-tuples-or ndarrays with different lengths or shapes) is deprecated. If you meant to do this, you must specify 'dtype=object' when creating the ndarray.\n",
      "  self._values = np.array(list(x))\n",
      "/home/sangeon/ToyJetGenerator/data/../datagenerator_realistic.py:350: RuntimeWarning: invalid value encountered in sqrt\n",
      "  zmin=np.maximum(0.2/mother.mom.p,0.5*(1-np.sqrt(1-(m/p)**2)))\n",
      "/nobackup/users/sangeon/condas/anaconda3/envs/studies/lib/python3.8/site-packages/pylorentz/__init__.py:34: VisibleDeprecationWarning: Creating an ndarray from ragged nested sequences (which is a list-or-tuple of lists-or-tuples-or ndarrays with different lengths or shapes) is deprecated. If you meant to do this, you must specify 'dtype=object' when creating the ndarray.\n",
      "  self._values = np.array(list(x))\n",
      "/home/sangeon/ToyJetGenerator/data/../datagenerator_realistic.py:350: RuntimeWarning: invalid value encountered in sqrt\n",
      "  zmin=np.maximum(0.2/mother.mom.p,0.5*(1-np.sqrt(1-(m/p)**2)))\n",
      "  6%|▋         | 30/479 [1:47:36<28:23:00, 227.57s/it]"
     ]
    },
    {
     "name": "stdout",
     "output_type": "stream",
     "text": [
      "time:  244.10148334503174\n"
     ]
    },
    {
     "name": "stderr",
     "output_type": "stream",
     "text": [
      "/home/sangeon/ToyJetGenerator/data/../datagenerator_realistic.py:320: RuntimeWarning: invalid value encountered in sqrt\n",
      "  return np.arctan(np.sqrt(num/den))\n",
      "/home/sangeon/ToyJetGenerator/data/../datagenerator_realistic.py:350: RuntimeWarning: invalid value encountered in sqrt\n",
      "  zmin=np.maximum(0.2/mother.mom.p,0.5*(1-np.sqrt(1-(m/p)**2)))\n",
      "/home/sangeon/ToyJetGenerator/data/../datagenerator_realistic.py:320: RuntimeWarning: invalid value encountered in sqrt\n",
      "  return np.arctan(np.sqrt(num/den))\n",
      "/nobackup/users/sangeon/condas/anaconda3/envs/studies/lib/python3.8/site-packages/pylorentz/__init__.py:34: VisibleDeprecationWarning: Creating an ndarray from ragged nested sequences (which is a list-or-tuple of lists-or-tuples-or ndarrays with different lengths or shapes) is deprecated. If you meant to do this, you must specify 'dtype=object' when creating the ndarray.\n",
      "  self._values = np.array(list(x))\n",
      "/nobackup/users/sangeon/condas/anaconda3/envs/studies/lib/python3.8/site-packages/pylorentz/__init__.py:34: VisibleDeprecationWarning: Creating an ndarray from ragged nested sequences (which is a list-or-tuple of lists-or-tuples-or ndarrays with different lengths or shapes) is deprecated. If you meant to do this, you must specify 'dtype=object' when creating the ndarray.\n",
      "  self._values = np.array(list(x))\n",
      "/nobackup/users/sangeon/condas/anaconda3/envs/studies/lib/python3.8/site-packages/pylorentz/__init__.py:34: VisibleDeprecationWarning: Creating an ndarray from ragged nested sequences (which is a list-or-tuple of lists-or-tuples-or ndarrays with different lengths or shapes) is deprecated. If you meant to do this, you must specify 'dtype=object' when creating the ndarray.\n",
      "  self._values = np.array(list(x))\n",
      "/home/sangeon/ToyJetGenerator/data/../datagenerator_realistic.py:320: RuntimeWarning: invalid value encountered in sqrt\n",
      "  return np.arctan(np.sqrt(num/den))\n",
      "/home/sangeon/ToyJetGenerator/data/../datagenerator_realistic.py:320: RuntimeWarning: invalid value encountered in sqrt\n",
      "  return np.arctan(np.sqrt(num/den))\n",
      "/home/sangeon/ToyJetGenerator/data/../datagenerator_realistic.py:350: RuntimeWarning: invalid value encountered in sqrt\n",
      "  zmin=np.maximum(0.2/mother.mom.p,0.5*(1-np.sqrt(1-(m/p)**2)))\n",
      "/home/sangeon/ToyJetGenerator/data/../datagenerator_realistic.py:350: RuntimeWarning: invalid value encountered in sqrt\n",
      "  zmin=np.maximum(0.2/mother.mom.p,0.5*(1-np.sqrt(1-(m/p)**2)))\n",
      "/nobackup/users/sangeon/condas/anaconda3/envs/studies/lib/python3.8/site-packages/pylorentz/__init__.py:34: VisibleDeprecationWarning: Creating an ndarray from ragged nested sequences (which is a list-or-tuple of lists-or-tuples-or ndarrays with different lengths or shapes) is deprecated. If you meant to do this, you must specify 'dtype=object' when creating the ndarray.\n",
      "  self._values = np.array(list(x))\n",
      "/home/sangeon/ToyJetGenerator/data/../datagenerator_realistic.py:350: RuntimeWarning: invalid value encountered in sqrt\n",
      "  zmin=np.maximum(0.2/mother.mom.p,0.5*(1-np.sqrt(1-(m/p)**2)))\n",
      "  6%|▋         | 31/479 [1:50:54<27:13:03, 218.71s/it]"
     ]
    },
    {
     "name": "stdout",
     "output_type": "stream",
     "text": [
      "time:  198.0367558002472\n"
     ]
    },
    {
     "name": "stderr",
     "output_type": "stream",
     "text": [
      "/nobackup/users/sangeon/condas/anaconda3/envs/studies/lib/python3.8/site-packages/pylorentz/__init__.py:34: VisibleDeprecationWarning: Creating an ndarray from ragged nested sequences (which is a list-or-tuple of lists-or-tuples-or ndarrays with different lengths or shapes) is deprecated. If you meant to do this, you must specify 'dtype=object' when creating the ndarray.\n",
      "  self._values = np.array(list(x))\n",
      "/nobackup/users/sangeon/condas/anaconda3/envs/studies/lib/python3.8/site-packages/pylorentz/__init__.py:34: VisibleDeprecationWarning: Creating an ndarray from ragged nested sequences (which is a list-or-tuple of lists-or-tuples-or ndarrays with different lengths or shapes) is deprecated. If you meant to do this, you must specify 'dtype=object' when creating the ndarray.\n",
      "  self._values = np.array(list(x))\n",
      "/home/sangeon/ToyJetGenerator/data/../datagenerator_realistic.py:320: RuntimeWarning: invalid value encountered in sqrt\n",
      "  return np.arctan(np.sqrt(num/den))\n",
      "/home/sangeon/ToyJetGenerator/data/../datagenerator_realistic.py:320: RuntimeWarning: invalid value encountered in sqrt\n",
      "  return np.arctan(np.sqrt(num/den))\n",
      "/home/sangeon/ToyJetGenerator/data/../datagenerator_realistic.py:320: RuntimeWarning: invalid value encountered in sqrt\n",
      "  return np.arctan(np.sqrt(num/den))\n",
      "/home/sangeon/ToyJetGenerator/data/../datagenerator_realistic.py:320: RuntimeWarning: invalid value encountered in sqrt\n",
      "  return np.arctan(np.sqrt(num/den))\n",
      "/nobackup/users/sangeon/condas/anaconda3/envs/studies/lib/python3.8/site-packages/pylorentz/__init__.py:34: VisibleDeprecationWarning: Creating an ndarray from ragged nested sequences (which is a list-or-tuple of lists-or-tuples-or ndarrays with different lengths or shapes) is deprecated. If you meant to do this, you must specify 'dtype=object' when creating the ndarray.\n",
      "  self._values = np.array(list(x))\n",
      "/home/sangeon/ToyJetGenerator/data/../datagenerator_realistic.py:350: RuntimeWarning: invalid value encountered in sqrt\n",
      "  zmin=np.maximum(0.2/mother.mom.p,0.5*(1-np.sqrt(1-(m/p)**2)))\n",
      "/home/sangeon/ToyJetGenerator/data/../datagenerator_realistic.py:350: RuntimeWarning: invalid value encountered in sqrt\n",
      "  zmin=np.maximum(0.2/mother.mom.p,0.5*(1-np.sqrt(1-(m/p)**2)))\n",
      "/home/sangeon/ToyJetGenerator/data/../datagenerator_realistic.py:350: RuntimeWarning: invalid value encountered in sqrt\n",
      "  zmin=np.maximum(0.2/mother.mom.p,0.5*(1-np.sqrt(1-(m/p)**2)))\n",
      "/nobackup/users/sangeon/condas/anaconda3/envs/studies/lib/python3.8/site-packages/pylorentz/__init__.py:34: VisibleDeprecationWarning: Creating an ndarray from ragged nested sequences (which is a list-or-tuple of lists-or-tuples-or ndarrays with different lengths or shapes) is deprecated. If you meant to do this, you must specify 'dtype=object' when creating the ndarray.\n",
      "  self._values = np.array(list(x))\n",
      "/home/sangeon/ToyJetGenerator/data/../datagenerator_realistic.py:350: RuntimeWarning: invalid value encountered in sqrt\n",
      "  zmin=np.maximum(0.2/mother.mom.p,0.5*(1-np.sqrt(1-(m/p)**2)))\n",
      "  7%|▋         | 32/479 [1:54:18<26:36:27, 214.29s/it]"
     ]
    },
    {
     "name": "stdout",
     "output_type": "stream",
     "text": [
      "time:  203.96643996238708\n"
     ]
    },
    {
     "name": "stderr",
     "output_type": "stream",
     "text": [
      "/home/sangeon/ToyJetGenerator/data/../datagenerator_realistic.py:320: RuntimeWarning: invalid value encountered in sqrt\n",
      "  return np.arctan(np.sqrt(num/den))\n",
      "/home/sangeon/ToyJetGenerator/data/../datagenerator_realistic.py:320: RuntimeWarning: invalid value encountered in sqrt\n",
      "  return np.arctan(np.sqrt(num/den))\n",
      "/home/sangeon/ToyJetGenerator/data/../datagenerator_realistic.py:320: RuntimeWarning: invalid value encountered in sqrt\n",
      "  return np.arctan(np.sqrt(num/den))\n",
      "/home/sangeon/ToyJetGenerator/data/../datagenerator_realistic.py:320: RuntimeWarning: invalid value encountered in sqrt\n",
      "  return np.arctan(np.sqrt(num/den))\n",
      "/nobackup/users/sangeon/condas/anaconda3/envs/studies/lib/python3.8/site-packages/pylorentz/__init__.py:34: VisibleDeprecationWarning: Creating an ndarray from ragged nested sequences (which is a list-or-tuple of lists-or-tuples-or ndarrays with different lengths or shapes) is deprecated. If you meant to do this, you must specify 'dtype=object' when creating the ndarray.\n",
      "  self._values = np.array(list(x))\n",
      "/nobackup/users/sangeon/condas/anaconda3/envs/studies/lib/python3.8/site-packages/pylorentz/__init__.py:34: VisibleDeprecationWarning: Creating an ndarray from ragged nested sequences (which is a list-or-tuple of lists-or-tuples-or ndarrays with different lengths or shapes) is deprecated. If you meant to do this, you must specify 'dtype=object' when creating the ndarray.\n",
      "  self._values = np.array(list(x))\n",
      "/nobackup/users/sangeon/condas/anaconda3/envs/studies/lib/python3.8/site-packages/pylorentz/__init__.py:34: VisibleDeprecationWarning: Creating an ndarray from ragged nested sequences (which is a list-or-tuple of lists-or-tuples-or ndarrays with different lengths or shapes) is deprecated. If you meant to do this, you must specify 'dtype=object' when creating the ndarray.\n",
      "  self._values = np.array(list(x))\n",
      "/home/sangeon/ToyJetGenerator/data/../datagenerator_realistic.py:350: RuntimeWarning: invalid value encountered in sqrt\n",
      "  zmin=np.maximum(0.2/mother.mom.p,0.5*(1-np.sqrt(1-(m/p)**2)))\n",
      "/home/sangeon/ToyJetGenerator/data/../datagenerator_realistic.py:350: RuntimeWarning: invalid value encountered in sqrt\n",
      "  zmin=np.maximum(0.2/mother.mom.p,0.5*(1-np.sqrt(1-(m/p)**2)))\n",
      "/home/sangeon/ToyJetGenerator/data/../datagenerator_realistic.py:350: RuntimeWarning: invalid value encountered in sqrt\n",
      "  zmin=np.maximum(0.2/mother.mom.p,0.5*(1-np.sqrt(1-(m/p)**2)))\n",
      "/nobackup/users/sangeon/condas/anaconda3/envs/studies/lib/python3.8/site-packages/pylorentz/__init__.py:34: VisibleDeprecationWarning: Creating an ndarray from ragged nested sequences (which is a list-or-tuple of lists-or-tuples-or ndarrays with different lengths or shapes) is deprecated. If you meant to do this, you must specify 'dtype=object' when creating the ndarray.\n",
      "  self._values = np.array(list(x))\n",
      "/home/sangeon/ToyJetGenerator/data/../datagenerator_realistic.py:350: RuntimeWarning: invalid value encountered in sqrt\n",
      "  zmin=np.maximum(0.2/mother.mom.p,0.5*(1-np.sqrt(1-(m/p)**2)))\n",
      "  7%|▋         | 33/479 [1:58:01<26:53:23, 217.05s/it]"
     ]
    },
    {
     "name": "stdout",
     "output_type": "stream",
     "text": [
      "time:  223.48480463027954\n"
     ]
    },
    {
     "name": "stderr",
     "output_type": "stream",
     "text": [
      "/home/sangeon/ToyJetGenerator/data/../datagenerator_realistic.py:320: RuntimeWarning: invalid value encountered in sqrt\n",
      "  return np.arctan(np.sqrt(num/den))\n",
      "/nobackup/users/sangeon/condas/anaconda3/envs/studies/lib/python3.8/site-packages/pylorentz/__init__.py:34: VisibleDeprecationWarning: Creating an ndarray from ragged nested sequences (which is a list-or-tuple of lists-or-tuples-or ndarrays with different lengths or shapes) is deprecated. If you meant to do this, you must specify 'dtype=object' when creating the ndarray.\n",
      "  self._values = np.array(list(x))\n",
      "/nobackup/users/sangeon/condas/anaconda3/envs/studies/lib/python3.8/site-packages/pylorentz/__init__.py:34: VisibleDeprecationWarning: Creating an ndarray from ragged nested sequences (which is a list-or-tuple of lists-or-tuples-or ndarrays with different lengths or shapes) is deprecated. If you meant to do this, you must specify 'dtype=object' when creating the ndarray.\n",
      "  self._values = np.array(list(x))\n",
      "/home/sangeon/ToyJetGenerator/data/../datagenerator_realistic.py:320: RuntimeWarning: invalid value encountered in sqrt\n",
      "  return np.arctan(np.sqrt(num/den))\n",
      "/home/sangeon/ToyJetGenerator/data/../datagenerator_realistic.py:320: RuntimeWarning: invalid value encountered in sqrt\n",
      "  return np.arctan(np.sqrt(num/den))\n",
      "/nobackup/users/sangeon/condas/anaconda3/envs/studies/lib/python3.8/site-packages/pylorentz/__init__.py:34: VisibleDeprecationWarning: Creating an ndarray from ragged nested sequences (which is a list-or-tuple of lists-or-tuples-or ndarrays with different lengths or shapes) is deprecated. If you meant to do this, you must specify 'dtype=object' when creating the ndarray.\n",
      "  self._values = np.array(list(x))\n",
      "/nobackup/users/sangeon/condas/anaconda3/envs/studies/lib/python3.8/site-packages/pylorentz/__init__.py:34: VisibleDeprecationWarning: Creating an ndarray from ragged nested sequences (which is a list-or-tuple of lists-or-tuples-or ndarrays with different lengths or shapes) is deprecated. If you meant to do this, you must specify 'dtype=object' when creating the ndarray.\n",
      "  self._values = np.array(list(x))\n",
      "/home/sangeon/ToyJetGenerator/data/../datagenerator_realistic.py:320: RuntimeWarning: invalid value encountered in sqrt\n",
      "  return np.arctan(np.sqrt(num/den))\n",
      "/home/sangeon/ToyJetGenerator/data/../datagenerator_realistic.py:350: RuntimeWarning: invalid value encountered in sqrt\n",
      "  zmin=np.maximum(0.2/mother.mom.p,0.5*(1-np.sqrt(1-(m/p)**2)))\n",
      "/home/sangeon/ToyJetGenerator/data/../datagenerator_realistic.py:350: RuntimeWarning: invalid value encountered in sqrt\n",
      "  zmin=np.maximum(0.2/mother.mom.p,0.5*(1-np.sqrt(1-(m/p)**2)))\n",
      "/home/sangeon/ToyJetGenerator/data/../datagenerator_realistic.py:350: RuntimeWarning: invalid value encountered in sqrt\n",
      "  zmin=np.maximum(0.2/mother.mom.p,0.5*(1-np.sqrt(1-(m/p)**2)))\n",
      "/home/sangeon/ToyJetGenerator/data/../datagenerator_realistic.py:350: RuntimeWarning: invalid value encountered in sqrt\n",
      "  zmin=np.maximum(0.2/mother.mom.p,0.5*(1-np.sqrt(1-(m/p)**2)))\n",
      "  7%|▋         | 34/479 [2:01:33<26:38:04, 215.47s/it]"
     ]
    },
    {
     "name": "stdout",
     "output_type": "stream",
     "text": [
      "time:  211.78646540641785\n"
     ]
    },
    {
     "name": "stderr",
     "output_type": "stream",
     "text": [
      "/home/sangeon/ToyJetGenerator/data/../datagenerator_realistic.py:320: RuntimeWarning: invalid value encountered in sqrt\n",
      "  return np.arctan(np.sqrt(num/den))\n",
      "/nobackup/users/sangeon/condas/anaconda3/envs/studies/lib/python3.8/site-packages/pylorentz/__init__.py:34: VisibleDeprecationWarning: Creating an ndarray from ragged nested sequences (which is a list-or-tuple of lists-or-tuples-or ndarrays with different lengths or shapes) is deprecated. If you meant to do this, you must specify 'dtype=object' when creating the ndarray.\n",
      "  self._values = np.array(list(x))\n",
      "/home/sangeon/ToyJetGenerator/data/../datagenerator_realistic.py:320: RuntimeWarning: invalid value encountered in sqrt\n",
      "  return np.arctan(np.sqrt(num/den))\n",
      "/nobackup/users/sangeon/condas/anaconda3/envs/studies/lib/python3.8/site-packages/pylorentz/__init__.py:34: VisibleDeprecationWarning: Creating an ndarray from ragged nested sequences (which is a list-or-tuple of lists-or-tuples-or ndarrays with different lengths or shapes) is deprecated. If you meant to do this, you must specify 'dtype=object' when creating the ndarray.\n",
      "  self._values = np.array(list(x))\n",
      "/nobackup/users/sangeon/condas/anaconda3/envs/studies/lib/python3.8/site-packages/pylorentz/__init__.py:34: VisibleDeprecationWarning: Creating an ndarray from ragged nested sequences (which is a list-or-tuple of lists-or-tuples-or ndarrays with different lengths or shapes) is deprecated. If you meant to do this, you must specify 'dtype=object' when creating the ndarray.\n",
      "  self._values = np.array(list(x))\n",
      "/home/sangeon/ToyJetGenerator/data/../datagenerator_realistic.py:320: RuntimeWarning: invalid value encountered in sqrt\n",
      "  return np.arctan(np.sqrt(num/den))\n",
      "/home/sangeon/ToyJetGenerator/data/../datagenerator_realistic.py:320: RuntimeWarning: invalid value encountered in sqrt\n",
      "  return np.arctan(np.sqrt(num/den))\n",
      "/home/sangeon/ToyJetGenerator/data/../datagenerator_realistic.py:350: RuntimeWarning: invalid value encountered in sqrt\n",
      "  zmin=np.maximum(0.2/mother.mom.p,0.5*(1-np.sqrt(1-(m/p)**2)))\n",
      "/nobackup/users/sangeon/condas/anaconda3/envs/studies/lib/python3.8/site-packages/pylorentz/__init__.py:34: VisibleDeprecationWarning: Creating an ndarray from ragged nested sequences (which is a list-or-tuple of lists-or-tuples-or ndarrays with different lengths or shapes) is deprecated. If you meant to do this, you must specify 'dtype=object' when creating the ndarray.\n",
      "  self._values = np.array(list(x))\n",
      "/home/sangeon/ToyJetGenerator/data/../datagenerator_realistic.py:350: RuntimeWarning: invalid value encountered in sqrt\n",
      "  zmin=np.maximum(0.2/mother.mom.p,0.5*(1-np.sqrt(1-(m/p)**2)))\n",
      "/home/sangeon/ToyJetGenerator/data/../datagenerator_realistic.py:350: RuntimeWarning: invalid value encountered in sqrt\n",
      "  zmin=np.maximum(0.2/mother.mom.p,0.5*(1-np.sqrt(1-(m/p)**2)))\n",
      "/home/sangeon/ToyJetGenerator/data/../datagenerator_realistic.py:350: RuntimeWarning: invalid value encountered in sqrt\n",
      "  zmin=np.maximum(0.2/mother.mom.p,0.5*(1-np.sqrt(1-(m/p)**2)))\n",
      "  7%|▋         | 35/479 [2:05:18<26:55:25, 218.30s/it]"
     ]
    },
    {
     "name": "stdout",
     "output_type": "stream",
     "text": [
      "time:  224.90332508087158\n"
     ]
    },
    {
     "name": "stderr",
     "output_type": "stream",
     "text": [
      "/nobackup/users/sangeon/condas/anaconda3/envs/studies/lib/python3.8/site-packages/pylorentz/__init__.py:34: VisibleDeprecationWarning: Creating an ndarray from ragged nested sequences (which is a list-or-tuple of lists-or-tuples-or ndarrays with different lengths or shapes) is deprecated. If you meant to do this, you must specify 'dtype=object' when creating the ndarray.\n",
      "  self._values = np.array(list(x))\n",
      "/home/sangeon/ToyJetGenerator/data/../datagenerator_realistic.py:320: RuntimeWarning: invalid value encountered in sqrt\n",
      "  return np.arctan(np.sqrt(num/den))\n",
      "/home/sangeon/ToyJetGenerator/data/../datagenerator_realistic.py:320: RuntimeWarning: invalid value encountered in sqrt\n",
      "  return np.arctan(np.sqrt(num/den))\n",
      "/nobackup/users/sangeon/condas/anaconda3/envs/studies/lib/python3.8/site-packages/pylorentz/__init__.py:34: VisibleDeprecationWarning: Creating an ndarray from ragged nested sequences (which is a list-or-tuple of lists-or-tuples-or ndarrays with different lengths or shapes) is deprecated. If you meant to do this, you must specify 'dtype=object' when creating the ndarray.\n",
      "  self._values = np.array(list(x))\n",
      "/home/sangeon/ToyJetGenerator/data/../datagenerator_realistic.py:320: RuntimeWarning: invalid value encountered in sqrt\n",
      "  return np.arctan(np.sqrt(num/den))\n",
      "/nobackup/users/sangeon/condas/anaconda3/envs/studies/lib/python3.8/site-packages/pylorentz/__init__.py:34: VisibleDeprecationWarning: Creating an ndarray from ragged nested sequences (which is a list-or-tuple of lists-or-tuples-or ndarrays with different lengths or shapes) is deprecated. If you meant to do this, you must specify 'dtype=object' when creating the ndarray.\n",
      "  self._values = np.array(list(x))\n",
      "/home/sangeon/ToyJetGenerator/data/../datagenerator_realistic.py:320: RuntimeWarning: invalid value encountered in sqrt\n",
      "  return np.arctan(np.sqrt(num/den))\n",
      "/nobackup/users/sangeon/condas/anaconda3/envs/studies/lib/python3.8/site-packages/pylorentz/__init__.py:34: VisibleDeprecationWarning: Creating an ndarray from ragged nested sequences (which is a list-or-tuple of lists-or-tuples-or ndarrays with different lengths or shapes) is deprecated. If you meant to do this, you must specify 'dtype=object' when creating the ndarray.\n",
      "  self._values = np.array(list(x))\n",
      "/home/sangeon/ToyJetGenerator/data/../datagenerator_realistic.py:350: RuntimeWarning: invalid value encountered in sqrt\n",
      "  zmin=np.maximum(0.2/mother.mom.p,0.5*(1-np.sqrt(1-(m/p)**2)))\n",
      "/home/sangeon/ToyJetGenerator/data/../datagenerator_realistic.py:350: RuntimeWarning: invalid value encountered in sqrt\n",
      "  zmin=np.maximum(0.2/mother.mom.p,0.5*(1-np.sqrt(1-(m/p)**2)))\n",
      "/home/sangeon/ToyJetGenerator/data/../datagenerator_realistic.py:350: RuntimeWarning: invalid value encountered in sqrt\n",
      "  zmin=np.maximum(0.2/mother.mom.p,0.5*(1-np.sqrt(1-(m/p)**2)))\n",
      "/home/sangeon/ToyJetGenerator/data/../datagenerator_realistic.py:350: RuntimeWarning: invalid value encountered in sqrt\n",
      "  zmin=np.maximum(0.2/mother.mom.p,0.5*(1-np.sqrt(1-(m/p)**2)))\n",
      "  8%|▊         | 36/479 [2:08:58<26:55:14, 218.77s/it]"
     ]
    },
    {
     "name": "stdout",
     "output_type": "stream",
     "text": [
      "time:  219.86090922355652\n"
     ]
    },
    {
     "name": "stderr",
     "output_type": "stream",
     "text": [
      "/home/sangeon/ToyJetGenerator/data/../datagenerator_realistic.py:350: RuntimeWarning: invalid value encountered in sqrt\n",
      "  zmin=np.maximum(0.2/mother.mom.p,0.5*(1-np.sqrt(1-(m/p)**2)))\n",
      "/home/sangeon/ToyJetGenerator/data/../datagenerator_realistic.py:320: RuntimeWarning: invalid value encountered in sqrt\n",
      "  return np.arctan(np.sqrt(num/den))\n",
      "/nobackup/users/sangeon/condas/anaconda3/envs/studies/lib/python3.8/site-packages/pylorentz/__init__.py:34: VisibleDeprecationWarning: Creating an ndarray from ragged nested sequences (which is a list-or-tuple of lists-or-tuples-or ndarrays with different lengths or shapes) is deprecated. If you meant to do this, you must specify 'dtype=object' when creating the ndarray.\n",
      "  self._values = np.array(list(x))\n",
      "/home/sangeon/ToyJetGenerator/data/../datagenerator_realistic.py:320: RuntimeWarning: invalid value encountered in sqrt\n",
      "  return np.arctan(np.sqrt(num/den))\n",
      "/home/sangeon/ToyJetGenerator/data/../datagenerator_realistic.py:320: RuntimeWarning: invalid value encountered in sqrt\n",
      "  return np.arctan(np.sqrt(num/den))\n",
      "/nobackup/users/sangeon/condas/anaconda3/envs/studies/lib/python3.8/site-packages/pylorentz/__init__.py:34: VisibleDeprecationWarning: Creating an ndarray from ragged nested sequences (which is a list-or-tuple of lists-or-tuples-or ndarrays with different lengths or shapes) is deprecated. If you meant to do this, you must specify 'dtype=object' when creating the ndarray.\n",
      "  self._values = np.array(list(x))\n",
      "/nobackup/users/sangeon/condas/anaconda3/envs/studies/lib/python3.8/site-packages/pylorentz/__init__.py:34: VisibleDeprecationWarning: Creating an ndarray from ragged nested sequences (which is a list-or-tuple of lists-or-tuples-or ndarrays with different lengths or shapes) is deprecated. If you meant to do this, you must specify 'dtype=object' when creating the ndarray.\n",
      "  self._values = np.array(list(x))\n",
      "/nobackup/users/sangeon/condas/anaconda3/envs/studies/lib/python3.8/site-packages/pylorentz/__init__.py:34: VisibleDeprecationWarning: Creating an ndarray from ragged nested sequences (which is a list-or-tuple of lists-or-tuples-or ndarrays with different lengths or shapes) is deprecated. If you meant to do this, you must specify 'dtype=object' when creating the ndarray.\n",
      "  self._values = np.array(list(x))\n",
      "/home/sangeon/ToyJetGenerator/data/../datagenerator_realistic.py:320: RuntimeWarning: invalid value encountered in sqrt\n",
      "  return np.arctan(np.sqrt(num/den))\n",
      "/home/sangeon/ToyJetGenerator/data/../datagenerator_realistic.py:350: RuntimeWarning: invalid value encountered in sqrt\n",
      "  zmin=np.maximum(0.2/mother.mom.p,0.5*(1-np.sqrt(1-(m/p)**2)))\n",
      "/home/sangeon/ToyJetGenerator/data/../datagenerator_realistic.py:350: RuntimeWarning: invalid value encountered in sqrt\n",
      "  zmin=np.maximum(0.2/mother.mom.p,0.5*(1-np.sqrt(1-(m/p)**2)))\n",
      "/home/sangeon/ToyJetGenerator/data/../datagenerator_realistic.py:350: RuntimeWarning: invalid value encountered in sqrt\n",
      "  zmin=np.maximum(0.2/mother.mom.p,0.5*(1-np.sqrt(1-(m/p)**2)))\n",
      "  8%|▊         | 37/479 [2:12:34<26:46:39, 218.10s/it]"
     ]
    },
    {
     "name": "stdout",
     "output_type": "stream",
     "text": [
      "time:  216.5302815437317\n"
     ]
    },
    {
     "name": "stderr",
     "output_type": "stream",
     "text": [
      "/home/sangeon/ToyJetGenerator/data/../datagenerator_realistic.py:320: RuntimeWarning: invalid value encountered in sqrt\n",
      "  return np.arctan(np.sqrt(num/den))\n",
      "/home/sangeon/ToyJetGenerator/data/../datagenerator_realistic.py:320: RuntimeWarning: invalid value encountered in sqrt\n",
      "  return np.arctan(np.sqrt(num/den))\n",
      "/nobackup/users/sangeon/condas/anaconda3/envs/studies/lib/python3.8/site-packages/pylorentz/__init__.py:34: VisibleDeprecationWarning: Creating an ndarray from ragged nested sequences (which is a list-or-tuple of lists-or-tuples-or ndarrays with different lengths or shapes) is deprecated. If you meant to do this, you must specify 'dtype=object' when creating the ndarray.\n",
      "  self._values = np.array(list(x))\n",
      "/nobackup/users/sangeon/condas/anaconda3/envs/studies/lib/python3.8/site-packages/pylorentz/__init__.py:34: VisibleDeprecationWarning: Creating an ndarray from ragged nested sequences (which is a list-or-tuple of lists-or-tuples-or ndarrays with different lengths or shapes) is deprecated. If you meant to do this, you must specify 'dtype=object' when creating the ndarray.\n",
      "  self._values = np.array(list(x))\n",
      "/nobackup/users/sangeon/condas/anaconda3/envs/studies/lib/python3.8/site-packages/pylorentz/__init__.py:34: VisibleDeprecationWarning: Creating an ndarray from ragged nested sequences (which is a list-or-tuple of lists-or-tuples-or ndarrays with different lengths or shapes) is deprecated. If you meant to do this, you must specify 'dtype=object' when creating the ndarray.\n",
      "  self._values = np.array(list(x))\n",
      "/nobackup/users/sangeon/condas/anaconda3/envs/studies/lib/python3.8/site-packages/pylorentz/__init__.py:34: VisibleDeprecationWarning: Creating an ndarray from ragged nested sequences (which is a list-or-tuple of lists-or-tuples-or ndarrays with different lengths or shapes) is deprecated. If you meant to do this, you must specify 'dtype=object' when creating the ndarray.\n",
      "  self._values = np.array(list(x))\n",
      "/home/sangeon/ToyJetGenerator/data/../datagenerator_realistic.py:350: RuntimeWarning: invalid value encountered in sqrt\n",
      "  zmin=np.maximum(0.2/mother.mom.p,0.5*(1-np.sqrt(1-(m/p)**2)))\n",
      "/home/sangeon/ToyJetGenerator/data/../datagenerator_realistic.py:350: RuntimeWarning: invalid value encountered in sqrt\n",
      "  zmin=np.maximum(0.2/mother.mom.p,0.5*(1-np.sqrt(1-(m/p)**2)))\n",
      "/home/sangeon/ToyJetGenerator/data/../datagenerator_realistic.py:320: RuntimeWarning: invalid value encountered in sqrt\n",
      "  return np.arctan(np.sqrt(num/den))\n",
      "/home/sangeon/ToyJetGenerator/data/../datagenerator_realistic.py:320: RuntimeWarning: invalid value encountered in sqrt\n",
      "  return np.arctan(np.sqrt(num/den))\n",
      "/home/sangeon/ToyJetGenerator/data/../datagenerator_realistic.py:350: RuntimeWarning: invalid value encountered in sqrt\n",
      "  zmin=np.maximum(0.2/mother.mom.p,0.5*(1-np.sqrt(1-(m/p)**2)))\n",
      "/home/sangeon/ToyJetGenerator/data/../datagenerator_realistic.py:350: RuntimeWarning: invalid value encountered in sqrt\n",
      "  zmin=np.maximum(0.2/mother.mom.p,0.5*(1-np.sqrt(1-(m/p)**2)))\n",
      "  8%|▊         | 38/479 [2:16:05<26:26:13, 215.81s/it]"
     ]
    },
    {
     "name": "stdout",
     "output_type": "stream",
     "text": [
      "time:  210.47736382484436\n"
     ]
    },
    {
     "name": "stderr",
     "output_type": "stream",
     "text": [
      "/home/sangeon/ToyJetGenerator/data/../datagenerator_realistic.py:350: RuntimeWarning: invalid value encountered in sqrt\n",
      "  zmin=np.maximum(0.2/mother.mom.p,0.5*(1-np.sqrt(1-(m/p)**2)))\n",
      "/home/sangeon/ToyJetGenerator/data/../datagenerator_realistic.py:320: RuntimeWarning: invalid value encountered in sqrt\n",
      "  return np.arctan(np.sqrt(num/den))\n",
      "/home/sangeon/ToyJetGenerator/data/../datagenerator_realistic.py:320: RuntimeWarning: invalid value encountered in sqrt\n",
      "  return np.arctan(np.sqrt(num/den))\n",
      "/home/sangeon/ToyJetGenerator/data/../datagenerator_realistic.py:320: RuntimeWarning: invalid value encountered in sqrt\n",
      "  return np.arctan(np.sqrt(num/den))\n",
      "/nobackup/users/sangeon/condas/anaconda3/envs/studies/lib/python3.8/site-packages/pylorentz/__init__.py:34: VisibleDeprecationWarning: Creating an ndarray from ragged nested sequences (which is a list-or-tuple of lists-or-tuples-or ndarrays with different lengths or shapes) is deprecated. If you meant to do this, you must specify 'dtype=object' when creating the ndarray.\n",
      "  self._values = np.array(list(x))\n",
      "/nobackup/users/sangeon/condas/anaconda3/envs/studies/lib/python3.8/site-packages/pylorentz/__init__.py:34: VisibleDeprecationWarning: Creating an ndarray from ragged nested sequences (which is a list-or-tuple of lists-or-tuples-or ndarrays with different lengths or shapes) is deprecated. If you meant to do this, you must specify 'dtype=object' when creating the ndarray.\n",
      "  self._values = np.array(list(x))\n",
      "/nobackup/users/sangeon/condas/anaconda3/envs/studies/lib/python3.8/site-packages/pylorentz/__init__.py:34: VisibleDeprecationWarning: Creating an ndarray from ragged nested sequences (which is a list-or-tuple of lists-or-tuples-or ndarrays with different lengths or shapes) is deprecated. If you meant to do this, you must specify 'dtype=object' when creating the ndarray.\n",
      "  self._values = np.array(list(x))\n",
      "/home/sangeon/ToyJetGenerator/data/../datagenerator_realistic.py:350: RuntimeWarning: invalid value encountered in sqrt\n",
      "  zmin=np.maximum(0.2/mother.mom.p,0.5*(1-np.sqrt(1-(m/p)**2)))\n",
      "/home/sangeon/ToyJetGenerator/data/../datagenerator_realistic.py:320: RuntimeWarning: invalid value encountered in sqrt\n",
      "  return np.arctan(np.sqrt(num/den))\n",
      "/nobackup/users/sangeon/condas/anaconda3/envs/studies/lib/python3.8/site-packages/pylorentz/__init__.py:34: VisibleDeprecationWarning: Creating an ndarray from ragged nested sequences (which is a list-or-tuple of lists-or-tuples-or ndarrays with different lengths or shapes) is deprecated. If you meant to do this, you must specify 'dtype=object' when creating the ndarray.\n",
      "  self._values = np.array(list(x))\n",
      "/home/sangeon/ToyJetGenerator/data/../datagenerator_realistic.py:350: RuntimeWarning: invalid value encountered in sqrt\n",
      "  zmin=np.maximum(0.2/mother.mom.p,0.5*(1-np.sqrt(1-(m/p)**2)))\n",
      "/home/sangeon/ToyJetGenerator/data/../datagenerator_realistic.py:350: RuntimeWarning: invalid value encountered in sqrt\n",
      "  zmin=np.maximum(0.2/mother.mom.p,0.5*(1-np.sqrt(1-(m/p)**2)))\n",
      "  8%|▊         | 39/479 [2:19:50<26:43:51, 218.71s/it]"
     ]
    },
    {
     "name": "stdout",
     "output_type": "stream",
     "text": [
      "time:  225.46454000473022\n"
     ]
    },
    {
     "name": "stderr",
     "output_type": "stream",
     "text": [
      "/home/sangeon/ToyJetGenerator/data/../datagenerator_realistic.py:320: RuntimeWarning: invalid value encountered in sqrt\n",
      "  return np.arctan(np.sqrt(num/den))\n",
      "/home/sangeon/ToyJetGenerator/data/../datagenerator_realistic.py:350: RuntimeWarning: invalid value encountered in sqrt\n",
      "  zmin=np.maximum(0.2/mother.mom.p,0.5*(1-np.sqrt(1-(m/p)**2)))\n",
      "/home/sangeon/ToyJetGenerator/data/../datagenerator_realistic.py:320: RuntimeWarning: invalid value encountered in sqrt\n",
      "  return np.arctan(np.sqrt(num/den))\n",
      "/home/sangeon/ToyJetGenerator/data/../datagenerator_realistic.py:320: RuntimeWarning: invalid value encountered in sqrt\n",
      "  return np.arctan(np.sqrt(num/den))\n",
      "/nobackup/users/sangeon/condas/anaconda3/envs/studies/lib/python3.8/site-packages/pylorentz/__init__.py:34: VisibleDeprecationWarning: Creating an ndarray from ragged nested sequences (which is a list-or-tuple of lists-or-tuples-or ndarrays with different lengths or shapes) is deprecated. If you meant to do this, you must specify 'dtype=object' when creating the ndarray.\n",
      "  self._values = np.array(list(x))\n",
      "/home/sangeon/ToyJetGenerator/data/../datagenerator_realistic.py:350: RuntimeWarning: invalid value encountered in sqrt\n",
      "  zmin=np.maximum(0.2/mother.mom.p,0.5*(1-np.sqrt(1-(m/p)**2)))\n",
      "/home/sangeon/ToyJetGenerator/data/../datagenerator_realistic.py:320: RuntimeWarning: invalid value encountered in sqrt\n",
      "  return np.arctan(np.sqrt(num/den))\n",
      "/nobackup/users/sangeon/condas/anaconda3/envs/studies/lib/python3.8/site-packages/pylorentz/__init__.py:34: VisibleDeprecationWarning: Creating an ndarray from ragged nested sequences (which is a list-or-tuple of lists-or-tuples-or ndarrays with different lengths or shapes) is deprecated. If you meant to do this, you must specify 'dtype=object' when creating the ndarray.\n",
      "  self._values = np.array(list(x))\n",
      "/nobackup/users/sangeon/condas/anaconda3/envs/studies/lib/python3.8/site-packages/pylorentz/__init__.py:34: VisibleDeprecationWarning: Creating an ndarray from ragged nested sequences (which is a list-or-tuple of lists-or-tuples-or ndarrays with different lengths or shapes) is deprecated. If you meant to do this, you must specify 'dtype=object' when creating the ndarray.\n",
      "  self._values = np.array(list(x))\n",
      "/nobackup/users/sangeon/condas/anaconda3/envs/studies/lib/python3.8/site-packages/pylorentz/__init__.py:34: VisibleDeprecationWarning: Creating an ndarray from ragged nested sequences (which is a list-or-tuple of lists-or-tuples-or ndarrays with different lengths or shapes) is deprecated. If you meant to do this, you must specify 'dtype=object' when creating the ndarray.\n",
      "  self._values = np.array(list(x))\n",
      "/home/sangeon/ToyJetGenerator/data/../datagenerator_realistic.py:350: RuntimeWarning: invalid value encountered in sqrt\n",
      "  zmin=np.maximum(0.2/mother.mom.p,0.5*(1-np.sqrt(1-(m/p)**2)))\n",
      "/home/sangeon/ToyJetGenerator/data/../datagenerator_realistic.py:350: RuntimeWarning: invalid value encountered in sqrt\n",
      "  zmin=np.maximum(0.2/mother.mom.p,0.5*(1-np.sqrt(1-(m/p)**2)))\n",
      "  8%|▊         | 40/479 [2:23:30<26:43:53, 219.21s/it]"
     ]
    },
    {
     "name": "stdout",
     "output_type": "stream",
     "text": [
      "time:  220.3818073272705\n"
     ]
    },
    {
     "name": "stderr",
     "output_type": "stream",
     "text": [
      "/home/sangeon/ToyJetGenerator/data/../datagenerator_realistic.py:350: RuntimeWarning: invalid value encountered in sqrt\n",
      "  zmin=np.maximum(0.2/mother.mom.p,0.5*(1-np.sqrt(1-(m/p)**2)))\n",
      "/nobackup/users/sangeon/condas/anaconda3/envs/studies/lib/python3.8/site-packages/pylorentz/__init__.py:34: VisibleDeprecationWarning: Creating an ndarray from ragged nested sequences (which is a list-or-tuple of lists-or-tuples-or ndarrays with different lengths or shapes) is deprecated. If you meant to do this, you must specify 'dtype=object' when creating the ndarray.\n",
      "  self._values = np.array(list(x))\n",
      "/home/sangeon/ToyJetGenerator/data/../datagenerator_realistic.py:350: RuntimeWarning: invalid value encountered in sqrt\n",
      "  zmin=np.maximum(0.2/mother.mom.p,0.5*(1-np.sqrt(1-(m/p)**2)))\n",
      "/nobackup/users/sangeon/condas/anaconda3/envs/studies/lib/python3.8/site-packages/pylorentz/__init__.py:34: VisibleDeprecationWarning: Creating an ndarray from ragged nested sequences (which is a list-or-tuple of lists-or-tuples-or ndarrays with different lengths or shapes) is deprecated. If you meant to do this, you must specify 'dtype=object' when creating the ndarray.\n",
      "  self._values = np.array(list(x))\n",
      "/home/sangeon/ToyJetGenerator/data/../datagenerator_realistic.py:320: RuntimeWarning: invalid value encountered in sqrt\n",
      "  return np.arctan(np.sqrt(num/den))\n",
      "/home/sangeon/ToyJetGenerator/data/../datagenerator_realistic.py:350: RuntimeWarning: invalid value encountered in sqrt\n",
      "  zmin=np.maximum(0.2/mother.mom.p,0.5*(1-np.sqrt(1-(m/p)**2)))\n",
      "/home/sangeon/ToyJetGenerator/data/../datagenerator_realistic.py:320: RuntimeWarning: invalid value encountered in sqrt\n",
      "  return np.arctan(np.sqrt(num/den))\n",
      "/home/sangeon/ToyJetGenerator/data/../datagenerator_realistic.py:350: RuntimeWarning: invalid value encountered in sqrt\n",
      "  zmin=np.maximum(0.2/mother.mom.p,0.5*(1-np.sqrt(1-(m/p)**2)))\n",
      "/home/sangeon/ToyJetGenerator/data/../datagenerator_realistic.py:320: RuntimeWarning: invalid value encountered in sqrt\n",
      "  return np.arctan(np.sqrt(num/den))\n",
      "/nobackup/users/sangeon/condas/anaconda3/envs/studies/lib/python3.8/site-packages/pylorentz/__init__.py:34: VisibleDeprecationWarning: Creating an ndarray from ragged nested sequences (which is a list-or-tuple of lists-or-tuples-or ndarrays with different lengths or shapes) is deprecated. If you meant to do this, you must specify 'dtype=object' when creating the ndarray.\n",
      "  self._values = np.array(list(x))\n",
      "/home/sangeon/ToyJetGenerator/data/../datagenerator_realistic.py:320: RuntimeWarning: invalid value encountered in sqrt\n",
      "  return np.arctan(np.sqrt(num/den))\n",
      "/nobackup/users/sangeon/condas/anaconda3/envs/studies/lib/python3.8/site-packages/pylorentz/__init__.py:34: VisibleDeprecationWarning: Creating an ndarray from ragged nested sequences (which is a list-or-tuple of lists-or-tuples-or ndarrays with different lengths or shapes) is deprecated. If you meant to do this, you must specify 'dtype=object' when creating the ndarray.\n",
      "  self._values = np.array(list(x))\n",
      "  9%|▊         | 41/479 [2:27:10<26:41:50, 219.43s/it]"
     ]
    },
    {
     "name": "stdout",
     "output_type": "stream",
     "text": [
      "time:  219.93890166282654\n"
     ]
    },
    {
     "name": "stderr",
     "output_type": "stream",
     "text": [
      "/home/sangeon/ToyJetGenerator/data/../datagenerator_realistic.py:320: RuntimeWarning: invalid value encountered in sqrt\n",
      "  return np.arctan(np.sqrt(num/den))\n",
      "/home/sangeon/ToyJetGenerator/data/../datagenerator_realistic.py:350: RuntimeWarning: invalid value encountered in sqrt\n",
      "  zmin=np.maximum(0.2/mother.mom.p,0.5*(1-np.sqrt(1-(m/p)**2)))\n",
      "/nobackup/users/sangeon/condas/anaconda3/envs/studies/lib/python3.8/site-packages/pylorentz/__init__.py:34: VisibleDeprecationWarning: Creating an ndarray from ragged nested sequences (which is a list-or-tuple of lists-or-tuples-or ndarrays with different lengths or shapes) is deprecated. If you meant to do this, you must specify 'dtype=object' when creating the ndarray.\n",
      "  self._values = np.array(list(x))\n",
      "/home/sangeon/ToyJetGenerator/data/../datagenerator_realistic.py:320: RuntimeWarning: invalid value encountered in sqrt\n",
      "  return np.arctan(np.sqrt(num/den))\n",
      "/home/sangeon/ToyJetGenerator/data/../datagenerator_realistic.py:320: RuntimeWarning: invalid value encountered in sqrt\n",
      "  return np.arctan(np.sqrt(num/den))\n",
      "/home/sangeon/ToyJetGenerator/data/../datagenerator_realistic.py:320: RuntimeWarning: invalid value encountered in sqrt\n",
      "  return np.arctan(np.sqrt(num/den))\n",
      "/nobackup/users/sangeon/condas/anaconda3/envs/studies/lib/python3.8/site-packages/pylorentz/__init__.py:34: VisibleDeprecationWarning: Creating an ndarray from ragged nested sequences (which is a list-or-tuple of lists-or-tuples-or ndarrays with different lengths or shapes) is deprecated. If you meant to do this, you must specify 'dtype=object' when creating the ndarray.\n",
      "  self._values = np.array(list(x))\n",
      "/home/sangeon/ToyJetGenerator/data/../datagenerator_realistic.py:350: RuntimeWarning: invalid value encountered in sqrt\n",
      "  zmin=np.maximum(0.2/mother.mom.p,0.5*(1-np.sqrt(1-(m/p)**2)))\n",
      "/nobackup/users/sangeon/condas/anaconda3/envs/studies/lib/python3.8/site-packages/pylorentz/__init__.py:34: VisibleDeprecationWarning: Creating an ndarray from ragged nested sequences (which is a list-or-tuple of lists-or-tuples-or ndarrays with different lengths or shapes) is deprecated. If you meant to do this, you must specify 'dtype=object' when creating the ndarray.\n",
      "  self._values = np.array(list(x))\n",
      "/home/sangeon/ToyJetGenerator/data/../datagenerator_realistic.py:350: RuntimeWarning: invalid value encountered in sqrt\n",
      "  zmin=np.maximum(0.2/mother.mom.p,0.5*(1-np.sqrt(1-(m/p)**2)))\n",
      "/nobackup/users/sangeon/condas/anaconda3/envs/studies/lib/python3.8/site-packages/pylorentz/__init__.py:34: VisibleDeprecationWarning: Creating an ndarray from ragged nested sequences (which is a list-or-tuple of lists-or-tuples-or ndarrays with different lengths or shapes) is deprecated. If you meant to do this, you must specify 'dtype=object' when creating the ndarray.\n",
      "  self._values = np.array(list(x))\n",
      "/home/sangeon/ToyJetGenerator/data/../datagenerator_realistic.py:350: RuntimeWarning: invalid value encountered in sqrt\n",
      "  zmin=np.maximum(0.2/mother.mom.p,0.5*(1-np.sqrt(1-(m/p)**2)))\n",
      "  9%|▉         | 42/479 [2:30:48<26:33:20, 218.77s/it]"
     ]
    },
    {
     "name": "stdout",
     "output_type": "stream",
     "text": [
      "time:  217.21646189689636\n"
     ]
    },
    {
     "name": "stderr",
     "output_type": "stream",
     "text": [
      "/home/sangeon/ToyJetGenerator/data/../datagenerator_realistic.py:320: RuntimeWarning: invalid value encountered in sqrt\n",
      "  return np.arctan(np.sqrt(num/den))\n",
      "/nobackup/users/sangeon/condas/anaconda3/envs/studies/lib/python3.8/site-packages/pylorentz/__init__.py:34: VisibleDeprecationWarning: Creating an ndarray from ragged nested sequences (which is a list-or-tuple of lists-or-tuples-or ndarrays with different lengths or shapes) is deprecated. If you meant to do this, you must specify 'dtype=object' when creating the ndarray.\n",
      "  self._values = np.array(list(x))\n",
      "/home/sangeon/ToyJetGenerator/data/../datagenerator_realistic.py:320: RuntimeWarning: invalid value encountered in sqrt\n",
      "  return np.arctan(np.sqrt(num/den))\n",
      "/home/sangeon/ToyJetGenerator/data/../datagenerator_realistic.py:320: RuntimeWarning: invalid value encountered in sqrt\n",
      "  return np.arctan(np.sqrt(num/den))\n",
      "/nobackup/users/sangeon/condas/anaconda3/envs/studies/lib/python3.8/site-packages/pylorentz/__init__.py:34: VisibleDeprecationWarning: Creating an ndarray from ragged nested sequences (which is a list-or-tuple of lists-or-tuples-or ndarrays with different lengths or shapes) is deprecated. If you meant to do this, you must specify 'dtype=object' when creating the ndarray.\n",
      "  self._values = np.array(list(x))\n",
      "/home/sangeon/ToyJetGenerator/data/../datagenerator_realistic.py:320: RuntimeWarning: invalid value encountered in sqrt\n",
      "  return np.arctan(np.sqrt(num/den))\n",
      "/nobackup/users/sangeon/condas/anaconda3/envs/studies/lib/python3.8/site-packages/pylorentz/__init__.py:34: VisibleDeprecationWarning: Creating an ndarray from ragged nested sequences (which is a list-or-tuple of lists-or-tuples-or ndarrays with different lengths or shapes) is deprecated. If you meant to do this, you must specify 'dtype=object' when creating the ndarray.\n",
      "  self._values = np.array(list(x))\n",
      "/home/sangeon/ToyJetGenerator/data/../datagenerator_realistic.py:350: RuntimeWarning: invalid value encountered in sqrt\n",
      "  zmin=np.maximum(0.2/mother.mom.p,0.5*(1-np.sqrt(1-(m/p)**2)))\n",
      "/home/sangeon/ToyJetGenerator/data/../datagenerator_realistic.py:350: RuntimeWarning: invalid value encountered in sqrt\n",
      "  zmin=np.maximum(0.2/mother.mom.p,0.5*(1-np.sqrt(1-(m/p)**2)))\n",
      "/home/sangeon/ToyJetGenerator/data/../datagenerator_realistic.py:350: RuntimeWarning: invalid value encountered in sqrt\n",
      "  zmin=np.maximum(0.2/mother.mom.p,0.5*(1-np.sqrt(1-(m/p)**2)))\n",
      "/nobackup/users/sangeon/condas/anaconda3/envs/studies/lib/python3.8/site-packages/pylorentz/__init__.py:34: VisibleDeprecationWarning: Creating an ndarray from ragged nested sequences (which is a list-or-tuple of lists-or-tuples-or ndarrays with different lengths or shapes) is deprecated. If you meant to do this, you must specify 'dtype=object' when creating the ndarray.\n",
      "  self._values = np.array(list(x))\n",
      "/home/sangeon/ToyJetGenerator/data/../datagenerator_realistic.py:350: RuntimeWarning: invalid value encountered in sqrt\n",
      "  zmin=np.maximum(0.2/mother.mom.p,0.5*(1-np.sqrt(1-(m/p)**2)))\n",
      "  9%|▉         | 43/479 [2:34:24<26:23:43, 217.94s/it]"
     ]
    },
    {
     "name": "stdout",
     "output_type": "stream",
     "text": [
      "time:  216.02710890769958\n"
     ]
    },
    {
     "name": "stderr",
     "output_type": "stream",
     "text": [
      "/home/sangeon/ToyJetGenerator/data/../datagenerator_realistic.py:320: RuntimeWarning: invalid value encountered in sqrt\n",
      "  return np.arctan(np.sqrt(num/den))\n",
      "/home/sangeon/ToyJetGenerator/data/../datagenerator_realistic.py:320: RuntimeWarning: invalid value encountered in sqrt\n",
      "  return np.arctan(np.sqrt(num/den))\n",
      "/home/sangeon/ToyJetGenerator/data/../datagenerator_realistic.py:320: RuntimeWarning: invalid value encountered in sqrt\n",
      "  return np.arctan(np.sqrt(num/den))\n",
      "/nobackup/users/sangeon/condas/anaconda3/envs/studies/lib/python3.8/site-packages/pylorentz/__init__.py:34: VisibleDeprecationWarning: Creating an ndarray from ragged nested sequences (which is a list-or-tuple of lists-or-tuples-or ndarrays with different lengths or shapes) is deprecated. If you meant to do this, you must specify 'dtype=object' when creating the ndarray.\n",
      "  self._values = np.array(list(x))\n",
      "/nobackup/users/sangeon/condas/anaconda3/envs/studies/lib/python3.8/site-packages/pylorentz/__init__.py:34: VisibleDeprecationWarning: Creating an ndarray from ragged nested sequences (which is a list-or-tuple of lists-or-tuples-or ndarrays with different lengths or shapes) is deprecated. If you meant to do this, you must specify 'dtype=object' when creating the ndarray.\n",
      "  self._values = np.array(list(x))\n",
      "/home/sangeon/ToyJetGenerator/data/../datagenerator_realistic.py:320: RuntimeWarning: invalid value encountered in sqrt\n",
      "  return np.arctan(np.sqrt(num/den))\n",
      "/nobackup/users/sangeon/condas/anaconda3/envs/studies/lib/python3.8/site-packages/pylorentz/__init__.py:34: VisibleDeprecationWarning: Creating an ndarray from ragged nested sequences (which is a list-or-tuple of lists-or-tuples-or ndarrays with different lengths or shapes) is deprecated. If you meant to do this, you must specify 'dtype=object' when creating the ndarray.\n",
      "  self._values = np.array(list(x))\n",
      "/nobackup/users/sangeon/condas/anaconda3/envs/studies/lib/python3.8/site-packages/pylorentz/__init__.py:34: VisibleDeprecationWarning: Creating an ndarray from ragged nested sequences (which is a list-or-tuple of lists-or-tuples-or ndarrays with different lengths or shapes) is deprecated. If you meant to do this, you must specify 'dtype=object' when creating the ndarray.\n",
      "  self._values = np.array(list(x))\n",
      "/home/sangeon/ToyJetGenerator/data/../datagenerator_realistic.py:350: RuntimeWarning: invalid value encountered in sqrt\n",
      "  zmin=np.maximum(0.2/mother.mom.p,0.5*(1-np.sqrt(1-(m/p)**2)))\n",
      "/home/sangeon/ToyJetGenerator/data/../datagenerator_realistic.py:350: RuntimeWarning: invalid value encountered in sqrt\n",
      "  zmin=np.maximum(0.2/mother.mom.p,0.5*(1-np.sqrt(1-(m/p)**2)))\n",
      "/home/sangeon/ToyJetGenerator/data/../datagenerator_realistic.py:350: RuntimeWarning: invalid value encountered in sqrt\n",
      "  zmin=np.maximum(0.2/mother.mom.p,0.5*(1-np.sqrt(1-(m/p)**2)))\n",
      "/home/sangeon/ToyJetGenerator/data/../datagenerator_realistic.py:350: RuntimeWarning: invalid value encountered in sqrt\n",
      "  zmin=np.maximum(0.2/mother.mom.p,0.5*(1-np.sqrt(1-(m/p)**2)))\n",
      "  9%|▉         | 44/479 [2:37:56<26:07:27, 216.20s/it]"
     ]
    },
    {
     "name": "stdout",
     "output_type": "stream",
     "text": [
      "time:  212.13037586212158\n"
     ]
    },
    {
     "name": "stderr",
     "output_type": "stream",
     "text": [
      "/home/sangeon/ToyJetGenerator/data/../datagenerator_realistic.py:320: RuntimeWarning: invalid value encountered in sqrt\n",
      "  return np.arctan(np.sqrt(num/den))\n",
      "/nobackup/users/sangeon/condas/anaconda3/envs/studies/lib/python3.8/site-packages/pylorentz/__init__.py:34: VisibleDeprecationWarning: Creating an ndarray from ragged nested sequences (which is a list-or-tuple of lists-or-tuples-or ndarrays with different lengths or shapes) is deprecated. If you meant to do this, you must specify 'dtype=object' when creating the ndarray.\n",
      "  self._values = np.array(list(x))\n",
      "/nobackup/users/sangeon/condas/anaconda3/envs/studies/lib/python3.8/site-packages/pylorentz/__init__.py:34: VisibleDeprecationWarning: Creating an ndarray from ragged nested sequences (which is a list-or-tuple of lists-or-tuples-or ndarrays with different lengths or shapes) is deprecated. If you meant to do this, you must specify 'dtype=object' when creating the ndarray.\n",
      "  self._values = np.array(list(x))\n",
      "/home/sangeon/ToyJetGenerator/data/../datagenerator_realistic.py:350: RuntimeWarning: invalid value encountered in sqrt\n",
      "  zmin=np.maximum(0.2/mother.mom.p,0.5*(1-np.sqrt(1-(m/p)**2)))\n",
      "/nobackup/users/sangeon/condas/anaconda3/envs/studies/lib/python3.8/site-packages/pylorentz/__init__.py:34: VisibleDeprecationWarning: Creating an ndarray from ragged nested sequences (which is a list-or-tuple of lists-or-tuples-or ndarrays with different lengths or shapes) is deprecated. If you meant to do this, you must specify 'dtype=object' when creating the ndarray.\n",
      "  self._values = np.array(list(x))\n",
      "/home/sangeon/ToyJetGenerator/data/../datagenerator_realistic.py:320: RuntimeWarning: invalid value encountered in sqrt\n",
      "  return np.arctan(np.sqrt(num/den))\n",
      "/home/sangeon/ToyJetGenerator/data/../datagenerator_realistic.py:320: RuntimeWarning: invalid value encountered in sqrt\n",
      "  return np.arctan(np.sqrt(num/den))\n",
      "/nobackup/users/sangeon/condas/anaconda3/envs/studies/lib/python3.8/site-packages/pylorentz/__init__.py:34: VisibleDeprecationWarning: Creating an ndarray from ragged nested sequences (which is a list-or-tuple of lists-or-tuples-or ndarrays with different lengths or shapes) is deprecated. If you meant to do this, you must specify 'dtype=object' when creating the ndarray.\n",
      "  self._values = np.array(list(x))\n",
      "/home/sangeon/ToyJetGenerator/data/../datagenerator_realistic.py:320: RuntimeWarning: invalid value encountered in sqrt\n",
      "  return np.arctan(np.sqrt(num/den))\n",
      "/home/sangeon/ToyJetGenerator/data/../datagenerator_realistic.py:350: RuntimeWarning: invalid value encountered in sqrt\n",
      "  zmin=np.maximum(0.2/mother.mom.p,0.5*(1-np.sqrt(1-(m/p)**2)))\n",
      "/home/sangeon/ToyJetGenerator/data/../datagenerator_realistic.py:350: RuntimeWarning: invalid value encountered in sqrt\n",
      "  zmin=np.maximum(0.2/mother.mom.p,0.5*(1-np.sqrt(1-(m/p)**2)))\n",
      "/home/sangeon/ToyJetGenerator/data/../datagenerator_realistic.py:350: RuntimeWarning: invalid value encountered in sqrt\n",
      "  zmin=np.maximum(0.2/mother.mom.p,0.5*(1-np.sqrt(1-(m/p)**2)))\n",
      "  9%|▉         | 45/479 [2:41:30<25:58:35, 215.47s/it]"
     ]
    },
    {
     "name": "stdout",
     "output_type": "stream",
     "text": [
      "time:  213.77284216880798\n"
     ]
    },
    {
     "name": "stderr",
     "output_type": "stream",
     "text": [
      "/home/sangeon/ToyJetGenerator/data/../datagenerator_realistic.py:350: RuntimeWarning: invalid value encountered in sqrt\n",
      "  zmin=np.maximum(0.2/mother.mom.p,0.5*(1-np.sqrt(1-(m/p)**2)))\n",
      "/home/sangeon/ToyJetGenerator/data/../datagenerator_realistic.py:350: RuntimeWarning: invalid value encountered in sqrt\n",
      "  zmin=np.maximum(0.2/mother.mom.p,0.5*(1-np.sqrt(1-(m/p)**2)))\n",
      "/home/sangeon/ToyJetGenerator/data/../datagenerator_realistic.py:320: RuntimeWarning: invalid value encountered in sqrt\n",
      "  return np.arctan(np.sqrt(num/den))\n",
      "/nobackup/users/sangeon/condas/anaconda3/envs/studies/lib/python3.8/site-packages/pylorentz/__init__.py:34: VisibleDeprecationWarning: Creating an ndarray from ragged nested sequences (which is a list-or-tuple of lists-or-tuples-or ndarrays with different lengths or shapes) is deprecated. If you meant to do this, you must specify 'dtype=object' when creating the ndarray.\n",
      "  self._values = np.array(list(x))\n",
      "/home/sangeon/ToyJetGenerator/data/../datagenerator_realistic.py:320: RuntimeWarning: invalid value encountered in sqrt\n",
      "  return np.arctan(np.sqrt(num/den))\n",
      "/nobackup/users/sangeon/condas/anaconda3/envs/studies/lib/python3.8/site-packages/pylorentz/__init__.py:34: VisibleDeprecationWarning: Creating an ndarray from ragged nested sequences (which is a list-or-tuple of lists-or-tuples-or ndarrays with different lengths or shapes) is deprecated. If you meant to do this, you must specify 'dtype=object' when creating the ndarray.\n",
      "  self._values = np.array(list(x))\n",
      "/nobackup/users/sangeon/condas/anaconda3/envs/studies/lib/python3.8/site-packages/pylorentz/__init__.py:34: VisibleDeprecationWarning: Creating an ndarray from ragged nested sequences (which is a list-or-tuple of lists-or-tuples-or ndarrays with different lengths or shapes) is deprecated. If you meant to do this, you must specify 'dtype=object' when creating the ndarray.\n",
      "  self._values = np.array(list(x))\n",
      "/nobackup/users/sangeon/condas/anaconda3/envs/studies/lib/python3.8/site-packages/pylorentz/__init__.py:34: VisibleDeprecationWarning: Creating an ndarray from ragged nested sequences (which is a list-or-tuple of lists-or-tuples-or ndarrays with different lengths or shapes) is deprecated. If you meant to do this, you must specify 'dtype=object' when creating the ndarray.\n",
      "  self._values = np.array(list(x))\n",
      "/home/sangeon/ToyJetGenerator/data/../datagenerator_realistic.py:350: RuntimeWarning: invalid value encountered in sqrt\n",
      "  zmin=np.maximum(0.2/mother.mom.p,0.5*(1-np.sqrt(1-(m/p)**2)))\n",
      "/home/sangeon/ToyJetGenerator/data/../datagenerator_realistic.py:320: RuntimeWarning: invalid value encountered in sqrt\n",
      "  return np.arctan(np.sqrt(num/den))\n",
      "/home/sangeon/ToyJetGenerator/data/../datagenerator_realistic.py:320: RuntimeWarning: invalid value encountered in sqrt\n",
      "  return np.arctan(np.sqrt(num/den))\n",
      "/home/sangeon/ToyJetGenerator/data/../datagenerator_realistic.py:350: RuntimeWarning: invalid value encountered in sqrt\n",
      "  zmin=np.maximum(0.2/mother.mom.p,0.5*(1-np.sqrt(1-(m/p)**2)))\n",
      " 10%|▉         | 46/479 [2:45:09<26:03:01, 216.59s/it]"
     ]
    },
    {
     "name": "stdout",
     "output_type": "stream",
     "text": [
      "time:  219.18230748176575\n"
     ]
    },
    {
     "name": "stderr",
     "output_type": "stream",
     "text": [
      "/home/sangeon/ToyJetGenerator/data/../datagenerator_realistic.py:320: RuntimeWarning: invalid value encountered in sqrt\n",
      "  return np.arctan(np.sqrt(num/den))\n",
      "/home/sangeon/ToyJetGenerator/data/../datagenerator_realistic.py:320: RuntimeWarning: invalid value encountered in sqrt\n",
      "  return np.arctan(np.sqrt(num/den))\n",
      "/nobackup/users/sangeon/condas/anaconda3/envs/studies/lib/python3.8/site-packages/pylorentz/__init__.py:34: VisibleDeprecationWarning: Creating an ndarray from ragged nested sequences (which is a list-or-tuple of lists-or-tuples-or ndarrays with different lengths or shapes) is deprecated. If you meant to do this, you must specify 'dtype=object' when creating the ndarray.\n",
      "  self._values = np.array(list(x))\n",
      "/home/sangeon/ToyJetGenerator/data/../datagenerator_realistic.py:320: RuntimeWarning: invalid value encountered in sqrt\n",
      "  return np.arctan(np.sqrt(num/den))\n",
      "/nobackup/users/sangeon/condas/anaconda3/envs/studies/lib/python3.8/site-packages/pylorentz/__init__.py:34: VisibleDeprecationWarning: Creating an ndarray from ragged nested sequences (which is a list-or-tuple of lists-or-tuples-or ndarrays with different lengths or shapes) is deprecated. If you meant to do this, you must specify 'dtype=object' when creating the ndarray.\n",
      "  self._values = np.array(list(x))\n",
      "/home/sangeon/ToyJetGenerator/data/../datagenerator_realistic.py:350: RuntimeWarning: invalid value encountered in sqrt\n",
      "  zmin=np.maximum(0.2/mother.mom.p,0.5*(1-np.sqrt(1-(m/p)**2)))\n",
      "/nobackup/users/sangeon/condas/anaconda3/envs/studies/lib/python3.8/site-packages/pylorentz/__init__.py:34: VisibleDeprecationWarning: Creating an ndarray from ragged nested sequences (which is a list-or-tuple of lists-or-tuples-or ndarrays with different lengths or shapes) is deprecated. If you meant to do this, you must specify 'dtype=object' when creating the ndarray.\n",
      "  self._values = np.array(list(x))\n",
      "/home/sangeon/ToyJetGenerator/data/../datagenerator_realistic.py:320: RuntimeWarning: invalid value encountered in sqrt\n",
      "  return np.arctan(np.sqrt(num/den))\n",
      "/nobackup/users/sangeon/condas/anaconda3/envs/studies/lib/python3.8/site-packages/pylorentz/__init__.py:34: VisibleDeprecationWarning: Creating an ndarray from ragged nested sequences (which is a list-or-tuple of lists-or-tuples-or ndarrays with different lengths or shapes) is deprecated. If you meant to do this, you must specify 'dtype=object' when creating the ndarray.\n",
      "  self._values = np.array(list(x))\n",
      "/home/sangeon/ToyJetGenerator/data/../datagenerator_realistic.py:350: RuntimeWarning: invalid value encountered in sqrt\n",
      "  zmin=np.maximum(0.2/mother.mom.p,0.5*(1-np.sqrt(1-(m/p)**2)))\n",
      "/home/sangeon/ToyJetGenerator/data/../datagenerator_realistic.py:350: RuntimeWarning: invalid value encountered in sqrt\n",
      "  zmin=np.maximum(0.2/mother.mom.p,0.5*(1-np.sqrt(1-(m/p)**2)))\n",
      "/home/sangeon/ToyJetGenerator/data/../datagenerator_realistic.py:350: RuntimeWarning: invalid value encountered in sqrt\n",
      "  zmin=np.maximum(0.2/mother.mom.p,0.5*(1-np.sqrt(1-(m/p)**2)))\n",
      " 10%|▉         | 47/479 [2:48:41<25:49:27, 215.20s/it]"
     ]
    },
    {
     "name": "stdout",
     "output_type": "stream",
     "text": [
      "time:  211.97380685806274\n"
     ]
    },
    {
     "name": "stderr",
     "output_type": "stream",
     "text": [
      "/home/sangeon/ToyJetGenerator/data/../datagenerator_realistic.py:320: RuntimeWarning: invalid value encountered in sqrt\n",
      "  return np.arctan(np.sqrt(num/den))\n",
      "/home/sangeon/ToyJetGenerator/data/../datagenerator_realistic.py:320: RuntimeWarning: invalid value encountered in sqrt\n",
      "  return np.arctan(np.sqrt(num/den))\n",
      "/home/sangeon/ToyJetGenerator/data/../datagenerator_realistic.py:320: RuntimeWarning: invalid value encountered in sqrt\n",
      "  return np.arctan(np.sqrt(num/den))\n",
      "/nobackup/users/sangeon/condas/anaconda3/envs/studies/lib/python3.8/site-packages/pylorentz/__init__.py:34: VisibleDeprecationWarning: Creating an ndarray from ragged nested sequences (which is a list-or-tuple of lists-or-tuples-or ndarrays with different lengths or shapes) is deprecated. If you meant to do this, you must specify 'dtype=object' when creating the ndarray.\n",
      "  self._values = np.array(list(x))\n",
      "/home/sangeon/ToyJetGenerator/data/../datagenerator_realistic.py:320: RuntimeWarning: invalid value encountered in sqrt\n",
      "  return np.arctan(np.sqrt(num/den))\n",
      "/nobackup/users/sangeon/condas/anaconda3/envs/studies/lib/python3.8/site-packages/pylorentz/__init__.py:34: VisibleDeprecationWarning: Creating an ndarray from ragged nested sequences (which is a list-or-tuple of lists-or-tuples-or ndarrays with different lengths or shapes) is deprecated. If you meant to do this, you must specify 'dtype=object' when creating the ndarray.\n",
      "  self._values = np.array(list(x))\n",
      "/nobackup/users/sangeon/condas/anaconda3/envs/studies/lib/python3.8/site-packages/pylorentz/__init__.py:34: VisibleDeprecationWarning: Creating an ndarray from ragged nested sequences (which is a list-or-tuple of lists-or-tuples-or ndarrays with different lengths or shapes) is deprecated. If you meant to do this, you must specify 'dtype=object' when creating the ndarray.\n",
      "  self._values = np.array(list(x))\n",
      "/nobackup/users/sangeon/condas/anaconda3/envs/studies/lib/python3.8/site-packages/pylorentz/__init__.py:34: VisibleDeprecationWarning: Creating an ndarray from ragged nested sequences (which is a list-or-tuple of lists-or-tuples-or ndarrays with different lengths or shapes) is deprecated. If you meant to do this, you must specify 'dtype=object' when creating the ndarray.\n",
      "  self._values = np.array(list(x))\n",
      "/home/sangeon/ToyJetGenerator/data/../datagenerator_realistic.py:350: RuntimeWarning: invalid value encountered in sqrt\n",
      "  zmin=np.maximum(0.2/mother.mom.p,0.5*(1-np.sqrt(1-(m/p)**2)))\n",
      "/home/sangeon/ToyJetGenerator/data/../datagenerator_realistic.py:350: RuntimeWarning: invalid value encountered in sqrt\n",
      "  zmin=np.maximum(0.2/mother.mom.p,0.5*(1-np.sqrt(1-(m/p)**2)))\n",
      "/home/sangeon/ToyJetGenerator/data/../datagenerator_realistic.py:350: RuntimeWarning: invalid value encountered in sqrt\n",
      "  zmin=np.maximum(0.2/mother.mom.p,0.5*(1-np.sqrt(1-(m/p)**2)))\n",
      "/home/sangeon/ToyJetGenerator/data/../datagenerator_realistic.py:350: RuntimeWarning: invalid value encountered in sqrt\n",
      "  zmin=np.maximum(0.2/mother.mom.p,0.5*(1-np.sqrt(1-(m/p)**2)))\n",
      " 10%|█         | 48/479 [2:52:32<26:20:14, 219.99s/it]"
     ]
    },
    {
     "name": "stdout",
     "output_type": "stream",
     "text": [
      "time:  231.15194272994995\n"
     ]
    },
    {
     "name": "stderr",
     "output_type": "stream",
     "text": [
      "/home/sangeon/ToyJetGenerator/data/../datagenerator_realistic.py:350: RuntimeWarning: invalid value encountered in sqrt\n",
      "  zmin=np.maximum(0.2/mother.mom.p,0.5*(1-np.sqrt(1-(m/p)**2)))\n",
      "/nobackup/users/sangeon/condas/anaconda3/envs/studies/lib/python3.8/site-packages/pylorentz/__init__.py:34: VisibleDeprecationWarning: Creating an ndarray from ragged nested sequences (which is a list-or-tuple of lists-or-tuples-or ndarrays with different lengths or shapes) is deprecated. If you meant to do this, you must specify 'dtype=object' when creating the ndarray.\n",
      "  self._values = np.array(list(x))\n",
      "/home/sangeon/ToyJetGenerator/data/../datagenerator_realistic.py:320: RuntimeWarning: invalid value encountered in sqrt\n",
      "  return np.arctan(np.sqrt(num/den))\n",
      "/nobackup/users/sangeon/condas/anaconda3/envs/studies/lib/python3.8/site-packages/pylorentz/__init__.py:34: VisibleDeprecationWarning: Creating an ndarray from ragged nested sequences (which is a list-or-tuple of lists-or-tuples-or ndarrays with different lengths or shapes) is deprecated. If you meant to do this, you must specify 'dtype=object' when creating the ndarray.\n",
      "  self._values = np.array(list(x))\n",
      "/nobackup/users/sangeon/condas/anaconda3/envs/studies/lib/python3.8/site-packages/pylorentz/__init__.py:34: VisibleDeprecationWarning: Creating an ndarray from ragged nested sequences (which is a list-or-tuple of lists-or-tuples-or ndarrays with different lengths or shapes) is deprecated. If you meant to do this, you must specify 'dtype=object' when creating the ndarray.\n",
      "  self._values = np.array(list(x))\n",
      "/home/sangeon/ToyJetGenerator/data/../datagenerator_realistic.py:320: RuntimeWarning: invalid value encountered in sqrt\n",
      "  return np.arctan(np.sqrt(num/den))\n",
      "/home/sangeon/ToyJetGenerator/data/../datagenerator_realistic.py:320: RuntimeWarning: invalid value encountered in sqrt\n",
      "  return np.arctan(np.sqrt(num/den))\n",
      "/home/sangeon/ToyJetGenerator/data/../datagenerator_realistic.py:320: RuntimeWarning: invalid value encountered in sqrt\n",
      "  return np.arctan(np.sqrt(num/den))\n",
      "/home/sangeon/ToyJetGenerator/data/../datagenerator_realistic.py:350: RuntimeWarning: invalid value encountered in sqrt\n",
      "  zmin=np.maximum(0.2/mother.mom.p,0.5*(1-np.sqrt(1-(m/p)**2)))\n",
      "/nobackup/users/sangeon/condas/anaconda3/envs/studies/lib/python3.8/site-packages/pylorentz/__init__.py:34: VisibleDeprecationWarning: Creating an ndarray from ragged nested sequences (which is a list-or-tuple of lists-or-tuples-or ndarrays with different lengths or shapes) is deprecated. If you meant to do this, you must specify 'dtype=object' when creating the ndarray.\n",
      "  self._values = np.array(list(x))\n",
      "/home/sangeon/ToyJetGenerator/data/../datagenerator_realistic.py:350: RuntimeWarning: invalid value encountered in sqrt\n",
      "  zmin=np.maximum(0.2/mother.mom.p,0.5*(1-np.sqrt(1-(m/p)**2)))\n",
      "/home/sangeon/ToyJetGenerator/data/../datagenerator_realistic.py:350: RuntimeWarning: invalid value encountered in sqrt\n",
      "  zmin=np.maximum(0.2/mother.mom.p,0.5*(1-np.sqrt(1-(m/p)**2)))\n",
      " 10%|█         | 49/479 [2:56:25<26:43:55, 223.80s/it]"
     ]
    },
    {
     "name": "stdout",
     "output_type": "stream",
     "text": [
      "time:  232.7057590484619\n"
     ]
    },
    {
     "name": "stderr",
     "output_type": "stream",
     "text": [
      "/home/sangeon/ToyJetGenerator/data/../datagenerator_realistic.py:320: RuntimeWarning: invalid value encountered in sqrt\n",
      "  return np.arctan(np.sqrt(num/den))\n",
      "/home/sangeon/ToyJetGenerator/data/../datagenerator_realistic.py:320: RuntimeWarning: invalid value encountered in sqrt\n",
      "  return np.arctan(np.sqrt(num/den))\n",
      "/nobackup/users/sangeon/condas/anaconda3/envs/studies/lib/python3.8/site-packages/pylorentz/__init__.py:34: VisibleDeprecationWarning: Creating an ndarray from ragged nested sequences (which is a list-or-tuple of lists-or-tuples-or ndarrays with different lengths or shapes) is deprecated. If you meant to do this, you must specify 'dtype=object' when creating the ndarray.\n",
      "  self._values = np.array(list(x))\n",
      "/nobackup/users/sangeon/condas/anaconda3/envs/studies/lib/python3.8/site-packages/pylorentz/__init__.py:34: VisibleDeprecationWarning: Creating an ndarray from ragged nested sequences (which is a list-or-tuple of lists-or-tuples-or ndarrays with different lengths or shapes) is deprecated. If you meant to do this, you must specify 'dtype=object' when creating the ndarray.\n",
      "  self._values = np.array(list(x))\n",
      "/nobackup/users/sangeon/condas/anaconda3/envs/studies/lib/python3.8/site-packages/pylorentz/__init__.py:34: VisibleDeprecationWarning: Creating an ndarray from ragged nested sequences (which is a list-or-tuple of lists-or-tuples-or ndarrays with different lengths or shapes) is deprecated. If you meant to do this, you must specify 'dtype=object' when creating the ndarray.\n",
      "  self._values = np.array(list(x))\n",
      "/home/sangeon/ToyJetGenerator/data/../datagenerator_realistic.py:350: RuntimeWarning: invalid value encountered in sqrt\n",
      "  zmin=np.maximum(0.2/mother.mom.p,0.5*(1-np.sqrt(1-(m/p)**2)))\n",
      "/nobackup/users/sangeon/condas/anaconda3/envs/studies/lib/python3.8/site-packages/pylorentz/__init__.py:34: VisibleDeprecationWarning: Creating an ndarray from ragged nested sequences (which is a list-or-tuple of lists-or-tuples-or ndarrays with different lengths or shapes) is deprecated. If you meant to do this, you must specify 'dtype=object' when creating the ndarray.\n",
      "  self._values = np.array(list(x))\n",
      "/home/sangeon/ToyJetGenerator/data/../datagenerator_realistic.py:320: RuntimeWarning: invalid value encountered in sqrt\n",
      "  return np.arctan(np.sqrt(num/den))\n",
      "/home/sangeon/ToyJetGenerator/data/../datagenerator_realistic.py:320: RuntimeWarning: invalid value encountered in sqrt\n",
      "  return np.arctan(np.sqrt(num/den))\n",
      "/home/sangeon/ToyJetGenerator/data/../datagenerator_realistic.py:350: RuntimeWarning: invalid value encountered in sqrt\n",
      "  zmin=np.maximum(0.2/mother.mom.p,0.5*(1-np.sqrt(1-(m/p)**2)))\n",
      "/home/sangeon/ToyJetGenerator/data/../datagenerator_realistic.py:350: RuntimeWarning: invalid value encountered in sqrt\n",
      "  zmin=np.maximum(0.2/mother.mom.p,0.5*(1-np.sqrt(1-(m/p)**2)))\n",
      "/home/sangeon/ToyJetGenerator/data/../datagenerator_realistic.py:350: RuntimeWarning: invalid value encountered in sqrt\n",
      "  zmin=np.maximum(0.2/mother.mom.p,0.5*(1-np.sqrt(1-(m/p)**2)))\n",
      " 10%|█         | 50/479 [3:00:06<26:35:15, 223.11s/it]"
     ]
    },
    {
     "name": "stdout",
     "output_type": "stream",
     "text": [
      "time:  221.4994523525238\n"
     ]
    },
    {
     "name": "stderr",
     "output_type": "stream",
     "text": [
      "/home/sangeon/ToyJetGenerator/data/../datagenerator_realistic.py:320: RuntimeWarning: invalid value encountered in sqrt\n",
      "  return np.arctan(np.sqrt(num/den))\n",
      "/home/sangeon/ToyJetGenerator/data/../datagenerator_realistic.py:320: RuntimeWarning: invalid value encountered in sqrt\n",
      "  return np.arctan(np.sqrt(num/den))\n",
      "/nobackup/users/sangeon/condas/anaconda3/envs/studies/lib/python3.8/site-packages/pylorentz/__init__.py:34: VisibleDeprecationWarning: Creating an ndarray from ragged nested sequences (which is a list-or-tuple of lists-or-tuples-or ndarrays with different lengths or shapes) is deprecated. If you meant to do this, you must specify 'dtype=object' when creating the ndarray.\n",
      "  self._values = np.array(list(x))\n",
      "/home/sangeon/ToyJetGenerator/data/../datagenerator_realistic.py:320: RuntimeWarning: invalid value encountered in sqrt\n",
      "  return np.arctan(np.sqrt(num/den))\n",
      "/nobackup/users/sangeon/condas/anaconda3/envs/studies/lib/python3.8/site-packages/pylorentz/__init__.py:34: VisibleDeprecationWarning: Creating an ndarray from ragged nested sequences (which is a list-or-tuple of lists-or-tuples-or ndarrays with different lengths or shapes) is deprecated. If you meant to do this, you must specify 'dtype=object' when creating the ndarray.\n",
      "  self._values = np.array(list(x))\n",
      "/nobackup/users/sangeon/condas/anaconda3/envs/studies/lib/python3.8/site-packages/pylorentz/__init__.py:34: VisibleDeprecationWarning: Creating an ndarray from ragged nested sequences (which is a list-or-tuple of lists-or-tuples-or ndarrays with different lengths or shapes) is deprecated. If you meant to do this, you must specify 'dtype=object' when creating the ndarray.\n",
      "  self._values = np.array(list(x))\n",
      "/nobackup/users/sangeon/condas/anaconda3/envs/studies/lib/python3.8/site-packages/pylorentz/__init__.py:34: VisibleDeprecationWarning: Creating an ndarray from ragged nested sequences (which is a list-or-tuple of lists-or-tuples-or ndarrays with different lengths or shapes) is deprecated. If you meant to do this, you must specify 'dtype=object' when creating the ndarray.\n",
      "  self._values = np.array(list(x))\n",
      "/home/sangeon/ToyJetGenerator/data/../datagenerator_realistic.py:320: RuntimeWarning: invalid value encountered in sqrt\n",
      "  return np.arctan(np.sqrt(num/den))\n",
      "/home/sangeon/ToyJetGenerator/data/../datagenerator_realistic.py:350: RuntimeWarning: invalid value encountered in sqrt\n",
      "  zmin=np.maximum(0.2/mother.mom.p,0.5*(1-np.sqrt(1-(m/p)**2)))\n",
      "/home/sangeon/ToyJetGenerator/data/../datagenerator_realistic.py:350: RuntimeWarning: invalid value encountered in sqrt\n",
      "  zmin=np.maximum(0.2/mother.mom.p,0.5*(1-np.sqrt(1-(m/p)**2)))\n",
      "/home/sangeon/ToyJetGenerator/data/../datagenerator_realistic.py:350: RuntimeWarning: invalid value encountered in sqrt\n",
      "  zmin=np.maximum(0.2/mother.mom.p,0.5*(1-np.sqrt(1-(m/p)**2)))\n",
      "/home/sangeon/ToyJetGenerator/data/../datagenerator_realistic.py:350: RuntimeWarning: invalid value encountered in sqrt\n",
      "  zmin=np.maximum(0.2/mother.mom.p,0.5*(1-np.sqrt(1-(m/p)**2)))\n",
      " 11%|█         | 51/479 [3:03:36<26:03:33, 219.19s/it]"
     ]
    },
    {
     "name": "stdout",
     "output_type": "stream",
     "text": [
      "time:  210.03952145576477\n"
     ]
    },
    {
     "name": "stderr",
     "output_type": "stream",
     "text": [
      "/nobackup/users/sangeon/condas/anaconda3/envs/studies/lib/python3.8/site-packages/pylorentz/__init__.py:34: VisibleDeprecationWarning: Creating an ndarray from ragged nested sequences (which is a list-or-tuple of lists-or-tuples-or ndarrays with different lengths or shapes) is deprecated. If you meant to do this, you must specify 'dtype=object' when creating the ndarray.\n",
      "  self._values = np.array(list(x))\n",
      "/home/sangeon/ToyJetGenerator/data/../datagenerator_realistic.py:320: RuntimeWarning: invalid value encountered in sqrt\n",
      "  return np.arctan(np.sqrt(num/den))\n",
      "/nobackup/users/sangeon/condas/anaconda3/envs/studies/lib/python3.8/site-packages/pylorentz/__init__.py:34: VisibleDeprecationWarning: Creating an ndarray from ragged nested sequences (which is a list-or-tuple of lists-or-tuples-or ndarrays with different lengths or shapes) is deprecated. If you meant to do this, you must specify 'dtype=object' when creating the ndarray.\n",
      "  self._values = np.array(list(x))\n",
      "/home/sangeon/ToyJetGenerator/data/../datagenerator_realistic.py:320: RuntimeWarning: invalid value encountered in sqrt\n",
      "  return np.arctan(np.sqrt(num/den))\n",
      "/home/sangeon/ToyJetGenerator/data/../datagenerator_realistic.py:320: RuntimeWarning: invalid value encountered in sqrt\n",
      "  return np.arctan(np.sqrt(num/den))\n",
      "/home/sangeon/ToyJetGenerator/data/../datagenerator_realistic.py:320: RuntimeWarning: invalid value encountered in sqrt\n",
      "  return np.arctan(np.sqrt(num/den))\n",
      "/nobackup/users/sangeon/condas/anaconda3/envs/studies/lib/python3.8/site-packages/pylorentz/__init__.py:34: VisibleDeprecationWarning: Creating an ndarray from ragged nested sequences (which is a list-or-tuple of lists-or-tuples-or ndarrays with different lengths or shapes) is deprecated. If you meant to do this, you must specify 'dtype=object' when creating the ndarray.\n",
      "  self._values = np.array(list(x))\n",
      "/home/sangeon/ToyJetGenerator/data/../datagenerator_realistic.py:350: RuntimeWarning: invalid value encountered in sqrt\n",
      "  zmin=np.maximum(0.2/mother.mom.p,0.5*(1-np.sqrt(1-(m/p)**2)))\n",
      "/home/sangeon/ToyJetGenerator/data/../datagenerator_realistic.py:350: RuntimeWarning: invalid value encountered in sqrt\n",
      "  zmin=np.maximum(0.2/mother.mom.p,0.5*(1-np.sqrt(1-(m/p)**2)))\n",
      "/nobackup/users/sangeon/condas/anaconda3/envs/studies/lib/python3.8/site-packages/pylorentz/__init__.py:34: VisibleDeprecationWarning: Creating an ndarray from ragged nested sequences (which is a list-or-tuple of lists-or-tuples-or ndarrays with different lengths or shapes) is deprecated. If you meant to do this, you must specify 'dtype=object' when creating the ndarray.\n",
      "  self._values = np.array(list(x))\n",
      "/home/sangeon/ToyJetGenerator/data/../datagenerator_realistic.py:350: RuntimeWarning: invalid value encountered in sqrt\n",
      "  zmin=np.maximum(0.2/mother.mom.p,0.5*(1-np.sqrt(1-(m/p)**2)))\n",
      "/home/sangeon/ToyJetGenerator/data/../datagenerator_realistic.py:350: RuntimeWarning: invalid value encountered in sqrt\n",
      "  zmin=np.maximum(0.2/mother.mom.p,0.5*(1-np.sqrt(1-(m/p)**2)))\n",
      " 11%|█         | 52/479 [3:07:16<26:01:50, 219.46s/it]"
     ]
    },
    {
     "name": "stdout",
     "output_type": "stream",
     "text": [
      "time:  220.09342885017395\n"
     ]
    },
    {
     "name": "stderr",
     "output_type": "stream",
     "text": [
      "/home/sangeon/ToyJetGenerator/data/../datagenerator_realistic.py:350: RuntimeWarning: invalid value encountered in sqrt\n",
      "  zmin=np.maximum(0.2/mother.mom.p,0.5*(1-np.sqrt(1-(m/p)**2)))\n",
      "/home/sangeon/ToyJetGenerator/data/../datagenerator_realistic.py:320: RuntimeWarning: invalid value encountered in sqrt\n",
      "  return np.arctan(np.sqrt(num/den))\n",
      "/home/sangeon/ToyJetGenerator/data/../datagenerator_realistic.py:320: RuntimeWarning: invalid value encountered in sqrt\n",
      "  return np.arctan(np.sqrt(num/den))\n",
      "/nobackup/users/sangeon/condas/anaconda3/envs/studies/lib/python3.8/site-packages/pylorentz/__init__.py:34: VisibleDeprecationWarning: Creating an ndarray from ragged nested sequences (which is a list-or-tuple of lists-or-tuples-or ndarrays with different lengths or shapes) is deprecated. If you meant to do this, you must specify 'dtype=object' when creating the ndarray.\n",
      "  self._values = np.array(list(x))\n",
      "/nobackup/users/sangeon/condas/anaconda3/envs/studies/lib/python3.8/site-packages/pylorentz/__init__.py:34: VisibleDeprecationWarning: Creating an ndarray from ragged nested sequences (which is a list-or-tuple of lists-or-tuples-or ndarrays with different lengths or shapes) is deprecated. If you meant to do this, you must specify 'dtype=object' when creating the ndarray.\n",
      "  self._values = np.array(list(x))\n",
      "/home/sangeon/ToyJetGenerator/data/../datagenerator_realistic.py:320: RuntimeWarning: invalid value encountered in sqrt\n",
      "  return np.arctan(np.sqrt(num/den))\n",
      "/nobackup/users/sangeon/condas/anaconda3/envs/studies/lib/python3.8/site-packages/pylorentz/__init__.py:34: VisibleDeprecationWarning: Creating an ndarray from ragged nested sequences (which is a list-or-tuple of lists-or-tuples-or ndarrays with different lengths or shapes) is deprecated. If you meant to do this, you must specify 'dtype=object' when creating the ndarray.\n",
      "  self._values = np.array(list(x))\n",
      "/home/sangeon/ToyJetGenerator/data/../datagenerator_realistic.py:350: RuntimeWarning: invalid value encountered in sqrt\n",
      "  zmin=np.maximum(0.2/mother.mom.p,0.5*(1-np.sqrt(1-(m/p)**2)))\n",
      "/home/sangeon/ToyJetGenerator/data/../datagenerator_realistic.py:350: RuntimeWarning: invalid value encountered in sqrt\n",
      "  zmin=np.maximum(0.2/mother.mom.p,0.5*(1-np.sqrt(1-(m/p)**2)))\n",
      "/home/sangeon/ToyJetGenerator/data/../datagenerator_realistic.py:350: RuntimeWarning: invalid value encountered in sqrt\n",
      "  zmin=np.maximum(0.2/mother.mom.p,0.5*(1-np.sqrt(1-(m/p)**2)))\n",
      "/home/sangeon/ToyJetGenerator/data/../datagenerator_realistic.py:320: RuntimeWarning: invalid value encountered in sqrt\n",
      "  return np.arctan(np.sqrt(num/den))\n",
      "/nobackup/users/sangeon/condas/anaconda3/envs/studies/lib/python3.8/site-packages/pylorentz/__init__.py:34: VisibleDeprecationWarning: Creating an ndarray from ragged nested sequences (which is a list-or-tuple of lists-or-tuples-or ndarrays with different lengths or shapes) is deprecated. If you meant to do this, you must specify 'dtype=object' when creating the ndarray.\n",
      "  self._values = np.array(list(x))\n",
      " 11%|█         | 53/479 [3:11:05<26:17:29, 222.18s/it]"
     ]
    },
    {
     "name": "stdout",
     "output_type": "stream",
     "text": [
      "time:  228.52567839622498\n"
     ]
    },
    {
     "name": "stderr",
     "output_type": "stream",
     "text": [
      "/home/sangeon/ToyJetGenerator/data/../datagenerator_realistic.py:320: RuntimeWarning: invalid value encountered in sqrt\n",
      "  return np.arctan(np.sqrt(num/den))\n",
      "/home/sangeon/ToyJetGenerator/data/../datagenerator_realistic.py:320: RuntimeWarning: invalid value encountered in sqrt\n",
      "  return np.arctan(np.sqrt(num/den))\n",
      "/home/sangeon/ToyJetGenerator/data/../datagenerator_realistic.py:320: RuntimeWarning: invalid value encountered in sqrt\n",
      "  return np.arctan(np.sqrt(num/den))\n",
      "/nobackup/users/sangeon/condas/anaconda3/envs/studies/lib/python3.8/site-packages/pylorentz/__init__.py:34: VisibleDeprecationWarning: Creating an ndarray from ragged nested sequences (which is a list-or-tuple of lists-or-tuples-or ndarrays with different lengths or shapes) is deprecated. If you meant to do this, you must specify 'dtype=object' when creating the ndarray.\n",
      "  self._values = np.array(list(x))\n",
      "/nobackup/users/sangeon/condas/anaconda3/envs/studies/lib/python3.8/site-packages/pylorentz/__init__.py:34: VisibleDeprecationWarning: Creating an ndarray from ragged nested sequences (which is a list-or-tuple of lists-or-tuples-or ndarrays with different lengths or shapes) is deprecated. If you meant to do this, you must specify 'dtype=object' when creating the ndarray.\n",
      "  self._values = np.array(list(x))\n",
      "/home/sangeon/ToyJetGenerator/data/../datagenerator_realistic.py:320: RuntimeWarning: invalid value encountered in sqrt\n",
      "  return np.arctan(np.sqrt(num/den))\n",
      "/home/sangeon/ToyJetGenerator/data/../datagenerator_realistic.py:350: RuntimeWarning: invalid value encountered in sqrt\n",
      "  zmin=np.maximum(0.2/mother.mom.p,0.5*(1-np.sqrt(1-(m/p)**2)))\n",
      "/nobackup/users/sangeon/condas/anaconda3/envs/studies/lib/python3.8/site-packages/pylorentz/__init__.py:34: VisibleDeprecationWarning: Creating an ndarray from ragged nested sequences (which is a list-or-tuple of lists-or-tuples-or ndarrays with different lengths or shapes) is deprecated. If you meant to do this, you must specify 'dtype=object' when creating the ndarray.\n",
      "  self._values = np.array(list(x))\n",
      "/nobackup/users/sangeon/condas/anaconda3/envs/studies/lib/python3.8/site-packages/pylorentz/__init__.py:34: VisibleDeprecationWarning: Creating an ndarray from ragged nested sequences (which is a list-or-tuple of lists-or-tuples-or ndarrays with different lengths or shapes) is deprecated. If you meant to do this, you must specify 'dtype=object' when creating the ndarray.\n",
      "  self._values = np.array(list(x))\n",
      "/home/sangeon/ToyJetGenerator/data/../datagenerator_realistic.py:350: RuntimeWarning: invalid value encountered in sqrt\n",
      "  zmin=np.maximum(0.2/mother.mom.p,0.5*(1-np.sqrt(1-(m/p)**2)))\n",
      "/home/sangeon/ToyJetGenerator/data/../datagenerator_realistic.py:350: RuntimeWarning: invalid value encountered in sqrt\n",
      "  zmin=np.maximum(0.2/mother.mom.p,0.5*(1-np.sqrt(1-(m/p)**2)))\n",
      "/home/sangeon/ToyJetGenerator/data/../datagenerator_realistic.py:350: RuntimeWarning: invalid value encountered in sqrt\n",
      "  zmin=np.maximum(0.2/mother.mom.p,0.5*(1-np.sqrt(1-(m/p)**2)))\n",
      " 11%|█▏        | 54/479 [3:14:35<25:48:07, 218.56s/it]"
     ]
    },
    {
     "name": "stdout",
     "output_type": "stream",
     "text": [
      "time:  210.10773921012878\n"
     ]
    },
    {
     "name": "stderr",
     "output_type": "stream",
     "text": [
      "/home/sangeon/ToyJetGenerator/data/../datagenerator_realistic.py:320: RuntimeWarning: invalid value encountered in sqrt\n",
      "  return np.arctan(np.sqrt(num/den))\n",
      "/home/sangeon/ToyJetGenerator/data/../datagenerator_realistic.py:320: RuntimeWarning: invalid value encountered in sqrt\n",
      "  return np.arctan(np.sqrt(num/den))\n",
      "/home/sangeon/ToyJetGenerator/data/../datagenerator_realistic.py:320: RuntimeWarning: invalid value encountered in sqrt\n",
      "  return np.arctan(np.sqrt(num/den))\n",
      "/home/sangeon/ToyJetGenerator/data/../datagenerator_realistic.py:320: RuntimeWarning: invalid value encountered in sqrt\n",
      "  return np.arctan(np.sqrt(num/den))\n",
      "/nobackup/users/sangeon/condas/anaconda3/envs/studies/lib/python3.8/site-packages/pylorentz/__init__.py:34: VisibleDeprecationWarning: Creating an ndarray from ragged nested sequences (which is a list-or-tuple of lists-or-tuples-or ndarrays with different lengths or shapes) is deprecated. If you meant to do this, you must specify 'dtype=object' when creating the ndarray.\n",
      "  self._values = np.array(list(x))\n",
      "/nobackup/users/sangeon/condas/anaconda3/envs/studies/lib/python3.8/site-packages/pylorentz/__init__.py:34: VisibleDeprecationWarning: Creating an ndarray from ragged nested sequences (which is a list-or-tuple of lists-or-tuples-or ndarrays with different lengths or shapes) is deprecated. If you meant to do this, you must specify 'dtype=object' when creating the ndarray.\n",
      "  self._values = np.array(list(x))\n",
      "/nobackup/users/sangeon/condas/anaconda3/envs/studies/lib/python3.8/site-packages/pylorentz/__init__.py:34: VisibleDeprecationWarning: Creating an ndarray from ragged nested sequences (which is a list-or-tuple of lists-or-tuples-or ndarrays with different lengths or shapes) is deprecated. If you meant to do this, you must specify 'dtype=object' when creating the ndarray.\n",
      "  self._values = np.array(list(x))\n",
      "/nobackup/users/sangeon/condas/anaconda3/envs/studies/lib/python3.8/site-packages/pylorentz/__init__.py:34: VisibleDeprecationWarning: Creating an ndarray from ragged nested sequences (which is a list-or-tuple of lists-or-tuples-or ndarrays with different lengths or shapes) is deprecated. If you meant to do this, you must specify 'dtype=object' when creating the ndarray.\n",
      "  self._values = np.array(list(x))\n",
      "/home/sangeon/ToyJetGenerator/data/../datagenerator_realistic.py:350: RuntimeWarning: invalid value encountered in sqrt\n",
      "  zmin=np.maximum(0.2/mother.mom.p,0.5*(1-np.sqrt(1-(m/p)**2)))\n",
      "/home/sangeon/ToyJetGenerator/data/../datagenerator_realistic.py:350: RuntimeWarning: invalid value encountered in sqrt\n",
      "  zmin=np.maximum(0.2/mother.mom.p,0.5*(1-np.sqrt(1-(m/p)**2)))\n",
      "/home/sangeon/ToyJetGenerator/data/../datagenerator_realistic.py:350: RuntimeWarning: invalid value encountered in sqrt\n",
      "  zmin=np.maximum(0.2/mother.mom.p,0.5*(1-np.sqrt(1-(m/p)**2)))\n",
      "/home/sangeon/ToyJetGenerator/data/../datagenerator_realistic.py:350: RuntimeWarning: invalid value encountered in sqrt\n",
      "  zmin=np.maximum(0.2/mother.mom.p,0.5*(1-np.sqrt(1-(m/p)**2)))\n",
      " 11%|█▏        | 55/479 [3:18:17<25:51:28, 219.55s/it]"
     ]
    },
    {
     "name": "stdout",
     "output_type": "stream",
     "text": [
      "time:  221.85623168945312\n"
     ]
    },
    {
     "name": "stderr",
     "output_type": "stream",
     "text": [
      "/home/sangeon/ToyJetGenerator/data/../datagenerator_realistic.py:350: RuntimeWarning: invalid value encountered in sqrt\n",
      "  zmin=np.maximum(0.2/mother.mom.p,0.5*(1-np.sqrt(1-(m/p)**2)))\n",
      "/nobackup/users/sangeon/condas/anaconda3/envs/studies/lib/python3.8/site-packages/pylorentz/__init__.py:34: VisibleDeprecationWarning: Creating an ndarray from ragged nested sequences (which is a list-or-tuple of lists-or-tuples-or ndarrays with different lengths or shapes) is deprecated. If you meant to do this, you must specify 'dtype=object' when creating the ndarray.\n",
      "  self._values = np.array(list(x))\n",
      "/home/sangeon/ToyJetGenerator/data/../datagenerator_realistic.py:320: RuntimeWarning: invalid value encountered in sqrt\n",
      "  return np.arctan(np.sqrt(num/den))\n",
      "/nobackup/users/sangeon/condas/anaconda3/envs/studies/lib/python3.8/site-packages/pylorentz/__init__.py:34: VisibleDeprecationWarning: Creating an ndarray from ragged nested sequences (which is a list-or-tuple of lists-or-tuples-or ndarrays with different lengths or shapes) is deprecated. If you meant to do this, you must specify 'dtype=object' when creating the ndarray.\n",
      "  self._values = np.array(list(x))\n",
      "/home/sangeon/ToyJetGenerator/data/../datagenerator_realistic.py:320: RuntimeWarning: invalid value encountered in sqrt\n",
      "  return np.arctan(np.sqrt(num/den))\n",
      "/home/sangeon/ToyJetGenerator/data/../datagenerator_realistic.py:320: RuntimeWarning: invalid value encountered in sqrt\n",
      "  return np.arctan(np.sqrt(num/den))\n",
      "/nobackup/users/sangeon/condas/anaconda3/envs/studies/lib/python3.8/site-packages/pylorentz/__init__.py:34: VisibleDeprecationWarning: Creating an ndarray from ragged nested sequences (which is a list-or-tuple of lists-or-tuples-or ndarrays with different lengths or shapes) is deprecated. If you meant to do this, you must specify 'dtype=object' when creating the ndarray.\n",
      "  self._values = np.array(list(x))\n",
      "/home/sangeon/ToyJetGenerator/data/../datagenerator_realistic.py:320: RuntimeWarning: invalid value encountered in sqrt\n",
      "  return np.arctan(np.sqrt(num/den))\n",
      "/nobackup/users/sangeon/condas/anaconda3/envs/studies/lib/python3.8/site-packages/pylorentz/__init__.py:34: VisibleDeprecationWarning: Creating an ndarray from ragged nested sequences (which is a list-or-tuple of lists-or-tuples-or ndarrays with different lengths or shapes) is deprecated. If you meant to do this, you must specify 'dtype=object' when creating the ndarray.\n",
      "  self._values = np.array(list(x))\n",
      "/home/sangeon/ToyJetGenerator/data/../datagenerator_realistic.py:350: RuntimeWarning: invalid value encountered in sqrt\n",
      "  zmin=np.maximum(0.2/mother.mom.p,0.5*(1-np.sqrt(1-(m/p)**2)))\n",
      "/home/sangeon/ToyJetGenerator/data/../datagenerator_realistic.py:350: RuntimeWarning: invalid value encountered in sqrt\n",
      "  zmin=np.maximum(0.2/mother.mom.p,0.5*(1-np.sqrt(1-(m/p)**2)))\n",
      "/home/sangeon/ToyJetGenerator/data/../datagenerator_realistic.py:350: RuntimeWarning: invalid value encountered in sqrt\n",
      "  zmin=np.maximum(0.2/mother.mom.p,0.5*(1-np.sqrt(1-(m/p)**2)))\n",
      " 12%|█▏        | 56/479 [3:21:58<25:51:40, 220.10s/it]"
     ]
    },
    {
     "name": "stdout",
     "output_type": "stream",
     "text": [
      "time:  221.37149095535278\n"
     ]
    },
    {
     "name": "stderr",
     "output_type": "stream",
     "text": [
      "/home/sangeon/ToyJetGenerator/data/../datagenerator_realistic.py:320: RuntimeWarning: invalid value encountered in sqrt\n",
      "  return np.arctan(np.sqrt(num/den))\n",
      "/home/sangeon/ToyJetGenerator/data/../datagenerator_realistic.py:320: RuntimeWarning: invalid value encountered in sqrt\n",
      "  return np.arctan(np.sqrt(num/den))\n",
      "/nobackup/users/sangeon/condas/anaconda3/envs/studies/lib/python3.8/site-packages/pylorentz/__init__.py:34: VisibleDeprecationWarning: Creating an ndarray from ragged nested sequences (which is a list-or-tuple of lists-or-tuples-or ndarrays with different lengths or shapes) is deprecated. If you meant to do this, you must specify 'dtype=object' when creating the ndarray.\n",
      "  self._values = np.array(list(x))\n",
      "/nobackup/users/sangeon/condas/anaconda3/envs/studies/lib/python3.8/site-packages/pylorentz/__init__.py:34: VisibleDeprecationWarning: Creating an ndarray from ragged nested sequences (which is a list-or-tuple of lists-or-tuples-or ndarrays with different lengths or shapes) is deprecated. If you meant to do this, you must specify 'dtype=object' when creating the ndarray.\n",
      "  self._values = np.array(list(x))\n",
      "/nobackup/users/sangeon/condas/anaconda3/envs/studies/lib/python3.8/site-packages/pylorentz/__init__.py:34: VisibleDeprecationWarning: Creating an ndarray from ragged nested sequences (which is a list-or-tuple of lists-or-tuples-or ndarrays with different lengths or shapes) is deprecated. If you meant to do this, you must specify 'dtype=object' when creating the ndarray.\n",
      "  self._values = np.array(list(x))\n",
      "/home/sangeon/ToyJetGenerator/data/../datagenerator_realistic.py:320: RuntimeWarning: invalid value encountered in sqrt\n",
      "  return np.arctan(np.sqrt(num/den))\n",
      "/home/sangeon/ToyJetGenerator/data/../datagenerator_realistic.py:320: RuntimeWarning: invalid value encountered in sqrt\n",
      "  return np.arctan(np.sqrt(num/den))\n",
      "/home/sangeon/ToyJetGenerator/data/../datagenerator_realistic.py:350: RuntimeWarning: invalid value encountered in sqrt\n",
      "  zmin=np.maximum(0.2/mother.mom.p,0.5*(1-np.sqrt(1-(m/p)**2)))\n",
      "/nobackup/users/sangeon/condas/anaconda3/envs/studies/lib/python3.8/site-packages/pylorentz/__init__.py:34: VisibleDeprecationWarning: Creating an ndarray from ragged nested sequences (which is a list-or-tuple of lists-or-tuples-or ndarrays with different lengths or shapes) is deprecated. If you meant to do this, you must specify 'dtype=object' when creating the ndarray.\n",
      "  self._values = np.array(list(x))\n",
      "/home/sangeon/ToyJetGenerator/data/../datagenerator_realistic.py:350: RuntimeWarning: invalid value encountered in sqrt\n",
      "  zmin=np.maximum(0.2/mother.mom.p,0.5*(1-np.sqrt(1-(m/p)**2)))\n",
      "/home/sangeon/ToyJetGenerator/data/../datagenerator_realistic.py:350: RuntimeWarning: invalid value encountered in sqrt\n",
      "  zmin=np.maximum(0.2/mother.mom.p,0.5*(1-np.sqrt(1-(m/p)**2)))\n",
      "/home/sangeon/ToyJetGenerator/data/../datagenerator_realistic.py:350: RuntimeWarning: invalid value encountered in sqrt\n",
      "  zmin=np.maximum(0.2/mother.mom.p,0.5*(1-np.sqrt(1-(m/p)**2)))\n",
      " 12%|█▏        | 57/479 [3:25:34<25:38:19, 218.72s/it]"
     ]
    },
    {
     "name": "stdout",
     "output_type": "stream",
     "text": [
      "time:  215.509605884552\n"
     ]
    },
    {
     "name": "stderr",
     "output_type": "stream",
     "text": [
      "/home/sangeon/ToyJetGenerator/data/../datagenerator_realistic.py:320: RuntimeWarning: invalid value encountered in sqrt\n",
      "  return np.arctan(np.sqrt(num/den))\n",
      "/home/sangeon/ToyJetGenerator/data/../datagenerator_realistic.py:320: RuntimeWarning: invalid value encountered in sqrt\n",
      "  return np.arctan(np.sqrt(num/den))\n",
      "/home/sangeon/ToyJetGenerator/data/../datagenerator_realistic.py:350: RuntimeWarning: invalid value encountered in sqrt\n",
      "  zmin=np.maximum(0.2/mother.mom.p,0.5*(1-np.sqrt(1-(m/p)**2)))\n",
      "/home/sangeon/ToyJetGenerator/data/../datagenerator_realistic.py:320: RuntimeWarning: invalid value encountered in sqrt\n",
      "  return np.arctan(np.sqrt(num/den))\n",
      "/nobackup/users/sangeon/condas/anaconda3/envs/studies/lib/python3.8/site-packages/pylorentz/__init__.py:34: VisibleDeprecationWarning: Creating an ndarray from ragged nested sequences (which is a list-or-tuple of lists-or-tuples-or ndarrays with different lengths or shapes) is deprecated. If you meant to do this, you must specify 'dtype=object' when creating the ndarray.\n",
      "  self._values = np.array(list(x))\n",
      "/home/sangeon/ToyJetGenerator/data/../datagenerator_realistic.py:350: RuntimeWarning: invalid value encountered in sqrt\n",
      "  zmin=np.maximum(0.2/mother.mom.p,0.5*(1-np.sqrt(1-(m/p)**2)))\n",
      "/nobackup/users/sangeon/condas/anaconda3/envs/studies/lib/python3.8/site-packages/pylorentz/__init__.py:34: VisibleDeprecationWarning: Creating an ndarray from ragged nested sequences (which is a list-or-tuple of lists-or-tuples-or ndarrays with different lengths or shapes) is deprecated. If you meant to do this, you must specify 'dtype=object' when creating the ndarray.\n",
      "  self._values = np.array(list(x))\n",
      "/home/sangeon/ToyJetGenerator/data/../datagenerator_realistic.py:320: RuntimeWarning: invalid value encountered in sqrt\n",
      "  return np.arctan(np.sqrt(num/den))\n",
      "/nobackup/users/sangeon/condas/anaconda3/envs/studies/lib/python3.8/site-packages/pylorentz/__init__.py:34: VisibleDeprecationWarning: Creating an ndarray from ragged nested sequences (which is a list-or-tuple of lists-or-tuples-or ndarrays with different lengths or shapes) is deprecated. If you meant to do this, you must specify 'dtype=object' when creating the ndarray.\n",
      "  self._values = np.array(list(x))\n",
      "/nobackup/users/sangeon/condas/anaconda3/envs/studies/lib/python3.8/site-packages/pylorentz/__init__.py:34: VisibleDeprecationWarning: Creating an ndarray from ragged nested sequences (which is a list-or-tuple of lists-or-tuples-or ndarrays with different lengths or shapes) is deprecated. If you meant to do this, you must specify 'dtype=object' when creating the ndarray.\n",
      "  self._values = np.array(list(x))\n",
      "/home/sangeon/ToyJetGenerator/data/../datagenerator_realistic.py:350: RuntimeWarning: invalid value encountered in sqrt\n",
      "  zmin=np.maximum(0.2/mother.mom.p,0.5*(1-np.sqrt(1-(m/p)**2)))\n",
      "/home/sangeon/ToyJetGenerator/data/../datagenerator_realistic.py:350: RuntimeWarning: invalid value encountered in sqrt\n",
      "  zmin=np.maximum(0.2/mother.mom.p,0.5*(1-np.sqrt(1-(m/p)**2)))\n",
      " 12%|█▏        | 58/479 [3:29:25<26:01:31, 222.54s/it]"
     ]
    },
    {
     "name": "stdout",
     "output_type": "stream",
     "text": [
      "time:  231.46474051475525\n"
     ]
    },
    {
     "name": "stderr",
     "output_type": "stream",
     "text": [
      "/nobackup/users/sangeon/condas/anaconda3/envs/studies/lib/python3.8/site-packages/pylorentz/__init__.py:34: VisibleDeprecationWarning: Creating an ndarray from ragged nested sequences (which is a list-or-tuple of lists-or-tuples-or ndarrays with different lengths or shapes) is deprecated. If you meant to do this, you must specify 'dtype=object' when creating the ndarray.\n",
      "  self._values = np.array(list(x))\n",
      "/home/sangeon/ToyJetGenerator/data/../datagenerator_realistic.py:320: RuntimeWarning: invalid value encountered in sqrt\n",
      "  return np.arctan(np.sqrt(num/den))\n",
      "/home/sangeon/ToyJetGenerator/data/../datagenerator_realistic.py:320: RuntimeWarning: invalid value encountered in sqrt\n",
      "  return np.arctan(np.sqrt(num/den))\n",
      "/home/sangeon/ToyJetGenerator/data/../datagenerator_realistic.py:350: RuntimeWarning: invalid value encountered in sqrt\n",
      "  zmin=np.maximum(0.2/mother.mom.p,0.5*(1-np.sqrt(1-(m/p)**2)))\n",
      "/home/sangeon/ToyJetGenerator/data/../datagenerator_realistic.py:320: RuntimeWarning: invalid value encountered in sqrt\n",
      "  return np.arctan(np.sqrt(num/den))\n",
      "/nobackup/users/sangeon/condas/anaconda3/envs/studies/lib/python3.8/site-packages/pylorentz/__init__.py:34: VisibleDeprecationWarning: Creating an ndarray from ragged nested sequences (which is a list-or-tuple of lists-or-tuples-or ndarrays with different lengths or shapes) is deprecated. If you meant to do this, you must specify 'dtype=object' when creating the ndarray.\n",
      "  self._values = np.array(list(x))\n",
      "/home/sangeon/ToyJetGenerator/data/../datagenerator_realistic.py:350: RuntimeWarning: invalid value encountered in sqrt\n",
      "  zmin=np.maximum(0.2/mother.mom.p,0.5*(1-np.sqrt(1-(m/p)**2)))\n",
      "/home/sangeon/ToyJetGenerator/data/../datagenerator_realistic.py:350: RuntimeWarning: invalid value encountered in sqrt\n",
      "  zmin=np.maximum(0.2/mother.mom.p,0.5*(1-np.sqrt(1-(m/p)**2)))\n",
      "/home/sangeon/ToyJetGenerator/data/../datagenerator_realistic.py:320: RuntimeWarning: invalid value encountered in sqrt\n",
      "  return np.arctan(np.sqrt(num/den))\n",
      "/nobackup/users/sangeon/condas/anaconda3/envs/studies/lib/python3.8/site-packages/pylorentz/__init__.py:34: VisibleDeprecationWarning: Creating an ndarray from ragged nested sequences (which is a list-or-tuple of lists-or-tuples-or ndarrays with different lengths or shapes) is deprecated. If you meant to do this, you must specify 'dtype=object' when creating the ndarray.\n",
      "  self._values = np.array(list(x))\n",
      "/home/sangeon/ToyJetGenerator/data/../datagenerator_realistic.py:350: RuntimeWarning: invalid value encountered in sqrt\n",
      "  zmin=np.maximum(0.2/mother.mom.p,0.5*(1-np.sqrt(1-(m/p)**2)))\n",
      "/nobackup/users/sangeon/condas/anaconda3/envs/studies/lib/python3.8/site-packages/pylorentz/__init__.py:34: VisibleDeprecationWarning: Creating an ndarray from ragged nested sequences (which is a list-or-tuple of lists-or-tuples-or ndarrays with different lengths or shapes) is deprecated. If you meant to do this, you must specify 'dtype=object' when creating the ndarray.\n",
      "  self._values = np.array(list(x))\n",
      " 12%|█▏        | 59/479 [3:33:00<25:41:25, 220.20s/it]"
     ]
    },
    {
     "name": "stdout",
     "output_type": "stream",
     "text": [
      "time:  214.73925232887268\n"
     ]
    },
    {
     "name": "stderr",
     "output_type": "stream",
     "text": [
      "/nobackup/users/sangeon/condas/anaconda3/envs/studies/lib/python3.8/site-packages/pylorentz/__init__.py:34: VisibleDeprecationWarning: Creating an ndarray from ragged nested sequences (which is a list-or-tuple of lists-or-tuples-or ndarrays with different lengths or shapes) is deprecated. If you meant to do this, you must specify 'dtype=object' when creating the ndarray.\n",
      "  self._values = np.array(list(x))\n",
      "/home/sangeon/ToyJetGenerator/data/../datagenerator_realistic.py:320: RuntimeWarning: invalid value encountered in sqrt\n",
      "  return np.arctan(np.sqrt(num/den))\n",
      "/home/sangeon/ToyJetGenerator/data/../datagenerator_realistic.py:320: RuntimeWarning: invalid value encountered in sqrt\n",
      "  return np.arctan(np.sqrt(num/den))\n",
      "/home/sangeon/ToyJetGenerator/data/../datagenerator_realistic.py:320: RuntimeWarning: invalid value encountered in sqrt\n",
      "  return np.arctan(np.sqrt(num/den))\n",
      "/home/sangeon/ToyJetGenerator/data/../datagenerator_realistic.py:320: RuntimeWarning: invalid value encountered in sqrt\n",
      "  return np.arctan(np.sqrt(num/den))\n",
      "/nobackup/users/sangeon/condas/anaconda3/envs/studies/lib/python3.8/site-packages/pylorentz/__init__.py:34: VisibleDeprecationWarning: Creating an ndarray from ragged nested sequences (which is a list-or-tuple of lists-or-tuples-or ndarrays with different lengths or shapes) is deprecated. If you meant to do this, you must specify 'dtype=object' when creating the ndarray.\n",
      "  self._values = np.array(list(x))\n",
      "/home/sangeon/ToyJetGenerator/data/../datagenerator_realistic.py:350: RuntimeWarning: invalid value encountered in sqrt\n",
      "  zmin=np.maximum(0.2/mother.mom.p,0.5*(1-np.sqrt(1-(m/p)**2)))\n",
      "/home/sangeon/ToyJetGenerator/data/../datagenerator_realistic.py:350: RuntimeWarning: invalid value encountered in sqrt\n",
      "  zmin=np.maximum(0.2/mother.mom.p,0.5*(1-np.sqrt(1-(m/p)**2)))\n",
      "/nobackup/users/sangeon/condas/anaconda3/envs/studies/lib/python3.8/site-packages/pylorentz/__init__.py:34: VisibleDeprecationWarning: Creating an ndarray from ragged nested sequences (which is a list-or-tuple of lists-or-tuples-or ndarrays with different lengths or shapes) is deprecated. If you meant to do this, you must specify 'dtype=object' when creating the ndarray.\n",
      "  self._values = np.array(list(x))\n",
      "/nobackup/users/sangeon/condas/anaconda3/envs/studies/lib/python3.8/site-packages/pylorentz/__init__.py:34: VisibleDeprecationWarning: Creating an ndarray from ragged nested sequences (which is a list-or-tuple of lists-or-tuples-or ndarrays with different lengths or shapes) is deprecated. If you meant to do this, you must specify 'dtype=object' when creating the ndarray.\n",
      "  self._values = np.array(list(x))\n",
      "/home/sangeon/ToyJetGenerator/data/../datagenerator_realistic.py:350: RuntimeWarning: invalid value encountered in sqrt\n",
      "  zmin=np.maximum(0.2/mother.mom.p,0.5*(1-np.sqrt(1-(m/p)**2)))\n",
      "/home/sangeon/ToyJetGenerator/data/../datagenerator_realistic.py:350: RuntimeWarning: invalid value encountered in sqrt\n",
      "  zmin=np.maximum(0.2/mother.mom.p,0.5*(1-np.sqrt(1-(m/p)**2)))\n",
      " 13%|█▎        | 60/479 [3:36:30<25:16:25, 217.15s/it]"
     ]
    },
    {
     "name": "stdout",
     "output_type": "stream",
     "text": [
      "time:  210.0232012271881\n"
     ]
    },
    {
     "name": "stderr",
     "output_type": "stream",
     "text": [
      "/home/sangeon/ToyJetGenerator/data/../datagenerator_realistic.py:350: RuntimeWarning: invalid value encountered in sqrt\n",
      "  zmin=np.maximum(0.2/mother.mom.p,0.5*(1-np.sqrt(1-(m/p)**2)))\n",
      "/home/sangeon/ToyJetGenerator/data/../datagenerator_realistic.py:320: RuntimeWarning: invalid value encountered in sqrt\n",
      "  return np.arctan(np.sqrt(num/den))\n",
      "/home/sangeon/ToyJetGenerator/data/../datagenerator_realistic.py:320: RuntimeWarning: invalid value encountered in sqrt\n",
      "  return np.arctan(np.sqrt(num/den))\n",
      "/nobackup/users/sangeon/condas/anaconda3/envs/studies/lib/python3.8/site-packages/pylorentz/__init__.py:34: VisibleDeprecationWarning: Creating an ndarray from ragged nested sequences (which is a list-or-tuple of lists-or-tuples-or ndarrays with different lengths or shapes) is deprecated. If you meant to do this, you must specify 'dtype=object' when creating the ndarray.\n",
      "  self._values = np.array(list(x))\n",
      "/home/sangeon/ToyJetGenerator/data/../datagenerator_realistic.py:320: RuntimeWarning: invalid value encountered in sqrt\n",
      "  return np.arctan(np.sqrt(num/den))\n",
      "/nobackup/users/sangeon/condas/anaconda3/envs/studies/lib/python3.8/site-packages/pylorentz/__init__.py:34: VisibleDeprecationWarning: Creating an ndarray from ragged nested sequences (which is a list-or-tuple of lists-or-tuples-or ndarrays with different lengths or shapes) is deprecated. If you meant to do this, you must specify 'dtype=object' when creating the ndarray.\n",
      "  self._values = np.array(list(x))\n",
      "/home/sangeon/ToyJetGenerator/data/../datagenerator_realistic.py:350: RuntimeWarning: invalid value encountered in sqrt\n",
      "  zmin=np.maximum(0.2/mother.mom.p,0.5*(1-np.sqrt(1-(m/p)**2)))\n",
      "/nobackup/users/sangeon/condas/anaconda3/envs/studies/lib/python3.8/site-packages/pylorentz/__init__.py:34: VisibleDeprecationWarning: Creating an ndarray from ragged nested sequences (which is a list-or-tuple of lists-or-tuples-or ndarrays with different lengths or shapes) is deprecated. If you meant to do this, you must specify 'dtype=object' when creating the ndarray.\n",
      "  self._values = np.array(list(x))\n",
      "/nobackup/users/sangeon/condas/anaconda3/envs/studies/lib/python3.8/site-packages/pylorentz/__init__.py:34: VisibleDeprecationWarning: Creating an ndarray from ragged nested sequences (which is a list-or-tuple of lists-or-tuples-or ndarrays with different lengths or shapes) is deprecated. If you meant to do this, you must specify 'dtype=object' when creating the ndarray.\n",
      "  self._values = np.array(list(x))\n",
      "/home/sangeon/ToyJetGenerator/data/../datagenerator_realistic.py:320: RuntimeWarning: invalid value encountered in sqrt\n",
      "  return np.arctan(np.sqrt(num/den))\n",
      "/home/sangeon/ToyJetGenerator/data/../datagenerator_realistic.py:350: RuntimeWarning: invalid value encountered in sqrt\n",
      "  zmin=np.maximum(0.2/mother.mom.p,0.5*(1-np.sqrt(1-(m/p)**2)))\n",
      "/home/sangeon/ToyJetGenerator/data/../datagenerator_realistic.py:350: RuntimeWarning: invalid value encountered in sqrt\n",
      "  zmin=np.maximum(0.2/mother.mom.p,0.5*(1-np.sqrt(1-(m/p)**2)))\n",
      " 13%|█▎        | 61/479 [3:40:17<25:32:45, 220.01s/it]"
     ]
    },
    {
     "name": "stdout",
     "output_type": "stream",
     "text": [
      "time:  226.68932509422302\n"
     ]
    },
    {
     "name": "stderr",
     "output_type": "stream",
     "text": [
      "/nobackup/users/sangeon/condas/anaconda3/envs/studies/lib/python3.8/site-packages/pylorentz/__init__.py:34: VisibleDeprecationWarning: Creating an ndarray from ragged nested sequences (which is a list-or-tuple of lists-or-tuples-or ndarrays with different lengths or shapes) is deprecated. If you meant to do this, you must specify 'dtype=object' when creating the ndarray.\n",
      "  self._values = np.array(list(x))\n",
      "/home/sangeon/ToyJetGenerator/data/../datagenerator_realistic.py:350: RuntimeWarning: invalid value encountered in sqrt\n",
      "  zmin=np.maximum(0.2/mother.mom.p,0.5*(1-np.sqrt(1-(m/p)**2)))\n",
      "/nobackup/users/sangeon/condas/anaconda3/envs/studies/lib/python3.8/site-packages/pylorentz/__init__.py:34: VisibleDeprecationWarning: Creating an ndarray from ragged nested sequences (which is a list-or-tuple of lists-or-tuples-or ndarrays with different lengths or shapes) is deprecated. If you meant to do this, you must specify 'dtype=object' when creating the ndarray.\n",
      "  self._values = np.array(list(x))\n",
      "/home/sangeon/ToyJetGenerator/data/../datagenerator_realistic.py:320: RuntimeWarning: invalid value encountered in sqrt\n",
      "  return np.arctan(np.sqrt(num/den))\n",
      "/home/sangeon/ToyJetGenerator/data/../datagenerator_realistic.py:320: RuntimeWarning: invalid value encountered in sqrt\n",
      "  return np.arctan(np.sqrt(num/den))\n",
      "/nobackup/users/sangeon/condas/anaconda3/envs/studies/lib/python3.8/site-packages/pylorentz/__init__.py:34: VisibleDeprecationWarning: Creating an ndarray from ragged nested sequences (which is a list-or-tuple of lists-or-tuples-or ndarrays with different lengths or shapes) is deprecated. If you meant to do this, you must specify 'dtype=object' when creating the ndarray.\n",
      "  self._values = np.array(list(x))\n",
      "/home/sangeon/ToyJetGenerator/data/../datagenerator_realistic.py:320: RuntimeWarning: invalid value encountered in sqrt\n",
      "  return np.arctan(np.sqrt(num/den))\n",
      "/home/sangeon/ToyJetGenerator/data/../datagenerator_realistic.py:320: RuntimeWarning: invalid value encountered in sqrt\n",
      "  return np.arctan(np.sqrt(num/den))\n",
      "/home/sangeon/ToyJetGenerator/data/../datagenerator_realistic.py:350: RuntimeWarning: invalid value encountered in sqrt\n",
      "  zmin=np.maximum(0.2/mother.mom.p,0.5*(1-np.sqrt(1-(m/p)**2)))\n",
      "/home/sangeon/ToyJetGenerator/data/../datagenerator_realistic.py:350: RuntimeWarning: invalid value encountered in sqrt\n",
      "  zmin=np.maximum(0.2/mother.mom.p,0.5*(1-np.sqrt(1-(m/p)**2)))\n",
      "/nobackup/users/sangeon/condas/anaconda3/envs/studies/lib/python3.8/site-packages/pylorentz/__init__.py:34: VisibleDeprecationWarning: Creating an ndarray from ragged nested sequences (which is a list-or-tuple of lists-or-tuples-or ndarrays with different lengths or shapes) is deprecated. If you meant to do this, you must specify 'dtype=object' when creating the ndarray.\n",
      "  self._values = np.array(list(x))\n",
      "/home/sangeon/ToyJetGenerator/data/../datagenerator_realistic.py:350: RuntimeWarning: invalid value encountered in sqrt\n",
      "  zmin=np.maximum(0.2/mother.mom.p,0.5*(1-np.sqrt(1-(m/p)**2)))\n",
      " 13%|█▎        | 62/479 [3:43:51<25:17:29, 218.34s/it]"
     ]
    },
    {
     "name": "stdout",
     "output_type": "stream",
     "text": [
      "time:  214.45085382461548\n"
     ]
    },
    {
     "name": "stderr",
     "output_type": "stream",
     "text": [
      "/home/sangeon/ToyJetGenerator/data/../datagenerator_realistic.py:350: RuntimeWarning: invalid value encountered in sqrt\n",
      "  zmin=np.maximum(0.2/mother.mom.p,0.5*(1-np.sqrt(1-(m/p)**2)))\n",
      "/nobackup/users/sangeon/condas/anaconda3/envs/studies/lib/python3.8/site-packages/pylorentz/__init__.py:34: VisibleDeprecationWarning: Creating an ndarray from ragged nested sequences (which is a list-or-tuple of lists-or-tuples-or ndarrays with different lengths or shapes) is deprecated. If you meant to do this, you must specify 'dtype=object' when creating the ndarray.\n",
      "  self._values = np.array(list(x))\n",
      "/home/sangeon/ToyJetGenerator/data/../datagenerator_realistic.py:320: RuntimeWarning: invalid value encountered in sqrt\n",
      "  return np.arctan(np.sqrt(num/den))\n",
      "/home/sangeon/ToyJetGenerator/data/../datagenerator_realistic.py:350: RuntimeWarning: invalid value encountered in sqrt\n",
      "  zmin=np.maximum(0.2/mother.mom.p,0.5*(1-np.sqrt(1-(m/p)**2)))\n",
      "/home/sangeon/ToyJetGenerator/data/../datagenerator_realistic.py:320: RuntimeWarning: invalid value encountered in sqrt\n",
      "  return np.arctan(np.sqrt(num/den))\n",
      "/home/sangeon/ToyJetGenerator/data/../datagenerator_realistic.py:320: RuntimeWarning: invalid value encountered in sqrt\n",
      "  return np.arctan(np.sqrt(num/den))\n",
      "/nobackup/users/sangeon/condas/anaconda3/envs/studies/lib/python3.8/site-packages/pylorentz/__init__.py:34: VisibleDeprecationWarning: Creating an ndarray from ragged nested sequences (which is a list-or-tuple of lists-or-tuples-or ndarrays with different lengths or shapes) is deprecated. If you meant to do this, you must specify 'dtype=object' when creating the ndarray.\n",
      "  self._values = np.array(list(x))\n",
      "/nobackup/users/sangeon/condas/anaconda3/envs/studies/lib/python3.8/site-packages/pylorentz/__init__.py:34: VisibleDeprecationWarning: Creating an ndarray from ragged nested sequences (which is a list-or-tuple of lists-or-tuples-or ndarrays with different lengths or shapes) is deprecated. If you meant to do this, you must specify 'dtype=object' when creating the ndarray.\n",
      "  self._values = np.array(list(x))\n",
      "/home/sangeon/ToyJetGenerator/data/../datagenerator_realistic.py:320: RuntimeWarning: invalid value encountered in sqrt\n",
      "  return np.arctan(np.sqrt(num/den))\n",
      "/nobackup/users/sangeon/condas/anaconda3/envs/studies/lib/python3.8/site-packages/pylorentz/__init__.py:34: VisibleDeprecationWarning: Creating an ndarray from ragged nested sequences (which is a list-or-tuple of lists-or-tuples-or ndarrays with different lengths or shapes) is deprecated. If you meant to do this, you must specify 'dtype=object' when creating the ndarray.\n",
      "  self._values = np.array(list(x))\n",
      "/home/sangeon/ToyJetGenerator/data/../datagenerator_realistic.py:350: RuntimeWarning: invalid value encountered in sqrt\n",
      "  zmin=np.maximum(0.2/mother.mom.p,0.5*(1-np.sqrt(1-(m/p)**2)))\n",
      "/home/sangeon/ToyJetGenerator/data/../datagenerator_realistic.py:350: RuntimeWarning: invalid value encountered in sqrt\n",
      "  zmin=np.maximum(0.2/mother.mom.p,0.5*(1-np.sqrt(1-(m/p)**2)))\n",
      " 13%|█▎        | 63/479 [3:47:55<26:06:26, 225.93s/it]"
     ]
    },
    {
     "name": "stdout",
     "output_type": "stream",
     "text": [
      "time:  243.62418389320374\n"
     ]
    },
    {
     "name": "stderr",
     "output_type": "stream",
     "text": [
      "/home/sangeon/ToyJetGenerator/data/../datagenerator_realistic.py:350: RuntimeWarning: invalid value encountered in sqrt\n",
      "  zmin=np.maximum(0.2/mother.mom.p,0.5*(1-np.sqrt(1-(m/p)**2)))\n",
      "/home/sangeon/ToyJetGenerator/data/../datagenerator_realistic.py:320: RuntimeWarning: invalid value encountered in sqrt\n",
      "  return np.arctan(np.sqrt(num/den))\n",
      "/home/sangeon/ToyJetGenerator/data/../datagenerator_realistic.py:320: RuntimeWarning: invalid value encountered in sqrt\n",
      "  return np.arctan(np.sqrt(num/den))\n",
      "/nobackup/users/sangeon/condas/anaconda3/envs/studies/lib/python3.8/site-packages/pylorentz/__init__.py:34: VisibleDeprecationWarning: Creating an ndarray from ragged nested sequences (which is a list-or-tuple of lists-or-tuples-or ndarrays with different lengths or shapes) is deprecated. If you meant to do this, you must specify 'dtype=object' when creating the ndarray.\n",
      "  self._values = np.array(list(x))\n",
      "/home/sangeon/ToyJetGenerator/data/../datagenerator_realistic.py:320: RuntimeWarning: invalid value encountered in sqrt\n",
      "  return np.arctan(np.sqrt(num/den))\n",
      "/home/sangeon/ToyJetGenerator/data/../datagenerator_realistic.py:320: RuntimeWarning: invalid value encountered in sqrt\n",
      "  return np.arctan(np.sqrt(num/den))\n",
      "/nobackup/users/sangeon/condas/anaconda3/envs/studies/lib/python3.8/site-packages/pylorentz/__init__.py:34: VisibleDeprecationWarning: Creating an ndarray from ragged nested sequences (which is a list-or-tuple of lists-or-tuples-or ndarrays with different lengths or shapes) is deprecated. If you meant to do this, you must specify 'dtype=object' when creating the ndarray.\n",
      "  self._values = np.array(list(x))\n",
      "/nobackup/users/sangeon/condas/anaconda3/envs/studies/lib/python3.8/site-packages/pylorentz/__init__.py:34: VisibleDeprecationWarning: Creating an ndarray from ragged nested sequences (which is a list-or-tuple of lists-or-tuples-or ndarrays with different lengths or shapes) is deprecated. If you meant to do this, you must specify 'dtype=object' when creating the ndarray.\n",
      "  self._values = np.array(list(x))\n",
      "/nobackup/users/sangeon/condas/anaconda3/envs/studies/lib/python3.8/site-packages/pylorentz/__init__.py:34: VisibleDeprecationWarning: Creating an ndarray from ragged nested sequences (which is a list-or-tuple of lists-or-tuples-or ndarrays with different lengths or shapes) is deprecated. If you meant to do this, you must specify 'dtype=object' when creating the ndarray.\n",
      "  self._values = np.array(list(x))\n",
      "/home/sangeon/ToyJetGenerator/data/../datagenerator_realistic.py:350: RuntimeWarning: invalid value encountered in sqrt\n",
      "  zmin=np.maximum(0.2/mother.mom.p,0.5*(1-np.sqrt(1-(m/p)**2)))\n",
      "/home/sangeon/ToyJetGenerator/data/../datagenerator_realistic.py:350: RuntimeWarning: invalid value encountered in sqrt\n",
      "  zmin=np.maximum(0.2/mother.mom.p,0.5*(1-np.sqrt(1-(m/p)**2)))\n",
      "/home/sangeon/ToyJetGenerator/data/../datagenerator_realistic.py:350: RuntimeWarning: invalid value encountered in sqrt\n",
      "  zmin=np.maximum(0.2/mother.mom.p,0.5*(1-np.sqrt(1-(m/p)**2)))\n",
      " 13%|█▎        | 64/479 [3:51:29<25:37:55, 222.35s/it]"
     ]
    },
    {
     "name": "stdout",
     "output_type": "stream",
     "text": [
      "time:  214.0033564567566\n"
     ]
    },
    {
     "name": "stderr",
     "output_type": "stream",
     "text": [
      "/home/sangeon/ToyJetGenerator/data/../datagenerator_realistic.py:350: RuntimeWarning: invalid value encountered in sqrt\n",
      "  zmin=np.maximum(0.2/mother.mom.p,0.5*(1-np.sqrt(1-(m/p)**2)))\n",
      "/home/sangeon/ToyJetGenerator/data/../datagenerator_realistic.py:320: RuntimeWarning: invalid value encountered in sqrt\n",
      "  return np.arctan(np.sqrt(num/den))\n",
      "/nobackup/users/sangeon/condas/anaconda3/envs/studies/lib/python3.8/site-packages/pylorentz/__init__.py:34: VisibleDeprecationWarning: Creating an ndarray from ragged nested sequences (which is a list-or-tuple of lists-or-tuples-or ndarrays with different lengths or shapes) is deprecated. If you meant to do this, you must specify 'dtype=object' when creating the ndarray.\n",
      "  self._values = np.array(list(x))\n",
      "/home/sangeon/ToyJetGenerator/data/../datagenerator_realistic.py:320: RuntimeWarning: invalid value encountered in sqrt\n",
      "  return np.arctan(np.sqrt(num/den))\n",
      "/nobackup/users/sangeon/condas/anaconda3/envs/studies/lib/python3.8/site-packages/pylorentz/__init__.py:34: VisibleDeprecationWarning: Creating an ndarray from ragged nested sequences (which is a list-or-tuple of lists-or-tuples-or ndarrays with different lengths or shapes) is deprecated. If you meant to do this, you must specify 'dtype=object' when creating the ndarray.\n",
      "  self._values = np.array(list(x))\n",
      "/nobackup/users/sangeon/condas/anaconda3/envs/studies/lib/python3.8/site-packages/pylorentz/__init__.py:34: VisibleDeprecationWarning: Creating an ndarray from ragged nested sequences (which is a list-or-tuple of lists-or-tuples-or ndarrays with different lengths or shapes) is deprecated. If you meant to do this, you must specify 'dtype=object' when creating the ndarray.\n",
      "  self._values = np.array(list(x))\n",
      "/nobackup/users/sangeon/condas/anaconda3/envs/studies/lib/python3.8/site-packages/pylorentz/__init__.py:34: VisibleDeprecationWarning: Creating an ndarray from ragged nested sequences (which is a list-or-tuple of lists-or-tuples-or ndarrays with different lengths or shapes) is deprecated. If you meant to do this, you must specify 'dtype=object' when creating the ndarray.\n",
      "  self._values = np.array(list(x))\n",
      "/home/sangeon/ToyJetGenerator/data/../datagenerator_realistic.py:320: RuntimeWarning: invalid value encountered in sqrt\n",
      "  return np.arctan(np.sqrt(num/den))\n",
      "/home/sangeon/ToyJetGenerator/data/../datagenerator_realistic.py:320: RuntimeWarning: invalid value encountered in sqrt\n",
      "  return np.arctan(np.sqrt(num/den))\n",
      "/home/sangeon/ToyJetGenerator/data/../datagenerator_realistic.py:350: RuntimeWarning: invalid value encountered in sqrt\n",
      "  zmin=np.maximum(0.2/mother.mom.p,0.5*(1-np.sqrt(1-(m/p)**2)))\n",
      "/home/sangeon/ToyJetGenerator/data/../datagenerator_realistic.py:350: RuntimeWarning: invalid value encountered in sqrt\n",
      "  zmin=np.maximum(0.2/mother.mom.p,0.5*(1-np.sqrt(1-(m/p)**2)))\n",
      "/home/sangeon/ToyJetGenerator/data/../datagenerator_realistic.py:350: RuntimeWarning: invalid value encountered in sqrt\n",
      "  zmin=np.maximum(0.2/mother.mom.p,0.5*(1-np.sqrt(1-(m/p)**2)))\n",
      " 14%|█▎        | 65/479 [3:55:01<25:13:51, 219.40s/it]"
     ]
    },
    {
     "name": "stdout",
     "output_type": "stream",
     "text": [
      "time:  212.51119756698608\n"
     ]
    },
    {
     "name": "stderr",
     "output_type": "stream",
     "text": [
      "/home/sangeon/ToyJetGenerator/data/../datagenerator_realistic.py:320: RuntimeWarning: invalid value encountered in sqrt\n",
      "  return np.arctan(np.sqrt(num/den))\n",
      "/home/sangeon/ToyJetGenerator/data/../datagenerator_realistic.py:320: RuntimeWarning: invalid value encountered in sqrt\n",
      "  return np.arctan(np.sqrt(num/den))\n",
      "/home/sangeon/ToyJetGenerator/data/../datagenerator_realistic.py:320: RuntimeWarning: invalid value encountered in sqrt\n",
      "  return np.arctan(np.sqrt(num/den))\n",
      "/nobackup/users/sangeon/condas/anaconda3/envs/studies/lib/python3.8/site-packages/pylorentz/__init__.py:34: VisibleDeprecationWarning: Creating an ndarray from ragged nested sequences (which is a list-or-tuple of lists-or-tuples-or ndarrays with different lengths or shapes) is deprecated. If you meant to do this, you must specify 'dtype=object' when creating the ndarray.\n",
      "  self._values = np.array(list(x))\n",
      "/home/sangeon/ToyJetGenerator/data/../datagenerator_realistic.py:320: RuntimeWarning: invalid value encountered in sqrt\n",
      "  return np.arctan(np.sqrt(num/den))\n",
      "/home/sangeon/ToyJetGenerator/data/../datagenerator_realistic.py:350: RuntimeWarning: invalid value encountered in sqrt\n",
      "  zmin=np.maximum(0.2/mother.mom.p,0.5*(1-np.sqrt(1-(m/p)**2)))\n",
      "/nobackup/users/sangeon/condas/anaconda3/envs/studies/lib/python3.8/site-packages/pylorentz/__init__.py:34: VisibleDeprecationWarning: Creating an ndarray from ragged nested sequences (which is a list-or-tuple of lists-or-tuples-or ndarrays with different lengths or shapes) is deprecated. If you meant to do this, you must specify 'dtype=object' when creating the ndarray.\n",
      "  self._values = np.array(list(x))\n",
      "/nobackup/users/sangeon/condas/anaconda3/envs/studies/lib/python3.8/site-packages/pylorentz/__init__.py:34: VisibleDeprecationWarning: Creating an ndarray from ragged nested sequences (which is a list-or-tuple of lists-or-tuples-or ndarrays with different lengths or shapes) is deprecated. If you meant to do this, you must specify 'dtype=object' when creating the ndarray.\n",
      "  self._values = np.array(list(x))\n",
      "/home/sangeon/ToyJetGenerator/data/../datagenerator_realistic.py:350: RuntimeWarning: invalid value encountered in sqrt\n",
      "  zmin=np.maximum(0.2/mother.mom.p,0.5*(1-np.sqrt(1-(m/p)**2)))\n",
      "/home/sangeon/ToyJetGenerator/data/../datagenerator_realistic.py:350: RuntimeWarning: invalid value encountered in sqrt\n",
      "  zmin=np.maximum(0.2/mother.mom.p,0.5*(1-np.sqrt(1-(m/p)**2)))\n",
      "/nobackup/users/sangeon/condas/anaconda3/envs/studies/lib/python3.8/site-packages/pylorentz/__init__.py:34: VisibleDeprecationWarning: Creating an ndarray from ragged nested sequences (which is a list-or-tuple of lists-or-tuples-or ndarrays with different lengths or shapes) is deprecated. If you meant to do this, you must specify 'dtype=object' when creating the ndarray.\n",
      "  self._values = np.array(list(x))\n",
      "/home/sangeon/ToyJetGenerator/data/../datagenerator_realistic.py:350: RuntimeWarning: invalid value encountered in sqrt\n",
      "  zmin=np.maximum(0.2/mother.mom.p,0.5*(1-np.sqrt(1-(m/p)**2)))\n",
      " 14%|█▍        | 66/479 [3:58:39<25:06:32, 218.87s/it]"
     ]
    },
    {
     "name": "stdout",
     "output_type": "stream",
     "text": [
      "time:  217.62720823287964\n"
     ]
    },
    {
     "name": "stderr",
     "output_type": "stream",
     "text": [
      "/home/sangeon/ToyJetGenerator/data/../datagenerator_realistic.py:320: RuntimeWarning: invalid value encountered in sqrt\n",
      "  return np.arctan(np.sqrt(num/den))\n",
      "/home/sangeon/ToyJetGenerator/data/../datagenerator_realistic.py:350: RuntimeWarning: invalid value encountered in sqrt\n",
      "  zmin=np.maximum(0.2/mother.mom.p,0.5*(1-np.sqrt(1-(m/p)**2)))\n",
      "/home/sangeon/ToyJetGenerator/data/../datagenerator_realistic.py:350: RuntimeWarning: invalid value encountered in sqrt\n",
      "  zmin=np.maximum(0.2/mother.mom.p,0.5*(1-np.sqrt(1-(m/p)**2)))\n",
      "/home/sangeon/ToyJetGenerator/data/../datagenerator_realistic.py:320: RuntimeWarning: invalid value encountered in sqrt\n",
      "  return np.arctan(np.sqrt(num/den))\n",
      "/nobackup/users/sangeon/condas/anaconda3/envs/studies/lib/python3.8/site-packages/pylorentz/__init__.py:34: VisibleDeprecationWarning: Creating an ndarray from ragged nested sequences (which is a list-or-tuple of lists-or-tuples-or ndarrays with different lengths or shapes) is deprecated. If you meant to do this, you must specify 'dtype=object' when creating the ndarray.\n",
      "  self._values = np.array(list(x))\n",
      "/home/sangeon/ToyJetGenerator/data/../datagenerator_realistic.py:320: RuntimeWarning: invalid value encountered in sqrt\n",
      "  return np.arctan(np.sqrt(num/den))\n",
      "/nobackup/users/sangeon/condas/anaconda3/envs/studies/lib/python3.8/site-packages/pylorentz/__init__.py:34: VisibleDeprecationWarning: Creating an ndarray from ragged nested sequences (which is a list-or-tuple of lists-or-tuples-or ndarrays with different lengths or shapes) is deprecated. If you meant to do this, you must specify 'dtype=object' when creating the ndarray.\n",
      "  self._values = np.array(list(x))\n",
      "/nobackup/users/sangeon/condas/anaconda3/envs/studies/lib/python3.8/site-packages/pylorentz/__init__.py:34: VisibleDeprecationWarning: Creating an ndarray from ragged nested sequences (which is a list-or-tuple of lists-or-tuples-or ndarrays with different lengths or shapes) is deprecated. If you meant to do this, you must specify 'dtype=object' when creating the ndarray.\n",
      "  self._values = np.array(list(x))\n",
      "/home/sangeon/ToyJetGenerator/data/../datagenerator_realistic.py:320: RuntimeWarning: invalid value encountered in sqrt\n",
      "  return np.arctan(np.sqrt(num/den))\n",
      "/nobackup/users/sangeon/condas/anaconda3/envs/studies/lib/python3.8/site-packages/pylorentz/__init__.py:34: VisibleDeprecationWarning: Creating an ndarray from ragged nested sequences (which is a list-or-tuple of lists-or-tuples-or ndarrays with different lengths or shapes) is deprecated. If you meant to do this, you must specify 'dtype=object' when creating the ndarray.\n",
      "  self._values = np.array(list(x))\n",
      "/home/sangeon/ToyJetGenerator/data/../datagenerator_realistic.py:350: RuntimeWarning: invalid value encountered in sqrt\n",
      "  zmin=np.maximum(0.2/mother.mom.p,0.5*(1-np.sqrt(1-(m/p)**2)))\n",
      "/home/sangeon/ToyJetGenerator/data/../datagenerator_realistic.py:350: RuntimeWarning: invalid value encountered in sqrt\n",
      "  zmin=np.maximum(0.2/mother.mom.p,0.5*(1-np.sqrt(1-(m/p)**2)))\n",
      " 14%|█▍        | 67/479 [4:02:12<24:52:15, 217.32s/it]"
     ]
    },
    {
     "name": "stdout",
     "output_type": "stream",
     "text": [
      "time:  213.70647716522217\n"
     ]
    },
    {
     "name": "stderr",
     "output_type": "stream",
     "text": [
      "/home/sangeon/ToyJetGenerator/data/../datagenerator_realistic.py:320: RuntimeWarning: invalid value encountered in sqrt\n",
      "  return np.arctan(np.sqrt(num/den))\n",
      "/home/sangeon/ToyJetGenerator/data/../datagenerator_realistic.py:320: RuntimeWarning: invalid value encountered in sqrt\n",
      "  return np.arctan(np.sqrt(num/den))\n",
      "/home/sangeon/ToyJetGenerator/data/../datagenerator_realistic.py:320: RuntimeWarning: invalid value encountered in sqrt\n",
      "  return np.arctan(np.sqrt(num/den))\n",
      "/home/sangeon/ToyJetGenerator/data/../datagenerator_realistic.py:320: RuntimeWarning: invalid value encountered in sqrt\n",
      "  return np.arctan(np.sqrt(num/den))\n",
      "/nobackup/users/sangeon/condas/anaconda3/envs/studies/lib/python3.8/site-packages/pylorentz/__init__.py:34: VisibleDeprecationWarning: Creating an ndarray from ragged nested sequences (which is a list-or-tuple of lists-or-tuples-or ndarrays with different lengths or shapes) is deprecated. If you meant to do this, you must specify 'dtype=object' when creating the ndarray.\n",
      "  self._values = np.array(list(x))\n",
      "/nobackup/users/sangeon/condas/anaconda3/envs/studies/lib/python3.8/site-packages/pylorentz/__init__.py:34: VisibleDeprecationWarning: Creating an ndarray from ragged nested sequences (which is a list-or-tuple of lists-or-tuples-or ndarrays with different lengths or shapes) is deprecated. If you meant to do this, you must specify 'dtype=object' when creating the ndarray.\n",
      "  self._values = np.array(list(x))\n",
      "/nobackup/users/sangeon/condas/anaconda3/envs/studies/lib/python3.8/site-packages/pylorentz/__init__.py:34: VisibleDeprecationWarning: Creating an ndarray from ragged nested sequences (which is a list-or-tuple of lists-or-tuples-or ndarrays with different lengths or shapes) is deprecated. If you meant to do this, you must specify 'dtype=object' when creating the ndarray.\n",
      "  self._values = np.array(list(x))\n",
      "/nobackup/users/sangeon/condas/anaconda3/envs/studies/lib/python3.8/site-packages/pylorentz/__init__.py:34: VisibleDeprecationWarning: Creating an ndarray from ragged nested sequences (which is a list-or-tuple of lists-or-tuples-or ndarrays with different lengths or shapes) is deprecated. If you meant to do this, you must specify 'dtype=object' when creating the ndarray.\n",
      "  self._values = np.array(list(x))\n",
      "/home/sangeon/ToyJetGenerator/data/../datagenerator_realistic.py:350: RuntimeWarning: invalid value encountered in sqrt\n",
      "  zmin=np.maximum(0.2/mother.mom.p,0.5*(1-np.sqrt(1-(m/p)**2)))\n",
      "/home/sangeon/ToyJetGenerator/data/../datagenerator_realistic.py:350: RuntimeWarning: invalid value encountered in sqrt\n",
      "  zmin=np.maximum(0.2/mother.mom.p,0.5*(1-np.sqrt(1-(m/p)**2)))\n",
      "/home/sangeon/ToyJetGenerator/data/../datagenerator_realistic.py:350: RuntimeWarning: invalid value encountered in sqrt\n",
      "  zmin=np.maximum(0.2/mother.mom.p,0.5*(1-np.sqrt(1-(m/p)**2)))\n",
      "/home/sangeon/ToyJetGenerator/data/../datagenerator_realistic.py:350: RuntimeWarning: invalid value encountered in sqrt\n",
      "  zmin=np.maximum(0.2/mother.mom.p,0.5*(1-np.sqrt(1-(m/p)**2)))\n",
      " 14%|█▍        | 68/479 [4:05:40<24:28:05, 214.32s/it]"
     ]
    },
    {
     "name": "stdout",
     "output_type": "stream",
     "text": [
      "time:  207.31640195846558\n"
     ]
    },
    {
     "name": "stderr",
     "output_type": "stream",
     "text": [
      "/home/sangeon/ToyJetGenerator/data/../datagenerator_realistic.py:320: RuntimeWarning: invalid value encountered in sqrt\n",
      "  return np.arctan(np.sqrt(num/den))\n",
      "/home/sangeon/ToyJetGenerator/data/../datagenerator_realistic.py:320: RuntimeWarning: invalid value encountered in sqrt\n",
      "  return np.arctan(np.sqrt(num/den))\n",
      "/home/sangeon/ToyJetGenerator/data/../datagenerator_realistic.py:350: RuntimeWarning: invalid value encountered in sqrt\n",
      "  zmin=np.maximum(0.2/mother.mom.p,0.5*(1-np.sqrt(1-(m/p)**2)))\n",
      "/home/sangeon/ToyJetGenerator/data/../datagenerator_realistic.py:320: RuntimeWarning: invalid value encountered in sqrt\n",
      "  return np.arctan(np.sqrt(num/den))\n",
      "/nobackup/users/sangeon/condas/anaconda3/envs/studies/lib/python3.8/site-packages/pylorentz/__init__.py:34: VisibleDeprecationWarning: Creating an ndarray from ragged nested sequences (which is a list-or-tuple of lists-or-tuples-or ndarrays with different lengths or shapes) is deprecated. If you meant to do this, you must specify 'dtype=object' when creating the ndarray.\n",
      "  self._values = np.array(list(x))\n",
      "/nobackup/users/sangeon/condas/anaconda3/envs/studies/lib/python3.8/site-packages/pylorentz/__init__.py:34: VisibleDeprecationWarning: Creating an ndarray from ragged nested sequences (which is a list-or-tuple of lists-or-tuples-or ndarrays with different lengths or shapes) is deprecated. If you meant to do this, you must specify 'dtype=object' when creating the ndarray.\n",
      "  self._values = np.array(list(x))\n",
      "/home/sangeon/ToyJetGenerator/data/../datagenerator_realistic.py:350: RuntimeWarning: invalid value encountered in sqrt\n",
      "  zmin=np.maximum(0.2/mother.mom.p,0.5*(1-np.sqrt(1-(m/p)**2)))\n",
      "/home/sangeon/ToyJetGenerator/data/../datagenerator_realistic.py:320: RuntimeWarning: invalid value encountered in sqrt\n",
      "  return np.arctan(np.sqrt(num/den))\n",
      "/nobackup/users/sangeon/condas/anaconda3/envs/studies/lib/python3.8/site-packages/pylorentz/__init__.py:34: VisibleDeprecationWarning: Creating an ndarray from ragged nested sequences (which is a list-or-tuple of lists-or-tuples-or ndarrays with different lengths or shapes) is deprecated. If you meant to do this, you must specify 'dtype=object' when creating the ndarray.\n",
      "  self._values = np.array(list(x))\n",
      "/nobackup/users/sangeon/condas/anaconda3/envs/studies/lib/python3.8/site-packages/pylorentz/__init__.py:34: VisibleDeprecationWarning: Creating an ndarray from ragged nested sequences (which is a list-or-tuple of lists-or-tuples-or ndarrays with different lengths or shapes) is deprecated. If you meant to do this, you must specify 'dtype=object' when creating the ndarray.\n",
      "  self._values = np.array(list(x))\n",
      "/home/sangeon/ToyJetGenerator/data/../datagenerator_realistic.py:350: RuntimeWarning: invalid value encountered in sqrt\n",
      "  zmin=np.maximum(0.2/mother.mom.p,0.5*(1-np.sqrt(1-(m/p)**2)))\n",
      "/home/sangeon/ToyJetGenerator/data/../datagenerator_realistic.py:350: RuntimeWarning: invalid value encountered in sqrt\n",
      "  zmin=np.maximum(0.2/mother.mom.p,0.5*(1-np.sqrt(1-(m/p)**2)))\n",
      " 14%|█▍        | 69/479 [4:08:54<23:42:19, 208.15s/it]"
     ]
    },
    {
     "name": "stdout",
     "output_type": "stream",
     "text": [
      "time:  193.73991346359253\n"
     ]
    },
    {
     "name": "stderr",
     "output_type": "stream",
     "text": [
      "/home/sangeon/ToyJetGenerator/data/../datagenerator_realistic.py:320: RuntimeWarning: invalid value encountered in sqrt\n",
      "  return np.arctan(np.sqrt(num/den))\n",
      "/home/sangeon/ToyJetGenerator/data/../datagenerator_realistic.py:320: RuntimeWarning: invalid value encountered in sqrt\n",
      "  return np.arctan(np.sqrt(num/den))\n",
      "/nobackup/users/sangeon/condas/anaconda3/envs/studies/lib/python3.8/site-packages/pylorentz/__init__.py:34: VisibleDeprecationWarning: Creating an ndarray from ragged nested sequences (which is a list-or-tuple of lists-or-tuples-or ndarrays with different lengths or shapes) is deprecated. If you meant to do this, you must specify 'dtype=object' when creating the ndarray.\n",
      "  self._values = np.array(list(x))\n",
      "/home/sangeon/ToyJetGenerator/data/../datagenerator_realistic.py:320: RuntimeWarning: invalid value encountered in sqrt\n",
      "  return np.arctan(np.sqrt(num/den))\n",
      "/home/sangeon/ToyJetGenerator/data/../datagenerator_realistic.py:320: RuntimeWarning: invalid value encountered in sqrt\n",
      "  return np.arctan(np.sqrt(num/den))\n",
      "/home/sangeon/ToyJetGenerator/data/../datagenerator_realistic.py:350: RuntimeWarning: invalid value encountered in sqrt\n",
      "  zmin=np.maximum(0.2/mother.mom.p,0.5*(1-np.sqrt(1-(m/p)**2)))\n",
      "/nobackup/users/sangeon/condas/anaconda3/envs/studies/lib/python3.8/site-packages/pylorentz/__init__.py:34: VisibleDeprecationWarning: Creating an ndarray from ragged nested sequences (which is a list-or-tuple of lists-or-tuples-or ndarrays with different lengths or shapes) is deprecated. If you meant to do this, you must specify 'dtype=object' when creating the ndarray.\n",
      "  self._values = np.array(list(x))\n",
      "/nobackup/users/sangeon/condas/anaconda3/envs/studies/lib/python3.8/site-packages/pylorentz/__init__.py:34: VisibleDeprecationWarning: Creating an ndarray from ragged nested sequences (which is a list-or-tuple of lists-or-tuples-or ndarrays with different lengths or shapes) is deprecated. If you meant to do this, you must specify 'dtype=object' when creating the ndarray.\n",
      "  self._values = np.array(list(x))\n",
      "/home/sangeon/ToyJetGenerator/data/../datagenerator_realistic.py:350: RuntimeWarning: invalid value encountered in sqrt\n",
      "  zmin=np.maximum(0.2/mother.mom.p,0.5*(1-np.sqrt(1-(m/p)**2)))\n",
      "/home/sangeon/ToyJetGenerator/data/../datagenerator_realistic.py:350: RuntimeWarning: invalid value encountered in sqrt\n",
      "  zmin=np.maximum(0.2/mother.mom.p,0.5*(1-np.sqrt(1-(m/p)**2)))\n",
      "/nobackup/users/sangeon/condas/anaconda3/envs/studies/lib/python3.8/site-packages/pylorentz/__init__.py:34: VisibleDeprecationWarning: Creating an ndarray from ragged nested sequences (which is a list-or-tuple of lists-or-tuples-or ndarrays with different lengths or shapes) is deprecated. If you meant to do this, you must specify 'dtype=object' when creating the ndarray.\n",
      "  self._values = np.array(list(x))\n",
      "/home/sangeon/ToyJetGenerator/data/../datagenerator_realistic.py:350: RuntimeWarning: invalid value encountered in sqrt\n",
      "  zmin=np.maximum(0.2/mother.mom.p,0.5*(1-np.sqrt(1-(m/p)**2)))\n",
      " 15%|█▍        | 70/479 [4:12:22<23:39:39, 208.26s/it]"
     ]
    },
    {
     "name": "stdout",
     "output_type": "stream",
     "text": [
      "time:  208.5382628440857\n"
     ]
    },
    {
     "name": "stderr",
     "output_type": "stream",
     "text": [
      "/home/sangeon/ToyJetGenerator/data/../datagenerator_realistic.py:320: RuntimeWarning: invalid value encountered in sqrt\n",
      "  return np.arctan(np.sqrt(num/den))\n",
      "/home/sangeon/ToyJetGenerator/data/../datagenerator_realistic.py:320: RuntimeWarning: invalid value encountered in sqrt\n",
      "  return np.arctan(np.sqrt(num/den))\n",
      "/home/sangeon/ToyJetGenerator/data/../datagenerator_realistic.py:320: RuntimeWarning: invalid value encountered in sqrt\n",
      "  return np.arctan(np.sqrt(num/den))\n",
      "/home/sangeon/ToyJetGenerator/data/../datagenerator_realistic.py:320: RuntimeWarning: invalid value encountered in sqrt\n",
      "  return np.arctan(np.sqrt(num/den))\n",
      "/nobackup/users/sangeon/condas/anaconda3/envs/studies/lib/python3.8/site-packages/pylorentz/__init__.py:34: VisibleDeprecationWarning: Creating an ndarray from ragged nested sequences (which is a list-or-tuple of lists-or-tuples-or ndarrays with different lengths or shapes) is deprecated. If you meant to do this, you must specify 'dtype=object' when creating the ndarray.\n",
      "  self._values = np.array(list(x))\n",
      "/nobackup/users/sangeon/condas/anaconda3/envs/studies/lib/python3.8/site-packages/pylorentz/__init__.py:34: VisibleDeprecationWarning: Creating an ndarray from ragged nested sequences (which is a list-or-tuple of lists-or-tuples-or ndarrays with different lengths or shapes) is deprecated. If you meant to do this, you must specify 'dtype=object' when creating the ndarray.\n",
      "  self._values = np.array(list(x))\n",
      "/nobackup/users/sangeon/condas/anaconda3/envs/studies/lib/python3.8/site-packages/pylorentz/__init__.py:34: VisibleDeprecationWarning: Creating an ndarray from ragged nested sequences (which is a list-or-tuple of lists-or-tuples-or ndarrays with different lengths or shapes) is deprecated. If you meant to do this, you must specify 'dtype=object' when creating the ndarray.\n",
      "  self._values = np.array(list(x))\n",
      "/nobackup/users/sangeon/condas/anaconda3/envs/studies/lib/python3.8/site-packages/pylorentz/__init__.py:34: VisibleDeprecationWarning: Creating an ndarray from ragged nested sequences (which is a list-or-tuple of lists-or-tuples-or ndarrays with different lengths or shapes) is deprecated. If you meant to do this, you must specify 'dtype=object' when creating the ndarray.\n",
      "  self._values = np.array(list(x))\n",
      "/home/sangeon/ToyJetGenerator/data/../datagenerator_realistic.py:350: RuntimeWarning: invalid value encountered in sqrt\n",
      "  zmin=np.maximum(0.2/mother.mom.p,0.5*(1-np.sqrt(1-(m/p)**2)))\n",
      "/home/sangeon/ToyJetGenerator/data/../datagenerator_realistic.py:350: RuntimeWarning: invalid value encountered in sqrt\n",
      "  zmin=np.maximum(0.2/mother.mom.p,0.5*(1-np.sqrt(1-(m/p)**2)))\n",
      "/home/sangeon/ToyJetGenerator/data/../datagenerator_realistic.py:350: RuntimeWarning: invalid value encountered in sqrt\n",
      "  zmin=np.maximum(0.2/mother.mom.p,0.5*(1-np.sqrt(1-(m/p)**2)))\n",
      "/home/sangeon/ToyJetGenerator/data/../datagenerator_realistic.py:350: RuntimeWarning: invalid value encountered in sqrt\n",
      "  zmin=np.maximum(0.2/mother.mom.p,0.5*(1-np.sqrt(1-(m/p)**2)))\n",
      " 15%|█▍        | 71/479 [4:15:59<23:53:23, 210.79s/it]"
     ]
    },
    {
     "name": "stdout",
     "output_type": "stream",
     "text": [
      "time:  216.69139671325684\n"
     ]
    },
    {
     "name": "stderr",
     "output_type": "stream",
     "text": [
      "/home/sangeon/ToyJetGenerator/data/../datagenerator_realistic.py:320: RuntimeWarning: invalid value encountered in sqrt\n",
      "  return np.arctan(np.sqrt(num/den))\n",
      "/nobackup/users/sangeon/condas/anaconda3/envs/studies/lib/python3.8/site-packages/pylorentz/__init__.py:34: VisibleDeprecationWarning: Creating an ndarray from ragged nested sequences (which is a list-or-tuple of lists-or-tuples-or ndarrays with different lengths or shapes) is deprecated. If you meant to do this, you must specify 'dtype=object' when creating the ndarray.\n",
      "  self._values = np.array(list(x))\n",
      "/home/sangeon/ToyJetGenerator/data/../datagenerator_realistic.py:350: RuntimeWarning: invalid value encountered in sqrt\n",
      "  zmin=np.maximum(0.2/mother.mom.p,0.5*(1-np.sqrt(1-(m/p)**2)))\n",
      "/home/sangeon/ToyJetGenerator/data/../datagenerator_realistic.py:320: RuntimeWarning: invalid value encountered in sqrt\n",
      "  return np.arctan(np.sqrt(num/den))\n",
      "/nobackup/users/sangeon/condas/anaconda3/envs/studies/lib/python3.8/site-packages/pylorentz/__init__.py:34: VisibleDeprecationWarning: Creating an ndarray from ragged nested sequences (which is a list-or-tuple of lists-or-tuples-or ndarrays with different lengths or shapes) is deprecated. If you meant to do this, you must specify 'dtype=object' when creating the ndarray.\n",
      "  self._values = np.array(list(x))\n",
      "/nobackup/users/sangeon/condas/anaconda3/envs/studies/lib/python3.8/site-packages/pylorentz/__init__.py:34: VisibleDeprecationWarning: Creating an ndarray from ragged nested sequences (which is a list-or-tuple of lists-or-tuples-or ndarrays with different lengths or shapes) is deprecated. If you meant to do this, you must specify 'dtype=object' when creating the ndarray.\n",
      "  self._values = np.array(list(x))\n",
      "/nobackup/users/sangeon/condas/anaconda3/envs/studies/lib/python3.8/site-packages/pylorentz/__init__.py:34: VisibleDeprecationWarning: Creating an ndarray from ragged nested sequences (which is a list-or-tuple of lists-or-tuples-or ndarrays with different lengths or shapes) is deprecated. If you meant to do this, you must specify 'dtype=object' when creating the ndarray.\n",
      "  self._values = np.array(list(x))\n",
      "/home/sangeon/ToyJetGenerator/data/../datagenerator_realistic.py:320: RuntimeWarning: invalid value encountered in sqrt\n",
      "  return np.arctan(np.sqrt(num/den))\n",
      "/home/sangeon/ToyJetGenerator/data/../datagenerator_realistic.py:320: RuntimeWarning: invalid value encountered in sqrt\n",
      "  return np.arctan(np.sqrt(num/den))\n",
      "/home/sangeon/ToyJetGenerator/data/../datagenerator_realistic.py:350: RuntimeWarning: invalid value encountered in sqrt\n",
      "  zmin=np.maximum(0.2/mother.mom.p,0.5*(1-np.sqrt(1-(m/p)**2)))\n",
      "/home/sangeon/ToyJetGenerator/data/../datagenerator_realistic.py:350: RuntimeWarning: invalid value encountered in sqrt\n",
      "  zmin=np.maximum(0.2/mother.mom.p,0.5*(1-np.sqrt(1-(m/p)**2)))\n",
      "/home/sangeon/ToyJetGenerator/data/../datagenerator_realistic.py:350: RuntimeWarning: invalid value encountered in sqrt\n",
      "  zmin=np.maximum(0.2/mother.mom.p,0.5*(1-np.sqrt(1-(m/p)**2)))\n",
      " 15%|█▌        | 72/479 [4:19:33<23:56:55, 211.83s/it]"
     ]
    },
    {
     "name": "stdout",
     "output_type": "stream",
     "text": [
      "time:  214.25653910636902\n"
     ]
    },
    {
     "name": "stderr",
     "output_type": "stream",
     "text": [
      "/nobackup/users/sangeon/condas/anaconda3/envs/studies/lib/python3.8/site-packages/pylorentz/__init__.py:34: VisibleDeprecationWarning: Creating an ndarray from ragged nested sequences (which is a list-or-tuple of lists-or-tuples-or ndarrays with different lengths or shapes) is deprecated. If you meant to do this, you must specify 'dtype=object' when creating the ndarray.\n",
      "  self._values = np.array(list(x))\n",
      "/home/sangeon/ToyJetGenerator/data/../datagenerator_realistic.py:350: RuntimeWarning: invalid value encountered in sqrt\n",
      "  zmin=np.maximum(0.2/mother.mom.p,0.5*(1-np.sqrt(1-(m/p)**2)))\n",
      "/nobackup/users/sangeon/condas/anaconda3/envs/studies/lib/python3.8/site-packages/pylorentz/__init__.py:34: VisibleDeprecationWarning: Creating an ndarray from ragged nested sequences (which is a list-or-tuple of lists-or-tuples-or ndarrays with different lengths or shapes) is deprecated. If you meant to do this, you must specify 'dtype=object' when creating the ndarray.\n",
      "  self._values = np.array(list(x))\n",
      "/nobackup/users/sangeon/condas/anaconda3/envs/studies/lib/python3.8/site-packages/pylorentz/__init__.py:34: VisibleDeprecationWarning: Creating an ndarray from ragged nested sequences (which is a list-or-tuple of lists-or-tuples-or ndarrays with different lengths or shapes) is deprecated. If you meant to do this, you must specify 'dtype=object' when creating the ndarray.\n",
      "  self._values = np.array(list(x))\n",
      "/home/sangeon/ToyJetGenerator/data/../datagenerator_realistic.py:320: RuntimeWarning: invalid value encountered in sqrt\n",
      "  return np.arctan(np.sqrt(num/den))\n",
      "/home/sangeon/ToyJetGenerator/data/../datagenerator_realistic.py:320: RuntimeWarning: invalid value encountered in sqrt\n",
      "  return np.arctan(np.sqrt(num/den))\n",
      "/home/sangeon/ToyJetGenerator/data/../datagenerator_realistic.py:320: RuntimeWarning: invalid value encountered in sqrt\n",
      "  return np.arctan(np.sqrt(num/den))\n",
      "/home/sangeon/ToyJetGenerator/data/../datagenerator_realistic.py:320: RuntimeWarning: invalid value encountered in sqrt\n",
      "  return np.arctan(np.sqrt(num/den))\n",
      "/nobackup/users/sangeon/condas/anaconda3/envs/studies/lib/python3.8/site-packages/pylorentz/__init__.py:34: VisibleDeprecationWarning: Creating an ndarray from ragged nested sequences (which is a list-or-tuple of lists-or-tuples-or ndarrays with different lengths or shapes) is deprecated. If you meant to do this, you must specify 'dtype=object' when creating the ndarray.\n",
      "  self._values = np.array(list(x))\n",
      "/home/sangeon/ToyJetGenerator/data/../datagenerator_realistic.py:350: RuntimeWarning: invalid value encountered in sqrt\n",
      "  zmin=np.maximum(0.2/mother.mom.p,0.5*(1-np.sqrt(1-(m/p)**2)))\n",
      "/home/sangeon/ToyJetGenerator/data/../datagenerator_realistic.py:350: RuntimeWarning: invalid value encountered in sqrt\n",
      "  zmin=np.maximum(0.2/mother.mom.p,0.5*(1-np.sqrt(1-(m/p)**2)))\n",
      "/home/sangeon/ToyJetGenerator/data/../datagenerator_realistic.py:350: RuntimeWarning: invalid value encountered in sqrt\n",
      "  zmin=np.maximum(0.2/mother.mom.p,0.5*(1-np.sqrt(1-(m/p)**2)))\n",
      " 15%|█▌        | 73/479 [4:23:11<24:06:46, 213.81s/it]"
     ]
    },
    {
     "name": "stdout",
     "output_type": "stream",
     "text": [
      "time:  218.42188501358032\n"
     ]
    },
    {
     "name": "stderr",
     "output_type": "stream",
     "text": [
      "/home/sangeon/ToyJetGenerator/data/../datagenerator_realistic.py:320: RuntimeWarning: invalid value encountered in sqrt\n",
      "  return np.arctan(np.sqrt(num/den))\n",
      "/nobackup/users/sangeon/condas/anaconda3/envs/studies/lib/python3.8/site-packages/pylorentz/__init__.py:34: VisibleDeprecationWarning: Creating an ndarray from ragged nested sequences (which is a list-or-tuple of lists-or-tuples-or ndarrays with different lengths or shapes) is deprecated. If you meant to do this, you must specify 'dtype=object' when creating the ndarray.\n",
      "  self._values = np.array(list(x))\n",
      "/home/sangeon/ToyJetGenerator/data/../datagenerator_realistic.py:320: RuntimeWarning: invalid value encountered in sqrt\n",
      "  return np.arctan(np.sqrt(num/den))\n",
      "/nobackup/users/sangeon/condas/anaconda3/envs/studies/lib/python3.8/site-packages/pylorentz/__init__.py:34: VisibleDeprecationWarning: Creating an ndarray from ragged nested sequences (which is a list-or-tuple of lists-or-tuples-or ndarrays with different lengths or shapes) is deprecated. If you meant to do this, you must specify 'dtype=object' when creating the ndarray.\n",
      "  self._values = np.array(list(x))\n",
      "/nobackup/users/sangeon/condas/anaconda3/envs/studies/lib/python3.8/site-packages/pylorentz/__init__.py:34: VisibleDeprecationWarning: Creating an ndarray from ragged nested sequences (which is a list-or-tuple of lists-or-tuples-or ndarrays with different lengths or shapes) is deprecated. If you meant to do this, you must specify 'dtype=object' when creating the ndarray.\n",
      "  self._values = np.array(list(x))\n",
      "/home/sangeon/ToyJetGenerator/data/../datagenerator_realistic.py:320: RuntimeWarning: invalid value encountered in sqrt\n",
      "  return np.arctan(np.sqrt(num/den))\n",
      "/home/sangeon/ToyJetGenerator/data/../datagenerator_realistic.py:320: RuntimeWarning: invalid value encountered in sqrt\n",
      "  return np.arctan(np.sqrt(num/den))\n",
      "/home/sangeon/ToyJetGenerator/data/../datagenerator_realistic.py:350: RuntimeWarning: invalid value encountered in sqrt\n",
      "  zmin=np.maximum(0.2/mother.mom.p,0.5*(1-np.sqrt(1-(m/p)**2)))\n",
      "/home/sangeon/ToyJetGenerator/data/../datagenerator_realistic.py:350: RuntimeWarning: invalid value encountered in sqrt\n",
      "  zmin=np.maximum(0.2/mother.mom.p,0.5*(1-np.sqrt(1-(m/p)**2)))\n",
      "/home/sangeon/ToyJetGenerator/data/../datagenerator_realistic.py:350: RuntimeWarning: invalid value encountered in sqrt\n",
      "  zmin=np.maximum(0.2/mother.mom.p,0.5*(1-np.sqrt(1-(m/p)**2)))\n",
      "/nobackup/users/sangeon/condas/anaconda3/envs/studies/lib/python3.8/site-packages/pylorentz/__init__.py:34: VisibleDeprecationWarning: Creating an ndarray from ragged nested sequences (which is a list-or-tuple of lists-or-tuples-or ndarrays with different lengths or shapes) is deprecated. If you meant to do this, you must specify 'dtype=object' when creating the ndarray.\n",
      "  self._values = np.array(list(x))\n",
      "/home/sangeon/ToyJetGenerator/data/../datagenerator_realistic.py:350: RuntimeWarning: invalid value encountered in sqrt\n",
      "  zmin=np.maximum(0.2/mother.mom.p,0.5*(1-np.sqrt(1-(m/p)**2)))\n",
      " 15%|█▌        | 74/479 [4:26:42<23:56:50, 212.87s/it]"
     ]
    },
    {
     "name": "stdout",
     "output_type": "stream",
     "text": [
      "time:  210.66486358642578\n"
     ]
    },
    {
     "name": "stderr",
     "output_type": "stream",
     "text": [
      "/nobackup/users/sangeon/condas/anaconda3/envs/studies/lib/python3.8/site-packages/pylorentz/__init__.py:34: VisibleDeprecationWarning: Creating an ndarray from ragged nested sequences (which is a list-or-tuple of lists-or-tuples-or ndarrays with different lengths or shapes) is deprecated. If you meant to do this, you must specify 'dtype=object' when creating the ndarray.\n",
      "  self._values = np.array(list(x))\n",
      "/home/sangeon/ToyJetGenerator/data/../datagenerator_realistic.py:350: RuntimeWarning: invalid value encountered in sqrt\n",
      "  zmin=np.maximum(0.2/mother.mom.p,0.5*(1-np.sqrt(1-(m/p)**2)))\n",
      "/home/sangeon/ToyJetGenerator/data/../datagenerator_realistic.py:320: RuntimeWarning: invalid value encountered in sqrt\n",
      "  return np.arctan(np.sqrt(num/den))\n",
      "/home/sangeon/ToyJetGenerator/data/../datagenerator_realistic.py:320: RuntimeWarning: invalid value encountered in sqrt\n",
      "  return np.arctan(np.sqrt(num/den))\n",
      "/home/sangeon/ToyJetGenerator/data/../datagenerator_realistic.py:320: RuntimeWarning: invalid value encountered in sqrt\n",
      "  return np.arctan(np.sqrt(num/den))\n",
      "/nobackup/users/sangeon/condas/anaconda3/envs/studies/lib/python3.8/site-packages/pylorentz/__init__.py:34: VisibleDeprecationWarning: Creating an ndarray from ragged nested sequences (which is a list-or-tuple of lists-or-tuples-or ndarrays with different lengths or shapes) is deprecated. If you meant to do this, you must specify 'dtype=object' when creating the ndarray.\n",
      "  self._values = np.array(list(x))\n",
      "/nobackup/users/sangeon/condas/anaconda3/envs/studies/lib/python3.8/site-packages/pylorentz/__init__.py:34: VisibleDeprecationWarning: Creating an ndarray from ragged nested sequences (which is a list-or-tuple of lists-or-tuples-or ndarrays with different lengths or shapes) is deprecated. If you meant to do this, you must specify 'dtype=object' when creating the ndarray.\n",
      "  self._values = np.array(list(x))\n",
      "/home/sangeon/ToyJetGenerator/data/../datagenerator_realistic.py:350: RuntimeWarning: invalid value encountered in sqrt\n",
      "  zmin=np.maximum(0.2/mother.mom.p,0.5*(1-np.sqrt(1-(m/p)**2)))\n",
      "/nobackup/users/sangeon/condas/anaconda3/envs/studies/lib/python3.8/site-packages/pylorentz/__init__.py:34: VisibleDeprecationWarning: Creating an ndarray from ragged nested sequences (which is a list-or-tuple of lists-or-tuples-or ndarrays with different lengths or shapes) is deprecated. If you meant to do this, you must specify 'dtype=object' when creating the ndarray.\n",
      "  self._values = np.array(list(x))\n",
      "/home/sangeon/ToyJetGenerator/data/../datagenerator_realistic.py:320: RuntimeWarning: invalid value encountered in sqrt\n",
      "  return np.arctan(np.sqrt(num/den))\n",
      "/home/sangeon/ToyJetGenerator/data/../datagenerator_realistic.py:350: RuntimeWarning: invalid value encountered in sqrt\n",
      "  zmin=np.maximum(0.2/mother.mom.p,0.5*(1-np.sqrt(1-(m/p)**2)))\n",
      "/home/sangeon/ToyJetGenerator/data/../datagenerator_realistic.py:350: RuntimeWarning: invalid value encountered in sqrt\n",
      "  zmin=np.maximum(0.2/mother.mom.p,0.5*(1-np.sqrt(1-(m/p)**2)))\n",
      " 16%|█▌        | 75/479 [4:30:13<23:48:18, 212.12s/it]"
     ]
    },
    {
     "name": "stdout",
     "output_type": "stream",
     "text": [
      "time:  210.39341378211975\n"
     ]
    },
    {
     "name": "stderr",
     "output_type": "stream",
     "text": [
      "/home/sangeon/ToyJetGenerator/data/../datagenerator_realistic.py:320: RuntimeWarning: invalid value encountered in sqrt\n",
      "  return np.arctan(np.sqrt(num/den))\n",
      "/home/sangeon/ToyJetGenerator/data/../datagenerator_realistic.py:320: RuntimeWarning: invalid value encountered in sqrt\n",
      "  return np.arctan(np.sqrt(num/den))\n",
      "/home/sangeon/ToyJetGenerator/data/../datagenerator_realistic.py:320: RuntimeWarning: invalid value encountered in sqrt\n",
      "  return np.arctan(np.sqrt(num/den))\n",
      "/nobackup/users/sangeon/condas/anaconda3/envs/studies/lib/python3.8/site-packages/pylorentz/__init__.py:34: VisibleDeprecationWarning: Creating an ndarray from ragged nested sequences (which is a list-or-tuple of lists-or-tuples-or ndarrays with different lengths or shapes) is deprecated. If you meant to do this, you must specify 'dtype=object' when creating the ndarray.\n",
      "  self._values = np.array(list(x))\n",
      "/home/sangeon/ToyJetGenerator/data/../datagenerator_realistic.py:320: RuntimeWarning: invalid value encountered in sqrt\n",
      "  return np.arctan(np.sqrt(num/den))\n",
      "/home/sangeon/ToyJetGenerator/data/../datagenerator_realistic.py:350: RuntimeWarning: invalid value encountered in sqrt\n",
      "  zmin=np.maximum(0.2/mother.mom.p,0.5*(1-np.sqrt(1-(m/p)**2)))\n",
      "/nobackup/users/sangeon/condas/anaconda3/envs/studies/lib/python3.8/site-packages/pylorentz/__init__.py:34: VisibleDeprecationWarning: Creating an ndarray from ragged nested sequences (which is a list-or-tuple of lists-or-tuples-or ndarrays with different lengths or shapes) is deprecated. If you meant to do this, you must specify 'dtype=object' when creating the ndarray.\n",
      "  self._values = np.array(list(x))\n",
      "/home/sangeon/ToyJetGenerator/data/../datagenerator_realistic.py:350: RuntimeWarning: invalid value encountered in sqrt\n",
      "  zmin=np.maximum(0.2/mother.mom.p,0.5*(1-np.sqrt(1-(m/p)**2)))\n",
      "/nobackup/users/sangeon/condas/anaconda3/envs/studies/lib/python3.8/site-packages/pylorentz/__init__.py:34: VisibleDeprecationWarning: Creating an ndarray from ragged nested sequences (which is a list-or-tuple of lists-or-tuples-or ndarrays with different lengths or shapes) is deprecated. If you meant to do this, you must specify 'dtype=object' when creating the ndarray.\n",
      "  self._values = np.array(list(x))\n",
      "/home/sangeon/ToyJetGenerator/data/../datagenerator_realistic.py:350: RuntimeWarning: invalid value encountered in sqrt\n",
      "  zmin=np.maximum(0.2/mother.mom.p,0.5*(1-np.sqrt(1-(m/p)**2)))\n",
      "/nobackup/users/sangeon/condas/anaconda3/envs/studies/lib/python3.8/site-packages/pylorentz/__init__.py:34: VisibleDeprecationWarning: Creating an ndarray from ragged nested sequences (which is a list-or-tuple of lists-or-tuples-or ndarrays with different lengths or shapes) is deprecated. If you meant to do this, you must specify 'dtype=object' when creating the ndarray.\n",
      "  self._values = np.array(list(x))\n",
      "/home/sangeon/ToyJetGenerator/data/../datagenerator_realistic.py:350: RuntimeWarning: invalid value encountered in sqrt\n",
      "  zmin=np.maximum(0.2/mother.mom.p,0.5*(1-np.sqrt(1-(m/p)**2)))\n",
      " 16%|█▌        | 76/479 [4:33:54<24:04:16, 215.03s/it]"
     ]
    },
    {
     "name": "stdout",
     "output_type": "stream",
     "text": [
      "time:  221.80573415756226\n"
     ]
    },
    {
     "name": "stderr",
     "output_type": "stream",
     "text": [
      "/home/sangeon/ToyJetGenerator/data/../datagenerator_realistic.py:320: RuntimeWarning: invalid value encountered in sqrt\n",
      "  return np.arctan(np.sqrt(num/den))\n",
      "/home/sangeon/ToyJetGenerator/data/../datagenerator_realistic.py:320: RuntimeWarning: invalid value encountered in sqrt\n",
      "  return np.arctan(np.sqrt(num/den))\n",
      "/home/sangeon/ToyJetGenerator/data/../datagenerator_realistic.py:320: RuntimeWarning: invalid value encountered in sqrt\n",
      "  return np.arctan(np.sqrt(num/den))\n",
      "/nobackup/users/sangeon/condas/anaconda3/envs/studies/lib/python3.8/site-packages/pylorentz/__init__.py:34: VisibleDeprecationWarning: Creating an ndarray from ragged nested sequences (which is a list-or-tuple of lists-or-tuples-or ndarrays with different lengths or shapes) is deprecated. If you meant to do this, you must specify 'dtype=object' when creating the ndarray.\n",
      "  self._values = np.array(list(x))\n",
      "/home/sangeon/ToyJetGenerator/data/../datagenerator_realistic.py:350: RuntimeWarning: invalid value encountered in sqrt\n",
      "  zmin=np.maximum(0.2/mother.mom.p,0.5*(1-np.sqrt(1-(m/p)**2)))\n",
      "/nobackup/users/sangeon/condas/anaconda3/envs/studies/lib/python3.8/site-packages/pylorentz/__init__.py:34: VisibleDeprecationWarning: Creating an ndarray from ragged nested sequences (which is a list-or-tuple of lists-or-tuples-or ndarrays with different lengths or shapes) is deprecated. If you meant to do this, you must specify 'dtype=object' when creating the ndarray.\n",
      "  self._values = np.array(list(x))\n",
      "/nobackup/users/sangeon/condas/anaconda3/envs/studies/lib/python3.8/site-packages/pylorentz/__init__.py:34: VisibleDeprecationWarning: Creating an ndarray from ragged nested sequences (which is a list-or-tuple of lists-or-tuples-or ndarrays with different lengths or shapes) is deprecated. If you meant to do this, you must specify 'dtype=object' when creating the ndarray.\n",
      "  self._values = np.array(list(x))\n",
      "/home/sangeon/ToyJetGenerator/data/../datagenerator_realistic.py:350: RuntimeWarning: invalid value encountered in sqrt\n",
      "  zmin=np.maximum(0.2/mother.mom.p,0.5*(1-np.sqrt(1-(m/p)**2)))\n",
      "/home/sangeon/ToyJetGenerator/data/../datagenerator_realistic.py:350: RuntimeWarning: invalid value encountered in sqrt\n",
      "  zmin=np.maximum(0.2/mother.mom.p,0.5*(1-np.sqrt(1-(m/p)**2)))\n",
      "/nobackup/users/sangeon/condas/anaconda3/envs/studies/lib/python3.8/site-packages/pylorentz/__init__.py:34: VisibleDeprecationWarning: Creating an ndarray from ragged nested sequences (which is a list-or-tuple of lists-or-tuples-or ndarrays with different lengths or shapes) is deprecated. If you meant to do this, you must specify 'dtype=object' when creating the ndarray.\n",
      "  self._values = np.array(list(x))\n",
      "/home/sangeon/ToyJetGenerator/data/../datagenerator_realistic.py:320: RuntimeWarning: invalid value encountered in sqrt\n",
      "  return np.arctan(np.sqrt(num/den))\n",
      "/home/sangeon/ToyJetGenerator/data/../datagenerator_realistic.py:350: RuntimeWarning: invalid value encountered in sqrt\n",
      "  zmin=np.maximum(0.2/mother.mom.p,0.5*(1-np.sqrt(1-(m/p)**2)))\n",
      " 16%|█▌        | 77/479 [4:37:36<24:14:50, 217.14s/it]"
     ]
    },
    {
     "name": "stdout",
     "output_type": "stream",
     "text": [
      "time:  222.06454968452454\n"
     ]
    },
    {
     "name": "stderr",
     "output_type": "stream",
     "text": [
      "/home/sangeon/ToyJetGenerator/data/../datagenerator_realistic.py:350: RuntimeWarning: invalid value encountered in sqrt\n",
      "  zmin=np.maximum(0.2/mother.mom.p,0.5*(1-np.sqrt(1-(m/p)**2)))\n",
      "/home/sangeon/ToyJetGenerator/data/../datagenerator_realistic.py:320: RuntimeWarning: invalid value encountered in sqrt\n",
      "  return np.arctan(np.sqrt(num/den))\n",
      "/nobackup/users/sangeon/condas/anaconda3/envs/studies/lib/python3.8/site-packages/pylorentz/__init__.py:34: VisibleDeprecationWarning: Creating an ndarray from ragged nested sequences (which is a list-or-tuple of lists-or-tuples-or ndarrays with different lengths or shapes) is deprecated. If you meant to do this, you must specify 'dtype=object' when creating the ndarray.\n",
      "  self._values = np.array(list(x))\n",
      "/nobackup/users/sangeon/condas/anaconda3/envs/studies/lib/python3.8/site-packages/pylorentz/__init__.py:34: VisibleDeprecationWarning: Creating an ndarray from ragged nested sequences (which is a list-or-tuple of lists-or-tuples-or ndarrays with different lengths or shapes) is deprecated. If you meant to do this, you must specify 'dtype=object' when creating the ndarray.\n",
      "  self._values = np.array(list(x))\n",
      "/home/sangeon/ToyJetGenerator/data/../datagenerator_realistic.py:320: RuntimeWarning: invalid value encountered in sqrt\n",
      "  return np.arctan(np.sqrt(num/den))\n",
      "/home/sangeon/ToyJetGenerator/data/../datagenerator_realistic.py:320: RuntimeWarning: invalid value encountered in sqrt\n",
      "  return np.arctan(np.sqrt(num/den))\n",
      "/nobackup/users/sangeon/condas/anaconda3/envs/studies/lib/python3.8/site-packages/pylorentz/__init__.py:34: VisibleDeprecationWarning: Creating an ndarray from ragged nested sequences (which is a list-or-tuple of lists-or-tuples-or ndarrays with different lengths or shapes) is deprecated. If you meant to do this, you must specify 'dtype=object' when creating the ndarray.\n",
      "  self._values = np.array(list(x))\n",
      "/home/sangeon/ToyJetGenerator/data/../datagenerator_realistic.py:350: RuntimeWarning: invalid value encountered in sqrt\n",
      "  zmin=np.maximum(0.2/mother.mom.p,0.5*(1-np.sqrt(1-(m/p)**2)))\n",
      "/home/sangeon/ToyJetGenerator/data/../datagenerator_realistic.py:320: RuntimeWarning: invalid value encountered in sqrt\n",
      "  return np.arctan(np.sqrt(num/den))\n",
      "/nobackup/users/sangeon/condas/anaconda3/envs/studies/lib/python3.8/site-packages/pylorentz/__init__.py:34: VisibleDeprecationWarning: Creating an ndarray from ragged nested sequences (which is a list-or-tuple of lists-or-tuples-or ndarrays with different lengths or shapes) is deprecated. If you meant to do this, you must specify 'dtype=object' when creating the ndarray.\n",
      "  self._values = np.array(list(x))\n",
      "/home/sangeon/ToyJetGenerator/data/../datagenerator_realistic.py:350: RuntimeWarning: invalid value encountered in sqrt\n",
      "  zmin=np.maximum(0.2/mother.mom.p,0.5*(1-np.sqrt(1-(m/p)**2)))\n",
      "/home/sangeon/ToyJetGenerator/data/../datagenerator_realistic.py:350: RuntimeWarning: invalid value encountered in sqrt\n",
      "  zmin=np.maximum(0.2/mother.mom.p,0.5*(1-np.sqrt(1-(m/p)**2)))\n",
      " 16%|█▋        | 78/479 [4:40:57<23:39:00, 212.32s/it]"
     ]
    },
    {
     "name": "stdout",
     "output_type": "stream",
     "text": [
      "time:  201.07704186439514\n"
     ]
    },
    {
     "name": "stderr",
     "output_type": "stream",
     "text": [
      "/home/sangeon/ToyJetGenerator/data/../datagenerator_realistic.py:320: RuntimeWarning: invalid value encountered in sqrt\n",
      "  return np.arctan(np.sqrt(num/den))\n",
      "/home/sangeon/ToyJetGenerator/data/../datagenerator_realistic.py:320: RuntimeWarning: invalid value encountered in sqrt\n",
      "  return np.arctan(np.sqrt(num/den))\n",
      "/home/sangeon/ToyJetGenerator/data/../datagenerator_realistic.py:320: RuntimeWarning: invalid value encountered in sqrt\n",
      "  return np.arctan(np.sqrt(num/den))\n",
      "/home/sangeon/ToyJetGenerator/data/../datagenerator_realistic.py:320: RuntimeWarning: invalid value encountered in sqrt\n",
      "  return np.arctan(np.sqrt(num/den))\n",
      "/nobackup/users/sangeon/condas/anaconda3/envs/studies/lib/python3.8/site-packages/pylorentz/__init__.py:34: VisibleDeprecationWarning: Creating an ndarray from ragged nested sequences (which is a list-or-tuple of lists-or-tuples-or ndarrays with different lengths or shapes) is deprecated. If you meant to do this, you must specify 'dtype=object' when creating the ndarray.\n",
      "  self._values = np.array(list(x))\n",
      "/nobackup/users/sangeon/condas/anaconda3/envs/studies/lib/python3.8/site-packages/pylorentz/__init__.py:34: VisibleDeprecationWarning: Creating an ndarray from ragged nested sequences (which is a list-or-tuple of lists-or-tuples-or ndarrays with different lengths or shapes) is deprecated. If you meant to do this, you must specify 'dtype=object' when creating the ndarray.\n",
      "  self._values = np.array(list(x))\n",
      "/home/sangeon/ToyJetGenerator/data/../datagenerator_realistic.py:350: RuntimeWarning: invalid value encountered in sqrt\n",
      "  zmin=np.maximum(0.2/mother.mom.p,0.5*(1-np.sqrt(1-(m/p)**2)))\n",
      "/nobackup/users/sangeon/condas/anaconda3/envs/studies/lib/python3.8/site-packages/pylorentz/__init__.py:34: VisibleDeprecationWarning: Creating an ndarray from ragged nested sequences (which is a list-or-tuple of lists-or-tuples-or ndarrays with different lengths or shapes) is deprecated. If you meant to do this, you must specify 'dtype=object' when creating the ndarray.\n",
      "  self._values = np.array(list(x))\n",
      "/nobackup/users/sangeon/condas/anaconda3/envs/studies/lib/python3.8/site-packages/pylorentz/__init__.py:34: VisibleDeprecationWarning: Creating an ndarray from ragged nested sequences (which is a list-or-tuple of lists-or-tuples-or ndarrays with different lengths or shapes) is deprecated. If you meant to do this, you must specify 'dtype=object' when creating the ndarray.\n",
      "  self._values = np.array(list(x))\n",
      "/home/sangeon/ToyJetGenerator/data/../datagenerator_realistic.py:350: RuntimeWarning: invalid value encountered in sqrt\n",
      "  zmin=np.maximum(0.2/mother.mom.p,0.5*(1-np.sqrt(1-(m/p)**2)))\n",
      "/home/sangeon/ToyJetGenerator/data/../datagenerator_realistic.py:350: RuntimeWarning: invalid value encountered in sqrt\n",
      "  zmin=np.maximum(0.2/mother.mom.p,0.5*(1-np.sqrt(1-(m/p)**2)))\n",
      "/home/sangeon/ToyJetGenerator/data/../datagenerator_realistic.py:350: RuntimeWarning: invalid value encountered in sqrt\n",
      "  zmin=np.maximum(0.2/mother.mom.p,0.5*(1-np.sqrt(1-(m/p)**2)))\n",
      " 16%|█▋        | 79/479 [4:44:33<23:42:40, 213.40s/it]"
     ]
    },
    {
     "name": "stdout",
     "output_type": "stream",
     "text": [
      "time:  215.92215967178345\n"
     ]
    },
    {
     "name": "stderr",
     "output_type": "stream",
     "text": [
      "/home/sangeon/ToyJetGenerator/data/../datagenerator_realistic.py:350: RuntimeWarning: invalid value encountered in sqrt\n",
      "  zmin=np.maximum(0.2/mother.mom.p,0.5*(1-np.sqrt(1-(m/p)**2)))\n",
      "/home/sangeon/ToyJetGenerator/data/../datagenerator_realistic.py:320: RuntimeWarning: invalid value encountered in sqrt\n",
      "  return np.arctan(np.sqrt(num/den))\n",
      "/nobackup/users/sangeon/condas/anaconda3/envs/studies/lib/python3.8/site-packages/pylorentz/__init__.py:34: VisibleDeprecationWarning: Creating an ndarray from ragged nested sequences (which is a list-or-tuple of lists-or-tuples-or ndarrays with different lengths or shapes) is deprecated. If you meant to do this, you must specify 'dtype=object' when creating the ndarray.\n",
      "  self._values = np.array(list(x))\n",
      "/home/sangeon/ToyJetGenerator/data/../datagenerator_realistic.py:350: RuntimeWarning: invalid value encountered in sqrt\n",
      "  zmin=np.maximum(0.2/mother.mom.p,0.5*(1-np.sqrt(1-(m/p)**2)))\n",
      "/home/sangeon/ToyJetGenerator/data/../datagenerator_realistic.py:320: RuntimeWarning: invalid value encountered in sqrt\n",
      "  return np.arctan(np.sqrt(num/den))\n",
      "/home/sangeon/ToyJetGenerator/data/../datagenerator_realistic.py:350: RuntimeWarning: invalid value encountered in sqrt\n",
      "  zmin=np.maximum(0.2/mother.mom.p,0.5*(1-np.sqrt(1-(m/p)**2)))\n",
      "/nobackup/users/sangeon/condas/anaconda3/envs/studies/lib/python3.8/site-packages/pylorentz/__init__.py:34: VisibleDeprecationWarning: Creating an ndarray from ragged nested sequences (which is a list-or-tuple of lists-or-tuples-or ndarrays with different lengths or shapes) is deprecated. If you meant to do this, you must specify 'dtype=object' when creating the ndarray.\n",
      "  self._values = np.array(list(x))\n",
      "/home/sangeon/ToyJetGenerator/data/../datagenerator_realistic.py:320: RuntimeWarning: invalid value encountered in sqrt\n",
      "  return np.arctan(np.sqrt(num/den))\n",
      "/nobackup/users/sangeon/condas/anaconda3/envs/studies/lib/python3.8/site-packages/pylorentz/__init__.py:34: VisibleDeprecationWarning: Creating an ndarray from ragged nested sequences (which is a list-or-tuple of lists-or-tuples-or ndarrays with different lengths or shapes) is deprecated. If you meant to do this, you must specify 'dtype=object' when creating the ndarray.\n",
      "  self._values = np.array(list(x))\n",
      "/home/sangeon/ToyJetGenerator/data/../datagenerator_realistic.py:350: RuntimeWarning: invalid value encountered in sqrt\n",
      "  zmin=np.maximum(0.2/mother.mom.p,0.5*(1-np.sqrt(1-(m/p)**2)))\n",
      "/nobackup/users/sangeon/condas/anaconda3/envs/studies/lib/python3.8/site-packages/pylorentz/__init__.py:34: VisibleDeprecationWarning: Creating an ndarray from ragged nested sequences (which is a list-or-tuple of lists-or-tuples-or ndarrays with different lengths or shapes) is deprecated. If you meant to do this, you must specify 'dtype=object' when creating the ndarray.\n",
      "  self._values = np.array(list(x))\n",
      "/home/sangeon/ToyJetGenerator/data/../datagenerator_realistic.py:320: RuntimeWarning: invalid value encountered in sqrt\n",
      "  return np.arctan(np.sqrt(num/den))\n",
      " 17%|█▋        | 80/479 [4:48:17<23:58:31, 216.32s/it]"
     ]
    },
    {
     "name": "stdout",
     "output_type": "stream",
     "text": [
      "time:  223.12239503860474\n"
     ]
    },
    {
     "name": "stderr",
     "output_type": "stream",
     "text": [
      "/home/sangeon/ToyJetGenerator/data/../datagenerator_realistic.py:350: RuntimeWarning: invalid value encountered in sqrt\n",
      "  zmin=np.maximum(0.2/mother.mom.p,0.5*(1-np.sqrt(1-(m/p)**2)))\n",
      "/home/sangeon/ToyJetGenerator/data/../datagenerator_realistic.py:320: RuntimeWarning: invalid value encountered in sqrt\n",
      "  return np.arctan(np.sqrt(num/den))\n",
      "/home/sangeon/ToyJetGenerator/data/../datagenerator_realistic.py:320: RuntimeWarning: invalid value encountered in sqrt\n",
      "  return np.arctan(np.sqrt(num/den))\n",
      "/home/sangeon/ToyJetGenerator/data/../datagenerator_realistic.py:320: RuntimeWarning: invalid value encountered in sqrt\n",
      "  return np.arctan(np.sqrt(num/den))\n",
      "/nobackup/users/sangeon/condas/anaconda3/envs/studies/lib/python3.8/site-packages/pylorentz/__init__.py:34: VisibleDeprecationWarning: Creating an ndarray from ragged nested sequences (which is a list-or-tuple of lists-or-tuples-or ndarrays with different lengths or shapes) is deprecated. If you meant to do this, you must specify 'dtype=object' when creating the ndarray.\n",
      "  self._values = np.array(list(x))\n",
      "/nobackup/users/sangeon/condas/anaconda3/envs/studies/lib/python3.8/site-packages/pylorentz/__init__.py:34: VisibleDeprecationWarning: Creating an ndarray from ragged nested sequences (which is a list-or-tuple of lists-or-tuples-or ndarrays with different lengths or shapes) is deprecated. If you meant to do this, you must specify 'dtype=object' when creating the ndarray.\n",
      "  self._values = np.array(list(x))\n",
      "/nobackup/users/sangeon/condas/anaconda3/envs/studies/lib/python3.8/site-packages/pylorentz/__init__.py:34: VisibleDeprecationWarning: Creating an ndarray from ragged nested sequences (which is a list-or-tuple of lists-or-tuples-or ndarrays with different lengths or shapes) is deprecated. If you meant to do this, you must specify 'dtype=object' when creating the ndarray.\n",
      "  self._values = np.array(list(x))\n",
      "/home/sangeon/ToyJetGenerator/data/../datagenerator_realistic.py:350: RuntimeWarning: invalid value encountered in sqrt\n",
      "  zmin=np.maximum(0.2/mother.mom.p,0.5*(1-np.sqrt(1-(m/p)**2)))\n",
      "/home/sangeon/ToyJetGenerator/data/../datagenerator_realistic.py:350: RuntimeWarning: invalid value encountered in sqrt\n",
      "  zmin=np.maximum(0.2/mother.mom.p,0.5*(1-np.sqrt(1-(m/p)**2)))\n",
      "/home/sangeon/ToyJetGenerator/data/../datagenerator_realistic.py:320: RuntimeWarning: invalid value encountered in sqrt\n",
      "  return np.arctan(np.sqrt(num/den))\n",
      "/nobackup/users/sangeon/condas/anaconda3/envs/studies/lib/python3.8/site-packages/pylorentz/__init__.py:34: VisibleDeprecationWarning: Creating an ndarray from ragged nested sequences (which is a list-or-tuple of lists-or-tuples-or ndarrays with different lengths or shapes) is deprecated. If you meant to do this, you must specify 'dtype=object' when creating the ndarray.\n",
      "  self._values = np.array(list(x))\n",
      "/home/sangeon/ToyJetGenerator/data/../datagenerator_realistic.py:350: RuntimeWarning: invalid value encountered in sqrt\n",
      "  zmin=np.maximum(0.2/mother.mom.p,0.5*(1-np.sqrt(1-(m/p)**2)))\n",
      " 17%|█▋        | 81/479 [4:51:53<23:54:56, 216.32s/it]"
     ]
    },
    {
     "name": "stdout",
     "output_type": "stream",
     "text": [
      "time:  216.33029961585999\n"
     ]
    },
    {
     "name": "stderr",
     "output_type": "stream",
     "text": [
      "/home/sangeon/ToyJetGenerator/data/../datagenerator_realistic.py:320: RuntimeWarning: invalid value encountered in sqrt\n",
      "  return np.arctan(np.sqrt(num/den))\n",
      "/home/sangeon/ToyJetGenerator/data/../datagenerator_realistic.py:320: RuntimeWarning: invalid value encountered in sqrt\n",
      "  return np.arctan(np.sqrt(num/den))\n",
      "/home/sangeon/ToyJetGenerator/data/../datagenerator_realistic.py:320: RuntimeWarning: invalid value encountered in sqrt\n",
      "  return np.arctan(np.sqrt(num/den))\n",
      "/home/sangeon/ToyJetGenerator/data/../datagenerator_realistic.py:320: RuntimeWarning: invalid value encountered in sqrt\n",
      "  return np.arctan(np.sqrt(num/den))\n",
      "/nobackup/users/sangeon/condas/anaconda3/envs/studies/lib/python3.8/site-packages/pylorentz/__init__.py:34: VisibleDeprecationWarning: Creating an ndarray from ragged nested sequences (which is a list-or-tuple of lists-or-tuples-or ndarrays with different lengths or shapes) is deprecated. If you meant to do this, you must specify 'dtype=object' when creating the ndarray.\n",
      "  self._values = np.array(list(x))\n",
      "/nobackup/users/sangeon/condas/anaconda3/envs/studies/lib/python3.8/site-packages/pylorentz/__init__.py:34: VisibleDeprecationWarning: Creating an ndarray from ragged nested sequences (which is a list-or-tuple of lists-or-tuples-or ndarrays with different lengths or shapes) is deprecated. If you meant to do this, you must specify 'dtype=object' when creating the ndarray.\n",
      "  self._values = np.array(list(x))\n",
      "/nobackup/users/sangeon/condas/anaconda3/envs/studies/lib/python3.8/site-packages/pylorentz/__init__.py:34: VisibleDeprecationWarning: Creating an ndarray from ragged nested sequences (which is a list-or-tuple of lists-or-tuples-or ndarrays with different lengths or shapes) is deprecated. If you meant to do this, you must specify 'dtype=object' when creating the ndarray.\n",
      "  self._values = np.array(list(x))\n",
      "/nobackup/users/sangeon/condas/anaconda3/envs/studies/lib/python3.8/site-packages/pylorentz/__init__.py:34: VisibleDeprecationWarning: Creating an ndarray from ragged nested sequences (which is a list-or-tuple of lists-or-tuples-or ndarrays with different lengths or shapes) is deprecated. If you meant to do this, you must specify 'dtype=object' when creating the ndarray.\n",
      "  self._values = np.array(list(x))\n",
      "/home/sangeon/ToyJetGenerator/data/../datagenerator_realistic.py:350: RuntimeWarning: invalid value encountered in sqrt\n",
      "  zmin=np.maximum(0.2/mother.mom.p,0.5*(1-np.sqrt(1-(m/p)**2)))\n",
      "/home/sangeon/ToyJetGenerator/data/../datagenerator_realistic.py:350: RuntimeWarning: invalid value encountered in sqrt\n",
      "  zmin=np.maximum(0.2/mother.mom.p,0.5*(1-np.sqrt(1-(m/p)**2)))\n",
      "/home/sangeon/ToyJetGenerator/data/../datagenerator_realistic.py:350: RuntimeWarning: invalid value encountered in sqrt\n",
      "  zmin=np.maximum(0.2/mother.mom.p,0.5*(1-np.sqrt(1-(m/p)**2)))\n",
      "/home/sangeon/ToyJetGenerator/data/../datagenerator_realistic.py:350: RuntimeWarning: invalid value encountered in sqrt\n",
      "  zmin=np.maximum(0.2/mother.mom.p,0.5*(1-np.sqrt(1-(m/p)**2)))\n"
     ]
    }
   ],
   "source": [
    "for i in tqdm(range(521,1000)):\n",
    "    start = time.time()\n",
    "    np.random.seed()\n",
    "    top_2p = top_2p_16part.generate_dataset(1000)\n",
    "    #np.random.seed()\n",
    "    #top_3p = top_3p_8part.generate_dataset(10000)\n",
    "    with open(f'/nobackup/users/sangeon/datasets/jets/rawjets/realistic_rawjet_train_2prong_16part_{i}.pickle', 'wb') as handle:\n",
    "        pickle.dump(top_2p, handle, protocol=pickle.HIGHEST_PROTOCOL)\n",
    "    #with open(f'rawjet_train_top_3p_{i}.pickle', 'wb') as handle:\n",
    "    #    pickle.dump(top_3p, handle, protocol=pickle.HIGHEST_PROTOCOL)\n",
    "    end = time.time()\n",
    "    print(\"time: \", end-start)"
   ]
  },
  {
   "cell_type": "code",
   "execution_count": null,
   "metadata": {},
   "outputs": [],
   "source": [
    "for i in tqdm(range(100)):\n",
    "    start = time.time()\n",
    "    np.random.seed()\n",
    "    top_2p = top_2p_8part.generate_dataset(10000)\n",
    "    np.random.seed()\n",
    "    top_3p = top_3p_8part.generate_dataset(10000)\n",
    "    with open(f'rawjet_train_top_2p_{i}.pickle', 'wb') as handle:\n",
    "        pickle.dump(top_2p, handle, protocol=pickle.HIGHEST_PROTOCOL)\n",
    "    with open(f'rawjet_train_top_3p_{i}.pickle', 'wb') as handle:\n",
    "        pickle.dump(top_3p, handle, protocol=pickle.HIGHEST_PROTOCOL)\n",
    "    end = time.time()\n",
    "    print(\"time: \", end-start)"
   ]
  },
  {
   "cell_type": "code",
   "execution_count": null,
   "metadata": {},
   "outputs": [
    {
     "name": "stderr",
     "output_type": "stream",
     "text": [
      "  1%|          | 1/100 [01:12<2:00:10, 72.83s/it]"
     ]
    },
    {
     "name": "stdout",
     "output_type": "stream",
     "text": [
      "time:  72.82877159118652\n"
     ]
    },
    {
     "name": "stderr",
     "output_type": "stream",
     "text": [
      "  2%|▏         | 2/100 [02:25<1:59:09, 72.96s/it]"
     ]
    },
    {
     "name": "stdout",
     "output_type": "stream",
     "text": [
      "time:  73.04729223251343\n"
     ]
    },
    {
     "name": "stderr",
     "output_type": "stream",
     "text": [
      "  3%|▎         | 3/100 [03:39<1:58:06, 73.06s/it]"
     ]
    },
    {
     "name": "stdout",
     "output_type": "stream",
     "text": [
      "time:  73.18204069137573\n"
     ]
    },
    {
     "name": "stderr",
     "output_type": "stream",
     "text": [
      "  4%|▍         | 4/100 [04:51<1:56:49, 73.01s/it]"
     ]
    },
    {
     "name": "stdout",
     "output_type": "stream",
     "text": [
      "time:  72.93655967712402\n"
     ]
    },
    {
     "name": "stderr",
     "output_type": "stream",
     "text": [
      "  5%|▌         | 5/100 [06:05<1:55:36, 73.01s/it]"
     ]
    },
    {
     "name": "stdout",
     "output_type": "stream",
     "text": [
      "time:  73.01810383796692\n"
     ]
    },
    {
     "name": "stderr",
     "output_type": "stream",
     "text": [
      "  6%|▌         | 6/100 [07:18<1:54:26, 73.05s/it]"
     ]
    },
    {
     "name": "stdout",
     "output_type": "stream",
     "text": [
      "time:  73.11717510223389\n"
     ]
    },
    {
     "name": "stderr",
     "output_type": "stream",
     "text": [
      "  7%|▋         | 7/100 [08:31<1:53:15, 73.07s/it]"
     ]
    },
    {
     "name": "stdout",
     "output_type": "stream",
     "text": [
      "time:  73.1229419708252\n"
     ]
    },
    {
     "name": "stderr",
     "output_type": "stream",
     "text": [
      "  8%|▊         | 8/100 [09:44<1:52:08, 73.14s/it]"
     ]
    },
    {
     "name": "stdout",
     "output_type": "stream",
     "text": [
      "time:  73.26777529716492\n"
     ]
    },
    {
     "name": "stderr",
     "output_type": "stream",
     "text": [
      "  9%|▉         | 9/100 [10:57<1:50:55, 73.14s/it]"
     ]
    },
    {
     "name": "stdout",
     "output_type": "stream",
     "text": [
      "time:  73.1508355140686\n"
     ]
    },
    {
     "name": "stderr",
     "output_type": "stream",
     "text": [
      " 10%|█         | 10/100 [12:10<1:49:45, 73.18s/it]"
     ]
    },
    {
     "name": "stdout",
     "output_type": "stream",
     "text": [
      "time:  73.25524640083313\n"
     ]
    },
    {
     "name": "stderr",
     "output_type": "stream",
     "text": [
      " 11%|█         | 11/100 [13:23<1:48:23, 73.07s/it]"
     ]
    },
    {
     "name": "stdout",
     "output_type": "stream",
     "text": [
      "time:  72.8388249874115\n"
     ]
    },
    {
     "name": "stderr",
     "output_type": "stream",
     "text": [
      " 12%|█▏        | 12/100 [14:37<1:47:16, 73.14s/it]"
     ]
    },
    {
     "name": "stdout",
     "output_type": "stream",
     "text": [
      "time:  73.29770398139954\n"
     ]
    },
    {
     "name": "stderr",
     "output_type": "stream",
     "text": [
      " 13%|█▎        | 13/100 [15:50<1:46:03, 73.14s/it]"
     ]
    },
    {
     "name": "stdout",
     "output_type": "stream",
     "text": [
      "time:  73.14226603507996\n"
     ]
    },
    {
     "name": "stderr",
     "output_type": "stream",
     "text": [
      " 14%|█▍        | 14/100 [17:03<1:44:47, 73.12s/it]"
     ]
    },
    {
     "name": "stdout",
     "output_type": "stream",
     "text": [
      "time:  73.05261421203613\n"
     ]
    },
    {
     "name": "stderr",
     "output_type": "stream",
     "text": [
      " 15%|█▌        | 15/100 [18:16<1:43:44, 73.23s/it]"
     ]
    },
    {
     "name": "stdout",
     "output_type": "stream",
     "text": [
      "time:  73.51055359840393\n"
     ]
    },
    {
     "name": "stderr",
     "output_type": "stream",
     "text": [
      " 16%|█▌        | 16/100 [19:29<1:42:31, 73.23s/it]"
     ]
    },
    {
     "name": "stdout",
     "output_type": "stream",
     "text": [
      "time:  73.20733070373535\n"
     ]
    },
    {
     "name": "stderr",
     "output_type": "stream",
     "text": [
      " 17%|█▋        | 17/100 [20:43<1:41:15, 73.20s/it]"
     ]
    },
    {
     "name": "stdout",
     "output_type": "stream",
     "text": [
      "time:  73.1291491985321\n"
     ]
    },
    {
     "name": "stderr",
     "output_type": "stream",
     "text": [
      " 18%|█▊        | 18/100 [21:56<1:40:02, 73.21s/it]"
     ]
    },
    {
     "name": "stdout",
     "output_type": "stream",
     "text": [
      "time:  73.22524857521057\n"
     ]
    },
    {
     "name": "stderr",
     "output_type": "stream",
     "text": [
      " 19%|█▉        | 19/100 [23:09<1:38:49, 73.20s/it]"
     ]
    },
    {
     "name": "stdout",
     "output_type": "stream",
     "text": [
      "time:  73.17592096328735\n"
     ]
    },
    {
     "name": "stderr",
     "output_type": "stream",
     "text": [
      " 20%|██        | 20/100 [24:22<1:37:36, 73.20s/it]"
     ]
    },
    {
     "name": "stdout",
     "output_type": "stream",
     "text": [
      "time:  73.21654462814331\n"
     ]
    },
    {
     "name": "stderr",
     "output_type": "stream",
     "text": [
      " 21%|██        | 21/100 [25:35<1:36:23, 73.20s/it]"
     ]
    },
    {
     "name": "stdout",
     "output_type": "stream",
     "text": [
      "time:  73.20729470252991\n"
     ]
    },
    {
     "name": "stderr",
     "output_type": "stream",
     "text": [
      " 22%|██▏       | 22/100 [26:49<1:35:14, 73.26s/it]"
     ]
    },
    {
     "name": "stdout",
     "output_type": "stream",
     "text": [
      "time:  73.38336086273193\n"
     ]
    },
    {
     "name": "stderr",
     "output_type": "stream",
     "text": [
      " 23%|██▎       | 23/100 [28:02<1:34:00, 73.25s/it]"
     ]
    },
    {
     "name": "stdout",
     "output_type": "stream",
     "text": [
      "time:  73.22355103492737\n"
     ]
    },
    {
     "name": "stderr",
     "output_type": "stream",
     "text": [
      " 24%|██▍       | 24/100 [29:15<1:32:44, 73.22s/it]"
     ]
    },
    {
     "name": "stdout",
     "output_type": "stream",
     "text": [
      "time:  73.14681100845337\n"
     ]
    },
    {
     "name": "stderr",
     "output_type": "stream",
     "text": [
      " 25%|██▌       | 25/100 [30:28<1:31:31, 73.21s/it]"
     ]
    },
    {
     "name": "stdout",
     "output_type": "stream",
     "text": [
      "time:  73.20363450050354\n"
     ]
    },
    {
     "name": "stderr",
     "output_type": "stream",
     "text": [
      " 26%|██▌       | 26/100 [31:42<1:30:16, 73.19s/it]"
     ]
    },
    {
     "name": "stdout",
     "output_type": "stream",
     "text": [
      "time:  73.13095712661743\n"
     ]
    },
    {
     "name": "stderr",
     "output_type": "stream",
     "text": [
      " 27%|██▋       | 27/100 [32:55<1:29:03, 73.20s/it]"
     ]
    },
    {
     "name": "stdout",
     "output_type": "stream",
     "text": [
      "time:  73.21222639083862\n"
     ]
    },
    {
     "name": "stderr",
     "output_type": "stream",
     "text": [
      " 28%|██▊       | 28/100 [34:08<1:27:55, 73.27s/it]"
     ]
    },
    {
     "name": "stdout",
     "output_type": "stream",
     "text": [
      "time:  73.43911814689636\n"
     ]
    },
    {
     "name": "stderr",
     "output_type": "stream",
     "text": [
      " 29%|██▉       | 29/100 [35:21<1:26:41, 73.26s/it]"
     ]
    },
    {
     "name": "stdout",
     "output_type": "stream",
     "text": [
      "time:  73.22081875801086\n"
     ]
    },
    {
     "name": "stderr",
     "output_type": "stream",
     "text": [
      " 30%|███       | 30/100 [36:35<1:25:27, 73.25s/it]"
     ]
    },
    {
     "name": "stdout",
     "output_type": "stream",
     "text": [
      "time:  73.22243762016296\n"
     ]
    },
    {
     "name": "stderr",
     "output_type": "stream",
     "text": [
      " 31%|███       | 31/100 [37:48<1:24:14, 73.25s/it]"
     ]
    },
    {
     "name": "stdout",
     "output_type": "stream",
     "text": [
      "time:  73.26646900177002\n"
     ]
    },
    {
     "name": "stderr",
     "output_type": "stream",
     "text": [
      " 32%|███▏      | 32/100 [39:01<1:23:05, 73.31s/it]"
     ]
    },
    {
     "name": "stdout",
     "output_type": "stream",
     "text": [
      "time:  73.44527292251587\n"
     ]
    },
    {
     "name": "stderr",
     "output_type": "stream",
     "text": [
      " 33%|███▎      | 33/100 [40:15<1:21:52, 73.33s/it]"
     ]
    },
    {
     "name": "stdout",
     "output_type": "stream",
     "text": [
      "time:  73.35822939872742\n"
     ]
    },
    {
     "name": "stderr",
     "output_type": "stream",
     "text": [
      " 34%|███▍      | 34/100 [41:28<1:20:39, 73.33s/it]"
     ]
    },
    {
     "name": "stdout",
     "output_type": "stream",
     "text": [
      "time:  73.33687996864319\n"
     ]
    },
    {
     "name": "stderr",
     "output_type": "stream",
     "text": [
      " 35%|███▌      | 35/100 [42:41<1:19:23, 73.28s/it]"
     ]
    },
    {
     "name": "stdout",
     "output_type": "stream",
     "text": [
      "time:  73.18084168434143\n"
     ]
    },
    {
     "name": "stderr",
     "output_type": "stream",
     "text": [
      " 36%|███▌      | 36/100 [43:55<1:18:10, 73.29s/it]"
     ]
    },
    {
     "name": "stdout",
     "output_type": "stream",
     "text": [
      "time:  73.30139946937561\n"
     ]
    },
    {
     "name": "stderr",
     "output_type": "stream",
     "text": [
      " 37%|███▋      | 37/100 [45:08<1:16:55, 73.26s/it]"
     ]
    },
    {
     "name": "stdout",
     "output_type": "stream",
     "text": [
      "time:  73.18670415878296\n"
     ]
    },
    {
     "name": "stderr",
     "output_type": "stream",
     "text": [
      " 38%|███▊      | 38/100 [46:21<1:15:41, 73.24s/it]"
     ]
    },
    {
     "name": "stdout",
     "output_type": "stream",
     "text": [
      "time:  73.20197606086731\n"
     ]
    },
    {
     "name": "stderr",
     "output_type": "stream",
     "text": [
      " 39%|███▉      | 39/100 [47:34<1:14:29, 73.28s/it]"
     ]
    },
    {
     "name": "stdout",
     "output_type": "stream",
     "text": [
      "time:  73.35339593887329\n"
     ]
    },
    {
     "name": "stderr",
     "output_type": "stream",
     "text": [
      " 40%|████      | 40/100 [48:48<1:13:18, 73.31s/it]"
     ]
    },
    {
     "name": "stdout",
     "output_type": "stream",
     "text": [
      "time:  73.37836575508118\n"
     ]
    },
    {
     "name": "stderr",
     "output_type": "stream",
     "text": [
      " 41%|████      | 41/100 [50:01<1:12:06, 73.33s/it]"
     ]
    },
    {
     "name": "stdout",
     "output_type": "stream",
     "text": [
      "time:  73.37283110618591\n"
     ]
    },
    {
     "name": "stderr",
     "output_type": "stream",
     "text": [
      " 42%|████▏     | 42/100 [51:15<1:10:56, 73.38s/it]"
     ]
    },
    {
     "name": "stdout",
     "output_type": "stream",
     "text": [
      "time:  73.51297307014465\n"
     ]
    },
    {
     "name": "stderr",
     "output_type": "stream",
     "text": [
      " 43%|████▎     | 43/100 [52:28<1:09:46, 73.45s/it]"
     ]
    },
    {
     "name": "stdout",
     "output_type": "stream",
     "text": [
      "time:  73.6187252998352\n"
     ]
    },
    {
     "name": "stderr",
     "output_type": "stream",
     "text": [
      " 44%|████▍     | 44/100 [53:41<1:08:30, 73.39s/it]"
     ]
    },
    {
     "name": "stdout",
     "output_type": "stream",
     "text": [
      "time:  73.2560806274414\n"
     ]
    },
    {
     "name": "stderr",
     "output_type": "stream",
     "text": [
      " 45%|████▌     | 45/100 [54:55<1:07:16, 73.38s/it]"
     ]
    },
    {
     "name": "stdout",
     "output_type": "stream",
     "text": [
      "time:  73.35555052757263\n"
     ]
    },
    {
     "name": "stderr",
     "output_type": "stream",
     "text": [
      " 46%|████▌     | 46/100 [56:08<1:06:05, 73.44s/it]"
     ]
    },
    {
     "name": "stdout",
     "output_type": "stream",
     "text": [
      "time:  73.55491065979004\n"
     ]
    },
    {
     "name": "stderr",
     "output_type": "stream",
     "text": [
      " 47%|████▋     | 47/100 [57:22<1:04:49, 73.38s/it]"
     ]
    },
    {
     "name": "stdout",
     "output_type": "stream",
     "text": [
      "time:  73.25296306610107\n"
     ]
    },
    {
     "name": "stderr",
     "output_type": "stream",
     "text": [
      " 48%|████▊     | 48/100 [58:35<1:03:34, 73.35s/it]"
     ]
    },
    {
     "name": "stdout",
     "output_type": "stream",
     "text": [
      "time:  73.26563501358032\n"
     ]
    },
    {
     "name": "stderr",
     "output_type": "stream",
     "text": [
      " 49%|████▉     | 49/100 [59:48<1:02:19, 73.33s/it]"
     ]
    },
    {
     "name": "stdout",
     "output_type": "stream",
     "text": [
      "time:  73.30126023292542\n"
     ]
    },
    {
     "name": "stderr",
     "output_type": "stream",
     "text": [
      " 50%|█████     | 50/100 [1:01:02<1:01:10, 73.41s/it]"
     ]
    },
    {
     "name": "stdout",
     "output_type": "stream",
     "text": [
      "time:  73.59424948692322\n"
     ]
    },
    {
     "name": "stderr",
     "output_type": "stream",
     "text": [
      " 51%|█████     | 51/100 [1:02:15<59:55, 73.37s/it]  "
     ]
    },
    {
     "name": "stdout",
     "output_type": "stream",
     "text": [
      "time:  73.28553795814514\n"
     ]
    },
    {
     "name": "stderr",
     "output_type": "stream",
     "text": [
      " 52%|█████▏    | 52/100 [1:03:28<58:42, 73.39s/it]"
     ]
    },
    {
     "name": "stdout",
     "output_type": "stream",
     "text": [
      "time:  73.4159767627716\n"
     ]
    },
    {
     "name": "stderr",
     "output_type": "stream",
     "text": [
      " 53%|█████▎    | 53/100 [1:04:42<57:29, 73.39s/it]"
     ]
    },
    {
     "name": "stdout",
     "output_type": "stream",
     "text": [
      "time:  73.38113641738892\n"
     ]
    },
    {
     "name": "stderr",
     "output_type": "stream",
     "text": [
      " 54%|█████▍    | 54/100 [1:05:55<56:13, 73.33s/it]"
     ]
    },
    {
     "name": "stdout",
     "output_type": "stream",
     "text": [
      "time:  73.20050024986267\n"
     ]
    },
    {
     "name": "stderr",
     "output_type": "stream",
     "text": [
      " 55%|█████▌    | 55/100 [1:07:08<54:58, 73.31s/it]"
     ]
    },
    {
     "name": "stdout",
     "output_type": "stream",
     "text": [
      "time:  73.25974678993225\n"
     ]
    },
    {
     "name": "stderr",
     "output_type": "stream",
     "text": [
      " 56%|█████▌    | 56/100 [1:08:22<53:46, 73.32s/it]"
     ]
    },
    {
     "name": "stdout",
     "output_type": "stream",
     "text": [
      "time:  73.34096670150757\n"
     ]
    },
    {
     "name": "stderr",
     "output_type": "stream",
     "text": [
      " 57%|█████▋    | 57/100 [1:09:35<52:31, 73.30s/it]"
     ]
    },
    {
     "name": "stdout",
     "output_type": "stream",
     "text": [
      "time:  73.24254274368286\n"
     ]
    },
    {
     "name": "stderr",
     "output_type": "stream",
     "text": [
      " 58%|█████▊    | 58/100 [1:10:48<51:18, 73.29s/it]"
     ]
    },
    {
     "name": "stdout",
     "output_type": "stream",
     "text": [
      "time:  73.27849435806274\n"
     ]
    },
    {
     "name": "stderr",
     "output_type": "stream",
     "text": [
      " 59%|█████▉    | 59/100 [1:12:01<50:03, 73.25s/it]"
     ]
    },
    {
     "name": "stdout",
     "output_type": "stream",
     "text": [
      "time:  73.1608054637909\n"
     ]
    },
    {
     "name": "stderr",
     "output_type": "stream",
     "text": [
      " 60%|██████    | 60/100 [1:13:15<48:50, 73.26s/it]"
     ]
    },
    {
     "name": "stdout",
     "output_type": "stream",
     "text": [
      "time:  73.29204893112183\n"
     ]
    },
    {
     "name": "stderr",
     "output_type": "stream",
     "text": [
      " 61%|██████    | 61/100 [1:14:28<47:35, 73.21s/it]"
     ]
    },
    {
     "name": "stdout",
     "output_type": "stream",
     "text": [
      "time:  73.066415309906\n"
     ]
    },
    {
     "name": "stderr",
     "output_type": "stream",
     "text": [
      " 62%|██████▏   | 62/100 [1:15:41<46:21, 73.20s/it]"
     ]
    },
    {
     "name": "stdout",
     "output_type": "stream",
     "text": [
      "time:  73.1889636516571\n"
     ]
    },
    {
     "name": "stderr",
     "output_type": "stream",
     "text": [
      " 63%|██████▎   | 63/100 [1:16:54<45:11, 73.28s/it]"
     ]
    },
    {
     "name": "stdout",
     "output_type": "stream",
     "text": [
      "time:  73.45819568634033\n"
     ]
    },
    {
     "name": "stderr",
     "output_type": "stream",
     "text": [
      " 64%|██████▍   | 64/100 [1:18:08<43:57, 73.27s/it]"
     ]
    },
    {
     "name": "stdout",
     "output_type": "stream",
     "text": [
      "time:  73.24060845375061\n"
     ]
    },
    {
     "name": "stderr",
     "output_type": "stream",
     "text": [
      " 65%|██████▌   | 65/100 [1:19:21<42:45, 73.30s/it]"
     ]
    },
    {
     "name": "stdout",
     "output_type": "stream",
     "text": [
      "time:  73.38190817832947\n"
     ]
    },
    {
     "name": "stderr",
     "output_type": "stream",
     "text": [
      " 66%|██████▌   | 66/100 [1:20:34<41:33, 73.33s/it]"
     ]
    },
    {
     "name": "stdout",
     "output_type": "stream",
     "text": [
      "time:  73.4005024433136\n"
     ]
    },
    {
     "name": "stderr",
     "output_type": "stream",
     "text": [
      " 67%|██████▋   | 67/100 [1:21:48<40:21, 73.39s/it]"
     ]
    },
    {
     "name": "stdout",
     "output_type": "stream",
     "text": [
      "time:  73.51640558242798\n"
     ]
    },
    {
     "name": "stderr",
     "output_type": "stream",
     "text": [
      " 68%|██████▊   | 68/100 [1:23:01<39:07, 73.37s/it]"
     ]
    },
    {
     "name": "stdout",
     "output_type": "stream",
     "text": [
      "time:  73.31776666641235\n"
     ]
    },
    {
     "name": "stderr",
     "output_type": "stream",
     "text": [
      " 69%|██████▉   | 69/100 [1:24:14<37:53, 73.34s/it]"
     ]
    },
    {
     "name": "stdout",
     "output_type": "stream",
     "text": [
      "time:  73.2837541103363\n"
     ]
    },
    {
     "name": "stderr",
     "output_type": "stream",
     "text": [
      " 70%|███████   | 70/100 [1:25:28<36:39, 73.33s/it]"
     ]
    },
    {
     "name": "stdout",
     "output_type": "stream",
     "text": [
      "time:  73.29465699195862\n"
     ]
    },
    {
     "name": "stderr",
     "output_type": "stream",
     "text": [
      " 71%|███████   | 71/100 [1:26:41<35:24, 73.26s/it]"
     ]
    },
    {
     "name": "stdout",
     "output_type": "stream",
     "text": [
      "time:  73.11575746536255\n"
     ]
    },
    {
     "name": "stderr",
     "output_type": "stream",
     "text": [
      " 72%|███████▏  | 72/100 [1:27:54<34:10, 73.25s/it]"
     ]
    },
    {
     "name": "stdout",
     "output_type": "stream",
     "text": [
      "time:  73.2039566040039\n"
     ]
    },
    {
     "name": "stderr",
     "output_type": "stream",
     "text": [
      " 73%|███████▎  | 73/100 [1:29:08<33:00, 73.37s/it]"
     ]
    },
    {
     "name": "stdout",
     "output_type": "stream",
     "text": [
      "time:  73.64373826980591\n"
     ]
    },
    {
     "name": "stderr",
     "output_type": "stream",
     "text": [
      " 74%|███████▍  | 74/100 [1:30:21<31:46, 73.34s/it]"
     ]
    },
    {
     "name": "stdout",
     "output_type": "stream",
     "text": [
      "time:  73.26240921020508\n"
     ]
    },
    {
     "name": "stderr",
     "output_type": "stream",
     "text": [
      " 75%|███████▌  | 75/100 [1:31:34<30:31, 73.26s/it]"
     ]
    },
    {
     "name": "stdout",
     "output_type": "stream",
     "text": [
      "time:  73.08561444282532\n"
     ]
    },
    {
     "name": "stderr",
     "output_type": "stream",
     "text": [
      " 76%|███████▌  | 76/100 [1:32:47<29:17, 73.23s/it]"
     ]
    },
    {
     "name": "stdout",
     "output_type": "stream",
     "text": [
      "time:  73.14213585853577\n"
     ]
    },
    {
     "name": "stderr",
     "output_type": "stream",
     "text": [
      " 77%|███████▋  | 77/100 [1:34:01<28:04, 73.24s/it]"
     ]
    },
    {
     "name": "stdout",
     "output_type": "stream",
     "text": [
      "time:  73.27414035797119\n"
     ]
    },
    {
     "name": "stderr",
     "output_type": "stream",
     "text": [
      " 78%|███████▊  | 78/100 [1:35:14<26:51, 73.24s/it]"
     ]
    },
    {
     "name": "stdout",
     "output_type": "stream",
     "text": [
      "time:  73.23035788536072\n"
     ]
    },
    {
     "name": "stderr",
     "output_type": "stream",
     "text": [
      " 79%|███████▉  | 79/100 [1:36:27<25:38, 73.27s/it]"
     ]
    },
    {
     "name": "stdout",
     "output_type": "stream",
     "text": [
      "time:  73.35445499420166\n"
     ]
    },
    {
     "name": "stderr",
     "output_type": "stream",
     "text": [
      " 80%|████████  | 80/100 [1:37:41<24:26, 73.31s/it]"
     ]
    },
    {
     "name": "stdout",
     "output_type": "stream",
     "text": [
      "time:  73.40398073196411\n"
     ]
    },
    {
     "name": "stderr",
     "output_type": "stream",
     "text": [
      " 81%|████████  | 81/100 [1:38:54<23:13, 73.34s/it]"
     ]
    },
    {
     "name": "stdout",
     "output_type": "stream",
     "text": [
      "time:  73.40597748756409\n"
     ]
    },
    {
     "name": "stderr",
     "output_type": "stream",
     "text": [
      " 82%|████████▏ | 82/100 [1:40:07<21:59, 73.29s/it]"
     ]
    },
    {
     "name": "stdout",
     "output_type": "stream",
     "text": [
      "time:  73.15744137763977\n"
     ]
    },
    {
     "name": "stderr",
     "output_type": "stream",
     "text": [
      " 83%|████████▎ | 83/100 [1:41:21<20:47, 73.39s/it]"
     ]
    },
    {
     "name": "stdout",
     "output_type": "stream",
     "text": [
      "time:  73.63054633140564\n"
     ]
    },
    {
     "name": "stderr",
     "output_type": "stream",
     "text": [
      " 84%|████████▍ | 84/100 [1:42:34<19:33, 73.33s/it]"
     ]
    },
    {
     "name": "stdout",
     "output_type": "stream",
     "text": [
      "time:  73.17717242240906\n"
     ]
    },
    {
     "name": "stderr",
     "output_type": "stream",
     "text": [
      " 85%|████████▌ | 85/100 [1:43:47<18:19, 73.28s/it]"
     ]
    },
    {
     "name": "stdout",
     "output_type": "stream",
     "text": [
      "time:  73.18489360809326\n"
     ]
    },
    {
     "name": "stderr",
     "output_type": "stream",
     "text": [
      " 86%|████████▌ | 86/100 [1:45:00<17:05, 73.22s/it]"
     ]
    },
    {
     "name": "stdout",
     "output_type": "stream",
     "text": [
      "time:  73.06095266342163\n"
     ]
    },
    {
     "name": "stderr",
     "output_type": "stream",
     "text": [
      " 87%|████████▋ | 87/100 [1:46:13<15:51, 73.23s/it]"
     ]
    },
    {
     "name": "stdout",
     "output_type": "stream",
     "text": [
      "time:  73.2596971988678\n"
     ]
    },
    {
     "name": "stderr",
     "output_type": "stream",
     "text": [
      " 88%|████████▊ | 88/100 [1:47:27<14:39, 73.33s/it]"
     ]
    },
    {
     "name": "stdout",
     "output_type": "stream",
     "text": [
      "time:  73.55201053619385\n"
     ]
    },
    {
     "name": "stderr",
     "output_type": "stream",
     "text": [
      " 89%|████████▉ | 89/100 [1:48:40<13:26, 73.28s/it]"
     ]
    },
    {
     "name": "stdout",
     "output_type": "stream",
     "text": [
      "time:  73.16557192802429\n"
     ]
    },
    {
     "name": "stderr",
     "output_type": "stream",
     "text": [
      " 90%|█████████ | 90/100 [1:49:53<12:12, 73.28s/it]"
     ]
    },
    {
     "name": "stdout",
     "output_type": "stream",
     "text": [
      "time:  73.29328441619873\n"
     ]
    },
    {
     "name": "stderr",
     "output_type": "stream",
     "text": [
      " 91%|█████████ | 91/100 [1:51:07<10:59, 73.28s/it]"
     ]
    },
    {
     "name": "stdout",
     "output_type": "stream",
     "text": [
      "time:  73.26040196418762\n"
     ]
    },
    {
     "name": "stderr",
     "output_type": "stream",
     "text": [
      " 92%|█████████▏| 92/100 [1:52:20<09:47, 73.40s/it]"
     ]
    },
    {
     "name": "stdout",
     "output_type": "stream",
     "text": [
      "time:  73.67323088645935\n"
     ]
    },
    {
     "name": "stderr",
     "output_type": "stream",
     "text": [
      " 93%|█████████▎| 93/100 [1:53:34<08:33, 73.38s/it]"
     ]
    },
    {
     "name": "stdout",
     "output_type": "stream",
     "text": [
      "time:  73.3296103477478\n"
     ]
    },
    {
     "name": "stderr",
     "output_type": "stream",
     "text": [
      " 94%|█████████▍| 94/100 [1:54:47<07:19, 73.32s/it]"
     ]
    },
    {
     "name": "stdout",
     "output_type": "stream",
     "text": [
      "time:  73.17862272262573\n"
     ]
    },
    {
     "name": "stderr",
     "output_type": "stream",
     "text": [
      " 95%|█████████▌| 95/100 [1:56:00<06:06, 73.37s/it]"
     ]
    },
    {
     "name": "stdout",
     "output_type": "stream",
     "text": [
      "time:  73.48512578010559\n"
     ]
    },
    {
     "name": "stderr",
     "output_type": "stream",
     "text": [
      " 96%|█████████▌| 96/100 [1:57:14<04:53, 73.33s/it]"
     ]
    },
    {
     "name": "stdout",
     "output_type": "stream",
     "text": [
      "time:  73.25415897369385\n"
     ]
    },
    {
     "name": "stderr",
     "output_type": "stream",
     "text": [
      " 97%|█████████▋| 97/100 [1:58:27<03:40, 73.35s/it]"
     ]
    },
    {
     "name": "stdout",
     "output_type": "stream",
     "text": [
      "time:  73.37689065933228\n"
     ]
    }
   ],
   "source": [
    "for i in tqdm(range(100)):\n",
    "    start = time.time()\n",
    "    np.random.seed()\n",
    "    top_2p = top_2p_8part.generate_dataset(10000)\n",
    "    np.random.seed()\n",
    "    top_3p = top_3p_8part.generate_dataset(10000)\n",
    "    with open(f'rawjet_train_top_2p_{i}.pickle', 'wb') as handle:\n",
    "        pickle.dump(top_2p, handle, protocol=pickle.HIGHEST_PROTOCOL)\n",
    "    with open(f'rawjet_train_top_3p_{i}.pickle', 'wb') as handle:\n",
    "        pickle.dump(top_3p, handle, protocol=pickle.HIGHEST_PROTOCOL)\n",
    "    end = time.time()\n",
    "    print(\"time: \", end-start)"
   ]
  },
  {
   "cell_type": "code",
   "execution_count": 7,
   "metadata": {},
   "outputs": [
    {
     "name": "stderr",
     "output_type": "stream",
     "text": [
      "  8%|▊         | 1/13 [01:17<15:28, 77.40s/it]"
     ]
    },
    {
     "name": "stdout",
     "output_type": "stream",
     "text": [
      "time:  77.39782905578613\n"
     ]
    },
    {
     "name": "stderr",
     "output_type": "stream",
     "text": [
      " 15%|█▌        | 2/13 [02:36<14:24, 78.60s/it]"
     ]
    },
    {
     "name": "stdout",
     "output_type": "stream",
     "text": [
      "time:  79.44325947761536\n"
     ]
    },
    {
     "name": "stderr",
     "output_type": "stream",
     "text": [
      " 23%|██▎       | 3/13 [03:55<13:04, 78.41s/it]"
     ]
    },
    {
     "name": "stdout",
     "output_type": "stream",
     "text": [
      "time:  78.16985750198364\n"
     ]
    },
    {
     "name": "stderr",
     "output_type": "stream",
     "text": [
      " 31%|███       | 4/13 [05:14<11:50, 78.93s/it]"
     ]
    },
    {
     "name": "stdout",
     "output_type": "stream",
     "text": [
      "time:  79.74110507965088\n"
     ]
    },
    {
     "name": "stderr",
     "output_type": "stream",
     "text": [
      " 38%|███▊      | 5/13 [06:31<10:26, 78.30s/it]"
     ]
    },
    {
     "name": "stdout",
     "output_type": "stream",
     "text": [
      "time:  77.18928480148315\n"
     ]
    },
    {
     "name": "stderr",
     "output_type": "stream",
     "text": [
      " 46%|████▌     | 6/13 [07:50<09:08, 78.32s/it]"
     ]
    },
    {
     "name": "stdout",
     "output_type": "stream",
     "text": [
      "time:  78.358069896698\n"
     ]
    },
    {
     "name": "stderr",
     "output_type": "stream",
     "text": [
      " 54%|█████▍    | 7/13 [09:08<07:50, 78.42s/it]"
     ]
    },
    {
     "name": "stdout",
     "output_type": "stream",
     "text": [
      "time:  78.62317228317261\n"
     ]
    },
    {
     "name": "stderr",
     "output_type": "stream",
     "text": [
      " 62%|██████▏   | 8/13 [10:28<06:33, 78.69s/it]"
     ]
    },
    {
     "name": "stdout",
     "output_type": "stream",
     "text": [
      "time:  79.26886630058289\n"
     ]
    },
    {
     "name": "stderr",
     "output_type": "stream",
     "text": [
      " 69%|██████▉   | 9/13 [11:48<05:16, 79.14s/it]"
     ]
    },
    {
     "name": "stdout",
     "output_type": "stream",
     "text": [
      "time:  80.13187193870544\n"
     ]
    },
    {
     "name": "stderr",
     "output_type": "stream",
     "text": [
      " 77%|███████▋  | 10/13 [13:06<03:56, 78.94s/it]"
     ]
    },
    {
     "name": "stdout",
     "output_type": "stream",
     "text": [
      "time:  78.50045728683472\n"
     ]
    },
    {
     "name": "stderr",
     "output_type": "stream",
     "text": [
      " 85%|████████▍ | 11/13 [14:24<02:37, 78.54s/it]"
     ]
    },
    {
     "name": "stdout",
     "output_type": "stream",
     "text": [
      "time:  77.62972283363342\n"
     ]
    },
    {
     "name": "stderr",
     "output_type": "stream",
     "text": [
      " 92%|█████████▏| 12/13 [15:42<01:18, 78.42s/it]"
     ]
    },
    {
     "name": "stdout",
     "output_type": "stream",
     "text": [
      "time:  78.15016460418701\n"
     ]
    },
    {
     "name": "stderr",
     "output_type": "stream",
     "text": [
      "100%|██████████| 13/13 [17:02<00:00, 78.67s/it]"
     ]
    },
    {
     "name": "stdout",
     "output_type": "stream",
     "text": [
      "time:  80.07684516906738\n"
     ]
    },
    {
     "name": "stderr",
     "output_type": "stream",
     "text": [
      "\n"
     ]
    }
   ],
   "source": [
    "for i in tqdm(range(587,600)):\n",
    "    start = time.time()\n",
    "    np.random.seed()\n",
    "    top_2p = top_2p_8part.generate_dataset(10000)\n",
    "    np.random.seed()\n",
    "    top_3p = top_3p_8part.generate_dataset(10000)\n",
    "    with open(f'rawjet_train_top_2p_{i}.pickle', 'wb') as handle:\n",
    "        pickle.dump(top_2p, handle, protocol=pickle.HIGHEST_PROTOCOL)\n",
    "    with open(f'rawjet_train_top_3p_{i}.pickle', 'wb') as handle:\n",
    "        pickle.dump(top_3p, handle, protocol=pickle.HIGHEST_PROTOCOL)\n",
    "    end = time.time()\n",
    "    print(\"time: \", end-start)"
   ]
  },
  {
   "cell_type": "code",
   "execution_count": 7,
   "metadata": {},
   "outputs": [
    {
     "name": "stderr",
     "output_type": "stream",
     "text": [
      "  1%|          | 1/100 [01:32<2:33:15, 92.89s/it]"
     ]
    },
    {
     "name": "stdout",
     "output_type": "stream",
     "text": [
      "time:  92.88565015792847\n"
     ]
    },
    {
     "name": "stderr",
     "output_type": "stream",
     "text": [
      "  2%|▏         | 2/100 [03:04<2:30:16, 92.01s/it]"
     ]
    },
    {
     "name": "stdout",
     "output_type": "stream",
     "text": [
      "time:  91.38690519332886\n"
     ]
    },
    {
     "name": "stderr",
     "output_type": "stream",
     "text": [
      "  3%|▎         | 3/100 [04:37<2:29:39, 92.57s/it]"
     ]
    },
    {
     "name": "stdout",
     "output_type": "stream",
     "text": [
      "time:  93.23461413383484\n"
     ]
    },
    {
     "name": "stderr",
     "output_type": "stream",
     "text": [
      "  4%|▍         | 4/100 [06:10<2:28:15, 92.66s/it]"
     ]
    },
    {
     "name": "stdout",
     "output_type": "stream",
     "text": [
      "time:  92.80098485946655\n"
     ]
    },
    {
     "name": "stderr",
     "output_type": "stream",
     "text": [
      "  5%|▌         | 5/100 [07:44<2:27:24, 93.10s/it]"
     ]
    },
    {
     "name": "stdout",
     "output_type": "stream",
     "text": [
      "time:  93.8712854385376\n"
     ]
    },
    {
     "name": "stderr",
     "output_type": "stream",
     "text": [
      "  6%|▌         | 6/100 [09:15<2:24:51, 92.46s/it]"
     ]
    },
    {
     "name": "stdout",
     "output_type": "stream",
     "text": [
      "time:  91.22608757019043\n"
     ]
    },
    {
     "name": "stderr",
     "output_type": "stream",
     "text": [
      "  7%|▋         | 7/100 [10:49<2:24:03, 92.94s/it]"
     ]
    },
    {
     "name": "stdout",
     "output_type": "stream",
     "text": [
      "time:  93.93577527999878\n"
     ]
    },
    {
     "name": "stderr",
     "output_type": "stream",
     "text": [
      "  8%|▊         | 8/100 [12:20<2:21:37, 92.37s/it]"
     ]
    },
    {
     "name": "stdout",
     "output_type": "stream",
     "text": [
      "time:  91.1381950378418\n"
     ]
    },
    {
     "name": "stderr",
     "output_type": "stream",
     "text": [
      "  9%|▉         | 9/100 [13:52<2:19:44, 92.14s/it]"
     ]
    },
    {
     "name": "stdout",
     "output_type": "stream",
     "text": [
      "time:  91.62693190574646\n"
     ]
    },
    {
     "name": "stderr",
     "output_type": "stream",
     "text": [
      " 10%|█         | 10/100 [15:18<2:15:30, 90.34s/it]"
     ]
    },
    {
     "name": "stdout",
     "output_type": "stream",
     "text": [
      "time:  86.30760264396667\n"
     ]
    },
    {
     "name": "stderr",
     "output_type": "stream",
     "text": [
      " 11%|█         | 11/100 [16:46<2:13:04, 89.71s/it]"
     ]
    },
    {
     "name": "stdout",
     "output_type": "stream",
     "text": [
      "time:  88.27649807929993\n"
     ]
    },
    {
     "name": "stderr",
     "output_type": "stream",
     "text": [
      " 12%|█▏        | 12/100 [18:21<2:13:37, 91.11s/it]"
     ]
    },
    {
     "name": "stdout",
     "output_type": "stream",
     "text": [
      "time:  94.31378054618835\n"
     ]
    },
    {
     "name": "stderr",
     "output_type": "stream",
     "text": [
      " 13%|█▎        | 13/100 [19:55<2:13:47, 92.27s/it]"
     ]
    },
    {
     "name": "stdout",
     "output_type": "stream",
     "text": [
      "time:  94.9478509426117\n"
     ]
    },
    {
     "name": "stderr",
     "output_type": "stream",
     "text": [
      " 14%|█▍        | 14/100 [21:25<2:11:08, 91.49s/it]"
     ]
    },
    {
     "name": "stdout",
     "output_type": "stream",
     "text": [
      "time:  89.6832914352417\n"
     ]
    },
    {
     "name": "stderr",
     "output_type": "stream",
     "text": [
      " 15%|█▌        | 15/100 [22:56<2:09:32, 91.44s/it]"
     ]
    },
    {
     "name": "stdout",
     "output_type": "stream",
     "text": [
      "time:  91.32229995727539\n"
     ]
    },
    {
     "name": "stderr",
     "output_type": "stream",
     "text": [
      " 16%|█▌        | 16/100 [24:25<2:06:56, 90.68s/it]"
     ]
    },
    {
     "name": "stdout",
     "output_type": "stream",
     "text": [
      "time:  88.90106225013733\n"
     ]
    },
    {
     "name": "stderr",
     "output_type": "stream",
     "text": [
      " 17%|█▋        | 17/100 [25:59<2:06:27, 91.42s/it]"
     ]
    },
    {
     "name": "stdout",
     "output_type": "stream",
     "text": [
      "time:  93.14440560340881\n"
     ]
    },
    {
     "name": "stderr",
     "output_type": "stream",
     "text": [
      " 18%|█▊        | 18/100 [27:29<2:04:30, 91.11s/it]"
     ]
    },
    {
     "name": "stdout",
     "output_type": "stream",
     "text": [
      "time:  90.38803625106812\n"
     ]
    },
    {
     "name": "stderr",
     "output_type": "stream",
     "text": [
      " 19%|█▉        | 19/100 [28:57<2:01:53, 90.29s/it]"
     ]
    },
    {
     "name": "stdout",
     "output_type": "stream",
     "text": [
      "time:  88.38185715675354\n"
     ]
    },
    {
     "name": "stderr",
     "output_type": "stream",
     "text": [
      " 20%|██        | 20/100 [30:34<2:02:45, 92.07s/it]"
     ]
    },
    {
     "name": "stdout",
     "output_type": "stream",
     "text": [
      "time:  96.20508170127869\n"
     ]
    },
    {
     "name": "stderr",
     "output_type": "stream",
     "text": [
      " 21%|██        | 21/100 [32:10<2:02:57, 93.38s/it]"
     ]
    },
    {
     "name": "stdout",
     "output_type": "stream",
     "text": [
      "time:  96.44683384895325\n"
     ]
    },
    {
     "name": "stderr",
     "output_type": "stream",
     "text": [
      " 22%|██▏       | 22/100 [33:46<2:02:31, 94.25s/it]"
     ]
    },
    {
     "name": "stdout",
     "output_type": "stream",
     "text": [
      "time:  96.26502728462219\n"
     ]
    },
    {
     "name": "stderr",
     "output_type": "stream",
     "text": [
      " 23%|██▎       | 23/100 [35:20<2:00:38, 94.01s/it]"
     ]
    },
    {
     "name": "stdout",
     "output_type": "stream",
     "text": [
      "time:  93.4623818397522\n"
     ]
    },
    {
     "name": "stderr",
     "output_type": "stream",
     "text": [
      " 24%|██▍       | 24/100 [36:49<1:57:09, 92.49s/it]"
     ]
    },
    {
     "name": "stdout",
     "output_type": "stream",
     "text": [
      "time:  88.9519112110138\n"
     ]
    },
    {
     "name": "stderr",
     "output_type": "stream",
     "text": [
      " 25%|██▌       | 25/100 [38:17<1:53:58, 91.18s/it]"
     ]
    },
    {
     "name": "stdout",
     "output_type": "stream",
     "text": [
      "time:  88.11705565452576\n"
     ]
    },
    {
     "name": "stderr",
     "output_type": "stream",
     "text": [
      " 26%|██▌       | 26/100 [39:44<1:50:53, 89.92s/it]"
     ]
    },
    {
     "name": "stdout",
     "output_type": "stream",
     "text": [
      "time:  86.9638843536377\n"
     ]
    },
    {
     "name": "stderr",
     "output_type": "stream",
     "text": [
      " 27%|██▋       | 27/100 [41:15<1:49:52, 90.31s/it]"
     ]
    },
    {
     "name": "stdout",
     "output_type": "stream",
     "text": [
      "time:  91.21774888038635\n"
     ]
    },
    {
     "name": "stderr",
     "output_type": "stream",
     "text": [
      " 28%|██▊       | 28/100 [42:51<1:50:29, 92.07s/it]"
     ]
    },
    {
     "name": "stdout",
     "output_type": "stream",
     "text": [
      "time:  96.18549180030823\n"
     ]
    },
    {
     "name": "stderr",
     "output_type": "stream",
     "text": [
      " 29%|██▉       | 29/100 [44:26<1:49:46, 92.77s/it]"
     ]
    },
    {
     "name": "stdout",
     "output_type": "stream",
     "text": [
      "time:  94.39745211601257\n"
     ]
    },
    {
     "name": "stderr",
     "output_type": "stream",
     "text": [
      " 30%|███       | 30/100 [45:57<1:47:37, 92.25s/it]"
     ]
    },
    {
     "name": "stdout",
     "output_type": "stream",
     "text": [
      "time:  91.03587341308594\n"
     ]
    },
    {
     "name": "stderr",
     "output_type": "stream",
     "text": [
      " 31%|███       | 31/100 [47:33<1:47:28, 93.46s/it]"
     ]
    },
    {
     "name": "stdout",
     "output_type": "stream",
     "text": [
      "time:  96.28864026069641\n"
     ]
    },
    {
     "name": "stderr",
     "output_type": "stream",
     "text": [
      " 32%|███▏      | 32/100 [49:09<1:46:47, 94.23s/it]"
     ]
    },
    {
     "name": "stdout",
     "output_type": "stream",
     "text": [
      "time:  96.0170431137085\n"
     ]
    },
    {
     "name": "stderr",
     "output_type": "stream",
     "text": [
      " 33%|███▎      | 33/100 [50:42<1:44:53, 93.93s/it]"
     ]
    },
    {
     "name": "stdout",
     "output_type": "stream",
     "text": [
      "time:  93.22094774246216\n"
     ]
    },
    {
     "name": "stderr",
     "output_type": "stream",
     "text": [
      " 34%|███▍      | 34/100 [52:16<1:43:21, 93.96s/it]"
     ]
    },
    {
     "name": "stdout",
     "output_type": "stream",
     "text": [
      "time:  94.03804111480713\n"
     ]
    },
    {
     "name": "stderr",
     "output_type": "stream",
     "text": [
      " 35%|███▌      | 35/100 [53:48<1:41:08, 93.36s/it]"
     ]
    },
    {
     "name": "stdout",
     "output_type": "stream",
     "text": [
      "time:  91.96094036102295\n"
     ]
    },
    {
     "name": "stderr",
     "output_type": "stream",
     "text": [
      " 36%|███▌      | 36/100 [55:14<1:37:18, 91.23s/it]"
     ]
    },
    {
     "name": "stdout",
     "output_type": "stream",
     "text": [
      "time:  86.2569375038147\n"
     ]
    },
    {
     "name": "stderr",
     "output_type": "stream",
     "text": [
      " 37%|███▋      | 37/100 [56:48<1:36:36, 92.01s/it]"
     ]
    },
    {
     "name": "stdout",
     "output_type": "stream",
     "text": [
      "time:  93.83161616325378\n"
     ]
    },
    {
     "name": "stderr",
     "output_type": "stream",
     "text": [
      " 38%|███▊      | 38/100 [58:24<1:36:13, 93.11s/it]"
     ]
    },
    {
     "name": "stdout",
     "output_type": "stream",
     "text": [
      "time:  95.6869125366211\n"
     ]
    },
    {
     "name": "stderr",
     "output_type": "stream",
     "text": [
      " 39%|███▉      | 39/100 [1:00:00<1:35:38, 94.08s/it]"
     ]
    },
    {
     "name": "stdout",
     "output_type": "stream",
     "text": [
      "time:  96.32214307785034\n"
     ]
    },
    {
     "name": "stderr",
     "output_type": "stream",
     "text": [
      " 40%|████      | 40/100 [1:01:36<1:34:35, 94.60s/it]"
     ]
    },
    {
     "name": "stdout",
     "output_type": "stream",
     "text": [
      "time:  95.8115553855896\n"
     ]
    },
    {
     "name": "stderr",
     "output_type": "stream",
     "text": [
      " 41%|████      | 41/100 [1:03:10<1:32:46, 94.34s/it]"
     ]
    },
    {
     "name": "stdout",
     "output_type": "stream",
     "text": [
      "time:  93.75052642822266\n"
     ]
    },
    {
     "name": "stderr",
     "output_type": "stream",
     "text": [
      " 42%|████▏     | 42/100 [1:04:50<1:32:48, 96.00s/it]"
     ]
    },
    {
     "name": "stdout",
     "output_type": "stream",
     "text": [
      "time:  99.87672090530396\n"
     ]
    },
    {
     "name": "stderr",
     "output_type": "stream",
     "text": [
      " 43%|████▎     | 43/100 [1:06:25<1:31:04, 95.86s/it]"
     ]
    },
    {
     "name": "stdout",
     "output_type": "stream",
     "text": [
      "time:  95.5329864025116\n"
     ]
    },
    {
     "name": "stderr",
     "output_type": "stream",
     "text": [
      " 44%|████▍     | 44/100 [1:07:58<1:28:43, 95.06s/it]"
     ]
    },
    {
     "name": "stdout",
     "output_type": "stream",
     "text": [
      "time:  93.17550826072693\n"
     ]
    },
    {
     "name": "stderr",
     "output_type": "stream",
     "text": [
      " 45%|████▌     | 45/100 [1:09:32<1:26:46, 94.66s/it]"
     ]
    },
    {
     "name": "stdout",
     "output_type": "stream",
     "text": [
      "time:  93.72205853462219\n"
     ]
    },
    {
     "name": "stderr",
     "output_type": "stream",
     "text": [
      " 46%|████▌     | 46/100 [1:10:58<1:22:57, 92.17s/it]"
     ]
    },
    {
     "name": "stdout",
     "output_type": "stream",
     "text": [
      "time:  86.36373543739319\n"
     ]
    },
    {
     "name": "stderr",
     "output_type": "stream",
     "text": [
      " 47%|████▋     | 47/100 [1:12:30<1:21:16, 92.00s/it]"
     ]
    },
    {
     "name": "stdout",
     "output_type": "stream",
     "text": [
      "time:  91.61224961280823\n"
     ]
    },
    {
     "name": "stderr",
     "output_type": "stream",
     "text": [
      " 48%|████▊     | 48/100 [1:14:02<1:19:39, 91.92s/it]"
     ]
    },
    {
     "name": "stdout",
     "output_type": "stream",
     "text": [
      "time:  91.72156834602356\n"
     ]
    },
    {
     "name": "stderr",
     "output_type": "stream",
     "text": [
      " 49%|████▉     | 49/100 [1:15:36<1:18:45, 92.66s/it]"
     ]
    },
    {
     "name": "stdout",
     "output_type": "stream",
     "text": [
      "time:  94.38445711135864\n"
     ]
    },
    {
     "name": "stderr",
     "output_type": "stream",
     "text": [
      " 50%|█████     | 50/100 [1:17:09<1:17:08, 92.57s/it]"
     ]
    },
    {
     "name": "stdout",
     "output_type": "stream",
     "text": [
      "time:  92.34530687332153\n"
     ]
    },
    {
     "name": "stderr",
     "output_type": "stream",
     "text": [
      " 51%|█████     | 51/100 [1:18:39<1:15:08, 92.01s/it]"
     ]
    },
    {
     "name": "stdout",
     "output_type": "stream",
     "text": [
      "time:  90.70796370506287\n"
     ]
    },
    {
     "name": "stderr",
     "output_type": "stream",
     "text": [
      " 52%|█████▏    | 52/100 [1:20:12<1:13:51, 92.32s/it]"
     ]
    },
    {
     "name": "stdout",
     "output_type": "stream",
     "text": [
      "time:  93.05800294876099\n"
     ]
    },
    {
     "name": "stderr",
     "output_type": "stream",
     "text": [
      " 53%|█████▎    | 53/100 [1:21:43<1:11:52, 91.75s/it]"
     ]
    },
    {
     "name": "stdout",
     "output_type": "stream",
     "text": [
      "time:  90.41370153427124\n"
     ]
    },
    {
     "name": "stderr",
     "output_type": "stream",
     "text": [
      " 54%|█████▍    | 54/100 [1:23:14<1:10:18, 91.71s/it]"
     ]
    },
    {
     "name": "stdout",
     "output_type": "stream",
     "text": [
      "time:  91.61244869232178\n"
     ]
    },
    {
     "name": "stderr",
     "output_type": "stream",
     "text": [
      " 55%|█████▌    | 55/100 [1:24:41<1:07:36, 90.15s/it]"
     ]
    },
    {
     "name": "stdout",
     "output_type": "stream",
     "text": [
      "time:  86.49504971504211\n"
     ]
    },
    {
     "name": "stderr",
     "output_type": "stream",
     "text": [
      " 56%|█████▌    | 56/100 [1:26:13<1:06:33, 90.76s/it]"
     ]
    },
    {
     "name": "stdout",
     "output_type": "stream",
     "text": [
      "time:  92.17687463760376\n"
     ]
    },
    {
     "name": "stderr",
     "output_type": "stream",
     "text": [
      " 57%|█████▋    | 57/100 [1:27:43<1:04:55, 90.60s/it]"
     ]
    },
    {
     "name": "stdout",
     "output_type": "stream",
     "text": [
      "time:  90.2420129776001\n"
     ]
    },
    {
     "name": "stderr",
     "output_type": "stream",
     "text": [
      " 58%|█████▊    | 58/100 [1:29:13<1:03:15, 90.36s/it]"
     ]
    },
    {
     "name": "stdout",
     "output_type": "stream",
     "text": [
      "time:  89.79507660865784\n"
     ]
    },
    {
     "name": "stderr",
     "output_type": "stream",
     "text": [
      " 59%|█████▉    | 59/100 [1:30:47<1:02:26, 91.37s/it]"
     ]
    },
    {
     "name": "stdout",
     "output_type": "stream",
     "text": [
      "time:  93.71534419059753\n"
     ]
    },
    {
     "name": "stderr",
     "output_type": "stream",
     "text": [
      " 60%|██████    | 60/100 [1:32:19<1:01:06, 91.66s/it]"
     ]
    },
    {
     "name": "stdout",
     "output_type": "stream",
     "text": [
      "time:  92.3280885219574\n"
     ]
    },
    {
     "name": "stderr",
     "output_type": "stream",
     "text": [
      " 61%|██████    | 61/100 [1:33:44<58:17, 89.69s/it]  "
     ]
    },
    {
     "name": "stdout",
     "output_type": "stream",
     "text": [
      "time:  85.09441566467285\n"
     ]
    },
    {
     "name": "stderr",
     "output_type": "stream",
     "text": [
      " 62%|██████▏   | 62/100 [1:35:15<57:00, 90.00s/it]"
     ]
    },
    {
     "name": "stdout",
     "output_type": "stream",
     "text": [
      "time:  90.73741269111633\n"
     ]
    },
    {
     "name": "stderr",
     "output_type": "stream",
     "text": [
      " 63%|██████▎   | 63/100 [1:36:45<55:28, 89.96s/it]"
     ]
    },
    {
     "name": "stdout",
     "output_type": "stream",
     "text": [
      "time:  89.87103080749512\n"
     ]
    },
    {
     "name": "stderr",
     "output_type": "stream",
     "text": [
      " 64%|██████▍   | 64/100 [1:38:18<54:31, 90.87s/it]"
     ]
    },
    {
     "name": "stdout",
     "output_type": "stream",
     "text": [
      "time:  92.99964022636414\n"
     ]
    },
    {
     "name": "stderr",
     "output_type": "stream",
     "text": [
      " 65%|██████▌   | 65/100 [1:39:54<53:56, 92.46s/it]"
     ]
    },
    {
     "name": "stdout",
     "output_type": "stream",
     "text": [
      "time:  96.16611218452454\n"
     ]
    },
    {
     "name": "stderr",
     "output_type": "stream",
     "text": [
      " 66%|██████▌   | 66/100 [1:41:23<51:49, 91.46s/it]"
     ]
    },
    {
     "name": "stdout",
     "output_type": "stream",
     "text": [
      "time:  89.10763144493103\n"
     ]
    },
    {
     "name": "stderr",
     "output_type": "stream",
     "text": [
      " 67%|██████▋   | 67/100 [1:42:58<50:55, 92.59s/it]"
     ]
    },
    {
     "name": "stdout",
     "output_type": "stream",
     "text": [
      "time:  95.2440493106842\n"
     ]
    },
    {
     "name": "stderr",
     "output_type": "stream",
     "text": [
      " 68%|██████▊   | 68/100 [1:44:29<49:00, 91.89s/it]"
     ]
    },
    {
     "name": "stdout",
     "output_type": "stream",
     "text": [
      "time:  90.23364973068237\n"
     ]
    },
    {
     "name": "stderr",
     "output_type": "stream",
     "text": [
      " 69%|██████▉   | 69/100 [1:45:55<46:36, 90.20s/it]"
     ]
    },
    {
     "name": "stdout",
     "output_type": "stream",
     "text": [
      "time:  86.26685380935669\n"
     ]
    },
    {
     "name": "stderr",
     "output_type": "stream",
     "text": [
      " 70%|███████   | 70/100 [1:47:21<44:29, 88.99s/it]"
     ]
    },
    {
     "name": "stdout",
     "output_type": "stream",
     "text": [
      "time:  86.16497921943665\n"
     ]
    },
    {
     "name": "stderr",
     "output_type": "stream",
     "text": [
      " 71%|███████   | 71/100 [1:48:50<43:03, 89.08s/it]"
     ]
    },
    {
     "name": "stdout",
     "output_type": "stream",
     "text": [
      "time:  89.29038739204407\n"
     ]
    },
    {
     "name": "stderr",
     "output_type": "stream",
     "text": [
      " 72%|███████▏  | 72/100 [1:50:20<41:42, 89.38s/it]"
     ]
    },
    {
     "name": "stdout",
     "output_type": "stream",
     "text": [
      "time:  90.06600141525269\n"
     ]
    },
    {
     "name": "stderr",
     "output_type": "stream",
     "text": [
      " 73%|███████▎  | 73/100 [1:51:56<41:01, 91.15s/it]"
     ]
    },
    {
     "name": "stdout",
     "output_type": "stream",
     "text": [
      "time:  95.28709006309509\n"
     ]
    },
    {
     "name": "stderr",
     "output_type": "stream",
     "text": [
      " 74%|███████▍  | 74/100 [1:53:26<39:20, 90.78s/it]"
     ]
    },
    {
     "name": "stdout",
     "output_type": "stream",
     "text": [
      "time:  89.9307165145874\n"
     ]
    },
    {
     "name": "stderr",
     "output_type": "stream",
     "text": [
      " 75%|███████▌  | 75/100 [1:54:56<37:45, 90.62s/it]"
     ]
    },
    {
     "name": "stdout",
     "output_type": "stream",
     "text": [
      "time:  90.25082039833069\n"
     ]
    },
    {
     "name": "stderr",
     "output_type": "stream",
     "text": [
      " 76%|███████▌  | 76/100 [1:56:28<36:28, 91.18s/it]"
     ]
    },
    {
     "name": "stdout",
     "output_type": "stream",
     "text": [
      "time:  92.47380709648132\n"
     ]
    },
    {
     "name": "stderr",
     "output_type": "stream",
     "text": [
      " 77%|███████▋  | 77/100 [1:57:57<34:37, 90.33s/it]"
     ]
    },
    {
     "name": "stdout",
     "output_type": "stream",
     "text": [
      "time:  88.34819984436035\n"
     ]
    },
    {
     "name": "stderr",
     "output_type": "stream",
     "text": [
      " 78%|███████▊  | 78/100 [1:59:31<33:33, 91.50s/it]"
     ]
    },
    {
     "name": "stdout",
     "output_type": "stream",
     "text": [
      "time:  94.23030638694763\n"
     ]
    },
    {
     "name": "stderr",
     "output_type": "stream",
     "text": [
      " 79%|███████▉  | 79/100 [2:01:08<32:38, 93.27s/it]"
     ]
    },
    {
     "name": "stdout",
     "output_type": "stream",
     "text": [
      "time:  97.4120442867279\n"
     ]
    },
    {
     "name": "stderr",
     "output_type": "stream",
     "text": [
      " 80%|████████  | 80/100 [2:02:37<30:39, 91.95s/it]"
     ]
    },
    {
     "name": "stdout",
     "output_type": "stream",
     "text": [
      "time:  88.86579632759094\n"
     ]
    },
    {
     "name": "stderr",
     "output_type": "stream",
     "text": [
      " 81%|████████  | 81/100 [2:04:10<29:10, 92.12s/it]"
     ]
    },
    {
     "name": "stdout",
     "output_type": "stream",
     "text": [
      "time:  92.51730132102966\n"
     ]
    },
    {
     "name": "stderr",
     "output_type": "stream",
     "text": [
      " 82%|████████▏ | 82/100 [2:05:42<27:40, 92.25s/it]"
     ]
    },
    {
     "name": "stdout",
     "output_type": "stream",
     "text": [
      "time:  92.54332137107849\n"
     ]
    },
    {
     "name": "stderr",
     "output_type": "stream",
     "text": [
      " 83%|████████▎ | 83/100 [2:07:14<26:07, 92.19s/it]"
     ]
    },
    {
     "name": "stdout",
     "output_type": "stream",
     "text": [
      "time:  92.044118642807\n"
     ]
    },
    {
     "name": "stderr",
     "output_type": "stream",
     "text": [
      " 84%|████████▍ | 84/100 [2:08:49<24:47, 92.96s/it]"
     ]
    },
    {
     "name": "stdout",
     "output_type": "stream",
     "text": [
      "time:  94.75551700592041\n"
     ]
    },
    {
     "name": "stderr",
     "output_type": "stream",
     "text": [
      " 85%|████████▌ | 85/100 [2:10:18<22:58, 91.91s/it]"
     ]
    },
    {
     "name": "stdout",
     "output_type": "stream",
     "text": [
      "time:  89.46276879310608\n"
     ]
    },
    {
     "name": "stderr",
     "output_type": "stream",
     "text": [
      " 86%|████████▌ | 86/100 [2:11:53<21:38, 92.73s/it]"
     ]
    },
    {
     "name": "stdout",
     "output_type": "stream",
     "text": [
      "time:  94.62682604789734\n"
     ]
    },
    {
     "name": "stderr",
     "output_type": "stream",
     "text": [
      " 87%|████████▋ | 87/100 [2:13:24<20:00, 92.32s/it]"
     ]
    },
    {
     "name": "stdout",
     "output_type": "stream",
     "text": [
      "time:  91.36006164550781\n"
     ]
    },
    {
     "name": "stderr",
     "output_type": "stream",
     "text": [
      " 88%|████████▊ | 88/100 [2:14:50<18:02, 90.24s/it]"
     ]
    },
    {
     "name": "stdout",
     "output_type": "stream",
     "text": [
      "time:  85.38351130485535\n"
     ]
    },
    {
     "name": "stderr",
     "output_type": "stream",
     "text": [
      " 89%|████████▉ | 89/100 [2:16:19<16:28, 89.87s/it]"
     ]
    },
    {
     "name": "stdout",
     "output_type": "stream",
     "text": [
      "time:  89.01709055900574\n"
     ]
    },
    {
     "name": "stderr",
     "output_type": "stream",
     "text": [
      " 90%|█████████ | 90/100 [2:17:48<14:56, 89.62s/it]"
     ]
    },
    {
     "name": "stdout",
     "output_type": "stream",
     "text": [
      "time:  89.0447142124176\n"
     ]
    },
    {
     "name": "stderr",
     "output_type": "stream",
     "text": [
      " 91%|█████████ | 91/100 [2:19:17<13:25, 89.55s/it]"
     ]
    },
    {
     "name": "stdout",
     "output_type": "stream",
     "text": [
      "time:  89.38432908058167\n"
     ]
    },
    {
     "name": "stderr",
     "output_type": "stream",
     "text": [
      " 92%|█████████▏| 92/100 [2:20:51<12:06, 90.82s/it]"
     ]
    },
    {
     "name": "stdout",
     "output_type": "stream",
     "text": [
      "time:  93.77265334129333\n"
     ]
    },
    {
     "name": "stderr",
     "output_type": "stream",
     "text": [
      " 93%|█████████▎| 93/100 [2:22:25<10:43, 91.86s/it]"
     ]
    },
    {
     "name": "stdout",
     "output_type": "stream",
     "text": [
      "time:  94.28778457641602\n"
     ]
    },
    {
     "name": "stderr",
     "output_type": "stream",
     "text": [
      " 94%|█████████▍| 94/100 [2:23:54<09:05, 90.99s/it]"
     ]
    },
    {
     "name": "stdout",
     "output_type": "stream",
     "text": [
      "time:  88.94649291038513\n"
     ]
    },
    {
     "name": "stderr",
     "output_type": "stream",
     "text": [
      " 95%|█████████▌| 95/100 [2:25:27<07:37, 91.46s/it]"
     ]
    },
    {
     "name": "stdout",
     "output_type": "stream",
     "text": [
      "time:  92.57804870605469\n"
     ]
    },
    {
     "name": "stderr",
     "output_type": "stream",
     "text": [
      " 96%|█████████▌| 96/100 [2:27:05<06:14, 93.52s/it]"
     ]
    },
    {
     "name": "stdout",
     "output_type": "stream",
     "text": [
      "time:  98.3090717792511\n"
     ]
    },
    {
     "name": "stderr",
     "output_type": "stream",
     "text": [
      " 97%|█████████▋| 97/100 [2:28:42<04:43, 94.49s/it]"
     ]
    },
    {
     "name": "stdout",
     "output_type": "stream",
     "text": [
      "time:  96.7632737159729\n"
     ]
    },
    {
     "name": "stderr",
     "output_type": "stream",
     "text": [
      " 98%|█████████▊| 98/100 [2:30:14<03:07, 93.66s/it]"
     ]
    },
    {
     "name": "stdout",
     "output_type": "stream",
     "text": [
      "time:  91.71151399612427\n"
     ]
    },
    {
     "name": "stderr",
     "output_type": "stream",
     "text": [
      " 99%|█████████▉| 99/100 [2:31:46<01:33, 93.14s/it]"
     ]
    },
    {
     "name": "stdout",
     "output_type": "stream",
     "text": [
      "time:  91.91695261001587\n"
     ]
    },
    {
     "name": "stderr",
     "output_type": "stream",
     "text": [
      "100%|██████████| 100/100 [2:33:20<00:00, 92.01s/it]"
     ]
    },
    {
     "name": "stdout",
     "output_type": "stream",
     "text": [
      "time:  94.62391686439514\n"
     ]
    },
    {
     "name": "stderr",
     "output_type": "stream",
     "text": [
      "\n"
     ]
    }
   ],
   "source": [
    "for i in tqdm(range(100)):\n",
    "    start = time.time()\n",
    "    np.random.seed()\n",
    "    top_2p = top_2p_8part.generate_dataset(10000)\n",
    "    np.random.seed()\n",
    "    top_3p = top_3p_8part.generate_dataset(10000)\n",
    "    with open(f'rawjet_val_top_2p_{i}.pickle', 'wb') as handle:\n",
    "        pickle.dump(top_2p, handle, protocol=pickle.HIGHEST_PROTOCOL)\n",
    "    with open(f'rawjet_val_top_3p_{i}.pickle', 'wb') as handle:\n",
    "        pickle.dump(top_3p, handle, protocol=pickle.HIGHEST_PROTOCOL)\n",
    "    end = time.time()\n",
    "    print(\"time: \", end-start)"
   ]
  },
  {
   "cell_type": "code",
   "execution_count": null,
   "metadata": {},
   "outputs": [],
   "source": []
  },
  {
   "cell_type": "code",
   "execution_count": 6,
   "metadata": {},
   "outputs": [],
   "source": [
    "import os"
   ]
  },
  {
   "cell_type": "code",
   "execution_count": 7,
   "metadata": {},
   "outputs": [],
   "source": [
    "basedir = '/nobackup/users/sangeon/datasets/jets/rawjets'"
   ]
  },
  {
   "cell_type": "code",
   "execution_count": 8,
   "metadata": {},
   "outputs": [],
   "source": [
    "from datagenerator import jet_data_generator \n",
    "top_2p_16part = jet_data_generator(\"signal\",0.00005, 2, 16, True,True, 4)\n",
    "top_3p_16part = jet_data_generator(\"signal\",0.00005, 3, 16, True,True, 4)\n",
    "top_4p_16part = jet_data_generator(\"signal\",0.00005, 4, 16, True,True, 4)"
   ]
  },
  {
   "cell_type": "code",
   "execution_count": 9,
   "metadata": {},
   "outputs": [
    {
     "name": "stderr",
     "output_type": "stream",
     "text": [
      "  3%|▎         | 1/30 [02:43<1:19:14, 163.96s/it]"
     ]
    },
    {
     "name": "stdout",
     "output_type": "stream",
     "text": [
      "time:  163.96268153190613\n"
     ]
    },
    {
     "name": "stderr",
     "output_type": "stream",
     "text": [
      "  7%|▋         | 2/30 [05:28<1:16:39, 164.27s/it]"
     ]
    },
    {
     "name": "stdout",
     "output_type": "stream",
     "text": [
      "time:  164.484689950943\n"
     ]
    },
    {
     "name": "stderr",
     "output_type": "stream",
     "text": [
      " 10%|█         | 3/30 [08:12<1:13:56, 164.32s/it]"
     ]
    },
    {
     "name": "stdout",
     "output_type": "stream",
     "text": [
      "time:  164.36878561973572\n"
     ]
    },
    {
     "name": "stderr",
     "output_type": "stream",
     "text": [
      " 13%|█▎        | 4/30 [10:57<1:11:12, 164.32s/it]"
     ]
    },
    {
     "name": "stdout",
     "output_type": "stream",
     "text": [
      "time:  164.3314914703369\n"
     ]
    },
    {
     "name": "stderr",
     "output_type": "stream",
     "text": [
      " 17%|█▋        | 5/30 [13:41<1:08:28, 164.36s/it]"
     ]
    },
    {
     "name": "stdout",
     "output_type": "stream",
     "text": [
      "time:  164.42023062705994\n"
     ]
    },
    {
     "name": "stderr",
     "output_type": "stream",
     "text": [
      " 20%|██        | 6/30 [16:58<1:10:11, 175.47s/it]"
     ]
    },
    {
     "name": "stdout",
     "output_type": "stream",
     "text": [
      "time:  197.05279564857483\n"
     ]
    },
    {
     "name": "stderr",
     "output_type": "stream",
     "text": [
      " 23%|██▎       | 7/30 [19:42<1:05:49, 171.74s/it]"
     ]
    },
    {
     "name": "stdout",
     "output_type": "stream",
     "text": [
      "time:  164.04149675369263\n"
     ]
    },
    {
     "name": "stderr",
     "output_type": "stream",
     "text": [
      " 27%|██▋       | 8/30 [22:27<1:02:07, 169.44s/it]"
     ]
    },
    {
     "name": "stdout",
     "output_type": "stream",
     "text": [
      "time:  164.50875997543335\n"
     ]
    },
    {
     "name": "stderr",
     "output_type": "stream",
     "text": [
      " 30%|███       | 9/30 [25:11<58:44, 167.85s/it]  "
     ]
    },
    {
     "name": "stdout",
     "output_type": "stream",
     "text": [
      "time:  164.3568000793457\n"
     ]
    },
    {
     "name": "stderr",
     "output_type": "stream",
     "text": [
      " 33%|███▎      | 10/30 [27:55<55:34, 166.71s/it]"
     ]
    },
    {
     "name": "stdout",
     "output_type": "stream",
     "text": [
      "time:  164.15262651443481\n"
     ]
    },
    {
     "name": "stderr",
     "output_type": "stream",
     "text": [
      " 37%|███▋      | 11/30 [30:39<52:32, 165.90s/it]"
     ]
    },
    {
     "name": "stdout",
     "output_type": "stream",
     "text": [
      "time:  164.0616762638092\n"
     ]
    },
    {
     "name": "stderr",
     "output_type": "stream",
     "text": [
      " 40%|████      | 12/30 [33:24<49:38, 165.47s/it]"
     ]
    },
    {
     "name": "stdout",
     "output_type": "stream",
     "text": [
      "time:  164.4796895980835\n"
     ]
    },
    {
     "name": "stderr",
     "output_type": "stream",
     "text": [
      " 43%|████▎     | 13/30 [36:08<46:44, 165.00s/it]"
     ]
    },
    {
     "name": "stdout",
     "output_type": "stream",
     "text": [
      "time:  163.9148509502411\n"
     ]
    },
    {
     "name": "stderr",
     "output_type": "stream",
     "text": [
      " 47%|████▋     | 14/30 [38:52<43:58, 164.90s/it]"
     ]
    },
    {
     "name": "stdout",
     "output_type": "stream",
     "text": [
      "time:  164.68579006195068\n"
     ]
    },
    {
     "name": "stderr",
     "output_type": "stream",
     "text": [
      " 50%|█████     | 15/30 [41:37<41:12, 164.82s/it]"
     ]
    },
    {
     "name": "stdout",
     "output_type": "stream",
     "text": [
      "time:  164.63950490951538\n"
     ]
    },
    {
     "name": "stderr",
     "output_type": "stream",
     "text": [
      " 53%|█████▎    | 16/30 [44:21<38:25, 164.65s/it]"
     ]
    },
    {
     "name": "stdout",
     "output_type": "stream",
     "text": [
      "time:  164.24789357185364\n"
     ]
    },
    {
     "name": "stderr",
     "output_type": "stream",
     "text": [
      " 57%|█████▋    | 17/30 [47:06<35:39, 164.58s/it]"
     ]
    },
    {
     "name": "stdout",
     "output_type": "stream",
     "text": [
      "time:  164.4229917526245\n"
     ]
    },
    {
     "name": "stderr",
     "output_type": "stream",
     "text": [
      " 60%|██████    | 18/30 [49:50<32:54, 164.51s/it]"
     ]
    },
    {
     "name": "stdout",
     "output_type": "stream",
     "text": [
      "time:  164.33066773414612\n"
     ]
    },
    {
     "name": "stderr",
     "output_type": "stream",
     "text": [
      " 63%|██████▎   | 19/30 [52:35<30:09, 164.52s/it]"
     ]
    },
    {
     "name": "stdout",
     "output_type": "stream",
     "text": [
      "time:  164.5524606704712\n"
     ]
    },
    {
     "name": "stderr",
     "output_type": "stream",
     "text": [
      " 67%|██████▋   | 20/30 [55:19<27:24, 164.45s/it]"
     ]
    },
    {
     "name": "stdout",
     "output_type": "stream",
     "text": [
      "time:  164.26918244361877\n"
     ]
    },
    {
     "name": "stderr",
     "output_type": "stream",
     "text": [
      " 70%|███████   | 21/30 [58:03<24:39, 164.34s/it]"
     ]
    },
    {
     "name": "stdout",
     "output_type": "stream",
     "text": [
      "time:  164.0893657207489\n"
     ]
    },
    {
     "name": "stderr",
     "output_type": "stream",
     "text": [
      " 73%|███████▎  | 22/30 [1:00:47<21:54, 164.29s/it]"
     ]
    },
    {
     "name": "stdout",
     "output_type": "stream",
     "text": [
      "time:  164.172429561615\n"
     ]
    },
    {
     "name": "stderr",
     "output_type": "stream",
     "text": [
      " 77%|███████▋  | 23/30 [1:03:31<19:08, 164.11s/it]"
     ]
    },
    {
     "name": "stdout",
     "output_type": "stream",
     "text": [
      "time:  163.70481610298157\n"
     ]
    },
    {
     "name": "stderr",
     "output_type": "stream",
     "text": [
      " 80%|████████  | 24/30 [1:06:14<16:23, 163.96s/it]"
     ]
    },
    {
     "name": "stdout",
     "output_type": "stream",
     "text": [
      "time:  163.5961835384369\n"
     ]
    },
    {
     "name": "stderr",
     "output_type": "stream",
     "text": [
      " 83%|████████▎ | 25/30 [1:08:58<13:39, 163.88s/it]"
     ]
    },
    {
     "name": "stdout",
     "output_type": "stream",
     "text": [
      "time:  163.69729018211365\n"
     ]
    },
    {
     "name": "stderr",
     "output_type": "stream",
     "text": [
      " 87%|████████▋ | 26/30 [1:11:42<10:55, 163.79s/it]"
     ]
    },
    {
     "name": "stdout",
     "output_type": "stream",
     "text": [
      "time:  163.56991004943848\n"
     ]
    },
    {
     "name": "stderr",
     "output_type": "stream",
     "text": [
      " 90%|█████████ | 27/30 [1:14:26<08:11, 163.84s/it]"
     ]
    },
    {
     "name": "stdout",
     "output_type": "stream",
     "text": [
      "time:  163.9674253463745\n"
     ]
    },
    {
     "name": "stderr",
     "output_type": "stream",
     "text": [
      " 93%|█████████▎| 28/30 [1:17:10<05:27, 163.90s/it]"
     ]
    },
    {
     "name": "stdout",
     "output_type": "stream",
     "text": [
      "time:  164.03934979438782\n"
     ]
    },
    {
     "name": "stderr",
     "output_type": "stream",
     "text": [
      " 97%|█████████▋| 29/30 [1:19:54<02:43, 163.99s/it]"
     ]
    },
    {
     "name": "stdout",
     "output_type": "stream",
     "text": [
      "time:  164.1888382434845\n"
     ]
    },
    {
     "name": "stderr",
     "output_type": "stream",
     "text": [
      "100%|██████████| 30/30 [1:22:38<00:00, 165.28s/it]"
     ]
    },
    {
     "name": "stdout",
     "output_type": "stream",
     "text": [
      "time:  163.91527605056763\n"
     ]
    },
    {
     "name": "stderr",
     "output_type": "stream",
     "text": [
      "\n"
     ]
    }
   ],
   "source": [
    "for i in tqdm(range(70,100)):\n",
    "    start = time.time()\n",
    "    np.random.seed()\n",
    "    top_2p = top_2p_16part.generate_dataset(10000)\n",
    "    np.random.seed()\n",
    "    top_3p = top_3p_16part.generate_dataset(10000)\n",
    "    with open(os.path.join(basedir,f'rawjet_16p_train_top_2p_{i}.pickle'), 'wb') as handle:\n",
    "        pickle.dump(top_2p, handle, protocol=pickle.HIGHEST_PROTOCOL)\n",
    "    with open(os.path.join(basedir,f'rawjet_16p_train_top_3p_{i}.pickle'), 'wb') as handle:\n",
    "        pickle.dump(top_3p, handle, protocol=pickle.HIGHEST_PROTOCOL)\n",
    "    end = time.time()\n",
    "    print(\"time: \", end-start)"
   ]
  },
  {
   "cell_type": "code",
   "execution_count": 8,
   "metadata": {},
   "outputs": [
    {
     "name": "stderr",
     "output_type": "stream",
     "text": [
      "  1%|          | 1/100 [02:43<4:30:31, 163.96s/it]"
     ]
    },
    {
     "name": "stdout",
     "output_type": "stream",
     "text": [
      "time:  163.95544028282166\n"
     ]
    },
    {
     "name": "stderr",
     "output_type": "stream",
     "text": [
      "  2%|▏         | 2/100 [05:27<4:27:20, 163.68s/it]"
     ]
    },
    {
     "name": "stdout",
     "output_type": "stream",
     "text": [
      "time:  163.4890570640564\n"
     ]
    },
    {
     "name": "stderr",
     "output_type": "stream",
     "text": [
      "  3%|▎         | 3/100 [08:11<4:24:42, 163.73s/it]"
     ]
    },
    {
     "name": "stdout",
     "output_type": "stream",
     "text": [
      "time:  163.7963764667511\n"
     ]
    },
    {
     "name": "stderr",
     "output_type": "stream",
     "text": [
      "  4%|▍         | 4/100 [10:55<4:22:13, 163.89s/it]"
     ]
    },
    {
     "name": "stdout",
     "output_type": "stream",
     "text": [
      "time:  164.13613891601562\n"
     ]
    },
    {
     "name": "stderr",
     "output_type": "stream",
     "text": [
      "  5%|▌         | 5/100 [13:39<4:19:43, 164.04s/it]"
     ]
    },
    {
     "name": "stdout",
     "output_type": "stream",
     "text": [
      "time:  164.28673243522644\n"
     ]
    },
    {
     "name": "stderr",
     "output_type": "stream",
     "text": [
      "  6%|▌         | 6/100 [16:23<4:16:53, 163.98s/it]"
     ]
    },
    {
     "name": "stdout",
     "output_type": "stream",
     "text": [
      "time:  163.85879230499268\n"
     ]
    },
    {
     "name": "stderr",
     "output_type": "stream",
     "text": [
      "  7%|▋         | 7/100 [19:07<4:14:03, 163.90s/it]"
     ]
    },
    {
     "name": "stdout",
     "output_type": "stream",
     "text": [
      "time:  163.7553355693817\n"
     ]
    },
    {
     "name": "stderr",
     "output_type": "stream",
     "text": [
      "  8%|▊         | 8/100 [21:51<4:11:19, 163.90s/it]"
     ]
    },
    {
     "name": "stdout",
     "output_type": "stream",
     "text": [
      "time:  163.90001893043518\n"
     ]
    },
    {
     "name": "stderr",
     "output_type": "stream",
     "text": [
      "  9%|▉         | 9/100 [24:35<4:08:39, 163.95s/it]"
     ]
    },
    {
     "name": "stdout",
     "output_type": "stream",
     "text": [
      "time:  164.0396490097046\n"
     ]
    },
    {
     "name": "stderr",
     "output_type": "stream",
     "text": [
      " 10%|█         | 10/100 [27:18<4:05:50, 163.89s/it]"
     ]
    },
    {
     "name": "stdout",
     "output_type": "stream",
     "text": [
      "time:  163.77067112922668\n"
     ]
    },
    {
     "name": "stderr",
     "output_type": "stream",
     "text": [
      " 11%|█         | 11/100 [30:02<4:03:04, 163.87s/it]"
     ]
    },
    {
     "name": "stdout",
     "output_type": "stream",
     "text": [
      "time:  163.8213188648224\n"
     ]
    },
    {
     "name": "stderr",
     "output_type": "stream",
     "text": [
      " 12%|█▏        | 12/100 [32:46<4:00:17, 163.84s/it]"
     ]
    },
    {
     "name": "stdout",
     "output_type": "stream",
     "text": [
      "time:  163.76605701446533\n"
     ]
    },
    {
     "name": "stderr",
     "output_type": "stream",
     "text": [
      " 13%|█▎        | 13/100 [35:30<3:57:47, 164.00s/it]"
     ]
    },
    {
     "name": "stdout",
     "output_type": "stream",
     "text": [
      "time:  164.35479426383972\n"
     ]
    },
    {
     "name": "stderr",
     "output_type": "stream",
     "text": [
      " 14%|█▍        | 14/100 [38:15<3:55:14, 164.12s/it]"
     ]
    },
    {
     "name": "stdout",
     "output_type": "stream",
     "text": [
      "time:  164.41742873191833\n"
     ]
    },
    {
     "name": "stderr",
     "output_type": "stream",
     "text": [
      " 15%|█▌        | 15/100 [40:59<3:52:31, 164.14s/it]"
     ]
    },
    {
     "name": "stdout",
     "output_type": "stream",
     "text": [
      "time:  164.1697120666504\n"
     ]
    },
    {
     "name": "stderr",
     "output_type": "stream",
     "text": [
      " 16%|█▌        | 16/100 [43:43<3:49:43, 164.09s/it]"
     ]
    },
    {
     "name": "stdout",
     "output_type": "stream",
     "text": [
      "time:  163.9634084701538\n"
     ]
    },
    {
     "name": "stderr",
     "output_type": "stream",
     "text": [
      " 17%|█▋        | 17/100 [46:27<3:46:58, 164.08s/it]"
     ]
    },
    {
     "name": "stdout",
     "output_type": "stream",
     "text": [
      "time:  164.07851600646973\n"
     ]
    },
    {
     "name": "stderr",
     "output_type": "stream",
     "text": [
      " 18%|█▊        | 18/100 [49:11<3:44:15, 164.09s/it]"
     ]
    },
    {
     "name": "stdout",
     "output_type": "stream",
     "text": [
      "time:  164.10560250282288\n"
     ]
    },
    {
     "name": "stderr",
     "output_type": "stream",
     "text": [
      " 19%|█▉        | 19/100 [51:55<3:41:26, 164.03s/it]"
     ]
    },
    {
     "name": "stdout",
     "output_type": "stream",
     "text": [
      "time:  163.87872886657715\n"
     ]
    },
    {
     "name": "stderr",
     "output_type": "stream",
     "text": [
      " 20%|██        | 20/100 [54:39<3:38:43, 164.04s/it]"
     ]
    },
    {
     "name": "stdout",
     "output_type": "stream",
     "text": [
      "time:  164.0705223083496\n"
     ]
    },
    {
     "name": "stderr",
     "output_type": "stream",
     "text": [
      " 21%|██        | 21/100 [57:23<3:35:59, 164.05s/it]"
     ]
    },
    {
     "name": "stdout",
     "output_type": "stream",
     "text": [
      "time:  164.06404161453247\n"
     ]
    },
    {
     "name": "stderr",
     "output_type": "stream",
     "text": [
      " 22%|██▏       | 22/100 [1:00:07<3:33:06, 163.93s/it]"
     ]
    },
    {
     "name": "stdout",
     "output_type": "stream",
     "text": [
      "time:  163.6424858570099\n"
     ]
    },
    {
     "name": "stderr",
     "output_type": "stream",
     "text": [
      " 23%|██▎       | 23/100 [1:02:50<3:30:13, 163.81s/it]"
     ]
    },
    {
     "name": "stdout",
     "output_type": "stream",
     "text": [
      "time:  163.54107666015625\n"
     ]
    },
    {
     "name": "stderr",
     "output_type": "stream",
     "text": [
      " 24%|██▍       | 24/100 [1:05:34<3:27:15, 163.63s/it]"
     ]
    },
    {
     "name": "stdout",
     "output_type": "stream",
     "text": [
      "time:  163.19176197052002\n"
     ]
    },
    {
     "name": "stderr",
     "output_type": "stream",
     "text": [
      " 25%|██▌       | 25/100 [1:08:17<3:24:27, 163.56s/it]"
     ]
    },
    {
     "name": "stdout",
     "output_type": "stream",
     "text": [
      "time:  163.41484594345093\n"
     ]
    },
    {
     "name": "stderr",
     "output_type": "stream",
     "text": [
      " 26%|██▌       | 26/100 [1:11:00<3:21:37, 163.48s/it]"
     ]
    },
    {
     "name": "stdout",
     "output_type": "stream",
     "text": [
      "time:  163.27952218055725\n"
     ]
    },
    {
     "name": "stderr",
     "output_type": "stream",
     "text": [
      " 27%|██▋       | 27/100 [1:13:44<3:19:01, 163.59s/it]"
     ]
    },
    {
     "name": "stdout",
     "output_type": "stream",
     "text": [
      "time:  163.84703516960144\n"
     ]
    },
    {
     "name": "stderr",
     "output_type": "stream",
     "text": [
      " 28%|██▊       | 28/100 [1:16:28<3:16:15, 163.55s/it]"
     ]
    },
    {
     "name": "stdout",
     "output_type": "stream",
     "text": [
      "time:  163.44431805610657\n"
     ]
    },
    {
     "name": "stderr",
     "output_type": "stream",
     "text": [
      " 29%|██▉       | 29/100 [1:19:11<3:13:32, 163.56s/it]"
     ]
    },
    {
     "name": "stdout",
     "output_type": "stream",
     "text": [
      "time:  163.57818031311035\n"
     ]
    },
    {
     "name": "stderr",
     "output_type": "stream",
     "text": [
      " 30%|███       | 30/100 [1:22:04<3:13:56, 166.23s/it]"
     ]
    },
    {
     "name": "stdout",
     "output_type": "stream",
     "text": [
      "time:  172.48206973075867\n"
     ]
    },
    {
     "name": "stderr",
     "output_type": "stream",
     "text": [
      " 31%|███       | 31/100 [1:24:47<3:10:12, 165.40s/it]"
     ]
    },
    {
     "name": "stdout",
     "output_type": "stream",
     "text": [
      "time:  163.46602416038513\n"
     ]
    },
    {
     "name": "stderr",
     "output_type": "stream",
     "text": [
      " 32%|███▏      | 32/100 [1:27:31<3:06:47, 164.81s/it]"
     ]
    },
    {
     "name": "stdout",
     "output_type": "stream",
     "text": [
      "time:  163.42670917510986\n"
     ]
    },
    {
     "name": "stderr",
     "output_type": "stream",
     "text": [
      " 33%|███▎      | 33/100 [1:30:14<3:03:38, 164.45s/it]"
     ]
    },
    {
     "name": "stdout",
     "output_type": "stream",
     "text": [
      "time:  163.61649203300476\n"
     ]
    },
    {
     "name": "stderr",
     "output_type": "stream",
     "text": [
      " 34%|███▍      | 34/100 [1:32:58<3:00:38, 164.23s/it]"
     ]
    },
    {
     "name": "stdout",
     "output_type": "stream",
     "text": [
      "time:  163.69336771965027\n"
     ]
    },
    {
     "name": "stderr",
     "output_type": "stream",
     "text": [
      " 35%|███▌      | 35/100 [1:35:42<2:57:43, 164.06s/it]"
     ]
    },
    {
     "name": "stdout",
     "output_type": "stream",
     "text": [
      "time:  163.6681580543518\n"
     ]
    },
    {
     "name": "stderr",
     "output_type": "stream",
     "text": [
      " 36%|███▌      | 36/100 [1:38:25<2:54:47, 163.87s/it]"
     ]
    },
    {
     "name": "stdout",
     "output_type": "stream",
     "text": [
      "time:  163.41619062423706\n"
     ]
    },
    {
     "name": "stderr",
     "output_type": "stream",
     "text": [
      " 37%|███▋      | 37/100 [1:41:09<2:52:05, 163.89s/it]"
     ]
    },
    {
     "name": "stdout",
     "output_type": "stream",
     "text": [
      "time:  163.9546661376953\n"
     ]
    },
    {
     "name": "stderr",
     "output_type": "stream",
     "text": [
      " 38%|███▊      | 38/100 [1:43:53<2:49:20, 163.87s/it]"
     ]
    },
    {
     "name": "stdout",
     "output_type": "stream",
     "text": [
      "time:  163.82294845581055\n"
     ]
    },
    {
     "name": "stderr",
     "output_type": "stream",
     "text": [
      " 39%|███▉      | 39/100 [1:46:36<2:46:26, 163.72s/it]"
     ]
    },
    {
     "name": "stdout",
     "output_type": "stream",
     "text": [
      "time:  163.35659003257751\n"
     ]
    },
    {
     "name": "stderr",
     "output_type": "stream",
     "text": [
      " 40%|████      | 40/100 [1:49:20<2:43:42, 163.70s/it]"
     ]
    },
    {
     "name": "stdout",
     "output_type": "stream",
     "text": [
      "time:  163.66239285469055\n"
     ]
    },
    {
     "name": "stderr",
     "output_type": "stream",
     "text": [
      " 41%|████      | 41/100 [1:52:03<2:40:56, 163.67s/it]"
     ]
    },
    {
     "name": "stdout",
     "output_type": "stream",
     "text": [
      "time:  163.58739924430847\n"
     ]
    },
    {
     "name": "stderr",
     "output_type": "stream",
     "text": [
      " 42%|████▏     | 42/100 [1:54:47<2:38:06, 163.57s/it]"
     ]
    },
    {
     "name": "stdout",
     "output_type": "stream",
     "text": [
      "time:  163.32496738433838\n"
     ]
    },
    {
     "name": "stderr",
     "output_type": "stream",
     "text": [
      " 43%|████▎     | 43/100 [1:57:30<2:35:19, 163.50s/it]"
     ]
    },
    {
     "name": "stdout",
     "output_type": "stream",
     "text": [
      "time:  163.36129069328308\n"
     ]
    },
    {
     "name": "stderr",
     "output_type": "stream",
     "text": [
      " 44%|████▍     | 44/100 [2:00:14<2:32:38, 163.54s/it]"
     ]
    },
    {
     "name": "stdout",
     "output_type": "stream",
     "text": [
      "time:  163.6364824771881\n"
     ]
    },
    {
     "name": "stderr",
     "output_type": "stream",
     "text": [
      " 45%|████▌     | 45/100 [2:02:57<2:29:56, 163.57s/it]"
     ]
    },
    {
     "name": "stdout",
     "output_type": "stream",
     "text": [
      "time:  163.64163494110107\n"
     ]
    },
    {
     "name": "stderr",
     "output_type": "stream",
     "text": [
      " 46%|████▌     | 46/100 [2:05:41<2:27:17, 163.65s/it]"
     ]
    },
    {
     "name": "stdout",
     "output_type": "stream",
     "text": [
      "time:  163.83407020568848\n"
     ]
    },
    {
     "name": "stderr",
     "output_type": "stream",
     "text": [
      " 47%|████▋     | 47/100 [2:08:25<2:24:32, 163.64s/it]"
     ]
    },
    {
     "name": "stdout",
     "output_type": "stream",
     "text": [
      "time:  163.6043245792389\n"
     ]
    },
    {
     "name": "stderr",
     "output_type": "stream",
     "text": [
      " 48%|████▊     | 48/100 [2:11:08<2:21:47, 163.60s/it]"
     ]
    },
    {
     "name": "stdout",
     "output_type": "stream",
     "text": [
      "time:  163.49818420410156\n"
     ]
    },
    {
     "name": "stderr",
     "output_type": "stream",
     "text": [
      " 49%|████▉     | 49/100 [2:13:52<2:19:02, 163.58s/it]"
     ]
    },
    {
     "name": "stdout",
     "output_type": "stream",
     "text": [
      "time:  163.52764797210693\n"
     ]
    },
    {
     "name": "stderr",
     "output_type": "stream",
     "text": [
      " 50%|█████     | 50/100 [2:16:35<2:16:18, 163.57s/it]"
     ]
    },
    {
     "name": "stdout",
     "output_type": "stream",
     "text": [
      "time:  163.5685486793518\n"
     ]
    },
    {
     "name": "stderr",
     "output_type": "stream",
     "text": [
      " 51%|█████     | 51/100 [2:19:19<2:13:37, 163.63s/it]"
     ]
    },
    {
     "name": "stdout",
     "output_type": "stream",
     "text": [
      "time:  163.76283597946167\n"
     ]
    },
    {
     "name": "stderr",
     "output_type": "stream",
     "text": [
      " 52%|█████▏    | 52/100 [2:22:03<2:10:52, 163.60s/it]"
     ]
    },
    {
     "name": "stdout",
     "output_type": "stream",
     "text": [
      "time:  163.51355576515198\n"
     ]
    },
    {
     "name": "stderr",
     "output_type": "stream",
     "text": [
      " 53%|█████▎    | 53/100 [2:24:46<2:08:07, 163.56s/it]"
     ]
    },
    {
     "name": "stdout",
     "output_type": "stream",
     "text": [
      "time:  163.4771363735199\n"
     ]
    },
    {
     "name": "stderr",
     "output_type": "stream",
     "text": [
      " 54%|█████▍    | 54/100 [2:27:30<2:05:28, 163.65s/it]"
     ]
    },
    {
     "name": "stdout",
     "output_type": "stream",
     "text": [
      "time:  163.86912989616394\n"
     ]
    },
    {
     "name": "stderr",
     "output_type": "stream",
     "text": [
      " 55%|█████▌    | 55/100 [2:30:13<2:02:38, 163.52s/it]"
     ]
    },
    {
     "name": "stdout",
     "output_type": "stream",
     "text": [
      "time:  163.1991229057312\n"
     ]
    },
    {
     "name": "stderr",
     "output_type": "stream",
     "text": [
      " 56%|█████▌    | 56/100 [2:32:57<1:59:56, 163.56s/it]"
     ]
    },
    {
     "name": "stdout",
     "output_type": "stream",
     "text": [
      "time:  163.66208291053772\n"
     ]
    },
    {
     "name": "stderr",
     "output_type": "stream",
     "text": [
      " 57%|█████▋    | 57/100 [2:35:40<1:57:14, 163.59s/it]"
     ]
    },
    {
     "name": "stdout",
     "output_type": "stream",
     "text": [
      "time:  163.6443362236023\n"
     ]
    },
    {
     "name": "stderr",
     "output_type": "stream",
     "text": [
      " 58%|█████▊    | 58/100 [2:38:24<1:54:32, 163.64s/it]"
     ]
    },
    {
     "name": "stdout",
     "output_type": "stream",
     "text": [
      "time:  163.76728582382202\n"
     ]
    },
    {
     "name": "stderr",
     "output_type": "stream",
     "text": [
      " 59%|█████▉    | 59/100 [2:41:08<1:51:53, 163.75s/it]"
     ]
    },
    {
     "name": "stdout",
     "output_type": "stream",
     "text": [
      "time:  164.00828528404236\n"
     ]
    },
    {
     "name": "stderr",
     "output_type": "stream",
     "text": [
      " 60%|██████    | 60/100 [2:43:52<1:49:08, 163.72s/it]"
     ]
    },
    {
     "name": "stdout",
     "output_type": "stream",
     "text": [
      "time:  163.65569806098938\n"
     ]
    },
    {
     "name": "stderr",
     "output_type": "stream",
     "text": [
      " 61%|██████    | 61/100 [2:46:36<1:46:28, 163.80s/it]"
     ]
    },
    {
     "name": "stdout",
     "output_type": "stream",
     "text": [
      "time:  163.98184061050415\n"
     ]
    },
    {
     "name": "stderr",
     "output_type": "stream",
     "text": [
      " 62%|██████▏   | 62/100 [2:49:20<1:43:43, 163.76s/it]"
     ]
    },
    {
     "name": "stdout",
     "output_type": "stream",
     "text": [
      "time:  163.67441606521606\n"
     ]
    },
    {
     "name": "stderr",
     "output_type": "stream",
     "text": [
      " 63%|██████▎   | 63/100 [2:52:03<1:40:58, 163.73s/it]"
     ]
    },
    {
     "name": "stdout",
     "output_type": "stream",
     "text": [
      "time:  163.6515679359436\n"
     ]
    },
    {
     "name": "stderr",
     "output_type": "stream",
     "text": [
      " 64%|██████▍   | 64/100 [2:54:47<1:38:14, 163.74s/it]"
     ]
    },
    {
     "name": "stdout",
     "output_type": "stream",
     "text": [
      "time:  163.76028108596802\n"
     ]
    },
    {
     "name": "stderr",
     "output_type": "stream",
     "text": [
      " 65%|██████▌   | 65/100 [2:57:30<1:35:26, 163.62s/it]"
     ]
    },
    {
     "name": "stdout",
     "output_type": "stream",
     "text": [
      "time:  163.33298587799072\n"
     ]
    },
    {
     "name": "stderr",
     "output_type": "stream",
     "text": [
      " 66%|██████▌   | 66/100 [3:00:14<1:32:39, 163.53s/it]"
     ]
    },
    {
     "name": "stdout",
     "output_type": "stream",
     "text": [
      "time:  163.32134318351746\n"
     ]
    },
    {
     "name": "stderr",
     "output_type": "stream",
     "text": [
      " 67%|██████▋   | 67/100 [3:02:57<1:29:56, 163.54s/it]"
     ]
    },
    {
     "name": "stdout",
     "output_type": "stream",
     "text": [
      "time:  163.5710575580597\n"
     ]
    },
    {
     "name": "stderr",
     "output_type": "stream",
     "text": [
      " 68%|██████▊   | 68/100 [3:05:41<1:27:12, 163.52s/it]"
     ]
    },
    {
     "name": "stdout",
     "output_type": "stream",
     "text": [
      "time:  163.47290992736816\n"
     ]
    },
    {
     "name": "stderr",
     "output_type": "stream",
     "text": [
      " 69%|██████▉   | 69/100 [3:08:24<1:24:28, 163.51s/it]"
     ]
    },
    {
     "name": "stdout",
     "output_type": "stream",
     "text": [
      "time:  163.48117804527283\n"
     ]
    },
    {
     "name": "stderr",
     "output_type": "stream",
     "text": [
      " 70%|███████   | 70/100 [3:11:08<1:21:46, 163.56s/it]"
     ]
    },
    {
     "name": "stdout",
     "output_type": "stream",
     "text": [
      "time:  163.6806938648224\n"
     ]
    },
    {
     "name": "stderr",
     "output_type": "stream",
     "text": [
      " 71%|███████   | 71/100 [3:13:51<1:19:03, 163.58s/it]"
     ]
    },
    {
     "name": "stdout",
     "output_type": "stream",
     "text": [
      "time:  163.60835766792297\n"
     ]
    },
    {
     "name": "stderr",
     "output_type": "stream",
     "text": [
      " 72%|███████▏  | 72/100 [3:16:36<1:16:24, 163.74s/it]"
     ]
    },
    {
     "name": "stdout",
     "output_type": "stream",
     "text": [
      "time:  164.1217803955078\n"
     ]
    },
    {
     "name": "stderr",
     "output_type": "stream",
     "text": [
      " 73%|███████▎  | 73/100 [3:19:19<1:13:40, 163.72s/it]"
     ]
    },
    {
     "name": "stdout",
     "output_type": "stream",
     "text": [
      "time:  163.664972782135\n"
     ]
    },
    {
     "name": "stderr",
     "output_type": "stream",
     "text": [
      " 74%|███████▍  | 74/100 [3:22:03<1:10:58, 163.78s/it]"
     ]
    },
    {
     "name": "stdout",
     "output_type": "stream",
     "text": [
      "time:  163.93082427978516\n"
     ]
    },
    {
     "name": "stderr",
     "output_type": "stream",
     "text": [
      " 75%|███████▌  | 75/100 [3:24:47<1:08:15, 163.81s/it]"
     ]
    },
    {
     "name": "stdout",
     "output_type": "stream",
     "text": [
      "time:  163.86066007614136\n"
     ]
    },
    {
     "name": "stderr",
     "output_type": "stream",
     "text": [
      " 76%|███████▌  | 76/100 [3:27:31<1:05:31, 163.82s/it]"
     ]
    },
    {
     "name": "stdout",
     "output_type": "stream",
     "text": [
      "time:  163.84105849266052\n"
     ]
    },
    {
     "name": "stderr",
     "output_type": "stream",
     "text": [
      " 77%|███████▋  | 77/100 [3:30:15<1:02:48, 163.85s/it]"
     ]
    },
    {
     "name": "stdout",
     "output_type": "stream",
     "text": [
      "time:  163.92673206329346\n"
     ]
    },
    {
     "name": "stderr",
     "output_type": "stream",
     "text": [
      " 78%|███████▊  | 78/100 [3:32:59<1:00:05, 163.89s/it]"
     ]
    },
    {
     "name": "stdout",
     "output_type": "stream",
     "text": [
      "time:  163.99845147132874\n"
     ]
    },
    {
     "name": "stderr",
     "output_type": "stream",
     "text": [
      " 79%|███████▉  | 79/100 [3:35:43<57:21, 163.88s/it]  "
     ]
    },
    {
     "name": "stdout",
     "output_type": "stream",
     "text": [
      "time:  163.8456907272339\n"
     ]
    },
    {
     "name": "stderr",
     "output_type": "stream",
     "text": [
      " 80%|████████  | 80/100 [3:38:26<54:37, 163.87s/it]"
     ]
    },
    {
     "name": "stdout",
     "output_type": "stream",
     "text": [
      "time:  163.84409189224243\n"
     ]
    },
    {
     "name": "stderr",
     "output_type": "stream",
     "text": [
      " 81%|████████  | 81/100 [3:41:10<51:51, 163.78s/it]"
     ]
    },
    {
     "name": "stdout",
     "output_type": "stream",
     "text": [
      "time:  163.56960725784302\n"
     ]
    },
    {
     "name": "stderr",
     "output_type": "stream",
     "text": [
      " 82%|████████▏ | 82/100 [3:43:54<49:10, 163.89s/it]"
     ]
    },
    {
     "name": "stdout",
     "output_type": "stream",
     "text": [
      "time:  164.15649843215942\n"
     ]
    },
    {
     "name": "stderr",
     "output_type": "stream",
     "text": [
      " 83%|████████▎ | 83/100 [3:46:38<46:24, 163.79s/it]"
     ]
    },
    {
     "name": "stdout",
     "output_type": "stream",
     "text": [
      "time:  163.54153060913086\n"
     ]
    },
    {
     "name": "stderr",
     "output_type": "stream",
     "text": [
      " 84%|████████▍ | 84/100 [3:49:21<43:40, 163.76s/it]"
     ]
    },
    {
     "name": "stdout",
     "output_type": "stream",
     "text": [
      "time:  163.6959855556488\n"
     ]
    },
    {
     "name": "stderr",
     "output_type": "stream",
     "text": [
      " 85%|████████▌ | 85/100 [3:52:05<40:56, 163.79s/it]"
     ]
    },
    {
     "name": "stdout",
     "output_type": "stream",
     "text": [
      "time:  163.8708188533783\n"
     ]
    },
    {
     "name": "stderr",
     "output_type": "stream",
     "text": [
      " 86%|████████▌ | 86/100 [3:54:50<38:15, 163.93s/it]"
     ]
    },
    {
     "name": "stdout",
     "output_type": "stream",
     "text": [
      "time:  164.25381565093994\n"
     ]
    },
    {
     "name": "stderr",
     "output_type": "stream",
     "text": [
      " 87%|████████▋ | 87/100 [3:57:33<35:30, 163.92s/it]"
     ]
    },
    {
     "name": "stdout",
     "output_type": "stream",
     "text": [
      "time:  163.8787965774536\n"
     ]
    },
    {
     "name": "stderr",
     "output_type": "stream",
     "text": [
      " 88%|████████▊ | 88/100 [4:00:17<32:47, 163.94s/it]"
     ]
    },
    {
     "name": "stdout",
     "output_type": "stream",
     "text": [
      "time:  164.00309300422668\n"
     ]
    },
    {
     "name": "stderr",
     "output_type": "stream",
     "text": [
      " 89%|████████▉ | 89/100 [4:03:01<30:03, 163.97s/it]"
     ]
    },
    {
     "name": "stdout",
     "output_type": "stream",
     "text": [
      "time:  164.02648520469666\n"
     ]
    },
    {
     "name": "stderr",
     "output_type": "stream",
     "text": [
      " 90%|█████████ | 90/100 [4:05:46<27:20, 164.06s/it]"
     ]
    },
    {
     "name": "stdout",
     "output_type": "stream",
     "text": [
      "time:  164.28343224525452\n"
     ]
    },
    {
     "name": "stderr",
     "output_type": "stream",
     "text": [
      " 91%|█████████ | 91/100 [4:08:30<24:35, 164.00s/it]"
     ]
    },
    {
     "name": "stdout",
     "output_type": "stream",
     "text": [
      "time:  163.84257698059082\n"
     ]
    },
    {
     "name": "stderr",
     "output_type": "stream",
     "text": [
      " 92%|█████████▏| 92/100 [4:11:13<21:51, 163.96s/it]"
     ]
    },
    {
     "name": "stdout",
     "output_type": "stream",
     "text": [
      "time:  163.8829481601715\n"
     ]
    },
    {
     "name": "stderr",
     "output_type": "stream",
     "text": [
      " 93%|█████████▎| 93/100 [4:13:58<19:08, 164.02s/it]"
     ]
    },
    {
     "name": "stdout",
     "output_type": "stream",
     "text": [
      "time:  164.15422582626343\n"
     ]
    },
    {
     "name": "stderr",
     "output_type": "stream",
     "text": [
      " 94%|█████████▍| 94/100 [4:16:42<16:24, 164.09s/it]"
     ]
    },
    {
     "name": "stdout",
     "output_type": "stream",
     "text": [
      "time:  164.25406527519226\n"
     ]
    },
    {
     "name": "stderr",
     "output_type": "stream",
     "text": [
      " 95%|█████████▌| 95/100 [4:19:26<13:40, 164.12s/it]"
     ]
    },
    {
     "name": "stdout",
     "output_type": "stream",
     "text": [
      "time:  164.17896366119385\n"
     ]
    },
    {
     "name": "stderr",
     "output_type": "stream",
     "text": [
      " 96%|█████████▌| 96/100 [4:22:10<10:56, 164.17s/it]"
     ]
    },
    {
     "name": "stdout",
     "output_type": "stream",
     "text": [
      "time:  164.29059672355652\n"
     ]
    },
    {
     "name": "stderr",
     "output_type": "stream",
     "text": [
      " 97%|█████████▋| 97/100 [4:24:55<08:12, 164.16s/it]"
     ]
    },
    {
     "name": "stdout",
     "output_type": "stream",
     "text": [
      "time:  164.13458371162415\n"
     ]
    },
    {
     "name": "stderr",
     "output_type": "stream",
     "text": [
      " 98%|█████████▊| 98/100 [4:27:39<05:28, 164.21s/it]"
     ]
    },
    {
     "name": "stdout",
     "output_type": "stream",
     "text": [
      "time:  164.3377981185913\n"
     ]
    },
    {
     "name": "stderr",
     "output_type": "stream",
     "text": [
      " 99%|█████████▉| 99/100 [4:30:23<02:44, 164.23s/it]"
     ]
    },
    {
     "name": "stdout",
     "output_type": "stream",
     "text": [
      "time:  164.26145577430725\n"
     ]
    },
    {
     "name": "stderr",
     "output_type": "stream",
     "text": [
      "100%|██████████| 100/100 [4:33:07<00:00, 163.88s/it]"
     ]
    },
    {
     "name": "stdout",
     "output_type": "stream",
     "text": [
      "time:  163.97610688209534\n"
     ]
    },
    {
     "name": "stderr",
     "output_type": "stream",
     "text": [
      "\n"
     ]
    }
   ],
   "source": [
    "for i in tqdm(range(100)):\n",
    "    start = time.time()\n",
    "    np.random.seed()\n",
    "    top_2p = top_2p_16part.generate_dataset(10000)\n",
    "    np.random.seed()\n",
    "    top_3p = top_3p_16part.generate_dataset(10000)\n",
    "    with open(os.path.join(basedir,f'rawjet_16p_val_top_2p_{i}.pickle'), 'wb') as handle:\n",
    "        pickle.dump(top_2p, handle, protocol=pickle.HIGHEST_PROTOCOL)\n",
    "    with open(os.path.join(basedir,f'rawjet_16p_val_top_3p_{i}.pickle'), 'wb') as handle:\n",
    "        pickle.dump(top_3p, handle, protocol=pickle.HIGHEST_PROTOCOL)\n",
    "    end = time.time()\n",
    "    print(\"time: \", end-start)"
   ]
  },
  {
   "cell_type": "code",
   "execution_count": null,
   "metadata": {},
   "outputs": [
    {
     "name": "stderr",
     "output_type": "stream",
     "text": [
      "  1%|          | 1/100 [02:44<4:30:36, 164.01s/it]"
     ]
    },
    {
     "name": "stdout",
     "output_type": "stream",
     "text": [
      "time:  164.00877618789673\n"
     ]
    },
    {
     "name": "stderr",
     "output_type": "stream",
     "text": [
      "  2%|▏         | 2/100 [05:27<4:27:31, 163.79s/it]"
     ]
    },
    {
     "name": "stdout",
     "output_type": "stream",
     "text": [
      "time:  163.62988352775574\n"
     ]
    },
    {
     "name": "stderr",
     "output_type": "stream",
     "text": [
      "  3%|▎         | 3/100 [08:11<4:24:53, 163.85s/it]"
     ]
    },
    {
     "name": "stdout",
     "output_type": "stream",
     "text": [
      "time:  163.92660689353943\n"
     ]
    },
    {
     "name": "stderr",
     "output_type": "stream",
     "text": [
      "  4%|▍         | 4/100 [10:55<4:22:06, 163.82s/it]"
     ]
    },
    {
     "name": "stdout",
     "output_type": "stream",
     "text": [
      "time:  163.76890087127686\n"
     ]
    },
    {
     "name": "stderr",
     "output_type": "stream",
     "text": [
      "  5%|▌         | 5/100 [13:39<4:19:21, 163.81s/it]"
     ]
    },
    {
     "name": "stdout",
     "output_type": "stream",
     "text": [
      "time:  163.7862024307251\n"
     ]
    },
    {
     "name": "stderr",
     "output_type": "stream",
     "text": [
      "  6%|▌         | 6/100 [16:23<4:16:41, 163.84s/it]"
     ]
    },
    {
     "name": "stdout",
     "output_type": "stream",
     "text": [
      "time:  163.9130175113678\n"
     ]
    },
    {
     "name": "stderr",
     "output_type": "stream",
     "text": [
      "  7%|▋         | 7/100 [19:06<4:13:59, 163.86s/it]"
     ]
    },
    {
     "name": "stdout",
     "output_type": "stream",
     "text": [
      "time:  163.89958500862122\n"
     ]
    },
    {
     "name": "stderr",
     "output_type": "stream",
     "text": [
      "  8%|▊         | 8/100 [21:50<4:11:20, 163.92s/it]"
     ]
    },
    {
     "name": "stdout",
     "output_type": "stream",
     "text": [
      "time:  164.04121041297913\n"
     ]
    },
    {
     "name": "stderr",
     "output_type": "stream",
     "text": [
      "  9%|▉         | 9/100 [24:35<4:08:43, 163.99s/it]"
     ]
    },
    {
     "name": "stdout",
     "output_type": "stream",
     "text": [
      "time:  164.14081406593323\n"
     ]
    },
    {
     "name": "stderr",
     "output_type": "stream",
     "text": [
      " 10%|█         | 10/100 [27:19<4:06:02, 164.03s/it]"
     ]
    },
    {
     "name": "stdout",
     "output_type": "stream",
     "text": [
      "time:  164.12137746810913\n"
     ]
    },
    {
     "name": "stderr",
     "output_type": "stream",
     "text": [
      " 11%|█         | 11/100 [30:03<4:03:16, 164.01s/it]"
     ]
    },
    {
     "name": "stdout",
     "output_type": "stream",
     "text": [
      "time:  163.96660685539246\n"
     ]
    },
    {
     "name": "stderr",
     "output_type": "stream",
     "text": [
      " 12%|█▏        | 12/100 [32:47<4:00:28, 163.97s/it]"
     ]
    },
    {
     "name": "stdout",
     "output_type": "stream",
     "text": [
      "time:  163.85942220687866\n"
     ]
    },
    {
     "name": "stderr",
     "output_type": "stream",
     "text": [
      " 13%|█▎        | 13/100 [35:31<3:57:44, 163.96s/it]"
     ]
    },
    {
     "name": "stdout",
     "output_type": "stream",
     "text": [
      "time:  163.94360780715942\n"
     ]
    },
    {
     "name": "stderr",
     "output_type": "stream",
     "text": [
      " 14%|█▍        | 14/100 [38:14<3:54:57, 163.93s/it]"
     ]
    },
    {
     "name": "stdout",
     "output_type": "stream",
     "text": [
      "time:  163.85914731025696\n"
     ]
    },
    {
     "name": "stderr",
     "output_type": "stream",
     "text": [
      " 15%|█▌        | 15/100 [40:58<3:52:13, 163.93s/it]"
     ]
    },
    {
     "name": "stdout",
     "output_type": "stream",
     "text": [
      "time:  163.92555403709412\n"
     ]
    },
    {
     "name": "stderr",
     "output_type": "stream",
     "text": [
      " 16%|█▌        | 16/100 [43:42<3:49:31, 163.95s/it]"
     ]
    },
    {
     "name": "stdout",
     "output_type": "stream",
     "text": [
      "time:  163.99213242530823\n"
     ]
    },
    {
     "name": "stderr",
     "output_type": "stream",
     "text": [
      " 17%|█▋        | 17/100 [46:26<3:46:48, 163.96s/it]"
     ]
    },
    {
     "name": "stdout",
     "output_type": "stream",
     "text": [
      "time:  163.98684549331665\n"
     ]
    },
    {
     "name": "stderr",
     "output_type": "stream",
     "text": [
      " 18%|█▊        | 18/100 [49:11<3:44:15, 164.09s/it]"
     ]
    },
    {
     "name": "stdout",
     "output_type": "stream",
     "text": [
      "time:  164.3856132030487\n"
     ]
    },
    {
     "name": "stderr",
     "output_type": "stream",
     "text": [
      " 19%|█▉        | 19/100 [51:54<3:41:24, 164.00s/it]"
     ]
    },
    {
     "name": "stdout",
     "output_type": "stream",
     "text": [
      "time:  163.79717135429382\n"
     ]
    },
    {
     "name": "stderr",
     "output_type": "stream",
     "text": [
      " 20%|██        | 20/100 [54:38<3:38:34, 163.93s/it]"
     ]
    },
    {
     "name": "stdout",
     "output_type": "stream",
     "text": [
      "time:  163.7515709400177\n"
     ]
    },
    {
     "name": "stderr",
     "output_type": "stream",
     "text": [
      " 21%|██        | 21/100 [57:22<3:35:52, 163.96s/it]"
     ]
    },
    {
     "name": "stdout",
     "output_type": "stream",
     "text": [
      "time:  164.02071905136108\n"
     ]
    },
    {
     "name": "stderr",
     "output_type": "stream",
     "text": [
      " 22%|██▏       | 22/100 [1:00:06<3:33:05, 163.91s/it]"
     ]
    },
    {
     "name": "stdout",
     "output_type": "stream",
     "text": [
      "time:  163.8100905418396\n"
     ]
    },
    {
     "name": "stderr",
     "output_type": "stream",
     "text": [
      " 23%|██▎       | 23/100 [1:02:50<3:30:25, 163.96s/it]"
     ]
    },
    {
     "name": "stdout",
     "output_type": "stream",
     "text": [
      "time:  164.0762767791748\n"
     ]
    },
    {
     "name": "stderr",
     "output_type": "stream",
     "text": [
      " 24%|██▍       | 24/100 [1:05:35<3:28:01, 164.23s/it]"
     ]
    },
    {
     "name": "stdout",
     "output_type": "stream",
     "text": [
      "time:  164.84615445137024\n"
     ]
    },
    {
     "name": "stderr",
     "output_type": "stream",
     "text": [
      " 25%|██▌       | 25/100 [1:08:19<3:25:08, 164.11s/it]"
     ]
    },
    {
     "name": "stdout",
     "output_type": "stream",
     "text": [
      "time:  163.85094118118286\n"
     ]
    },
    {
     "name": "stderr",
     "output_type": "stream",
     "text": [
      " 26%|██▌       | 26/100 [1:11:03<3:22:28, 164.17s/it]"
     ]
    },
    {
     "name": "stdout",
     "output_type": "stream",
     "text": [
      "time:  164.28761768341064\n"
     ]
    },
    {
     "name": "stderr",
     "output_type": "stream",
     "text": [
      " 27%|██▋       | 27/100 [1:13:47<3:19:41, 164.12s/it]"
     ]
    },
    {
     "name": "stdout",
     "output_type": "stream",
     "text": [
      "time:  164.02380108833313\n"
     ]
    },
    {
     "name": "stderr",
     "output_type": "stream",
     "text": [
      " 28%|██▊       | 28/100 [1:16:31<3:16:46, 163.98s/it]"
     ]
    },
    {
     "name": "stdout",
     "output_type": "stream",
     "text": [
      "time:  163.62927770614624\n"
     ]
    },
    {
     "name": "stderr",
     "output_type": "stream",
     "text": [
      " 29%|██▉       | 29/100 [1:19:15<3:14:09, 164.08s/it]"
     ]
    },
    {
     "name": "stdout",
     "output_type": "stream",
     "text": [
      "time:  164.3215138912201\n"
     ]
    },
    {
     "name": "stderr",
     "output_type": "stream",
     "text": [
      " 30%|███       | 30/100 [1:21:59<3:11:30, 164.15s/it]"
     ]
    },
    {
     "name": "stdout",
     "output_type": "stream",
     "text": [
      "time:  164.31585001945496\n"
     ]
    },
    {
     "name": "stderr",
     "output_type": "stream",
     "text": [
      " 31%|███       | 31/100 [1:24:44<3:08:53, 164.25s/it]"
     ]
    },
    {
     "name": "stdout",
     "output_type": "stream",
     "text": [
      "time:  164.49160385131836\n"
     ]
    },
    {
     "name": "stderr",
     "output_type": "stream",
     "text": [
      " 32%|███▏      | 32/100 [1:27:29<3:06:22, 164.45s/it]"
     ]
    },
    {
     "name": "stdout",
     "output_type": "stream",
     "text": [
      "time:  164.9227261543274\n"
     ]
    },
    {
     "name": "stderr",
     "output_type": "stream",
     "text": [
      " 33%|███▎      | 33/100 [1:30:13<3:03:32, 164.36s/it]"
     ]
    },
    {
     "name": "stdout",
     "output_type": "stream",
     "text": [
      "time:  164.1488492488861\n"
     ]
    },
    {
     "name": "stderr",
     "output_type": "stream",
     "text": [
      " 34%|███▍      | 34/100 [1:32:57<3:00:49, 164.39s/it]"
     ]
    },
    {
     "name": "stdout",
     "output_type": "stream",
     "text": [
      "time:  164.45982599258423\n"
     ]
    },
    {
     "name": "stderr",
     "output_type": "stream",
     "text": [
      " 35%|███▌      | 35/100 [1:35:41<2:57:58, 164.29s/it]"
     ]
    },
    {
     "name": "stdout",
     "output_type": "stream",
     "text": [
      "time:  164.04328441619873\n"
     ]
    },
    {
     "name": "stderr",
     "output_type": "stream",
     "text": [
      " 36%|███▌      | 36/100 [1:38:26<2:55:09, 164.21s/it]"
     ]
    },
    {
     "name": "stdout",
     "output_type": "stream",
     "text": [
      "time:  164.01800751686096\n"
     ]
    },
    {
     "name": "stderr",
     "output_type": "stream",
     "text": [
      " 37%|███▋      | 37/100 [1:41:10<2:52:25, 164.22s/it]"
     ]
    },
    {
     "name": "stdout",
     "output_type": "stream",
     "text": [
      "time:  164.24363780021667\n"
     ]
    },
    {
     "name": "stderr",
     "output_type": "stream",
     "text": [
      " 38%|███▊      | 38/100 [1:43:54<2:49:39, 164.18s/it]"
     ]
    },
    {
     "name": "stdout",
     "output_type": "stream",
     "text": [
      "time:  164.0863299369812\n"
     ]
    },
    {
     "name": "stderr",
     "output_type": "stream",
     "text": [
      " 39%|███▉      | 39/100 [1:46:38<2:46:57, 164.22s/it]"
     ]
    },
    {
     "name": "stdout",
     "output_type": "stream",
     "text": [
      "time:  164.30580806732178\n"
     ]
    },
    {
     "name": "stderr",
     "output_type": "stream",
     "text": [
      " 40%|████      | 40/100 [1:49:22<2:44:12, 164.21s/it]"
     ]
    },
    {
     "name": "stdout",
     "output_type": "stream",
     "text": [
      "time:  164.18128204345703\n"
     ]
    },
    {
     "name": "stderr",
     "output_type": "stream",
     "text": [
      " 41%|████      | 41/100 [1:52:07<2:41:30, 164.25s/it]"
     ]
    },
    {
     "name": "stdout",
     "output_type": "stream",
     "text": [
      "time:  164.35802364349365\n"
     ]
    },
    {
     "name": "stderr",
     "output_type": "stream",
     "text": [
      " 42%|████▏     | 42/100 [1:54:51<2:38:48, 164.29s/it]"
     ]
    },
    {
     "name": "stdout",
     "output_type": "stream",
     "text": [
      "time:  164.38469338417053\n"
     ]
    },
    {
     "name": "stderr",
     "output_type": "stream",
     "text": [
      " 43%|████▎     | 43/100 [1:57:35<2:36:05, 164.30s/it]"
     ]
    },
    {
     "name": "stdout",
     "output_type": "stream",
     "text": [
      "time:  164.3212971687317\n"
     ]
    },
    {
     "name": "stderr",
     "output_type": "stream",
     "text": [
      " 44%|████▍     | 44/100 [2:00:20<2:33:22, 164.33s/it]"
     ]
    },
    {
     "name": "stdout",
     "output_type": "stream",
     "text": [
      "time:  164.39849257469177\n"
     ]
    },
    {
     "name": "stderr",
     "output_type": "stream",
     "text": [
      " 45%|████▌     | 45/100 [2:03:04<2:30:39, 164.35s/it]"
     ]
    },
    {
     "name": "stdout",
     "output_type": "stream",
     "text": [
      "time:  164.38063216209412\n"
     ]
    },
    {
     "name": "stderr",
     "output_type": "stream",
     "text": [
      " 46%|████▌     | 46/100 [2:05:48<2:27:54, 164.34s/it]"
     ]
    },
    {
     "name": "stdout",
     "output_type": "stream",
     "text": [
      "time:  164.31660771369934\n"
     ]
    },
    {
     "name": "stderr",
     "output_type": "stream",
     "text": [
      " 47%|████▋     | 47/100 [2:08:33<2:25:08, 164.30s/it]"
     ]
    },
    {
     "name": "stdout",
     "output_type": "stream",
     "text": [
      "time:  164.22505736351013\n"
     ]
    },
    {
     "name": "stderr",
     "output_type": "stream",
     "text": [
      " 48%|████▊     | 48/100 [2:11:17<2:22:21, 164.26s/it]"
     ]
    },
    {
     "name": "stdout",
     "output_type": "stream",
     "text": [
      "time:  164.1643204689026\n"
     ]
    },
    {
     "name": "stderr",
     "output_type": "stream",
     "text": [
      " 49%|████▉     | 49/100 [2:14:01<2:19:37, 164.27s/it]"
     ]
    },
    {
     "name": "stdout",
     "output_type": "stream",
     "text": [
      "time:  164.27961921691895\n"
     ]
    },
    {
     "name": "stderr",
     "output_type": "stream",
     "text": [
      " 50%|█████     | 50/100 [2:16:46<2:16:54, 164.29s/it]"
     ]
    },
    {
     "name": "stdout",
     "output_type": "stream",
     "text": [
      "time:  164.35631799697876\n"
     ]
    },
    {
     "name": "stderr",
     "output_type": "stream",
     "text": [
      " 51%|█████     | 51/100 [2:19:30<2:14:13, 164.35s/it]"
     ]
    },
    {
     "name": "stdout",
     "output_type": "stream",
     "text": [
      "time:  164.48075938224792\n"
     ]
    },
    {
     "name": "stderr",
     "output_type": "stream",
     "text": [
      " 52%|█████▏    | 52/100 [2:22:14<2:11:25, 164.28s/it]"
     ]
    },
    {
     "name": "stdout",
     "output_type": "stream",
     "text": [
      "time:  164.10895323753357\n"
     ]
    },
    {
     "name": "stderr",
     "output_type": "stream",
     "text": [
      " 53%|█████▎    | 53/100 [2:24:59<2:08:44, 164.34s/it]"
     ]
    },
    {
     "name": "stdout",
     "output_type": "stream",
     "text": [
      "time:  164.49288940429688\n"
     ]
    },
    {
     "name": "stderr",
     "output_type": "stream",
     "text": [
      " 54%|█████▍    | 54/100 [2:27:43<2:05:57, 164.30s/it]"
     ]
    },
    {
     "name": "stdout",
     "output_type": "stream",
     "text": [
      "time:  164.20650386810303\n"
     ]
    },
    {
     "name": "stderr",
     "output_type": "stream",
     "text": [
      " 55%|█████▌    | 55/100 [2:30:27<2:03:13, 164.29s/it]"
     ]
    },
    {
     "name": "stdout",
     "output_type": "stream",
     "text": [
      "time:  164.2646839618683\n"
     ]
    },
    {
     "name": "stderr",
     "output_type": "stream",
     "text": [
      " 56%|█████▌    | 56/100 [2:33:11<2:00:26, 164.24s/it]"
     ]
    },
    {
     "name": "stdout",
     "output_type": "stream",
     "text": [
      "time:  164.11058282852173\n"
     ]
    },
    {
     "name": "stderr",
     "output_type": "stream",
     "text": [
      " 57%|█████▋    | 57/100 [2:35:55<1:57:38, 164.16s/it]"
     ]
    },
    {
     "name": "stdout",
     "output_type": "stream",
     "text": [
      "time:  163.97961163520813\n"
     ]
    },
    {
     "name": "stderr",
     "output_type": "stream",
     "text": [
      " 58%|█████▊    | 58/100 [2:38:40<1:54:57, 164.23s/it]"
     ]
    },
    {
     "name": "stdout",
     "output_type": "stream",
     "text": [
      "time:  164.3960645198822\n"
     ]
    },
    {
     "name": "stderr",
     "output_type": "stream",
     "text": [
      " 59%|█████▉    | 59/100 [2:41:24<1:52:15, 164.27s/it]"
     ]
    },
    {
     "name": "stdout",
     "output_type": "stream",
     "text": [
      "time:  164.3568148612976\n"
     ]
    },
    {
     "name": "stderr",
     "output_type": "stream",
     "text": [
      " 60%|██████    | 60/100 [2:44:09<1:49:35, 164.38s/it]"
     ]
    },
    {
     "name": "stdout",
     "output_type": "stream",
     "text": [
      "time:  164.6487376689911\n"
     ]
    },
    {
     "name": "stderr",
     "output_type": "stream",
     "text": [
      " 61%|██████    | 61/100 [2:46:53<1:46:50, 164.37s/it]"
     ]
    },
    {
     "name": "stdout",
     "output_type": "stream",
     "text": [
      "time:  164.3511655330658\n"
     ]
    },
    {
     "name": "stderr",
     "output_type": "stream",
     "text": [
      " 62%|██████▏   | 62/100 [2:49:37<1:44:06, 164.39s/it]"
     ]
    },
    {
     "name": "stdout",
     "output_type": "stream",
     "text": [
      "time:  164.4119794368744\n"
     ]
    },
    {
     "name": "stderr",
     "output_type": "stream",
     "text": [
      " 63%|██████▎   | 63/100 [2:52:22<1:41:24, 164.44s/it]"
     ]
    },
    {
     "name": "stdout",
     "output_type": "stream",
     "text": [
      "time:  164.5731167793274\n"
     ]
    },
    {
     "name": "stderr",
     "output_type": "stream",
     "text": [
      " 64%|██████▍   | 64/100 [2:55:06<1:38:38, 164.41s/it]"
     ]
    },
    {
     "name": "stdout",
     "output_type": "stream",
     "text": [
      "time:  164.32919573783875\n"
     ]
    },
    {
     "name": "stderr",
     "output_type": "stream",
     "text": [
      " 65%|██████▌   | 65/100 [2:57:50<1:35:48, 164.24s/it]"
     ]
    },
    {
     "name": "stdout",
     "output_type": "stream",
     "text": [
      "time:  163.8544991016388\n"
     ]
    },
    {
     "name": "stderr",
     "output_type": "stream",
     "text": [
      " 66%|██████▌   | 66/100 [3:00:35<1:33:06, 164.30s/it]"
     ]
    },
    {
     "name": "stdout",
     "output_type": "stream",
     "text": [
      "time:  164.42511558532715\n"
     ]
    },
    {
     "name": "stderr",
     "output_type": "stream",
     "text": [
      " 67%|██████▋   | 67/100 [3:03:19<1:30:20, 164.25s/it]"
     ]
    },
    {
     "name": "stdout",
     "output_type": "stream",
     "text": [
      "time:  164.137446641922\n"
     ]
    },
    {
     "name": "stderr",
     "output_type": "stream",
     "text": [
      " 68%|██████▊   | 68/100 [3:06:03<1:27:38, 164.32s/it]"
     ]
    },
    {
     "name": "stdout",
     "output_type": "stream",
     "text": [
      "time:  164.47880721092224\n"
     ]
    },
    {
     "name": "stderr",
     "output_type": "stream",
     "text": [
      " 69%|██████▉   | 69/100 [3:08:47<1:24:53, 164.30s/it]"
     ]
    },
    {
     "name": "stdout",
     "output_type": "stream",
     "text": [
      "time:  164.25725150108337\n"
     ]
    }
   ],
   "source": [
    "for i in tqdm(range(100)):\n",
    "    start = time.time()\n",
    "    np.random.seed()\n",
    "    top_2p = top_2p_16part.generate_dataset(10000)\n",
    "    np.random.seed()\n",
    "    top_3p = top_3p_16part.generate_dataset(10000)\n",
    "    with open(os.path.join(basedir,f'rawjet_16p_test_top_2p_{i}.pickle'), 'wb') as handle:\n",
    "        pickle.dump(top_2p, handle, protocol=pickle.HIGHEST_PROTOCOL)\n",
    "    with open(os.path.join(basedir,f'rawjet_16p_test_top_3p_{i}.pickle'), 'wb') as handle:\n",
    "        pickle.dump(top_3p, handle, protocol=pickle.HIGHEST_PROTOCOL)\n",
    "    end = time.time()\n",
    "    print(\"time: \", end-start)"
   ]
  },
  {
   "cell_type": "code",
   "execution_count": null,
   "metadata": {},
   "outputs": [],
   "source": []
  },
  {
   "cell_type": "code",
   "execution_count": null,
   "metadata": {},
   "outputs": [],
   "source": []
  },
  {
   "cell_type": "code",
   "execution_count": null,
   "metadata": {},
   "outputs": [],
   "source": []
  },
  {
   "cell_type": "code",
   "execution_count": 17,
   "metadata": {},
   "outputs": [
    {
     "data": {
      "text/plain": [
       "array([ 1.42852400e+02, -9.90205463e-02, -1.35309180e-01,  1.05521532e+01,\n",
       "       -3.94737006e-01,  7.89277596e-01,  3.09849542e+01, -3.91857433e-01,\n",
       "        7.91430808e-01,  5.41413282e+01, -9.89971734e-02, -1.36130549e-01,\n",
       "        9.89379634e+01, -5.29106113e-01, -7.09260387e-03,  1.94524879e+01,\n",
       "       -5.80055975e-01,  1.44811893e-02,  3.46883336e+01, -5.79956566e-01,\n",
       "        1.45399891e-02,  1.96171629e+01, -5.29102045e-01, -7.04731236e-03])"
      ]
     },
     "execution_count": 17,
     "metadata": {},
     "output_type": "execute_result"
    }
   ],
   "source": [
    "top_2p[np.random.permutation(5)][0]"
   ]
  },
  {
   "cell_type": "code",
   "execution_count": null,
   "metadata": {},
   "outputs": [],
   "source": [
    "for i in tqdm(range(10)):\n",
    "    start = time.time()\n",
    "    \n",
    "    top_2p = top_2p_8part.generate_dataset(10000)\n",
    "    top_3p = top_3p_8part.generate_dataset(10000)\n",
    "    np.random.seed()\n",
    "\n",
    "    \n",
    "    \n",
    "\n",
    "    trainindices_a = torch.tensor(np.random.randint(len(traindataset), size=10000))\n",
    "    trainindices_b = torch.tensor(np.random.randint(len(traindataset), size=10000))\n",
    "    a = torch.FloatTensor(traindataset.data[trainindices_a]/255.)\n",
    "    b = torch.FloatTensor(traindataset.data[trainindices_b]/255.)\n",
    "    \n",
    "    train_set = MNISTDataset(\"POT\",False, None, a, b)\n",
    "    torch.save(train_set, f'/nobackup/users/sangeon/datasets/mnist/trainset_{i}.pt')\n",
    "    \n",
    "    end = time.time()\n",
    "    print(end-start)"
   ]
  }
 ],
 "metadata": {
  "kernelspec": {
   "display_name": "studies",
   "language": "python",
   "name": "studies"
  },
  "language_info": {
   "codemirror_mode": {
    "name": "ipython",
    "version": 3
   },
   "file_extension": ".py",
   "mimetype": "text/x-python",
   "name": "python",
   "nbconvert_exporter": "python",
   "pygments_lexer": "ipython3",
   "version": "3.8.12"
  }
 },
 "nbformat": 4,
 "nbformat_minor": 4
}
