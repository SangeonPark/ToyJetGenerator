{
 "cells": [
  {
   "cell_type": "code",
   "execution_count": 1,
   "metadata": {},
   "outputs": [],
   "source": [
    "%load_ext autoreload\n",
    "%autoreload 2"
   ]
  },
  {
   "cell_type": "code",
   "execution_count": 2,
   "metadata": {},
   "outputs": [],
   "source": [
    "import sys\n",
    "sys.path.insert(0,'..')\n",
    "from datagenerator import jet_data_generator \n",
    "import time\n",
    "import pickle\n",
    "import numpy as np\n",
    "from sklearn.model_selection import train_test_split\n",
    "from tqdm import tqdm"
   ]
  },
  {
   "cell_type": "code",
   "execution_count": 5,
   "metadata": {},
   "outputs": [],
   "source": [
    "sys.path.insert(0,'../training')\n",
    "from manifoldembedder import JetDataset, JetPredictDataset\n",
    "from torch.utils.data import DataLoader, random_split\n"
   ]
  },
  {
   "cell_type": "code",
   "execution_count": 6,
   "metadata": {},
   "outputs": [],
   "source": [
    "%matplotlib inline\n",
    "import matplotlib.pyplot as plt\n",
    "plt.rcParams[\"figure.figsize\"] = (6,6)\n",
    "plt.rcParams.update({'font.size': 14})"
   ]
  },
  {
   "cell_type": "code",
   "execution_count": 7,
   "metadata": {},
   "outputs": [],
   "source": [
    "top_2p_8part = jet_data_generator(\"signal\",0.00005, 2, 8, True,True, 4)\n",
    "top_3p_8part = jet_data_generator(\"signal\",0.00005, 3, 8, True,True, 4)"
   ]
  },
  {
   "cell_type": "code",
   "execution_count": 13,
   "metadata": {},
   "outputs": [],
   "source": [
    "top_2p = top_2p_8part.generate_dataset(1000)"
   ]
  },
  {
   "cell_type": "code",
   "execution_count": 14,
   "metadata": {},
   "outputs": [],
   "source": [
    "top_2p_prime = top_2p_8part.generate_dataset(1000)"
   ]
  },
  {
   "cell_type": "code",
   "execution_count": 15,
   "metadata": {},
   "outputs": [],
   "source": [
    "top_3p = top_3p_8part.generate_dataset(1000)\n",
    "#top_3p_prime = top_3p_8part.generate_dataset(10)"
   ]
  },
  {
   "cell_type": "code",
   "execution_count": 16,
   "metadata": {},
   "outputs": [],
   "source": [
    "top_3p_prime = top_3p_8part.generate_dataset(1000)\n"
   ]
  },
  {
   "cell_type": "code",
   "execution_count": 26,
   "metadata": {},
   "outputs": [
    {
     "data": {
      "text/plain": [
       "array([[[-5.10149183e-01,  1.89505362e-02,  8.19936346e-02],\n",
       "        [-4.67349100e-01, -1.67595661e-02,  2.79755351e-01],\n",
       "        [-4.78452316e-01,  1.63667836e-01,  1.15816598e-02],\n",
       "        ...,\n",
       "        [-5.41879174e-01,  1.01352502e-01,  1.23653057e-01],\n",
       "        [-4.85695761e-01,  1.88697771e-02,  5.30809582e-03],\n",
       "        [-5.41978389e-01,  1.01393333e-01,  5.01380122e-02]],\n",
       "\n",
       "       [[-4.27522432e-01, -5.34162481e-02,  8.39375412e-02],\n",
       "        [-4.50942609e-01, -1.25661855e-01,  1.88820394e-01],\n",
       "        [-4.31534902e-01,  2.85039241e-03,  4.31130602e-01],\n",
       "        ...,\n",
       "        [-4.66546059e-01, -1.43845497e-01,  1.58732860e-03],\n",
       "        [-4.69919945e-01,  6.39974901e-03,  1.32893369e-01],\n",
       "        [-4.69942872e-01,  6.37035430e-03,  9.40949640e-02]],\n",
       "\n",
       "       [[-4.51755796e-01,  3.85201476e-02,  2.54614382e-01],\n",
       "        [-4.81285678e-01,  5.71096870e-02,  6.58750735e-02],\n",
       "        [-5.15325589e-01, -5.31183038e-02,  2.51626250e-01],\n",
       "        ...,\n",
       "        [-1.58110528e+00,  3.52334187e-01,  4.84617716e-05],\n",
       "        [-4.89270058e-01, -9.39857652e-03,  9.30314934e-02],\n",
       "        [-1.63207462e+00,  3.75914631e-01,  2.47606843e-04]],\n",
       "\n",
       "       ...,\n",
       "\n",
       "       [[-4.55900252e-01, -9.85897101e-02,  7.10225349e-02],\n",
       "        [-4.36040011e-01, -2.42045680e-02,  1.87657688e-01],\n",
       "        [-5.16979665e-01,  5.44810042e-02,  2.39730210e-01],\n",
       "        ...,\n",
       "        [-4.74512461e-01, -2.16108287e-02,  7.62788175e-03],\n",
       "        [-4.53362986e-01,  1.70172068e-02,  7.67993270e-02],\n",
       "        [-4.74475202e-01, -2.14359282e-02,  2.09909562e-01]],\n",
       "\n",
       "       [[-4.69039179e-01, -9.37933751e-02,  4.04685295e-02],\n",
       "        [-4.38708104e-01,  1.02830372e-01,  2.26601296e-01],\n",
       "        [-4.72460470e-01, -2.05420910e-02,  2.17882580e-01],\n",
       "        ...,\n",
       "        [-5.27701579e-01,  7.83854348e-02,  3.57668850e-02],\n",
       "        [-4.50372158e-01,  2.10909104e-02,  4.19311384e-02],\n",
       "        [-5.27574089e-01,  7.80737690e-02,  1.99193219e-02]],\n",
       "\n",
       "       [[-4.49617681e-01, -5.95877262e-02,  2.36494054e-01],\n",
       "        [-4.85682360e-01,  1.99722567e-02,  1.71885162e-01],\n",
       "        [-4.82265111e-01,  7.82653275e-02,  3.69546810e-02],\n",
       "        ...,\n",
       "        [-5.32671626e-01, -4.20854028e-02,  4.01787187e-02],\n",
       "        [-5.32554168e-01, -4.23613001e-02,  1.99048799e-02],\n",
       "        [-4.59157770e-01,  8.09786677e-02,  1.28116472e-01]]])"
      ]
     },
     "execution_count": 26,
     "metadata": {},
     "output_type": "execute_result"
    }
   ],
   "source": [
    "data"
   ]
  },
  {
   "cell_type": "code",
   "execution_count": 17,
   "metadata": {},
   "outputs": [
    {
     "name": "stderr",
     "output_type": "stream",
     "text": [
      "100%|██████████| 8/8 [00:03<00:00,  2.04it/s]\n"
     ]
    }
   ],
   "source": [
    "set_3p3p = JetDataset(False, None, top_3p,top_3p_prime,8)"
   ]
  },
  {
   "cell_type": "code",
   "execution_count": 18,
   "metadata": {},
   "outputs": [
    {
     "name": "stderr",
     "output_type": "stream",
     "text": [
      "100%|██████████| 8/8 [00:02<00:00,  3.51it/s]\n"
     ]
    }
   ],
   "source": [
    "set_2p2p = JetDataset(False, None, top_2p,top_2p_prime,8)"
   ]
  },
  {
   "cell_type": "code",
   "execution_count": 19,
   "metadata": {},
   "outputs": [
    {
     "name": "stderr",
     "output_type": "stream",
     "text": [
      "100%|██████████| 8/8 [00:02<00:00,  3.49it/s]\n"
     ]
    }
   ],
   "source": [
    "set_2p3p = JetDataset(False, None, top_2p,top_3p,8)"
   ]
  },
  {
   "cell_type": "code",
   "execution_count": 20,
   "metadata": {},
   "outputs": [],
   "source": [
    "loader = DataLoader(set_2p3p, batch_size=10000,shuffle=False,num_workers=4)"
   ]
  },
  {
   "cell_type": "code",
   "execution_count": 21,
   "metadata": {},
   "outputs": [],
   "source": [
    "loader2 = DataLoader(set_2p2p, batch_size=10000,shuffle=False,num_workers=4)"
   ]
  },
  {
   "cell_type": "code",
   "execution_count": 22,
   "metadata": {},
   "outputs": [],
   "source": [
    "loader3 = DataLoader(set_3p3p, batch_size=10000,shuffle=False,num_workers=4)"
   ]
  },
  {
   "cell_type": "code",
   "execution_count": 23,
   "metadata": {},
   "outputs": [],
   "source": [
    "emd = np.array([])\n",
    "for x,y,dist in loader:\n",
    "    emd = np.concatenate([emd,dist.data.numpy()])"
   ]
  },
  {
   "cell_type": "code",
   "execution_count": 24,
   "metadata": {},
   "outputs": [],
   "source": [
    "emd2 = np.array([])\n",
    "for x,y,dist in loader2:\n",
    "    emd2 = np.concatenate([emd2,dist.data.numpy()])"
   ]
  },
  {
   "cell_type": "code",
   "execution_count": 25,
   "metadata": {},
   "outputs": [],
   "source": [
    "emd3 = np.array([])\n",
    "for x,y,dist in loader3:\n",
    "    emd3 = np.concatenate([emd3,dist.data.numpy()])"
   ]
  },
  {
   "cell_type": "code",
   "execution_count": 31,
   "metadata": {},
   "outputs": [
    {
     "data": {
      "image/png": "[encoded data removed]",
      "text/plain": [
       "<Figure size 432x432 with 1 Axes>"
      ]
     },
     "metadata": {
      "needs_background": "light"
     },
     "output_type": "display_data"
    }
   ],
   "source": [
    "plt.hist(emd, bins=np.arange(0,0.32,0.01),alpha=0.2, label='2p3p');\n",
    "plt.hist(emd2, bins=np.arange(0,0.32,0.01),alpha=0.2, label='2p2p');\n",
    "plt.hist(emd3, bins=np.arange(0,0.32,0.01),alpha=0.2, label='3p3p');\n",
    "plt.legend()\n",
    "plt.savefig('../figures/EMD_Top_normalized')"
   ]
  },
  {
   "cell_type": "code",
   "execution_count": null,
   "metadata": {},
   "outputs": [],
   "source": []
  },
  {
   "cell_type": "code",
   "execution_count": null,
   "metadata": {},
   "outputs": [],
   "source": []
  },
  {
   "cell_type": "code",
   "execution_count": null,
   "metadata": {},
   "outputs": [],
   "source": []
  },
  {
   "cell_type": "code",
   "execution_count": null,
   "metadata": {},
   "outputs": [
    {
     "name": "stderr",
     "output_type": "stream",
     "text": [
      "  1%|          | 1/120 [05:03<10:01:18, 303.18s/it]"
     ]
    },
    {
     "name": "stdout",
     "output_type": "stream",
     "text": [
      "finished generation\n",
      "saved file 0\n"
     ]
    },
    {
     "name": "stderr",
     "output_type": "stream",
     "text": [
      "  2%|▏         | 2/120 [10:16<10:07:46, 309.04s/it]"
     ]
    },
    {
     "name": "stdout",
     "output_type": "stream",
     "text": [
      "finished generation\n",
      "saved file 1\n"
     ]
    },
    {
     "name": "stderr",
     "output_type": "stream",
     "text": [
      "  2%|▎         | 3/120 [15:25<10:02:57, 309.21s/it]"
     ]
    },
    {
     "name": "stdout",
     "output_type": "stream",
     "text": [
      "finished generation\n",
      "saved file 2\n"
     ]
    },
    {
     "name": "stderr",
     "output_type": "stream",
     "text": [
      "  3%|▎         | 4/120 [20:28<9:52:38, 306.54s/it] "
     ]
    },
    {
     "name": "stdout",
     "output_type": "stream",
     "text": [
      "finished generation\n",
      "saved file 3\n"
     ]
    },
    {
     "name": "stderr",
     "output_type": "stream",
     "text": [
      "  4%|▍         | 5/120 [25:33<9:46:50, 306.18s/it]"
     ]
    },
    {
     "name": "stdout",
     "output_type": "stream",
     "text": [
      "finished generation\n",
      "saved file 4\n"
     ]
    },
    {
     "name": "stderr",
     "output_type": "stream",
     "text": [
      "  5%|▌         | 6/120 [30:33<9:37:37, 304.01s/it]"
     ]
    },
    {
     "name": "stdout",
     "output_type": "stream",
     "text": [
      "finished generation\n",
      "saved file 5\n"
     ]
    },
    {
     "name": "stderr",
     "output_type": "stream",
     "text": [
      "  6%|▌         | 7/120 [35:22<9:23:25, 299.17s/it]"
     ]
    },
    {
     "name": "stdout",
     "output_type": "stream",
     "text": [
      "finished generation\n",
      "saved file 6\n"
     ]
    },
    {
     "name": "stderr",
     "output_type": "stream",
     "text": [
      "  7%|▋         | 8/120 [40:18<9:16:22, 298.06s/it]"
     ]
    },
    {
     "name": "stdout",
     "output_type": "stream",
     "text": [
      "finished generation\n",
      "saved file 7\n"
     ]
    },
    {
     "name": "stderr",
     "output_type": "stream",
     "text": [
      "  8%|▊         | 9/120 [45:07<9:06:02, 295.15s/it]"
     ]
    },
    {
     "name": "stdout",
     "output_type": "stream",
     "text": [
      "finished generation\n",
      "saved file 8\n"
     ]
    },
    {
     "name": "stderr",
     "output_type": "stream",
     "text": [
      "  8%|▊         | 10/120 [50:01<9:00:23, 294.76s/it]"
     ]
    },
    {
     "name": "stdout",
     "output_type": "stream",
     "text": [
      "finished generation\n",
      "saved file 9\n"
     ]
    },
    {
     "name": "stderr",
     "output_type": "stream",
     "text": [
      "  9%|▉         | 11/120 [55:13<9:05:19, 300.18s/it]"
     ]
    },
    {
     "name": "stdout",
     "output_type": "stream",
     "text": [
      "finished generation\n",
      "saved file 10\n"
     ]
    },
    {
     "name": "stderr",
     "output_type": "stream",
     "text": [
      " 10%|█         | 12/120 [1:00:20<9:04:11, 302.32s/it]"
     ]
    },
    {
     "name": "stdout",
     "output_type": "stream",
     "text": [
      "finished generation\n",
      "saved file 11\n"
     ]
    },
    {
     "name": "stderr",
     "output_type": "stream",
     "text": [
      " 11%|█         | 13/120 [1:05:23<8:59:10, 302.34s/it]"
     ]
    },
    {
     "name": "stdout",
     "output_type": "stream",
     "text": [
      "finished generation\n",
      "saved file 12\n"
     ]
    },
    {
     "name": "stderr",
     "output_type": "stream",
     "text": [
      " 12%|█▏        | 14/120 [1:10:29<8:56:17, 303.56s/it]"
     ]
    },
    {
     "name": "stdout",
     "output_type": "stream",
     "text": [
      "finished generation\n",
      "saved file 13\n"
     ]
    },
    {
     "name": "stderr",
     "output_type": "stream",
     "text": [
      " 12%|█▎        | 15/120 [1:15:37<8:53:34, 304.90s/it]"
     ]
    },
    {
     "name": "stdout",
     "output_type": "stream",
     "text": [
      "finished generation\n",
      "saved file 14\n"
     ]
    },
    {
     "name": "stderr",
     "output_type": "stream",
     "text": [
      " 13%|█▎        | 16/120 [1:20:49<8:52:11, 307.03s/it]"
     ]
    },
    {
     "name": "stdout",
     "output_type": "stream",
     "text": [
      "finished generation\n",
      "saved file 15\n"
     ]
    },
    {
     "name": "stderr",
     "output_type": "stream",
     "text": [
      " 14%|█▍        | 17/120 [1:25:56<8:47:07, 307.06s/it]"
     ]
    },
    {
     "name": "stdout",
     "output_type": "stream",
     "text": [
      "finished generation\n",
      "saved file 16\n"
     ]
    },
    {
     "name": "stderr",
     "output_type": "stream",
     "text": [
      " 15%|█▌        | 18/120 [1:31:00<8:40:28, 306.16s/it]"
     ]
    },
    {
     "name": "stdout",
     "output_type": "stream",
     "text": [
      "finished generation\n",
      "saved file 17\n"
     ]
    },
    {
     "name": "stderr",
     "output_type": "stream",
     "text": [
      " 16%|█▌        | 19/120 [1:35:58<8:31:18, 303.75s/it]"
     ]
    },
    {
     "name": "stdout",
     "output_type": "stream",
     "text": [
      "finished generation\n",
      "saved file 18\n"
     ]
    },
    {
     "name": "stderr",
     "output_type": "stream",
     "text": [
      " 17%|█▋        | 20/120 [1:40:55<8:22:32, 301.53s/it]"
     ]
    },
    {
     "name": "stdout",
     "output_type": "stream",
     "text": [
      "finished generation\n",
      "saved file 19\n"
     ]
    },
    {
     "name": "stderr",
     "output_type": "stream",
     "text": [
      " 18%|█▊        | 21/120 [1:45:48<8:13:39, 299.19s/it]"
     ]
    },
    {
     "name": "stdout",
     "output_type": "stream",
     "text": [
      "finished generation\n",
      "saved file 20\n"
     ]
    },
    {
     "name": "stderr",
     "output_type": "stream",
     "text": [
      " 18%|█▊        | 22/120 [1:50:35<8:02:18, 295.29s/it]"
     ]
    },
    {
     "name": "stdout",
     "output_type": "stream",
     "text": [
      "finished generation\n",
      "saved file 21\n"
     ]
    },
    {
     "name": "stderr",
     "output_type": "stream",
     "text": [
      " 19%|█▉        | 23/120 [1:55:32<7:58:36, 296.05s/it]"
     ]
    },
    {
     "name": "stdout",
     "output_type": "stream",
     "text": [
      "finished generation\n",
      "saved file 22\n"
     ]
    },
    {
     "name": "stderr",
     "output_type": "stream",
     "text": [
      " 20%|██        | 24/120 [2:00:46<8:02:18, 301.44s/it]"
     ]
    },
    {
     "name": "stdout",
     "output_type": "stream",
     "text": [
      "finished generation\n",
      "saved file 23\n"
     ]
    },
    {
     "name": "stderr",
     "output_type": "stream",
     "text": [
      " 21%|██        | 25/120 [2:05:32<7:49:44, 296.68s/it]"
     ]
    },
    {
     "name": "stdout",
     "output_type": "stream",
     "text": [
      "finished generation\n",
      "saved file 24\n"
     ]
    },
    {
     "name": "stderr",
     "output_type": "stream",
     "text": [
      " 22%|██▏       | 26/120 [2:10:31<7:45:49, 297.33s/it]"
     ]
    },
    {
     "name": "stdout",
     "output_type": "stream",
     "text": [
      "finished generation\n",
      "saved file 25\n"
     ]
    },
    {
     "name": "stderr",
     "output_type": "stream",
     "text": [
      " 22%|██▎       | 27/120 [2:15:30<7:41:40, 297.85s/it]"
     ]
    },
    {
     "name": "stdout",
     "output_type": "stream",
     "text": [
      "finished generation\n",
      "saved file 26\n"
     ]
    },
    {
     "name": "stderr",
     "output_type": "stream",
     "text": [
      " 23%|██▎       | 28/120 [2:20:29<7:37:16, 298.22s/it]"
     ]
    },
    {
     "name": "stdout",
     "output_type": "stream",
     "text": [
      "finished generation\n",
      "saved file 27\n"
     ]
    },
    {
     "name": "stderr",
     "output_type": "stream",
     "text": [
      " 24%|██▍       | 29/120 [2:25:23<7:30:23, 296.96s/it]"
     ]
    },
    {
     "name": "stdout",
     "output_type": "stream",
     "text": [
      "finished generation\n",
      "saved file 28\n"
     ]
    },
    {
     "name": "stderr",
     "output_type": "stream",
     "text": [
      " 25%|██▌       | 30/120 [2:30:08<7:19:55, 293.29s/it]"
     ]
    },
    {
     "name": "stdout",
     "output_type": "stream",
     "text": [
      "finished generation\n",
      "saved file 29\n"
     ]
    },
    {
     "name": "stderr",
     "output_type": "stream",
     "text": [
      " 26%|██▌       | 31/120 [2:35:00<7:14:36, 293.00s/it]"
     ]
    },
    {
     "name": "stdout",
     "output_type": "stream",
     "text": [
      "finished generation\n",
      "saved file 30\n"
     ]
    },
    {
     "name": "stderr",
     "output_type": "stream",
     "text": [
      " 27%|██▋       | 32/120 [2:39:50<7:08:32, 292.19s/it]"
     ]
    },
    {
     "name": "stdout",
     "output_type": "stream",
     "text": [
      "finished generation\n",
      "saved file 31\n"
     ]
    },
    {
     "name": "stderr",
     "output_type": "stream",
     "text": [
      " 28%|██▊       | 33/120 [2:44:52<7:07:39, 294.94s/it]"
     ]
    },
    {
     "name": "stdout",
     "output_type": "stream",
     "text": [
      "finished generation\n",
      "saved file 32\n"
     ]
    }
   ],
   "source": [
    "for i in tqdm(range(0,120)):\n",
    "    data_top_5p_8part = top_5p_8part.generate_dataset(100000)\n",
    "    print('finished generation')\n",
    "    with open(f'top_5p_8part_fixedp_{i}.pickle', 'wb') as handle:\n",
    "        pickle.dump(data_top_5p_8part, handle, protocol=pickle.HIGHEST_PROTOCOL)\n",
    "    print(f'saved file {i}')\n",
    "    "
   ]
  },
  {
   "cell_type": "code",
   "execution_count": 6,
   "metadata": {},
   "outputs": [],
   "source": [
    "top_2p_8part = jet_data_generator(\"signal\",0.00005, 2, 8, True,True, 4)"
   ]
  },
  {
   "cell_type": "code",
   "execution_count": 7,
   "metadata": {},
   "outputs": [
    {
     "name": "stderr",
     "output_type": "stream",
     "text": [
      " 25%|██▌       | 1/4 [04:37<13:52, 277.59s/it]"
     ]
    },
    {
     "name": "stdout",
     "output_type": "stream",
     "text": [
      "finished generation\n",
      "saved file 56\n"
     ]
    },
    {
     "name": "stderr",
     "output_type": "stream",
     "text": [
      " 50%|█████     | 2/4 [09:14<09:13, 276.98s/it]"
     ]
    },
    {
     "name": "stdout",
     "output_type": "stream",
     "text": [
      "finished generation\n",
      "saved file 57\n"
     ]
    },
    {
     "name": "stderr",
     "output_type": "stream",
     "text": [
      " 75%|███████▌  | 3/4 [13:50<04:36, 276.63s/it]"
     ]
    },
    {
     "name": "stdout",
     "output_type": "stream",
     "text": [
      "finished generation\n",
      "saved file 58\n"
     ]
    },
    {
     "name": "stderr",
     "output_type": "stream",
     "text": [
      "100%|██████████| 4/4 [18:26<00:00, 276.66s/it]"
     ]
    },
    {
     "name": "stdout",
     "output_type": "stream",
     "text": [
      "finished generation\n",
      "saved file 59\n"
     ]
    },
    {
     "name": "stderr",
     "output_type": "stream",
     "text": [
      "\n"
     ]
    }
   ],
   "source": [
    "for i in tqdm(range(56,60)):\n",
    "    data_top_2p_8part = top_2p_8part.generate_dataset(100000)\n",
    "    print('finished generation')\n",
    "    with open(f'top_2p_8part_fixedp_{i}.pickle', 'wb') as handle:\n",
    "        pickle.dump(data_top_2p_8part, handle, protocol=pickle.HIGHEST_PROTOCOL)\n",
    "    print(f'saved file {i}')\n",
    "    "
   ]
  },
  {
   "cell_type": "code",
   "execution_count": 4,
   "metadata": {},
   "outputs": [],
   "source": [
    "#with open('top_2p_8part_fixedp_test.pickle', 'wb') as handle:\n",
    "#    pickle.dump(data_top_2p_8part, handle, protocol=pickle.HIGHEST_PROTOCOL)"
   ]
  },
  {
   "cell_type": "code",
   "execution_count": 8,
   "metadata": {},
   "outputs": [],
   "source": [
    "top_3p_8part = jet_data_generator(\"signal\",0.00005, 3, 8, True,True,4)"
   ]
  },
  {
   "cell_type": "code",
   "execution_count": null,
   "metadata": {},
   "outputs": [
    {
     "name": "stderr",
     "output_type": "stream",
     "text": [
      "  9%|▉         | 1/11 [04:39<46:39, 279.91s/it]"
     ]
    },
    {
     "name": "stdout",
     "output_type": "stream",
     "text": [
      "finished generation\n",
      "saved file 99\n"
     ]
    },
    {
     "name": "stderr",
     "output_type": "stream",
     "text": [
      " 18%|█▊        | 2/11 [09:20<42:04, 280.46s/it]"
     ]
    },
    {
     "name": "stdout",
     "output_type": "stream",
     "text": [
      "finished generation\n",
      "saved file 100\n"
     ]
    },
    {
     "name": "stderr",
     "output_type": "stream",
     "text": [
      " 27%|██▋       | 3/11 [14:01<37:24, 280.53s/it]"
     ]
    },
    {
     "name": "stdout",
     "output_type": "stream",
     "text": [
      "finished generation\n",
      "saved file 101\n"
     ]
    },
    {
     "name": "stderr",
     "output_type": "stream",
     "text": [
      " 36%|███▋      | 4/11 [18:41<32:42, 280.29s/it]"
     ]
    },
    {
     "name": "stdout",
     "output_type": "stream",
     "text": [
      "finished generation\n",
      "saved file 102\n"
     ]
    },
    {
     "name": "stderr",
     "output_type": "stream",
     "text": [
      " 45%|████▌     | 5/11 [23:21<28:01, 280.25s/it]"
     ]
    },
    {
     "name": "stdout",
     "output_type": "stream",
     "text": [
      "finished generation\n",
      "saved file 103\n"
     ]
    }
   ],
   "source": [
    "for i in tqdm(range(99,110)):\n",
    "    data_top_3p_8part = top_3p_8part.generate_dataset(100000)\n",
    "    print('finished generation')\n",
    "    with open(f'top_3p_8part_fixedp_{i}.pickle', 'wb') as handle:\n",
    "        pickle.dump(data_top_3p_8part, handle, protocol=pickle.HIGHEST_PROTOCOL)\n",
    "    print(f'saved file {i}')"
   ]
  },
  {
   "cell_type": "code",
   "execution_count": 3,
   "metadata": {},
   "outputs": [],
   "source": [
    "sys.path.insert(0,'../optimal_transport')\n",
    "\n",
    "from emdloss import *\n"
   ]
  },
  {
   "cell_type": "code",
   "execution_count": 5,
   "metadata": {},
   "outputs": [],
   "source": [
    "import time"
   ]
  },
  {
   "cell_type": "code",
   "execution_count": 6,
   "metadata": {},
   "outputs": [
    {
     "data": {
      "text/plain": [
       "1640232511.6718123"
      ]
     },
     "execution_count": 6,
     "metadata": {},
     "output_type": "execute_result"
    }
   ],
   "source": [
    "start = time.time()"
   ]
  },
  {
   "cell_type": "code",
   "execution_count": null,
   "metadata": {},
   "outputs": [],
   "source": [
    "import torch as "
   ]
  },
  {
   "cell_type": "code",
   "execution_count": null,
   "metadata": {},
   "outputs": [],
   "source": [
    "for i in range(70):\n",
    "    start = time.time()\n",
    "    print(f'start{i}')\n",
    "    with "
   ]
  },
  {
   "cell_type": "code",
   "execution_count": 9,
   "metadata": {},
   "outputs": [
    {
     "name": "stdout",
     "output_type": "stream",
     "text": [
      "265.1327540874481\n"
     ]
    }
   ],
   "source": [
    "start = time.time()\n",
    "data_top_3p_8part = top_3p_8part.generate_dataset(100000)\n",
    "end = time.time()\n",
    "print(end-start)"
   ]
  },
  {
   "cell_type": "code",
   "execution_count": 10,
   "metadata": {},
   "outputs": [],
   "source": [
    "with open('top_3p_8part_fixedp_test.pickle', 'wb') as handle:\n",
    "    pickle.dump(data_top_3p_8part, handle, protocol=pickle.HIGHEST_PROTOCOL)"
   ]
  },
  {
   "cell_type": "code",
   "execution_count": 2,
   "metadata": {},
   "outputs": [],
   "source": [
    "with open('top_2p_8part_fixedp.pickle', 'rb') as handle:\n",
    "    twop_A = pickle.load(handle)"
   ]
  },
  {
   "cell_type": "code",
   "execution_count": 3,
   "metadata": {},
   "outputs": [],
   "source": [
    "with open('top_2p_8part_fixedp_prime.pickle', 'rb') as handle:\n",
    "    twop_B = pickle.load(handle)"
   ]
  },
  {
   "cell_type": "code",
   "execution_count": 4,
   "metadata": {},
   "outputs": [],
   "source": [
    "with open('top_3p_8part_fixedp.pickle', 'rb') as handle:\n",
    "    threep_A = pickle.load(handle)"
   ]
  },
  {
   "cell_type": "code",
   "execution_count": 5,
   "metadata": {},
   "outputs": [],
   "source": [
    "with open('top_3p_8part_fixedp_prime.pickle', 'rb') as handle:\n",
    "    threep_B= pickle.load(handle)"
   ]
  },
  {
   "cell_type": "code",
   "execution_count": 6,
   "metadata": {},
   "outputs": [],
   "source": [
    "twoprong = np.concatenate((twop_A, twop_B))"
   ]
  },
  {
   "cell_type": "code",
   "execution_count": 7,
   "metadata": {},
   "outputs": [],
   "source": [
    "threeprong = np.concatenate((threep_A, threep_B))"
   ]
  },
  {
   "cell_type": "code",
   "execution_count": 8,
   "metadata": {},
   "outputs": [],
   "source": [
    "def build_two_jet_sets(twop, threep):\n",
    "    jet1 = np.concatenate((np.random.permutation(twop), np.random.permutation(twop), np.random.permutation(threep), np.random.permutation(threep)))\n",
    "    jet2 = np.concatenate((np.random.permutation(twop),np.random.permutation(threep),np.random.permutation(twop), np.random.permutation(threep)))\n",
    "    return jet1, jet2"
   ]
  },
  {
   "cell_type": "code",
   "execution_count": 9,
   "metadata": {},
   "outputs": [],
   "source": [
    "twop_train, twop_val = train_test_split(twoprong, test_size=0.33)"
   ]
  },
  {
   "cell_type": "code",
   "execution_count": 10,
   "metadata": {},
   "outputs": [],
   "source": [
    "threep_train, threep_val = train_test_split(threeprong, test_size=0.33)"
   ]
  },
  {
   "cell_type": "code",
   "execution_count": 11,
   "metadata": {},
   "outputs": [],
   "source": [
    "jettrain1, jettrain2 = build_two_jet_sets(twop_train,threep_train)"
   ]
  },
  {
   "cell_type": "code",
   "execution_count": 12,
   "metadata": {},
   "outputs": [],
   "source": [
    "jetval1, jetval2 = build_two_jet_sets(twop_val,threep_val)"
   ]
  },
  {
   "cell_type": "code",
   "execution_count": 13,
   "metadata": {},
   "outputs": [
    {
     "data": {
      "text/plain": [
       "(536000, 24)"
      ]
     },
     "execution_count": 13,
     "metadata": {},
     "output_type": "execute_result"
    }
   ],
   "source": [
    "jettrain1.shape"
   ]
  },
  {
   "cell_type": "code",
   "execution_count": 14,
   "metadata": {},
   "outputs": [
    {
     "data": {
      "text/plain": [
       "(536000, 24)"
      ]
     },
     "execution_count": 14,
     "metadata": {},
     "output_type": "execute_result"
    }
   ],
   "source": [
    "jettrain1.shape"
   ]
  },
  {
   "cell_type": "code",
   "execution_count": 6,
   "metadata": {},
   "outputs": [],
   "source": [
    "twop_A, twop_A_test = train_test_split(twop_A, train_size=80000,test_size=20000)"
   ]
  },
  {
   "cell_type": "code",
   "execution_count": 7,
   "metadata": {},
   "outputs": [],
   "source": [
    "twop_B, twop_B_test = train_test_split(twop_B, train_size=80000,test_size=20000)"
   ]
  },
  {
   "cell_type": "code",
   "execution_count": 8,
   "metadata": {},
   "outputs": [],
   "source": [
    "threep_A, threep_A_test = train_test_split(threep_A, train_size=80000,test_size=20000)"
   ]
  },
  {
   "cell_type": "code",
   "execution_count": 9,
   "metadata": {},
   "outputs": [],
   "source": [
    "threep_B, threep_B_test = train_test_split(threep_B, train_size=80000,test_size=20000)"
   ]
  },
  {
   "cell_type": "code",
   "execution_count": 4,
   "metadata": {},
   "outputs": [],
   "source": [
    "sys.path.insert(0,'../training')\n",
    "from manifoldembedder import JetDataset, JetPredictDataset"
   ]
  },
  {
   "cell_type": "code",
   "execution_count": 12,
   "metadata": {},
   "outputs": [],
   "source": [
    "jet1 = np.concatenate([twop_A, twop_A, threep_A, threep_A])"
   ]
  },
  {
   "cell_type": "code",
   "execution_count": 13,
   "metadata": {},
   "outputs": [],
   "source": [
    "jet2 = np.concatenate([twop_B, threep_B, twop_B, threep_B])"
   ]
  },
  {
   "cell_type": "code",
   "execution_count": 14,
   "metadata": {},
   "outputs": [],
   "source": [
    "jet1_test = np.concatenate([twop_A_test, twop_A_test, threep_A_test, threep_A_test])"
   ]
  },
  {
   "cell_type": "code",
   "execution_count": 15,
   "metadata": {},
   "outputs": [],
   "source": [
    "jet2_test = np.concatenate([twop_B_test, threep_B_test, twop_B_test, threep_B_test])"
   ]
  },
  {
   "cell_type": "code",
   "execution_count": 16,
   "metadata": {},
   "outputs": [
    {
     "data": {
      "text/plain": [
       "20000"
      ]
     },
     "execution_count": 16,
     "metadata": {},
     "output_type": "execute_result"
    }
   ],
   "source": [
    "len(twop_A_test)"
   ]
  },
  {
   "cell_type": "code",
   "execution_count": 17,
   "metadata": {},
   "outputs": [],
   "source": [
    "jet1_test_label = np.concatenate([np.zeros(40000),np.ones(40000)])"
   ]
  },
  {
   "cell_type": "code",
   "execution_count": 18,
   "metadata": {},
   "outputs": [
    {
     "data": {
      "text/plain": [
       "80000"
      ]
     },
     "execution_count": 18,
     "metadata": {},
     "output_type": "execute_result"
    }
   ],
   "source": [
    "len(jet1_test_label)"
   ]
  },
  {
   "cell_type": "code",
   "execution_count": 5,
   "metadata": {},
   "outputs": [],
   "source": [
    "import torch"
   ]
  },
  {
   "cell_type": "code",
   "execution_count": null,
   "metadata": {},
   "outputs": [
    {
     "name": "stderr",
     "output_type": "stream",
     "text": [
      "100%|██████████| 782/782 [03:51<00:00,  3.38it/s]\n",
      "100%|██████████| 782/782 [03:46<00:00,  3.46it/s]\n",
      "100%|██████████| 782/782 [03:45<00:00,  3.47it/s]\n",
      "100%|██████████| 782/782 [03:45<00:00,  3.46it/s]\n",
      "100%|██████████| 782/782 [03:45<00:00,  3.47it/s]\n",
      "100%|██████████| 782/782 [03:45<00:00,  3.47it/s]\n",
      "100%|██████████| 782/782 [03:45<00:00,  3.46it/s]\n",
      "100%|██████████| 782/782 [03:44<00:00,  3.48it/s]\n",
      "100%|██████████| 782/782 [03:45<00:00,  3.47it/s]\n",
      "100%|██████████| 782/782 [03:45<00:00,  3.47it/s]\n",
      "100%|██████████| 782/782 [03:45<00:00,  3.47it/s]\n",
      "100%|██████████| 782/782 [03:45<00:00,  3.47it/s]\n",
      "100%|██████████| 782/782 [03:45<00:00,  3.47it/s]\n",
      "100%|██████████| 782/782 [03:45<00:00,  3.46it/s]\n",
      "100%|██████████| 782/782 [03:46<00:00,  3.46it/s]\n",
      "100%|██████████| 782/782 [03:46<00:00,  3.46it/s]\n",
      "100%|██████████| 782/782 [03:46<00:00,  3.46it/s]\n",
      "100%|██████████| 782/782 [03:45<00:00,  3.47it/s]\n",
      "100%|██████████| 782/782 [03:45<00:00,  3.46it/s]\n",
      "100%|██████████| 782/782 [03:46<00:00,  3.46it/s]\n",
      "100%|██████████| 782/782 [03:45<00:00,  3.47it/s]\n",
      "100%|██████████| 782/782 [03:46<00:00,  3.45it/s]\n",
      "100%|██████████| 782/782 [03:45<00:00,  3.47it/s]\n",
      "100%|██████████| 782/782 [03:45<00:00,  3.47it/s]\n",
      "100%|██████████| 782/782 [03:45<00:00,  3.46it/s]\n",
      "100%|██████████| 782/782 [03:44<00:00,  3.48it/s]\n",
      "100%|██████████| 782/782 [03:45<00:00,  3.47it/s]\n",
      "100%|██████████| 782/782 [03:45<00:00,  3.47it/s]\n",
      "100%|██████████| 782/782 [03:44<00:00,  3.48it/s]\n",
      "100%|██████████| 782/782 [03:44<00:00,  3.48it/s]\n",
      "100%|██████████| 782/782 [03:45<00:00,  3.47it/s]\n",
      "100%|██████████| 782/782 [03:45<00:00,  3.47it/s]\n",
      "100%|██████████| 782/782 [03:44<00:00,  3.48it/s]\n",
      "100%|██████████| 782/782 [03:45<00:00,  3.47it/s]\n",
      "100%|██████████| 782/782 [03:45<00:00,  3.47it/s]\n",
      "100%|██████████| 782/782 [03:45<00:00,  3.47it/s]\n",
      "100%|██████████| 782/782 [03:44<00:00,  3.48it/s]\n",
      "100%|██████████| 782/782 [03:44<00:00,  3.48it/s]\n",
      "100%|██████████| 782/782 [03:44<00:00,  3.48it/s]\n",
      "100%|██████████| 782/782 [03:44<00:00,  3.48it/s]\n",
      "100%|██████████| 782/782 [03:44<00:00,  3.48it/s]\n",
      "100%|██████████| 782/782 [03:45<00:00,  3.47it/s]\n",
      "100%|██████████| 782/782 [03:45<00:00,  3.47it/s]\n",
      "100%|██████████| 782/782 [03:45<00:00,  3.48it/s]\n",
      "100%|██████████| 782/782 [03:45<00:00,  3.47it/s]\n",
      "100%|██████████| 782/782 [03:44<00:00,  3.48it/s]\n",
      "100%|██████████| 782/782 [03:45<00:00,  3.47it/s]\n",
      "100%|██████████| 782/782 [03:45<00:00,  3.47it/s]\n",
      "100%|██████████| 782/782 [03:45<00:00,  3.47it/s]\n",
      "100%|██████████| 782/782 [03:45<00:00,  3.47it/s]\n",
      "100%|██████████| 782/782 [03:45<00:00,  3.47it/s]\n",
      "100%|██████████| 782/782 [03:45<00:00,  3.48it/s]\n",
      "100%|██████████| 782/782 [03:45<00:00,  3.47it/s]\n",
      "100%|██████████| 782/782 [03:44<00:00,  3.48it/s]\n",
      "100%|██████████| 782/782 [03:45<00:00,  3.47it/s]\n",
      "100%|██████████| 782/782 [03:45<00:00,  3.48it/s]\n",
      "100%|██████████| 782/782 [03:45<00:00,  3.47it/s]\n",
      "100%|██████████| 782/782 [03:45<00:00,  3.47it/s]\n",
      "100%|██████████| 782/782 [03:45<00:00,  3.46it/s]\n",
      "100%|██████████| 782/782 [03:45<00:00,  3.47it/s]\n",
      "100%|██████████| 782/782 [03:45<00:00,  3.47it/s]\n",
      "100%|██████████| 782/782 [03:45<00:00,  3.46it/s]\n",
      "100%|██████████| 782/782 [03:45<00:00,  3.47it/s]\n",
      "100%|██████████| 782/782 [03:45<00:00,  3.47it/s]\n",
      "100%|██████████| 782/782 [03:45<00:00,  3.47it/s]\n",
      "100%|██████████| 782/782 [03:45<00:00,  3.47it/s]\n",
      "100%|██████████| 782/782 [03:45<00:00,  3.48it/s]\n",
      "100%|██████████| 782/782 [03:45<00:00,  3.47it/s]\n",
      "100%|██████████| 782/782 [03:44<00:00,  3.48it/s]\n",
      "100%|██████████| 782/782 [03:45<00:00,  3.47it/s]\n",
      "100%|██████████| 782/782 [03:45<00:00,  3.47it/s]\n",
      "100%|██████████| 782/782 [03:44<00:00,  3.48it/s]\n",
      "100%|██████████| 782/782 [03:45<00:00,  3.47it/s]\n",
      "100%|██████████| 782/782 [03:45<00:00,  3.46it/s]\n",
      "100%|██████████| 782/782 [03:44<00:00,  3.48it/s]\n",
      "100%|██████████| 782/782 [03:45<00:00,  3.46it/s]\n",
      "100%|██████████| 782/782 [03:44<00:00,  3.48it/s]\n",
      "100%|██████████| 782/782 [03:44<00:00,  3.48it/s]\n",
      "100%|██████████| 782/782 [03:45<00:00,  3.47it/s]\n",
      "100%|██████████| 782/782 [03:44<00:00,  3.48it/s]\n",
      "100%|██████████| 782/782 [03:44<00:00,  3.48it/s]\n",
      "100%|██████████| 782/782 [03:45<00:00,  3.47it/s]\n",
      "100%|██████████| 782/782 [03:45<00:00,  3.46it/s]\n",
      "100%|██████████| 782/782 [03:45<00:00,  3.47it/s]\n",
      "100%|██████████| 782/782 [03:45<00:00,  3.48it/s]\n",
      "100%|██████████| 782/782 [03:44<00:00,  3.48it/s]\n",
      "100%|██████████| 782/782 [03:44<00:00,  3.49it/s]\n",
      "100%|██████████| 782/782 [03:45<00:00,  3.47it/s]\n",
      "100%|██████████| 782/782 [03:45<00:00,  3.47it/s]\n",
      "100%|██████████| 782/782 [03:44<00:00,  3.48it/s]\n",
      "100%|██████████| 782/782 [03:45<00:00,  3.47it/s]\n",
      "100%|██████████| 782/782 [03:45<00:00,  3.46it/s]\n",
      "100%|██████████| 782/782 [03:45<00:00,  3.47it/s]\n",
      "100%|██████████| 782/782 [03:45<00:00,  3.47it/s]\n",
      "100%|██████████| 782/782 [03:45<00:00,  3.47it/s]\n",
      "100%|██████████| 782/782 [03:45<00:00,  3.47it/s]\n",
      "100%|██████████| 782/782 [03:45<00:00,  3.47it/s]\n",
      "100%|██████████| 782/782 [03:45<00:00,  3.47it/s]\n",
      "100%|██████████| 782/782 [03:45<00:00,  3.47it/s]\n",
      "100%|██████████| 782/782 [03:45<00:00,  3.47it/s]\n",
      "100%|██████████| 782/782 [03:45<00:00,  3.47it/s]\n",
      "100%|██████████| 782/782 [03:45<00:00,  3.47it/s]\n",
      "100%|██████████| 782/782 [03:45<00:00,  3.47it/s]\n",
      "100%|██████████| 782/782 [03:45<00:00,  3.46it/s]\n",
      "100%|██████████| 782/782 [03:44<00:00,  3.48it/s]\n",
      "100%|██████████| 782/782 [03:45<00:00,  3.47it/s]\n",
      "100%|██████████| 782/782 [03:45<00:00,  3.47it/s]\n",
      "100%|██████████| 782/782 [03:44<00:00,  3.48it/s]\n",
      "100%|██████████| 782/782 [03:45<00:00,  3.47it/s]\n",
      "100%|██████████| 782/782 [03:45<00:00,  3.47it/s]\n",
      "100%|██████████| 782/782 [03:45<00:00,  3.47it/s]\n",
      "100%|██████████| 782/782 [03:45<00:00,  3.47it/s]\n",
      "100%|██████████| 782/782 [03:44<00:00,  3.48it/s]\n",
      "100%|██████████| 782/782 [03:44<00:00,  3.48it/s]\n",
      "100%|██████████| 782/782 [03:45<00:00,  3.47it/s]\n",
      "100%|██████████| 782/782 [03:45<00:00,  3.47it/s]\n",
      "100%|██████████| 782/782 [03:45<00:00,  3.47it/s]\n",
      "100%|██████████| 782/782 [03:45<00:00,  3.46it/s]\n",
      "100%|██████████| 782/782 [03:45<00:00,  3.47it/s]\n",
      "100%|██████████| 782/782 [03:44<00:00,  3.48it/s]\n",
      "100%|██████████| 782/782 [03:45<00:00,  3.46it/s]\n",
      "100%|██████████| 782/782 [03:45<00:00,  3.47it/s]\n",
      "100%|██████████| 782/782 [03:45<00:00,  3.47it/s]\n",
      "100%|██████████| 782/782 [03:45<00:00,  3.46it/s]\n",
      " 98%|█████████▊| 768/782 [03:41<00:04,  3.48it/s]"
     ]
    }
   ],
   "source": [
    "for i in range(42,100):\n",
    "    train_set = JetDataset(True, \"./\", f'top_2p_8part_fixedp_{i}.pickle',f'top_2p_8part_fixedp_{i+1}.pickle',8)\n",
    "    torch.save(train_set, f'/nobackup/users/sangeon/datasets/jetdataset_8part_2p2p_idx_{i}_{i+1}.pt')\n",
    "    train_set = JetDataset(True, \"./\", f'top_3p_8part_fixedp_{i}.pickle',f'top_3p_8part_fixedp_{i+1}.pickle',8)\n",
    "    torch.save(train_set, f'/nobackup/users/sangeon/datasets/jetdataset_8part_3p3p_idx_{i}_{i+1}.pt')\n",
    "    train_set = JetDataset(True, \"./\", f'top_2p_8part_fixedp_{i}.pickle',f'top_3p_8part_fixedp_{i+1}.pickle',8)\n",
    "    torch.save(train_set, f'/nobackup/users/sangeon/datasets/jetdataset_8part_2p3p_idx_{i}_{i+1}.pt')"
   ]
  },
  {
   "cell_type": "code",
   "execution_count": null,
   "metadata": {},
   "outputs": [
    {
     "name": "stderr",
     "output_type": "stream",
     "text": [
      "100%|██████████| 782/782 [03:51<00:00,  3.38it/s]\n",
      "100%|██████████| 782/782 [03:45<00:00,  3.47it/s]\n",
      "100%|██████████| 782/782 [03:44<00:00,  3.48it/s]\n",
      "100%|██████████| 782/782 [03:45<00:00,  3.47it/s]\n",
      "100%|██████████| 782/782 [03:45<00:00,  3.46it/s]\n",
      "100%|██████████| 782/782 [03:45<00:00,  3.46it/s]\n",
      "100%|██████████| 782/782 [03:45<00:00,  3.46it/s]\n",
      "100%|██████████| 782/782 [03:45<00:00,  3.47it/s]\n",
      "100%|██████████| 782/782 [03:45<00:00,  3.47it/s]\n",
      "100%|██████████| 782/782 [03:45<00:00,  3.47it/s]\n",
      "100%|██████████| 782/782 [03:46<00:00,  3.46it/s]\n",
      "100%|██████████| 782/782 [03:45<00:00,  3.46it/s]\n",
      "100%|██████████| 782/782 [03:45<00:00,  3.46it/s]\n",
      "100%|██████████| 782/782 [03:46<00:00,  3.46it/s]\n",
      "100%|██████████| 782/782 [03:45<00:00,  3.46it/s]\n",
      "100%|██████████| 782/782 [03:45<00:00,  3.47it/s]\n",
      "100%|██████████| 782/782 [03:44<00:00,  3.48it/s]\n",
      "100%|██████████| 782/782 [03:46<00:00,  3.46it/s]\n",
      "100%|██████████| 782/782 [03:45<00:00,  3.47it/s]\n",
      "100%|██████████| 782/782 [03:45<00:00,  3.48it/s]\n",
      "100%|██████████| 782/782 [03:45<00:00,  3.47it/s]\n",
      "100%|██████████| 782/782 [03:45<00:00,  3.46it/s]\n",
      "100%|██████████| 782/782 [03:45<00:00,  3.47it/s]\n",
      "100%|██████████| 782/782 [03:45<00:00,  3.47it/s]\n",
      "100%|██████████| 782/782 [03:44<00:00,  3.48it/s]\n",
      "100%|██████████| 782/782 [03:45<00:00,  3.47it/s]\n",
      "100%|██████████| 782/782 [03:45<00:00,  3.47it/s]\n",
      "100%|██████████| 782/782 [03:45<00:00,  3.46it/s]\n",
      "100%|██████████| 782/782 [03:45<00:00,  3.46it/s]\n",
      "100%|██████████| 782/782 [03:45<00:00,  3.47it/s]\n",
      "100%|██████████| 782/782 [03:45<00:00,  3.46it/s]\n",
      "100%|██████████| 782/782 [03:45<00:00,  3.47it/s]\n",
      "100%|██████████| 782/782 [03:45<00:00,  3.47it/s]\n",
      "100%|██████████| 782/782 [03:45<00:00,  3.47it/s]\n",
      "100%|██████████| 782/782 [03:45<00:00,  3.47it/s]\n",
      "100%|██████████| 782/782 [03:45<00:00,  3.47it/s]\n",
      "100%|██████████| 782/782 [03:45<00:00,  3.47it/s]\n",
      "100%|██████████| 782/782 [03:45<00:00,  3.47it/s]\n",
      "100%|██████████| 782/782 [03:45<00:00,  3.46it/s]\n",
      "100%|██████████| 782/782 [03:45<00:00,  3.46it/s]\n",
      "100%|██████████| 782/782 [03:45<00:00,  3.46it/s]\n",
      "100%|██████████| 782/782 [03:45<00:00,  3.46it/s]\n",
      "100%|██████████| 782/782 [03:45<00:00,  3.47it/s]\n",
      "100%|██████████| 782/782 [03:45<00:00,  3.47it/s]\n",
      "100%|██████████| 782/782 [03:45<00:00,  3.47it/s]\n",
      "100%|██████████| 782/782 [03:45<00:00,  3.47it/s]\n",
      "100%|██████████| 782/782 [03:45<00:00,  3.47it/s]\n",
      "100%|██████████| 782/782 [03:45<00:00,  3.47it/s]\n",
      "100%|██████████| 782/782 [03:45<00:00,  3.46it/s]\n",
      "100%|██████████| 782/782 [03:45<00:00,  3.46it/s]\n",
      "100%|██████████| 782/782 [03:45<00:00,  3.46it/s]\n",
      " 68%|██████▊   | 531/782 [02:33<01:11,  3.50it/s]"
     ]
    }
   ],
   "source": [
    "for i in range(100):\n",
    "    train_set = JetDataset(True, \"./\", f'top_2p_8part_fixedp_{i}.pickle',f'top_3p_8part_fixedp_{i}.pickle',8)\n",
    "    torch.save(train_set, f'/nobackup/users/sangeon/datasets/jetdataset_8part_2p3p_idx_{i}_{i}.pt')"
   ]
  },
  {
   "cell_type": "code",
   "execution_count": null,
   "metadata": {},
   "outputs": [],
   "source": []
  },
  {
   "cell_type": "code",
   "execution_count": 17,
   "metadata": {},
   "outputs": [
    {
     "name": "stderr",
     "output_type": "stream",
     "text": [
      "100%|██████████| 4188/4188 [19:55<00:00,  3.50it/s]\n"
     ]
    }
   ],
   "source": [
    "train_set = JetDataset(False, None, jettrain1,jettrain2,8)"
   ]
  },
  {
   "cell_type": "code",
   "execution_count": 18,
   "metadata": {},
   "outputs": [
    {
     "name": "stderr",
     "output_type": "stream",
     "text": [
      "100%|██████████| 2063/2063 [09:47<00:00,  3.51it/s]\n"
     ]
    }
   ],
   "source": [
    "val_set = JetDataset(False, None, jetval1,jetval2,8)"
   ]
  },
  {
   "cell_type": "code",
   "execution_count": null,
   "metadata": {},
   "outputs": [],
   "source": [
    "#test_set = JetDataset(False, None, jet1_test,jet2_test,8)"
   ]
  },
  {
   "cell_type": "code",
   "execution_count": null,
   "metadata": {},
   "outputs": [],
   "source": []
  },
  {
   "cell_type": "markdown",
   "metadata": {},
   "source": [
    "# concatenate dataset"
   ]
  },
  {
   "cell_type": "code",
   "execution_count": 1,
   "metadata": {},
   "outputs": [],
   "source": [
    "import os, sys, torch"
   ]
  },
  {
   "cell_type": "code",
   "execution_count": 2,
   "metadata": {},
   "outputs": [],
   "source": [
    "sys.path.insert(0,'../training')\n",
    "from manifoldembedder import JetDataset, JetPredictDataset"
   ]
  },
  {
   "cell_type": "code",
   "execution_count": 9,
   "metadata": {},
   "outputs": [],
   "source": [
    "file_list = []\n",
    "for file in os.listdir('/nobackup/users/sangeon/datasets'):\n",
    "    if \"2p2p\" in file:\n",
    "        #print(file.split(\"_\"))\n",
    "        file_list.append(torch.load(os.path.join('/nobackup/users/sangeon/datasets',file)))\n",
    "    "
   ]
  },
  {
   "cell_type": "code",
   "execution_count": 10,
   "metadata": {},
   "outputs": [],
   "source": [
    "c = torch.utils.data.ConcatDataset(file_list)\n",
    "\n",
    "torch.save(c, os.path.join('/nobackup/users/sangeon/datasets','concat_temp_only2p.pt'))"
   ]
  },
  {
   "cell_type": "code",
   "execution_count": 11,
   "metadata": {},
   "outputs": [],
   "source": [
    "import os"
   ]
  },
  {
   "cell_type": "code",
   "execution_count": 14,
   "metadata": {},
   "outputs": [],
   "source": []
  },
  {
   "cell_type": "code",
   "execution_count": 11,
   "metadata": {},
   "outputs": [],
   "source": [
    "torch.save(c, os.path.join('/nobackup/users/sangeon/datasets','concat_temp.pt'))"
   ]
  },
  {
   "cell_type": "code",
   "execution_count": null,
   "metadata": {},
   "outputs": [],
   "source": [
    "file_list = [torch.load(os.path.join('/nobackup/users/sangeon/datasets','jetdataset_8part_2p2p_idx_101_102.pt')),torch.load(os.path.join('/nobackup/users/sangeon/datasets','jetdataset_8part_2p3p_idx_101_102.pt')),torch.load(os.path.join('/nobackup/users/sangeon/datasets','jetdataset_8part_3p3p_idx_101_102.pt'))]\n",
    "\n",
    "c = torch.utils.data.ConcatDataset(file_list)\n",
    "\n",
    "torch.save(c, os.path.join('/nobackup/users/sangeon/datasets','concat_temp_val.pt'))"
   ]
  },
  {
   "cell_type": "code",
   "execution_count": 25,
   "metadata": {},
   "outputs": [],
   "source": [
    "a = torch.load('jetdataset_train2.pt')"
   ]
  },
  {
   "cell_type": "code",
   "execution_count": 26,
   "metadata": {},
   "outputs": [],
   "source": [
    "b = torch.load('jetdataset_train.pt')"
   ]
  },
  {
   "cell_type": "code",
   "execution_count": null,
   "metadata": {},
   "outputs": [],
   "source": []
  },
  {
   "cell_type": "code",
   "execution_count": null,
   "metadata": {},
   "outputs": [],
   "source": []
  },
  {
   "cell_type": "code",
   "execution_count": null,
   "metadata": {},
   "outputs": [],
   "source": []
  },
  {
   "cell_type": "code",
   "execution_count": 27,
   "metadata": {},
   "outputs": [],
   "source": [
    "c = torch.utils.data.ConcatDataset([a,b])"
   ]
  },
  {
   "cell_type": "code",
   "execution_count": 30,
   "metadata": {},
   "outputs": [],
   "source": [
    "torch.save(c, 'jetdataset_train_concat.pt')"
   ]
  },
  {
   "cell_type": "code",
   "execution_count": 22,
   "metadata": {},
   "outputs": [],
   "source": [
    "predict_set = JetPredictDataset(False,None,jet1_test,jet1_test_label,8)"
   ]
  },
  {
   "cell_type": "code",
   "execution_count": 21,
   "metadata": {},
   "outputs": [],
   "source": [
    "torch.save(train_set, 'jetdataset_train2.pt')"
   ]
  },
  {
   "cell_type": "code",
   "execution_count": 22,
   "metadata": {},
   "outputs": [],
   "source": [
    "torch.save(val_set, 'jetdataset_val2.pt')"
   ]
  },
  {
   "cell_type": "code",
   "execution_count": 24,
   "metadata": {},
   "outputs": [],
   "source": [
    "torch.save(test_set, 'jetdataset_test.pt')"
   ]
  },
  {
   "cell_type": "code",
   "execution_count": 25,
   "metadata": {},
   "outputs": [],
   "source": [
    "torch.save(predict_set, 'jetdataset_predict.pt')"
   ]
  },
  {
   "cell_type": "code",
   "execution_count": null,
   "metadata": {},
   "outputs": [],
   "source": [
    "training_generator = torch.utils.data.DataLoader(train_set, batch_size=1, shuffle=False)"
   ]
  },
  {
   "cell_type": "code",
   "execution_count": 24,
   "metadata": {},
   "outputs": [],
   "source": [
    "train_loader = torch.utils.data.DataLoader(train_set2, batch_size=10, shuffle=False)"
   ]
  },
  {
   "cell_type": "code",
   "execution_count": null,
   "metadata": {},
   "outputs": [],
   "source": [
    "for batch in train_loader:\n",
    "    x,y,emd = batch\n",
    "    print(x.shape,y.shape,emd)"
   ]
  },
  {
   "cell_type": "code",
   "execution_count": 17,
   "metadata": {},
   "outputs": [
    {
     "data": {
      "text/plain": [
       "(5000, 24)"
      ]
     },
     "execution_count": 17,
     "metadata": {},
     "output_type": "execute_result"
    }
   ],
   "source": [
    "data_top_2p_8part.shape"
   ]
  },
  {
   "cell_type": "code",
   "execution_count": 4,
   "metadata": {},
   "outputs": [],
   "source": [
    "bkg_2p_8part = jet_data_generator(\"background\",0.00005, 2, 8)"
   ]
  },
  {
   "cell_type": "code",
   "execution_count": 5,
   "metadata": {},
   "outputs": [
    {
     "name": "stdout",
     "output_type": "stream",
     "text": [
      "6.730315208435059\n"
     ]
    }
   ],
   "source": [
    "start = time.time()\n",
    "data_sig_2p_8part = sig_2p_8part.generate_dataset(1000)\n",
    "end = time.time()\n",
    "print(end-start)"
   ]
  },
  {
   "cell_type": "code",
   "execution_count": 6,
   "metadata": {},
   "outputs": [],
   "source": [
    "with open('sig_2p_8part_fixedp.pickle', 'wb') as handle:\n",
    "    pickle.dump(data_sig_2p_8part, handle, protocol=pickle.HIGHEST_PROTOCOL)"
   ]
  },
  {
   "cell_type": "code",
   "execution_count": 7,
   "metadata": {},
   "outputs": [
    {
     "name": "stdout",
     "output_type": "stream",
     "text": [
      "6.740593433380127\n"
     ]
    }
   ],
   "source": [
    "start = time.time()\n",
    "data_bkg_2p_8part = bkg_2p_8part.generate_dataset(1000)\n",
    "end = time.time()\n",
    "print(end-start)"
   ]
  },
  {
   "cell_type": "code",
   "execution_count": 8,
   "metadata": {},
   "outputs": [],
   "source": [
    "with open('bkg_2p_8part_fixedp.pickle', 'wb') as handle:\n",
    "    pickle.dump(data_bkg_2p_8part, handle, protocol=pickle.HIGHEST_PROTOCOL)"
   ]
  },
  {
   "cell_type": "code",
   "execution_count": 9,
   "metadata": {},
   "outputs": [],
   "source": [
    "sig_3p_8part = jet_data_generator(\"signal\",0.00005, 3, 8)"
   ]
  },
  {
   "cell_type": "code",
   "execution_count": 10,
   "metadata": {},
   "outputs": [
    {
     "name": "stdout",
     "output_type": "stream",
     "text": [
      "6.744920969009399\n"
     ]
    }
   ],
   "source": [
    "start = time.time()\n",
    "data_sig_3p_8part = sig_3p_8part.generate_dataset(1000)\n",
    "end = time.time()\n",
    "print(end-start)"
   ]
  },
  {
   "cell_type": "code",
   "execution_count": 11,
   "metadata": {},
   "outputs": [],
   "source": [
    "with open('sig_3p_8part_fixedp.pickle', 'wb') as handle:\n",
    "    pickle.dump(data_sig_3p_8part, handle, protocol=pickle.HIGHEST_PROTOCOL)"
   ]
  },
  {
   "cell_type": "code",
   "execution_count": 12,
   "metadata": {},
   "outputs": [],
   "source": [
    "sig_4p_8part = jet_data_generator(\"signal\",0.00005, 4, 8)"
   ]
  },
  {
   "cell_type": "code",
   "execution_count": 13,
   "metadata": {},
   "outputs": [
    {
     "name": "stdout",
     "output_type": "stream",
     "text": [
      "6.805036306381226\n"
     ]
    }
   ],
   "source": [
    "start = time.time()\n",
    "data_sig_4p_8part = sig_4p_8part.generate_dataset(1000)\n",
    "end = time.time()\n",
    "print(end-start)"
   ]
  },
  {
   "cell_type": "code",
   "execution_count": 14,
   "metadata": {},
   "outputs": [],
   "source": [
    "with open('sig_4p_8part_fixedp.pickle', 'wb') as handle:\n",
    "    pickle.dump(data_sig_4p_8part, handle, protocol=pickle.HIGHEST_PROTOCOL)"
   ]
  },
  {
   "cell_type": "code",
   "execution_count": 15,
   "metadata": {},
   "outputs": [],
   "source": [
    "sig_2p_4part = jet_data_generator(\"signal\",0.00005, 2, 4)"
   ]
  },
  {
   "cell_type": "code",
   "execution_count": 16,
   "metadata": {},
   "outputs": [
    {
     "name": "stdout",
     "output_type": "stream",
     "text": [
      "2.7547028064727783\n"
     ]
    }
   ],
   "source": [
    "start = time.time()\n",
    "data_sig_2p_4part = sig_2p_4part.generate_dataset(1000)\n",
    "end = time.time()\n",
    "print(end-start)"
   ]
  },
  {
   "cell_type": "code",
   "execution_count": 17,
   "metadata": {},
   "outputs": [],
   "source": [
    "with open('sig_2p_4part_fixedp.pickle', 'wb') as handle:\n",
    "    pickle.dump(data_sig_2p_4part, handle, protocol=pickle.HIGHEST_PROTOCOL)"
   ]
  },
  {
   "cell_type": "code",
   "execution_count": 18,
   "metadata": {},
   "outputs": [],
   "source": [
    "sig_3p_4part = jet_data_generator(\"signal\",0.00005, 3, 4)"
   ]
  },
  {
   "cell_type": "code",
   "execution_count": 19,
   "metadata": {},
   "outputs": [
    {
     "name": "stdout",
     "output_type": "stream",
     "text": [
      "2.7955634593963623\n"
     ]
    }
   ],
   "source": [
    "start = time.time()\n",
    "data_sig_3p_4part = sig_3p_4part.generate_dataset(1000)\n",
    "end = time.time()\n",
    "print(end-start)"
   ]
  },
  {
   "cell_type": "code",
   "execution_count": 20,
   "metadata": {},
   "outputs": [],
   "source": [
    "with open('sig_3p_4part_fixedp.pickle', 'wb') as handle:\n",
    "    pickle.dump(data_sig_3p_4part, handle, protocol=pickle.HIGHEST_PROTOCOL)"
   ]
  },
  {
   "cell_type": "code",
   "execution_count": 2,
   "metadata": {},
   "outputs": [],
   "source": [
    "sig_2p_8part_fixedp = jet_data_generator(\"signal\",0.00005, 2, 8, True)\n",
    "sig_2p_8part_variedp = jet_data_generator(\"signal\",0.00005, 2, 8, False)\n"
   ]
  },
  {
   "cell_type": "code",
   "execution_count": null,
   "metadata": {},
   "outputs": [],
   "source": [
    "data_sig_2_8part_fixedp_prime = sig_2p_8part_fixedp.generate_dataset(1000)\n",
    "with open('sig_3p_4part_fixedp.pickle', 'wb') as handle:\n",
    "    pickle.dump(data_sig_3p_4part, handle, protocol=pickle.HIGHEST_PROTOCOL)"
   ]
  }
 ],
 "metadata": {
  "kernelspec": {
   "display_name": "studies",
   "language": "python",
   "name": "studies"
  },
  "language_info": {
   "codemirror_mode": {
    "name": "ipython",
    "version": 3
   },
   "file_extension": ".py",
   "mimetype": "text/x-python",
   "name": "python",
   "nbconvert_exporter": "python",
   "pygments_lexer": "ipython3",
   "version": "3.8.12"
  }
 },
 "nbformat": 4,
 "nbformat_minor": 4
}
