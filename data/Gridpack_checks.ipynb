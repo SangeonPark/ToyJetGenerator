{
 "cells": [
  {
   "cell_type": "code",
   "execution_count": 1,
   "metadata": {},
   "outputs": [],
   "source": [
    "%load_ext autoreload\n",
    "%autoreload 2"
   ]
  },
  {
   "cell_type": "code",
   "execution_count": 2,
   "metadata": {},
   "outputs": [],
   "source": [
    "import pandas as pd\n",
    "import numpy as np\n",
    "import sys\n",
    "import os"
   ]
  },
  {
   "cell_type": "code",
   "execution_count": 3,
   "metadata": {},
   "outputs": [],
   "source": [
    "%matplotlib inline\n",
    "import matplotlib.pyplot as plt\n",
    "plt.rcParams[\"figure.figsize\"] = (6,6)\n",
    "plt.rcParams.update({'font.size': 14})"
   ]
  },
  {
   "cell_type": "code",
   "execution_count": 4,
   "metadata": {},
   "outputs": [],
   "source": [
    "NPART = 16"
   ]
  },
  {
   "cell_type": "code",
   "execution_count": 5,
   "metadata": {},
   "outputs": [],
   "source": [
    "def fix_phi(phi):\n",
    "    phi %= (2*np.pi)\n",
    "    if phi > np.pi:\n",
    "        phi -= 2*np.pi\n",
    "    return phi"
   ]
  },
  {
   "cell_type": "code",
   "execution_count": 6,
   "metadata": {},
   "outputs": [],
   "source": [
    "fix_phi_vec = np.vectorize(fix_phi)"
   ]
  },
  {
   "cell_type": "code",
   "execution_count": 15,
   "metadata": {},
   "outputs": [],
   "source": [
    "dir_list = os.listdir('/nobackup/users/sangeon/datasets/jetGridpack/')"
   ]
  },
  {
   "cell_type": "code",
   "execution_count": 16,
   "metadata": {},
   "outputs": [],
   "source": [
    "triboson_list = []\n",
    "for file in dir_list:\n",
    "    if 'Triboson' in file:\n",
    "        triboson_list.append(file)"
   ]
  },
  {
   "cell_type": "code",
   "execution_count": 17,
   "metadata": {},
   "outputs": [],
   "source": [
    "wprime_list = []\n",
    "for file in dir_list:\n",
    "    if 'WpToBpT' in file:\n",
    "        wprime_list.append(file)"
   ]
  },
  {
   "cell_type": "code",
   "execution_count": 25,
   "metadata": {},
   "outputs": [
    {
     "data": {
      "text/plain": [
       "['WpToBpT_Wp3000_Bp170_Top400_Zbt_slc7_amd64_gcc700_CMSSW_10_6_19_id1598501526_32part_jet1.h5',\n",
       " 'WpToBpT_Wp3000_Bp170_Top170_Zbt_slc7_amd64_gcc700_CMSSW_10_6_19_id1598501315_32part_jet1.h5',\n",
       " 'WpToBpT_Wp3000_Bp170_Top170_Zbt_slc7_amd64_gcc700_CMSSW_10_6_19_id1598501324_32part_jet1.h5',\n",
       " 'WpToBpT_Wp3000_Bp170_Top170_Zbt_slc7_amd64_gcc700_CMSSW_10_6_19_id1598501316_32part_jet2.h5',\n",
       " 'WpToBpT_Wp3000_Bp170_Top400_Zbt_slc7_amd64_gcc700_CMSSW_10_6_19_id1598501515_32part_jet2.h5',\n",
       " 'WpToBpT_Wp3000_Bp170_Top400_Zbt_slc7_amd64_gcc700_CMSSW_10_6_19_id159850151_32part_jet2.h5',\n",
       " 'WpToBpT_Wp3000_Bp170_Top170_Zbt_slc7_amd64_gcc700_CMSSW_10_6_19_id159850130_32part_jet2.h5',\n",
       " 'WpToBpT_Wp3000_Bp170_Top400_Zbt_slc7_amd64_gcc700_CMSSW_10_6_19_id1598501523_32part_jet2.h5',\n",
       " 'WpToBpT_Wp3000_Bp170_Top400_Zbt_slc7_amd64_gcc700_CMSSW_10_6_19_id159850150_32part_jet2.h5',\n",
       " 'WpToBpT_Wp3000_Bp170_Top400_Zbt_slc7_amd64_gcc700_CMSSW_10_6_19_id1598501529_32part_jet2.h5',\n",
       " 'WpToBpT_Wp3000_Bp170_Top170_Zbt_slc7_amd64_gcc700_CMSSW_10_6_19_id1598501323_32part_jet2.h5',\n",
       " 'WpToBpT_Wp3000_Bp170_Top400_Zbt_slc7_amd64_gcc700_CMSSW_10_6_19_id1598501522_32part_jet1.h5',\n",
       " 'WpToBpT_Wp3000_Bp170_Top170_Zbt_slc7_amd64_gcc700_CMSSW_10_6_19_id159850132_32part_jet1.h5',\n",
       " 'WpToBpT_Wp3000_Bp170_Top170_Zbt_slc7_amd64_gcc700_CMSSW_10_6_19_id1598501326_32part_jet2.h5',\n",
       " 'WpToBpT_Wp3000_Bp170_Top170_Zbt_slc7_amd64_gcc700_CMSSW_10_6_19_id159850133_32part_jet1.h5',\n",
       " 'WpToBpT_Wp3000_Bp170_Top170_Zbt_slc7_amd64_gcc700_CMSSW_10_6_19_id1598501318_32part_jet1.h5',\n",
       " 'WpToBpT_Wp3000_Bp170_Top170_Zbt_slc7_amd64_gcc700_CMSSW_10_6_19_id159850135_32part_jet1.h5',\n",
       " 'WpToBpT_Wp3000_Bp170_Top400_Zbt_slc7_amd64_gcc700_CMSSW_10_6_19_id159850159_32part_jet1.h5',\n",
       " 'WpToBpT_Wp3000_Bp170_Top170_Zbt_slc7_amd64_gcc700_CMSSW_10_6_19_id1598501329_32part_jet1.h5',\n",
       " 'WpToBpT_Wp3000_Bp170_Top400_Zbt_slc7_amd64_gcc700_CMSSW_10_6_19_id1598501516_32part_jet2.h5',\n",
       " 'WpToBpT_Wp3000_Bp170_Top170_Zbt_slc7_amd64_gcc700_CMSSW_10_6_19_id1598501329_32part_jet2.h5',\n",
       " 'WpToBpT_Wp3000_Bp170_Top400_Zbt_slc7_amd64_gcc700_CMSSW_10_6_19_id1598501511_32part_jet1.h5',\n",
       " 'WpToBpT_Wp3000_Bp170_Top400_Zbt_slc7_amd64_gcc700_CMSSW_10_6_19_id1598501521_32part_jet1.h5',\n",
       " 'WpToBpT_Wp3000_Bp170_Top170_Zbt_slc7_amd64_gcc700_CMSSW_10_6_19_id1598501312_32part_jet1.h5',\n",
       " 'WpToBpT_Wp3000_Bp170_Top170_Zbt_slc7_amd64_gcc700_CMSSW_10_6_19_id1598501315_32part_jet2.h5',\n",
       " 'WpToBpT_Wp3000_Bp170_Top400_Zbt_slc7_amd64_gcc700_CMSSW_10_6_19_id1598501514_32part_jet2.h5',\n",
       " 'WpToBpT_Wp3000_Bp170_Top170_Zbt_slc7_amd64_gcc700_CMSSW_10_6_19_id1598501318_32part_jet2.h5',\n",
       " 'WpToBpT_Wp3000_Bp170_Top400_Zbt_slc7_amd64_gcc700_CMSSW_10_6_19_id159850152_32part_jet1.h5',\n",
       " 'WpToBpT_Wp3000_Bp170_Top400_Zbt_slc7_amd64_gcc700_CMSSW_10_6_19_id1598501513_32part_jet1.h5',\n",
       " 'WpToBpT_Wp3000_Bp170_Top400_Zbt_slc7_amd64_gcc700_CMSSW_10_6_19_id159850155_32part_jet2.h5',\n",
       " 'WpToBpT_Wp3000_Bp170_Top170_Zbt_slc7_amd64_gcc700_CMSSW_10_6_19_id159850139_32part_jet2.h5',\n",
       " 'WpToBpT_Wp3000_Bp170_Top170_Zbt_slc7_amd64_gcc700_CMSSW_10_6_19_id1598501320_32part_jet2.h5',\n",
       " 'WpToBpT_Wp3000_Bp170_Top400_Zbt_slc7_amd64_gcc700_CMSSW_10_6_19_id1598501518_32part_jet2.h5',\n",
       " 'WpToBpT_Wp3000_Bp170_Top170_Zbt_slc7_amd64_gcc700_CMSSW_10_6_19_id1598501313_32part_jet1.h5',\n",
       " 'WpToBpT_Wp3000_Bp170_Top400_Zbt_slc7_amd64_gcc700_CMSSW_10_6_19_id159850156_32part_jet2.h5',\n",
       " 'WpToBpT_Wp3000_Bp170_Top400_Zbt_slc7_amd64_gcc700_CMSSW_10_6_19_id1598501516_32part_jet1.h5',\n",
       " 'WpToBpT_Wp3000_Bp170_Top400_Zbt_slc7_amd64_gcc700_CMSSW_10_6_19_id1598501521_32part_jet2.h5',\n",
       " 'WpToBpT_Wp3000_Bp170_Top170_Zbt_slc7_amd64_gcc700_CMSSW_10_6_19_id1598501311_32part_jet2.h5',\n",
       " 'WpToBpT_Wp3000_Bp170_Top400_Zbt_slc7_amd64_gcc700_CMSSW_10_6_19_id1598501518_32part_jet1.h5',\n",
       " 'WpToBpT_Wp3000_Bp170_Top400_Zbt_slc7_amd64_gcc700_CMSSW_10_6_19_id159850154_32part_jet1.h5',\n",
       " 'WpToBpT_Wp3000_Bp170_Top170_Zbt_slc7_amd64_gcc700_CMSSW_10_6_19_id159850137_32part_jet2.h5',\n",
       " 'WpToBpT_Wp3000_Bp170_Top400_Zbt_slc7_amd64_gcc700_CMSSW_10_6_19_id1598501519_32part_jet1.h5',\n",
       " 'WpToBpT_Wp3000_Bp170_Top400_Zbt_slc7_amd64_gcc700_CMSSW_10_6_19_id1598501520_32part_jet1.h5',\n",
       " 'WpToBpT_Wp3000_Bp170_Top400_Zbt_slc7_amd64_gcc700_CMSSW_10_6_19_id1598501528_32part_jet1.h5',\n",
       " 'WpToBpT_Wp3000_Bp170_Top170_Zbt_slc7_amd64_gcc700_CMSSW_10_6_19_id1598501317_32part_jet2.h5',\n",
       " 'WpToBpT_Wp3000_Bp170_Top170_Zbt_slc7_amd64_gcc700_CMSSW_10_6_19_id159850139_32part_jet1.h5',\n",
       " 'WpToBpT_Wp3000_Bp170_Top170_Zbt_slc7_amd64_gcc700_CMSSW_10_6_19_id1598501312_32part_jet2.h5',\n",
       " 'WpToBpT_Wp3000_Bp170_Top170_Zbt_slc7_amd64_gcc700_CMSSW_10_6_19_id159850134_32part_jet2.h5',\n",
       " 'WpToBpT_Wp3000_Bp170_Top170_Zbt_slc7_amd64_gcc700_CMSSW_10_6_19_id159850130_32part_jet1.h5',\n",
       " 'WpToBpT_Wp3000_Bp170_Top170_Zbt_slc7_amd64_gcc700_CMSSW_10_6_19_id1598501321_32part_jet1.h5',\n",
       " 'WpToBpT_Wp3000_Bp170_Top170_Zbt_slc7_amd64_gcc700_CMSSW_10_6_19_id1598501323_32part_jet1.h5',\n",
       " 'WpToBpT_Wp3000_Bp170_Top170_Zbt_slc7_amd64_gcc700_CMSSW_10_6_19_id1598501310_32part_jet2.h5',\n",
       " 'WpToBpT_Wp3000_Bp170_Top170_Zbt_slc7_amd64_gcc700_CMSSW_10_6_19_id159850132_32part_jet2.h5',\n",
       " 'WpToBpT_Wp3000_Bp170_Top170_Zbt_slc7_amd64_gcc700_CMSSW_10_6_19_id1598501314_32part_jet1.h5',\n",
       " 'WpToBpT_Wp3000_Bp170_Top170_Zbt_slc7_amd64_gcc700_CMSSW_10_6_19_id1598501320_32part_jet1.h5',\n",
       " 'WpToBpT_Wp3000_Bp170_Top400_Zbt_slc7_amd64_gcc700_CMSSW_10_6_19_id1598501524_32part_jet1.h5',\n",
       " 'WpToBpT_Wp3000_Bp170_Top170_Zbt_slc7_amd64_gcc700_CMSSW_10_6_19_id1598501325_32part_jet1.h5',\n",
       " 'WpToBpT_Wp3000_Bp170_Top400_Zbt_slc7_amd64_gcc700_CMSSW_10_6_19_id1598501514_32part_jet1.h5',\n",
       " 'WpToBpT_Wp3000_Bp170_Top170_Zbt_slc7_amd64_gcc700_CMSSW_10_6_19_id1598501325_32part_jet2.h5',\n",
       " 'WpToBpT_Wp3000_Bp170_Top400_Zbt_slc7_amd64_gcc700_CMSSW_10_6_19_id159850156_32part_jet1.h5',\n",
       " 'WpToBpT_Wp3000_Bp170_Top170_Zbt_slc7_amd64_gcc700_CMSSW_10_6_19_id159850138_32part_jet1.h5',\n",
       " 'WpToBpT_Wp3000_Bp170_Top170_Zbt_slc7_amd64_gcc700_CMSSW_10_6_19_id1598501328_32part_jet1.h5',\n",
       " 'WpToBpT_Wp3000_Bp170_Top170_Zbt_slc7_amd64_gcc700_CMSSW_10_6_19_id1598501324_32part_jet2.h5',\n",
       " 'WpToBpT_Wp3000_Bp170_Top170_Zbt_slc7_amd64_gcc700_CMSSW_10_6_19_id159850136_32part_jet2.h5',\n",
       " 'WpToBpT_Wp3000_Bp170_Top170_Zbt_slc7_amd64_gcc700_CMSSW_10_6_19_id159850137_32part_jet1.h5',\n",
       " 'WpToBpT_Wp3000_Bp170_Top170_Zbt_slc7_amd64_gcc700_CMSSW_10_6_19_id1598501314_32part_jet2.h5',\n",
       " 'WpToBpT_Wp3000_Bp170_Top400_Zbt_slc7_amd64_gcc700_CMSSW_10_6_19_id159850155_32part_jet1.h5',\n",
       " 'WpToBpT_Wp3000_Bp170_Top400_Zbt_slc7_amd64_gcc700_CMSSW_10_6_19_id1598501527_32part_jet1.h5',\n",
       " 'WpToBpT_Wp3000_Bp170_Top170_Zbt_slc7_amd64_gcc700_CMSSW_10_6_19_id1598501321_32part_jet2.h5',\n",
       " 'WpToBpT_Wp3000_Bp170_Top170_Zbt_slc7_amd64_gcc700_CMSSW_10_6_19_id1598501319_32part_jet1.h5',\n",
       " 'WpToBpT_Wp3000_Bp170_Top400_Zbt_slc7_amd64_gcc700_CMSSW_10_6_19_id159850150_32part_jet1.h5',\n",
       " 'WpToBpT_Wp3000_Bp170_Top400_Zbt_slc7_amd64_gcc700_CMSSW_10_6_19_id1598501513_32part_jet2.h5',\n",
       " 'WpToBpT_Wp3000_Bp170_Top400_Zbt_slc7_amd64_gcc700_CMSSW_10_6_19_id1598501511_32part_jet2.h5',\n",
       " 'WpToBpT_Wp3000_Bp170_Top400_Zbt_slc7_amd64_gcc700_CMSSW_10_6_19_id1598501526_32part_jet2.h5',\n",
       " 'WpToBpT_Wp3000_Bp170_Top400_Zbt_slc7_amd64_gcc700_CMSSW_10_6_19_id1598501524_32part_jet2.h5',\n",
       " 'WpToBpT_Wp3000_Bp170_Top170_Zbt_slc7_amd64_gcc700_CMSSW_10_6_19_id1598501310_32part_jet1.h5',\n",
       " 'WpToBpT_Wp3000_Bp170_Top170_Zbt_slc7_amd64_gcc700_CMSSW_10_6_19_id1598501322_32part_jet2.h5',\n",
       " 'WpToBpT_Wp3000_Bp170_Top400_Zbt_slc7_amd64_gcc700_CMSSW_10_6_19_id159850153_32part_jet1.h5',\n",
       " 'WpToBpT_Wp3000_Bp170_Top400_Zbt_slc7_amd64_gcc700_CMSSW_10_6_19_id159850158_32part_jet1.h5',\n",
       " 'WpToBpT_Wp3000_Bp170_Top170_Zbt_slc7_amd64_gcc700_CMSSW_10_6_19_id1598501327_32part_jet1.h5',\n",
       " 'WpToBpT_Wp3000_Bp170_Top400_Zbt_slc7_amd64_gcc700_CMSSW_10_6_19_id159850151_32part_jet1.h5',\n",
       " 'WpToBpT_Wp3000_Bp170_Top400_Zbt_slc7_amd64_gcc700_CMSSW_10_6_19_id159850158_32part_jet2.h5',\n",
       " 'WpToBpT_Wp3000_Bp170_Top400_Zbt_slc7_amd64_gcc700_CMSSW_10_6_19_id159850152_32part_jet2.h5',\n",
       " 'WpToBpT_Wp3000_Bp170_Top400_Zbt_slc7_amd64_gcc700_CMSSW_10_6_19_id159850157_32part_jet2.h5',\n",
       " 'WpToBpT_Wp3000_Bp170_Top170_Zbt_slc7_amd64_gcc700_CMSSW_10_6_19_id1598501313_32part_jet2.h5',\n",
       " 'WpToBpT_Wp3000_Bp170_Top170_Zbt_slc7_amd64_gcc700_CMSSW_10_6_19_id159850131_32part_jet1.h5',\n",
       " 'WpToBpT_Wp3000_Bp170_Top400_Zbt_slc7_amd64_gcc700_CMSSW_10_6_19_id159850153_32part_jet2.h5',\n",
       " 'WpToBpT_Wp3000_Bp170_Top400_Zbt_slc7_amd64_gcc700_CMSSW_10_6_19_id1598501519_32part_jet2.h5',\n",
       " 'WpToBpT_Wp3000_Bp170_Top400_Zbt_slc7_amd64_gcc700_CMSSW_10_6_19_id1598501510_32part_jet2.h5',\n",
       " 'WpToBpT_Wp3000_Bp170_Top170_Zbt_slc7_amd64_gcc700_CMSSW_10_6_19_id1598501322_32part_jet1.h5',\n",
       " 'WpToBpT_Wp3000_Bp170_Top170_Zbt_slc7_amd64_gcc700_CMSSW_10_6_19_id159850134_32part_jet1.h5',\n",
       " 'WpToBpT_Wp3000_Bp170_Top400_Zbt_slc7_amd64_gcc700_CMSSW_10_6_19_id1598501529_32part_jet1.h5',\n",
       " 'WpToBpT_Wp3000_Bp170_Top400_Zbt_slc7_amd64_gcc700_CMSSW_10_6_19_id1598501528_32part_jet2.h5',\n",
       " 'WpToBpT_Wp3000_Bp170_Top400_Zbt_slc7_amd64_gcc700_CMSSW_10_6_19_id1598501525_32part_jet1.h5',\n",
       " 'WpToBpT_Wp3000_Bp170_Top400_Zbt_slc7_amd64_gcc700_CMSSW_10_6_19_id1598501520_32part_jet2.h5',\n",
       " 'WpToBpT_Wp3000_Bp170_Top170_Zbt_slc7_amd64_gcc700_CMSSW_10_6_19_id159850131_32part_jet2.h5',\n",
       " 'WpToBpT_Wp3000_Bp170_Top400_Zbt_slc7_amd64_gcc700_CMSSW_10_6_19_id1598501512_32part_jet2.h5',\n",
       " 'WpToBpT_Wp3000_Bp170_Top400_Zbt_slc7_amd64_gcc700_CMSSW_10_6_19_id159850154_32part_jet2.h5',\n",
       " 'WpToBpT_Wp3000_Bp170_Top400_Zbt_slc7_amd64_gcc700_CMSSW_10_6_19_id159850159_32part_jet2.h5',\n",
       " 'WpToBpT_Wp3000_Bp170_Top400_Zbt_slc7_amd64_gcc700_CMSSW_10_6_19_id1598501527_32part_jet2.h5',\n",
       " 'WpToBpT_Wp3000_Bp170_Top170_Zbt_slc7_amd64_gcc700_CMSSW_10_6_19_id159850136_32part_jet1.h5',\n",
       " 'WpToBpT_Wp3000_Bp170_Top170_Zbt_slc7_amd64_gcc700_CMSSW_10_6_19_id1598501316_32part_jet1.h5',\n",
       " 'WpToBpT_Wp3000_Bp170_Top400_Zbt_slc7_amd64_gcc700_CMSSW_10_6_19_id1598501510_32part_jet1.h5',\n",
       " 'WpToBpT_Wp3000_Bp170_Top170_Zbt_slc7_amd64_gcc700_CMSSW_10_6_19_id1598501326_32part_jet1.h5',\n",
       " 'WpToBpT_Wp3000_Bp170_Top170_Zbt_slc7_amd64_gcc700_CMSSW_10_6_19_id1598501319_32part_jet2.h5',\n",
       " 'WpToBpT_Wp3000_Bp170_Top400_Zbt_slc7_amd64_gcc700_CMSSW_10_6_19_id159850157_32part_jet1.h5',\n",
       " 'WpToBpT_Wp3000_Bp170_Top400_Zbt_slc7_amd64_gcc700_CMSSW_10_6_19_id1598501525_32part_jet2.h5',\n",
       " 'WpToBpT_Wp3000_Bp170_Top400_Zbt_slc7_amd64_gcc700_CMSSW_10_6_19_id1598501517_32part_jet1.h5',\n",
       " 'WpToBpT_Wp3000_Bp170_Top400_Zbt_slc7_amd64_gcc700_CMSSW_10_6_19_id1598501517_32part_jet2.h5',\n",
       " 'WpToBpT_Wp3000_Bp170_Top400_Zbt_slc7_amd64_gcc700_CMSSW_10_6_19_id1598501523_32part_jet1.h5',\n",
       " 'WpToBpT_Wp3000_Bp170_Top170_Zbt_slc7_amd64_gcc700_CMSSW_10_6_19_id159850133_32part_jet2.h5',\n",
       " 'WpToBpT_Wp3000_Bp170_Top170_Zbt_slc7_amd64_gcc700_CMSSW_10_6_19_id1598501311_32part_jet1.h5',\n",
       " 'WpToBpT_Wp3000_Bp170_Top400_Zbt_slc7_amd64_gcc700_CMSSW_10_6_19_id1598501512_32part_jet1.h5',\n",
       " 'WpToBpT_Wp3000_Bp170_Top170_Zbt_slc7_amd64_gcc700_CMSSW_10_6_19_id1598501317_32part_jet1.h5',\n",
       " 'WpToBpT_Wp3000_Bp170_Top170_Zbt_slc7_amd64_gcc700_CMSSW_10_6_19_id1598501328_32part_jet2.h5',\n",
       " 'WpToBpT_Wp3000_Bp170_Top170_Zbt_slc7_amd64_gcc700_CMSSW_10_6_19_id159850135_32part_jet2.h5',\n",
       " 'WpToBpT_Wp3000_Bp170_Top400_Zbt_slc7_amd64_gcc700_CMSSW_10_6_19_id1598501515_32part_jet1.h5',\n",
       " 'WpToBpT_Wp3000_Bp170_Top170_Zbt_slc7_amd64_gcc700_CMSSW_10_6_19_id159850138_32part_jet2.h5',\n",
       " 'WpToBpT_Wp3000_Bp170_Top400_Zbt_slc7_amd64_gcc700_CMSSW_10_6_19_id1598501522_32part_jet2.h5',\n",
       " 'WpToBpT_Wp3000_Bp170_Top170_Zbt_slc7_amd64_gcc700_CMSSW_10_6_19_id1598501327_32part_jet2.h5']"
      ]
     },
     "execution_count": 25,
     "metadata": {},
     "output_type": "execute_result"
    }
   ],
   "source": [
    "wprime_list"
   ]
  },
  {
   "cell_type": "code",
   "execution_count": 19,
   "metadata": {},
   "outputs": [
    {
     "data": {
      "text/plain": [
       "['Triboson_M2000_Mr170_slc7_amd64_gcc700_CMSSW_10_6_19_id159739056_32part_jet1.h5',\n",
       " 'Triboson_M2000_Mr170_slc7_amd64_gcc700_CMSSW_10_6_19_id159739050_32part_jet2.h5',\n",
       " 'Triboson_M3000_Mr400_slc7_amd64_gcc700_CMSSW_10_6_19_id159739118_32part_jet1.h5',\n",
       " 'Triboson_M2000_Mr170_slc7_amd64_gcc700_CMSSW_10_6_19_id159739053_32part_jet2.h5',\n",
       " 'Triboson_M2000_Mr170_slc7_amd64_gcc700_CMSSW_10_6_19_id159739053_32part_jet1.h5',\n",
       " 'Triboson_M3000_Mr400_slc7_amd64_gcc700_CMSSW_10_6_19_id159739111_32part_jet2.h5',\n",
       " 'Triboson_M3000_Mr400_slc7_amd64_gcc700_CMSSW_10_6_19_id159739117_32part_jet2.h5',\n",
       " 'Triboson_M2000_Mr170_slc7_amd64_gcc700_CMSSW_10_6_19_id159739055_32part_jet2.h5',\n",
       " 'Triboson_M3000_Mr400_slc7_amd64_gcc700_CMSSW_10_6_19_id159739115_32part_jet2.h5',\n",
       " 'Triboson_M3000_Mr400_slc7_amd64_gcc700_CMSSW_10_6_19_id159739116_32part_jet1.h5',\n",
       " 'Triboson_M2000_Mr170_slc7_amd64_gcc700_CMSSW_10_6_19_id159739058_32part_jet1.h5',\n",
       " 'Triboson_M2000_Mr170_slc7_amd64_gcc700_CMSSW_10_6_19_id159739059_32part_jet1.h5',\n",
       " 'Triboson_M2000_Mr170_slc7_amd64_gcc700_CMSSW_10_6_19_id159739055_32part_jet1.h5',\n",
       " 'Triboson_M3000_Mr400_slc7_amd64_gcc700_CMSSW_10_6_19_id159739113_32part_jet1.h5',\n",
       " 'Triboson_M2000_Mr170_slc7_amd64_gcc700_CMSSW_10_6_19_id159739051_32part_jet2.h5',\n",
       " 'Triboson_M2000_Mr170_slc7_amd64_gcc700_CMSSW_10_6_19_id159739052_32part_jet2.h5',\n",
       " 'Triboson_M2000_Mr170_slc7_amd64_gcc700_CMSSW_10_6_19_id159739054_32part_jet2.h5',\n",
       " 'Triboson_M2000_Mr170_slc7_amd64_gcc700_CMSSW_10_6_19_id159739058_32part_jet2.h5',\n",
       " 'Triboson_M3000_Mr400_slc7_amd64_gcc700_CMSSW_10_6_19_id159739119_32part_jet1.h5',\n",
       " 'Triboson_M2000_Mr170_slc7_amd64_gcc700_CMSSW_10_6_19_id159739059_32part_jet2.h5',\n",
       " 'Triboson_M3000_Mr400_slc7_amd64_gcc700_CMSSW_10_6_19_id159739117_32part_jet1.h5',\n",
       " 'Triboson_M2000_Mr170_slc7_amd64_gcc700_CMSSW_10_6_19_id159739056_32part_jet2.h5',\n",
       " 'Triboson_M2000_Mr170_slc7_amd64_gcc700_CMSSW_10_6_19_id159739051_32part_jet1.h5',\n",
       " 'Triboson_M3000_Mr400_slc7_amd64_gcc700_CMSSW_10_6_19_id159739114_32part_jet2.h5',\n",
       " 'Triboson_M3000_Mr400_slc7_amd64_gcc700_CMSSW_10_6_19_id159739112_32part_jet2.h5',\n",
       " 'Triboson_M3000_Mr400_slc7_amd64_gcc700_CMSSW_10_6_19_id159739110_32part_jet2.h5',\n",
       " 'Triboson_M3000_Mr400_slc7_amd64_gcc700_CMSSW_10_6_19_id159739113_32part_jet2.h5',\n",
       " 'Triboson_M3000_Mr400_slc7_amd64_gcc700_CMSSW_10_6_19_id159739110_32part_jet1.h5',\n",
       " 'Triboson_M3000_Mr400_slc7_amd64_gcc700_CMSSW_10_6_19_id159739114_32part_jet1.h5',\n",
       " 'Triboson_M2000_Mr170_slc7_amd64_gcc700_CMSSW_10_6_19_id159739057_32part_jet2.h5',\n",
       " 'Triboson_M3000_Mr400_slc7_amd64_gcc700_CMSSW_10_6_19_id159739118_32part_jet2.h5',\n",
       " 'Triboson_M2000_Mr170_slc7_amd64_gcc700_CMSSW_10_6_19_id159739050_32part_jet1.h5',\n",
       " 'Triboson_M3000_Mr400_slc7_amd64_gcc700_CMSSW_10_6_19_id159739119_32part_jet2.h5',\n",
       " 'Triboson_M2000_Mr170_slc7_amd64_gcc700_CMSSW_10_6_19_id159739057_32part_jet1.h5',\n",
       " 'Triboson_M2000_Mr170_slc7_amd64_gcc700_CMSSW_10_6_19_id159739054_32part_jet1.h5',\n",
       " 'Triboson_M3000_Mr400_slc7_amd64_gcc700_CMSSW_10_6_19_id159739111_32part_jet1.h5',\n",
       " 'Triboson_M3000_Mr400_slc7_amd64_gcc700_CMSSW_10_6_19_id159739112_32part_jet1.h5',\n",
       " 'Triboson_M3000_Mr400_slc7_amd64_gcc700_CMSSW_10_6_19_id159739116_32part_jet2.h5',\n",
       " 'Triboson_M2000_Mr170_slc7_amd64_gcc700_CMSSW_10_6_19_id159739052_32part_jet1.h5',\n",
       " 'Triboson_M3000_Mr400_slc7_amd64_gcc700_CMSSW_10_6_19_id159739115_32part_jet1.h5']"
      ]
     },
     "execution_count": 19,
     "metadata": {},
     "output_type": "execute_result"
    }
   ],
   "source": [
    "triboson_list"
   ]
  },
  {
   "cell_type": "code",
   "execution_count": 27,
   "metadata": {},
   "outputs": [],
   "source": [
    "df1 = pd.read_hdf(os.path.join(\"/nobackup/users/sangeon/datasets/jetGridpack/\",triboson_list[0]))\n",
    "df2 = pd.read_hdf(os.path.join(\"/nobackup/users/sangeon/datasets/jetGridpack/\",triboson_list[1]))\n",
    "df3 = pd.read_hdf(os.path.join(\"/nobackup/users/sangeon/datasets/jetGridpack/\",wprime_list[0]))\n",
    "df4 = pd.read_hdf(os.path.join(\"/nobackup/users/sangeon/datasets/jetGridpack/\",wprime_list[-4]))\n",
    "#df_3p1 = pd.read_hdf(\"/nobackup/users/sangeon/datasets/jetLHCO/LHCO_dijet_2p2p_4000_500_150_16part_jet1.h5\")\n",
    "#df_3p2 = pd.read_hdf(\"/nobackup/users/sangeon/datasets/jetLHCO/LHCO_dijet_2p2p_4000_500_150_16part_jet2.h5\")\n",
    "\n",
    "dt1 = df1.values \n",
    "dt2 = df2.values \n",
    "dt3 = df3.values \n",
    "dt4 = df4.values "
   ]
  },
  {
   "cell_type": "code",
   "execution_count": 28,
   "metadata": {},
   "outputs": [
    {
     "name": "stdout",
     "output_type": "stream",
     "text": [
      "Triboson_M2000_Mr170_slc7_amd64_gcc700_CMSSW_10_6_19_id159739056_32part_jet1.h5\n",
      "Triboson_M2000_Mr170_slc7_amd64_gcc700_CMSSW_10_6_19_id159739050_32part_jet2.h5\n",
      "WpToBpT_Wp3000_Bp170_Top400_Zbt_slc7_amd64_gcc700_CMSSW_10_6_19_id1598501526_32part_jet1.h5\n",
      "WpToBpT_Wp3000_Bp170_Top400_Zbt_slc7_amd64_gcc700_CMSSW_10_6_19_id1598501515_32part_jet1.h5\n"
     ]
    }
   ],
   "source": [
    "print(triboson_list[0])\n",
    "print(triboson_list[1])\n",
    "print(wprime_list[0])\n",
    "print(wprime_list[-4])"
   ]
  },
  {
   "cell_type": "code",
   "execution_count": 29,
   "metadata": {},
   "outputs": [],
   "source": [
    "sys.path.insert(0,'../training')\n",
    "from manifoldembedder import JetDataset, JetPredictDataset\n",
    "from torch.utils.data import DataLoader, random_split"
   ]
  },
  {
   "cell_type": "code",
   "execution_count": 30,
   "metadata": {},
   "outputs": [
    {
     "data": {
      "text/plain": [
       "(array([ 405., 1008., 1400., 1800., 2269., 2326.,  708.,   67.,   13.,\n",
       "           4.]),\n",
       " array([  57.43206175,  287.36248876,  517.29291576,  747.22334277,\n",
       "         977.15376978, 1207.08419679, 1437.0146238 , 1666.94505081,\n",
       "        1896.87547782, 2126.80590483, 2356.73633184]),\n",
       " <BarContainer object of 10 artists>)"
      ]
     },
     "execution_count": 30,
     "metadata": {},
     "output_type": "execute_result"
    },
    {
     "data": {
      "image/png": "[encoded data removed]",
      "text/plain": [
       "<Figure size 432x432 with 1 Axes>"
      ]
     },
     "metadata": {
      "needs_background": "light"
     },
     "output_type": "display_data"
    }
   ],
   "source": [
    "plt.hist(dt1[:,3*32], alpha=0.4)\n",
    "plt.hist(dt2[:,3*32], alpha=0.4)\n",
    "\n",
    "plt.hist(dt3[:,3*32], alpha=0.4)\n",
    "plt.hist(dt4[:,3*32], alpha=0.4)"
   ]
  },
  {
   "cell_type": "code",
   "execution_count": 35,
   "metadata": {},
   "outputs": [
    {
     "data": {
      "image/png": "[encoded data removed]",
      "text/plain": [
       "<Figure size 432x432 with 1 Axes>"
      ]
     },
     "metadata": {
      "needs_background": "light"
     },
     "output_type": "display_data"
    }
   ],
   "source": [
    "plt.hist(dt1[:,3*32+3], alpha=0.4, bins = np.arange(0,300,5));\n",
    "plt.hist(dt2[:,3*32+3], alpha=0.4, bins = np.arange(0,300,5));\n",
    "#plt.hist(dt3[:,3*32+3], alpha=0.4, bins = np.linspace(0,300,10));\n",
    "#plt.hist(dt4[:,3*32+3], alpha=0.4, bins = np.linspace(0,300,10));"
   ]
  },
  {
   "cell_type": "code",
   "execution_count": 36,
   "metadata": {},
   "outputs": [
    {
     "data": {
      "image/png": "[encoded data removed]",
      "text/plain": [
       "<Figure size 432x432 with 1 Axes>"
      ]
     },
     "metadata": {
      "needs_background": "light"
     },
     "output_type": "display_data"
    }
   ],
   "source": [
    "#plt.hist(dt1[:,3*32+3], alpha=0.4, bins = np.linspace(0,300,10))\n",
    "#plt.hist(dt2[:,3*32+3], alpha=0.4, bins = np.linspace(0,300,10))\n",
    "plt.hist(dt3[:,3*32+3], alpha=0.4, bins = np.arange(0,500,10));\n",
    "plt.hist(dt4[:,3*32+3], alpha=0.4, bins = np.arange(0,500,10));"
   ]
  },
  {
   "cell_type": "code",
   "execution_count": 34,
   "metadata": {},
   "outputs": [],
   "source": [
    "dt1 = dt1[dt1[:,3*32+3]>160]\n",
    "dt2 = dt2[dt2[:,3*32+3]>80]\n",
    "dt3 = dt3[dt3[:,3*32+3]>350]\n",
    "dt4 = dt4[dt4[:,3*32+3]>350]"
   ]
  },
  {
   "cell_type": "code",
   "execution_count": 14,
   "metadata": {},
   "outputs": [
    {
     "ename": "NameError",
     "evalue": "name 'dt_2p1' is not defined",
     "output_type": "error",
     "traceback": [
      "\u001b[0;31m---------------------------------------------------------------------------\u001b[0m",
      "\u001b[0;31mNameError\u001b[0m                                 Traceback (most recent call last)",
      "\u001b[0;32m/tmp/ipykernel_1663601/835269703.py\u001b[0m in \u001b[0;36m<module>\u001b[0;34m\u001b[0m\n\u001b[0;32m----> 1\u001b[0;31m \u001b[0mdt_2p1\u001b[0m \u001b[0;34m=\u001b[0m \u001b[0mdt_2p1\u001b[0m\u001b[0;34m[\u001b[0m\u001b[0;34m(\u001b[0m\u001b[0mdt_2p1\u001b[0m\u001b[0;34m[\u001b[0m\u001b[0;34m:\u001b[0m\u001b[0;34m,\u001b[0m\u001b[0;36m51\u001b[0m\u001b[0;34m]\u001b[0m\u001b[0;34m<\u001b[0m\u001b[0;36m200\u001b[0m\u001b[0;34m)\u001b[0m \u001b[0;34m&\u001b[0m \u001b[0;34m(\u001b[0m\u001b[0mdt_2p1\u001b[0m\u001b[0;34m[\u001b[0m\u001b[0;34m:\u001b[0m\u001b[0;34m,\u001b[0m\u001b[0;36m51\u001b[0m\u001b[0;34m]\u001b[0m\u001b[0;34m>\u001b[0m\u001b[0;36m100\u001b[0m\u001b[0;34m)\u001b[0m\u001b[0;34m]\u001b[0m\u001b[0;34m\u001b[0m\u001b[0;34m\u001b[0m\u001b[0m\n\u001b[0m\u001b[1;32m      2\u001b[0m \u001b[0mdt_2p2\u001b[0m \u001b[0;34m=\u001b[0m \u001b[0mdt_2p2\u001b[0m\u001b[0;34m[\u001b[0m\u001b[0;34m(\u001b[0m\u001b[0mdt_2p2\u001b[0m\u001b[0;34m[\u001b[0m\u001b[0;34m:\u001b[0m\u001b[0;34m,\u001b[0m\u001b[0;36m51\u001b[0m\u001b[0;34m]\u001b[0m\u001b[0;34m<\u001b[0m\u001b[0;36m200\u001b[0m\u001b[0;34m)\u001b[0m \u001b[0;34m&\u001b[0m \u001b[0;34m(\u001b[0m\u001b[0mdt_2p2\u001b[0m\u001b[0;34m[\u001b[0m\u001b[0;34m:\u001b[0m\u001b[0;34m,\u001b[0m\u001b[0;36m51\u001b[0m\u001b[0;34m]\u001b[0m\u001b[0;34m>\u001b[0m\u001b[0;36m100\u001b[0m\u001b[0;34m)\u001b[0m\u001b[0;34m]\u001b[0m\u001b[0;34m\u001b[0m\u001b[0;34m\u001b[0m\u001b[0m\n\u001b[1;32m      3\u001b[0m \u001b[0mdt_3p1\u001b[0m \u001b[0;34m=\u001b[0m \u001b[0mdt_3p1\u001b[0m\u001b[0;34m[\u001b[0m\u001b[0;34m(\u001b[0m\u001b[0mdt_3p1\u001b[0m\u001b[0;34m[\u001b[0m\u001b[0;34m:\u001b[0m\u001b[0;34m,\u001b[0m\u001b[0;36m51\u001b[0m\u001b[0;34m]\u001b[0m\u001b[0;34m<\u001b[0m\u001b[0;36m350\u001b[0m\u001b[0;34m)\u001b[0m \u001b[0;34m&\u001b[0m \u001b[0;34m(\u001b[0m\u001b[0mdt_3p1\u001b[0m\u001b[0;34m[\u001b[0m\u001b[0;34m:\u001b[0m\u001b[0;34m,\u001b[0m\u001b[0;36m51\u001b[0m\u001b[0;34m]\u001b[0m\u001b[0;34m>\u001b[0m\u001b[0;36m250\u001b[0m\u001b[0;34m)\u001b[0m\u001b[0;34m]\u001b[0m\u001b[0;34m\u001b[0m\u001b[0;34m\u001b[0m\u001b[0m\n\u001b[1;32m      4\u001b[0m \u001b[0mdt_3p2\u001b[0m \u001b[0;34m=\u001b[0m \u001b[0mdt_3p2\u001b[0m\u001b[0;34m[\u001b[0m\u001b[0;34m(\u001b[0m\u001b[0mdt_3p2\u001b[0m\u001b[0;34m[\u001b[0m\u001b[0;34m:\u001b[0m\u001b[0;34m,\u001b[0m\u001b[0;36m51\u001b[0m\u001b[0;34m]\u001b[0m\u001b[0;34m<\u001b[0m\u001b[0;36m350\u001b[0m\u001b[0;34m)\u001b[0m \u001b[0;34m&\u001b[0m \u001b[0;34m(\u001b[0m\u001b[0mdt_3p2\u001b[0m\u001b[0;34m[\u001b[0m\u001b[0;34m:\u001b[0m\u001b[0;34m,\u001b[0m\u001b[0;36m51\u001b[0m\u001b[0;34m]\u001b[0m\u001b[0;34m>\u001b[0m\u001b[0;36m250\u001b[0m\u001b[0;34m)\u001b[0m\u001b[0;34m]\u001b[0m\u001b[0;34m\u001b[0m\u001b[0;34m\u001b[0m\u001b[0m\n",
      "\u001b[0;31mNameError\u001b[0m: name 'dt_2p1' is not defined"
     ]
    }
   ],
   "source": [
    "dt = dt_2p1[(dt_2p1[:,51]<200) & (dt_2p1[:,51]>100)]\n",
    "dt = dt_2p2[(dt_2p2[:,51]<200) & (dt_2p2[:,51]>100)]\n",
    "dt = dt_3p1[(dt_3p1[:,51]<350) & (dt_3p1[:,51]>250)]\n",
    "dt = dt_3p2[(dt_3p2[:,51]<350) & (dt_3p2[:,51]>250)]"
   ]
  },
  {
   "cell_type": "code",
   "execution_count": null,
   "metadata": {},
   "outputs": [],
   "source": [
    "dt_2p1 = dt_2p1[(dt_2p1[:,51]<400) & (dt_2p1[:,51]>200)]\n",
    "dt_2p2 = dt_2p2[(dt_2p2[:,51]<400) & (dt_2p2[:,51]>200)]\n",
    "dt_3p1 = dt_3p1[(dt_3p1[:,51]<800) & (dt_3p1[:,51]>600)]\n",
    "dt_3p2 = dt_3p2[(dt_3p2[:,51]<800) & (dt_3p2[:,51]>600)]"
   ]
  },
  {
   "cell_type": "code",
   "execution_count": null,
   "metadata": {},
   "outputs": [],
   "source": [
    "dt_2p1 = dt_2p1[dt_2p1[:,51]>400]\n",
    "dt_2p2 = dt_2p2[dt_2p2[:,51]>400]\n",
    "dt_3p1 = dt_3p1[(dt_3p1[:,51]<200) & (dt_3p1[:,51]>100)]\n",
    "dt_3p2 = dt_3p2[(dt_3p2[:,51]<200) & (dt_3p2[:,51]>100)]"
   ]
  },
  {
   "cell_type": "code",
   "execution_count": null,
   "metadata": {},
   "outputs": [],
   "source": [
    "dt_2p1 = dt_2p1[(dt_2p1[:,48]>1000)&(dt_2p1[:,48]<1200)]\n",
    "dt_2p2 = dt_2p2[(dt_2p2[:,48]>1000)&(dt_2p2[:,48]<1200)]\n",
    "dt_3p1 = dt_3p1[(dt_3p1[:,48]>1000)&(dt_3p1[:,48]<1200)]\n",
    "dt_3p2 = dt_3p2[(dt_3p2[:,48]>1000)&(dt_3p2[:,48]<1200)]"
   ]
  },
  {
   "cell_type": "code",
   "execution_count": 167,
   "metadata": {},
   "outputs": [],
   "source": [
    "dt_2p1 = dt_2p1[(dt_2p1[:,48]>1900)&(dt_2p1[:,48]<2100)]\n",
    "dt_2p2 = dt_2p2[(dt_2p2[:,48]>1900)&(dt_2p2[:,48]<2100)]\n",
    "dt_3p1 = dt_3p1[(dt_3p1[:,48]>1900)&(dt_3p1[:,48]<2100)]\n",
    "dt_3p2 = dt_3p2[(dt_3p2[:,48]>1900)&(dt_3p2[:,48]<2100)]"
   ]
  },
  {
   "cell_type": "code",
   "execution_count": 170,
   "metadata": {},
   "outputs": [],
   "source": [
    "dt_2p1 = dt_2p1[(dt_2p1[:,48]>1500)&(dt_2p1[:,48]<1600)]\n",
    "dt_2p2 = dt_2p2[(dt_2p2[:,48]>1500)&(dt_2p2[:,48]<1600)]\n",
    "dt_3p1 = dt_3p1[(dt_3p1[:,48]>1900)&(dt_3p1[:,48]<2000)]\n",
    "dt_3p2 = dt_3p2[(dt_3p2[:,48]>1900)&(dt_3p2[:,48]<2000)]"
   ]
  },
  {
   "cell_type": "code",
   "execution_count": 168,
   "metadata": {},
   "outputs": [
    {
     "data": {
      "text/plain": [
       "(array([1791., 1847., 1869., 1983., 1965., 2001., 2001., 1946., 1958.,\n",
       "        1924.]),\n",
       " array([1900.01265491, 1920.01137707, 1940.01009923, 1960.00882139,\n",
       "        1980.00754356, 2000.00626572, 2020.00498788, 2040.00371004,\n",
       "        2060.0024322 , 2080.00115436, 2099.99987652]),\n",
       " <BarContainer object of 10 artists>)"
      ]
     },
     "execution_count": 168,
     "metadata": {},
     "output_type": "execute_result"
    },
    {
     "data": {
      "image/png": "[encoded data removed]",
      "text/plain": [
       "<Figure size 432x432 with 1 Axes>"
      ]
     },
     "metadata": {
      "needs_background": "light"
     },
     "output_type": "display_data"
    }
   ],
   "source": [
    "plt.hist(dt_2p1[:,3*32], alpha=0.4)\n",
    "plt.hist(dt_2p2[:,3*32], alpha=0.4)\n",
    "plt.hist(dt_3p1[:,3*32], alpha=0.4)\n",
    "plt.hist(dt_3p2[:,3*32], alpha=0.4)"
   ]
  },
  {
   "cell_type": "code",
   "execution_count": 37,
   "metadata": {},
   "outputs": [
    {
     "name": "stdout",
     "output_type": "stream",
     "text": [
      "(3016, 102)\n",
      "(3965, 102)\n",
      "(3213, 102)\n",
      "(3274, 102)\n"
     ]
    }
   ],
   "source": [
    "print(dt1.shape)\n",
    "print(dt2.shape)\n",
    "print(dt3.shape)\n",
    "print(dt4.shape)"
   ]
  },
  {
   "cell_type": "code",
   "execution_count": 38,
   "metadata": {},
   "outputs": [
    {
     "data": {
      "text/plain": [
       "(3016, 32, 3)"
      ]
     },
     "execution_count": 38,
     "metadata": {},
     "output_type": "execute_result"
    }
   ],
   "source": [
    "dt1[:,:96].reshape(-1,32,3).shape"
   ]
  },
  {
   "cell_type": "code",
   "execution_count": 39,
   "metadata": {},
   "outputs": [
    {
     "data": {
      "text/plain": [
       "945.1922645820982"
      ]
     },
     "execution_count": 39,
     "metadata": {},
     "output_type": "execute_result"
    }
   ],
   "source": [
    "dt1[:,96][0]"
   ]
  },
  {
   "cell_type": "code",
   "execution_count": 40,
   "metadata": {},
   "outputs": [
    {
     "data": {
      "text/plain": [
       "array([[ 1.15969337e+02,  1.14528084e+00,  4.28188145e-01],\n",
       "       [ 8.02921982e+01,  1.08073664e+00,  4.52707320e-01],\n",
       "       [ 6.73873672e+01,  1.15494668e+00,  3.88141721e-01],\n",
       "       [ 5.24440880e+01,  1.14598572e+00,  4.72762227e-01],\n",
       "       [ 5.12453079e+01,  1.21555400e+00,  3.88029456e-01],\n",
       "       [ 4.40715790e+01,  1.13152397e+00,  4.73564208e-01],\n",
       "       [ 3.99344978e+01,  1.21978617e+00,  3.86865795e-01],\n",
       "       [ 3.79562187e+01,  1.14515066e+00,  4.74709690e-01],\n",
       "       [ 3.55136070e+01,  1.21820986e+00,  3.99683028e-01],\n",
       "       [ 3.17829990e+01,  1.08862770e+00,  4.79408056e-01],\n",
       "       [ 2.99688244e+01,  1.22792876e+00,  3.97161335e-01],\n",
       "       [ 2.92200623e+01,  1.11148262e+00,  4.09884125e-01],\n",
       "       [ 2.74893532e+01,  1.21570563e+00,  4.03659195e-01],\n",
       "       [ 2.39123993e+01,  1.04789746e+00,  4.13007826e-01],\n",
       "       [ 2.25254936e+01,  1.53832471e+00,  6.58568144e-01],\n",
       "       [ 2.13179359e+01,  1.09307015e+00,  5.02015233e-01],\n",
       "       [ 2.09468727e+01,  1.20339382e+00,  4.61769223e-01],\n",
       "       [ 1.96378078e+01,  1.40700281e+00,  6.69270605e-02],\n",
       "       [ 1.55682030e+01,  1.38701034e+00,  1.06956229e-01],\n",
       "       [ 1.38601789e+01,  1.14471984e+00,  3.74662668e-01],\n",
       "       [ 1.26525707e+01,  1.51244879e+00,  6.57456636e-01],\n",
       "       [ 1.21405268e+01,  1.39728439e+00,  3.72195989e-02],\n",
       "       [ 1.17036915e+01,  1.14240038e+00,  5.05207837e-01],\n",
       "       [ 1.16622992e+01,  1.39324439e+00, -2.32654177e-02],\n",
       "       [ 1.10282307e+01,  1.26617265e+00,  4.99768823e-01],\n",
       "       [ 8.15201569e+00,  1.17217290e+00,  2.88547873e-01],\n",
       "       [ 6.54169464e+00,  1.55114079e+00,  7.11100459e-01],\n",
       "       [ 5.61485100e+00,  1.12886083e+00,  6.91250920e-01],\n",
       "       [ 5.42366552e+00,  1.21132076e+00,  3.81201208e-01],\n",
       "       [ 5.33464527e+00,  1.10925758e+00,  4.85259473e-01],\n",
       "       [ 4.95684099e+00,  1.07582021e+00,  4.76059049e-01],\n",
       "       [ 4.81371021e+00,  1.22077727e+00,  4.11053807e-01]])"
      ]
     },
     "execution_count": 40,
     "metadata": {},
     "output_type": "execute_result"
    }
   ],
   "source": [
    "dt1[:,:96].reshape(-1,32,3)[0]"
   ]
  },
  {
   "cell_type": "code",
   "execution_count": 41,
   "metadata": {},
   "outputs": [],
   "source": [
    "sys.path.insert(0,'../training')\n",
    "from manifoldembedder import JetDataset, JetPredictDataset\n",
    "from torch.utils.data import DataLoader, random_split"
   ]
  },
  {
   "cell_type": "code",
   "execution_count": 42,
   "metadata": {},
   "outputs": [],
   "source": [
    "#a = np.array([1, 2, 3, 4, 5, 6, 7, 8, 9, 10],float)\n",
    "#a[np.r_[0,3:6]]"
   ]
  },
  {
   "cell_type": "code",
   "execution_count": 43,
   "metadata": {},
   "outputs": [],
   "source": [
    "#set_12 = JetDataset(False, None, False, dt1[:1000],dt1[1000:2000], 32)"
   ]
  },
  {
   "cell_type": "code",
   "execution_count": 44,
   "metadata": {},
   "outputs": [],
   "source": [
    "NPART = 16"
   ]
  },
  {
   "cell_type": "code",
   "execution_count": 45,
   "metadata": {},
   "outputs": [
    {
     "name": "stderr",
     "output_type": "stream",
     "text": [
      "100%|██████████| 10/10 [00:11<00:00,  1.15s/it]\n"
     ]
    }
   ],
   "source": [
    "set_12 = JetDataset(False, None, False, dt1[:1000,np.r_[0:3*NPART,96:100]],dt2[1000:2000,np.r_[0:3*NPART,96:100]], NPART)"
   ]
  },
  {
   "cell_type": "code",
   "execution_count": 46,
   "metadata": {},
   "outputs": [
    {
     "name": "stderr",
     "output_type": "stream",
     "text": [
      "100%|██████████| 10/10 [00:09<00:00,  1.01it/s]\n"
     ]
    }
   ],
   "source": [
    "set_13 = JetDataset(False, None, False, dt1[1000:2000,np.r_[0:3*NPART,96:100]],dt3[1000:2000,np.r_[0:3*NPART,96:100]], NPART)"
   ]
  },
  {
   "cell_type": "code",
   "execution_count": 47,
   "metadata": {},
   "outputs": [
    {
     "name": "stderr",
     "output_type": "stream",
     "text": [
      "100%|██████████| 10/10 [00:09<00:00,  1.01it/s]\n"
     ]
    }
   ],
   "source": [
    "set_23 = JetDataset(False, None, False, dt2[:1000,np.r_[0:3*NPART,96:100]],dt3[1000:2000,np.r_[0:3*NPART,96:100]], NPART)"
   ]
  },
  {
   "cell_type": "code",
   "execution_count": 48,
   "metadata": {},
   "outputs": [
    {
     "name": "stderr",
     "output_type": "stream",
     "text": [
      "100%|██████████| 10/10 [00:09<00:00,  1.02it/s]\n"
     ]
    }
   ],
   "source": [
    "set_22 = JetDataset(False, None, False, dt2[:1000,np.r_[0:3*NPART,96:100]],dt2[1000:2000,np.r_[0:3*NPART,96:100]], NPART)"
   ]
  },
  {
   "cell_type": "code",
   "execution_count": 49,
   "metadata": {},
   "outputs": [
    {
     "name": "stderr",
     "output_type": "stream",
     "text": [
      "100%|██████████| 10/10 [00:09<00:00,  1.01it/s]\n",
      "100%|██████████| 10/10 [00:09<00:00,  1.01it/s]\n"
     ]
    }
   ],
   "source": [
    "set_11 = JetDataset(False, None, False, dt1[:1000,np.r_[0:3*NPART,96:100]],dt1[1000:2000,np.r_[0:3*NPART,96:100]], NPART)\n",
    "set_33 = JetDataset(False, None, False, dt3[:1000,np.r_[0:3*NPART,96:100]],dt3[1000:2000,np.r_[0:3*NPART,96:100]], NPART)"
   ]
  },
  {
   "cell_type": "code",
   "execution_count": 50,
   "metadata": {},
   "outputs": [],
   "source": [
    "loader12 = DataLoader(set_12, batch_size=500,shuffle=False,num_workers=4)\n",
    "\n",
    "loader13 = DataLoader(set_13, batch_size=500,shuffle=False,num_workers=4)\n",
    "\n",
    "loader23 = DataLoader(set_23, batch_size=500,shuffle=False,num_workers=4)\n",
    "\n",
    "loader22 = DataLoader(set_22, batch_size=500,shuffle=False,num_workers=4)\n",
    "loader11 = DataLoader(set_11, batch_size=500,shuffle=False,num_workers=4)\n",
    "loader33 = DataLoader(set_33, batch_size=500,shuffle=False,num_workers=4)"
   ]
  },
  {
   "cell_type": "code",
   "execution_count": 51,
   "metadata": {},
   "outputs": [],
   "source": [
    "emd12 = np.array([])\n",
    "set_1 = np.empty([0, 16, 3])\n",
    "set_2 = np.empty([0, 16, 3])\n",
    "set_3 = np.empty([0, 16, 3])\n",
    "for x,y,dist in loader12:\n",
    "    set_1 = np.concatenate([set_1, x.data.numpy()])\n",
    "    set_2 = np.concatenate([set_2, y.data.numpy()])\n",
    "    emd12 = np.concatenate([emd12,dist.data.numpy()])\n",
    "    \n",
    "emd13 = np.array([])\n",
    "for x,y,dist in loader13:\n",
    "    set_3 = np.concatenate([set_3, y.data.numpy()])\n",
    "    emd13 = np.concatenate([emd13,dist.data.numpy()])\n",
    "\n",
    "emd23 = np.array([])\n",
    "for x,y,dist in loader23:\n",
    "    emd23 = np.concatenate([emd23,dist.data.numpy()])\n",
    "    \n",
    "emd22 = np.array([])\n",
    "for x,y,dist in loader22:\n",
    "    emd22 = np.concatenate([emd22,dist.data.numpy()])\n",
    "    \n",
    "    \n",
    "emd11 = np.array([])\n",
    "for x,y,dist in loader11:\n",
    "    emd11 = np.concatenate([emd11,dist.data.numpy()])\n",
    "    \n",
    "    \n",
    "emd33 = np.array([])\n",
    "for x,y,dist in loader33:\n",
    "    emd33 = np.concatenate([emd33,dist.data.numpy()])"
   ]
  },
  {
   "cell_type": "code",
   "execution_count": 52,
   "metadata": {},
   "outputs": [],
   "source": [
    "set_1 = set_1[:,:,[2, 0, 1]]\n",
    "set_2 = set_2[:,:,[2, 0, 1]]\n",
    "set_3 = set_3[:,:,[2, 0, 1]]"
   ]
  },
  {
   "cell_type": "code",
   "execution_count": 53,
   "metadata": {},
   "outputs": [
    {
     "data": {
      "text/plain": [
       "array([[ 0.1861693 ,  0.09638215,  0.18481283],\n",
       "       [ 0.09058867,  0.08916221,  0.1872151 ],\n",
       "       [ 0.09037904, -0.1561791 , -0.12477697],\n",
       "       [ 0.07137628,  0.09280071,  0.1768734 ],\n",
       "       [ 0.07056378, -0.01663313,  0.18884149],\n",
       "       [ 0.0661383 ,  0.07445101,  0.22609909],\n",
       "       [ 0.0612847 , -0.16129816, -0.11549707],\n",
       "       [ 0.05984762,  0.10377647,  0.19543324],\n",
       "       [ 0.0503278 ,  0.03470885, -0.58630162],\n",
       "       [ 0.05021537,  0.06523994, -0.65545046],\n",
       "       [ 0.03698058, -0.14763363, -0.11493617],\n",
       "       [ 0.03151609,  0.08715111,  0.19114462],\n",
       "       [ 0.02577348,  0.58550882, -0.56920397],\n",
       "       [ 0.02177188,  0.07557248, -0.61885393],\n",
       "       [ 0.02117559,  0.0633132 ,  0.17918482],\n",
       "       [ 0.01565016, -0.14807481, -0.13756812]])"
      ]
     },
     "execution_count": 53,
     "metadata": {},
     "output_type": "execute_result"
    }
   ],
   "source": [
    "set_1[3]"
   ]
  },
  {
   "cell_type": "code",
   "execution_count": 54,
   "metadata": {},
   "outputs": [
    {
     "data": {
      "text/plain": [
       "(array([104., 308., 277., 176.,  70.,  24.,  21.,  11.,   3.,   6.]),\n",
       " array([0.03727007, 0.08994412, 0.14261818, 0.19529223, 0.24796629,\n",
       "        0.30064034, 0.3533144 , 0.40598845, 0.45866251, 0.51133656,\n",
       "        0.56401062]),\n",
       " <BarContainer object of 10 artists>)"
      ]
     },
     "execution_count": 54,
     "metadata": {},
     "output_type": "execute_result"
    },
    {
     "data": {
      "image/png": "[encoded data removed]",
      "text/plain": [
       "<Figure size 432x432 with 1 Axes>"
      ]
     },
     "metadata": {
      "needs_background": "light"
     },
     "output_type": "display_data"
    }
   ],
   "source": [
    "plt.hist(set_1[:,0,0], alpha=0.3)\n",
    "plt.hist(set_2[:,0,0], alpha=0.3)\n",
    "plt.hist(set_3[:,0,0], alpha=0.3)"
   ]
  },
  {
   "cell_type": "code",
   "execution_count": 65,
   "metadata": {},
   "outputs": [],
   "source": [
    "plt.rcParams[\"figure.figsize\"] = (6,6)\n"
   ]
  },
  {
   "cell_type": "code",
   "execution_count": 66,
   "metadata": {},
   "outputs": [
    {
     "data": {
      "image/png": "[encoded data removed]",
      "text/plain": [
       "<Figure size 432x432 with 1 Axes>"
      ]
     },
     "metadata": {
      "needs_background": "light"
     },
     "output_type": "display_data"
    }
   ],
   "source": [
    "plt.hist(emd23, bins=np.arange(0,1,0.01),alpha=0.2, label='3p2p');\n",
    "plt.hist(emd33, bins=np.arange(0,1,0.01),alpha=0.2, label='3p3p');\n",
    "plt.hist(emd13, bins=np.arange(0,1,0.01),alpha=0.2, label='3p4p');\n",
    "plt.legend()\n",
    "plt.savefig('../figures/EMD_3p_Wprime.png')"
   ]
  },
  {
   "cell_type": "code",
   "execution_count": 67,
   "metadata": {},
   "outputs": [
    {
     "data": {
      "image/png": "[encoded data removed]",
      "text/plain": [
       "<Figure size 432x432 with 1 Axes>"
      ]
     },
     "metadata": {
      "needs_background": "light"
     },
     "output_type": "display_data"
    }
   ],
   "source": [
    "plt.hist(emd22, bins=np.arange(0,1,0.01),alpha=0.2, label='2p2p');\n",
    "plt.hist(emd23, bins=np.arange(0,1,0.01),alpha=0.2, label='2p3p');\n",
    "plt.hist(emd12, bins=np.arange(0,1,0.01),alpha=0.2, label='2p4p');\n",
    "plt.legend()\n",
    "plt.savefig('../figures/EMD_2p_Wp.png')"
   ]
  },
  {
   "cell_type": "code",
   "execution_count": 70,
   "metadata": {},
   "outputs": [
    {
     "data": {
      "image/png": "[encoded data removed]",
      "text/plain": [
       "<Figure size 432x432 with 1 Axes>"
      ]
     },
     "metadata": {
      "needs_background": "light"
     },
     "output_type": "display_data"
    }
   ],
   "source": [
    "plt.hist(emd12, bins=np.arange(0,1,0.02),alpha=0.2, label='4p2p');\n",
    "plt.hist(emd13, bins=np.arange(0,1,0.02),alpha=0.2, label='4p3p');\n",
    "\n",
    "plt.hist(emd11, bins=np.arange(0,1,0.02),alpha=0.2, label='4p4p');\n",
    "\n",
    "plt.legend()\n",
    "plt.savefig('../figures/EMD_4p_Triboson.png')"
   ]
  },
  {
   "cell_type": "code",
   "execution_count": 58,
   "metadata": {},
   "outputs": [
    {
     "data": {
      "text/plain": [
       "<matplotlib.legend.Legend at 0x2001025606a0>"
      ]
     },
     "execution_count": 58,
     "metadata": {},
     "output_type": "execute_result"
    },
    {
     "data": {
      "image/png": "[encoded data removed]",
      "text/plain": [
       "<Figure size 432x432 with 1 Axes>"
      ]
     },
     "metadata": {
      "needs_background": "light"
     },
     "output_type": "display_data"
    }
   ],
   "source": [
    "plt.hist(emd12, bins=np.arange(0,1,0.01),alpha=0.2, label='4p2p');\n",
    "plt.hist(emd13, bins=np.arange(0,1,0.01),alpha=0.2, label='4p3p');\n",
    "plt.hist(emd23, bins=np.arange(0,1,0.01),alpha=0.2, label='2p3p');\n",
    "plt.hist(emd22, bins=np.arange(0,1,0.01),alpha=0.2, label='2p2p');\n",
    "plt.hist(emd11, bins=np.arange(0,1,0.01),alpha=0.2, label='4p4p');\n",
    "plt.hist(emd33, bins=np.arange(0,1,0.01),alpha=0.2, label='3p3p');\n",
    "\n",
    "\n",
    "plt.legend()\n",
    "#plt.savefig('../figures/EMD_Top_normalized')"
   ]
  },
  {
   "cell_type": "code",
   "execution_count": 59,
   "metadata": {},
   "outputs": [],
   "source": [
    "def plot_multiple_jets(ax, pfcands, index):\n",
    "\n",
    "    pt = pfcands[:,0]\n",
    "    eta = pfcands[:,1]\n",
    "    phi = pfcands[:,2]\n",
    "    #fig = plt.figure()\n",
    "    #ax = fig.add_subplot(1,1,1)\n",
    "    ax[index].scatter(eta,phi,s=pt*1000, alpha=0.2)\n",
    "    #ax.set_xlabel('deta')\n",
    "    #ax.set_ylabel('dphi')\n",
    "    ax[index].set_xlim([-1.5,1.5])\n",
    "    ax[index].set_ylim([-1.5,1.5])"
   ]
  },
  {
   "cell_type": "code",
   "execution_count": 60,
   "metadata": {},
   "outputs": [],
   "source": [
    "def plot_jet(pfcands):\n",
    "\n",
    "    pt = pfcands[:,0]\n",
    "    eta = pfcands[:,1]\n",
    "    phi = pfcands[:,2]\n",
    "    fig = plt.figure()\n",
    "    ax = fig.add_subplot(1,1,1)\n",
    "    ax.scatter(eta,phi,s=pt*1000, alpha=0.2)\n",
    "    ax.set_xlabel('deta')\n",
    "    ax.set_ylabel('dphi')\n",
    "    ax.set_xlim([-1.5,1.5])\n",
    "    ax.set_ylim([-1.5,1.5])\n",
    "    #fig.savefig(f'{path}/{name}.png')"
   ]
  },
  {
   "cell_type": "code",
   "execution_count": 61,
   "metadata": {},
   "outputs": [
    {
     "data": {
      "image/png": "[encoded data removed]",
      "text/plain": [
       "<Figure size 1296x1080 with 30 Axes>"
      ]
     },
     "metadata": {
      "needs_background": "light"
     },
     "output_type": "display_data"
    }
   ],
   "source": [
    "plt.rcParams[\"figure.figsize\"] = (18,15)\n",
    "plt.rcParams.update({'font.size': 14})\n",
    "fig, axs = plt.subplots(5, 6, sharex=True, sharey=True)\n",
    "axs = axs.ravel()\n",
    "for i in range(30):\n",
    "    plot_multiple_jets(axs, set_1[i], i)\n",
    "fig.savefig('../figures/Triboson_170_4p.png')"
   ]
  },
  {
   "cell_type": "code",
   "execution_count": 62,
   "metadata": {},
   "outputs": [
    {
     "data": {
      "image/png": "[encoded data removed]",
      "text/plain": [
       "<Figure size 1296x1080 with 30 Axes>"
      ]
     },
     "metadata": {
      "needs_background": "light"
     },
     "output_type": "display_data"
    }
   ],
   "source": [
    "plt.rcParams[\"figure.figsize\"] = (18,15)\n",
    "plt.rcParams.update({'font.size': 14})\n",
    "fig, axs = plt.subplots(5, 6, sharex=True, sharey=True)\n",
    "axs = axs.ravel()\n",
    "for i in range(30):\n",
    "    plot_multiple_jets(axs, set_2[i], i)\n",
    "fig.savefig('../figures/Triboson_Wjet_2prong.png')"
   ]
  },
  {
   "cell_type": "code",
   "execution_count": 63,
   "metadata": {},
   "outputs": [
    {
     "data": {
      "image/png": "[encoded data removed]",
      "text/plain": [
       "<Figure size 1296x1080 with 30 Axes>"
      ]
     },
     "metadata": {
      "needs_background": "light"
     },
     "output_type": "display_data"
    }
   ],
   "source": [
    "plt.rcParams[\"figure.figsize\"] = (18,15)\n",
    "plt.rcParams.update({'font.size': 14})\n",
    "fig, axs = plt.subplots(5, 6, sharex=True, sharey=True)\n",
    "axs = axs.ravel()\n",
    "for i in range(30):\n",
    "    plot_multiple_jets(axs, set_3[i], i)\n",
    "fig.savefig('../figures/BpTp_Top400_3p.png')"
   ]
  },
  {
   "cell_type": "code",
   "execution_count": 35,
   "metadata": {},
   "outputs": [
    {
     "data": {
      "text/plain": [
       "(31, 3)"
      ]
     },
     "execution_count": 35,
     "metadata": {},
     "output_type": "execute_result"
    }
   ],
   "source": [
    "x_1[0].shape"
   ]
  },
  {
   "cell_type": "code",
   "execution_count": 36,
   "metadata": {},
   "outputs": [
    {
     "data": {
      "text/plain": [
       "array([[ 2.23087266e-01, -2.25170776e-02,  4.78935875e-02],\n",
       "       [ 1.72632813e-01,  2.64735837e-02,  7.90024400e-02],\n",
       "       [ 9.54672098e-02,  2.80775726e-02,  7.80311823e-02],\n",
       "       [ 9.47991312e-02,  2.93683242e-02,  7.56221414e-02],\n",
       "       [ 6.56326339e-02,  1.48055237e-02, -2.17543110e-01],\n",
       "       [ 5.40670864e-02, -4.44834679e-03,  4.21866365e-02],\n",
       "       [ 5.36012910e-02, -8.40954855e-02, -8.89936835e-03],\n",
       "       [ 3.95657085e-02,  4.48236726e-02, -2.76569515e-01],\n",
       "       [ 2.34085396e-02,  5.64544909e-02,  4.85502295e-02],\n",
       "       [ 1.91248972e-02,  3.47377062e-02, -1.77639663e-01],\n",
       "       [ 1.89472456e-02, -4.72899191e-02, -2.30004966e-01],\n",
       "       [ 1.89444907e-02, -5.37681095e-02, -4.90752012e-02],\n",
       "       [ 1.69728249e-02,  2.74382122e-02, -1.92576900e-01],\n",
       "       [ 1.66434702e-02,  2.42615100e-02,  2.91207545e-02],\n",
       "       [ 1.50309391e-02,  8.46743025e-03, -6.40769899e-02],\n",
       "       [ 1.34245222e-02,  1.00410980e-04, -6.45885989e-03],\n",
       "       [ 9.93673876e-03, -6.79522939e-03, -1.83143198e-01],\n",
       "       [ 9.90482792e-03, -3.68433958e-03,  3.71871740e-02],\n",
       "       [ 9.55373514e-03, -3.53429168e-02,  4.32948060e-02],\n",
       "       [ 8.45292769e-03,  7.72837251e-02, -1.56888049e-02],\n",
       "       [ 7.87976384e-03,  9.24988091e-03,  1.56202912e-03],\n",
       "       [ 6.29682885e-03,  3.55303474e-02,  6.18670918e-02],\n",
       "       [ 3.12400702e-03, -1.32156298e-01, -6.74415454e-02],\n",
       "       [ 2.41089473e-03,  6.78184256e-02, -5.43720126e-02],\n",
       "       [ 1.99658703e-03, -7.75961429e-02, -3.08148898e-02],\n",
       "       [ 1.80654298e-03,  4.61560190e-02, -9.92635414e-02],\n",
       "       [ 1.33103051e-03, -1.53621987e-01, -5.40720746e-02],\n",
       "       [ 0.00000000e+00,  2.62281489e+00, -1.96391046e+00],\n",
       "       [ 0.00000000e+00,  2.62281489e+00, -1.96391046e+00],\n",
       "       [ 0.00000000e+00,  2.62281489e+00, -1.96391046e+00],\n",
       "       [ 0.00000000e+00,  2.62281489e+00, -1.96391046e+00]])"
      ]
     },
     "execution_count": 36,
     "metadata": {},
     "output_type": "execute_result"
    }
   ],
   "source": [
    "y_1[4]"
   ]
  },
  {
   "cell_type": "code",
   "execution_count": 37,
   "metadata": {},
   "outputs": [
    {
     "data": {
      "image/png": "[encoded data removed]",
      "text/plain": [
       "<Figure size 432x432 with 1 Axes>"
      ]
     },
     "metadata": {
      "needs_background": "light"
     },
     "output_type": "display_data"
    }
   ],
   "source": [
    "plot_jet(y_1[4])"
   ]
  },
  {
   "cell_type": "code",
   "execution_count": 38,
   "metadata": {},
   "outputs": [
    {
     "data": {
      "image/png": "[encoded data removed]",
      "text/plain": [
       "<Figure size 432x432 with 1 Axes>"
      ]
     },
     "metadata": {
      "needs_background": "light"
     },
     "output_type": "display_data"
    }
   ],
   "source": [
    "plot_jet(x_1[8])"
   ]
  },
  {
   "cell_type": "code",
   "execution_count": 122,
   "metadata": {},
   "outputs": [
    {
     "data": {
      "image/png": "[encoded data removed]",
      "text/plain": [
       "<Figure size 432x432 with 1 Axes>"
      ]
     },
     "metadata": {
      "needs_background": "light"
     },
     "output_type": "display_data"
    }
   ],
   "source": [
    "plot_jet(x_1[6])"
   ]
  },
  {
   "cell_type": "code",
   "execution_count": 129,
   "metadata": {},
   "outputs": [],
   "source": [
    "sys.path.insert(0,'../optimal_transport')\n",
    "from emdloss import *\n"
   ]
  },
  {
   "cell_type": "code",
   "execution_count": null,
   "metadata": {},
   "outputs": [],
   "source": []
  },
  {
   "cell_type": "code",
   "execution_count": null,
   "metadata": {},
   "outputs": [],
   "source": []
  },
  {
   "cell_type": "code",
   "execution_count": null,
   "metadata": {},
   "outputs": [],
   "source": []
  },
  {
   "cell_type": "code",
   "execution_count": 37,
   "metadata": {},
   "outputs": [],
   "source": [
    "df_1 = pd.read_hdf(\"/nobackup/users/sangeon/datasets/jetLHCO/LHCO_dijet_2p2p_4000_500_150_16part_jet1.h5\")\n",
    "df_2 = pd.read_hdf(\"/nobackup/users/sangeon/datasets/jetLHCO/LHCO_dijet_3p3p_6000_700_700_16part_jet1.h5\")\n",
    "\n",
    "dt_1 = df_1.values\n",
    "dt_2 = df_2.values"
   ]
  },
  {
   "cell_type": "code",
   "execution_count": 43,
   "metadata": {},
   "outputs": [],
   "source": [
    "def process_jet_data(temp):\n",
    "    pt = temp[:,48]\n",
    "    eta = temp[:,49]\n",
    "    phi = temp[:,50]\n",
    "    print(phi[:10])\n",
    "    #temp[:,:48].reshape(-1, 16, 3)[:,:,0] /= pt.reshape(-1,1)\n",
    "    temp[:,:48].reshape(-1, 16, 3)[:,:,0] /= np.sum(temp[:,:48].reshape(-1, 16, 3)[:,:,0], axis=1).reshape(-1, 1)\n",
    "    \n",
    "    temp[:,:48].reshape(-1, 16, 3)[:,:,1] -= eta.reshape(-1,1)\n",
    "    #print(temp[:,:48].reshape(-1, 16, 3)[:10,0,2])\n",
    "    temp[:,:48].reshape(-1, 16, 3)[:,:,2] = fix_phi_vec(temp[:,:48].reshape(-1, 16, 3)[:,:,2] - phi.reshape(-1,1) )\n",
    "    #print(temp[:,:48].reshape(-1, 16, 3)[:10,0,2])\n",
    "\n",
    "    return None\n"
   ]
  },
  {
   "cell_type": "code",
   "execution_count": 39,
   "metadata": {},
   "outputs": [
    {
     "name": "stdout",
     "output_type": "stream",
     "text": [
      "[-0.28288255 -1.88601718 -3.0325504   1.88479179 -1.3634441   0.11449027\n",
      "  2.11377374 -2.73808232 -1.37712454 -2.73482919]\n"
     ]
    }
   ],
   "source": [
    "process_jet_data(dt_1)"
   ]
  },
  {
   "cell_type": "code",
   "execution_count": 40,
   "metadata": {},
   "outputs": [
    {
     "data": {
      "text/plain": [
       "array([1., 1., 1., ..., 1., 1., 1.])"
      ]
     },
     "execution_count": 40,
     "metadata": {},
     "output_type": "execute_result"
    }
   ],
   "source": [
    "np.sum(dt_1[:,:48].reshape(-1,16,3)[:,:,0],axis=1)"
   ]
  },
  {
   "cell_type": "code",
   "execution_count": 42,
   "metadata": {},
   "outputs": [],
   "source": [
    "def draw_vector(v0, v1, ax=None):\n",
    "    ax = ax or plt.gca()\n",
    "    arrowprops=dict(arrowstyle='->',\n",
    "                    linewidth=2,\n",
    "                    shrinkA=0, shrinkB=0)\n",
    "    ax.annotate('', v1, v0, arrowprops=arrowprops)"
   ]
  },
  {
   "cell_type": "code",
   "execution_count": 11,
   "metadata": {},
   "outputs": [],
   "source": [
    "def plot_jet(pfcands):\n",
    "\n",
    "    pt = pfcands[:,0]\n",
    "    eta = pfcands[:,1]\n",
    "    phi = pfcands[:,2]\n",
    "    fig = plt.figure()\n",
    "    ax = fig.add_subplot(1,1,1)\n",
    "    ax.scatter(eta,phi,s=pt*1000, alpha=0.2)\n",
    "    ax.set_xlabel('deta')\n",
    "    ax.set_ylabel('dphi')\n",
    "    ax.set_xlim([-1.5,1.5])\n",
    "    ax.set_ylim([-1.5,1.5])\n",
    "    #fig.savefig(f'{path}/{name}.png')"
   ]
  },
  {
   "cell_type": "code",
   "execution_count": 12,
   "metadata": {},
   "outputs": [
    {
     "data": {
      "text/plain": [
       "array([0.19485613, 0.16618666, 0.12557794, 0.08462045, 0.05815355,\n",
       "       0.03981882, 0.03867688, 0.03743095, 0.03553191, 0.03488517,\n",
       "       0.03486259, 0.02078175, 0.02061202, 0.01276068, 0.01222775,\n",
       "       0.01019689])"
      ]
     },
     "execution_count": 12,
     "metadata": {},
     "output_type": "execute_result"
    }
   ],
   "source": [
    "dt_1[0,:48].reshape(-1,3)[:, 0]"
   ]
  },
  {
   "cell_type": "code",
   "execution_count": 14,
   "metadata": {},
   "outputs": [],
   "source": [
    "%load_ext autoreload\n",
    "%autoreload 2"
   ]
  },
  {
   "cell_type": "code",
   "execution_count": 48,
   "metadata": {},
   "outputs": [],
   "source": [
    "def process_jet_data_all(temp):\n",
    "    pt = temp[:,48]\n",
    "    eta = temp[:,49]\n",
    "    phi = temp[:,50]\n",
    "    #print(phi[:10])\n",
    "    temp[:,:48].reshape(-1, 16, 3)[:,:,0] /= pt.reshape(-1,1)\n",
    "    #temp[:,:48].reshape(-1, 16, 3)[:,:,0] /= np.sum(temp[:,:48].reshape(-1, 16, 3)[:,:,0])\n",
    "    \n",
    "    temp[:,:48].reshape(-1, 16, 3)[:,:,1] -= eta.reshape(-1,1)\n",
    "    #print(temp[:,:48].reshape(-1, 16, 3)[:10,0,2])\n",
    "    temp[:,:48].reshape(-1, 16, 3)[:,:,2] = fix_phi_vec(temp[:,:48].reshape(-1, 16, 3)[:,:,2] - phi.reshape(-1,1) )\n",
    "    #print(temp[:,:48].reshape(-1, 16, 3)[:10,0,2])\n",
    "    temp2 = np.apply_along_axis(rotate_eig, 1, temp, 16)\n",
    "\n",
    "    return temp2"
   ]
  },
  {
   "cell_type": "code",
   "execution_count": 49,
   "metadata": {},
   "outputs": [],
   "source": [
    "dt_1 = dt_1[dt_1[:,51]>300]"
   ]
  },
  {
   "cell_type": "code",
   "execution_count": 50,
   "metadata": {},
   "outputs": [],
   "source": [
    "dt_1 = process_jet_data_all(dt_1)"
   ]
  },
  {
   "cell_type": "code",
   "execution_count": 224,
   "metadata": {},
   "outputs": [
    {
     "ename": "NameError",
     "evalue": "name 'dt_1' is not defined",
     "output_type": "error",
     "traceback": [
      "\u001b[0;31m---------------------------------------------------------------------------\u001b[0m",
      "\u001b[0;31mNameError\u001b[0m                                 Traceback (most recent call last)",
      "\u001b[0;32m/tmp/ipykernel_2222752/3216008787.py\u001b[0m in \u001b[0;36m<module>\u001b[0;34m\u001b[0m\n\u001b[0;32m----> 1\u001b[0;31m \u001b[0mprint\u001b[0m\u001b[0;34m(\u001b[0m\u001b[0mdt_1\u001b[0m\u001b[0;34m)\u001b[0m\u001b[0;34m\u001b[0m\u001b[0;34m\u001b[0m\u001b[0m\n\u001b[0m",
      "\u001b[0;31mNameError\u001b[0m: name 'dt_1' is not defined"
     ]
    }
   ],
   "source": [
    "print(dt_1)"
   ]
  },
  {
   "cell_type": "code",
   "execution_count": 32,
   "metadata": {},
   "outputs": [
    {
     "data": {
      "text/plain": [
       "array([[0.19485613, 0.16618666, 0.12557794, 0.08462045, 0.05815355,\n",
       "        0.03981882, 0.03867688, 0.03743095, 0.03553191, 0.03488517,\n",
       "        0.03486259, 0.02078175, 0.02061202, 0.01276068, 0.01222775,\n",
       "        0.01019689]])"
      ]
     },
     "execution_count": 32,
     "metadata": {},
     "output_type": "execute_result"
    }
   ],
   "source": [
    "dt_1[0,:48].reshape(-1,16,3)[:,:,0]"
   ]
  },
  {
   "cell_type": "code",
   "execution_count": 40,
   "metadata": {},
   "outputs": [],
   "source": [
    "dt_1 = dt_1[dt_1[:,51]>300]"
   ]
  },
  {
   "cell_type": "code",
   "execution_count": 41,
   "metadata": {},
   "outputs": [
    {
     "data": {
      "text/plain": [
       "(38394, 54)"
      ]
     },
     "execution_count": 41,
     "metadata": {},
     "output_type": "execute_result"
    }
   ],
   "source": [
    "dt_1.shape"
   ]
  },
  {
   "cell_type": "code",
   "execution_count": 45,
   "metadata": {},
   "outputs": [
    {
     "ename": "TypeError",
     "evalue": "rotate_eig() missing 1 required positional argument: 'num_part'",
     "output_type": "error",
     "traceback": [
      "\u001b[0;31m---------------------------------------------------------------------------\u001b[0m",
      "\u001b[0;31mTypeError\u001b[0m                                 Traceback (most recent call last)",
      "\u001b[0;32m/tmp/ipykernel_2202207/259189279.py\u001b[0m in \u001b[0;36m<module>\u001b[0;34m\u001b[0m\n\u001b[0;32m----> 1\u001b[0;31m \u001b[0mdt_1\u001b[0m \u001b[0;34m=\u001b[0m \u001b[0mnp\u001b[0m\u001b[0;34m.\u001b[0m\u001b[0mapply_along_axis\u001b[0m\u001b[0;34m(\u001b[0m\u001b[0mrotate_eig\u001b[0m\u001b[0;34m,\u001b[0m \u001b[0;36m1\u001b[0m\u001b[0;34m,\u001b[0m \u001b[0mdt_1\u001b[0m\u001b[0;34m)\u001b[0m\u001b[0;34m\u001b[0m\u001b[0;34m\u001b[0m\u001b[0m\n\u001b[0m",
      "\u001b[0;32m<__array_function__ internals>\u001b[0m in \u001b[0;36mapply_along_axis\u001b[0;34m(*args, **kwargs)\u001b[0m\n",
      "\u001b[0;32m/nobackup/users/sangeon/condas/anaconda3/envs/studies/lib/python3.8/site-packages/numpy/lib/shape_base.py\u001b[0m in \u001b[0;36mapply_along_axis\u001b[0;34m(func1d, axis, arr, *args, **kwargs)\u001b[0m\n\u001b[1;32m    377\u001b[0m             \u001b[0;34m'Cannot apply_along_axis when any iteration dimensions are 0'\u001b[0m\u001b[0;34m\u001b[0m\u001b[0;34m\u001b[0m\u001b[0m\n\u001b[1;32m    378\u001b[0m         ) from None\n\u001b[0;32m--> 379\u001b[0;31m     \u001b[0mres\u001b[0m \u001b[0;34m=\u001b[0m \u001b[0masanyarray\u001b[0m\u001b[0;34m(\u001b[0m\u001b[0mfunc1d\u001b[0m\u001b[0;34m(\u001b[0m\u001b[0minarr_view\u001b[0m\u001b[0;34m[\u001b[0m\u001b[0mind0\u001b[0m\u001b[0;34m]\u001b[0m\u001b[0;34m,\u001b[0m \u001b[0;34m*\u001b[0m\u001b[0margs\u001b[0m\u001b[0;34m,\u001b[0m \u001b[0;34m**\u001b[0m\u001b[0mkwargs\u001b[0m\u001b[0;34m)\u001b[0m\u001b[0;34m)\u001b[0m\u001b[0;34m\u001b[0m\u001b[0;34m\u001b[0m\u001b[0m\n\u001b[0m\u001b[1;32m    380\u001b[0m \u001b[0;34m\u001b[0m\u001b[0m\n\u001b[1;32m    381\u001b[0m     \u001b[0;31m# build a buffer for storing evaluations of func1d.\u001b[0m\u001b[0;34m\u001b[0m\u001b[0;34m\u001b[0m\u001b[0;34m\u001b[0m\u001b[0m\n",
      "\u001b[0;31mTypeError\u001b[0m: rotate_eig() missing 1 required positional argument: 'num_part'"
     ]
    }
   ],
   "source": [
    "dt_1 = np.apply_along_axis(rotate_eig, 1, dt_1)"
   ]
  },
  {
   "cell_type": "code",
   "execution_count": 52,
   "metadata": {},
   "outputs": [],
   "source": [
    "df_2p1 = pd.read_hdf(\"/nobackup/users/sangeon/datasets/jetLHCO/LHCO_dijet_2p2p_3200_450_450_16part_jet1.h5\")\n",
    "df_2p2 = pd.read_hdf(\"/nobackup/users/sangeon/datasets/jetLHCO/LHCO_dijet_2p2p_3200_450_450_16part_jet2.h5\")\n",
    "df_3p1 = pd.read_hdf(\"/nobackup/users/sangeon/datasets/jetLHCO/LHCO_dijet_3p3p_3200_450_450_16part_jet1.h5\")\n",
    "df_3p2 = pd.read_hdf(\"/nobackup/users/sangeon/datasets/jetLHCO/LHCO_dijet_3p3p_3200_450_450_16part_jet2.h5\")\n",
    "#df_3p1 = pd.read_hdf(\"/nobackup/users/sangeon/datasets/jetLHCO/LHCO_dijet_2p2p_4000_500_150_16part_jet1.h5\")\n",
    "#df_3p2 = pd.read_hdf(\"/nobackup/users/sangeon/datasets/jetLHCO/LHCO_dijet_2p2p_4000_500_150_16part_jet2.h5\")\n",
    "\n",
    "dt_2p1 = df_2p1.values \n",
    "dt_2p2 = df_2p2.values \n",
    "dt_3p1 = df_3p1.values \n",
    "dt_3p2 = df_3p2.values "
   ]
  },
  {
   "cell_type": "code",
   "execution_count": 40,
   "metadata": {},
   "outputs": [],
   "source": [
    "dt_2p1 = dt_2p1[(dt_2p1[:,51]<500) & (dt_2p1[:,51]>400)]\n",
    "dt_2p2 = dt_2p2[(dt_2p2[:,51]<500) & (dt_2p2[:,51]>400)]\n",
    "dt_3p1 = dt_3p1[(dt_3p1[:,51]<500) & (dt_3p1[:,51]>400)]\n",
    "dt_3p2 = dt_3p2[(dt_3p2[:,51]<500) & (dt_3p2[:,51]>400)]"
   ]
  },
  {
   "cell_type": "code",
   "execution_count": 41,
   "metadata": {},
   "outputs": [],
   "source": [
    "dt_2p1 = dt_2p1[(dt_2p1[:,48]>1000)&(dt_2p1[:,48]<1500)]\n",
    "dt_2p2 = dt_2p2[(dt_2p2[:,48]>1000)&(dt_2p2[:,48]<1500)]\n",
    "dt_3p1 = dt_3p1[(dt_3p1[:,48]>1000)&(dt_3p1[:,48]<1500)]\n",
    "dt_3p2 = dt_3p2[(dt_3p2[:,48]>1000)&(dt_3p2[:,48]<1500)]"
   ]
  },
  {
   "cell_type": "code",
   "execution_count": 53,
   "metadata": {},
   "outputs": [
    {
     "name": "stdout",
     "output_type": "stream",
     "text": [
      "[ 0.4595973  -0.46094861  1.99597174  0.8529835   1.59282828 -0.16491634\n",
      "  2.29659394 -2.74112711 -2.33926141 -2.34103584]\n",
      "[-2.55309201  2.8592682  -1.14372948 -2.26800474 -1.41292532  3.01758762\n",
      " -0.80847314  0.39611139  0.50428644  0.90074528]\n",
      "[ 2.16706235 -2.91106116  1.88390122  2.86544428  2.60602684 -0.86806851\n",
      "  2.91490955  1.02455506 -2.48205287  2.49464361]\n",
      "[-0.96255366 -0.26131752  0.56853341 -0.36653315 -0.70808394  0.83203332\n",
      "  0.35236496  3.11819995  1.29649022 -0.75633996]\n"
     ]
    }
   ],
   "source": [
    "process_jet_data(dt_2p1)\n",
    "process_jet_data(dt_2p2)\n",
    "process_jet_data(dt_3p1)\n",
    "process_jet_data(dt_3p2)"
   ]
  },
  {
   "cell_type": "code",
   "execution_count": 44,
   "metadata": {},
   "outputs": [],
   "source": [
    "origin = np.zeros([1,2])"
   ]
  },
  {
   "cell_type": "code",
   "execution_count": 19,
   "metadata": {},
   "outputs": [],
   "source": [
    "#jetcenter = np.average(dt_1[0,:48].reshape(-1,3)[:, 1:3],axis=0, weights = dt_1[0,:48].reshape(-1,3)[:, 0]).reshape(1,2)"
   ]
  },
  {
   "cell_type": "code",
   "execution_count": 63,
   "metadata": {},
   "outputs": [],
   "source": [
    "#jetcenter"
   ]
  },
  {
   "cell_type": "code",
   "execution_count": 23,
   "metadata": {},
   "outputs": [],
   "source": [
    "#dt_1[evt_num,:48].reshape(-1,3)[:,1:3].shape"
   ]
  },
  {
   "cell_type": "code",
   "execution_count": 45,
   "metadata": {},
   "outputs": [],
   "source": [
    "def get_cov_eig(evt):\n",
    "    cov_mat = np.cov(evt[:48].reshape(-1,3)[:, 1:3], aweights=evt[:48].reshape(-1,3)[:, 0] , rowvar=False)\n",
    "    eig_vals, eig_vecs = np.linalg.eig(cov_mat)\n",
    "    idx = eig_vals.argsort()[::1]   \n",
    "    eig_vals = eig_vals[idx]\n",
    "    eig_vecs = eig_vecs[:,idx]\n",
    "    return eig_vecs"
   ]
  },
  {
   "cell_type": "code",
   "execution_count": 46,
   "metadata": {},
   "outputs": [],
   "source": [
    "#def rotate_eig(evt, num_part):\n",
    "#    new = np.copy(evt)\n",
    "#    cov_mat = np.cov(evt[:3*num_part].reshape(-1,3)[:, 1:3], aweights=evt[:3*num_part].reshape(-1,3)[:, 0] , rowvar=False)\n",
    "#    eig_vals, eig_vecs = np.linalg.eig(cov_mat)\n",
    "#    idx = eig_vals.argsort()[::1]   \n",
    "#    eig_vals = eig_vals[idx]\n",
    "#    eig_vecs = eig_vecs[:,idx]\n",
    "#    new[:3*num_part].reshape(-1,3)[:, 1:3] = np.matmul(evt[:3*num_part].reshape(-1,3)[:, 1:3], eig_vecs)\n",
    "#    return new"
   ]
  },
  {
   "cell_type": "code",
   "execution_count": 47,
   "metadata": {},
   "outputs": [],
   "source": [
    "def flip_eta(evt):\n",
    "    new = np.copy(evt)\n",
    "    right_quadrant = np.where(evt[:48].reshape(-1,3)[:,1]>0)\n",
    "    left_quadrant = np.where(evt[:48].reshape(-1,3)[:,1]<=0)\n",
    "    right_sum = np.sum(evt[:48].reshape(-1,3)[right_quadrant,0])\n",
    "    left_sum = np.sum(evt[:48].reshape(-1,3)[left_quadrant,0])\n",
    "    if left_sum > right_sum:\n",
    "        new[:48].reshape(-1,3)[:,1] *= -1\n",
    "    return new   "
   ]
  },
  {
   "cell_type": "code",
   "execution_count": 48,
   "metadata": {},
   "outputs": [],
   "source": [
    "def flip(evt):\n",
    "    new = np.copy(evt)\n",
    "    upper_quadrant = np.where(evt[:48].reshape(-1,3)[:,2]>0)\n",
    "    lower_quadrant = np.where(evt[:48].reshape(-1,3)[:,2]<=0)\n",
    "    upper_sum = np.sum(evt[:48].reshape(-1,3)[upper_quadrant,0])\n",
    "    lower_sum = np.sum(evt[:48].reshape(-1,3)[lower_quadrant,0])\n",
    "    if lower_sum > upper_sum:\n",
    "        new[:48].reshape(-1,3)[:,2] *= -1\n",
    "    return new     "
   ]
  },
  {
   "cell_type": "code",
   "execution_count": 49,
   "metadata": {},
   "outputs": [],
   "source": [
    "def rotate_eig(evt):\n",
    "    #print(evt.shape)\n",
    "    new = np.copy(evt)\n",
    "    cov_mat = np.cov(evt[:48].reshape(-1,3)[:, 1:3], aweights=evt[:48].reshape(-1,3)[:, 0] , rowvar=False)\n",
    "    eig_vals, eig_vecs = np.linalg.eig(cov_mat)\n",
    "    idx = eig_vals.argsort()[::1]   \n",
    "    eig_vals = eig_vals[idx]\n",
    "    eig_vecs = eig_vecs[:,idx]\n",
    "    #print(evt[:48].reshape(-1,3)[0, 1:3])\n",
    "    #print(eig_vecs)\n",
    "    #principal = eig_vecs[:,0]\n",
    "    #R = np.array([principal,[-principal[1], principal[0]]])\n",
    "    #print(R.T)\n",
    "    #print(eig_vecs)\n",
    "    new[:48].reshape(-1,3)[:, 1:3] = np.matmul(evt[:48].reshape(-1,3)[:, 1:3], eig_vecs)\n",
    "    #print(new[:48].reshape(-1,3)[0, 1:3])\n",
    "    return new\n",
    "    "
   ]
  },
  {
   "cell_type": "code",
   "execution_count": 50,
   "metadata": {},
   "outputs": [],
   "source": [
    "def get_cov_eig_val(evt):\n",
    "    cov_mat = np.cov(evt[:48].reshape(-1,3)[:, 1:3], aweights=evt[:48].reshape(-1,3)[:, 0] , rowvar=False)\n",
    "    eig_vals, eig_vecs = np.linalg.eig(cov_mat)\n",
    "    idx = eig_vals.argsort()[::1]   \n",
    "    eig_vals = eig_vals[idx]\n",
    "    eig_vecs = eig_vecs[:,idx]\n",
    "    return eig_vecs, eig_vals"
   ]
  },
  {
   "cell_type": "code",
   "execution_count": 303,
   "metadata": {},
   "outputs": [],
   "source": [
    "vec, vals = get_cov_eig_val(dt_2p1[0])"
   ]
  },
  {
   "cell_type": "code",
   "execution_count": 304,
   "metadata": {},
   "outputs": [
    {
     "data": {
      "text/plain": [
       "array([[ 0.29236117,  0.95630798],\n",
       "       [ 0.95630798, -0.29236117]])"
      ]
     },
     "execution_count": 304,
     "metadata": {},
     "output_type": "execute_result"
    }
   ],
   "source": [
    "vec"
   ]
  },
  {
   "cell_type": "code",
   "execution_count": 305,
   "metadata": {},
   "outputs": [
    {
     "data": {
      "text/plain": [
       "array([0.00076925, 0.13883084])"
      ]
     },
     "execution_count": 305,
     "metadata": {},
     "output_type": "execute_result"
    }
   ],
   "source": [
    "vals"
   ]
  },
  {
   "cell_type": "code",
   "execution_count": 306,
   "metadata": {},
   "outputs": [],
   "source": [
    "principal = vec[:,0]"
   ]
  },
  {
   "cell_type": "code",
   "execution_count": 307,
   "metadata": {},
   "outputs": [
    {
     "data": {
      "text/plain": [
       "array([0.29236117, 0.95630798])"
      ]
     },
     "execution_count": 307,
     "metadata": {},
     "output_type": "execute_result"
    }
   ],
   "source": [
    "vec[:,0]"
   ]
  },
  {
   "cell_type": "code",
   "execution_count": 54,
   "metadata": {},
   "outputs": [
    {
     "name": "stdout",
     "output_type": "stream",
     "text": [
      "148.55070608392964\n"
     ]
    },
    {
     "data": {
      "image/png": "[encoded data removed]",
      "text/plain": [
       "<Figure size 432x432 with 1 Axes>"
      ]
     },
     "metadata": {
      "needs_background": "light"
     },
     "output_type": "display_data"
    }
   ],
   "source": [
    "evt_num = 0\n",
    "print(dt_2p1[evt_num,51])\n",
    "plot_jet(dt_2p1[evt_num,:48].reshape(-1,3))\n",
    "draw_vector(*origin, *origin+get_cov_eig(dt_2p1[evt_num])[:,0])\n",
    "#draw_vector(*origin, *origin+eig_vecs[1])"
   ]
  },
  {
   "cell_type": "code",
   "execution_count": null,
   "metadata": {},
   "outputs": [],
   "source": []
  },
  {
   "cell_type": "code",
   "execution_count": 73,
   "metadata": {},
   "outputs": [],
   "source": [
    "upper_quadrant = np.where(rotate_eig(dt_2p1[evt_num])[:48].reshape(-1,3)[:,2]>0)"
   ]
  },
  {
   "cell_type": "code",
   "execution_count": 81,
   "metadata": {},
   "outputs": [],
   "source": [
    "lower_quadrant = np.where(rotate_eig(dt_2p1[evt_num])[:48].reshape(-1,3)[:,2]<=0)"
   ]
  },
  {
   "cell_type": "code",
   "execution_count": 75,
   "metadata": {},
   "outputs": [
    {
     "data": {
      "text/plain": [
       "array([[ 0.14334855,  0.00718523, -0.24910127],\n",
       "       [ 0.13890703, -0.01821699, -0.25430277],\n",
       "       [ 0.11179387, -0.00930238,  0.44678279],\n",
       "       [ 0.08853042, -0.01524445,  0.44366664],\n",
       "       [ 0.08697143, -0.00899253,  0.44900853],\n",
       "       [ 0.06692088,  0.00248706,  0.45633446],\n",
       "       [ 0.06028215, -0.06017454, -0.37932609],\n",
       "       [ 0.05279172, -0.00756452,  0.42555702],\n",
       "       [ 0.04170526,  0.03420526, -0.22448837],\n",
       "       [ 0.03482049,  0.01875326, -0.28165134],\n",
       "       [ 0.03284388, -0.0643558 , -0.34697362],\n",
       "       [ 0.03088703,  0.05661371, -0.22553887],\n",
       "       [ 0.02833604, -0.00145662,  0.44610445],\n",
       "       [ 0.02821359, -0.01733575, -0.25699607],\n",
       "       [ 0.02695093,  0.06592583, -0.25330696],\n",
       "       [ 0.02669673, -0.00265041, -0.24528266]])"
      ]
     },
     "execution_count": 75,
     "metadata": {},
     "output_type": "execute_result"
    }
   ],
   "source": [
    "rotate_eig(dt_2p1[evt_num])[:48].reshape(-1,3)"
   ]
  },
  {
   "cell_type": "code",
   "execution_count": 82,
   "metadata": {},
   "outputs": [
    {
     "data": {
      "text/plain": [
       "array([[ 0.14334855,  0.00718523, -0.24910127],\n",
       "       [ 0.13890703, -0.01821699, -0.25430277],\n",
       "       [ 0.06028215, -0.06017454, -0.37932609],\n",
       "       [ 0.04170526,  0.03420526, -0.22448837],\n",
       "       [ 0.03482049,  0.01875326, -0.28165134],\n",
       "       [ 0.03284388, -0.0643558 , -0.34697362],\n",
       "       [ 0.03088703,  0.05661371, -0.22553887],\n",
       "       [ 0.02821359, -0.01733575, -0.25699607],\n",
       "       [ 0.02695093,  0.06592583, -0.25330696],\n",
       "       [ 0.02669673, -0.00265041, -0.24528266]])"
      ]
     },
     "execution_count": 82,
     "metadata": {},
     "output_type": "execute_result"
    }
   ],
   "source": [
    "rotate_eig(dt_2p1[evt_num])[:48].reshape(-1,3)[lower_quadrant]"
   ]
  },
  {
   "cell_type": "code",
   "execution_count": 79,
   "metadata": {},
   "outputs": [
    {
     "data": {
      "text/plain": [
       "array([[ 0.11179387, -0.00930238,  0.44678279],\n",
       "       [ 0.08853042, -0.01524445,  0.44366664],\n",
       "       [ 0.08697143, -0.00899253,  0.44900853],\n",
       "       [ 0.06692088,  0.00248706,  0.45633446],\n",
       "       [ 0.05279172, -0.00756452,  0.42555702],\n",
       "       [ 0.02833604, -0.00145662,  0.44610445]])"
      ]
     },
     "execution_count": 79,
     "metadata": {},
     "output_type": "execute_result"
    }
   ],
   "source": [
    "rotate_eig(dt_2p1[evt_num])[:48].reshape(-1,3)[upper_quadrant]"
   ]
  },
  {
   "cell_type": "code",
   "execution_count": 83,
   "metadata": {},
   "outputs": [
    {
     "data": {
      "text/plain": [
       "0.564655644277925"
      ]
     },
     "execution_count": 83,
     "metadata": {},
     "output_type": "execute_result"
    }
   ],
   "source": [
    "np.sum(rotate_eig(dt_2p1[evt_num])[:48].reshape(-1,3)[lower_quadrant,0])"
   ]
  },
  {
   "cell_type": "code",
   "execution_count": 76,
   "metadata": {},
   "outputs": [
    {
     "data": {
      "text/plain": [
       "0.43534435572207497"
      ]
     },
     "execution_count": 76,
     "metadata": {},
     "output_type": "execute_result"
    }
   ],
   "source": [
    "np.sum(rotate_eig(dt_2p1[evt_num])[:48].reshape(-1,3)[upper_quadrant,0])"
   ]
  },
  {
   "cell_type": "code",
   "execution_count": null,
   "metadata": {},
   "outputs": [],
   "source": [
    "dt_2p1"
   ]
  },
  {
   "cell_type": "code",
   "execution_count": 60,
   "metadata": {},
   "outputs": [
    {
     "name": "stdout",
     "output_type": "stream",
     "text": [
      "443.8363206887978\n"
     ]
    },
    {
     "data": {
      "image/png": "[encoded data removed]",
      "text/plain": [
       "<Figure size 432x432 with 1 Axes>"
      ]
     },
     "metadata": {
      "needs_background": "light"
     },
     "output_type": "display_data"
    }
   ],
   "source": [
    "evt_num = 1\n",
    "print(flip_eta(flip(rotate_eig(dt_2p1[evt_num])))[51])\n",
    "plot_jet(flip_eta(flip(rotate_eig(dt_2p1[evt_num])))[:48].reshape(-1,3))\n",
    "draw_vector(*origin, *origin+get_cov_eig(rotate_eig(dt_2p1[evt_num]))[:,0])"
   ]
  },
  {
   "cell_type": "code",
   "execution_count": 59,
   "metadata": {},
   "outputs": [
    {
     "name": "stdout",
     "output_type": "stream",
     "text": [
      "443.8363206887978\n"
     ]
    },
    {
     "data": {
      "image/png": "[encoded data removed]",
      "text/plain": [
       "<Figure size 432x432 with 1 Axes>"
      ]
     },
     "metadata": {
      "needs_background": "light"
     },
     "output_type": "display_data"
    }
   ],
   "source": [
    "evt_num = 1\n",
    "print(rotate_eig(dt_2p1[evt_num])[51])\n",
    "plot_jet(rotate_eig(dt_2p1[evt_num])[:48].reshape(-1,3))\n",
    "draw_vector(*origin, *origin+get_cov_eig(rotate_eig(dt_2p1[evt_num]))[:,0])"
   ]
  },
  {
   "cell_type": "code",
   "execution_count": 56,
   "metadata": {},
   "outputs": [
    {
     "data": {
      "text/plain": [
       "(38394, 54)"
      ]
     },
     "execution_count": 56,
     "metadata": {},
     "output_type": "execute_result"
    }
   ],
   "source": [
    "dt_1.shape"
   ]
  },
  {
   "cell_type": "code",
   "execution_count": 15,
   "metadata": {},
   "outputs": [
    {
     "ename": "NameError",
     "evalue": "name 'dt_new' is not defined",
     "output_type": "error",
     "traceback": [
      "\u001b[0;31m---------------------------------------------------------------------------\u001b[0m",
      "\u001b[0;31mNameError\u001b[0m                                 Traceback (most recent call last)",
      "\u001b[0;32m/tmp/ipykernel_2198212/1809749049.py\u001b[0m in \u001b[0;36m<module>\u001b[0;34m\u001b[0m\n\u001b[1;32m      1\u001b[0m \u001b[0mevt_num\u001b[0m \u001b[0;34m=\u001b[0m \u001b[0;36m0\u001b[0m\u001b[0;34m\u001b[0m\u001b[0;34m\u001b[0m\u001b[0m\n\u001b[0;32m----> 2\u001b[0;31m \u001b[0mprint\u001b[0m\u001b[0;34m(\u001b[0m\u001b[0mdt_new\u001b[0m\u001b[0;34m[\u001b[0m\u001b[0mevt_num\u001b[0m\u001b[0;34m,\u001b[0m\u001b[0;36m51\u001b[0m\u001b[0;34m]\u001b[0m\u001b[0;34m)\u001b[0m\u001b[0;34m\u001b[0m\u001b[0;34m\u001b[0m\u001b[0m\n\u001b[0m\u001b[1;32m      3\u001b[0m \u001b[0mplot_jet\u001b[0m\u001b[0;34m(\u001b[0m\u001b[0mdt_new\u001b[0m\u001b[0;34m[\u001b[0m\u001b[0mevt_num\u001b[0m\u001b[0;34m,\u001b[0m\u001b[0;34m:\u001b[0m\u001b[0;36m48\u001b[0m\u001b[0;34m]\u001b[0m\u001b[0;34m.\u001b[0m\u001b[0mreshape\u001b[0m\u001b[0;34m(\u001b[0m\u001b[0;34m-\u001b[0m\u001b[0;36m1\u001b[0m\u001b[0;34m,\u001b[0m\u001b[0;36m3\u001b[0m\u001b[0;34m)\u001b[0m\u001b[0;34m)\u001b[0m\u001b[0;34m\u001b[0m\u001b[0;34m\u001b[0m\u001b[0m\n\u001b[1;32m      4\u001b[0m \u001b[0mdraw_vector\u001b[0m\u001b[0;34m(\u001b[0m\u001b[0;34m*\u001b[0m\u001b[0morigin\u001b[0m\u001b[0;34m,\u001b[0m \u001b[0;34m*\u001b[0m\u001b[0morigin\u001b[0m\u001b[0;34m+\u001b[0m\u001b[0mget_cov_eig\u001b[0m\u001b[0;34m(\u001b[0m\u001b[0mdt_new\u001b[0m\u001b[0;34m[\u001b[0m\u001b[0mevt_num\u001b[0m\u001b[0;34m]\u001b[0m\u001b[0;34m)\u001b[0m\u001b[0;34m[\u001b[0m\u001b[0;34m:\u001b[0m\u001b[0;34m,\u001b[0m\u001b[0;36m0\u001b[0m\u001b[0;34m]\u001b[0m\u001b[0;34m)\u001b[0m\u001b[0;34m\u001b[0m\u001b[0;34m\u001b[0m\u001b[0m\n\u001b[1;32m      5\u001b[0m \u001b[0;31m#draw_vector(*origin, *origin+eig_vecs[1])\u001b[0m\u001b[0;34m\u001b[0m\u001b[0;34m\u001b[0m\u001b[0;34m\u001b[0m\u001b[0m\n",
      "\u001b[0;31mNameError\u001b[0m: name 'dt_new' is not defined"
     ]
    }
   ],
   "source": [
    "evt_num = 0\n",
    "print(dt_new[evt_num,51])\n",
    "plot_jet(dt_new[evt_num,:48].reshape(-1,3))\n",
    "draw_vector(*origin, *origin+get_cov_eig(dt_new[evt_num])[:,0])\n",
    "#draw_vector(*origin, *origin+eig_vecs[1])"
   ]
  },
  {
   "cell_type": "code",
   "execution_count": 55,
   "metadata": {},
   "outputs": [
    {
     "name": "stdout",
     "output_type": "stream",
     "text": [
      "463.4783748690022\n"
     ]
    },
    {
     "data": {
      "image/png": "[encoded data removed]",
      "text/plain": [
       "<Figure size 432x432 with 1 Axes>"
      ]
     },
     "metadata": {
      "needs_background": "light"
     },
     "output_type": "display_data"
    }
   ],
   "source": [
    "evt_num = 0\n",
    "print(rotate_eig(dt_1[evt_num],16)[51])\n",
    "plot_jet(rotate_eig(dt_1[evt_num],16)[:48].reshape(-1,3))\n",
    "draw_vector(*origin, *origin+get_cov_eig(rotate_eig(dt_1[evt_num],16))[:,0])"
   ]
  },
  {
   "cell_type": "code",
   "execution_count": 39,
   "metadata": {},
   "outputs": [
    {
     "data": {
      "text/plain": [
       "array([[302.62124634, 258.09613037, 195.02877808, 131.41976929,\n",
       "         90.31535339,  61.84059906,  60.06711578,  58.13211823,\n",
       "         55.18281555,  54.17840195,  54.14332962,  32.27509689,\n",
       "         32.01148987,  19.81797028,  18.99031067,  15.83627605]])"
      ]
     },
     "execution_count": 39,
     "metadata": {},
     "output_type": "execute_result"
    }
   ],
   "source": [
    "dt_1[0,:48].reshape(-1,16,3)[:,:,0]"
   ]
  },
  {
   "cell_type": "code",
   "execution_count": 35,
   "metadata": {},
   "outputs": [
    {
     "name": "stdout",
     "output_type": "stream",
     "text": [
      "492.0693594080945\n"
     ]
    },
    {
     "data": {
      "image/png": "[encoded data removed]",
      "text/plain": [
       "<Figure size 432x432 with 1 Axes>"
      ]
     },
     "metadata": {
      "needs_background": "light"
     },
     "output_type": "display_data"
    }
   ],
   "source": [
    "evt_num = 1\n",
    "print(dt_1[evt_num,51])\n",
    "plot_jet(dt_1[evt_num,:48].reshape(-1,3))\n",
    "draw_vector(*origin, *origin+get_cov_eig(dt_1[evt_num])[:,0])\n",
    "#draw_vector(*origin, *origin+eig_vecs[1])"
   ]
  },
  {
   "cell_type": "code",
   "execution_count": 71,
   "metadata": {},
   "outputs": [
    {
     "data": {
      "text/plain": [
       "array([[-8.91141684e-17, -3.12611699e-01,  1.61613654e-01, ...,\n",
       "         4.63478375e+02,  4.63478375e+02,  4.63478375e+02],\n",
       "       [-2.27221657e-13, -2.29981041e+00, -1.86375129e+00, ...,\n",
       "         3.15212864e+01,  1.86438051e+00,  2.83297651e+01],\n",
       "       [-5.54384260e-17, -2.06572160e-01, -3.00543523e+00, ...,\n",
       "         1.49228912e+02,  1.47338504e+02,  1.47338504e+02],\n",
       "       ...,\n",
       "       [-2.30975160e-16, -1.57039583e+00, -6.82635963e-01, ...,\n",
       "         5.09771456e+02,  5.09771456e+02,  5.09771456e+02],\n",
       "       [-3.43026951e-17,  2.09981278e-01, -9.11282748e-02, ...,\n",
       "         5.37158794e+02,  5.37158794e+02,  5.37158794e+02],\n",
       "       [-3.10231284e-17,  2.64288694e-01,  2.96257067e+00, ...,\n",
       "         5.05028544e+02,  5.05028544e+02,  5.05028544e+02]])"
      ]
     },
     "execution_count": 71,
     "metadata": {},
     "output_type": "execute_result"
    }
   ],
   "source": [
    "df_1"
   ]
  },
  {
   "cell_type": "code",
   "execution_count": 18,
   "metadata": {},
   "outputs": [],
   "source": [
    "from sklearn.decomposition import PCA"
   ]
  },
  {
   "cell_type": "code",
   "execution_count": 1,
   "metadata": {},
   "outputs": [
    {
     "ename": "NameError",
     "evalue": "name 'emd_preprocess' is not defined",
     "output_type": "error",
     "traceback": [
      "\u001b[0;31m---------------------------------------------------------------------------\u001b[0m",
      "\u001b[0;31mNameError\u001b[0m                                 Traceback (most recent call last)",
      "\u001b[0;32m/tmp/ipykernel_1908519/871667428.py\u001b[0m in \u001b[0;36m<module>\u001b[0;34m\u001b[0m\n\u001b[0;32m----> 1\u001b[0;31m \u001b[0mnew\u001b[0m \u001b[0;34m=\u001b[0m \u001b[0memd_preprocess\u001b[0m\u001b[0;34m(\u001b[0m\u001b[0mevt1\u001b[0m\u001b[0;34m)\u001b[0m\u001b[0;34m\u001b[0m\u001b[0;34m\u001b[0m\u001b[0m\n\u001b[0m",
      "\u001b[0;31mNameError\u001b[0m: name 'emd_preprocess' is not defined"
     ]
    }
   ],
   "source": [
    "new = emd_preprocess(evt1)"
   ]
  },
  {
   "cell_type": "code",
   "execution_count": null,
   "metadata": {},
   "outputs": [],
   "source": [
    "new.shape"
   ]
  },
  {
   "cell_type": "code",
   "execution_count": 18,
   "metadata": {},
   "outputs": [
    {
     "data": {
      "image/png": "[encoded data removed]",
      "text/plain": [
       "<Figure size 432x432 with 1 Axes>"
      ]
     },
     "metadata": {
      "needs_background": "light"
     },
     "output_type": "display_data"
    }
   ],
   "source": [
    "#plt.hist(dt_1[:,51], bins=np.arange(0,600,1));\n",
    "plt.hist(dt_1[:,52], bins=np.arange(0,1000,4),alpha=0.3);\n",
    "plt.hist(dt_2[:,52], bins=np.arange(0,1000,4),alpha=0.3);\n",
    "\n",
    "#plt.hist(dt_1[:,53], bins=np.arange(0,600,1));"
   ]
  },
  {
   "cell_type": "code",
   "execution_count": 20,
   "metadata": {},
   "outputs": [
    {
     "data": {
      "image/png": "[encoded data removed]",
      "text/plain": [
       "<Figure size 432x432 with 1 Axes>"
      ]
     },
     "metadata": {
      "needs_background": "light"
     },
     "output_type": "display_data"
    }
   ],
   "source": [
    "plt.hist(dt_1[:,48], bins=np.arange(0,3000,5), alpha=0.3);\n",
    "#plt.hist(dt_2[:,48], bins=np.arange(0,3000,5), alpha=0.3);\n"
   ]
  },
  {
   "cell_type": "code",
   "execution_count": 52,
   "metadata": {},
   "outputs": [],
   "source": [
    "evt1 = dt_1[0,:3*NPART].reshape(-1,3)"
   ]
  },
  {
   "cell_type": "code",
   "execution_count": 53,
   "metadata": {},
   "outputs": [],
   "source": [
    "evt1[:,0] /= np.sum(evt1[:,0])"
   ]
  },
  {
   "cell_type": "code",
   "execution_count": 54,
   "metadata": {},
   "outputs": [
    {
     "data": {
      "text/plain": [
       "1.0"
      ]
     },
     "execution_count": 54,
     "metadata": {},
     "output_type": "execute_result"
    }
   ],
   "source": [
    "np.sum(evt1[:,0])"
   ]
  },
  {
   "cell_type": "code",
   "execution_count": 55,
   "metadata": {},
   "outputs": [],
   "source": [
    "def plot_event(pfcands):\n",
    "\n",
    "    pt = pfcands[:,0]\n",
    "    eta = pfcands[:,1]\n",
    "    phi = pfcands[:,2]\n",
    "    fig = plt.figure()\n",
    "    ax = fig.add_subplot(1,1,1)\n",
    "    ax.scatter(eta,phi,s=pt*1000, alpha=0.2)\n",
    "    ax.set_xlabel('eta')\n",
    "    ax.set_ylabel('phi')\n",
    "    ax.set_xlim([-4,4])\n",
    "    ax.set_ylim([-4,4])\n",
    "    #fig.savefig(f'{path}/{name}.png')"
   ]
  },
  {
   "cell_type": "code",
   "execution_count": 56,
   "metadata": {},
   "outputs": [
    {
     "data": {
      "image/png": "[encoded data removed]",
      "text/plain": [
       "<Figure size 432x432 with 1 Axes>"
      ]
     },
     "metadata": {
      "needs_background": "light"
     },
     "output_type": "display_data"
    }
   ],
   "source": [
    "plot_event(evt1.reshape(-1,3))"
   ]
  },
  {
   "cell_type": "code",
   "execution_count": null,
   "metadata": {},
   "outputs": [],
   "source": []
  }
 ],
 "metadata": {
  "kernelspec": {
   "display_name": "studies",
   "language": "python",
   "name": "studies"
  },
  "language_info": {
   "codemirror_mode": {
    "name": "ipython",
    "version": 3
   },
   "file_extension": ".py",
   "mimetype": "text/x-python",
   "name": "python",
   "nbconvert_exporter": "python",
   "pygments_lexer": "ipython3",
   "version": "3.8.12"
  }
 },
 "nbformat": 4,
 "nbformat_minor": 4
}
