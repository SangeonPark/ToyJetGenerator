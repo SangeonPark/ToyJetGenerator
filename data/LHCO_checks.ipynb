{
 "cells": [
  {
   "cell_type": "code",
   "execution_count": 1,
   "metadata": {},
   "outputs": [],
   "source": [
    "%load_ext autoreload\n",
    "%autoreload 2"
   ]
  },
  {
   "cell_type": "code",
   "execution_count": 2,
   "metadata": {},
   "outputs": [],
   "source": [
    "import pandas as pd\n",
    "import numpy as np\n",
    "import sys"
   ]
  },
  {
   "cell_type": "code",
   "execution_count": 101,
   "metadata": {},
   "outputs": [],
   "source": [
    "%matplotlib inline\n",
    "import matplotlib.pyplot as plt\n",
    "plt.rcParams[\"figure.figsize\"] = (6,6)\n",
    "plt.rcParams.update({'font.size': 14})"
   ]
  },
  {
   "cell_type": "code",
   "execution_count": 4,
   "metadata": {},
   "outputs": [],
   "source": [
    "NPART = 16"
   ]
  },
  {
   "cell_type": "code",
   "execution_count": 5,
   "metadata": {},
   "outputs": [],
   "source": [
    "def fix_phi(phi):\n",
    "    phi %= (2*np.pi)\n",
    "    if phi > np.pi:\n",
    "        phi -= 2*np.pi\n",
    "    return phi"
   ]
  },
  {
   "cell_type": "code",
   "execution_count": 6,
   "metadata": {},
   "outputs": [],
   "source": [
    "fix_phi_vec = np.vectorize(fix_phi)"
   ]
  },
  {
   "cell_type": "code",
   "execution_count": 7,
   "metadata": {},
   "outputs": [],
   "source": [
    "df_2p1 = pd.read_hdf(\"/nobackup/users/sangeon/datasets/jetLHCO/LHCO_dijet_2p2p_4500_150_150_16part_jet1.h5\")\n",
    "df_2p2 = pd.read_hdf(\"/nobackup/users/sangeon/datasets/jetLHCO/LHCO_dijet_2p2p_4500_150_150_16part_jet2.h5\")\n",
    "df_3p1 = pd.read_hdf(\"/nobackup/users/sangeon/datasets/jetLHCO/LHCO_dijet_2p2p_4500_300_300_16part_jet1.h5\")\n",
    "df_3p2 = pd.read_hdf(\"/nobackup/users/sangeon/datasets/jetLHCO/LHCO_dijet_2p2p_4500_300_300_16part_jet2.h5\")\n",
    "#df_3p1 = pd.read_hdf(\"/nobackup/users/sangeon/datasets/jetLHCO/LHCO_dijet_2p2p_4000_500_150_16part_jet1.h5\")\n",
    "#df_3p2 = pd.read_hdf(\"/nobackup/users/sangeon/datasets/jetLHCO/LHCO_dijet_2p2p_4000_500_150_16part_jet2.h5\")\n",
    "\n",
    "dt_2p1 = df_2p1.values \n",
    "dt_2p2 = df_2p2.values \n",
    "dt_3p1 = df_3p1.values \n",
    "dt_3p2 = df_3p2.values "
   ]
  },
  {
   "cell_type": "code",
   "execution_count": 35,
   "metadata": {},
   "outputs": [],
   "source": [
    "df_2p1 = pd.read_hdf(\"/nobackup/users/sangeon/datasets/jetLHCO/LHCO_dijet_2p2p_4500_150_150_16part_jet1.h5\")\n",
    "df_2p2 = pd.read_hdf(\"/nobackup/users/sangeon/datasets/jetLHCO/LHCO_dijet_2p2p_4500_150_150_16part_jet2.h5\")\n",
    "df_3p1 = pd.read_hdf(\"/nobackup/users/sangeon/datasets/jetLHCO/LHCO_dijet_3p3p_4500_150_150_16part_jet1.h5\")\n",
    "df_3p2 = pd.read_hdf(\"/nobackup/users/sangeon/datasets/jetLHCO/LHCO_dijet_3p3p_4500_150_150_16part_jet2.h5\")\n",
    "#df_3p1 = pd.read_hdf(\"/nobackup/users/sangeon/datasets/jetLHCO/LHCO_dijet_2p2p_4000_500_150_16part_jet1.h5\")\n",
    "#df_3p2 = pd.read_hdf(\"/nobackup/users/sangeon/datasets/jetLHCO/LHCO_dijet_2p2p_4000_500_150_16part_jet2.h5\")\n",
    "\n",
    "dt_2p1 = df_2p1.values \n",
    "dt_2p2 = df_2p2.values \n",
    "dt_3p1 = df_3p1.values \n",
    "dt_3p2 = df_3p2.values "
   ]
  },
  {
   "cell_type": "code",
   "execution_count": 67,
   "metadata": {},
   "outputs": [],
   "source": [
    "df_2p1 = pd.read_hdf(\"/nobackup/users/sangeon/datasets/jetLHCO/LHCO_dijet_2p2p_3200_300_300_16part_jet1.h5\")\n",
    "df_2p2 = pd.read_hdf(\"/nobackup/users/sangeon/datasets/jetLHCO/LHCO_dijet_2p2p_3200_300_300_16part_jet2.h5\")\n",
    "df_3p1 = pd.read_hdf(\"/nobackup/users/sangeon/datasets/jetLHCO/LHCO_dijet_3p3p_5000_700_700_16part_jet1.h5\")\n",
    "df_3p2 = pd.read_hdf(\"/nobackup/users/sangeon/datasets/jetLHCO/LHCO_dijet_3p3p_5000_700_700_16part_jet2.h5\")\n",
    "#df_3p1 = pd.read_hdf(\"/nobackup/users/sangeon/datasets/jetLHCO/LHCO_dijet_2p2p_4000_500_150_16part_jet1.h5\")\n",
    "#df_3p2 = pd.read_hdf(\"/nobackup/users/sangeon/datasets/jetLHCO/LHCO_dijet_2p2p_4000_500_150_16part_jet2.h5\")\n",
    "\n",
    "dt_2p1 = df_2p1.values \n",
    "dt_2p2 = df_2p2.values \n",
    "dt_3p1 = df_3p1.values \n",
    "dt_3p2 = df_3p2.values "
   ]
  },
  {
   "cell_type": "code",
   "execution_count": 60,
   "metadata": {},
   "outputs": [],
   "source": [
    "sys.path.insert(0,'../training')\n",
    "from manifoldembedder import JetDataset, JetPredictDataset\n",
    "from torch.utils.data import DataLoader, random_split"
   ]
  },
  {
   "cell_type": "code",
   "execution_count": 61,
   "metadata": {},
   "outputs": [
    {
     "data": {
      "text/plain": [
       "(array([2.1950e+03, 1.1464e+04, 1.7419e+04, 1.7248e+04, 1.6236e+04,\n",
       "        1.7017e+04, 1.4100e+04, 4.1530e+03, 1.5600e+02, 1.2000e+01]),\n",
       " array([  96.53645648,  402.72716261,  708.91786873, 1015.10857485,\n",
       "        1321.29928098, 1627.4899871 , 1933.68069322, 2239.87139934,\n",
       "        2546.06210547, 2852.25281159, 3158.44351771]),\n",
       " <BarContainer object of 10 artists>)"
      ]
     },
     "execution_count": 61,
     "metadata": {},
     "output_type": "execute_result"
    },
    {
     "data": {
      "image/png": "[encoded data removed]",
      "text/plain": [
       "<Figure size 432x432 with 1 Axes>"
      ]
     },
     "metadata": {
      "needs_background": "light"
     },
     "output_type": "display_data"
    }
   ],
   "source": [
    "plt.hist(dt_2p1[:,48], alpha=0.4)\n",
    "plt.hist(dt_2p2[:,48], alpha=0.4)\n",
    "\n",
    "plt.hist(dt_3p1[:,48], alpha=0.4)\n",
    "plt.hist(dt_3p2[:,48], alpha=0.4)"
   ]
  },
  {
   "cell_type": "code",
   "execution_count": 69,
   "metadata": {},
   "outputs": [
    {
     "data": {
      "text/plain": [
       "(array([1353., 1236., 1068.,  880.,  662.,  425.,  289.,  175.,  104.,\n",
       "          58.]),\n",
       " array([600.02476574, 619.96999967, 639.9152336 , 659.86046753,\n",
       "        679.80570146, 699.75093539, 719.69616932, 739.64140325,\n",
       "        759.58663719, 779.53187112, 799.47710505]),\n",
       " <BarContainer object of 10 artists>)"
      ]
     },
     "execution_count": 69,
     "metadata": {},
     "output_type": "execute_result"
    },
    {
     "data": {
      "image/png": "[encoded data removed]",
      "text/plain": [
       "<Figure size 432x432 with 1 Axes>"
      ]
     },
     "metadata": {
      "needs_background": "light"
     },
     "output_type": "display_data"
    }
   ],
   "source": [
    "plt.hist(dt_2p1[:,51], alpha=0.4)\n",
    "plt.hist(dt_2p2[:,51], alpha=0.4)\n",
    "plt.hist(dt_3p1[:,51], alpha=0.4)\n",
    "plt.hist(dt_3p2[:,51], alpha=0.4)"
   ]
  },
  {
   "cell_type": "code",
   "execution_count": 11,
   "metadata": {},
   "outputs": [],
   "source": [
    "dt_2p1 = dt_2p1[dt_2p1[:,51]>400]\n",
    "dt_2p2 = dt_2p2[dt_2p2[:,51]>400]\n",
    "dt_3p1 = dt_3p1[dt_3p1[:,51]>400]\n",
    "dt_3p2 = dt_3p2[dt_3p2[:,51]>400]"
   ]
  },
  {
   "cell_type": "code",
   "execution_count": 38,
   "metadata": {},
   "outputs": [],
   "source": [
    "dt_2p1 = dt_2p1[(dt_2p1[:,51]<200) & (dt_2p1[:,51]>100)]\n",
    "dt_2p2 = dt_2p2[(dt_2p2[:,51]<200) & (dt_2p2[:,51]>100)]\n",
    "dt_3p1 = dt_3p1[(dt_3p1[:,51]<200) & (dt_3p1[:,51]>100)]\n",
    "dt_3p2 = dt_3p2[(dt_3p2[:,51]<200) & (dt_3p2[:,51]>100)]"
   ]
  },
  {
   "cell_type": "code",
   "execution_count": 68,
   "metadata": {},
   "outputs": [],
   "source": [
    "dt_2p1 = dt_2p1[(dt_2p1[:,51]<400) & (dt_2p1[:,51]>200)]\n",
    "dt_2p2 = dt_2p2[(dt_2p2[:,51]<400) & (dt_2p2[:,51]>200)]\n",
    "dt_3p1 = dt_3p1[(dt_3p1[:,51]<800) & (dt_3p1[:,51]>600)]\n",
    "dt_3p2 = dt_3p2[(dt_3p2[:,51]<800) & (dt_3p2[:,51]>600)]"
   ]
  },
  {
   "cell_type": "code",
   "execution_count": null,
   "metadata": {},
   "outputs": [],
   "source": [
    "dt_2p1 = dt_2p1[dt_2p1[:,51]>400]\n",
    "dt_2p2 = dt_2p2[dt_2p2[:,51]>400]\n",
    "dt_3p1 = dt_3p1[(dt_3p1[:,51]<200) & (dt_3p1[:,51]>100)]\n",
    "dt_3p2 = dt_3p2[(dt_3p2[:,51]<200) & (dt_3p2[:,51]>100)]"
   ]
  },
  {
   "cell_type": "code",
   "execution_count": 64,
   "metadata": {},
   "outputs": [],
   "source": [
    "dt_2p1 = dt_2p1[(dt_2p1[:,48]>1000)&(dt_2p1[:,48]<1200)]\n",
    "dt_2p2 = dt_2p2[(dt_2p2[:,48]>1000)&(dt_2p2[:,48]<1200)]\n",
    "dt_3p1 = dt_3p1[(dt_3p1[:,48]>1000)&(dt_3p1[:,48]<1200)]\n",
    "dt_3p2 = dt_3p2[(dt_3p2[:,48]>1000)&(dt_3p2[:,48]<1200)]"
   ]
  },
  {
   "cell_type": "code",
   "execution_count": 40,
   "metadata": {},
   "outputs": [],
   "source": [
    "dt_2p1 = dt_2p1[(dt_2p1[:,48]>1700)&(dt_2p1[:,48]<1900)]\n",
    "dt_2p2 = dt_2p2[(dt_2p2[:,48]>1700)&(dt_2p2[:,48]<1900)]\n",
    "dt_3p1 = dt_3p1[(dt_3p1[:,48]>1700)&(dt_3p1[:,48]<1900)]\n",
    "dt_3p2 = dt_3p2[(dt_3p2[:,48]>1700)&(dt_3p2[:,48]<1900)]"
   ]
  },
  {
   "cell_type": "code",
   "execution_count": 170,
   "metadata": {},
   "outputs": [],
   "source": [
    "dt_2p1 = dt_2p1[(dt_2p1[:,48]>1500)&(dt_2p1[:,48]<1600)]\n",
    "dt_2p2 = dt_2p2[(dt_2p2[:,48]>1500)&(dt_2p2[:,48]<1600)]\n",
    "dt_3p1 = dt_3p1[(dt_3p1[:,48]>1900)&(dt_3p1[:,48]<2000)]\n",
    "dt_3p2 = dt_3p2[(dt_3p2[:,48]>1900)&(dt_3p2[:,48]<2000)]"
   ]
  },
  {
   "cell_type": "code",
   "execution_count": 70,
   "metadata": {},
   "outputs": [
    {
     "data": {
      "text/plain": [
       "(array([   3.,  109.,  526., 1212., 1953., 1815.,  561.,   53.,   15.,\n",
       "           3.]),\n",
       " array([1198.14673249, 1387.94359633, 1577.74046016, 1767.537324  ,\n",
       "        1957.33418784, 2147.13105168, 2336.92791551, 2526.72477935,\n",
       "        2716.52164319, 2906.31850703, 3096.11537087]),\n",
       " <BarContainer object of 10 artists>)"
      ]
     },
     "execution_count": 70,
     "metadata": {},
     "output_type": "execute_result"
    },
    {
     "data": {
      "image/png": "[encoded data removed]",
      "text/plain": [
       "<Figure size 432x432 with 1 Axes>"
      ]
     },
     "metadata": {
      "needs_background": "light"
     },
     "output_type": "display_data"
    }
   ],
   "source": [
    "plt.hist(dt_2p1[:,48], alpha=0.4)\n",
    "plt.hist(dt_2p2[:,48], alpha=0.4)\n",
    "plt.hist(dt_3p1[:,48], alpha=0.4)\n",
    "plt.hist(dt_3p2[:,48], alpha=0.4)"
   ]
  },
  {
   "cell_type": "code",
   "execution_count": 71,
   "metadata": {},
   "outputs": [
    {
     "name": "stdout",
     "output_type": "stream",
     "text": [
      "(90400, 54)\n",
      "(77171, 54)\n",
      "(27402, 54)\n",
      "(6250, 54)\n"
     ]
    }
   ],
   "source": [
    "print(dt_2p1.shape)\n",
    "print(dt_2p2.shape)\n",
    "print(dt_3p1.shape)\n",
    "print(dt_3p2.shape)"
   ]
  },
  {
   "cell_type": "code",
   "execution_count": 72,
   "metadata": {},
   "outputs": [
    {
     "data": {
      "text/plain": [
       "(1000, 54)"
      ]
     },
     "execution_count": 72,
     "metadata": {},
     "output_type": "execute_result"
    }
   ],
   "source": [
    "dt_2p1[:1000].shape"
   ]
  },
  {
   "cell_type": "code",
   "execution_count": 73,
   "metadata": {},
   "outputs": [
    {
     "name": "stderr",
     "output_type": "stream",
     "text": [
      "100%|██████████| 10/10 [00:09<00:00,  1.01it/s]\n"
     ]
    }
   ],
   "source": [
    "set_2p2p = JetDataset(False, None, False, dt_2p1[:1000],dt_2p1[1000:2000],16)"
   ]
  },
  {
   "cell_type": "code",
   "execution_count": 74,
   "metadata": {},
   "outputs": [
    {
     "name": "stderr",
     "output_type": "stream",
     "text": [
      "100%|██████████| 10/10 [00:09<00:00,  1.01it/s]\n"
     ]
    }
   ],
   "source": [
    "set_2p3p = JetDataset(False, None, False, dt_2p1[2000:3000],dt_3p1[:1000],16)"
   ]
  },
  {
   "cell_type": "code",
   "execution_count": 75,
   "metadata": {},
   "outputs": [
    {
     "name": "stderr",
     "output_type": "stream",
     "text": [
      "100%|██████████| 10/10 [00:09<00:00,  1.01it/s]\n"
     ]
    }
   ],
   "source": [
    "set_3p3p = JetDataset(False, None, False, dt_3p1[1000:2000],dt_3p1[2000:3000],16)"
   ]
  },
  {
   "cell_type": "code",
   "execution_count": 76,
   "metadata": {},
   "outputs": [],
   "source": [
    "loader = DataLoader(set_2p3p, batch_size=500,shuffle=False,num_workers=4)\n",
    "\n",
    "loader2 = DataLoader(set_2p2p, batch_size=500,shuffle=False,num_workers=4)\n",
    "\n",
    "loader3 = DataLoader(set_3p3p, batch_size=500,shuffle=False,num_workers=4)"
   ]
  },
  {
   "cell_type": "code",
   "execution_count": 77,
   "metadata": {},
   "outputs": [],
   "source": [
    "emd = np.array([])\n",
    "x_1 = np.empty([0, 16, 3])\n",
    "y_1 = np.empty([0, 16, 3])\n",
    "for x,y,dist in loader:\n",
    "    x_1 = np.concatenate([x_1, x.data.numpy()])\n",
    "    y_1 = np.concatenate([y_1, y.data.numpy()])\n",
    "    emd = np.concatenate([emd,dist.data.numpy()])\n",
    "    \n",
    "emd2 = np.array([])\n",
    "for x,y,dist in loader2:\n",
    "    emd2 = np.concatenate([emd2,dist.data.numpy()])\n",
    "\n",
    "emd3 = np.array([])\n",
    "for x,y,dist in loader3:\n",
    "    emd3 = np.concatenate([emd3,dist.data.numpy()])"
   ]
  },
  {
   "cell_type": "code",
   "execution_count": 78,
   "metadata": {},
   "outputs": [],
   "source": [
    "x_1 = x_1[:,:,[2, 0, 1]]\n",
    "y_1 = y_1[:,:,[2, 0, 1]]"
   ]
  },
  {
   "cell_type": "code",
   "execution_count": 79,
   "metadata": {},
   "outputs": [
    {
     "data": {
      "text/plain": [
       "(1000, 16, 3)"
      ]
     },
     "execution_count": 79,
     "metadata": {},
     "output_type": "execute_result"
    }
   ],
   "source": [
    "x_1.shape"
   ]
  },
  {
   "cell_type": "code",
   "execution_count": 80,
   "metadata": {},
   "outputs": [
    {
     "data": {
      "text/plain": [
       "(array([207., 342., 216., 128.,  60.,  24.,  14.,   3.,   2.,   4.]),\n",
       " array([0.0545773 , 0.11536812, 0.17615895, 0.23694977, 0.2977406 ,\n",
       "        0.35853142, 0.41932224, 0.48011307, 0.54090389, 0.60169472,\n",
       "        0.66248554]),\n",
       " <BarContainer object of 10 artists>)"
      ]
     },
     "execution_count": 80,
     "metadata": {},
     "output_type": "execute_result"
    },
    {
     "data": {
      "image/png": "[encoded data removed]",
      "text/plain": [
       "<Figure size 432x432 with 1 Axes>"
      ]
     },
     "metadata": {
      "needs_background": "light"
     },
     "output_type": "display_data"
    }
   ],
   "source": [
    "plt.hist(x_1[:,0,0])\n",
    "plt.hist(y_1[:,0,0])"
   ]
  },
  {
   "cell_type": "code",
   "execution_count": 120,
   "metadata": {},
   "outputs": [
    {
     "data": {
      "image/png": "[encoded data removed]",
      "text/plain": [
       "<Figure size 432x432 with 1 Axes>"
      ]
     },
     "metadata": {
      "needs_background": "light"
     },
     "output_type": "display_data"
    }
   ],
   "source": [
    "plt.rcParams[\"figure.figsize\"] = (6,6)\n",
    "plt.hist(emd, bins=np.arange(0,.5,0.01),alpha=0.2, label='2p3p');\n",
    "plt.hist(emd2, bins=np.arange(0,.5,0.01),alpha=0.2, label='2p2p');\n",
    "#plt.hist(emd3, bins=np.arange(0,.5,0.01),alpha=0.2, label='3p3p');\n",
    "plt.legend()\n",
    "plt.savefig('../figures/EMD_LHCO_2p_3p.png')"
   ]
  },
  {
   "cell_type": "code",
   "execution_count": 93,
   "metadata": {},
   "outputs": [],
   "source": [
    "def plot_multiple_jets(ax, pfcands, index):\n",
    "\n",
    "    pt = pfcands[:,0]\n",
    "    eta = pfcands[:,1]\n",
    "    phi = pfcands[:,2]\n",
    "    #fig = plt.figure()\n",
    "    #ax = fig.add_subplot(1,1,1)\n",
    "    ax[index].scatter(eta,phi,s=pt*1000, alpha=0.2)\n",
    "    #ax.set_xlabel('deta')\n",
    "    #ax.set_ylabel('dphi')\n",
    "    ax[index].set_xlim([-1.5,1.5])\n",
    "    ax[index].set_ylim([-1.5,1.5])"
   ]
  },
  {
   "cell_type": "code",
   "execution_count": 82,
   "metadata": {},
   "outputs": [],
   "source": [
    "def plot_jet(pfcands):\n",
    "\n",
    "    pt = pfcands[:,0]\n",
    "    eta = pfcands[:,1]\n",
    "    phi = pfcands[:,2]\n",
    "    fig = plt.figure()\n",
    "    ax = fig.add_subplot(1,1,1)\n",
    "    ax.scatter(eta,phi,s=pt*1000, alpha=0.2)\n",
    "    ax.set_xlabel('deta')\n",
    "    ax.set_ylabel('dphi')\n",
    "    ax.set_xlim([-1.5,1.5])\n",
    "    ax.set_ylim([-1.5,1.5])\n",
    "    #fig.savefig(f'{path}/{name}.png')"
   ]
  },
  {
   "cell_type": "code",
   "execution_count": 117,
   "metadata": {},
   "outputs": [
    {
     "data": {
      "image/png": "[encoded data removed]",
      "text/plain": [
       "<Figure size 1296x1080 with 30 Axes>"
      ]
     },
     "metadata": {
      "needs_background": "light"
     },
     "output_type": "display_data"
    }
   ],
   "source": [
    "plt.rcParams[\"figure.figsize\"] = (18,15)\n",
    "plt.rcParams.update({'font.size': 14})\n",
    "fig, axs = plt.subplots(5, 6, sharex=True, sharey=True)\n",
    "axs = axs.ravel()\n",
    "for i in range(30):\n",
    "    plot_multiple_jets(axs, x_1[i], i)\n",
    "fig.savefig('../figures/twoprong.png')"
   ]
  },
  {
   "cell_type": "code",
   "execution_count": 118,
   "metadata": {},
   "outputs": [
    {
     "data": {
      "image/png": "[encoded data removed]",
      "text/plain": [
       "<Figure size 1296x1080 with 30 Axes>"
      ]
     },
     "metadata": {
      "needs_background": "light"
     },
     "output_type": "display_data"
    }
   ],
   "source": [
    "plt.rcParams[\"figure.figsize\"] = (18,15)\n",
    "plt.rcParams.update({'font.size': 14})\n",
    "fig, axs = plt.subplots(5, 6, sharex=True, sharey=True)\n",
    "axs = axs.ravel()\n",
    "for i in range(30):\n",
    "    plot_multiple_jets(axs, y_1[i], i)\n",
    "fig.savefig('../figures/threeprong.png')"
   ]
  },
  {
   "cell_type": "code",
   "execution_count": 103,
   "metadata": {},
   "outputs": [],
   "source": [
    "axs = axs.ravel()"
   ]
  },
  {
   "cell_type": "code",
   "execution_count": 104,
   "metadata": {},
   "outputs": [
    {
     "data": {
      "text/plain": [
       "array([<AxesSubplot:>, <AxesSubplot:>, <AxesSubplot:>, <AxesSubplot:>,\n",
       "       <AxesSubplot:>, <AxesSubplot:>], dtype=object)"
      ]
     },
     "execution_count": 104,
     "metadata": {},
     "output_type": "execute_result"
    }
   ],
   "source": [
    "axs"
   ]
  },
  {
   "cell_type": "code",
   "execution_count": 105,
   "metadata": {},
   "outputs": [],
   "source": [
    "plot_multiple_jets(axs, x_1[0], 0)"
   ]
  },
  {
   "cell_type": "code",
   "execution_count": 107,
   "metadata": {},
   "outputs": [],
   "source": [
    "fig.show()"
   ]
  },
  {
   "cell_type": "code",
   "execution_count": null,
   "metadata": {},
   "outputs": [],
   "source": []
  },
  {
   "cell_type": "code",
   "execution_count": 83,
   "metadata": {},
   "outputs": [
    {
     "data": {
      "text/plain": [
       "(16, 3)"
      ]
     },
     "execution_count": 83,
     "metadata": {},
     "output_type": "execute_result"
    }
   ],
   "source": [
    "x_1[0].shape"
   ]
  },
  {
   "cell_type": "code",
   "execution_count": 84,
   "metadata": {},
   "outputs": [
    {
     "data": {
      "text/plain": [
       "array([[ 0.16262202,  0.05342861,  0.30591914],\n",
       "       [ 0.13864116,  0.04926492,  0.3533119 ],\n",
       "       [ 0.08191486, -0.06054896, -0.32965937],\n",
       "       [ 0.04799383,  0.11834479, -0.48983178],\n",
       "       [ 0.04209786,  0.0492279 , -0.38817337],\n",
       "       [ 0.03769862, -0.10139757,  0.27064151],\n",
       "       [ 0.03284574,  0.11492231, -0.47692662],\n",
       "       [ 0.03248452,  0.07216066,  0.30201539],\n",
       "       [ 0.01859029, -0.03566883, -0.2982434 ],\n",
       "       [ 0.01429144,  0.08750199,  0.31425133],\n",
       "       [ 0.01374706, -0.0421227 , -0.30234197],\n",
       "       [ 0.01353783,  0.08411156, -0.32151327],\n",
       "       [ 0.01344722, -0.08426432,  0.26512334],\n",
       "       [ 0.01226505,  0.0901777 , -0.32224128],\n",
       "       [ 0.01192478,  0.00713212, -0.37336117],\n",
       "       [ 0.01134671,  0.031836  , -0.35807967]])"
      ]
     },
     "execution_count": 84,
     "metadata": {},
     "output_type": "execute_result"
    }
   ],
   "source": [
    "y_1[4]"
   ]
  },
  {
   "cell_type": "code",
   "execution_count": 85,
   "metadata": {},
   "outputs": [
    {
     "data": {
      "image/png": "[encoded data removed]",
      "text/plain": [
       "<Figure size 432x432 with 1 Axes>"
      ]
     },
     "metadata": {
      "needs_background": "light"
     },
     "output_type": "display_data"
    }
   ],
   "source": [
    "plot_jet(y_1[4])"
   ]
  },
  {
   "cell_type": "code",
   "execution_count": 87,
   "metadata": {},
   "outputs": [
    {
     "data": {
      "image/png": "[encoded data removed]",
      "text/plain": [
       "<Figure size 432x432 with 1 Axes>"
      ]
     },
     "metadata": {
      "needs_background": "light"
     },
     "output_type": "display_data"
    }
   ],
   "source": [
    "plot_jet(x_1[0])"
   ]
  },
  {
   "cell_type": "code",
   "execution_count": 58,
   "metadata": {},
   "outputs": [
    {
     "data": {
      "image/png": "[encoded data removed]",
      "text/plain": [
       "<Figure size 432x432 with 1 Axes>"
      ]
     },
     "metadata": {
      "needs_background": "light"
     },
     "output_type": "display_data"
    }
   ],
   "source": [
    "plot_jet(x_1[6])"
   ]
  },
  {
   "cell_type": "code",
   "execution_count": 129,
   "metadata": {},
   "outputs": [],
   "source": [
    "sys.path.insert(0,'../optimal_transport')\n",
    "from emdloss import *\n"
   ]
  },
  {
   "cell_type": "code",
   "execution_count": null,
   "metadata": {},
   "outputs": [],
   "source": []
  },
  {
   "cell_type": "code",
   "execution_count": null,
   "metadata": {},
   "outputs": [],
   "source": []
  },
  {
   "cell_type": "code",
   "execution_count": null,
   "metadata": {},
   "outputs": [],
   "source": []
  },
  {
   "cell_type": "code",
   "execution_count": 37,
   "metadata": {},
   "outputs": [],
   "source": [
    "df_1 = pd.read_hdf(\"/nobackup/users/sangeon/datasets/jetLHCO/LHCO_dijet_2p2p_4000_500_150_16part_jet1.h5\")\n",
    "df_2 = pd.read_hdf(\"/nobackup/users/sangeon/datasets/jetLHCO/LHCO_dijet_3p3p_6000_700_700_16part_jet1.h5\")\n",
    "\n",
    "dt_1 = df_1.values\n",
    "dt_2 = df_2.values"
   ]
  },
  {
   "cell_type": "code",
   "execution_count": 43,
   "metadata": {},
   "outputs": [],
   "source": [
    "def process_jet_data(temp):\n",
    "    pt = temp[:,48]\n",
    "    eta = temp[:,49]\n",
    "    phi = temp[:,50]\n",
    "    print(phi[:10])\n",
    "    #temp[:,:48].reshape(-1, 16, 3)[:,:,0] /= pt.reshape(-1,1)\n",
    "    temp[:,:48].reshape(-1, 16, 3)[:,:,0] /= np.sum(temp[:,:48].reshape(-1, 16, 3)[:,:,0], axis=1).reshape(-1, 1)\n",
    "    \n",
    "    temp[:,:48].reshape(-1, 16, 3)[:,:,1] -= eta.reshape(-1,1)\n",
    "    #print(temp[:,:48].reshape(-1, 16, 3)[:10,0,2])\n",
    "    temp[:,:48].reshape(-1, 16, 3)[:,:,2] = fix_phi_vec(temp[:,:48].reshape(-1, 16, 3)[:,:,2] - phi.reshape(-1,1) )\n",
    "    #print(temp[:,:48].reshape(-1, 16, 3)[:10,0,2])\n",
    "\n",
    "    return None\n"
   ]
  },
  {
   "cell_type": "code",
   "execution_count": 39,
   "metadata": {},
   "outputs": [
    {
     "name": "stdout",
     "output_type": "stream",
     "text": [
      "[-0.28288255 -1.88601718 -3.0325504   1.88479179 -1.3634441   0.11449027\n",
      "  2.11377374 -2.73808232 -1.37712454 -2.73482919]\n"
     ]
    }
   ],
   "source": [
    "process_jet_data(dt_1)"
   ]
  },
  {
   "cell_type": "code",
   "execution_count": 40,
   "metadata": {},
   "outputs": [
    {
     "data": {
      "text/plain": [
       "array([1., 1., 1., ..., 1., 1., 1.])"
      ]
     },
     "execution_count": 40,
     "metadata": {},
     "output_type": "execute_result"
    }
   ],
   "source": [
    "np.sum(dt_1[:,:48].reshape(-1,16,3)[:,:,0],axis=1)"
   ]
  },
  {
   "cell_type": "code",
   "execution_count": 42,
   "metadata": {},
   "outputs": [],
   "source": [
    "def draw_vector(v0, v1, ax=None):\n",
    "    ax = ax or plt.gca()\n",
    "    arrowprops=dict(arrowstyle='->',\n",
    "                    linewidth=2,\n",
    "                    shrinkA=0, shrinkB=0)\n",
    "    ax.annotate('', v1, v0, arrowprops=arrowprops)"
   ]
  },
  {
   "cell_type": "code",
   "execution_count": 11,
   "metadata": {},
   "outputs": [],
   "source": [
    "def plot_jet(pfcands):\n",
    "\n",
    "    pt = pfcands[:,0]\n",
    "    eta = pfcands[:,1]\n",
    "    phi = pfcands[:,2]\n",
    "    fig = plt.figure()\n",
    "    ax = fig.add_subplot(1,1,1)\n",
    "    ax.scatter(eta,phi,s=pt*1000, alpha=0.2)\n",
    "    ax.set_xlabel('deta')\n",
    "    ax.set_ylabel('dphi')\n",
    "    ax.set_xlim([-1.5,1.5])\n",
    "    ax.set_ylim([-1.5,1.5])\n",
    "    #fig.savefig(f'{path}/{name}.png')"
   ]
  },
  {
   "cell_type": "code",
   "execution_count": 12,
   "metadata": {},
   "outputs": [
    {
     "data": {
      "text/plain": [
       "array([0.19485613, 0.16618666, 0.12557794, 0.08462045, 0.05815355,\n",
       "       0.03981882, 0.03867688, 0.03743095, 0.03553191, 0.03488517,\n",
       "       0.03486259, 0.02078175, 0.02061202, 0.01276068, 0.01222775,\n",
       "       0.01019689])"
      ]
     },
     "execution_count": 12,
     "metadata": {},
     "output_type": "execute_result"
    }
   ],
   "source": [
    "dt_1[0,:48].reshape(-1,3)[:, 0]"
   ]
  },
  {
   "cell_type": "code",
   "execution_count": 14,
   "metadata": {},
   "outputs": [],
   "source": [
    "%load_ext autoreload\n",
    "%autoreload 2"
   ]
  },
  {
   "cell_type": "code",
   "execution_count": 48,
   "metadata": {},
   "outputs": [],
   "source": [
    "def process_jet_data_all(temp):\n",
    "    pt = temp[:,48]\n",
    "    eta = temp[:,49]\n",
    "    phi = temp[:,50]\n",
    "    #print(phi[:10])\n",
    "    temp[:,:48].reshape(-1, 16, 3)[:,:,0] /= pt.reshape(-1,1)\n",
    "    #temp[:,:48].reshape(-1, 16, 3)[:,:,0] /= np.sum(temp[:,:48].reshape(-1, 16, 3)[:,:,0])\n",
    "    \n",
    "    temp[:,:48].reshape(-1, 16, 3)[:,:,1] -= eta.reshape(-1,1)\n",
    "    #print(temp[:,:48].reshape(-1, 16, 3)[:10,0,2])\n",
    "    temp[:,:48].reshape(-1, 16, 3)[:,:,2] = fix_phi_vec(temp[:,:48].reshape(-1, 16, 3)[:,:,2] - phi.reshape(-1,1) )\n",
    "    #print(temp[:,:48].reshape(-1, 16, 3)[:10,0,2])\n",
    "    temp2 = np.apply_along_axis(rotate_eig, 1, temp, 16)\n",
    "\n",
    "    return temp2"
   ]
  },
  {
   "cell_type": "code",
   "execution_count": 49,
   "metadata": {},
   "outputs": [],
   "source": [
    "dt_1 = dt_1[dt_1[:,51]>300]"
   ]
  },
  {
   "cell_type": "code",
   "execution_count": 50,
   "metadata": {},
   "outputs": [],
   "source": [
    "dt_1 = process_jet_data_all(dt_1)"
   ]
  },
  {
   "cell_type": "code",
   "execution_count": 224,
   "metadata": {},
   "outputs": [
    {
     "ename": "NameError",
     "evalue": "name 'dt_1' is not defined",
     "output_type": "error",
     "traceback": [
      "\u001b[0;31m---------------------------------------------------------------------------\u001b[0m",
      "\u001b[0;31mNameError\u001b[0m                                 Traceback (most recent call last)",
      "\u001b[0;32m/tmp/ipykernel_2222752/3216008787.py\u001b[0m in \u001b[0;36m<module>\u001b[0;34m\u001b[0m\n\u001b[0;32m----> 1\u001b[0;31m \u001b[0mprint\u001b[0m\u001b[0;34m(\u001b[0m\u001b[0mdt_1\u001b[0m\u001b[0;34m)\u001b[0m\u001b[0;34m\u001b[0m\u001b[0;34m\u001b[0m\u001b[0m\n\u001b[0m",
      "\u001b[0;31mNameError\u001b[0m: name 'dt_1' is not defined"
     ]
    }
   ],
   "source": [
    "print(dt_1)"
   ]
  },
  {
   "cell_type": "code",
   "execution_count": 32,
   "metadata": {},
   "outputs": [
    {
     "data": {
      "text/plain": [
       "array([[0.19485613, 0.16618666, 0.12557794, 0.08462045, 0.05815355,\n",
       "        0.03981882, 0.03867688, 0.03743095, 0.03553191, 0.03488517,\n",
       "        0.03486259, 0.02078175, 0.02061202, 0.01276068, 0.01222775,\n",
       "        0.01019689]])"
      ]
     },
     "execution_count": 32,
     "metadata": {},
     "output_type": "execute_result"
    }
   ],
   "source": [
    "dt_1[0,:48].reshape(-1,16,3)[:,:,0]"
   ]
  },
  {
   "cell_type": "code",
   "execution_count": 40,
   "metadata": {},
   "outputs": [],
   "source": [
    "dt_1 = dt_1[dt_1[:,51]>300]"
   ]
  },
  {
   "cell_type": "code",
   "execution_count": 41,
   "metadata": {},
   "outputs": [
    {
     "data": {
      "text/plain": [
       "(38394, 54)"
      ]
     },
     "execution_count": 41,
     "metadata": {},
     "output_type": "execute_result"
    }
   ],
   "source": [
    "dt_1.shape"
   ]
  },
  {
   "cell_type": "code",
   "execution_count": 45,
   "metadata": {},
   "outputs": [
    {
     "ename": "TypeError",
     "evalue": "rotate_eig() missing 1 required positional argument: 'num_part'",
     "output_type": "error",
     "traceback": [
      "\u001b[0;31m---------------------------------------------------------------------------\u001b[0m",
      "\u001b[0;31mTypeError\u001b[0m                                 Traceback (most recent call last)",
      "\u001b[0;32m/tmp/ipykernel_2202207/259189279.py\u001b[0m in \u001b[0;36m<module>\u001b[0;34m\u001b[0m\n\u001b[0;32m----> 1\u001b[0;31m \u001b[0mdt_1\u001b[0m \u001b[0;34m=\u001b[0m \u001b[0mnp\u001b[0m\u001b[0;34m.\u001b[0m\u001b[0mapply_along_axis\u001b[0m\u001b[0;34m(\u001b[0m\u001b[0mrotate_eig\u001b[0m\u001b[0;34m,\u001b[0m \u001b[0;36m1\u001b[0m\u001b[0;34m,\u001b[0m \u001b[0mdt_1\u001b[0m\u001b[0;34m)\u001b[0m\u001b[0;34m\u001b[0m\u001b[0;34m\u001b[0m\u001b[0m\n\u001b[0m",
      "\u001b[0;32m<__array_function__ internals>\u001b[0m in \u001b[0;36mapply_along_axis\u001b[0;34m(*args, **kwargs)\u001b[0m\n",
      "\u001b[0;32m/nobackup/users/sangeon/condas/anaconda3/envs/studies/lib/python3.8/site-packages/numpy/lib/shape_base.py\u001b[0m in \u001b[0;36mapply_along_axis\u001b[0;34m(func1d, axis, arr, *args, **kwargs)\u001b[0m\n\u001b[1;32m    377\u001b[0m             \u001b[0;34m'Cannot apply_along_axis when any iteration dimensions are 0'\u001b[0m\u001b[0;34m\u001b[0m\u001b[0;34m\u001b[0m\u001b[0m\n\u001b[1;32m    378\u001b[0m         ) from None\n\u001b[0;32m--> 379\u001b[0;31m     \u001b[0mres\u001b[0m \u001b[0;34m=\u001b[0m \u001b[0masanyarray\u001b[0m\u001b[0;34m(\u001b[0m\u001b[0mfunc1d\u001b[0m\u001b[0;34m(\u001b[0m\u001b[0minarr_view\u001b[0m\u001b[0;34m[\u001b[0m\u001b[0mind0\u001b[0m\u001b[0;34m]\u001b[0m\u001b[0;34m,\u001b[0m \u001b[0;34m*\u001b[0m\u001b[0margs\u001b[0m\u001b[0;34m,\u001b[0m \u001b[0;34m**\u001b[0m\u001b[0mkwargs\u001b[0m\u001b[0;34m)\u001b[0m\u001b[0;34m)\u001b[0m\u001b[0;34m\u001b[0m\u001b[0;34m\u001b[0m\u001b[0m\n\u001b[0m\u001b[1;32m    380\u001b[0m \u001b[0;34m\u001b[0m\u001b[0m\n\u001b[1;32m    381\u001b[0m     \u001b[0;31m# build a buffer for storing evaluations of func1d.\u001b[0m\u001b[0;34m\u001b[0m\u001b[0;34m\u001b[0m\u001b[0;34m\u001b[0m\u001b[0m\n",
      "\u001b[0;31mTypeError\u001b[0m: rotate_eig() missing 1 required positional argument: 'num_part'"
     ]
    }
   ],
   "source": [
    "dt_1 = np.apply_along_axis(rotate_eig, 1, dt_1)"
   ]
  },
  {
   "cell_type": "code",
   "execution_count": 52,
   "metadata": {},
   "outputs": [],
   "source": [
    "df_2p1 = pd.read_hdf(\"/nobackup/users/sangeon/datasets/jetLHCO/LHCO_dijet_2p2p_3200_450_450_16part_jet1.h5\")\n",
    "df_2p2 = pd.read_hdf(\"/nobackup/users/sangeon/datasets/jetLHCO/LHCO_dijet_2p2p_3200_450_450_16part_jet2.h5\")\n",
    "df_3p1 = pd.read_hdf(\"/nobackup/users/sangeon/datasets/jetLHCO/LHCO_dijet_3p3p_3200_450_450_16part_jet1.h5\")\n",
    "df_3p2 = pd.read_hdf(\"/nobackup/users/sangeon/datasets/jetLHCO/LHCO_dijet_3p3p_3200_450_450_16part_jet2.h5\")\n",
    "#df_3p1 = pd.read_hdf(\"/nobackup/users/sangeon/datasets/jetLHCO/LHCO_dijet_2p2p_4000_500_150_16part_jet1.h5\")\n",
    "#df_3p2 = pd.read_hdf(\"/nobackup/users/sangeon/datasets/jetLHCO/LHCO_dijet_2p2p_4000_500_150_16part_jet2.h5\")\n",
    "\n",
    "dt_2p1 = df_2p1.values \n",
    "dt_2p2 = df_2p2.values \n",
    "dt_3p1 = df_3p1.values \n",
    "dt_3p2 = df_3p2.values "
   ]
  },
  {
   "cell_type": "code",
   "execution_count": 40,
   "metadata": {},
   "outputs": [],
   "source": [
    "dt_2p1 = dt_2p1[(dt_2p1[:,51]<500) & (dt_2p1[:,51]>400)]\n",
    "dt_2p2 = dt_2p2[(dt_2p2[:,51]<500) & (dt_2p2[:,51]>400)]\n",
    "dt_3p1 = dt_3p1[(dt_3p1[:,51]<500) & (dt_3p1[:,51]>400)]\n",
    "dt_3p2 = dt_3p2[(dt_3p2[:,51]<500) & (dt_3p2[:,51]>400)]"
   ]
  },
  {
   "cell_type": "code",
   "execution_count": 41,
   "metadata": {},
   "outputs": [],
   "source": [
    "dt_2p1 = dt_2p1[(dt_2p1[:,48]>1000)&(dt_2p1[:,48]<1500)]\n",
    "dt_2p2 = dt_2p2[(dt_2p2[:,48]>1000)&(dt_2p2[:,48]<1500)]\n",
    "dt_3p1 = dt_3p1[(dt_3p1[:,48]>1000)&(dt_3p1[:,48]<1500)]\n",
    "dt_3p2 = dt_3p2[(dt_3p2[:,48]>1000)&(dt_3p2[:,48]<1500)]"
   ]
  },
  {
   "cell_type": "code",
   "execution_count": 53,
   "metadata": {},
   "outputs": [
    {
     "name": "stdout",
     "output_type": "stream",
     "text": [
      "[ 0.4595973  -0.46094861  1.99597174  0.8529835   1.59282828 -0.16491634\n",
      "  2.29659394 -2.74112711 -2.33926141 -2.34103584]\n",
      "[-2.55309201  2.8592682  -1.14372948 -2.26800474 -1.41292532  3.01758762\n",
      " -0.80847314  0.39611139  0.50428644  0.90074528]\n",
      "[ 2.16706235 -2.91106116  1.88390122  2.86544428  2.60602684 -0.86806851\n",
      "  2.91490955  1.02455506 -2.48205287  2.49464361]\n",
      "[-0.96255366 -0.26131752  0.56853341 -0.36653315 -0.70808394  0.83203332\n",
      "  0.35236496  3.11819995  1.29649022 -0.75633996]\n"
     ]
    }
   ],
   "source": [
    "process_jet_data(dt_2p1)\n",
    "process_jet_data(dt_2p2)\n",
    "process_jet_data(dt_3p1)\n",
    "process_jet_data(dt_3p2)"
   ]
  },
  {
   "cell_type": "code",
   "execution_count": 44,
   "metadata": {},
   "outputs": [],
   "source": [
    "origin = np.zeros([1,2])"
   ]
  },
  {
   "cell_type": "code",
   "execution_count": 19,
   "metadata": {},
   "outputs": [],
   "source": [
    "#jetcenter = np.average(dt_1[0,:48].reshape(-1,3)[:, 1:3],axis=0, weights = dt_1[0,:48].reshape(-1,3)[:, 0]).reshape(1,2)"
   ]
  },
  {
   "cell_type": "code",
   "execution_count": 63,
   "metadata": {},
   "outputs": [],
   "source": [
    "#jetcenter"
   ]
  },
  {
   "cell_type": "code",
   "execution_count": 23,
   "metadata": {},
   "outputs": [],
   "source": [
    "#dt_1[evt_num,:48].reshape(-1,3)[:,1:3].shape"
   ]
  },
  {
   "cell_type": "code",
   "execution_count": 45,
   "metadata": {},
   "outputs": [],
   "source": [
    "def get_cov_eig(evt):\n",
    "    cov_mat = np.cov(evt[:48].reshape(-1,3)[:, 1:3], aweights=evt[:48].reshape(-1,3)[:, 0] , rowvar=False)\n",
    "    eig_vals, eig_vecs = np.linalg.eig(cov_mat)\n",
    "    idx = eig_vals.argsort()[::1]   \n",
    "    eig_vals = eig_vals[idx]\n",
    "    eig_vecs = eig_vecs[:,idx]\n",
    "    return eig_vecs"
   ]
  },
  {
   "cell_type": "code",
   "execution_count": 46,
   "metadata": {},
   "outputs": [],
   "source": [
    "#def rotate_eig(evt, num_part):\n",
    "#    new = np.copy(evt)\n",
    "#    cov_mat = np.cov(evt[:3*num_part].reshape(-1,3)[:, 1:3], aweights=evt[:3*num_part].reshape(-1,3)[:, 0] , rowvar=False)\n",
    "#    eig_vals, eig_vecs = np.linalg.eig(cov_mat)\n",
    "#    idx = eig_vals.argsort()[::1]   \n",
    "#    eig_vals = eig_vals[idx]\n",
    "#    eig_vecs = eig_vecs[:,idx]\n",
    "#    new[:3*num_part].reshape(-1,3)[:, 1:3] = np.matmul(evt[:3*num_part].reshape(-1,3)[:, 1:3], eig_vecs)\n",
    "#    return new"
   ]
  },
  {
   "cell_type": "code",
   "execution_count": 47,
   "metadata": {},
   "outputs": [],
   "source": [
    "def flip_eta(evt):\n",
    "    new = np.copy(evt)\n",
    "    right_quadrant = np.where(evt[:48].reshape(-1,3)[:,1]>0)\n",
    "    left_quadrant = np.where(evt[:48].reshape(-1,3)[:,1]<=0)\n",
    "    right_sum = np.sum(evt[:48].reshape(-1,3)[right_quadrant,0])\n",
    "    left_sum = np.sum(evt[:48].reshape(-1,3)[left_quadrant,0])\n",
    "    if left_sum > right_sum:\n",
    "        new[:48].reshape(-1,3)[:,1] *= -1\n",
    "    return new   "
   ]
  },
  {
   "cell_type": "code",
   "execution_count": 48,
   "metadata": {},
   "outputs": [],
   "source": [
    "def flip(evt):\n",
    "    new = np.copy(evt)\n",
    "    upper_quadrant = np.where(evt[:48].reshape(-1,3)[:,2]>0)\n",
    "    lower_quadrant = np.where(evt[:48].reshape(-1,3)[:,2]<=0)\n",
    "    upper_sum = np.sum(evt[:48].reshape(-1,3)[upper_quadrant,0])\n",
    "    lower_sum = np.sum(evt[:48].reshape(-1,3)[lower_quadrant,0])\n",
    "    if lower_sum > upper_sum:\n",
    "        new[:48].reshape(-1,3)[:,2] *= -1\n",
    "    return new     "
   ]
  },
  {
   "cell_type": "code",
   "execution_count": 49,
   "metadata": {},
   "outputs": [],
   "source": [
    "def rotate_eig(evt):\n",
    "    #print(evt.shape)\n",
    "    new = np.copy(evt)\n",
    "    cov_mat = np.cov(evt[:48].reshape(-1,3)[:, 1:3], aweights=evt[:48].reshape(-1,3)[:, 0] , rowvar=False)\n",
    "    eig_vals, eig_vecs = np.linalg.eig(cov_mat)\n",
    "    idx = eig_vals.argsort()[::1]   \n",
    "    eig_vals = eig_vals[idx]\n",
    "    eig_vecs = eig_vecs[:,idx]\n",
    "    #print(evt[:48].reshape(-1,3)[0, 1:3])\n",
    "    #print(eig_vecs)\n",
    "    #principal = eig_vecs[:,0]\n",
    "    #R = np.array([principal,[-principal[1], principal[0]]])\n",
    "    #print(R.T)\n",
    "    #print(eig_vecs)\n",
    "    new[:48].reshape(-1,3)[:, 1:3] = np.matmul(evt[:48].reshape(-1,3)[:, 1:3], eig_vecs)\n",
    "    #print(new[:48].reshape(-1,3)[0, 1:3])\n",
    "    return new\n",
    "    "
   ]
  },
  {
   "cell_type": "code",
   "execution_count": 50,
   "metadata": {},
   "outputs": [],
   "source": [
    "def get_cov_eig_val(evt):\n",
    "    cov_mat = np.cov(evt[:48].reshape(-1,3)[:, 1:3], aweights=evt[:48].reshape(-1,3)[:, 0] , rowvar=False)\n",
    "    eig_vals, eig_vecs = np.linalg.eig(cov_mat)\n",
    "    idx = eig_vals.argsort()[::1]   \n",
    "    eig_vals = eig_vals[idx]\n",
    "    eig_vecs = eig_vecs[:,idx]\n",
    "    return eig_vecs, eig_vals"
   ]
  },
  {
   "cell_type": "code",
   "execution_count": 303,
   "metadata": {},
   "outputs": [],
   "source": [
    "vec, vals = get_cov_eig_val(dt_2p1[0])"
   ]
  },
  {
   "cell_type": "code",
   "execution_count": 304,
   "metadata": {},
   "outputs": [
    {
     "data": {
      "text/plain": [
       "array([[ 0.29236117,  0.95630798],\n",
       "       [ 0.95630798, -0.29236117]])"
      ]
     },
     "execution_count": 304,
     "metadata": {},
     "output_type": "execute_result"
    }
   ],
   "source": [
    "vec"
   ]
  },
  {
   "cell_type": "code",
   "execution_count": 305,
   "metadata": {},
   "outputs": [
    {
     "data": {
      "text/plain": [
       "array([0.00076925, 0.13883084])"
      ]
     },
     "execution_count": 305,
     "metadata": {},
     "output_type": "execute_result"
    }
   ],
   "source": [
    "vals"
   ]
  },
  {
   "cell_type": "code",
   "execution_count": 306,
   "metadata": {},
   "outputs": [],
   "source": [
    "principal = vec[:,0]"
   ]
  },
  {
   "cell_type": "code",
   "execution_count": 307,
   "metadata": {},
   "outputs": [
    {
     "data": {
      "text/plain": [
       "array([0.29236117, 0.95630798])"
      ]
     },
     "execution_count": 307,
     "metadata": {},
     "output_type": "execute_result"
    }
   ],
   "source": [
    "vec[:,0]"
   ]
  },
  {
   "cell_type": "code",
   "execution_count": 54,
   "metadata": {},
   "outputs": [
    {
     "name": "stdout",
     "output_type": "stream",
     "text": [
      "148.55070608392964\n"
     ]
    },
    {
     "data": {
      "image/png": "[encoded data removed]",
      "text/plain": [
       "<Figure size 432x432 with 1 Axes>"
      ]
     },
     "metadata": {
      "needs_background": "light"
     },
     "output_type": "display_data"
    }
   ],
   "source": [
    "evt_num = 0\n",
    "print(dt_2p1[evt_num,51])\n",
    "plot_jet(dt_2p1[evt_num,:48].reshape(-1,3))\n",
    "draw_vector(*origin, *origin+get_cov_eig(dt_2p1[evt_num])[:,0])\n",
    "#draw_vector(*origin, *origin+eig_vecs[1])"
   ]
  },
  {
   "cell_type": "code",
   "execution_count": null,
   "metadata": {},
   "outputs": [],
   "source": []
  },
  {
   "cell_type": "code",
   "execution_count": 73,
   "metadata": {},
   "outputs": [],
   "source": [
    "upper_quadrant = np.where(rotate_eig(dt_2p1[evt_num])[:48].reshape(-1,3)[:,2]>0)"
   ]
  },
  {
   "cell_type": "code",
   "execution_count": 81,
   "metadata": {},
   "outputs": [],
   "source": [
    "lower_quadrant = np.where(rotate_eig(dt_2p1[evt_num])[:48].reshape(-1,3)[:,2]<=0)"
   ]
  },
  {
   "cell_type": "code",
   "execution_count": 75,
   "metadata": {},
   "outputs": [
    {
     "data": {
      "text/plain": [
       "array([[ 0.14334855,  0.00718523, -0.24910127],\n",
       "       [ 0.13890703, -0.01821699, -0.25430277],\n",
       "       [ 0.11179387, -0.00930238,  0.44678279],\n",
       "       [ 0.08853042, -0.01524445,  0.44366664],\n",
       "       [ 0.08697143, -0.00899253,  0.44900853],\n",
       "       [ 0.06692088,  0.00248706,  0.45633446],\n",
       "       [ 0.06028215, -0.06017454, -0.37932609],\n",
       "       [ 0.05279172, -0.00756452,  0.42555702],\n",
       "       [ 0.04170526,  0.03420526, -0.22448837],\n",
       "       [ 0.03482049,  0.01875326, -0.28165134],\n",
       "       [ 0.03284388, -0.0643558 , -0.34697362],\n",
       "       [ 0.03088703,  0.05661371, -0.22553887],\n",
       "       [ 0.02833604, -0.00145662,  0.44610445],\n",
       "       [ 0.02821359, -0.01733575, -0.25699607],\n",
       "       [ 0.02695093,  0.06592583, -0.25330696],\n",
       "       [ 0.02669673, -0.00265041, -0.24528266]])"
      ]
     },
     "execution_count": 75,
     "metadata": {},
     "output_type": "execute_result"
    }
   ],
   "source": [
    "rotate_eig(dt_2p1[evt_num])[:48].reshape(-1,3)"
   ]
  },
  {
   "cell_type": "code",
   "execution_count": 82,
   "metadata": {},
   "outputs": [
    {
     "data": {
      "text/plain": [
       "array([[ 0.14334855,  0.00718523, -0.24910127],\n",
       "       [ 0.13890703, -0.01821699, -0.25430277],\n",
       "       [ 0.06028215, -0.06017454, -0.37932609],\n",
       "       [ 0.04170526,  0.03420526, -0.22448837],\n",
       "       [ 0.03482049,  0.01875326, -0.28165134],\n",
       "       [ 0.03284388, -0.0643558 , -0.34697362],\n",
       "       [ 0.03088703,  0.05661371, -0.22553887],\n",
       "       [ 0.02821359, -0.01733575, -0.25699607],\n",
       "       [ 0.02695093,  0.06592583, -0.25330696],\n",
       "       [ 0.02669673, -0.00265041, -0.24528266]])"
      ]
     },
     "execution_count": 82,
     "metadata": {},
     "output_type": "execute_result"
    }
   ],
   "source": [
    "rotate_eig(dt_2p1[evt_num])[:48].reshape(-1,3)[lower_quadrant]"
   ]
  },
  {
   "cell_type": "code",
   "execution_count": 79,
   "metadata": {},
   "outputs": [
    {
     "data": {
      "text/plain": [
       "array([[ 0.11179387, -0.00930238,  0.44678279],\n",
       "       [ 0.08853042, -0.01524445,  0.44366664],\n",
       "       [ 0.08697143, -0.00899253,  0.44900853],\n",
       "       [ 0.06692088,  0.00248706,  0.45633446],\n",
       "       [ 0.05279172, -0.00756452,  0.42555702],\n",
       "       [ 0.02833604, -0.00145662,  0.44610445]])"
      ]
     },
     "execution_count": 79,
     "metadata": {},
     "output_type": "execute_result"
    }
   ],
   "source": [
    "rotate_eig(dt_2p1[evt_num])[:48].reshape(-1,3)[upper_quadrant]"
   ]
  },
  {
   "cell_type": "code",
   "execution_count": 83,
   "metadata": {},
   "outputs": [
    {
     "data": {
      "text/plain": [
       "0.564655644277925"
      ]
     },
     "execution_count": 83,
     "metadata": {},
     "output_type": "execute_result"
    }
   ],
   "source": [
    "np.sum(rotate_eig(dt_2p1[evt_num])[:48].reshape(-1,3)[lower_quadrant,0])"
   ]
  },
  {
   "cell_type": "code",
   "execution_count": 76,
   "metadata": {},
   "outputs": [
    {
     "data": {
      "text/plain": [
       "0.43534435572207497"
      ]
     },
     "execution_count": 76,
     "metadata": {},
     "output_type": "execute_result"
    }
   ],
   "source": [
    "np.sum(rotate_eig(dt_2p1[evt_num])[:48].reshape(-1,3)[upper_quadrant,0])"
   ]
  },
  {
   "cell_type": "code",
   "execution_count": null,
   "metadata": {},
   "outputs": [],
   "source": [
    "dt_2p1"
   ]
  },
  {
   "cell_type": "code",
   "execution_count": 60,
   "metadata": {},
   "outputs": [
    {
     "name": "stdout",
     "output_type": "stream",
     "text": [
      "443.8363206887978\n"
     ]
    },
    {
     "data": {
      "image/png": "[encoded data removed]",
      "text/plain": [
       "<Figure size 432x432 with 1 Axes>"
      ]
     },
     "metadata": {
      "needs_background": "light"
     },
     "output_type": "display_data"
    }
   ],
   "source": [
    "evt_num = 1\n",
    "print(flip_eta(flip(rotate_eig(dt_2p1[evt_num])))[51])\n",
    "plot_jet(flip_eta(flip(rotate_eig(dt_2p1[evt_num])))[:48].reshape(-1,3))\n",
    "draw_vector(*origin, *origin+get_cov_eig(rotate_eig(dt_2p1[evt_num]))[:,0])"
   ]
  },
  {
   "cell_type": "code",
   "execution_count": 59,
   "metadata": {},
   "outputs": [
    {
     "name": "stdout",
     "output_type": "stream",
     "text": [
      "443.8363206887978\n"
     ]
    },
    {
     "data": {
      "image/png": "[encoded data removed]",
      "text/plain": [
       "<Figure size 432x432 with 1 Axes>"
      ]
     },
     "metadata": {
      "needs_background": "light"
     },
     "output_type": "display_data"
    }
   ],
   "source": [
    "evt_num = 1\n",
    "print(rotate_eig(dt_2p1[evt_num])[51])\n",
    "plot_jet(rotate_eig(dt_2p1[evt_num])[:48].reshape(-1,3))\n",
    "draw_vector(*origin, *origin+get_cov_eig(rotate_eig(dt_2p1[evt_num]))[:,0])"
   ]
  },
  {
   "cell_type": "code",
   "execution_count": 56,
   "metadata": {},
   "outputs": [
    {
     "data": {
      "text/plain": [
       "(38394, 54)"
      ]
     },
     "execution_count": 56,
     "metadata": {},
     "output_type": "execute_result"
    }
   ],
   "source": [
    "dt_1.shape"
   ]
  },
  {
   "cell_type": "code",
   "execution_count": 15,
   "metadata": {},
   "outputs": [
    {
     "ename": "NameError",
     "evalue": "name 'dt_new' is not defined",
     "output_type": "error",
     "traceback": [
      "\u001b[0;31m---------------------------------------------------------------------------\u001b[0m",
      "\u001b[0;31mNameError\u001b[0m                                 Traceback (most recent call last)",
      "\u001b[0;32m/tmp/ipykernel_2198212/1809749049.py\u001b[0m in \u001b[0;36m<module>\u001b[0;34m\u001b[0m\n\u001b[1;32m      1\u001b[0m \u001b[0mevt_num\u001b[0m \u001b[0;34m=\u001b[0m \u001b[0;36m0\u001b[0m\u001b[0;34m\u001b[0m\u001b[0;34m\u001b[0m\u001b[0m\n\u001b[0;32m----> 2\u001b[0;31m \u001b[0mprint\u001b[0m\u001b[0;34m(\u001b[0m\u001b[0mdt_new\u001b[0m\u001b[0;34m[\u001b[0m\u001b[0mevt_num\u001b[0m\u001b[0;34m,\u001b[0m\u001b[0;36m51\u001b[0m\u001b[0;34m]\u001b[0m\u001b[0;34m)\u001b[0m\u001b[0;34m\u001b[0m\u001b[0;34m\u001b[0m\u001b[0m\n\u001b[0m\u001b[1;32m      3\u001b[0m \u001b[0mplot_jet\u001b[0m\u001b[0;34m(\u001b[0m\u001b[0mdt_new\u001b[0m\u001b[0;34m[\u001b[0m\u001b[0mevt_num\u001b[0m\u001b[0;34m,\u001b[0m\u001b[0;34m:\u001b[0m\u001b[0;36m48\u001b[0m\u001b[0;34m]\u001b[0m\u001b[0;34m.\u001b[0m\u001b[0mreshape\u001b[0m\u001b[0;34m(\u001b[0m\u001b[0;34m-\u001b[0m\u001b[0;36m1\u001b[0m\u001b[0;34m,\u001b[0m\u001b[0;36m3\u001b[0m\u001b[0;34m)\u001b[0m\u001b[0;34m)\u001b[0m\u001b[0;34m\u001b[0m\u001b[0;34m\u001b[0m\u001b[0m\n\u001b[1;32m      4\u001b[0m \u001b[0mdraw_vector\u001b[0m\u001b[0;34m(\u001b[0m\u001b[0;34m*\u001b[0m\u001b[0morigin\u001b[0m\u001b[0;34m,\u001b[0m \u001b[0;34m*\u001b[0m\u001b[0morigin\u001b[0m\u001b[0;34m+\u001b[0m\u001b[0mget_cov_eig\u001b[0m\u001b[0;34m(\u001b[0m\u001b[0mdt_new\u001b[0m\u001b[0;34m[\u001b[0m\u001b[0mevt_num\u001b[0m\u001b[0;34m]\u001b[0m\u001b[0;34m)\u001b[0m\u001b[0;34m[\u001b[0m\u001b[0;34m:\u001b[0m\u001b[0;34m,\u001b[0m\u001b[0;36m0\u001b[0m\u001b[0;34m]\u001b[0m\u001b[0;34m)\u001b[0m\u001b[0;34m\u001b[0m\u001b[0;34m\u001b[0m\u001b[0m\n\u001b[1;32m      5\u001b[0m \u001b[0;31m#draw_vector(*origin, *origin+eig_vecs[1])\u001b[0m\u001b[0;34m\u001b[0m\u001b[0;34m\u001b[0m\u001b[0;34m\u001b[0m\u001b[0m\n",
      "\u001b[0;31mNameError\u001b[0m: name 'dt_new' is not defined"
     ]
    }
   ],
   "source": [
    "evt_num = 0\n",
    "print(dt_new[evt_num,51])\n",
    "plot_jet(dt_new[evt_num,:48].reshape(-1,3))\n",
    "draw_vector(*origin, *origin+get_cov_eig(dt_new[evt_num])[:,0])\n",
    "#draw_vector(*origin, *origin+eig_vecs[1])"
   ]
  },
  {
   "cell_type": "code",
   "execution_count": 55,
   "metadata": {},
   "outputs": [
    {
     "name": "stdout",
     "output_type": "stream",
     "text": [
      "463.4783748690022\n"
     ]
    },
    {
     "data": {
      "image/png": "[encoded data removed]",
      "text/plain": [
       "<Figure size 432x432 with 1 Axes>"
      ]
     },
     "metadata": {
      "needs_background": "light"
     },
     "output_type": "display_data"
    }
   ],
   "source": [
    "evt_num = 0\n",
    "print(rotate_eig(dt_1[evt_num],16)[51])\n",
    "plot_jet(rotate_eig(dt_1[evt_num],16)[:48].reshape(-1,3))\n",
    "draw_vector(*origin, *origin+get_cov_eig(rotate_eig(dt_1[evt_num],16))[:,0])"
   ]
  },
  {
   "cell_type": "code",
   "execution_count": 39,
   "metadata": {},
   "outputs": [
    {
     "data": {
      "text/plain": [
       "array([[302.62124634, 258.09613037, 195.02877808, 131.41976929,\n",
       "         90.31535339,  61.84059906,  60.06711578,  58.13211823,\n",
       "         55.18281555,  54.17840195,  54.14332962,  32.27509689,\n",
       "         32.01148987,  19.81797028,  18.99031067,  15.83627605]])"
      ]
     },
     "execution_count": 39,
     "metadata": {},
     "output_type": "execute_result"
    }
   ],
   "source": [
    "dt_1[0,:48].reshape(-1,16,3)[:,:,0]"
   ]
  },
  {
   "cell_type": "code",
   "execution_count": 35,
   "metadata": {},
   "outputs": [
    {
     "name": "stdout",
     "output_type": "stream",
     "text": [
      "492.0693594080945\n"
     ]
    },
    {
     "data": {
      "image/png": "[encoded data removed]",
      "text/plain": [
       "<Figure size 432x432 with 1 Axes>"
      ]
     },
     "metadata": {
      "needs_background": "light"
     },
     "output_type": "display_data"
    }
   ],
   "source": [
    "evt_num = 1\n",
    "print(dt_1[evt_num,51])\n",
    "plot_jet(dt_1[evt_num,:48].reshape(-1,3))\n",
    "draw_vector(*origin, *origin+get_cov_eig(dt_1[evt_num])[:,0])\n",
    "#draw_vector(*origin, *origin+eig_vecs[1])"
   ]
  },
  {
   "cell_type": "code",
   "execution_count": 71,
   "metadata": {},
   "outputs": [
    {
     "data": {
      "text/plain": [
       "array([[-8.91141684e-17, -3.12611699e-01,  1.61613654e-01, ...,\n",
       "         4.63478375e+02,  4.63478375e+02,  4.63478375e+02],\n",
       "       [-2.27221657e-13, -2.29981041e+00, -1.86375129e+00, ...,\n",
       "         3.15212864e+01,  1.86438051e+00,  2.83297651e+01],\n",
       "       [-5.54384260e-17, -2.06572160e-01, -3.00543523e+00, ...,\n",
       "         1.49228912e+02,  1.47338504e+02,  1.47338504e+02],\n",
       "       ...,\n",
       "       [-2.30975160e-16, -1.57039583e+00, -6.82635963e-01, ...,\n",
       "         5.09771456e+02,  5.09771456e+02,  5.09771456e+02],\n",
       "       [-3.43026951e-17,  2.09981278e-01, -9.11282748e-02, ...,\n",
       "         5.37158794e+02,  5.37158794e+02,  5.37158794e+02],\n",
       "       [-3.10231284e-17,  2.64288694e-01,  2.96257067e+00, ...,\n",
       "         5.05028544e+02,  5.05028544e+02,  5.05028544e+02]])"
      ]
     },
     "execution_count": 71,
     "metadata": {},
     "output_type": "execute_result"
    }
   ],
   "source": [
    "df_1"
   ]
  },
  {
   "cell_type": "code",
   "execution_count": 18,
   "metadata": {},
   "outputs": [],
   "source": [
    "from sklearn.decomposition import PCA"
   ]
  },
  {
   "cell_type": "code",
   "execution_count": 1,
   "metadata": {},
   "outputs": [
    {
     "ename": "NameError",
     "evalue": "name 'emd_preprocess' is not defined",
     "output_type": "error",
     "traceback": [
      "\u001b[0;31m---------------------------------------------------------------------------\u001b[0m",
      "\u001b[0;31mNameError\u001b[0m                                 Traceback (most recent call last)",
      "\u001b[0;32m/tmp/ipykernel_1908519/871667428.py\u001b[0m in \u001b[0;36m<module>\u001b[0;34m\u001b[0m\n\u001b[0;32m----> 1\u001b[0;31m \u001b[0mnew\u001b[0m \u001b[0;34m=\u001b[0m \u001b[0memd_preprocess\u001b[0m\u001b[0;34m(\u001b[0m\u001b[0mevt1\u001b[0m\u001b[0;34m)\u001b[0m\u001b[0;34m\u001b[0m\u001b[0;34m\u001b[0m\u001b[0m\n\u001b[0m",
      "\u001b[0;31mNameError\u001b[0m: name 'emd_preprocess' is not defined"
     ]
    }
   ],
   "source": [
    "new = emd_preprocess(evt1)"
   ]
  },
  {
   "cell_type": "code",
   "execution_count": null,
   "metadata": {},
   "outputs": [],
   "source": [
    "new.shape"
   ]
  },
  {
   "cell_type": "code",
   "execution_count": 18,
   "metadata": {},
   "outputs": [
    {
     "data": {
      "image/png": "[encoded data removed]",
      "text/plain": [
       "<Figure size 432x432 with 1 Axes>"
      ]
     },
     "metadata": {
      "needs_background": "light"
     },
     "output_type": "display_data"
    }
   ],
   "source": [
    "#plt.hist(dt_1[:,51], bins=np.arange(0,600,1));\n",
    "plt.hist(dt_1[:,52], bins=np.arange(0,1000,4),alpha=0.3);\n",
    "plt.hist(dt_2[:,52], bins=np.arange(0,1000,4),alpha=0.3);\n",
    "\n",
    "#plt.hist(dt_1[:,53], bins=np.arange(0,600,1));"
   ]
  },
  {
   "cell_type": "code",
   "execution_count": 20,
   "metadata": {},
   "outputs": [
    {
     "data": {
      "image/png": "[encoded data removed]",
      "text/plain": [
       "<Figure size 432x432 with 1 Axes>"
      ]
     },
     "metadata": {
      "needs_background": "light"
     },
     "output_type": "display_data"
    }
   ],
   "source": [
    "plt.hist(dt_1[:,48], bins=np.arange(0,3000,5), alpha=0.3);\n",
    "#plt.hist(dt_2[:,48], bins=np.arange(0,3000,5), alpha=0.3);\n"
   ]
  },
  {
   "cell_type": "code",
   "execution_count": 52,
   "metadata": {},
   "outputs": [],
   "source": [
    "evt1 = dt_1[0,:3*NPART].reshape(-1,3)"
   ]
  },
  {
   "cell_type": "code",
   "execution_count": 53,
   "metadata": {},
   "outputs": [],
   "source": [
    "evt1[:,0] /= np.sum(evt1[:,0])"
   ]
  },
  {
   "cell_type": "code",
   "execution_count": 54,
   "metadata": {},
   "outputs": [
    {
     "data": {
      "text/plain": [
       "1.0"
      ]
     },
     "execution_count": 54,
     "metadata": {},
     "output_type": "execute_result"
    }
   ],
   "source": [
    "np.sum(evt1[:,0])"
   ]
  },
  {
   "cell_type": "code",
   "execution_count": 55,
   "metadata": {},
   "outputs": [],
   "source": [
    "def plot_event(pfcands):\n",
    "\n",
    "    pt = pfcands[:,0]\n",
    "    eta = pfcands[:,1]\n",
    "    phi = pfcands[:,2]\n",
    "    fig = plt.figure()\n",
    "    ax = fig.add_subplot(1,1,1)\n",
    "    ax.scatter(eta,phi,s=pt*1000, alpha=0.2)\n",
    "    ax.set_xlabel('eta')\n",
    "    ax.set_ylabel('phi')\n",
    "    ax.set_xlim([-4,4])\n",
    "    ax.set_ylim([-4,4])\n",
    "    #fig.savefig(f'{path}/{name}.png')"
   ]
  },
  {
   "cell_type": "code",
   "execution_count": 56,
   "metadata": {},
   "outputs": [
    {
     "data": {
      "image/png": "[encoded data removed]",
      "text/plain": [
       "<Figure size 432x432 with 1 Axes>"
      ]
     },
     "metadata": {
      "needs_background": "light"
     },
     "output_type": "display_data"
    }
   ],
   "source": [
    "plot_event(evt1.reshape(-1,3))"
   ]
  },
  {
   "cell_type": "code",
   "execution_count": null,
   "metadata": {},
   "outputs": [],
   "source": []
  }
 ],
 "metadata": {
  "kernelspec": {
   "display_name": "studies",
   "language": "python",
   "name": "studies"
  },
  "language_info": {
   "codemirror_mode": {
    "name": "ipython",
    "version": 3
   },
   "file_extension": ".py",
   "mimetype": "text/x-python",
   "name": "python",
   "nbconvert_exporter": "python",
   "pygments_lexer": "ipython3",
   "version": "3.8.12"
  }
 },
 "nbformat": 4,
 "nbformat_minor": 4
}
