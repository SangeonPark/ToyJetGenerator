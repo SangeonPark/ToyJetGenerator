{
 "cells": [
  {
   "cell_type": "code",
   "execution_count": 1,
   "metadata": {},
   "outputs": [],
   "source": [
    "import emd\n",
    "import pickle\n",
    "import time\n",
    "import numpy as np"
   ]
  },
  {
   "cell_type": "code",
   "execution_count": 2,
   "metadata": {},
   "outputs": [],
   "source": [
    "with open('../dataset/sig_2p_8part_fixedp.pickle', 'rb') as handle:\n",
    "    data_sig_2p_8part = pickle.load(handle)"
   ]
  },
  {
   "cell_type": "code",
   "execution_count": 3,
   "metadata": {},
   "outputs": [],
   "source": [
    "with open('../dataset/bkg_2p_8part.pickle', 'rb') as handle:\n",
    "    data_bkg_2p_8part = pickle.load(handle)"
   ]
  },
  {
   "cell_type": "code",
   "execution_count": 3,
   "metadata": {},
   "outputs": [],
   "source": [
    "with open('../dataset/sig_3p_8part_fixedp.pickle', 'rb') as handle:\n",
    "    data_sig_3p_8part = pickle.load(handle)"
   ]
  },
  {
   "cell_type": "code",
   "execution_count": 5,
   "metadata": {},
   "outputs": [],
   "source": [
    "with open('../dataset/sig_4p_8part.pickle', 'rb') as handle:\n",
    "    data_sig_4p_8part = pickle.load(handle)"
   ]
  },
  {
   "cell_type": "code",
   "execution_count": 6,
   "metadata": {},
   "outputs": [],
   "source": [
    "with open('../dataset/sig_2p_4part.pickle', 'rb') as handle:\n",
    "    data_sig_2p_4part = pickle.load(handle)"
   ]
  },
  {
   "cell_type": "code",
   "execution_count": 7,
   "metadata": {},
   "outputs": [],
   "source": [
    "with open('../dataset/sig_3p_4part.pickle', 'rb') as handle:\n",
    "    data_sig_3p_4part = pickle.load(handle)"
   ]
  },
  {
   "cell_type": "code",
   "execution_count": 8,
   "metadata": {},
   "outputs": [
    {
     "data": {
      "text/plain": [
       "(1000, 24)"
      ]
     },
     "execution_count": 8,
     "metadata": {},
     "output_type": "execute_result"
    }
   ],
   "source": [
    "data_sig_2p_8part.shape"
   ]
  },
  {
   "cell_type": "code",
   "execution_count": 9,
   "metadata": {},
   "outputs": [
    {
     "data": {
      "text/plain": [
       "(8, 3)"
      ]
     },
     "execution_count": 9,
     "metadata": {},
     "output_type": "execute_result"
    }
   ],
   "source": [
    "data_sig_2p_8part[0].reshape(-1,3).shape"
   ]
  },
  {
   "cell_type": "code",
   "execution_count": 51,
   "metadata": {},
   "outputs": [],
   "source": [
    "dist_hist_2p_2p = []\n",
    "for i in range(1,1000):\n",
    "    dist_hist_2p_2p.append(emd.emd_pot(data_sig_2p_8part[0].reshape(-1,3), data_sig_2p_8part[i].reshape(-1,3)))\n",
    "        "
   ]
  },
  {
   "cell_type": "code",
   "execution_count": 52,
   "metadata": {},
   "outputs": [],
   "source": [
    "dist_hist_2p_3p = []\n",
    "for i in range(1,1000):\n",
    "    dist_hist_2p_3p.append(emd.emd_pot(data_sig_2p_8part[0].reshape(-1,3), data_sig_3p_8part[i].reshape(-1,3)))\n",
    "        "
   ]
  },
  {
   "cell_type": "code",
   "execution_count": 16,
   "metadata": {},
   "outputs": [],
   "source": [
    "dist_hist_2p_2p = []\n",
    "for i in range(300):\n",
    "    for j in range(300):\n",
    "        if i > j:\n",
    "            dist_hist_2p_2p.append(emd.emd_pot(data_sig_2p_8part[i].reshape(-1,3), data_sig_2p_8part[j].reshape(-1,3),norm=True))\n",
    "        "
   ]
  },
  {
   "cell_type": "code",
   "execution_count": 17,
   "metadata": {},
   "outputs": [],
   "source": [
    "dist_hist_2p_3p = []\n",
    "for i in range(200):\n",
    "    for j in range(200):\n",
    "        dist_hist_2p_3p.append(emd.emd_pot(data_sig_2p_8part[i].reshape(-1,3), data_sig_3p_8part[j].reshape(-1,3),norm=True))\n",
    "        "
   ]
  },
  {
   "cell_type": "code",
   "execution_count": 24,
   "metadata": {},
   "outputs": [],
   "source": [
    "dist_hist_2p_4p = []\n",
    "for i in range(200):\n",
    "    for j in range(200):\n",
    "        dist_hist_2p_4p.append(emd.emd_pot(data_sig_2p_8part[i].reshape(-1,3), data_sig_4p_8part[j].reshape(-1,3)))\n",
    "        "
   ]
  },
  {
   "cell_type": "code",
   "execution_count": 6,
   "metadata": {},
   "outputs": [],
   "source": [
    "%matplotlib inline\n",
    "import matplotlib.pyplot as plt\n",
    "plt.rcParams[\"figure.figsize\"] = (6,6)\n",
    "plt.rcParams.update({'font.size': 14})"
   ]
  },
  {
   "cell_type": "code",
   "execution_count": 23,
   "metadata": {},
   "outputs": [
    {
     "data": {
      "image/png": "[encoded data removed]",
      "text/plain": [
       "<Figure size 432x432 with 1 Axes>"
      ]
     },
     "metadata": {
      "needs_background": "light"
     },
     "output_type": "display_data"
    }
   ],
   "source": [
    "fig = plt.figure()\n",
    "ax = fig.add_subplot(1,1,1)\n",
    "ax.hist(dist_hist_2p_2p,bins=np.arange(0,0.3,0.005),alpha=0.2,density=True,label=\"2p-2p\")\n",
    "ax.hist(dist_hist_2p_3p,bins=np.arange(0,0.3,0.005),alpha=0.2,density=True,label=\"2p-3p\")\n",
    "#ax.hist(dist_hist_2p_4p,alpha=0.2,density=True,label=\"2p-4p\")\n",
    "\n",
    "ax.legend()\n",
    "ax.set_xlabel('energy movers distance')\n",
    "ax.set_ylabel('Density')\n",
    "fig.savefig('../figures/emd_compare_fixedp_normalizedemd.png')"
   ]
  },
  {
   "cell_type": "code",
   "execution_count": 24,
   "metadata": {},
   "outputs": [],
   "source": [
    "import sys\n",
    "sys.path.insert(0,'..')\n",
    "from plotutils import plot_event \n"
   ]
  },
  {
   "cell_type": "code",
   "execution_count": 25,
   "metadata": {},
   "outputs": [
    {
     "data": {
      "image/png": "[encoded data removed]",
      "text/plain": [
       "<Figure size 432x432 with 1 Axes>"
      ]
     },
     "metadata": {
      "needs_background": "light"
     },
     "output_type": "display_data"
    }
   ],
   "source": [
    "plot_event(data_sig_3p_4part[0].reshape(-1,3),\"../figures\", \"sig_3p_4part\")"
   ]
  },
  {
   "cell_type": "code",
   "execution_count": 22,
   "metadata": {},
   "outputs": [],
   "source": [
    "twopi = 2*np.pi"
   ]
  },
  {
   "cell_type": "code",
   "execution_count": 26,
   "metadata": {},
   "outputs": [
    {
     "data": {
      "text/plain": [
       "1.53978619539145"
      ]
     },
     "execution_count": 26,
     "metadata": {},
     "output_type": "execute_result"
    }
   ],
   "source": [
    "-432 % twopi"
   ]
  },
  {
   "cell_type": "code",
   "execution_count": 27,
   "metadata": {},
   "outputs": [
    {
     "data": {
      "text/plain": [
       "6.283185307179586"
      ]
     },
     "execution_count": 27,
     "metadata": {},
     "output_type": "execute_result"
    }
   ],
   "source": [
    "twopi"
   ]
  },
  {
   "cell_type": "code",
   "execution_count": null,
   "metadata": {},
   "outputs": [],
   "source": []
  }
 ],
 "metadata": {
  "kernelspec": {
   "display_name": "studies",
   "language": "python",
   "name": "studies"
  },
  "language_info": {
   "codemirror_mode": {
    "name": "ipython",
    "version": 3
   },
   "file_extension": ".py",
   "mimetype": "text/x-python",
   "name": "python",
   "nbconvert_exporter": "python",
   "pygments_lexer": "ipython3",
   "version": "3.8.12"
  }
 },
 "nbformat": 4,
 "nbformat_minor": 4
}
