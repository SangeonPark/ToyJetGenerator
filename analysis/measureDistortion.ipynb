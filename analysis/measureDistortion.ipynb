{
 "cells": [
  {
   "cell_type": "code",
   "execution_count": 1,
   "metadata": {},
   "outputs": [],
   "source": [
    "%load_ext autoreload\n",
    "%autoreload 2\n"
   ]
  },
  {
   "cell_type": "code",
   "execution_count": 2,
   "metadata": {},
   "outputs": [],
   "source": [
    "import comet_ml\n",
    "from comet_ml import Experiment"
   ]
  },
  {
   "cell_type": "code",
   "execution_count": 3,
   "metadata": {},
   "outputs": [],
   "source": [
    "import os,sys\n",
    "import pandas as pd\n",
    "import torch\n",
    "from torch import nn\n",
    "import torch.nn.functional as F\n",
    "from torch.utils.data import DataLoader, random_split\n",
    "import pytorch_lightning as pl\n",
    "from pytorch_lightning import Trainer\n",
    "from pytorch_lightning.callbacks.early_stopping import EarlyStopping\n",
    "from pytorch_lightning.callbacks import ModelCheckpoint\n",
    "from pytorch_lightning.loggers import CometLogger"
   ]
  },
  {
   "cell_type": "code",
   "execution_count": 4,
   "metadata": {},
   "outputs": [],
   "source": [
    "%matplotlib inline\n",
    "import matplotlib.pyplot as plt\n",
    "plt.rcParams[\"figure.figsize\"] = (6,6)\n",
    "plt.rcParams.update({'font.size': 14})"
   ]
  },
  {
   "cell_type": "code",
   "execution_count": 5,
   "metadata": {},
   "outputs": [],
   "source": [
    "sys.path.append('../training')\n",
    "from manifoldembedder import *\n",
    "from anomalymodels import *"
   ]
  },
  {
   "cell_type": "code",
   "execution_count": 6,
   "metadata": {},
   "outputs": [],
   "source": [
    "basedir_toyreal = '/nobackup/users/sangeon/datasets/jets/jetpairs/realistic'\n",
    "\n",
    "toyreal_dict = {'train':os.path.join(basedir_toyreal, 'realistic_jettrain_16part.pt'),\n",
    "             'val':os.path.join(basedir_toyreal, 'realistic_jetval_16part.pt'),\n",
    "             'test':os.path.join(basedir_toyreal, 'realistic_jettest_measureDistortion_16part.pt'),\n",
    "             'predict':os.path.join(basedir_toyreal, 'realistic_jetpredict_16part.pt')}\n",
    "\n",
    "\n",
    "toyreal = torch.load(os.path.join(basedir_toyreal, 'realistic_jettest_measureDistortion_16part.pt'))\n",
    "\n",
    "\n",
    "jetreal_dm = JetDataModule(toyreal_dict,2500)\n"
   ]
  },
  {
   "cell_type": "code",
   "execution_count": 7,
   "metadata": {},
   "outputs": [
    {
     "name": "stderr",
     "output_type": "stream",
     "text": [
      "GPU available: True, used: True\n",
      "TPU available: False, using: 0 TPU cores\n",
      "IPU available: False, using: 0 IPUs\n"
     ]
    }
   ],
   "source": [
    "trainer = Trainer(gpus=1)"
   ]
  },
  {
   "cell_type": "code",
   "execution_count": 8,
   "metadata": {},
   "outputs": [],
   "source": [
    "embedder = ManifoldEmbedder.load_from_checkpoint(\"../training/realistictoyjets_checkpoints/Transformer-paper-April27-checkpoint-epoch=04-val_loss=0.29.ckpt\")\n"
   ]
  },
  {
   "cell_type": "code",
   "execution_count": 18,
   "metadata": {},
   "outputs": [
    {
     "data": {
      "text/plain": [
       "ManifoldEmbedder(\n",
       "  (encoder): particleTransformer(\n",
       "    (embed_src): Linear(in_features=3, out_features=32, bias=True)\n",
       "    (embed_tgt): Linear(in_features=3, out_features=32, bias=True)\n",
       "    (pos_enc): PositionalEncoding(\n",
       "      (dropout): Dropout(p=0.2, inplace=False)\n",
       "    )\n",
       "    (transformer_encoder): TransformerEncoder(\n",
       "      (layers): ModuleList(\n",
       "        (0): TransformerEncoderLayer(\n",
       "          (self_attn): MultiheadAttention(\n",
       "            (out_proj): _LinearWithBias(in_features=32, out_features=32, bias=True)\n",
       "          )\n",
       "          (linear1): Linear(in_features=32, out_features=2048, bias=True)\n",
       "          (dropout): Dropout(p=0.1, inplace=False)\n",
       "          (linear2): Linear(in_features=2048, out_features=32, bias=True)\n",
       "          (norm1): LayerNorm((32,), eps=1e-05, elementwise_affine=True)\n",
       "          (norm2): LayerNorm((32,), eps=1e-05, elementwise_affine=True)\n",
       "          (dropout1): Dropout(p=0.1, inplace=False)\n",
       "          (dropout2): Dropout(p=0.1, inplace=False)\n",
       "        )\n",
       "        (1): TransformerEncoderLayer(\n",
       "          (self_attn): MultiheadAttention(\n",
       "            (out_proj): _LinearWithBias(in_features=32, out_features=32, bias=True)\n",
       "          )\n",
       "          (linear1): Linear(in_features=32, out_features=2048, bias=True)\n",
       "          (dropout): Dropout(p=0.1, inplace=False)\n",
       "          (linear2): Linear(in_features=2048, out_features=32, bias=True)\n",
       "          (norm1): LayerNorm((32,), eps=1e-05, elementwise_affine=True)\n",
       "          (norm2): LayerNorm((32,), eps=1e-05, elementwise_affine=True)\n",
       "          (dropout1): Dropout(p=0.1, inplace=False)\n",
       "          (dropout2): Dropout(p=0.1, inplace=False)\n",
       "        )\n",
       "        (2): TransformerEncoderLayer(\n",
       "          (self_attn): MultiheadAttention(\n",
       "            (out_proj): _LinearWithBias(in_features=32, out_features=32, bias=True)\n",
       "          )\n",
       "          (linear1): Linear(in_features=32, out_features=2048, bias=True)\n",
       "          (dropout): Dropout(p=0.1, inplace=False)\n",
       "          (linear2): Linear(in_features=2048, out_features=32, bias=True)\n",
       "          (norm1): LayerNorm((32,), eps=1e-05, elementwise_affine=True)\n",
       "          (norm2): LayerNorm((32,), eps=1e-05, elementwise_affine=True)\n",
       "          (dropout1): Dropout(p=0.1, inplace=False)\n",
       "          (dropout2): Dropout(p=0.1, inplace=False)\n",
       "        )\n",
       "      )\n",
       "    )\n",
       "    (fcblock): Sequential(\n",
       "      (0): Linear(in_features=512, out_features=1000, bias=True)\n",
       "      (1): BatchNorm1d(1000, eps=1e-05, momentum=0.1, affine=True, track_running_stats=True)\n",
       "      (2): LeakyReLU(negative_slope=0.01)\n",
       "      (3): Dropout(p=0.5, inplace=False)\n",
       "      (4): Linear(in_features=1000, out_features=400, bias=True)\n",
       "      (5): BatchNorm1d(400, eps=1e-05, momentum=0.1, affine=True, track_running_stats=True)\n",
       "      (6): LeakyReLU(negative_slope=0.01)\n",
       "      (7): Dropout(p=0.5, inplace=False)\n",
       "      (8): Linear(in_features=400, out_features=20, bias=True)\n",
       "      (9): BatchNorm1d(20, eps=1e-05, momentum=0.1, affine=True, track_running_stats=True)\n",
       "      (10): LeakyReLU(negative_slope=0.01)\n",
       "      (11): Dropout(p=0.5, inplace=False)\n",
       "      (12): Linear(in_features=20, out_features=2, bias=True)\n",
       "    )\n",
       "  )\n",
       ")"
      ]
     },
     "execution_count": 18,
     "metadata": {},
     "output_type": "execute_result"
    }
   ],
   "source": [
    "embedder.eval()\n"
   ]
  },
  {
   "cell_type": "code",
   "execution_count": 19,
   "metadata": {},
   "outputs": [
    {
     "name": "stderr",
     "output_type": "stream",
     "text": [
      "/nobackup/users/sangeon/condas/anaconda3/envs/studies/lib/python3.8/site-packages/pytorch_lightning/core/datamodule.py:469: LightningDeprecationWarning: DataModule.setup has already been called, so it will not be called again. In v1.6 this behavior will change to always call DataModule.setup.\n",
      "  rank_zero_deprecation(\n",
      "LOCAL_RANK: 0 - CUDA_VISIBLE_DEVICES: [0]\n"
     ]
    },
    {
     "data": {
      "application/vnd.jupyter.widget-view+json": {
       "model_id": "b32251e06f4f483492536d533266b341",
       "version_major": 2,
       "version_minor": 0
      },
      "text/plain": [
       "Testing: 0it [00:00, ?it/s]"
      ]
     },
     "metadata": {},
     "output_type": "display_data"
    },
    {
     "name": "stdout",
     "output_type": "stream",
     "text": [
      "start\n",
      "--------------------------------------------------------------------------------\n",
      "DATALOADER:0 TEST RESULTS\n",
      "{}\n",
      "--------------------------------------------------------------------------------\n"
     ]
    },
    {
     "name": "stderr",
     "output_type": "stream",
     "text": [
      "/nobackup/users/sangeon/condas/anaconda3/envs/studies/lib/python3.8/site-packages/pytorch_lightning/core/datamodule.py:469: LightningDeprecationWarning: DataModule.teardown has already been called, so it will not be called again. In v1.6 this behavior will change to always call DataModule.teardown.\n",
      "  rank_zero_deprecation(\n"
     ]
    }
   ],
   "source": [
    "a = trainer.test(embedder, jetreal_dm)"
   ]
  },
  {
   "cell_type": "code",
   "execution_count": 20,
   "metadata": {},
   "outputs": [],
   "source": [
    "distortion = np.empty(0)\n",
    "for batch in embedder.distortion_measure:\n",
    "    distortion = np.concatenate([distortion,batch.cpu().numpy()])"
   ]
  },
  {
   "cell_type": "code",
   "execution_count": 21,
   "metadata": {},
   "outputs": [
    {
     "data": {
      "text/plain": [
       "array([0.30960119, 0.21462135, 0.04286816, ..., 0.0881576 , 0.053181  ,\n",
       "       0.26962981])"
      ]
     },
     "execution_count": 21,
     "metadata": {},
     "output_type": "execute_result"
    }
   ],
   "source": [
    "distortion"
   ]
  },
  {
   "cell_type": "code",
   "execution_count": 22,
   "metadata": {},
   "outputs": [
    {
     "data": {
      "text/plain": [
       "4.074134826660156"
      ]
     },
     "execution_count": 22,
     "metadata": {},
     "output_type": "execute_result"
    }
   ],
   "source": [
    "max(distortion)"
   ]
  },
  {
   "cell_type": "code",
   "execution_count": 23,
   "metadata": {},
   "outputs": [
    {
     "data": {
      "text/plain": [
       "0.0002864789275918156"
      ]
     },
     "execution_count": 23,
     "metadata": {},
     "output_type": "execute_result"
    }
   ],
   "source": [
    "min(distortion)"
   ]
  },
  {
   "cell_type": "code",
   "execution_count": 24,
   "metadata": {},
   "outputs": [
    {
     "data": {
      "text/plain": [
       "0.5464490924154748"
      ]
     },
     "execution_count": 24,
     "metadata": {},
     "output_type": "execute_result"
    }
   ],
   "source": [
    "np.mean(distortion)"
   ]
  },
  {
   "cell_type": "code",
   "execution_count": 25,
   "metadata": {},
   "outputs": [
    {
     "data": {
      "text/plain": [
       "Text(0.5, 1.0, 'Realistic Toy Jet')"
      ]
     },
     "execution_count": 25,
     "metadata": {},
     "output_type": "execute_result"
    },
    {
     "data": {
      "image/png": "[encoded data removed]",
      "text/plain": [
       "<Figure size 432x432 with 1 Axes>"
      ]
     },
     "metadata": {
      "needs_background": "light"
     },
     "output_type": "display_data"
    }
   ],
   "source": [
    "plt.hist(distortion, bins=np.arange(0,2,0.01),alpha=0.6, density=True,label='Realistic Toy Jet');\n",
    "\n",
    "plt.xlabel(\"Pairwise Ratio\")\n",
    "plt.ylabel(\"Density\")\n",
    "#plt.yscale('log')\n",
    "\n",
    "\n",
    "\n",
    "plt.title('Realistic Toy Jet')\n",
    "#plt.legend()\n",
    "#plt.savefig('../figures/paper/Distortion_RealisticToyJet_normalscale_v0.png')\n",
    "#plt.savefig('../figures/paper/Distortion_RealisticToyJet_normalscale_v0.pdf')"
   ]
  },
  {
   "cell_type": "code",
   "execution_count": null,
   "metadata": {},
   "outputs": [],
   "source": []
  },
  {
   "cell_type": "code",
   "execution_count": 48,
   "metadata": {},
   "outputs": [],
   "source": [
    "embedder = ManifoldEmbedder.load_from_checkpoint(\"../training/simulatedtoyjets_checkpoints/Transformer-paper-finaltuning-try14-epoch=00-val_loss=0.27.ckpt\")"
   ]
  },
  {
   "cell_type": "code",
   "execution_count": 49,
   "metadata": {},
   "outputs": [],
   "source": [
    "#train_file_list = []\n",
    "#val_file_list = []\n",
    "#test_file_list = []\n",
    "#predict_file_list = []\n",
    "\n",
    "#basedir = '/nobackup/users/sangeon/datasets/jetGridpack/jetpairs'\n",
    "\n",
    "#for file in os.listdir(basedir):\n",
    "#    if \"testDistortion\" in file:\n",
    "#        test_file_list.append(os.path.join(basedir,file))"
   ]
  },
  {
   "cell_type": "code",
   "execution_count": 50,
   "metadata": {},
   "outputs": [
    {
     "ename": "NameError",
     "evalue": "name 'test_file_list' is not defined",
     "output_type": "error",
     "traceback": [
      "\u001b[0;31m---------------------------------------------------------------------------\u001b[0m",
      "\u001b[0;31mNameError\u001b[0m                                 Traceback (most recent call last)",
      "\u001b[0;32m/tmp/ipykernel_476940/1219465812.py\u001b[0m in \u001b[0;36m<module>\u001b[0;34m\u001b[0m\n\u001b[0;32m----> 1\u001b[0;31m \u001b[0mtest_file_list\u001b[0m\u001b[0;34m[\u001b[0m\u001b[0;34m:\u001b[0m\u001b[0;36m3\u001b[0m\u001b[0;34m]\u001b[0m\u001b[0;34m\u001b[0m\u001b[0;34m\u001b[0m\u001b[0m\n\u001b[0m",
      "\u001b[0;31mNameError\u001b[0m: name 'test_file_list' is not defined"
     ]
    }
   ],
   "source": [
    "test_file_list[:3]"
   ]
  },
  {
   "cell_type": "code",
   "execution_count": 70,
   "metadata": {},
   "outputs": [],
   "source": [
    "#test_list = []\n",
    "#for file in test_file_list:\n",
    "#    test_list.append(torch.load(file))\n",
    "#jet_test = torch.utils.data.ConcatDataset(test_list)\n",
    "#torch.save(jet_test, os.path.join(basedir, 'Gridpack_jetpair_test_measureDistortion_16part.pt'))\n"
   ]
  },
  {
   "cell_type": "code",
   "execution_count": 51,
   "metadata": {},
   "outputs": [],
   "source": [
    "basedir_gridpack = '/nobackup/users/sangeon/datasets/jetGridpack/jetpairs'\n",
    "\n",
    "jetgridpack_dict = {'train':None,\n",
    "             'val':None,\n",
    "             'test':os.path.join(basedir_gridpack, 'Gridpack_jetpair_test_measureDistortion_16part.pt'),\n",
    "             'predict':None}\n",
    "\n",
    "\n",
    "#toyreal = torch.load(os.path.join(basedir_toyreal, 'realistic_jettest_measureDistortion_16part.pt'))\n",
    "\n",
    "\n",
    "jetgridpack_dm = JetDataModule(jetgridpack_dict,2500)\n"
   ]
  },
  {
   "cell_type": "code",
   "execution_count": 52,
   "metadata": {},
   "outputs": [
    {
     "name": "stderr",
     "output_type": "stream",
     "text": [
      "LOCAL_RANK: 0 - CUDA_VISIBLE_DEVICES: [0]\n"
     ]
    },
    {
     "data": {
      "application/vnd.jupyter.widget-view+json": {
       "model_id": "eacc9abb6757472e946167da2c18a128",
       "version_major": 2,
       "version_minor": 0
      },
      "text/plain": [
       "Testing: 0it [00:00, ?it/s]"
      ]
     },
     "metadata": {},
     "output_type": "display_data"
    },
    {
     "name": "stdout",
     "output_type": "stream",
     "text": [
      "start\n",
      "--------------------------------------------------------------------------------\n",
      "DATALOADER:0 TEST RESULTS\n",
      "{}\n",
      "--------------------------------------------------------------------------------\n"
     ]
    },
    {
     "data": {
      "text/plain": [
       "[{}]"
      ]
     },
     "execution_count": 52,
     "metadata": {},
     "output_type": "execute_result"
    }
   ],
   "source": [
    "trainer.test(embedder, jetgridpack_dm)"
   ]
  },
  {
   "cell_type": "code",
   "execution_count": null,
   "metadata": {},
   "outputs": [],
   "source": []
  },
  {
   "cell_type": "code",
   "execution_count": 55,
   "metadata": {},
   "outputs": [],
   "source": [
    "distortion = np.empty(0)\n",
    "for batch in embedder.distortion_measure:\n",
    "    distortion = np.concatenate([distortion,batch.cpu().numpy()])"
   ]
  },
  {
   "cell_type": "code",
   "execution_count": 57,
   "metadata": {},
   "outputs": [
    {
     "data": {
      "text/plain": [
       "0.7377644364058095"
      ]
     },
     "execution_count": 57,
     "metadata": {},
     "output_type": "execute_result"
    }
   ],
   "source": [
    "np.mean(distortion)"
   ]
  },
  {
   "cell_type": "code",
   "execution_count": 58,
   "metadata": {},
   "outputs": [
    {
     "data": {
      "text/plain": [
       "0.2304613132198867"
      ]
     },
     "execution_count": 58,
     "metadata": {},
     "output_type": "execute_result"
    }
   ],
   "source": [
    "np.std(distortion)"
   ]
  },
  {
   "cell_type": "code",
   "execution_count": 59,
   "metadata": {},
   "outputs": [],
   "source": [
    "normratio = distortion/np.mean(distortion)"
   ]
  },
  {
   "cell_type": "code",
   "execution_count": null,
   "metadata": {},
   "outputs": [],
   "source": []
  },
  {
   "cell_type": "code",
   "execution_count": null,
   "metadata": {},
   "outputs": [],
   "source": []
  },
  {
   "cell_type": "code",
   "execution_count": 104,
   "metadata": {},
   "outputs": [
    {
     "data": {
      "image/png": "[encoded data removed]",
      "text/plain": [
       "<Figure size 432x432 with 1 Axes>"
      ]
     },
     "metadata": {
      "needs_background": "light"
     },
     "output_type": "display_data"
    }
   ],
   "source": [
    "fig = plt.figure()\n",
    "ax = fig.add_subplot(1,1,1)\n",
    "ax.hist(distortion, bins=np.arange(0,2,0.015),alpha=0.8, density=True,label='Simulated Jet')\n",
    "ax.text(0.65, 0.9, f'mean:{np.mean(distortion):.4f}', horizontalalignment='left', verticalalignment='center', transform=ax.transAxes)\n",
    "ax.text(0.65, 0.8, fr'$\\sigma$-score:{np.var(normratio):.4f}', horizontalalignment='left', verticalalignment='center', transform=ax.transAxes)\n",
    "ax.axvline(1.0, c='red')\n",
    "ax.set_xlabel(\"Pairwise Ratio\")\n",
    "ax.set_ylabel(\"Density\")\n",
    "#plt.yscale('log')\n",
    "ax.set_title('Simulated Jet')\n",
    "#ax.legend()\n",
    "plt.savefig('../figures/paper/Distortion_SimulatedJet_Final_v0.png')\n",
    "plt.savefig('../figures/paper/Distortion_SimulatedJet_Final_v0.pdf')"
   ]
  },
  {
   "cell_type": "code",
   "execution_count": 61,
   "metadata": {},
   "outputs": [
    {
     "data": {
      "text/plain": [
       "<matplotlib.legend.Legend at 0x20010c139310>"
      ]
     },
     "execution_count": 61,
     "metadata": {},
     "output_type": "execute_result"
    },
    {
     "data": {
      "image/png": "[encoded data removed]",
      "text/plain": [
       "<Figure size 432x432 with 1 Axes>"
      ]
     },
     "metadata": {
      "needs_background": "light"
     },
     "output_type": "display_data"
    }
   ],
   "source": [
    "plt.hist(normratio, bins=np.arange(0,3,0.01),alpha=0.8, density=True,label='Simulated Jet')\n",
    "\n",
    "plt.xlabel(\"Pairwise Ratio\")\n",
    "plt.ylabel(\"Density\")\n",
    "#plt.yscale('log')\n",
    "#plt.title('Distortion Simulated Jet')\n",
    "plt.legend()"
   ]
  },
  {
   "cell_type": "code",
   "execution_count": 91,
   "metadata": {},
   "outputs": [],
   "source": [
    "interpolate_test_file_list = []\n",
    "\n",
    "basedir = '/nobackup/users/sangeon/datasets/jetGridpack/jetpairs'\n",
    "\n",
    "for file in os.listdir(basedir):\n",
    "    if \"interpolateDistortion\" in file:\n",
    "        interpolate_test_file_list.append(os.path.join(basedir,file))"
   ]
  },
  {
   "cell_type": "code",
   "execution_count": 92,
   "metadata": {},
   "outputs": [
    {
     "data": {
      "text/plain": [
       "['/nobackup/users/sangeon/datasets/jetGridpack/jetpairs/Gridpack_jetpair_interpolateDistortion_16part_18.pt',\n",
       " '/nobackup/users/sangeon/datasets/jetGridpack/jetpairs/Gridpack_jetpair_interpolateDistortion_16part_5.pt',\n",
       " '/nobackup/users/sangeon/datasets/jetGridpack/jetpairs/Gridpack_jetpair_interpolateDistortion_16part_13.pt',\n",
       " '/nobackup/users/sangeon/datasets/jetGridpack/jetpairs/Gridpack_jetpair_interpolateDistortion_16part_19.pt',\n",
       " '/nobackup/users/sangeon/datasets/jetGridpack/jetpairs/Gridpack_jetpair_interpolateDistortion_16part_9.pt',\n",
       " '/nobackup/users/sangeon/datasets/jetGridpack/jetpairs/Gridpack_jetpair_interpolateDistortion_16part_7.pt',\n",
       " '/nobackup/users/sangeon/datasets/jetGridpack/jetpairs/Gridpack_jetpair_interpolateDistortion_16part_23.pt',\n",
       " '/nobackup/users/sangeon/datasets/jetGridpack/jetpairs/Gridpack_jetpair_interpolateDistortion_16part_11.pt',\n",
       " '/nobackup/users/sangeon/datasets/jetGridpack/jetpairs/Gridpack_jetpair_interpolateDistortion_16part_17.pt',\n",
       " '/nobackup/users/sangeon/datasets/jetGridpack/jetpairs/Gridpack_jetpair_interpolateDistortion_16part_10.pt',\n",
       " '/nobackup/users/sangeon/datasets/jetGridpack/jetpairs/Gridpack_jetpair_interpolateDistortion_16part_8.pt',\n",
       " '/nobackup/users/sangeon/datasets/jetGridpack/jetpairs/Gridpack_jetpair_interpolateDistortion_16part_4.pt',\n",
       " '/nobackup/users/sangeon/datasets/jetGridpack/jetpairs/Gridpack_jetpair_interpolateDistortion_16part_21.pt',\n",
       " '/nobackup/users/sangeon/datasets/jetGridpack/jetpairs/Gridpack_jetpair_interpolateDistortion_16part_24.pt',\n",
       " '/nobackup/users/sangeon/datasets/jetGridpack/jetpairs/Gridpack_jetpair_interpolateDistortion_16part_3.pt',\n",
       " '/nobackup/users/sangeon/datasets/jetGridpack/jetpairs/Gridpack_jetpair_interpolateDistortion_16part_22.pt',\n",
       " '/nobackup/users/sangeon/datasets/jetGridpack/jetpairs/Gridpack_jetpair_interpolateDistortion_16part_20.pt',\n",
       " '/nobackup/users/sangeon/datasets/jetGridpack/jetpairs/Gridpack_jetpair_interpolateDistortion_16part_15.pt',\n",
       " '/nobackup/users/sangeon/datasets/jetGridpack/jetpairs/Gridpack_jetpair_interpolateDistortion_16part_6.pt',\n",
       " '/nobackup/users/sangeon/datasets/jetGridpack/jetpairs/Gridpack_jetpair_interpolateDistortion_16part_2.pt',\n",
       " '/nobackup/users/sangeon/datasets/jetGridpack/jetpairs/Gridpack_jetpair_interpolateDistortion_16part_14.pt',\n",
       " '/nobackup/users/sangeon/datasets/jetGridpack/jetpairs/Gridpack_jetpair_interpolateDistortion_16part_1.pt',\n",
       " '/nobackup/users/sangeon/datasets/jetGridpack/jetpairs/Gridpack_jetpair_interpolateDistortion_16part_12.pt',\n",
       " '/nobackup/users/sangeon/datasets/jetGridpack/jetpairs/Gridpack_jetpair_interpolateDistortion_16part_0.pt',\n",
       " '/nobackup/users/sangeon/datasets/jetGridpack/jetpairs/Gridpack_jetpair_interpolateDistortion_16part_16.pt']"
      ]
     },
     "execution_count": 92,
     "metadata": {},
     "output_type": "execute_result"
    }
   ],
   "source": [
    "interpolate_test_file_list"
   ]
  },
  {
   "cell_type": "code",
   "execution_count": 93,
   "metadata": {},
   "outputs": [],
   "source": [
    "interpolate_list = []\n",
    "for file in interpolate_test_file_list:\n",
    "    interpolate_list.append(torch.load(file))\n",
    "jet_test = torch.utils.data.ConcatDataset(interpolate_list)\n",
    "torch.save(jet_test, os.path.join(basedir, 'Gridpack_jetpair_test_interpolateDistortion_16part.pt'))\n"
   ]
  },
  {
   "cell_type": "code",
   "execution_count": 94,
   "metadata": {},
   "outputs": [],
   "source": [
    "basedir_gridpack = '/nobackup/users/sangeon/datasets/jetGridpack/jetpairs'\n",
    "\n",
    "jetgridpack_dict = {'train':None,\n",
    "             'val':None,\n",
    "             'test':os.path.join(basedir_gridpack, 'Gridpack_jetpair_test_interpolateDistortion_16part.pt'),\n",
    "             'predict':None}\n",
    "\n",
    "\n",
    "#toyreal = torch.load(os.path.join(basedir_toyreal, 'realistic_jettest_measureDistortion_16part.pt'))\n",
    "\n",
    "\n",
    "jetgridpack_dm = JetDataModule(jetgridpack_dict,2500)\n"
   ]
  },
  {
   "cell_type": "code",
   "execution_count": 95,
   "metadata": {},
   "outputs": [
    {
     "name": "stderr",
     "output_type": "stream",
     "text": [
      "LOCAL_RANK: 0 - CUDA_VISIBLE_DEVICES: [0]\n"
     ]
    },
    {
     "data": {
      "application/vnd.jupyter.widget-view+json": {
       "model_id": "7a36165f9b164df0be3e436d441ae40c",
       "version_major": 2,
       "version_minor": 0
      },
      "text/plain": [
       "Testing: 0it [00:00, ?it/s]"
      ]
     },
     "metadata": {},
     "output_type": "display_data"
    },
    {
     "name": "stdout",
     "output_type": "stream",
     "text": [
      "start\n",
      "--------------------------------------------------------------------------------\n",
      "DATALOADER:0 TEST RESULTS\n",
      "{}\n",
      "--------------------------------------------------------------------------------\n"
     ]
    },
    {
     "data": {
      "text/plain": [
       "[{}]"
      ]
     },
     "execution_count": 95,
     "metadata": {},
     "output_type": "execute_result"
    }
   ],
   "source": [
    "trainer.test(embedder, jetgridpack_dm)"
   ]
  },
  {
   "cell_type": "code",
   "execution_count": 98,
   "metadata": {},
   "outputs": [],
   "source": [
    "distortion2 = np.empty(0)\n",
    "for batch in embedder.distortion_measure:\n",
    "    distortion2 = np.concatenate([distortion2,batch.cpu().numpy()])"
   ]
  },
  {
   "cell_type": "code",
   "execution_count": 100,
   "metadata": {},
   "outputs": [],
   "source": [
    "normratio2 = distortion2/np.mean(distortion2)"
   ]
  },
  {
   "cell_type": "code",
   "execution_count": 102,
   "metadata": {},
   "outputs": [
    {
     "data": {
      "text/plain": [
       "0.9999999999999997"
      ]
     },
     "execution_count": 102,
     "metadata": {},
     "output_type": "execute_result"
    }
   ],
   "source": [
    "np.mean(normratio2)"
   ]
  },
  {
   "cell_type": "code",
   "execution_count": 103,
   "metadata": {},
   "outputs": [
    {
     "data": {
      "text/plain": [
       "Text(0.5, 1.0, 'Simulated Jet - Interpolate')"
      ]
     },
     "execution_count": 103,
     "metadata": {},
     "output_type": "execute_result"
    },
    {
     "data": {
      "image/png": "[encoded data removed]",
      "text/plain": [
       "<Figure size 432x432 with 1 Axes>"
      ]
     },
     "metadata": {
      "needs_background": "light"
     },
     "output_type": "display_data"
    }
   ],
   "source": [
    "fig = plt.figure()\n",
    "ax = fig.add_subplot(1,1,1)\n",
    "ax.hist(distortion2, bins=np.arange(0,2,0.015),alpha=0.8, density=True,label='Simulated Jet')\n",
    "ax.text(0.65, 0.9, f'mean:{np.mean(distortion2):.4f}', horizontalalignment='left', verticalalignment='center', transform=ax.transAxes)\n",
    "ax.text(0.65, 0.8, fr'$\\sigma$-score:{np.var(normratio2):.4f}', horizontalalignment='left', verticalalignment='center', transform=ax.transAxes)\n",
    "ax.axvline(1.0, c='red')\n",
    "ax.set_xlabel(\"Pairwise Ratio\")\n",
    "ax.set_ylabel(\"Density\")\n",
    "#plt.yscale('log')\n",
    "ax.set_title('Simulated Jet - Interpolate')\n",
    "#ax.legend()\n",
    "#plt.savefig('../figures/paper/Distortion_SimulatedJet_normalscale.png')\n",
    "#plt.savefig('../figures/paper/Distortion_SimulatedJet_normalscale.pdf')"
   ]
  },
  {
   "cell_type": "code",
   "execution_count": null,
   "metadata": {},
   "outputs": [],
   "source": []
  }
 ],
 "metadata": {
  "kernelspec": {
   "display_name": "studies",
   "language": "python",
   "name": "studies"
  },
  "language_info": {
   "codemirror_mode": {
    "name": "ipython",
    "version": 3
   },
   "file_extension": ".py",
   "mimetype": "text/x-python",
   "name": "python",
   "nbconvert_exporter": "python",
   "pygments_lexer": "ipython3",
   "version": "3.8.12"
  }
 },
 "nbformat": 4,
 "nbformat_minor": 4
}
