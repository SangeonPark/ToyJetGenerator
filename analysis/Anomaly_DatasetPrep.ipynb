{
 "cells": [
  {
   "cell_type": "code",
   "execution_count": 1,
   "metadata": {},
   "outputs": [],
   "source": [
    "%load_ext autoreload\n",
    "%autoreload 2\n"
   ]
  },
  {
   "cell_type": "code",
   "execution_count": 2,
   "metadata": {},
   "outputs": [],
   "source": [
    "import os\n",
    "import pandas as pd\n",
    "import numpy as np"
   ]
  },
  {
   "cell_type": "code",
   "execution_count": 3,
   "metadata": {},
   "outputs": [],
   "source": [
    "from anomalymodels import *"
   ]
  },
  {
   "cell_type": "code",
   "execution_count": 4,
   "metadata": {},
   "outputs": [],
   "source": [
    "QCDdir   = '/nobackup/users/sangeon/datasets/jetGridpack/rawjets/QCD'\n",
    "sigprior = '/nobackup/users/sangeon/datasets/jetGridpack/rawjets/2p'"
   ]
  },
  {
   "cell_type": "code",
   "execution_count": 5,
   "metadata": {},
   "outputs": [],
   "source": [
    "df_train = pd.read_hdf(os.path.join(QCDdir, 'QCD_train.h5'))\n",
    "results = df_train.values\n",
    "dataset = SingleJetDataset(False, None, False, results, np.zeros(results.shape[0]), 16)\n",
    "torch.save(dataset, f'/nobackup/users/sangeon/datasets/jetGridpack/jetanomaly/autoencoder_train.pt')"
   ]
  },
  {
   "cell_type": "code",
   "execution_count": 7,
   "metadata": {},
   "outputs": [],
   "source": [
    "df_val = pd.read_hdf(os.path.join(QCDdir, 'QCD_val.h5'))\n",
    "results = df_val.values\n",
    "dataset = SingleJetDataset(False, None, False, results, np.zeros(results.shape[0]), 16)\n",
    "torch.save(dataset, f'/nobackup/users/sangeon/datasets/jetGridpack/jetanomaly/autoencoder_val.pt')"
   ]
  },
  {
   "cell_type": "code",
   "execution_count": 6,
   "metadata": {},
   "outputs": [
    {
     "name": "stderr",
     "output_type": "stream",
     "text": [
      "/home/sangeon/ToyJetGenerator/analysis/anomalymodels.py:181: RuntimeWarning: Degrees of freedom <= 0 for slice\n",
      "  cov_mat = np.cov(evt[:3*num_part].reshape(-1,3)[:, 1:3], aweights=evt[:3*num_part].reshape(-1,3)[:, 0] , rowvar=False)\n",
      "/nobackup/users/sangeon/condas/anaconda3/envs/studies/lib/python3.8/site-packages/numpy/lib/function_base.py:2542: RuntimeWarning: divide by zero encountered in true_divide\n",
      "  c *= np.true_divide(1, fact)\n",
      "/nobackup/users/sangeon/condas/anaconda3/envs/studies/lib/python3.8/site-packages/numpy/lib/function_base.py:2542: RuntimeWarning: invalid value encountered in multiply\n",
      "  c *= np.true_divide(1, fact)\n"
     ]
    }
   ],
   "source": [
    "df_predict = pd.read_hdf(os.path.join(QCDdir, 'QCD_predict.h5'))\n",
    "results = df_predict.values\n",
    "dataset = SingleJetDataset(False, None, False, results, np.zeros(results.shape[0]), 16)\n",
    "torch.save(dataset, f'/nobackup/users/sangeon/datasets/jetGridpack/jetanomaly/autoencoder_predict.pt')"
   ]
  },
  {
   "cell_type": "code",
   "execution_count": 9,
   "metadata": {},
   "outputs": [],
   "source": [
    "df_2p = pd.read_hdf(os.path.join(sigprior, 'twoprong_170.h5'))"
   ]
  },
  {
   "cell_type": "code",
   "execution_count": 10,
   "metadata": {},
   "outputs": [],
   "source": [
    "dt_2p = df_2p.values"
   ]
  },
  {
   "cell_type": "code",
   "execution_count": 12,
   "metadata": {},
   "outputs": [
    {
     "data": {
      "text/plain": [
       "(1588303, 54)"
      ]
     },
     "execution_count": 12,
     "metadata": {},
     "output_type": "execute_result"
    }
   ],
   "source": [
    "dt_2p.shape"
   ]
  },
  {
   "cell_type": "code",
   "execution_count": 14,
   "metadata": {},
   "outputs": [],
   "source": [
    "twop_train = dt_2p[:1000000]\n",
    "twop_val   = dt_2p[1000000:1200000]\n",
    "twop_predict  = dt_2p[1200000:1500000]"
   ]
  },
  {
   "cell_type": "code",
   "execution_count": 15,
   "metadata": {},
   "outputs": [],
   "source": [
    "df_train = pd.read_hdf(os.path.join(QCDdir, 'QCD_train.h5'))\n",
    "df_val = pd.read_hdf(os.path.join(QCDdir, 'QCD_val.h5'))\n",
    "df_predict = pd.read_hdf(os.path.join(QCDdir, 'QCD_predict.h5'))\n"
   ]
  },
  {
   "cell_type": "code",
   "execution_count": 16,
   "metadata": {},
   "outputs": [],
   "source": [
    "qcd_train = df_train.values\n",
    "qcd_val = df_val.values\n",
    "qcd_predict = df_predict.values"
   ]
  },
  {
   "cell_type": "code",
   "execution_count": 18,
   "metadata": {},
   "outputs": [],
   "source": [
    "qcd_predict = qcd_predict[:300000]"
   ]
  },
  {
   "cell_type": "code",
   "execution_count": 21,
   "metadata": {},
   "outputs": [],
   "source": [
    "trainset = np.vstack([qcd_train, twop_train])\n",
    "trainlabel = np.concatenate([np.zeros(qcd_train.shape[0]),np.ones(twop_train.shape[0])])"
   ]
  },
  {
   "cell_type": "code",
   "execution_count": 22,
   "metadata": {},
   "outputs": [],
   "source": [
    "valset = np.vstack([qcd_val, twop_val])\n",
    "vallabel = np.concatenate([np.zeros(qcd_val.shape[0]),np.ones(twop_val.shape[0])])"
   ]
  },
  {
   "cell_type": "code",
   "execution_count": 23,
   "metadata": {},
   "outputs": [],
   "source": [
    "predictset = np.vstack([qcd_predict, twop_predict])\n",
    "predictlabel = np.concatenate([np.zeros(qcd_predict.shape[0]),np.ones(twop_predict.shape[0])])"
   ]
  },
  {
   "cell_type": "code",
   "execution_count": 24,
   "metadata": {},
   "outputs": [],
   "source": [
    "dataset = SingleJetDataset(False, None, False, trainset, trainlabel, 16)\n",
    "torch.save(dataset, f'/nobackup/users/sangeon/datasets/jetGridpack/jetanomaly/mlp_train.pt')"
   ]
  },
  {
   "cell_type": "code",
   "execution_count": 26,
   "metadata": {},
   "outputs": [],
   "source": [
    "dataset = SingleJetDataset(False, None, False, valset, vallabel, 16)\n",
    "torch.save(dataset, f'/nobackup/users/sangeon/datasets/jetGridpack/jetanomaly/mlp_val.pt')"
   ]
  },
  {
   "cell_type": "code",
   "execution_count": 25,
   "metadata": {},
   "outputs": [],
   "source": [
    "dataset = SingleJetDataset(False, None, False, predictset, predictlabel, 16)\n",
    "torch.save(dataset, f'/nobackup/users/sangeon/datasets/jetGridpack/jetanomaly/mlp_predict.pt')"
   ]
  },
  {
   "cell_type": "code",
   "execution_count": null,
   "metadata": {},
   "outputs": [],
   "source": []
  }
 ],
 "metadata": {
  "kernelspec": {
   "display_name": "studies",
   "language": "python",
   "name": "studies"
  },
  "language_info": {
   "codemirror_mode": {
    "name": "ipython",
    "version": 3
   },
   "file_extension": ".py",
   "mimetype": "text/x-python",
   "name": "python",
   "nbconvert_exporter": "python",
   "pygments_lexer": "ipython3",
   "version": "3.8.12"
  }
 },
 "nbformat": 4,
 "nbformat_minor": 4
}
